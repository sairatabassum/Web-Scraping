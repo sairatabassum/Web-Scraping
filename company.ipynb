{
 "cells": [
  {
   "cell_type": "code",
   "execution_count": 112,
   "id": "9113e5c0",
   "metadata": {},
   "outputs": [],
   "source": [
    "import requests\n",
    "from bs4 import BeautifulSoup"
   ]
  },
  {
   "cell_type": "code",
   "execution_count": 177,
   "id": "37970589",
   "metadata": {},
   "outputs": [
    {
     "name": "stdout",
     "output_type": "stream",
     "text": [
      "https://exhibitors.gitex.com/gitex-global-2023/Exhibitor/ExbDetails/MTk2Nw==\n"
     ]
    },
    {
     "name": "stderr",
     "output_type": "stream",
     "text": [
      "C:\\Users\\saira\\anaconda3\\Lib\\site-packages\\urllib3\\connectionpool.py:1056: InsecureRequestWarning: Unverified HTTPS request is being made to host 'exhibitors.gitex.com'. Adding certificate verification is strongly advised. See: https://urllib3.readthedocs.io/en/1.26.x/advanced-usage.html#ssl-warnings\n",
      "  warnings.warn(\n"
     ]
    },
    {
     "name": "stdout",
     "output_type": "stream",
     "text": [
      "https://exhibitors.gitex.com/gitex-global-2023/Exhibitor/ExbDetails/MTAyMg==\n"
     ]
    },
    {
     "name": "stderr",
     "output_type": "stream",
     "text": [
      "C:\\Users\\saira\\anaconda3\\Lib\\site-packages\\urllib3\\connectionpool.py:1056: InsecureRequestWarning: Unverified HTTPS request is being made to host 'exhibitors.gitex.com'. Adding certificate verification is strongly advised. See: https://urllib3.readthedocs.io/en/1.26.x/advanced-usage.html#ssl-warnings\n",
      "  warnings.warn(\n"
     ]
    },
    {
     "name": "stdout",
     "output_type": "stream",
     "text": [
      "https://exhibitors.gitex.com/gitex-global-2023/Exhibitor/ExbDetails/MTUzOA==\n"
     ]
    },
    {
     "name": "stderr",
     "output_type": "stream",
     "text": [
      "C:\\Users\\saira\\anaconda3\\Lib\\site-packages\\urllib3\\connectionpool.py:1056: InsecureRequestWarning: Unverified HTTPS request is being made to host 'exhibitors.gitex.com'. Adding certificate verification is strongly advised. See: https://urllib3.readthedocs.io/en/1.26.x/advanced-usage.html#ssl-warnings\n",
      "  warnings.warn(\n"
     ]
    },
    {
     "name": "stdout",
     "output_type": "stream",
     "text": [
      "https://exhibitors.gitex.com/gitex-global-2023/Exhibitor/ExbDetails/MTAxOA==\n"
     ]
    },
    {
     "name": "stderr",
     "output_type": "stream",
     "text": [
      "C:\\Users\\saira\\anaconda3\\Lib\\site-packages\\urllib3\\connectionpool.py:1056: InsecureRequestWarning: Unverified HTTPS request is being made to host 'exhibitors.gitex.com'. Adding certificate verification is strongly advised. See: https://urllib3.readthedocs.io/en/1.26.x/advanced-usage.html#ssl-warnings\n",
      "  warnings.warn(\n"
     ]
    },
    {
     "name": "stdout",
     "output_type": "stream",
     "text": [
      "https://exhibitors.gitex.com/gitex-global-2023/Exhibitor/ExbDetails/MTQyOQ==\n"
     ]
    },
    {
     "name": "stderr",
     "output_type": "stream",
     "text": [
      "C:\\Users\\saira\\anaconda3\\Lib\\site-packages\\urllib3\\connectionpool.py:1056: InsecureRequestWarning: Unverified HTTPS request is being made to host 'exhibitors.gitex.com'. Adding certificate verification is strongly advised. See: https://urllib3.readthedocs.io/en/1.26.x/advanced-usage.html#ssl-warnings\n",
      "  warnings.warn(\n"
     ]
    },
    {
     "name": "stdout",
     "output_type": "stream",
     "text": [
      "https://exhibitors.gitex.com/gitex-global-2023/Exhibitor/ExbDetails/MTY3Mw==\n"
     ]
    },
    {
     "name": "stderr",
     "output_type": "stream",
     "text": [
      "C:\\Users\\saira\\anaconda3\\Lib\\site-packages\\urllib3\\connectionpool.py:1056: InsecureRequestWarning: Unverified HTTPS request is being made to host 'exhibitors.gitex.com'. Adding certificate verification is strongly advised. See: https://urllib3.readthedocs.io/en/1.26.x/advanced-usage.html#ssl-warnings\n",
      "  warnings.warn(\n"
     ]
    },
    {
     "name": "stdout",
     "output_type": "stream",
     "text": [
      "https://exhibitors.gitex.com/gitex-global-2023/Exhibitor/ExbDetails/MTY3Mg==\n"
     ]
    },
    {
     "name": "stderr",
     "output_type": "stream",
     "text": [
      "C:\\Users\\saira\\anaconda3\\Lib\\site-packages\\urllib3\\connectionpool.py:1056: InsecureRequestWarning: Unverified HTTPS request is being made to host 'exhibitors.gitex.com'. Adding certificate verification is strongly advised. See: https://urllib3.readthedocs.io/en/1.26.x/advanced-usage.html#ssl-warnings\n",
      "  warnings.warn(\n"
     ]
    },
    {
     "name": "stdout",
     "output_type": "stream",
     "text": [
      "https://exhibitors.gitex.com/gitex-global-2023/Exhibitor/ExbDetails/MjkxMQ==\n"
     ]
    },
    {
     "name": "stderr",
     "output_type": "stream",
     "text": [
      "C:\\Users\\saira\\anaconda3\\Lib\\site-packages\\urllib3\\connectionpool.py:1056: InsecureRequestWarning: Unverified HTTPS request is being made to host 'exhibitors.gitex.com'. Adding certificate verification is strongly advised. See: https://urllib3.readthedocs.io/en/1.26.x/advanced-usage.html#ssl-warnings\n",
      "  warnings.warn(\n"
     ]
    },
    {
     "name": "stdout",
     "output_type": "stream",
     "text": [
      "https://exhibitors.gitex.com/gitex-global-2023/Exhibitor/ExbDetails/OTcx\n"
     ]
    },
    {
     "name": "stderr",
     "output_type": "stream",
     "text": [
      "C:\\Users\\saira\\anaconda3\\Lib\\site-packages\\urllib3\\connectionpool.py:1056: InsecureRequestWarning: Unverified HTTPS request is being made to host 'exhibitors.gitex.com'. Adding certificate verification is strongly advised. See: https://urllib3.readthedocs.io/en/1.26.x/advanced-usage.html#ssl-warnings\n",
      "  warnings.warn(\n"
     ]
    },
    {
     "name": "stdout",
     "output_type": "stream",
     "text": [
      "https://exhibitors.gitex.com/gitex-global-2023/Exhibitor/ExbDetails/NjYz\n"
     ]
    },
    {
     "name": "stderr",
     "output_type": "stream",
     "text": [
      "C:\\Users\\saira\\anaconda3\\Lib\\site-packages\\urllib3\\connectionpool.py:1056: InsecureRequestWarning: Unverified HTTPS request is being made to host 'exhibitors.gitex.com'. Adding certificate verification is strongly advised. See: https://urllib3.readthedocs.io/en/1.26.x/advanced-usage.html#ssl-warnings\n",
      "  warnings.warn(\n"
     ]
    },
    {
     "name": "stdout",
     "output_type": "stream",
     "text": [
      "https://exhibitors.gitex.com/gitex-global-2023/Exhibitor/ExbDetails/NDA0\n"
     ]
    },
    {
     "name": "stderr",
     "output_type": "stream",
     "text": [
      "C:\\Users\\saira\\anaconda3\\Lib\\site-packages\\urllib3\\connectionpool.py:1056: InsecureRequestWarning: Unverified HTTPS request is being made to host 'exhibitors.gitex.com'. Adding certificate verification is strongly advised. See: https://urllib3.readthedocs.io/en/1.26.x/advanced-usage.html#ssl-warnings\n",
      "  warnings.warn(\n"
     ]
    },
    {
     "name": "stdout",
     "output_type": "stream",
     "text": [
      "https://exhibitors.gitex.com/gitex-global-2023/Exhibitor/ExbDetails/Mjg4Mw==\n"
     ]
    },
    {
     "name": "stderr",
     "output_type": "stream",
     "text": [
      "C:\\Users\\saira\\anaconda3\\Lib\\site-packages\\urllib3\\connectionpool.py:1056: InsecureRequestWarning: Unverified HTTPS request is being made to host 'exhibitors.gitex.com'. Adding certificate verification is strongly advised. See: https://urllib3.readthedocs.io/en/1.26.x/advanced-usage.html#ssl-warnings\n",
      "  warnings.warn(\n"
     ]
    },
    {
     "name": "stdout",
     "output_type": "stream",
     "text": [
      "https://exhibitors.gitex.com/gitex-global-2023/Exhibitor/ExbDetails/MTAyNQ==\n"
     ]
    },
    {
     "name": "stderr",
     "output_type": "stream",
     "text": [
      "C:\\Users\\saira\\anaconda3\\Lib\\site-packages\\urllib3\\connectionpool.py:1056: InsecureRequestWarning: Unverified HTTPS request is being made to host 'exhibitors.gitex.com'. Adding certificate verification is strongly advised. See: https://urllib3.readthedocs.io/en/1.26.x/advanced-usage.html#ssl-warnings\n",
      "  warnings.warn(\n"
     ]
    },
    {
     "name": "stdout",
     "output_type": "stream",
     "text": [
      "https://exhibitors.gitex.com/gitex-global-2023/Exhibitor/ExbDetails/NjYy\n"
     ]
    },
    {
     "name": "stderr",
     "output_type": "stream",
     "text": [
      "C:\\Users\\saira\\anaconda3\\Lib\\site-packages\\urllib3\\connectionpool.py:1056: InsecureRequestWarning: Unverified HTTPS request is being made to host 'exhibitors.gitex.com'. Adding certificate verification is strongly advised. See: https://urllib3.readthedocs.io/en/1.26.x/advanced-usage.html#ssl-warnings\n",
      "  warnings.warn(\n"
     ]
    },
    {
     "name": "stdout",
     "output_type": "stream",
     "text": [
      "https://exhibitors.gitex.com/gitex-global-2023/Exhibitor/ExbDetails/MTMyNg==\n"
     ]
    },
    {
     "name": "stderr",
     "output_type": "stream",
     "text": [
      "C:\\Users\\saira\\anaconda3\\Lib\\site-packages\\urllib3\\connectionpool.py:1056: InsecureRequestWarning: Unverified HTTPS request is being made to host 'exhibitors.gitex.com'. Adding certificate verification is strongly advised. See: https://urllib3.readthedocs.io/en/1.26.x/advanced-usage.html#ssl-warnings\n",
      "  warnings.warn(\n"
     ]
    },
    {
     "name": "stdout",
     "output_type": "stream",
     "text": [
      "https://exhibitors.gitex.com/gitex-global-2023/Exhibitor/ExbDetails/MTA5Mw==\n"
     ]
    },
    {
     "name": "stderr",
     "output_type": "stream",
     "text": [
      "C:\\Users\\saira\\anaconda3\\Lib\\site-packages\\urllib3\\connectionpool.py:1056: InsecureRequestWarning: Unverified HTTPS request is being made to host 'exhibitors.gitex.com'. Adding certificate verification is strongly advised. See: https://urllib3.readthedocs.io/en/1.26.x/advanced-usage.html#ssl-warnings\n",
      "  warnings.warn(\n",
      "C:\\Users\\saira\\anaconda3\\Lib\\site-packages\\urllib3\\connectionpool.py:1056: InsecureRequestWarning: Unverified HTTPS request is being made to host 'exhibitors.gitex.com'. Adding certificate verification is strongly advised. See: https://urllib3.readthedocs.io/en/1.26.x/advanced-usage.html#ssl-warnings\n",
      "  warnings.warn(\n"
     ]
    },
    {
     "name": "stdout",
     "output_type": "stream",
     "text": [
      "https://exhibitors.gitex.com/gitex-global-2023/Exhibitor/ExbDetails/OTYw\n",
      "https://exhibitors.gitex.com/gitex-global-2023/Exhibitor/ExbDetails/NzA0\n"
     ]
    },
    {
     "name": "stderr",
     "output_type": "stream",
     "text": [
      "C:\\Users\\saira\\anaconda3\\Lib\\site-packages\\urllib3\\connectionpool.py:1056: InsecureRequestWarning: Unverified HTTPS request is being made to host 'exhibitors.gitex.com'. Adding certificate verification is strongly advised. See: https://urllib3.readthedocs.io/en/1.26.x/advanced-usage.html#ssl-warnings\n",
      "  warnings.warn(\n"
     ]
    },
    {
     "name": "stdout",
     "output_type": "stream",
     "text": [
      "https://exhibitors.gitex.com/gitex-global-2023/Exhibitor/ExbDetails/MTEwOQ==\n"
     ]
    },
    {
     "name": "stderr",
     "output_type": "stream",
     "text": [
      "C:\\Users\\saira\\anaconda3\\Lib\\site-packages\\urllib3\\connectionpool.py:1056: InsecureRequestWarning: Unverified HTTPS request is being made to host 'exhibitors.gitex.com'. Adding certificate verification is strongly advised. See: https://urllib3.readthedocs.io/en/1.26.x/advanced-usage.html#ssl-warnings\n",
      "  warnings.warn(\n"
     ]
    },
    {
     "name": "stdout",
     "output_type": "stream",
     "text": [
      "https://exhibitors.gitex.com/gitex-global-2023/Exhibitor/ExbDetails/MTcyOQ==\n"
     ]
    },
    {
     "name": "stderr",
     "output_type": "stream",
     "text": [
      "C:\\Users\\saira\\anaconda3\\Lib\\site-packages\\urllib3\\connectionpool.py:1056: InsecureRequestWarning: Unverified HTTPS request is being made to host 'exhibitors.gitex.com'. Adding certificate verification is strongly advised. See: https://urllib3.readthedocs.io/en/1.26.x/advanced-usage.html#ssl-warnings\n",
      "  warnings.warn(\n",
      "C:\\Users\\saira\\anaconda3\\Lib\\site-packages\\urllib3\\connectionpool.py:1056: InsecureRequestWarning: Unverified HTTPS request is being made to host 'exhibitors.gitex.com'. Adding certificate verification is strongly advised. See: https://urllib3.readthedocs.io/en/1.26.x/advanced-usage.html#ssl-warnings\n",
      "  warnings.warn(\n"
     ]
    },
    {
     "name": "stdout",
     "output_type": "stream",
     "text": [
      "https://exhibitors.gitex.com/gitex-global-2023/Exhibitor/ExbDetails/MTcxNA==\n",
      "https://exhibitors.gitex.com/gitex-global-2023/Exhibitor/ExbDetails/MTEwMQ==\n"
     ]
    },
    {
     "name": "stderr",
     "output_type": "stream",
     "text": [
      "C:\\Users\\saira\\anaconda3\\Lib\\site-packages\\urllib3\\connectionpool.py:1056: InsecureRequestWarning: Unverified HTTPS request is being made to host 'exhibitors.gitex.com'. Adding certificate verification is strongly advised. See: https://urllib3.readthedocs.io/en/1.26.x/advanced-usage.html#ssl-warnings\n",
      "  warnings.warn(\n"
     ]
    },
    {
     "name": "stdout",
     "output_type": "stream",
     "text": [
      "https://exhibitors.gitex.com/gitex-global-2023/Exhibitor/ExbDetails/MTcyOA==\n"
     ]
    },
    {
     "name": "stderr",
     "output_type": "stream",
     "text": [
      "C:\\Users\\saira\\anaconda3\\Lib\\site-packages\\urllib3\\connectionpool.py:1056: InsecureRequestWarning: Unverified HTTPS request is being made to host 'exhibitors.gitex.com'. Adding certificate verification is strongly advised. See: https://urllib3.readthedocs.io/en/1.26.x/advanced-usage.html#ssl-warnings\n",
      "  warnings.warn(\n"
     ]
    },
    {
     "name": "stdout",
     "output_type": "stream",
     "text": [
      "https://exhibitors.gitex.com/gitex-global-2023/Exhibitor/ExbDetails/NDI1\n"
     ]
    },
    {
     "name": "stderr",
     "output_type": "stream",
     "text": [
      "C:\\Users\\saira\\anaconda3\\Lib\\site-packages\\urllib3\\connectionpool.py:1056: InsecureRequestWarning: Unverified HTTPS request is being made to host 'exhibitors.gitex.com'. Adding certificate verification is strongly advised. See: https://urllib3.readthedocs.io/en/1.26.x/advanced-usage.html#ssl-warnings\n",
      "  warnings.warn(\n"
     ]
    },
    {
     "name": "stdout",
     "output_type": "stream",
     "text": [
      "https://exhibitors.gitex.com/gitex-global-2023/Exhibitor/ExbDetails/MTA5Ng==\n"
     ]
    },
    {
     "name": "stderr",
     "output_type": "stream",
     "text": [
      "C:\\Users\\saira\\anaconda3\\Lib\\site-packages\\urllib3\\connectionpool.py:1056: InsecureRequestWarning: Unverified HTTPS request is being made to host 'exhibitors.gitex.com'. Adding certificate verification is strongly advised. See: https://urllib3.readthedocs.io/en/1.26.x/advanced-usage.html#ssl-warnings\n",
      "  warnings.warn(\n"
     ]
    },
    {
     "name": "stdout",
     "output_type": "stream",
     "text": [
      "https://exhibitors.gitex.com/gitex-global-2023/Exhibitor/ExbDetails/MjgyMg==\n"
     ]
    },
    {
     "name": "stderr",
     "output_type": "stream",
     "text": [
      "C:\\Users\\saira\\anaconda3\\Lib\\site-packages\\urllib3\\connectionpool.py:1056: InsecureRequestWarning: Unverified HTTPS request is being made to host 'exhibitors.gitex.com'. Adding certificate verification is strongly advised. See: https://urllib3.readthedocs.io/en/1.26.x/advanced-usage.html#ssl-warnings\n",
      "  warnings.warn(\n"
     ]
    },
    {
     "name": "stdout",
     "output_type": "stream",
     "text": [
      "https://exhibitors.gitex.com/gitex-global-2023/Exhibitor/ExbDetails/NDY0\n"
     ]
    },
    {
     "name": "stderr",
     "output_type": "stream",
     "text": [
      "C:\\Users\\saira\\anaconda3\\Lib\\site-packages\\urllib3\\connectionpool.py:1056: InsecureRequestWarning: Unverified HTTPS request is being made to host 'exhibitors.gitex.com'. Adding certificate verification is strongly advised. See: https://urllib3.readthedocs.io/en/1.26.x/advanced-usage.html#ssl-warnings\n",
      "  warnings.warn(\n"
     ]
    },
    {
     "name": "stdout",
     "output_type": "stream",
     "text": [
      "https://exhibitors.gitex.com/gitex-global-2023/Exhibitor/ExbDetails/MTUyMg==\n"
     ]
    },
    {
     "name": "stderr",
     "output_type": "stream",
     "text": [
      "C:\\Users\\saira\\anaconda3\\Lib\\site-packages\\urllib3\\connectionpool.py:1056: InsecureRequestWarning: Unverified HTTPS request is being made to host 'exhibitors.gitex.com'. Adding certificate verification is strongly advised. See: https://urllib3.readthedocs.io/en/1.26.x/advanced-usage.html#ssl-warnings\n",
      "  warnings.warn(\n"
     ]
    },
    {
     "name": "stdout",
     "output_type": "stream",
     "text": [
      "https://exhibitors.gitex.com/gitex-global-2023/Exhibitor/ExbDetails/NTgx\n"
     ]
    },
    {
     "name": "stderr",
     "output_type": "stream",
     "text": [
      "C:\\Users\\saira\\anaconda3\\Lib\\site-packages\\urllib3\\connectionpool.py:1056: InsecureRequestWarning: Unverified HTTPS request is being made to host 'exhibitors.gitex.com'. Adding certificate verification is strongly advised. See: https://urllib3.readthedocs.io/en/1.26.x/advanced-usage.html#ssl-warnings\n",
      "  warnings.warn(\n"
     ]
    },
    {
     "name": "stdout",
     "output_type": "stream",
     "text": [
      "https://exhibitors.gitex.com/gitex-global-2023/Exhibitor/ExbDetails/MTE0MQ==\n"
     ]
    },
    {
     "name": "stderr",
     "output_type": "stream",
     "text": [
      "C:\\Users\\saira\\anaconda3\\Lib\\site-packages\\urllib3\\connectionpool.py:1056: InsecureRequestWarning: Unverified HTTPS request is being made to host 'exhibitors.gitex.com'. Adding certificate verification is strongly advised. See: https://urllib3.readthedocs.io/en/1.26.x/advanced-usage.html#ssl-warnings\n",
      "  warnings.warn(\n"
     ]
    },
    {
     "name": "stdout",
     "output_type": "stream",
     "text": [
      "https://exhibitors.gitex.com/gitex-global-2023/Exhibitor/ExbDetails/MTA2Mg==\n"
     ]
    },
    {
     "name": "stderr",
     "output_type": "stream",
     "text": [
      "C:\\Users\\saira\\anaconda3\\Lib\\site-packages\\urllib3\\connectionpool.py:1056: InsecureRequestWarning: Unverified HTTPS request is being made to host 'exhibitors.gitex.com'. Adding certificate verification is strongly advised. See: https://urllib3.readthedocs.io/en/1.26.x/advanced-usage.html#ssl-warnings\n",
      "  warnings.warn(\n"
     ]
    },
    {
     "name": "stdout",
     "output_type": "stream",
     "text": [
      "https://exhibitors.gitex.com/gitex-global-2023/Exhibitor/ExbDetails/NDk4\n"
     ]
    },
    {
     "name": "stderr",
     "output_type": "stream",
     "text": [
      "C:\\Users\\saira\\anaconda3\\Lib\\site-packages\\urllib3\\connectionpool.py:1056: InsecureRequestWarning: Unverified HTTPS request is being made to host 'exhibitors.gitex.com'. Adding certificate verification is strongly advised. See: https://urllib3.readthedocs.io/en/1.26.x/advanced-usage.html#ssl-warnings\n",
      "  warnings.warn(\n"
     ]
    },
    {
     "name": "stdout",
     "output_type": "stream",
     "text": [
      "https://exhibitors.gitex.com/gitex-global-2023/Exhibitor/ExbDetails/MTQxMA==\n"
     ]
    },
    {
     "name": "stderr",
     "output_type": "stream",
     "text": [
      "C:\\Users\\saira\\anaconda3\\Lib\\site-packages\\urllib3\\connectionpool.py:1056: InsecureRequestWarning: Unverified HTTPS request is being made to host 'exhibitors.gitex.com'. Adding certificate verification is strongly advised. See: https://urllib3.readthedocs.io/en/1.26.x/advanced-usage.html#ssl-warnings\n",
      "  warnings.warn(\n"
     ]
    },
    {
     "name": "stdout",
     "output_type": "stream",
     "text": [
      "https://exhibitors.gitex.com/gitex-global-2023/Exhibitor/ExbDetails/NzA5\n",
      "https://exhibitors.gitex.com/gitex-global-2023/Exhibitor/ExbDetails/MTg3Ng==\n"
     ]
    },
    {
     "name": "stderr",
     "output_type": "stream",
     "text": [
      "C:\\Users\\saira\\anaconda3\\Lib\\site-packages\\urllib3\\connectionpool.py:1056: InsecureRequestWarning: Unverified HTTPS request is being made to host 'exhibitors.gitex.com'. Adding certificate verification is strongly advised. See: https://urllib3.readthedocs.io/en/1.26.x/advanced-usage.html#ssl-warnings\n",
      "  warnings.warn(\n",
      "C:\\Users\\saira\\anaconda3\\Lib\\site-packages\\urllib3\\connectionpool.py:1056: InsecureRequestWarning: Unverified HTTPS request is being made to host 'exhibitors.gitex.com'. Adding certificate verification is strongly advised. See: https://urllib3.readthedocs.io/en/1.26.x/advanced-usage.html#ssl-warnings\n",
      "  warnings.warn(\n"
     ]
    },
    {
     "name": "stdout",
     "output_type": "stream",
     "text": [
      "https://exhibitors.gitex.com/gitex-global-2023/Exhibitor/ExbDetails/NTE4\n"
     ]
    },
    {
     "name": "stderr",
     "output_type": "stream",
     "text": [
      "C:\\Users\\saira\\anaconda3\\Lib\\site-packages\\urllib3\\connectionpool.py:1056: InsecureRequestWarning: Unverified HTTPS request is being made to host 'exhibitors.gitex.com'. Adding certificate verification is strongly advised. See: https://urllib3.readthedocs.io/en/1.26.x/advanced-usage.html#ssl-warnings\n",
      "  warnings.warn(\n"
     ]
    },
    {
     "name": "stdout",
     "output_type": "stream",
     "text": [
      "https://exhibitors.gitex.com/gitex-global-2023/Exhibitor/ExbDetails/MTkwNw==\n"
     ]
    },
    {
     "name": "stderr",
     "output_type": "stream",
     "text": [
      "C:\\Users\\saira\\anaconda3\\Lib\\site-packages\\urllib3\\connectionpool.py:1056: InsecureRequestWarning: Unverified HTTPS request is being made to host 'exhibitors.gitex.com'. Adding certificate verification is strongly advised. See: https://urllib3.readthedocs.io/en/1.26.x/advanced-usage.html#ssl-warnings\n",
      "  warnings.warn(\n"
     ]
    },
    {
     "name": "stdout",
     "output_type": "stream",
     "text": [
      "https://exhibitors.gitex.com/gitex-global-2023/Exhibitor/ExbDetails/MjUyMA==\n"
     ]
    },
    {
     "name": "stderr",
     "output_type": "stream",
     "text": [
      "C:\\Users\\saira\\anaconda3\\Lib\\site-packages\\urllib3\\connectionpool.py:1056: InsecureRequestWarning: Unverified HTTPS request is being made to host 'exhibitors.gitex.com'. Adding certificate verification is strongly advised. See: https://urllib3.readthedocs.io/en/1.26.x/advanced-usage.html#ssl-warnings\n",
      "  warnings.warn(\n"
     ]
    },
    {
     "name": "stdout",
     "output_type": "stream",
     "text": [
      "https://exhibitors.gitex.com/gitex-global-2023/Exhibitor/ExbDetails/NDEw\n",
      "https://exhibitors.gitex.com/gitex-global-2023/Exhibitor/ExbDetails/MjUyMw==\n"
     ]
    },
    {
     "name": "stderr",
     "output_type": "stream",
     "text": [
      "C:\\Users\\saira\\anaconda3\\Lib\\site-packages\\urllib3\\connectionpool.py:1056: InsecureRequestWarning: Unverified HTTPS request is being made to host 'exhibitors.gitex.com'. Adding certificate verification is strongly advised. See: https://urllib3.readthedocs.io/en/1.26.x/advanced-usage.html#ssl-warnings\n",
      "  warnings.warn(\n",
      "C:\\Users\\saira\\anaconda3\\Lib\\site-packages\\urllib3\\connectionpool.py:1056: InsecureRequestWarning: Unverified HTTPS request is being made to host 'exhibitors.gitex.com'. Adding certificate verification is strongly advised. See: https://urllib3.readthedocs.io/en/1.26.x/advanced-usage.html#ssl-warnings\n",
      "  warnings.warn(\n"
     ]
    },
    {
     "name": "stdout",
     "output_type": "stream",
     "text": [
      "https://exhibitors.gitex.com/gitex-global-2023/Exhibitor/ExbDetails/NTk1\n"
     ]
    },
    {
     "name": "stderr",
     "output_type": "stream",
     "text": [
      "C:\\Users\\saira\\anaconda3\\Lib\\site-packages\\urllib3\\connectionpool.py:1056: InsecureRequestWarning: Unverified HTTPS request is being made to host 'exhibitors.gitex.com'. Adding certificate verification is strongly advised. See: https://urllib3.readthedocs.io/en/1.26.x/advanced-usage.html#ssl-warnings\n",
      "  warnings.warn(\n"
     ]
    },
    {
     "name": "stdout",
     "output_type": "stream",
     "text": [
      "https://exhibitors.gitex.com/gitex-global-2023/Exhibitor/ExbDetails/OTMw\n"
     ]
    },
    {
     "name": "stderr",
     "output_type": "stream",
     "text": [
      "C:\\Users\\saira\\anaconda3\\Lib\\site-packages\\urllib3\\connectionpool.py:1056: InsecureRequestWarning: Unverified HTTPS request is being made to host 'exhibitors.gitex.com'. Adding certificate verification is strongly advised. See: https://urllib3.readthedocs.io/en/1.26.x/advanced-usage.html#ssl-warnings\n",
      "  warnings.warn(\n"
     ]
    },
    {
     "name": "stdout",
     "output_type": "stream",
     "text": [
      "https://exhibitors.gitex.com/gitex-global-2023/Exhibitor/ExbDetails/MTQ3OA==\n"
     ]
    },
    {
     "name": "stderr",
     "output_type": "stream",
     "text": [
      "C:\\Users\\saira\\anaconda3\\Lib\\site-packages\\urllib3\\connectionpool.py:1056: InsecureRequestWarning: Unverified HTTPS request is being made to host 'exhibitors.gitex.com'. Adding certificate verification is strongly advised. See: https://urllib3.readthedocs.io/en/1.26.x/advanced-usage.html#ssl-warnings\n",
      "  warnings.warn(\n"
     ]
    },
    {
     "name": "stdout",
     "output_type": "stream",
     "text": [
      "https://exhibitors.gitex.com/gitex-global-2023/Exhibitor/ExbDetails/MTUxMA==\n"
     ]
    },
    {
     "name": "stderr",
     "output_type": "stream",
     "text": [
      "C:\\Users\\saira\\anaconda3\\Lib\\site-packages\\urllib3\\connectionpool.py:1056: InsecureRequestWarning: Unverified HTTPS request is being made to host 'exhibitors.gitex.com'. Adding certificate verification is strongly advised. See: https://urllib3.readthedocs.io/en/1.26.x/advanced-usage.html#ssl-warnings\n",
      "  warnings.warn(\n"
     ]
    },
    {
     "name": "stdout",
     "output_type": "stream",
     "text": [
      "https://exhibitors.gitex.com/gitex-global-2023/Exhibitor/ExbDetails/NDM1\n"
     ]
    },
    {
     "name": "stderr",
     "output_type": "stream",
     "text": [
      "C:\\Users\\saira\\anaconda3\\Lib\\site-packages\\urllib3\\connectionpool.py:1056: InsecureRequestWarning: Unverified HTTPS request is being made to host 'exhibitors.gitex.com'. Adding certificate verification is strongly advised. See: https://urllib3.readthedocs.io/en/1.26.x/advanced-usage.html#ssl-warnings\n",
      "  warnings.warn(\n",
      "C:\\Users\\saira\\anaconda3\\Lib\\site-packages\\urllib3\\connectionpool.py:1056: InsecureRequestWarning: Unverified HTTPS request is being made to host 'exhibitors.gitex.com'. Adding certificate verification is strongly advised. See: https://urllib3.readthedocs.io/en/1.26.x/advanced-usage.html#ssl-warnings\n",
      "  warnings.warn(\n"
     ]
    },
    {
     "name": "stdout",
     "output_type": "stream",
     "text": [
      "https://exhibitors.gitex.com/gitex-global-2023/Exhibitor/ExbDetails/OTU4\n",
      "https://exhibitors.gitex.com/gitex-global-2023/Exhibitor/ExbDetails/MTAxNQ==\n"
     ]
    },
    {
     "name": "stderr",
     "output_type": "stream",
     "text": [
      "C:\\Users\\saira\\anaconda3\\Lib\\site-packages\\urllib3\\connectionpool.py:1056: InsecureRequestWarning: Unverified HTTPS request is being made to host 'exhibitors.gitex.com'. Adding certificate verification is strongly advised. See: https://urllib3.readthedocs.io/en/1.26.x/advanced-usage.html#ssl-warnings\n",
      "  warnings.warn(\n"
     ]
    },
    {
     "name": "stdout",
     "output_type": "stream",
     "text": [
      "https://exhibitors.gitex.com/gitex-global-2023/Exhibitor/ExbDetails/NzQx\n"
     ]
    },
    {
     "name": "stderr",
     "output_type": "stream",
     "text": [
      "C:\\Users\\saira\\anaconda3\\Lib\\site-packages\\urllib3\\connectionpool.py:1056: InsecureRequestWarning: Unverified HTTPS request is being made to host 'exhibitors.gitex.com'. Adding certificate verification is strongly advised. See: https://urllib3.readthedocs.io/en/1.26.x/advanced-usage.html#ssl-warnings\n",
      "  warnings.warn(\n"
     ]
    },
    {
     "name": "stdout",
     "output_type": "stream",
     "text": [
      "https://exhibitors.gitex.com/gitex-global-2023/Exhibitor/ExbDetails/NTcw\n"
     ]
    },
    {
     "name": "stderr",
     "output_type": "stream",
     "text": [
      "C:\\Users\\saira\\anaconda3\\Lib\\site-packages\\urllib3\\connectionpool.py:1056: InsecureRequestWarning: Unverified HTTPS request is being made to host 'exhibitors.gitex.com'. Adding certificate verification is strongly advised. See: https://urllib3.readthedocs.io/en/1.26.x/advanced-usage.html#ssl-warnings\n",
      "  warnings.warn(\n"
     ]
    },
    {
     "name": "stdout",
     "output_type": "stream",
     "text": [
      "https://exhibitors.gitex.com/gitex-global-2023/Exhibitor/ExbDetails/NjE5\n"
     ]
    },
    {
     "name": "stderr",
     "output_type": "stream",
     "text": [
      "C:\\Users\\saira\\anaconda3\\Lib\\site-packages\\urllib3\\connectionpool.py:1056: InsecureRequestWarning: Unverified HTTPS request is being made to host 'exhibitors.gitex.com'. Adding certificate verification is strongly advised. See: https://urllib3.readthedocs.io/en/1.26.x/advanced-usage.html#ssl-warnings\n",
      "  warnings.warn(\n"
     ]
    },
    {
     "name": "stdout",
     "output_type": "stream",
     "text": [
      "https://exhibitors.gitex.com/gitex-global-2023/Exhibitor/ExbDetails/NDM0\n"
     ]
    },
    {
     "name": "stderr",
     "output_type": "stream",
     "text": [
      "C:\\Users\\saira\\anaconda3\\Lib\\site-packages\\urllib3\\connectionpool.py:1056: InsecureRequestWarning: Unverified HTTPS request is being made to host 'exhibitors.gitex.com'. Adding certificate verification is strongly advised. See: https://urllib3.readthedocs.io/en/1.26.x/advanced-usage.html#ssl-warnings\n",
      "  warnings.warn(\n"
     ]
    },
    {
     "name": "stdout",
     "output_type": "stream",
     "text": [
      "https://exhibitors.gitex.com/gitex-global-2023/Exhibitor/ExbDetails/NTA4\n",
      "https://exhibitors.gitex.com/gitex-global-2023/Exhibitor/ExbDetails/NDYz\n"
     ]
    },
    {
     "name": "stderr",
     "output_type": "stream",
     "text": [
      "C:\\Users\\saira\\anaconda3\\Lib\\site-packages\\urllib3\\connectionpool.py:1056: InsecureRequestWarning: Unverified HTTPS request is being made to host 'exhibitors.gitex.com'. Adding certificate verification is strongly advised. See: https://urllib3.readthedocs.io/en/1.26.x/advanced-usage.html#ssl-warnings\n",
      "  warnings.warn(\n",
      "C:\\Users\\saira\\anaconda3\\Lib\\site-packages\\urllib3\\connectionpool.py:1056: InsecureRequestWarning: Unverified HTTPS request is being made to host 'exhibitors.gitex.com'. Adding certificate verification is strongly advised. See: https://urllib3.readthedocs.io/en/1.26.x/advanced-usage.html#ssl-warnings\n",
      "  warnings.warn(\n"
     ]
    },
    {
     "name": "stdout",
     "output_type": "stream",
     "text": [
      "https://exhibitors.gitex.com/gitex-global-2023/Exhibitor/ExbDetails/MTAzNQ==\n"
     ]
    },
    {
     "name": "stderr",
     "output_type": "stream",
     "text": [
      "C:\\Users\\saira\\anaconda3\\Lib\\site-packages\\urllib3\\connectionpool.py:1056: InsecureRequestWarning: Unverified HTTPS request is being made to host 'exhibitors.gitex.com'. Adding certificate verification is strongly advised. See: https://urllib3.readthedocs.io/en/1.26.x/advanced-usage.html#ssl-warnings\n",
      "  warnings.warn(\n"
     ]
    },
    {
     "name": "stdout",
     "output_type": "stream",
     "text": [
      "https://exhibitors.gitex.com/gitex-global-2023/Exhibitor/ExbDetails/NTY1\n"
     ]
    },
    {
     "name": "stderr",
     "output_type": "stream",
     "text": [
      "C:\\Users\\saira\\anaconda3\\Lib\\site-packages\\urllib3\\connectionpool.py:1056: InsecureRequestWarning: Unverified HTTPS request is being made to host 'exhibitors.gitex.com'. Adding certificate verification is strongly advised. See: https://urllib3.readthedocs.io/en/1.26.x/advanced-usage.html#ssl-warnings\n",
      "  warnings.warn(\n"
     ]
    },
    {
     "name": "stdout",
     "output_type": "stream",
     "text": [
      "https://exhibitors.gitex.com/gitex-global-2023/Exhibitor/ExbDetails/NDM2\n"
     ]
    },
    {
     "name": "stderr",
     "output_type": "stream",
     "text": [
      "C:\\Users\\saira\\anaconda3\\Lib\\site-packages\\urllib3\\connectionpool.py:1056: InsecureRequestWarning: Unverified HTTPS request is being made to host 'exhibitors.gitex.com'. Adding certificate verification is strongly advised. See: https://urllib3.readthedocs.io/en/1.26.x/advanced-usage.html#ssl-warnings\n",
      "  warnings.warn(\n"
     ]
    },
    {
     "name": "stdout",
     "output_type": "stream",
     "text": [
      "https://exhibitors.gitex.com/gitex-global-2023/Exhibitor/ExbDetails/NTQw\n"
     ]
    },
    {
     "name": "stderr",
     "output_type": "stream",
     "text": [
      "C:\\Users\\saira\\anaconda3\\Lib\\site-packages\\urllib3\\connectionpool.py:1056: InsecureRequestWarning: Unverified HTTPS request is being made to host 'exhibitors.gitex.com'. Adding certificate verification is strongly advised. See: https://urllib3.readthedocs.io/en/1.26.x/advanced-usage.html#ssl-warnings\n",
      "  warnings.warn(\n"
     ]
    },
    {
     "name": "stdout",
     "output_type": "stream",
     "text": [
      "https://exhibitors.gitex.com/gitex-global-2023/Exhibitor/ExbDetails/NjI1\n"
     ]
    },
    {
     "name": "stderr",
     "output_type": "stream",
     "text": [
      "C:\\Users\\saira\\anaconda3\\Lib\\site-packages\\urllib3\\connectionpool.py:1056: InsecureRequestWarning: Unverified HTTPS request is being made to host 'exhibitors.gitex.com'. Adding certificate verification is strongly advised. See: https://urllib3.readthedocs.io/en/1.26.x/advanced-usage.html#ssl-warnings\n",
      "  warnings.warn(\n"
     ]
    },
    {
     "name": "stdout",
     "output_type": "stream",
     "text": [
      "https://exhibitors.gitex.com/gitex-global-2023/Exhibitor/ExbDetails/Njk5\n"
     ]
    },
    {
     "name": "stderr",
     "output_type": "stream",
     "text": [
      "C:\\Users\\saira\\anaconda3\\Lib\\site-packages\\urllib3\\connectionpool.py:1056: InsecureRequestWarning: Unverified HTTPS request is being made to host 'exhibitors.gitex.com'. Adding certificate verification is strongly advised. See: https://urllib3.readthedocs.io/en/1.26.x/advanced-usage.html#ssl-warnings\n",
      "  warnings.warn(\n"
     ]
    },
    {
     "name": "stdout",
     "output_type": "stream",
     "text": [
      "https://exhibitors.gitex.com/gitex-global-2023/Exhibitor/ExbDetails/NzI5\n"
     ]
    },
    {
     "name": "stderr",
     "output_type": "stream",
     "text": [
      "C:\\Users\\saira\\anaconda3\\Lib\\site-packages\\urllib3\\connectionpool.py:1056: InsecureRequestWarning: Unverified HTTPS request is being made to host 'exhibitors.gitex.com'. Adding certificate verification is strongly advised. See: https://urllib3.readthedocs.io/en/1.26.x/advanced-usage.html#ssl-warnings\n",
      "  warnings.warn(\n"
     ]
    },
    {
     "name": "stdout",
     "output_type": "stream",
     "text": [
      "https://exhibitors.gitex.com/gitex-global-2023/Exhibitor/ExbDetails/MjA2NA==\n"
     ]
    },
    {
     "name": "stderr",
     "output_type": "stream",
     "text": [
      "C:\\Users\\saira\\anaconda3\\Lib\\site-packages\\urllib3\\connectionpool.py:1056: InsecureRequestWarning: Unverified HTTPS request is being made to host 'exhibitors.gitex.com'. Adding certificate verification is strongly advised. See: https://urllib3.readthedocs.io/en/1.26.x/advanced-usage.html#ssl-warnings\n",
      "  warnings.warn(\n"
     ]
    },
    {
     "name": "stdout",
     "output_type": "stream",
     "text": [
      "https://exhibitors.gitex.com/gitex-global-2023/Exhibitor/ExbDetails/MTM3Nw==\n"
     ]
    },
    {
     "name": "stderr",
     "output_type": "stream",
     "text": [
      "C:\\Users\\saira\\anaconda3\\Lib\\site-packages\\urllib3\\connectionpool.py:1056: InsecureRequestWarning: Unverified HTTPS request is being made to host 'exhibitors.gitex.com'. Adding certificate verification is strongly advised. See: https://urllib3.readthedocs.io/en/1.26.x/advanced-usage.html#ssl-warnings\n",
      "  warnings.warn(\n"
     ]
    },
    {
     "name": "stdout",
     "output_type": "stream",
     "text": [
      "https://exhibitors.gitex.com/gitex-global-2023/Exhibitor/ExbDetails/MjgyMw==\n"
     ]
    },
    {
     "name": "stderr",
     "output_type": "stream",
     "text": [
      "C:\\Users\\saira\\anaconda3\\Lib\\site-packages\\urllib3\\connectionpool.py:1056: InsecureRequestWarning: Unverified HTTPS request is being made to host 'exhibitors.gitex.com'. Adding certificate verification is strongly advised. See: https://urllib3.readthedocs.io/en/1.26.x/advanced-usage.html#ssl-warnings\n",
      "  warnings.warn(\n"
     ]
    },
    {
     "name": "stdout",
     "output_type": "stream",
     "text": [
      "https://exhibitors.gitex.com/gitex-global-2023/Exhibitor/ExbDetails/MTM4MQ==\n"
     ]
    },
    {
     "name": "stderr",
     "output_type": "stream",
     "text": [
      "C:\\Users\\saira\\anaconda3\\Lib\\site-packages\\urllib3\\connectionpool.py:1056: InsecureRequestWarning: Unverified HTTPS request is being made to host 'exhibitors.gitex.com'. Adding certificate verification is strongly advised. See: https://urllib3.readthedocs.io/en/1.26.x/advanced-usage.html#ssl-warnings\n",
      "  warnings.warn(\n"
     ]
    },
    {
     "name": "stdout",
     "output_type": "stream",
     "text": [
      "https://exhibitors.gitex.com/gitex-global-2023/Exhibitor/ExbDetails/MTQyMA==\n"
     ]
    },
    {
     "name": "stderr",
     "output_type": "stream",
     "text": [
      "C:\\Users\\saira\\anaconda3\\Lib\\site-packages\\urllib3\\connectionpool.py:1056: InsecureRequestWarning: Unverified HTTPS request is being made to host 'exhibitors.gitex.com'. Adding certificate verification is strongly advised. See: https://urllib3.readthedocs.io/en/1.26.x/advanced-usage.html#ssl-warnings\n",
      "  warnings.warn(\n"
     ]
    },
    {
     "name": "stdout",
     "output_type": "stream",
     "text": [
      "https://exhibitors.gitex.com/gitex-global-2023/Exhibitor/ExbDetails/Mjc5Nw==\n"
     ]
    },
    {
     "name": "stderr",
     "output_type": "stream",
     "text": [
      "C:\\Users\\saira\\anaconda3\\Lib\\site-packages\\urllib3\\connectionpool.py:1056: InsecureRequestWarning: Unverified HTTPS request is being made to host 'exhibitors.gitex.com'. Adding certificate verification is strongly advised. See: https://urllib3.readthedocs.io/en/1.26.x/advanced-usage.html#ssl-warnings\n",
      "  warnings.warn(\n"
     ]
    },
    {
     "name": "stdout",
     "output_type": "stream",
     "text": [
      "https://exhibitors.gitex.com/gitex-global-2023/Exhibitor/ExbDetails/MTcxMw==\n"
     ]
    },
    {
     "name": "stderr",
     "output_type": "stream",
     "text": [
      "C:\\Users\\saira\\anaconda3\\Lib\\site-packages\\urllib3\\connectionpool.py:1056: InsecureRequestWarning: Unverified HTTPS request is being made to host 'exhibitors.gitex.com'. Adding certificate verification is strongly advised. See: https://urllib3.readthedocs.io/en/1.26.x/advanced-usage.html#ssl-warnings\n",
      "  warnings.warn(\n"
     ]
    },
    {
     "name": "stdout",
     "output_type": "stream",
     "text": [
      "https://exhibitors.gitex.com/gitex-global-2023/Exhibitor/ExbDetails/Mjc2MA==\n"
     ]
    },
    {
     "name": "stderr",
     "output_type": "stream",
     "text": [
      "C:\\Users\\saira\\anaconda3\\Lib\\site-packages\\urllib3\\connectionpool.py:1056: InsecureRequestWarning: Unverified HTTPS request is being made to host 'exhibitors.gitex.com'. Adding certificate verification is strongly advised. See: https://urllib3.readthedocs.io/en/1.26.x/advanced-usage.html#ssl-warnings\n",
      "  warnings.warn(\n"
     ]
    },
    {
     "name": "stdout",
     "output_type": "stream",
     "text": [
      "https://exhibitors.gitex.com/gitex-global-2023/Exhibitor/ExbDetails/Mjk5Mw==\n"
     ]
    },
    {
     "name": "stderr",
     "output_type": "stream",
     "text": [
      "C:\\Users\\saira\\anaconda3\\Lib\\site-packages\\urllib3\\connectionpool.py:1056: InsecureRequestWarning: Unverified HTTPS request is being made to host 'exhibitors.gitex.com'. Adding certificate verification is strongly advised. See: https://urllib3.readthedocs.io/en/1.26.x/advanced-usage.html#ssl-warnings\n",
      "  warnings.warn(\n"
     ]
    },
    {
     "name": "stdout",
     "output_type": "stream",
     "text": [
      "https://exhibitors.gitex.com/gitex-global-2023/Exhibitor/ExbDetails/OTY1\n"
     ]
    },
    {
     "name": "stderr",
     "output_type": "stream",
     "text": [
      "C:\\Users\\saira\\anaconda3\\Lib\\site-packages\\urllib3\\connectionpool.py:1056: InsecureRequestWarning: Unverified HTTPS request is being made to host 'exhibitors.gitex.com'. Adding certificate verification is strongly advised. See: https://urllib3.readthedocs.io/en/1.26.x/advanced-usage.html#ssl-warnings\n",
      "  warnings.warn(\n"
     ]
    },
    {
     "name": "stdout",
     "output_type": "stream",
     "text": [
      "https://exhibitors.gitex.com/gitex-global-2023/Exhibitor/ExbDetails/MTcxMg==\n"
     ]
    },
    {
     "name": "stderr",
     "output_type": "stream",
     "text": [
      "C:\\Users\\saira\\anaconda3\\Lib\\site-packages\\urllib3\\connectionpool.py:1056: InsecureRequestWarning: Unverified HTTPS request is being made to host 'exhibitors.gitex.com'. Adding certificate verification is strongly advised. See: https://urllib3.readthedocs.io/en/1.26.x/advanced-usage.html#ssl-warnings\n",
      "  warnings.warn(\n"
     ]
    },
    {
     "name": "stdout",
     "output_type": "stream",
     "text": [
      "https://exhibitors.gitex.com/gitex-global-2023/Exhibitor/ExbDetails/MTMyMw==\n"
     ]
    },
    {
     "name": "stderr",
     "output_type": "stream",
     "text": [
      "C:\\Users\\saira\\anaconda3\\Lib\\site-packages\\urllib3\\connectionpool.py:1056: InsecureRequestWarning: Unverified HTTPS request is being made to host 'exhibitors.gitex.com'. Adding certificate verification is strongly advised. See: https://urllib3.readthedocs.io/en/1.26.x/advanced-usage.html#ssl-warnings\n",
      "  warnings.warn(\n"
     ]
    },
    {
     "name": "stdout",
     "output_type": "stream",
     "text": [
      "https://exhibitors.gitex.com/gitex-global-2023/Exhibitor/ExbDetails/MTMzMg==\n"
     ]
    },
    {
     "name": "stderr",
     "output_type": "stream",
     "text": [
      "C:\\Users\\saira\\anaconda3\\Lib\\site-packages\\urllib3\\connectionpool.py:1056: InsecureRequestWarning: Unverified HTTPS request is being made to host 'exhibitors.gitex.com'. Adding certificate verification is strongly advised. See: https://urllib3.readthedocs.io/en/1.26.x/advanced-usage.html#ssl-warnings\n",
      "  warnings.warn(\n"
     ]
    },
    {
     "name": "stdout",
     "output_type": "stream",
     "text": [
      "https://exhibitors.gitex.com/gitex-global-2023/Exhibitor/ExbDetails/Mjk5MA==\n"
     ]
    },
    {
     "name": "stderr",
     "output_type": "stream",
     "text": [
      "C:\\Users\\saira\\anaconda3\\Lib\\site-packages\\urllib3\\connectionpool.py:1056: InsecureRequestWarning: Unverified HTTPS request is being made to host 'exhibitors.gitex.com'. Adding certificate verification is strongly advised. See: https://urllib3.readthedocs.io/en/1.26.x/advanced-usage.html#ssl-warnings\n",
      "  warnings.warn(\n"
     ]
    },
    {
     "name": "stdout",
     "output_type": "stream",
     "text": [
      "https://exhibitors.gitex.com/gitex-global-2023/Exhibitor/ExbDetails/MjgyNQ==\n",
      "https://exhibitors.gitex.com/gitex-global-2023/Exhibitor/ExbDetails/MTYwNA==\n"
     ]
    },
    {
     "name": "stderr",
     "output_type": "stream",
     "text": [
      "C:\\Users\\saira\\anaconda3\\Lib\\site-packages\\urllib3\\connectionpool.py:1056: InsecureRequestWarning: Unverified HTTPS request is being made to host 'exhibitors.gitex.com'. Adding certificate verification is strongly advised. See: https://urllib3.readthedocs.io/en/1.26.x/advanced-usage.html#ssl-warnings\n",
      "  warnings.warn(\n",
      "C:\\Users\\saira\\anaconda3\\Lib\\site-packages\\urllib3\\connectionpool.py:1056: InsecureRequestWarning: Unverified HTTPS request is being made to host 'exhibitors.gitex.com'. Adding certificate verification is strongly advised. See: https://urllib3.readthedocs.io/en/1.26.x/advanced-usage.html#ssl-warnings\n",
      "  warnings.warn(\n"
     ]
    },
    {
     "name": "stdout",
     "output_type": "stream",
     "text": [
      "https://exhibitors.gitex.com/gitex-global-2023/Exhibitor/ExbDetails/MTg4NQ==\n"
     ]
    },
    {
     "name": "stderr",
     "output_type": "stream",
     "text": [
      "C:\\Users\\saira\\anaconda3\\Lib\\site-packages\\urllib3\\connectionpool.py:1056: InsecureRequestWarning: Unverified HTTPS request is being made to host 'exhibitors.gitex.com'. Adding certificate verification is strongly advised. See: https://urllib3.readthedocs.io/en/1.26.x/advanced-usage.html#ssl-warnings\n",
      "  warnings.warn(\n"
     ]
    },
    {
     "name": "stdout",
     "output_type": "stream",
     "text": [
      "https://exhibitors.gitex.com/gitex-global-2023/Exhibitor/ExbDetails/MTczMg==\n"
     ]
    },
    {
     "name": "stderr",
     "output_type": "stream",
     "text": [
      "C:\\Users\\saira\\anaconda3\\Lib\\site-packages\\urllib3\\connectionpool.py:1056: InsecureRequestWarning: Unverified HTTPS request is being made to host 'exhibitors.gitex.com'. Adding certificate verification is strongly advised. See: https://urllib3.readthedocs.io/en/1.26.x/advanced-usage.html#ssl-warnings\n",
      "  warnings.warn(\n"
     ]
    },
    {
     "name": "stdout",
     "output_type": "stream",
     "text": [
      "https://exhibitors.gitex.com/gitex-global-2023/Exhibitor/ExbDetails/MTkxNQ==\n"
     ]
    },
    {
     "name": "stderr",
     "output_type": "stream",
     "text": [
      "C:\\Users\\saira\\anaconda3\\Lib\\site-packages\\urllib3\\connectionpool.py:1056: InsecureRequestWarning: Unverified HTTPS request is being made to host 'exhibitors.gitex.com'. Adding certificate verification is strongly advised. See: https://urllib3.readthedocs.io/en/1.26.x/advanced-usage.html#ssl-warnings\n",
      "  warnings.warn(\n"
     ]
    },
    {
     "name": "stdout",
     "output_type": "stream",
     "text": [
      "https://exhibitors.gitex.com/gitex-global-2023/Exhibitor/ExbDetails/NjYx\n"
     ]
    },
    {
     "name": "stderr",
     "output_type": "stream",
     "text": [
      "C:\\Users\\saira\\anaconda3\\Lib\\site-packages\\urllib3\\connectionpool.py:1056: InsecureRequestWarning: Unverified HTTPS request is being made to host 'exhibitors.gitex.com'. Adding certificate verification is strongly advised. See: https://urllib3.readthedocs.io/en/1.26.x/advanced-usage.html#ssl-warnings\n",
      "  warnings.warn(\n"
     ]
    },
    {
     "name": "stdout",
     "output_type": "stream",
     "text": [
      "https://exhibitors.gitex.com/gitex-global-2023/Exhibitor/ExbDetails/MTExOA==\n"
     ]
    },
    {
     "name": "stderr",
     "output_type": "stream",
     "text": [
      "C:\\Users\\saira\\anaconda3\\Lib\\site-packages\\urllib3\\connectionpool.py:1056: InsecureRequestWarning: Unverified HTTPS request is being made to host 'exhibitors.gitex.com'. Adding certificate verification is strongly advised. See: https://urllib3.readthedocs.io/en/1.26.x/advanced-usage.html#ssl-warnings\n",
      "  warnings.warn(\n"
     ]
    },
    {
     "name": "stdout",
     "output_type": "stream",
     "text": [
      "https://exhibitors.gitex.com/gitex-global-2023/Exhibitor/ExbDetails/MTEzNA==\n"
     ]
    },
    {
     "name": "stderr",
     "output_type": "stream",
     "text": [
      "C:\\Users\\saira\\anaconda3\\Lib\\site-packages\\urllib3\\connectionpool.py:1056: InsecureRequestWarning: Unverified HTTPS request is being made to host 'exhibitors.gitex.com'. Adding certificate verification is strongly advised. See: https://urllib3.readthedocs.io/en/1.26.x/advanced-usage.html#ssl-warnings\n",
      "  warnings.warn(\n"
     ]
    },
    {
     "name": "stdout",
     "output_type": "stream",
     "text": [
      "https://exhibitors.gitex.com/gitex-global-2023/Exhibitor/ExbDetails/NjY3\n"
     ]
    },
    {
     "name": "stderr",
     "output_type": "stream",
     "text": [
      "C:\\Users\\saira\\anaconda3\\Lib\\site-packages\\urllib3\\connectionpool.py:1056: InsecureRequestWarning: Unverified HTTPS request is being made to host 'exhibitors.gitex.com'. Adding certificate verification is strongly advised. See: https://urllib3.readthedocs.io/en/1.26.x/advanced-usage.html#ssl-warnings\n",
      "  warnings.warn(\n"
     ]
    },
    {
     "name": "stdout",
     "output_type": "stream",
     "text": [
      "https://exhibitors.gitex.com/gitex-global-2023/Exhibitor/ExbDetails/NTA3\n"
     ]
    },
    {
     "name": "stderr",
     "output_type": "stream",
     "text": [
      "C:\\Users\\saira\\anaconda3\\Lib\\site-packages\\urllib3\\connectionpool.py:1056: InsecureRequestWarning: Unverified HTTPS request is being made to host 'exhibitors.gitex.com'. Adding certificate verification is strongly advised. See: https://urllib3.readthedocs.io/en/1.26.x/advanced-usage.html#ssl-warnings\n",
      "  warnings.warn(\n"
     ]
    },
    {
     "name": "stdout",
     "output_type": "stream",
     "text": [
      "https://exhibitors.gitex.com/gitex-global-2023/Exhibitor/ExbDetails/MTQ3NQ==\n"
     ]
    },
    {
     "name": "stderr",
     "output_type": "stream",
     "text": [
      "C:\\Users\\saira\\anaconda3\\Lib\\site-packages\\urllib3\\connectionpool.py:1056: InsecureRequestWarning: Unverified HTTPS request is being made to host 'exhibitors.gitex.com'. Adding certificate verification is strongly advised. See: https://urllib3.readthedocs.io/en/1.26.x/advanced-usage.html#ssl-warnings\n",
      "  warnings.warn(\n"
     ]
    },
    {
     "name": "stdout",
     "output_type": "stream",
     "text": [
      "https://exhibitors.gitex.com/gitex-global-2023/Exhibitor/ExbDetails/MTQ2Ng==\n"
     ]
    },
    {
     "name": "stderr",
     "output_type": "stream",
     "text": [
      "C:\\Users\\saira\\anaconda3\\Lib\\site-packages\\urllib3\\connectionpool.py:1056: InsecureRequestWarning: Unverified HTTPS request is being made to host 'exhibitors.gitex.com'. Adding certificate verification is strongly advised. See: https://urllib3.readthedocs.io/en/1.26.x/advanced-usage.html#ssl-warnings\n",
      "  warnings.warn(\n"
     ]
    },
    {
     "name": "stdout",
     "output_type": "stream",
     "text": [
      "https://exhibitors.gitex.com/gitex-global-2023/Exhibitor/ExbDetails/MTAzNw==\n"
     ]
    },
    {
     "name": "stderr",
     "output_type": "stream",
     "text": [
      "C:\\Users\\saira\\anaconda3\\Lib\\site-packages\\urllib3\\connectionpool.py:1056: InsecureRequestWarning: Unverified HTTPS request is being made to host 'exhibitors.gitex.com'. Adding certificate verification is strongly advised. See: https://urllib3.readthedocs.io/en/1.26.x/advanced-usage.html#ssl-warnings\n",
      "  warnings.warn(\n"
     ]
    },
    {
     "name": "stdout",
     "output_type": "stream",
     "text": [
      "https://exhibitors.gitex.com/gitex-global-2023/Exhibitor/ExbDetails/MTE0MA==\n"
     ]
    },
    {
     "name": "stderr",
     "output_type": "stream",
     "text": [
      "C:\\Users\\saira\\anaconda3\\Lib\\site-packages\\urllib3\\connectionpool.py:1056: InsecureRequestWarning: Unverified HTTPS request is being made to host 'exhibitors.gitex.com'. Adding certificate verification is strongly advised. See: https://urllib3.readthedocs.io/en/1.26.x/advanced-usage.html#ssl-warnings\n",
      "  warnings.warn(\n"
     ]
    },
    {
     "name": "stdout",
     "output_type": "stream",
     "text": [
      "https://exhibitors.gitex.com/gitex-global-2023/Exhibitor/ExbDetails/OTI5\n"
     ]
    },
    {
     "name": "stderr",
     "output_type": "stream",
     "text": [
      "C:\\Users\\saira\\anaconda3\\Lib\\site-packages\\urllib3\\connectionpool.py:1056: InsecureRequestWarning: Unverified HTTPS request is being made to host 'exhibitors.gitex.com'. Adding certificate verification is strongly advised. See: https://urllib3.readthedocs.io/en/1.26.x/advanced-usage.html#ssl-warnings\n",
      "  warnings.warn(\n"
     ]
    },
    {
     "name": "stdout",
     "output_type": "stream",
     "text": [
      "https://exhibitors.gitex.com/gitex-global-2023/Exhibitor/ExbDetails/MTQzOA==\n"
     ]
    },
    {
     "name": "stderr",
     "output_type": "stream",
     "text": [
      "C:\\Users\\saira\\anaconda3\\Lib\\site-packages\\urllib3\\connectionpool.py:1056: InsecureRequestWarning: Unverified HTTPS request is being made to host 'exhibitors.gitex.com'. Adding certificate verification is strongly advised. See: https://urllib3.readthedocs.io/en/1.26.x/advanced-usage.html#ssl-warnings\n",
      "  warnings.warn(\n"
     ]
    },
    {
     "name": "stdout",
     "output_type": "stream",
     "text": [
      "https://exhibitors.gitex.com/gitex-global-2023/Exhibitor/ExbDetails/Mjg3Nw==\n"
     ]
    },
    {
     "name": "stderr",
     "output_type": "stream",
     "text": [
      "C:\\Users\\saira\\anaconda3\\Lib\\site-packages\\urllib3\\connectionpool.py:1056: InsecureRequestWarning: Unverified HTTPS request is being made to host 'exhibitors.gitex.com'. Adding certificate verification is strongly advised. See: https://urllib3.readthedocs.io/en/1.26.x/advanced-usage.html#ssl-warnings\n",
      "  warnings.warn(\n"
     ]
    },
    {
     "name": "stdout",
     "output_type": "stream",
     "text": [
      "https://exhibitors.gitex.com/gitex-global-2023/Exhibitor/ExbDetails/MTM4Nw==\n"
     ]
    },
    {
     "name": "stderr",
     "output_type": "stream",
     "text": [
      "C:\\Users\\saira\\anaconda3\\Lib\\site-packages\\urllib3\\connectionpool.py:1056: InsecureRequestWarning: Unverified HTTPS request is being made to host 'exhibitors.gitex.com'. Adding certificate verification is strongly advised. See: https://urllib3.readthedocs.io/en/1.26.x/advanced-usage.html#ssl-warnings\n",
      "  warnings.warn(\n"
     ]
    },
    {
     "name": "stdout",
     "output_type": "stream",
     "text": [
      "https://exhibitors.gitex.com/gitex-global-2023/Exhibitor/ExbDetails/MTg4MA==\n"
     ]
    },
    {
     "name": "stderr",
     "output_type": "stream",
     "text": [
      "C:\\Users\\saira\\anaconda3\\Lib\\site-packages\\urllib3\\connectionpool.py:1056: InsecureRequestWarning: Unverified HTTPS request is being made to host 'exhibitors.gitex.com'. Adding certificate verification is strongly advised. See: https://urllib3.readthedocs.io/en/1.26.x/advanced-usage.html#ssl-warnings\n",
      "  warnings.warn(\n"
     ]
    },
    {
     "name": "stdout",
     "output_type": "stream",
     "text": [
      "https://exhibitors.gitex.com/gitex-global-2023/Exhibitor/ExbDetails/NjYw\n"
     ]
    },
    {
     "name": "stderr",
     "output_type": "stream",
     "text": [
      "C:\\Users\\saira\\anaconda3\\Lib\\site-packages\\urllib3\\connectionpool.py:1056: InsecureRequestWarning: Unverified HTTPS request is being made to host 'exhibitors.gitex.com'. Adding certificate verification is strongly advised. See: https://urllib3.readthedocs.io/en/1.26.x/advanced-usage.html#ssl-warnings\n",
      "  warnings.warn(\n"
     ]
    },
    {
     "name": "stdout",
     "output_type": "stream",
     "text": [
      "https://exhibitors.gitex.com/gitex-global-2023/Exhibitor/ExbDetails/MTY3MA==\n"
     ]
    },
    {
     "name": "stderr",
     "output_type": "stream",
     "text": [
      "C:\\Users\\saira\\anaconda3\\Lib\\site-packages\\urllib3\\connectionpool.py:1056: InsecureRequestWarning: Unverified HTTPS request is being made to host 'exhibitors.gitex.com'. Adding certificate verification is strongly advised. See: https://urllib3.readthedocs.io/en/1.26.x/advanced-usage.html#ssl-warnings\n",
      "  warnings.warn(\n"
     ]
    },
    {
     "name": "stdout",
     "output_type": "stream",
     "text": [
      "https://exhibitors.gitex.com/gitex-global-2023/Exhibitor/ExbDetails/Mjg2MA==\n"
     ]
    },
    {
     "name": "stderr",
     "output_type": "stream",
     "text": [
      "C:\\Users\\saira\\anaconda3\\Lib\\site-packages\\urllib3\\connectionpool.py:1056: InsecureRequestWarning: Unverified HTTPS request is being made to host 'exhibitors.gitex.com'. Adding certificate verification is strongly advised. See: https://urllib3.readthedocs.io/en/1.26.x/advanced-usage.html#ssl-warnings\n",
      "  warnings.warn(\n"
     ]
    },
    {
     "name": "stdout",
     "output_type": "stream",
     "text": [
      "https://exhibitors.gitex.com/gitex-global-2023/Exhibitor/ExbDetails/MTA0Ng==\n"
     ]
    },
    {
     "name": "stderr",
     "output_type": "stream",
     "text": [
      "C:\\Users\\saira\\anaconda3\\Lib\\site-packages\\urllib3\\connectionpool.py:1056: InsecureRequestWarning: Unverified HTTPS request is being made to host 'exhibitors.gitex.com'. Adding certificate verification is strongly advised. See: https://urllib3.readthedocs.io/en/1.26.x/advanced-usage.html#ssl-warnings\n",
      "  warnings.warn(\n"
     ]
    },
    {
     "name": "stdout",
     "output_type": "stream",
     "text": [
      "https://exhibitors.gitex.com/gitex-global-2023/Exhibitor/ExbDetails/NzAw\n"
     ]
    },
    {
     "name": "stderr",
     "output_type": "stream",
     "text": [
      "C:\\Users\\saira\\anaconda3\\Lib\\site-packages\\urllib3\\connectionpool.py:1056: InsecureRequestWarning: Unverified HTTPS request is being made to host 'exhibitors.gitex.com'. Adding certificate verification is strongly advised. See: https://urllib3.readthedocs.io/en/1.26.x/advanced-usage.html#ssl-warnings\n",
      "  warnings.warn(\n"
     ]
    },
    {
     "name": "stdout",
     "output_type": "stream",
     "text": [
      "https://exhibitors.gitex.com/gitex-global-2023/Exhibitor/ExbDetails/Mjk4OA==\n"
     ]
    },
    {
     "name": "stderr",
     "output_type": "stream",
     "text": [
      "C:\\Users\\saira\\anaconda3\\Lib\\site-packages\\urllib3\\connectionpool.py:1056: InsecureRequestWarning: Unverified HTTPS request is being made to host 'exhibitors.gitex.com'. Adding certificate verification is strongly advised. See: https://urllib3.readthedocs.io/en/1.26.x/advanced-usage.html#ssl-warnings\n",
      "  warnings.warn(\n"
     ]
    },
    {
     "name": "stdout",
     "output_type": "stream",
     "text": [
      "https://exhibitors.gitex.com/gitex-global-2023/Exhibitor/ExbDetails/MTM5MQ==\n"
     ]
    },
    {
     "name": "stderr",
     "output_type": "stream",
     "text": [
      "C:\\Users\\saira\\anaconda3\\Lib\\site-packages\\urllib3\\connectionpool.py:1056: InsecureRequestWarning: Unverified HTTPS request is being made to host 'exhibitors.gitex.com'. Adding certificate verification is strongly advised. See: https://urllib3.readthedocs.io/en/1.26.x/advanced-usage.html#ssl-warnings\n",
      "  warnings.warn(\n"
     ]
    },
    {
     "name": "stdout",
     "output_type": "stream",
     "text": [
      "https://exhibitors.gitex.com/gitex-global-2023/Exhibitor/ExbDetails/MjQ3Mg==\n"
     ]
    },
    {
     "name": "stderr",
     "output_type": "stream",
     "text": [
      "C:\\Users\\saira\\anaconda3\\Lib\\site-packages\\urllib3\\connectionpool.py:1056: InsecureRequestWarning: Unverified HTTPS request is being made to host 'exhibitors.gitex.com'. Adding certificate verification is strongly advised. See: https://urllib3.readthedocs.io/en/1.26.x/advanced-usage.html#ssl-warnings\n",
      "  warnings.warn(\n"
     ]
    },
    {
     "name": "stdout",
     "output_type": "stream",
     "text": [
      "https://exhibitors.gitex.com/gitex-global-2023/Exhibitor/ExbDetails/NzQz\n"
     ]
    },
    {
     "name": "stderr",
     "output_type": "stream",
     "text": [
      "C:\\Users\\saira\\anaconda3\\Lib\\site-packages\\urllib3\\connectionpool.py:1056: InsecureRequestWarning: Unverified HTTPS request is being made to host 'exhibitors.gitex.com'. Adding certificate verification is strongly advised. See: https://urllib3.readthedocs.io/en/1.26.x/advanced-usage.html#ssl-warnings\n",
      "  warnings.warn(\n"
     ]
    },
    {
     "name": "stdout",
     "output_type": "stream",
     "text": [
      "https://exhibitors.gitex.com/gitex-global-2023/Exhibitor/ExbDetails/MTM4Ng==\n"
     ]
    },
    {
     "name": "stderr",
     "output_type": "stream",
     "text": [
      "C:\\Users\\saira\\anaconda3\\Lib\\site-packages\\urllib3\\connectionpool.py:1056: InsecureRequestWarning: Unverified HTTPS request is being made to host 'exhibitors.gitex.com'. Adding certificate verification is strongly advised. See: https://urllib3.readthedocs.io/en/1.26.x/advanced-usage.html#ssl-warnings\n",
      "  warnings.warn(\n"
     ]
    },
    {
     "name": "stdout",
     "output_type": "stream",
     "text": [
      "https://exhibitors.gitex.com/gitex-global-2023/Exhibitor/ExbDetails/MTU1MQ==\n"
     ]
    },
    {
     "name": "stderr",
     "output_type": "stream",
     "text": [
      "C:\\Users\\saira\\anaconda3\\Lib\\site-packages\\urllib3\\connectionpool.py:1056: InsecureRequestWarning: Unverified HTTPS request is being made to host 'exhibitors.gitex.com'. Adding certificate verification is strongly advised. See: https://urllib3.readthedocs.io/en/1.26.x/advanced-usage.html#ssl-warnings\n",
      "  warnings.warn(\n"
     ]
    },
    {
     "name": "stdout",
     "output_type": "stream",
     "text": [
      "https://exhibitors.gitex.com/gitex-global-2023/Exhibitor/ExbDetails/OTY3\n"
     ]
    },
    {
     "name": "stderr",
     "output_type": "stream",
     "text": [
      "C:\\Users\\saira\\anaconda3\\Lib\\site-packages\\urllib3\\connectionpool.py:1056: InsecureRequestWarning: Unverified HTTPS request is being made to host 'exhibitors.gitex.com'. Adding certificate verification is strongly advised. See: https://urllib3.readthedocs.io/en/1.26.x/advanced-usage.html#ssl-warnings\n",
      "  warnings.warn(\n"
     ]
    },
    {
     "name": "stdout",
     "output_type": "stream",
     "text": [
      "https://exhibitors.gitex.com/gitex-global-2023/Exhibitor/ExbDetails/MTUzNg==\n"
     ]
    },
    {
     "name": "stderr",
     "output_type": "stream",
     "text": [
      "C:\\Users\\saira\\anaconda3\\Lib\\site-packages\\urllib3\\connectionpool.py:1056: InsecureRequestWarning: Unverified HTTPS request is being made to host 'exhibitors.gitex.com'. Adding certificate verification is strongly advised. See: https://urllib3.readthedocs.io/en/1.26.x/advanced-usage.html#ssl-warnings\n",
      "  warnings.warn(\n"
     ]
    },
    {
     "name": "stdout",
     "output_type": "stream",
     "text": [
      "https://exhibitors.gitex.com/gitex-global-2023/Exhibitor/ExbDetails/NDU5\n"
     ]
    },
    {
     "name": "stderr",
     "output_type": "stream",
     "text": [
      "C:\\Users\\saira\\anaconda3\\Lib\\site-packages\\urllib3\\connectionpool.py:1056: InsecureRequestWarning: Unverified HTTPS request is being made to host 'exhibitors.gitex.com'. Adding certificate verification is strongly advised. See: https://urllib3.readthedocs.io/en/1.26.x/advanced-usage.html#ssl-warnings\n",
      "  warnings.warn(\n",
      "C:\\Users\\saira\\anaconda3\\Lib\\site-packages\\urllib3\\connectionpool.py:1056: InsecureRequestWarning: Unverified HTTPS request is being made to host 'exhibitors.gitex.com'. Adding certificate verification is strongly advised. See: https://urllib3.readthedocs.io/en/1.26.x/advanced-usage.html#ssl-warnings\n",
      "  warnings.warn(\n"
     ]
    },
    {
     "name": "stdout",
     "output_type": "stream",
     "text": [
      "https://exhibitors.gitex.com/gitex-global-2023/Exhibitor/ExbDetails/Mjk4Nw==\n",
      "https://exhibitors.gitex.com/gitex-global-2023/Exhibitor/ExbDetails/MTY5NA==\n"
     ]
    },
    {
     "name": "stderr",
     "output_type": "stream",
     "text": [
      "C:\\Users\\saira\\anaconda3\\Lib\\site-packages\\urllib3\\connectionpool.py:1056: InsecureRequestWarning: Unverified HTTPS request is being made to host 'exhibitors.gitex.com'. Adding certificate verification is strongly advised. See: https://urllib3.readthedocs.io/en/1.26.x/advanced-usage.html#ssl-warnings\n",
      "  warnings.warn(\n"
     ]
    },
    {
     "name": "stdout",
     "output_type": "stream",
     "text": [
      "https://exhibitors.gitex.com/gitex-global-2023/Exhibitor/ExbDetails/MTg4OA==\n"
     ]
    },
    {
     "name": "stderr",
     "output_type": "stream",
     "text": [
      "C:\\Users\\saira\\anaconda3\\Lib\\site-packages\\urllib3\\connectionpool.py:1056: InsecureRequestWarning: Unverified HTTPS request is being made to host 'exhibitors.gitex.com'. Adding certificate verification is strongly advised. See: https://urllib3.readthedocs.io/en/1.26.x/advanced-usage.html#ssl-warnings\n",
      "  warnings.warn(\n"
     ]
    },
    {
     "name": "stdout",
     "output_type": "stream",
     "text": [
      "https://exhibitors.gitex.com/gitex-global-2023/Exhibitor/ExbDetails/MTAwMA==\n"
     ]
    },
    {
     "name": "stderr",
     "output_type": "stream",
     "text": [
      "C:\\Users\\saira\\anaconda3\\Lib\\site-packages\\urllib3\\connectionpool.py:1056: InsecureRequestWarning: Unverified HTTPS request is being made to host 'exhibitors.gitex.com'. Adding certificate verification is strongly advised. See: https://urllib3.readthedocs.io/en/1.26.x/advanced-usage.html#ssl-warnings\n",
      "  warnings.warn(\n"
     ]
    },
    {
     "name": "stdout",
     "output_type": "stream",
     "text": [
      "https://exhibitors.gitex.com/gitex-global-2023/Exhibitor/ExbDetails/MTU1Ng==\n"
     ]
    },
    {
     "name": "stderr",
     "output_type": "stream",
     "text": [
      "C:\\Users\\saira\\anaconda3\\Lib\\site-packages\\urllib3\\connectionpool.py:1056: InsecureRequestWarning: Unverified HTTPS request is being made to host 'exhibitors.gitex.com'. Adding certificate verification is strongly advised. See: https://urllib3.readthedocs.io/en/1.26.x/advanced-usage.html#ssl-warnings\n",
      "  warnings.warn(\n"
     ]
    },
    {
     "name": "stdout",
     "output_type": "stream",
     "text": [
      "https://exhibitors.gitex.com/gitex-global-2023/Exhibitor/ExbDetails/MTYwMg==\n"
     ]
    },
    {
     "name": "stderr",
     "output_type": "stream",
     "text": [
      "C:\\Users\\saira\\anaconda3\\Lib\\site-packages\\urllib3\\connectionpool.py:1056: InsecureRequestWarning: Unverified HTTPS request is being made to host 'exhibitors.gitex.com'. Adding certificate verification is strongly advised. See: https://urllib3.readthedocs.io/en/1.26.x/advanced-usage.html#ssl-warnings\n",
      "  warnings.warn(\n"
     ]
    },
    {
     "name": "stdout",
     "output_type": "stream",
     "text": [
      "https://exhibitors.gitex.com/gitex-global-2023/Exhibitor/ExbDetails/NjIx\n"
     ]
    },
    {
     "name": "stderr",
     "output_type": "stream",
     "text": [
      "C:\\Users\\saira\\anaconda3\\Lib\\site-packages\\urllib3\\connectionpool.py:1056: InsecureRequestWarning: Unverified HTTPS request is being made to host 'exhibitors.gitex.com'. Adding certificate verification is strongly advised. See: https://urllib3.readthedocs.io/en/1.26.x/advanced-usage.html#ssl-warnings\n",
      "  warnings.warn(\n"
     ]
    },
    {
     "name": "stdout",
     "output_type": "stream",
     "text": [
      "https://exhibitors.gitex.com/gitex-global-2023/Exhibitor/ExbDetails/MTUwOQ==\n"
     ]
    },
    {
     "name": "stderr",
     "output_type": "stream",
     "text": [
      "C:\\Users\\saira\\anaconda3\\Lib\\site-packages\\urllib3\\connectionpool.py:1056: InsecureRequestWarning: Unverified HTTPS request is being made to host 'exhibitors.gitex.com'. Adding certificate verification is strongly advised. See: https://urllib3.readthedocs.io/en/1.26.x/advanced-usage.html#ssl-warnings\n",
      "  warnings.warn(\n"
     ]
    },
    {
     "name": "stdout",
     "output_type": "stream",
     "text": [
      "https://exhibitors.gitex.com/gitex-global-2023/Exhibitor/ExbDetails/MTYwMQ==\n"
     ]
    },
    {
     "name": "stderr",
     "output_type": "stream",
     "text": [
      "C:\\Users\\saira\\anaconda3\\Lib\\site-packages\\urllib3\\connectionpool.py:1056: InsecureRequestWarning: Unverified HTTPS request is being made to host 'exhibitors.gitex.com'. Adding certificate verification is strongly advised. See: https://urllib3.readthedocs.io/en/1.26.x/advanced-usage.html#ssl-warnings\n",
      "  warnings.warn(\n"
     ]
    },
    {
     "name": "stdout",
     "output_type": "stream",
     "text": [
      "https://exhibitors.gitex.com/gitex-global-2023/Exhibitor/ExbDetails/MTYyNA==\n"
     ]
    },
    {
     "name": "stderr",
     "output_type": "stream",
     "text": [
      "C:\\Users\\saira\\anaconda3\\Lib\\site-packages\\urllib3\\connectionpool.py:1056: InsecureRequestWarning: Unverified HTTPS request is being made to host 'exhibitors.gitex.com'. Adding certificate verification is strongly advised. See: https://urllib3.readthedocs.io/en/1.26.x/advanced-usage.html#ssl-warnings\n",
      "  warnings.warn(\n"
     ]
    },
    {
     "name": "stdout",
     "output_type": "stream",
     "text": [
      "https://exhibitors.gitex.com/gitex-global-2023/Exhibitor/ExbDetails/MTYwMA==\n"
     ]
    },
    {
     "name": "stderr",
     "output_type": "stream",
     "text": [
      "C:\\Users\\saira\\anaconda3\\Lib\\site-packages\\urllib3\\connectionpool.py:1056: InsecureRequestWarning: Unverified HTTPS request is being made to host 'exhibitors.gitex.com'. Adding certificate verification is strongly advised. See: https://urllib3.readthedocs.io/en/1.26.x/advanced-usage.html#ssl-warnings\n",
      "  warnings.warn(\n"
     ]
    },
    {
     "name": "stdout",
     "output_type": "stream",
     "text": [
      "https://exhibitors.gitex.com/gitex-global-2023/Exhibitor/ExbDetails/MTYyMw==\n"
     ]
    },
    {
     "name": "stderr",
     "output_type": "stream",
     "text": [
      "C:\\Users\\saira\\anaconda3\\Lib\\site-packages\\urllib3\\connectionpool.py:1056: InsecureRequestWarning: Unverified HTTPS request is being made to host 'exhibitors.gitex.com'. Adding certificate verification is strongly advised. See: https://urllib3.readthedocs.io/en/1.26.x/advanced-usage.html#ssl-warnings\n",
      "  warnings.warn(\n"
     ]
    },
    {
     "name": "stdout",
     "output_type": "stream",
     "text": [
      "https://exhibitors.gitex.com/gitex-global-2023/Exhibitor/ExbDetails/NzA2\n"
     ]
    },
    {
     "name": "stderr",
     "output_type": "stream",
     "text": [
      "C:\\Users\\saira\\anaconda3\\Lib\\site-packages\\urllib3\\connectionpool.py:1056: InsecureRequestWarning: Unverified HTTPS request is being made to host 'exhibitors.gitex.com'. Adding certificate verification is strongly advised. See: https://urllib3.readthedocs.io/en/1.26.x/advanced-usage.html#ssl-warnings\n",
      "  warnings.warn(\n"
     ]
    },
    {
     "name": "stdout",
     "output_type": "stream",
     "text": [
      "https://exhibitors.gitex.com/gitex-global-2023/Exhibitor/ExbDetails/OTY5\n"
     ]
    },
    {
     "name": "stderr",
     "output_type": "stream",
     "text": [
      "C:\\Users\\saira\\anaconda3\\Lib\\site-packages\\urllib3\\connectionpool.py:1056: InsecureRequestWarning: Unverified HTTPS request is being made to host 'exhibitors.gitex.com'. Adding certificate verification is strongly advised. See: https://urllib3.readthedocs.io/en/1.26.x/advanced-usage.html#ssl-warnings\n",
      "  warnings.warn(\n"
     ]
    },
    {
     "name": "stdout",
     "output_type": "stream",
     "text": [
      "https://exhibitors.gitex.com/gitex-global-2023/Exhibitor/ExbDetails/Mjg0Mw==\n"
     ]
    },
    {
     "name": "stderr",
     "output_type": "stream",
     "text": [
      "C:\\Users\\saira\\anaconda3\\Lib\\site-packages\\urllib3\\connectionpool.py:1056: InsecureRequestWarning: Unverified HTTPS request is being made to host 'exhibitors.gitex.com'. Adding certificate verification is strongly advised. See: https://urllib3.readthedocs.io/en/1.26.x/advanced-usage.html#ssl-warnings\n",
      "  warnings.warn(\n"
     ]
    },
    {
     "name": "stdout",
     "output_type": "stream",
     "text": [
      "https://exhibitors.gitex.com/gitex-global-2023/Exhibitor/ExbDetails/MTEzMw==\n"
     ]
    },
    {
     "name": "stderr",
     "output_type": "stream",
     "text": [
      "C:\\Users\\saira\\anaconda3\\Lib\\site-packages\\urllib3\\connectionpool.py:1056: InsecureRequestWarning: Unverified HTTPS request is being made to host 'exhibitors.gitex.com'. Adding certificate verification is strongly advised. See: https://urllib3.readthedocs.io/en/1.26.x/advanced-usage.html#ssl-warnings\n",
      "  warnings.warn(\n"
     ]
    },
    {
     "name": "stdout",
     "output_type": "stream",
     "text": [
      "https://exhibitors.gitex.com/gitex-global-2023/Exhibitor/ExbDetails/MTA2OA==\n"
     ]
    },
    {
     "name": "stderr",
     "output_type": "stream",
     "text": [
      "C:\\Users\\saira\\anaconda3\\Lib\\site-packages\\urllib3\\connectionpool.py:1056: InsecureRequestWarning: Unverified HTTPS request is being made to host 'exhibitors.gitex.com'. Adding certificate verification is strongly advised. See: https://urllib3.readthedocs.io/en/1.26.x/advanced-usage.html#ssl-warnings\n",
      "  warnings.warn(\n"
     ]
    },
    {
     "name": "stdout",
     "output_type": "stream",
     "text": [
      "https://exhibitors.gitex.com/gitex-global-2023/Exhibitor/ExbDetails/MTM5Mg==\n"
     ]
    },
    {
     "name": "stderr",
     "output_type": "stream",
     "text": [
      "C:\\Users\\saira\\anaconda3\\Lib\\site-packages\\urllib3\\connectionpool.py:1056: InsecureRequestWarning: Unverified HTTPS request is being made to host 'exhibitors.gitex.com'. Adding certificate verification is strongly advised. See: https://urllib3.readthedocs.io/en/1.26.x/advanced-usage.html#ssl-warnings\n",
      "  warnings.warn(\n"
     ]
    },
    {
     "name": "stdout",
     "output_type": "stream",
     "text": [
      "https://exhibitors.gitex.com/gitex-global-2023/Exhibitor/ExbDetails/MTcxMA==\n"
     ]
    },
    {
     "name": "stderr",
     "output_type": "stream",
     "text": [
      "C:\\Users\\saira\\anaconda3\\Lib\\site-packages\\urllib3\\connectionpool.py:1056: InsecureRequestWarning: Unverified HTTPS request is being made to host 'exhibitors.gitex.com'. Adding certificate verification is strongly advised. See: https://urllib3.readthedocs.io/en/1.26.x/advanced-usage.html#ssl-warnings\n",
      "  warnings.warn(\n"
     ]
    },
    {
     "name": "stdout",
     "output_type": "stream",
     "text": [
      "https://exhibitors.gitex.com/gitex-global-2023/Exhibitor/ExbDetails/MTA1OQ==\n"
     ]
    },
    {
     "name": "stderr",
     "output_type": "stream",
     "text": [
      "C:\\Users\\saira\\anaconda3\\Lib\\site-packages\\urllib3\\connectionpool.py:1056: InsecureRequestWarning: Unverified HTTPS request is being made to host 'exhibitors.gitex.com'. Adding certificate verification is strongly advised. See: https://urllib3.readthedocs.io/en/1.26.x/advanced-usage.html#ssl-warnings\n",
      "  warnings.warn(\n"
     ]
    },
    {
     "name": "stdout",
     "output_type": "stream",
     "text": [
      "https://exhibitors.gitex.com/gitex-global-2023/Exhibitor/ExbDetails/NjE4\n"
     ]
    },
    {
     "name": "stderr",
     "output_type": "stream",
     "text": [
      "C:\\Users\\saira\\anaconda3\\Lib\\site-packages\\urllib3\\connectionpool.py:1056: InsecureRequestWarning: Unverified HTTPS request is being made to host 'exhibitors.gitex.com'. Adding certificate verification is strongly advised. See: https://urllib3.readthedocs.io/en/1.26.x/advanced-usage.html#ssl-warnings\n",
      "  warnings.warn(\n"
     ]
    },
    {
     "name": "stdout",
     "output_type": "stream",
     "text": [
      "https://exhibitors.gitex.com/gitex-global-2023/Exhibitor/ExbDetails/MTU2Ng==\n"
     ]
    },
    {
     "name": "stderr",
     "output_type": "stream",
     "text": [
      "C:\\Users\\saira\\anaconda3\\Lib\\site-packages\\urllib3\\connectionpool.py:1056: InsecureRequestWarning: Unverified HTTPS request is being made to host 'exhibitors.gitex.com'. Adding certificate verification is strongly advised. See: https://urllib3.readthedocs.io/en/1.26.x/advanced-usage.html#ssl-warnings\n",
      "  warnings.warn(\n"
     ]
    },
    {
     "name": "stdout",
     "output_type": "stream",
     "text": [
      "https://exhibitors.gitex.com/gitex-global-2023/Exhibitor/ExbDetails/MTY4MA==\n"
     ]
    },
    {
     "name": "stderr",
     "output_type": "stream",
     "text": [
      "C:\\Users\\saira\\anaconda3\\Lib\\site-packages\\urllib3\\connectionpool.py:1056: InsecureRequestWarning: Unverified HTTPS request is being made to host 'exhibitors.gitex.com'. Adding certificate verification is strongly advised. See: https://urllib3.readthedocs.io/en/1.26.x/advanced-usage.html#ssl-warnings\n",
      "  warnings.warn(\n"
     ]
    },
    {
     "name": "stdout",
     "output_type": "stream",
     "text": [
      "https://exhibitors.gitex.com/gitex-global-2023/Exhibitor/ExbDetails/MTE0OQ==\n"
     ]
    },
    {
     "name": "stderr",
     "output_type": "stream",
     "text": [
      "C:\\Users\\saira\\anaconda3\\Lib\\site-packages\\urllib3\\connectionpool.py:1056: InsecureRequestWarning: Unverified HTTPS request is being made to host 'exhibitors.gitex.com'. Adding certificate verification is strongly advised. See: https://urllib3.readthedocs.io/en/1.26.x/advanced-usage.html#ssl-warnings\n",
      "  warnings.warn(\n"
     ]
    },
    {
     "name": "stdout",
     "output_type": "stream",
     "text": [
      "https://exhibitors.gitex.com/gitex-global-2023/Exhibitor/ExbDetails/NTk0\n"
     ]
    },
    {
     "name": "stderr",
     "output_type": "stream",
     "text": [
      "C:\\Users\\saira\\anaconda3\\Lib\\site-packages\\urllib3\\connectionpool.py:1056: InsecureRequestWarning: Unverified HTTPS request is being made to host 'exhibitors.gitex.com'. Adding certificate verification is strongly advised. See: https://urllib3.readthedocs.io/en/1.26.x/advanced-usage.html#ssl-warnings\n",
      "  warnings.warn(\n"
     ]
    },
    {
     "name": "stdout",
     "output_type": "stream",
     "text": [
      "https://exhibitors.gitex.com/gitex-global-2023/Exhibitor/ExbDetails/NTg1\n"
     ]
    },
    {
     "name": "stderr",
     "output_type": "stream",
     "text": [
      "C:\\Users\\saira\\anaconda3\\Lib\\site-packages\\urllib3\\connectionpool.py:1056: InsecureRequestWarning: Unverified HTTPS request is being made to host 'exhibitors.gitex.com'. Adding certificate verification is strongly advised. See: https://urllib3.readthedocs.io/en/1.26.x/advanced-usage.html#ssl-warnings\n",
      "  warnings.warn(\n"
     ]
    },
    {
     "name": "stdout",
     "output_type": "stream",
     "text": [
      "https://exhibitors.gitex.com/gitex-global-2023/Exhibitor/ExbDetails/MjkxNQ==\n"
     ]
    },
    {
     "name": "stderr",
     "output_type": "stream",
     "text": [
      "C:\\Users\\saira\\anaconda3\\Lib\\site-packages\\urllib3\\connectionpool.py:1056: InsecureRequestWarning: Unverified HTTPS request is being made to host 'exhibitors.gitex.com'. Adding certificate verification is strongly advised. See: https://urllib3.readthedocs.io/en/1.26.x/advanced-usage.html#ssl-warnings\n",
      "  warnings.warn(\n"
     ]
    },
    {
     "name": "stdout",
     "output_type": "stream",
     "text": [
      "https://exhibitors.gitex.com/gitex-global-2023/Exhibitor/ExbDetails/Mjc3Ng==\n"
     ]
    },
    {
     "name": "stderr",
     "output_type": "stream",
     "text": [
      "C:\\Users\\saira\\anaconda3\\Lib\\site-packages\\urllib3\\connectionpool.py:1056: InsecureRequestWarning: Unverified HTTPS request is being made to host 'exhibitors.gitex.com'. Adding certificate verification is strongly advised. See: https://urllib3.readthedocs.io/en/1.26.x/advanced-usage.html#ssl-warnings\n",
      "  warnings.warn(\n"
     ]
    },
    {
     "name": "stdout",
     "output_type": "stream",
     "text": [
      "https://exhibitors.gitex.com/gitex-global-2023/Exhibitor/ExbDetails/MTkxMw==\n"
     ]
    },
    {
     "name": "stderr",
     "output_type": "stream",
     "text": [
      "C:\\Users\\saira\\anaconda3\\Lib\\site-packages\\urllib3\\connectionpool.py:1056: InsecureRequestWarning: Unverified HTTPS request is being made to host 'exhibitors.gitex.com'. Adding certificate verification is strongly advised. See: https://urllib3.readthedocs.io/en/1.26.x/advanced-usage.html#ssl-warnings\n",
      "  warnings.warn(\n"
     ]
    },
    {
     "name": "stdout",
     "output_type": "stream",
     "text": [
      "https://exhibitors.gitex.com/gitex-global-2023/Exhibitor/ExbDetails/NTg2\n"
     ]
    },
    {
     "name": "stderr",
     "output_type": "stream",
     "text": [
      "C:\\Users\\saira\\anaconda3\\Lib\\site-packages\\urllib3\\connectionpool.py:1056: InsecureRequestWarning: Unverified HTTPS request is being made to host 'exhibitors.gitex.com'. Adding certificate verification is strongly advised. See: https://urllib3.readthedocs.io/en/1.26.x/advanced-usage.html#ssl-warnings\n",
      "  warnings.warn(\n"
     ]
    },
    {
     "name": "stdout",
     "output_type": "stream",
     "text": [
      "https://exhibitors.gitex.com/gitex-global-2023/Exhibitor/ExbDetails/OTk2\n"
     ]
    },
    {
     "name": "stderr",
     "output_type": "stream",
     "text": [
      "C:\\Users\\saira\\anaconda3\\Lib\\site-packages\\urllib3\\connectionpool.py:1056: InsecureRequestWarning: Unverified HTTPS request is being made to host 'exhibitors.gitex.com'. Adding certificate verification is strongly advised. See: https://urllib3.readthedocs.io/en/1.26.x/advanced-usage.html#ssl-warnings\n",
      "  warnings.warn(\n"
     ]
    },
    {
     "name": "stdout",
     "output_type": "stream",
     "text": [
      "https://exhibitors.gitex.com/gitex-global-2023/Exhibitor/ExbDetails/NzMw\n"
     ]
    },
    {
     "name": "stderr",
     "output_type": "stream",
     "text": [
      "C:\\Users\\saira\\anaconda3\\Lib\\site-packages\\urllib3\\connectionpool.py:1056: InsecureRequestWarning: Unverified HTTPS request is being made to host 'exhibitors.gitex.com'. Adding certificate verification is strongly advised. See: https://urllib3.readthedocs.io/en/1.26.x/advanced-usage.html#ssl-warnings\n",
      "  warnings.warn(\n"
     ]
    },
    {
     "name": "stdout",
     "output_type": "stream",
     "text": [
      "https://exhibitors.gitex.com/gitex-global-2023/Exhibitor/ExbDetails/Njk4\n"
     ]
    },
    {
     "name": "stderr",
     "output_type": "stream",
     "text": [
      "C:\\Users\\saira\\anaconda3\\Lib\\site-packages\\urllib3\\connectionpool.py:1056: InsecureRequestWarning: Unverified HTTPS request is being made to host 'exhibitors.gitex.com'. Adding certificate verification is strongly advised. See: https://urllib3.readthedocs.io/en/1.26.x/advanced-usage.html#ssl-warnings\n",
      "  warnings.warn(\n"
     ]
    },
    {
     "name": "stdout",
     "output_type": "stream",
     "text": [
      "https://exhibitors.gitex.com/gitex-global-2023/Exhibitor/ExbDetails/OTk5\n"
     ]
    },
    {
     "name": "stderr",
     "output_type": "stream",
     "text": [
      "C:\\Users\\saira\\anaconda3\\Lib\\site-packages\\urllib3\\connectionpool.py:1056: InsecureRequestWarning: Unverified HTTPS request is being made to host 'exhibitors.gitex.com'. Adding certificate verification is strongly advised. See: https://urllib3.readthedocs.io/en/1.26.x/advanced-usage.html#ssl-warnings\n",
      "  warnings.warn(\n"
     ]
    },
    {
     "name": "stdout",
     "output_type": "stream",
     "text": [
      "https://exhibitors.gitex.com/gitex-global-2023/Exhibitor/ExbDetails/NjQx\n"
     ]
    },
    {
     "name": "stderr",
     "output_type": "stream",
     "text": [
      "C:\\Users\\saira\\anaconda3\\Lib\\site-packages\\urllib3\\connectionpool.py:1056: InsecureRequestWarning: Unverified HTTPS request is being made to host 'exhibitors.gitex.com'. Adding certificate verification is strongly advised. See: https://urllib3.readthedocs.io/en/1.26.x/advanced-usage.html#ssl-warnings\n",
      "  warnings.warn(\n"
     ]
    },
    {
     "name": "stdout",
     "output_type": "stream",
     "text": [
      "https://exhibitors.gitex.com/gitex-global-2023/Exhibitor/ExbDetails/MTg4NA==\n"
     ]
    },
    {
     "name": "stderr",
     "output_type": "stream",
     "text": [
      "C:\\Users\\saira\\anaconda3\\Lib\\site-packages\\urllib3\\connectionpool.py:1056: InsecureRequestWarning: Unverified HTTPS request is being made to host 'exhibitors.gitex.com'. Adding certificate verification is strongly advised. See: https://urllib3.readthedocs.io/en/1.26.x/advanced-usage.html#ssl-warnings\n",
      "  warnings.warn(\n"
     ]
    },
    {
     "name": "stdout",
     "output_type": "stream",
     "text": [
      "https://exhibitors.gitex.com/gitex-global-2023/Exhibitor/ExbDetails/MTU1OA==\n"
     ]
    },
    {
     "name": "stderr",
     "output_type": "stream",
     "text": [
      "C:\\Users\\saira\\anaconda3\\Lib\\site-packages\\urllib3\\connectionpool.py:1056: InsecureRequestWarning: Unverified HTTPS request is being made to host 'exhibitors.gitex.com'. Adding certificate verification is strongly advised. See: https://urllib3.readthedocs.io/en/1.26.x/advanced-usage.html#ssl-warnings\n",
      "  warnings.warn(\n"
     ]
    },
    {
     "name": "stdout",
     "output_type": "stream",
     "text": [
      "https://exhibitors.gitex.com/gitex-global-2023/Exhibitor/ExbDetails/MTUyMA==\n"
     ]
    },
    {
     "name": "stderr",
     "output_type": "stream",
     "text": [
      "C:\\Users\\saira\\anaconda3\\Lib\\site-packages\\urllib3\\connectionpool.py:1056: InsecureRequestWarning: Unverified HTTPS request is being made to host 'exhibitors.gitex.com'. Adding certificate verification is strongly advised. See: https://urllib3.readthedocs.io/en/1.26.x/advanced-usage.html#ssl-warnings\n",
      "  warnings.warn(\n"
     ]
    },
    {
     "name": "stdout",
     "output_type": "stream",
     "text": [
      "https://exhibitors.gitex.com/gitex-global-2023/Exhibitor/ExbDetails/MTY2NQ==\n"
     ]
    },
    {
     "name": "stderr",
     "output_type": "stream",
     "text": [
      "C:\\Users\\saira\\anaconda3\\Lib\\site-packages\\urllib3\\connectionpool.py:1056: InsecureRequestWarning: Unverified HTTPS request is being made to host 'exhibitors.gitex.com'. Adding certificate verification is strongly advised. See: https://urllib3.readthedocs.io/en/1.26.x/advanced-usage.html#ssl-warnings\n",
      "  warnings.warn(\n"
     ]
    },
    {
     "name": "stdout",
     "output_type": "stream",
     "text": [
      "https://exhibitors.gitex.com/gitex-global-2023/Exhibitor/ExbDetails/MTUwMA==\n"
     ]
    },
    {
     "name": "stderr",
     "output_type": "stream",
     "text": [
      "C:\\Users\\saira\\anaconda3\\Lib\\site-packages\\urllib3\\connectionpool.py:1056: InsecureRequestWarning: Unverified HTTPS request is being made to host 'exhibitors.gitex.com'. Adding certificate verification is strongly advised. See: https://urllib3.readthedocs.io/en/1.26.x/advanced-usage.html#ssl-warnings\n",
      "  warnings.warn(\n"
     ]
    },
    {
     "name": "stdout",
     "output_type": "stream",
     "text": [
      "https://exhibitors.gitex.com/gitex-global-2023/Exhibitor/ExbDetails/NDY3\n"
     ]
    },
    {
     "name": "stderr",
     "output_type": "stream",
     "text": [
      "C:\\Users\\saira\\anaconda3\\Lib\\site-packages\\urllib3\\connectionpool.py:1056: InsecureRequestWarning: Unverified HTTPS request is being made to host 'exhibitors.gitex.com'. Adding certificate verification is strongly advised. See: https://urllib3.readthedocs.io/en/1.26.x/advanced-usage.html#ssl-warnings\n",
      "  warnings.warn(\n"
     ]
    },
    {
     "name": "stdout",
     "output_type": "stream",
     "text": [
      "https://exhibitors.gitex.com/gitex-global-2023/Exhibitor/ExbDetails/NTI1\n"
     ]
    },
    {
     "name": "stderr",
     "output_type": "stream",
     "text": [
      "C:\\Users\\saira\\anaconda3\\Lib\\site-packages\\urllib3\\connectionpool.py:1056: InsecureRequestWarning: Unverified HTTPS request is being made to host 'exhibitors.gitex.com'. Adding certificate verification is strongly advised. See: https://urllib3.readthedocs.io/en/1.26.x/advanced-usage.html#ssl-warnings\n",
      "  warnings.warn(\n"
     ]
    },
    {
     "name": "stdout",
     "output_type": "stream",
     "text": [
      "https://exhibitors.gitex.com/gitex-global-2023/Exhibitor/ExbDetails/MTQ5NQ==\n"
     ]
    },
    {
     "name": "stderr",
     "output_type": "stream",
     "text": [
      "C:\\Users\\saira\\anaconda3\\Lib\\site-packages\\urllib3\\connectionpool.py:1056: InsecureRequestWarning: Unverified HTTPS request is being made to host 'exhibitors.gitex.com'. Adding certificate verification is strongly advised. See: https://urllib3.readthedocs.io/en/1.26.x/advanced-usage.html#ssl-warnings\n",
      "  warnings.warn(\n"
     ]
    },
    {
     "name": "stdout",
     "output_type": "stream",
     "text": [
      "https://exhibitors.gitex.com/gitex-global-2023/Exhibitor/ExbDetails/MTAyNw==\n"
     ]
    },
    {
     "name": "stderr",
     "output_type": "stream",
     "text": [
      "C:\\Users\\saira\\anaconda3\\Lib\\site-packages\\urllib3\\connectionpool.py:1056: InsecureRequestWarning: Unverified HTTPS request is being made to host 'exhibitors.gitex.com'. Adding certificate verification is strongly advised. See: https://urllib3.readthedocs.io/en/1.26.x/advanced-usage.html#ssl-warnings\n",
      "  warnings.warn(\n"
     ]
    },
    {
     "name": "stdout",
     "output_type": "stream",
     "text": [
      "https://exhibitors.gitex.com/gitex-global-2023/Exhibitor/ExbDetails/MTEyOQ==\n"
     ]
    },
    {
     "name": "stderr",
     "output_type": "stream",
     "text": [
      "C:\\Users\\saira\\anaconda3\\Lib\\site-packages\\urllib3\\connectionpool.py:1056: InsecureRequestWarning: Unverified HTTPS request is being made to host 'exhibitors.gitex.com'. Adding certificate verification is strongly advised. See: https://urllib3.readthedocs.io/en/1.26.x/advanced-usage.html#ssl-warnings\n",
      "  warnings.warn(\n"
     ]
    },
    {
     "name": "stdout",
     "output_type": "stream",
     "text": [
      "https://exhibitors.gitex.com/gitex-global-2023/Exhibitor/ExbDetails/NDA4\n"
     ]
    },
    {
     "name": "stderr",
     "output_type": "stream",
     "text": [
      "C:\\Users\\saira\\anaconda3\\Lib\\site-packages\\urllib3\\connectionpool.py:1056: InsecureRequestWarning: Unverified HTTPS request is being made to host 'exhibitors.gitex.com'. Adding certificate verification is strongly advised. See: https://urllib3.readthedocs.io/en/1.26.x/advanced-usage.html#ssl-warnings\n",
      "  warnings.warn(\n"
     ]
    },
    {
     "name": "stdout",
     "output_type": "stream",
     "text": [
      "https://exhibitors.gitex.com/gitex-global-2023/Exhibitor/ExbDetails/OTc3\n"
     ]
    },
    {
     "name": "stderr",
     "output_type": "stream",
     "text": [
      "C:\\Users\\saira\\anaconda3\\Lib\\site-packages\\urllib3\\connectionpool.py:1056: InsecureRequestWarning: Unverified HTTPS request is being made to host 'exhibitors.gitex.com'. Adding certificate verification is strongly advised. See: https://urllib3.readthedocs.io/en/1.26.x/advanced-usage.html#ssl-warnings\n",
      "  warnings.warn(\n"
     ]
    },
    {
     "name": "stdout",
     "output_type": "stream",
     "text": [
      "https://exhibitors.gitex.com/gitex-global-2023/Exhibitor/ExbDetails/OTcw\n"
     ]
    },
    {
     "name": "stderr",
     "output_type": "stream",
     "text": [
      "C:\\Users\\saira\\anaconda3\\Lib\\site-packages\\urllib3\\connectionpool.py:1056: InsecureRequestWarning: Unverified HTTPS request is being made to host 'exhibitors.gitex.com'. Adding certificate verification is strongly advised. See: https://urllib3.readthedocs.io/en/1.26.x/advanced-usage.html#ssl-warnings\n",
      "  warnings.warn(\n"
     ]
    },
    {
     "name": "stdout",
     "output_type": "stream",
     "text": [
      "https://exhibitors.gitex.com/gitex-global-2023/Exhibitor/ExbDetails/NTg0\n"
     ]
    },
    {
     "name": "stderr",
     "output_type": "stream",
     "text": [
      "C:\\Users\\saira\\anaconda3\\Lib\\site-packages\\urllib3\\connectionpool.py:1056: InsecureRequestWarning: Unverified HTTPS request is being made to host 'exhibitors.gitex.com'. Adding certificate verification is strongly advised. See: https://urllib3.readthedocs.io/en/1.26.x/advanced-usage.html#ssl-warnings\n",
      "  warnings.warn(\n"
     ]
    },
    {
     "name": "stdout",
     "output_type": "stream",
     "text": [
      "https://exhibitors.gitex.com/gitex-global-2023/Exhibitor/ExbDetails/MjI0NQ==\n"
     ]
    },
    {
     "name": "stderr",
     "output_type": "stream",
     "text": [
      "C:\\Users\\saira\\anaconda3\\Lib\\site-packages\\urllib3\\connectionpool.py:1056: InsecureRequestWarning: Unverified HTTPS request is being made to host 'exhibitors.gitex.com'. Adding certificate verification is strongly advised. See: https://urllib3.readthedocs.io/en/1.26.x/advanced-usage.html#ssl-warnings\n",
      "  warnings.warn(\n"
     ]
    },
    {
     "name": "stdout",
     "output_type": "stream",
     "text": [
      "https://exhibitors.gitex.com/gitex-global-2023/Exhibitor/ExbDetails/MTM0Nw==\n"
     ]
    },
    {
     "name": "stderr",
     "output_type": "stream",
     "text": [
      "C:\\Users\\saira\\anaconda3\\Lib\\site-packages\\urllib3\\connectionpool.py:1056: InsecureRequestWarning: Unverified HTTPS request is being made to host 'exhibitors.gitex.com'. Adding certificate verification is strongly advised. See: https://urllib3.readthedocs.io/en/1.26.x/advanced-usage.html#ssl-warnings\n",
      "  warnings.warn(\n"
     ]
    },
    {
     "name": "stdout",
     "output_type": "stream",
     "text": [
      "https://exhibitors.gitex.com/gitex-global-2023/Exhibitor/ExbDetails/OTk0\n"
     ]
    },
    {
     "name": "stderr",
     "output_type": "stream",
     "text": [
      "C:\\Users\\saira\\anaconda3\\Lib\\site-packages\\urllib3\\connectionpool.py:1056: InsecureRequestWarning: Unverified HTTPS request is being made to host 'exhibitors.gitex.com'. Adding certificate verification is strongly advised. See: https://urllib3.readthedocs.io/en/1.26.x/advanced-usage.html#ssl-warnings\n",
      "  warnings.warn(\n"
     ]
    },
    {
     "name": "stdout",
     "output_type": "stream",
     "text": [
      "https://exhibitors.gitex.com/gitex-global-2023/Exhibitor/ExbDetails/NzE0\n"
     ]
    },
    {
     "name": "stderr",
     "output_type": "stream",
     "text": [
      "C:\\Users\\saira\\anaconda3\\Lib\\site-packages\\urllib3\\connectionpool.py:1056: InsecureRequestWarning: Unverified HTTPS request is being made to host 'exhibitors.gitex.com'. Adding certificate verification is strongly advised. See: https://urllib3.readthedocs.io/en/1.26.x/advanced-usage.html#ssl-warnings\n",
      "  warnings.warn(\n"
     ]
    },
    {
     "name": "stdout",
     "output_type": "stream",
     "text": [
      "https://exhibitors.gitex.com/gitex-global-2023/Exhibitor/ExbDetails/NjA1\n"
     ]
    },
    {
     "name": "stderr",
     "output_type": "stream",
     "text": [
      "C:\\Users\\saira\\anaconda3\\Lib\\site-packages\\urllib3\\connectionpool.py:1056: InsecureRequestWarning: Unverified HTTPS request is being made to host 'exhibitors.gitex.com'. Adding certificate verification is strongly advised. See: https://urllib3.readthedocs.io/en/1.26.x/advanced-usage.html#ssl-warnings\n",
      "  warnings.warn(\n"
     ]
    },
    {
     "name": "stdout",
     "output_type": "stream",
     "text": [
      "https://exhibitors.gitex.com/gitex-global-2023/Exhibitor/ExbDetails/NTU2\n"
     ]
    },
    {
     "name": "stderr",
     "output_type": "stream",
     "text": [
      "C:\\Users\\saira\\anaconda3\\Lib\\site-packages\\urllib3\\connectionpool.py:1056: InsecureRequestWarning: Unverified HTTPS request is being made to host 'exhibitors.gitex.com'. Adding certificate verification is strongly advised. See: https://urllib3.readthedocs.io/en/1.26.x/advanced-usage.html#ssl-warnings\n",
      "  warnings.warn(\n"
     ]
    },
    {
     "name": "stdout",
     "output_type": "stream",
     "text": [
      "https://exhibitors.gitex.com/gitex-global-2023/Exhibitor/ExbDetails/NzEy\n"
     ]
    },
    {
     "name": "stderr",
     "output_type": "stream",
     "text": [
      "C:\\Users\\saira\\anaconda3\\Lib\\site-packages\\urllib3\\connectionpool.py:1056: InsecureRequestWarning: Unverified HTTPS request is being made to host 'exhibitors.gitex.com'. Adding certificate verification is strongly advised. See: https://urllib3.readthedocs.io/en/1.26.x/advanced-usage.html#ssl-warnings\n",
      "  warnings.warn(\n"
     ]
    },
    {
     "name": "stdout",
     "output_type": "stream",
     "text": [
      "https://exhibitors.gitex.com/gitex-global-2023/Exhibitor/ExbDetails/OTc2\n"
     ]
    },
    {
     "name": "stderr",
     "output_type": "stream",
     "text": [
      "C:\\Users\\saira\\anaconda3\\Lib\\site-packages\\urllib3\\connectionpool.py:1056: InsecureRequestWarning: Unverified HTTPS request is being made to host 'exhibitors.gitex.com'. Adding certificate verification is strongly advised. See: https://urllib3.readthedocs.io/en/1.26.x/advanced-usage.html#ssl-warnings\n",
      "  warnings.warn(\n"
     ]
    },
    {
     "name": "stdout",
     "output_type": "stream",
     "text": [
      "https://exhibitors.gitex.com/gitex-global-2023/Exhibitor/ExbDetails/Mjg3OA==\n"
     ]
    },
    {
     "name": "stderr",
     "output_type": "stream",
     "text": [
      "C:\\Users\\saira\\anaconda3\\Lib\\site-packages\\urllib3\\connectionpool.py:1056: InsecureRequestWarning: Unverified HTTPS request is being made to host 'exhibitors.gitex.com'. Adding certificate verification is strongly advised. See: https://urllib3.readthedocs.io/en/1.26.x/advanced-usage.html#ssl-warnings\n",
      "  warnings.warn(\n"
     ]
    },
    {
     "name": "stdout",
     "output_type": "stream",
     "text": [
      "https://exhibitors.gitex.com/gitex-global-2023/Exhibitor/ExbDetails/MTg4OQ==\n"
     ]
    },
    {
     "name": "stderr",
     "output_type": "stream",
     "text": [
      "C:\\Users\\saira\\anaconda3\\Lib\\site-packages\\urllib3\\connectionpool.py:1056: InsecureRequestWarning: Unverified HTTPS request is being made to host 'exhibitors.gitex.com'. Adding certificate verification is strongly advised. See: https://urllib3.readthedocs.io/en/1.26.x/advanced-usage.html#ssl-warnings\n",
      "  warnings.warn(\n"
     ]
    },
    {
     "name": "stdout",
     "output_type": "stream",
     "text": [
      "https://exhibitors.gitex.com/gitex-global-2023/Exhibitor/ExbDetails/MjgwOQ==\n"
     ]
    },
    {
     "name": "stderr",
     "output_type": "stream",
     "text": [
      "C:\\Users\\saira\\anaconda3\\Lib\\site-packages\\urllib3\\connectionpool.py:1056: InsecureRequestWarning: Unverified HTTPS request is being made to host 'exhibitors.gitex.com'. Adding certificate verification is strongly advised. See: https://urllib3.readthedocs.io/en/1.26.x/advanced-usage.html#ssl-warnings\n",
      "  warnings.warn(\n"
     ]
    },
    {
     "name": "stdout",
     "output_type": "stream",
     "text": [
      "https://exhibitors.gitex.com/gitex-global-2023/Exhibitor/ExbDetails/MjU4NQ==\n"
     ]
    },
    {
     "name": "stderr",
     "output_type": "stream",
     "text": [
      "C:\\Users\\saira\\anaconda3\\Lib\\site-packages\\urllib3\\connectionpool.py:1056: InsecureRequestWarning: Unverified HTTPS request is being made to host 'exhibitors.gitex.com'. Adding certificate verification is strongly advised. See: https://urllib3.readthedocs.io/en/1.26.x/advanced-usage.html#ssl-warnings\n",
      "  warnings.warn(\n"
     ]
    },
    {
     "name": "stdout",
     "output_type": "stream",
     "text": [
      "https://exhibitors.gitex.com/gitex-global-2023/Exhibitor/ExbDetails/NDc0\n"
     ]
    },
    {
     "name": "stderr",
     "output_type": "stream",
     "text": [
      "C:\\Users\\saira\\anaconda3\\Lib\\site-packages\\urllib3\\connectionpool.py:1056: InsecureRequestWarning: Unverified HTTPS request is being made to host 'exhibitors.gitex.com'. Adding certificate verification is strongly advised. See: https://urllib3.readthedocs.io/en/1.26.x/advanced-usage.html#ssl-warnings\n",
      "  warnings.warn(\n"
     ]
    },
    {
     "name": "stdout",
     "output_type": "stream",
     "text": [
      "https://exhibitors.gitex.com/gitex-global-2023/Exhibitor/ExbDetails/NDcz\n"
     ]
    },
    {
     "name": "stderr",
     "output_type": "stream",
     "text": [
      "C:\\Users\\saira\\anaconda3\\Lib\\site-packages\\urllib3\\connectionpool.py:1056: InsecureRequestWarning: Unverified HTTPS request is being made to host 'exhibitors.gitex.com'. Adding certificate verification is strongly advised. See: https://urllib3.readthedocs.io/en/1.26.x/advanced-usage.html#ssl-warnings\n",
      "  warnings.warn(\n"
     ]
    },
    {
     "name": "stdout",
     "output_type": "stream",
     "text": [
      "https://exhibitors.gitex.com/gitex-global-2023/Exhibitor/ExbDetails/MTcyNw==\n"
     ]
    },
    {
     "name": "stderr",
     "output_type": "stream",
     "text": [
      "C:\\Users\\saira\\anaconda3\\Lib\\site-packages\\urllib3\\connectionpool.py:1056: InsecureRequestWarning: Unverified HTTPS request is being made to host 'exhibitors.gitex.com'. Adding certificate verification is strongly advised. See: https://urllib3.readthedocs.io/en/1.26.x/advanced-usage.html#ssl-warnings\n",
      "  warnings.warn(\n"
     ]
    },
    {
     "name": "stdout",
     "output_type": "stream",
     "text": [
      "https://exhibitors.gitex.com/gitex-global-2023/Exhibitor/ExbDetails/MTU5OQ==\n"
     ]
    },
    {
     "name": "stderr",
     "output_type": "stream",
     "text": [
      "C:\\Users\\saira\\anaconda3\\Lib\\site-packages\\urllib3\\connectionpool.py:1056: InsecureRequestWarning: Unverified HTTPS request is being made to host 'exhibitors.gitex.com'. Adding certificate verification is strongly advised. See: https://urllib3.readthedocs.io/en/1.26.x/advanced-usage.html#ssl-warnings\n",
      "  warnings.warn(\n"
     ]
    },
    {
     "name": "stdout",
     "output_type": "stream",
     "text": [
      "https://exhibitors.gitex.com/gitex-global-2023/Exhibitor/ExbDetails/MTQ4Ng==\n"
     ]
    },
    {
     "name": "stderr",
     "output_type": "stream",
     "text": [
      "C:\\Users\\saira\\anaconda3\\Lib\\site-packages\\urllib3\\connectionpool.py:1056: InsecureRequestWarning: Unverified HTTPS request is being made to host 'exhibitors.gitex.com'. Adding certificate verification is strongly advised. See: https://urllib3.readthedocs.io/en/1.26.x/advanced-usage.html#ssl-warnings\n",
      "  warnings.warn(\n"
     ]
    },
    {
     "name": "stdout",
     "output_type": "stream",
     "text": [
      "https://exhibitors.gitex.com/gitex-global-2023/Exhibitor/ExbDetails/MTYyMg==\n"
     ]
    },
    {
     "name": "stderr",
     "output_type": "stream",
     "text": [
      "C:\\Users\\saira\\anaconda3\\Lib\\site-packages\\urllib3\\connectionpool.py:1056: InsecureRequestWarning: Unverified HTTPS request is being made to host 'exhibitors.gitex.com'. Adding certificate verification is strongly advised. See: https://urllib3.readthedocs.io/en/1.26.x/advanced-usage.html#ssl-warnings\n",
      "  warnings.warn(\n"
     ]
    },
    {
     "name": "stdout",
     "output_type": "stream",
     "text": [
      "https://exhibitors.gitex.com/gitex-global-2023/Exhibitor/ExbDetails/MTY2Mw==\n"
     ]
    },
    {
     "name": "stderr",
     "output_type": "stream",
     "text": [
      "C:\\Users\\saira\\anaconda3\\Lib\\site-packages\\urllib3\\connectionpool.py:1056: InsecureRequestWarning: Unverified HTTPS request is being made to host 'exhibitors.gitex.com'. Adding certificate verification is strongly advised. See: https://urllib3.readthedocs.io/en/1.26.x/advanced-usage.html#ssl-warnings\n",
      "  warnings.warn(\n"
     ]
    },
    {
     "name": "stdout",
     "output_type": "stream",
     "text": [
      "https://exhibitors.gitex.com/gitex-global-2023/Exhibitor/ExbDetails/OTg2\n"
     ]
    },
    {
     "name": "stderr",
     "output_type": "stream",
     "text": [
      "C:\\Users\\saira\\anaconda3\\Lib\\site-packages\\urllib3\\connectionpool.py:1056: InsecureRequestWarning: Unverified HTTPS request is being made to host 'exhibitors.gitex.com'. Adding certificate verification is strongly advised. See: https://urllib3.readthedocs.io/en/1.26.x/advanced-usage.html#ssl-warnings\n",
      "  warnings.warn(\n"
     ]
    },
    {
     "name": "stdout",
     "output_type": "stream",
     "text": [
      "https://exhibitors.gitex.com/gitex-global-2023/Exhibitor/ExbDetails/NTMy\n"
     ]
    },
    {
     "name": "stderr",
     "output_type": "stream",
     "text": [
      "C:\\Users\\saira\\anaconda3\\Lib\\site-packages\\urllib3\\connectionpool.py:1056: InsecureRequestWarning: Unverified HTTPS request is being made to host 'exhibitors.gitex.com'. Adding certificate verification is strongly advised. See: https://urllib3.readthedocs.io/en/1.26.x/advanced-usage.html#ssl-warnings\n",
      "  warnings.warn(\n"
     ]
    },
    {
     "name": "stdout",
     "output_type": "stream",
     "text": [
      "https://exhibitors.gitex.com/gitex-global-2023/Exhibitor/ExbDetails/MjU3Mg==\n"
     ]
    },
    {
     "name": "stderr",
     "output_type": "stream",
     "text": [
      "C:\\Users\\saira\\anaconda3\\Lib\\site-packages\\urllib3\\connectionpool.py:1056: InsecureRequestWarning: Unverified HTTPS request is being made to host 'exhibitors.gitex.com'. Adding certificate verification is strongly advised. See: https://urllib3.readthedocs.io/en/1.26.x/advanced-usage.html#ssl-warnings\n",
      "  warnings.warn(\n"
     ]
    },
    {
     "name": "stdout",
     "output_type": "stream",
     "text": [
      "https://exhibitors.gitex.com/gitex-global-2023/Exhibitor/ExbDetails/NjE3\n"
     ]
    },
    {
     "name": "stderr",
     "output_type": "stream",
     "text": [
      "C:\\Users\\saira\\anaconda3\\Lib\\site-packages\\urllib3\\connectionpool.py:1056: InsecureRequestWarning: Unverified HTTPS request is being made to host 'exhibitors.gitex.com'. Adding certificate verification is strongly advised. See: https://urllib3.readthedocs.io/en/1.26.x/advanced-usage.html#ssl-warnings\n",
      "  warnings.warn(\n"
     ]
    },
    {
     "name": "stdout",
     "output_type": "stream",
     "text": [
      "https://exhibitors.gitex.com/gitex-global-2023/Exhibitor/ExbDetails/MTkxOQ==\n"
     ]
    },
    {
     "name": "stderr",
     "output_type": "stream",
     "text": [
      "C:\\Users\\saira\\anaconda3\\Lib\\site-packages\\urllib3\\connectionpool.py:1056: InsecureRequestWarning: Unverified HTTPS request is being made to host 'exhibitors.gitex.com'. Adding certificate verification is strongly advised. See: https://urllib3.readthedocs.io/en/1.26.x/advanced-usage.html#ssl-warnings\n",
      "  warnings.warn(\n"
     ]
    },
    {
     "name": "stdout",
     "output_type": "stream",
     "text": [
      "https://exhibitors.gitex.com/gitex-global-2023/Exhibitor/ExbDetails/MjU3OQ==\n"
     ]
    },
    {
     "name": "stderr",
     "output_type": "stream",
     "text": [
      "C:\\Users\\saira\\anaconda3\\Lib\\site-packages\\urllib3\\connectionpool.py:1056: InsecureRequestWarning: Unverified HTTPS request is being made to host 'exhibitors.gitex.com'. Adding certificate verification is strongly advised. See: https://urllib3.readthedocs.io/en/1.26.x/advanced-usage.html#ssl-warnings\n",
      "  warnings.warn(\n"
     ]
    },
    {
     "name": "stdout",
     "output_type": "stream",
     "text": [
      "https://exhibitors.gitex.com/gitex-global-2023/Exhibitor/ExbDetails/MTE0Mg==\n"
     ]
    },
    {
     "name": "stderr",
     "output_type": "stream",
     "text": [
      "C:\\Users\\saira\\anaconda3\\Lib\\site-packages\\urllib3\\connectionpool.py:1056: InsecureRequestWarning: Unverified HTTPS request is being made to host 'exhibitors.gitex.com'. Adding certificate verification is strongly advised. See: https://urllib3.readthedocs.io/en/1.26.x/advanced-usage.html#ssl-warnings\n",
      "  warnings.warn(\n"
     ]
    },
    {
     "name": "stdout",
     "output_type": "stream",
     "text": [
      "https://exhibitors.gitex.com/gitex-global-2023/Exhibitor/ExbDetails/NDMw\n"
     ]
    },
    {
     "name": "stderr",
     "output_type": "stream",
     "text": [
      "C:\\Users\\saira\\anaconda3\\Lib\\site-packages\\urllib3\\connectionpool.py:1056: InsecureRequestWarning: Unverified HTTPS request is being made to host 'exhibitors.gitex.com'. Adding certificate verification is strongly advised. See: https://urllib3.readthedocs.io/en/1.26.x/advanced-usage.html#ssl-warnings\n",
      "  warnings.warn(\n"
     ]
    },
    {
     "name": "stdout",
     "output_type": "stream",
     "text": [
      "https://exhibitors.gitex.com/gitex-global-2023/Exhibitor/ExbDetails/MTQ2NQ==\n"
     ]
    },
    {
     "name": "stderr",
     "output_type": "stream",
     "text": [
      "C:\\Users\\saira\\anaconda3\\Lib\\site-packages\\urllib3\\connectionpool.py:1056: InsecureRequestWarning: Unverified HTTPS request is being made to host 'exhibitors.gitex.com'. Adding certificate verification is strongly advised. See: https://urllib3.readthedocs.io/en/1.26.x/advanced-usage.html#ssl-warnings\n",
      "  warnings.warn(\n"
     ]
    },
    {
     "name": "stdout",
     "output_type": "stream",
     "text": [
      "https://exhibitors.gitex.com/gitex-global-2023/Exhibitor/ExbDetails/MTUxOA==\n"
     ]
    },
    {
     "name": "stderr",
     "output_type": "stream",
     "text": [
      "C:\\Users\\saira\\anaconda3\\Lib\\site-packages\\urllib3\\connectionpool.py:1056: InsecureRequestWarning: Unverified HTTPS request is being made to host 'exhibitors.gitex.com'. Adding certificate verification is strongly advised. See: https://urllib3.readthedocs.io/en/1.26.x/advanced-usage.html#ssl-warnings\n",
      "  warnings.warn(\n"
     ]
    },
    {
     "name": "stdout",
     "output_type": "stream",
     "text": [
      "https://exhibitors.gitex.com/gitex-global-2023/Exhibitor/ExbDetails/MTkwNQ==\n"
     ]
    },
    {
     "name": "stderr",
     "output_type": "stream",
     "text": [
      "C:\\Users\\saira\\anaconda3\\Lib\\site-packages\\urllib3\\connectionpool.py:1056: InsecureRequestWarning: Unverified HTTPS request is being made to host 'exhibitors.gitex.com'. Adding certificate verification is strongly advised. See: https://urllib3.readthedocs.io/en/1.26.x/advanced-usage.html#ssl-warnings\n",
      "  warnings.warn(\n"
     ]
    },
    {
     "name": "stdout",
     "output_type": "stream",
     "text": [
      "https://exhibitors.gitex.com/gitex-global-2023/Exhibitor/ExbDetails/NjUw\n"
     ]
    },
    {
     "name": "stderr",
     "output_type": "stream",
     "text": [
      "C:\\Users\\saira\\anaconda3\\Lib\\site-packages\\urllib3\\connectionpool.py:1056: InsecureRequestWarning: Unverified HTTPS request is being made to host 'exhibitors.gitex.com'. Adding certificate verification is strongly advised. See: https://urllib3.readthedocs.io/en/1.26.x/advanced-usage.html#ssl-warnings\n",
      "  warnings.warn(\n"
     ]
    },
    {
     "name": "stdout",
     "output_type": "stream",
     "text": [
      "https://exhibitors.gitex.com/gitex-global-2023/Exhibitor/ExbDetails/MTA2MA==\n"
     ]
    },
    {
     "name": "stderr",
     "output_type": "stream",
     "text": [
      "C:\\Users\\saira\\anaconda3\\Lib\\site-packages\\urllib3\\connectionpool.py:1056: InsecureRequestWarning: Unverified HTTPS request is being made to host 'exhibitors.gitex.com'. Adding certificate verification is strongly advised. See: https://urllib3.readthedocs.io/en/1.26.x/advanced-usage.html#ssl-warnings\n",
      "  warnings.warn(\n"
     ]
    },
    {
     "name": "stdout",
     "output_type": "stream",
     "text": [
      "https://exhibitors.gitex.com/gitex-global-2023/Exhibitor/ExbDetails/OTMz\n"
     ]
    },
    {
     "name": "stderr",
     "output_type": "stream",
     "text": [
      "C:\\Users\\saira\\anaconda3\\Lib\\site-packages\\urllib3\\connectionpool.py:1056: InsecureRequestWarning: Unverified HTTPS request is being made to host 'exhibitors.gitex.com'. Adding certificate verification is strongly advised. See: https://urllib3.readthedocs.io/en/1.26.x/advanced-usage.html#ssl-warnings\n",
      "  warnings.warn(\n"
     ]
    },
    {
     "name": "stdout",
     "output_type": "stream",
     "text": [
      "https://exhibitors.gitex.com/gitex-global-2023/Exhibitor/ExbDetails/OTc5\n"
     ]
    },
    {
     "name": "stderr",
     "output_type": "stream",
     "text": [
      "C:\\Users\\saira\\anaconda3\\Lib\\site-packages\\urllib3\\connectionpool.py:1056: InsecureRequestWarning: Unverified HTTPS request is being made to host 'exhibitors.gitex.com'. Adding certificate verification is strongly advised. See: https://urllib3.readthedocs.io/en/1.26.x/advanced-usage.html#ssl-warnings\n",
      "  warnings.warn(\n"
     ]
    },
    {
     "name": "stdout",
     "output_type": "stream",
     "text": [
      "https://exhibitors.gitex.com/gitex-global-2023/Exhibitor/ExbDetails/MTcwOQ==\n"
     ]
    },
    {
     "name": "stderr",
     "output_type": "stream",
     "text": [
      "C:\\Users\\saira\\anaconda3\\Lib\\site-packages\\urllib3\\connectionpool.py:1056: InsecureRequestWarning: Unverified HTTPS request is being made to host 'exhibitors.gitex.com'. Adding certificate verification is strongly advised. See: https://urllib3.readthedocs.io/en/1.26.x/advanced-usage.html#ssl-warnings\n",
      "  warnings.warn(\n"
     ]
    },
    {
     "name": "stdout",
     "output_type": "stream",
     "text": [
      "https://exhibitors.gitex.com/gitex-global-2023/Exhibitor/ExbDetails/MjcyOQ==\n"
     ]
    },
    {
     "name": "stderr",
     "output_type": "stream",
     "text": [
      "C:\\Users\\saira\\anaconda3\\Lib\\site-packages\\urllib3\\connectionpool.py:1056: InsecureRequestWarning: Unverified HTTPS request is being made to host 'exhibitors.gitex.com'. Adding certificate verification is strongly advised. See: https://urllib3.readthedocs.io/en/1.26.x/advanced-usage.html#ssl-warnings\n",
      "  warnings.warn(\n"
     ]
    },
    {
     "name": "stdout",
     "output_type": "stream",
     "text": [
      "https://exhibitors.gitex.com/gitex-global-2023/Exhibitor/ExbDetails/NjM0\n"
     ]
    },
    {
     "name": "stderr",
     "output_type": "stream",
     "text": [
      "C:\\Users\\saira\\anaconda3\\Lib\\site-packages\\urllib3\\connectionpool.py:1056: InsecureRequestWarning: Unverified HTTPS request is being made to host 'exhibitors.gitex.com'. Adding certificate verification is strongly advised. See: https://urllib3.readthedocs.io/en/1.26.x/advanced-usage.html#ssl-warnings\n",
      "  warnings.warn(\n"
     ]
    },
    {
     "name": "stdout",
     "output_type": "stream",
     "text": [
      "https://exhibitors.gitex.com/gitex-global-2023/Exhibitor/ExbDetails/NTkz\n"
     ]
    },
    {
     "name": "stderr",
     "output_type": "stream",
     "text": [
      "C:\\Users\\saira\\anaconda3\\Lib\\site-packages\\urllib3\\connectionpool.py:1056: InsecureRequestWarning: Unverified HTTPS request is being made to host 'exhibitors.gitex.com'. Adding certificate verification is strongly advised. See: https://urllib3.readthedocs.io/en/1.26.x/advanced-usage.html#ssl-warnings\n",
      "  warnings.warn(\n"
     ]
    },
    {
     "name": "stdout",
     "output_type": "stream",
     "text": [
      "https://exhibitors.gitex.com/gitex-global-2023/Exhibitor/ExbDetails/MzEyNg==\n"
     ]
    },
    {
     "name": "stderr",
     "output_type": "stream",
     "text": [
      "C:\\Users\\saira\\anaconda3\\Lib\\site-packages\\urllib3\\connectionpool.py:1056: InsecureRequestWarning: Unverified HTTPS request is being made to host 'exhibitors.gitex.com'. Adding certificate verification is strongly advised. See: https://urllib3.readthedocs.io/en/1.26.x/advanced-usage.html#ssl-warnings\n",
      "  warnings.warn(\n"
     ]
    },
    {
     "name": "stdout",
     "output_type": "stream",
     "text": [
      "https://exhibitors.gitex.com/gitex-global-2023/Exhibitor/ExbDetails/MjAwNw==\n"
     ]
    },
    {
     "name": "stderr",
     "output_type": "stream",
     "text": [
      "C:\\Users\\saira\\anaconda3\\Lib\\site-packages\\urllib3\\connectionpool.py:1056: InsecureRequestWarning: Unverified HTTPS request is being made to host 'exhibitors.gitex.com'. Adding certificate verification is strongly advised. See: https://urllib3.readthedocs.io/en/1.26.x/advanced-usage.html#ssl-warnings\n",
      "  warnings.warn(\n"
     ]
    },
    {
     "name": "stdout",
     "output_type": "stream",
     "text": [
      "https://exhibitors.gitex.com/gitex-global-2023/Exhibitor/ExbDetails/NzQ4\n"
     ]
    },
    {
     "name": "stderr",
     "output_type": "stream",
     "text": [
      "C:\\Users\\saira\\anaconda3\\Lib\\site-packages\\urllib3\\connectionpool.py:1056: InsecureRequestWarning: Unverified HTTPS request is being made to host 'exhibitors.gitex.com'. Adding certificate verification is strongly advised. See: https://urllib3.readthedocs.io/en/1.26.x/advanced-usage.html#ssl-warnings\n",
      "  warnings.warn(\n"
     ]
    },
    {
     "name": "stdout",
     "output_type": "stream",
     "text": [
      "https://exhibitors.gitex.com/gitex-global-2023/Exhibitor/ExbDetails/NDk2\n"
     ]
    },
    {
     "name": "stderr",
     "output_type": "stream",
     "text": [
      "C:\\Users\\saira\\anaconda3\\Lib\\site-packages\\urllib3\\connectionpool.py:1056: InsecureRequestWarning: Unverified HTTPS request is being made to host 'exhibitors.gitex.com'. Adding certificate verification is strongly advised. See: https://urllib3.readthedocs.io/en/1.26.x/advanced-usage.html#ssl-warnings\n",
      "  warnings.warn(\n"
     ]
    },
    {
     "name": "stdout",
     "output_type": "stream",
     "text": [
      "https://exhibitors.gitex.com/gitex-global-2023/Exhibitor/ExbDetails/Mjk2NQ==\n",
      "https://exhibitors.gitex.com/gitex-global-2023/Exhibitor/ExbDetails/NTUy\n"
     ]
    },
    {
     "name": "stderr",
     "output_type": "stream",
     "text": [
      "C:\\Users\\saira\\anaconda3\\Lib\\site-packages\\urllib3\\connectionpool.py:1056: InsecureRequestWarning: Unverified HTTPS request is being made to host 'exhibitors.gitex.com'. Adding certificate verification is strongly advised. See: https://urllib3.readthedocs.io/en/1.26.x/advanced-usage.html#ssl-warnings\n",
      "  warnings.warn(\n",
      "C:\\Users\\saira\\anaconda3\\Lib\\site-packages\\urllib3\\connectionpool.py:1056: InsecureRequestWarning: Unverified HTTPS request is being made to host 'exhibitors.gitex.com'. Adding certificate verification is strongly advised. See: https://urllib3.readthedocs.io/en/1.26.x/advanced-usage.html#ssl-warnings\n",
      "  warnings.warn(\n"
     ]
    },
    {
     "name": "stdout",
     "output_type": "stream",
     "text": [
      "https://exhibitors.gitex.com/gitex-global-2023/Exhibitor/ExbDetails/NDE2\n"
     ]
    },
    {
     "name": "stderr",
     "output_type": "stream",
     "text": [
      "C:\\Users\\saira\\anaconda3\\Lib\\site-packages\\urllib3\\connectionpool.py:1056: InsecureRequestWarning: Unverified HTTPS request is being made to host 'exhibitors.gitex.com'. Adding certificate verification is strongly advised. See: https://urllib3.readthedocs.io/en/1.26.x/advanced-usage.html#ssl-warnings\n",
      "  warnings.warn(\n"
     ]
    },
    {
     "name": "stdout",
     "output_type": "stream",
     "text": [
      "https://exhibitors.gitex.com/gitex-global-2023/Exhibitor/ExbDetails/MjI1Nw==\n"
     ]
    },
    {
     "name": "stderr",
     "output_type": "stream",
     "text": [
      "C:\\Users\\saira\\anaconda3\\Lib\\site-packages\\urllib3\\connectionpool.py:1056: InsecureRequestWarning: Unverified HTTPS request is being made to host 'exhibitors.gitex.com'. Adding certificate verification is strongly advised. See: https://urllib3.readthedocs.io/en/1.26.x/advanced-usage.html#ssl-warnings\n",
      "  warnings.warn(\n"
     ]
    },
    {
     "name": "stdout",
     "output_type": "stream",
     "text": [
      "https://exhibitors.gitex.com/gitex-global-2023/Exhibitor/ExbDetails/MjIyOQ==\n"
     ]
    },
    {
     "name": "stderr",
     "output_type": "stream",
     "text": [
      "C:\\Users\\saira\\anaconda3\\Lib\\site-packages\\urllib3\\connectionpool.py:1056: InsecureRequestWarning: Unverified HTTPS request is being made to host 'exhibitors.gitex.com'. Adding certificate verification is strongly advised. See: https://urllib3.readthedocs.io/en/1.26.x/advanced-usage.html#ssl-warnings\n",
      "  warnings.warn(\n"
     ]
    },
    {
     "name": "stdout",
     "output_type": "stream",
     "text": [
      "https://exhibitors.gitex.com/gitex-global-2023/Exhibitor/ExbDetails/MjUzMA==\n"
     ]
    },
    {
     "name": "stderr",
     "output_type": "stream",
     "text": [
      "C:\\Users\\saira\\anaconda3\\Lib\\site-packages\\urllib3\\connectionpool.py:1056: InsecureRequestWarning: Unverified HTTPS request is being made to host 'exhibitors.gitex.com'. Adding certificate verification is strongly advised. See: https://urllib3.readthedocs.io/en/1.26.x/advanced-usage.html#ssl-warnings\n",
      "  warnings.warn(\n"
     ]
    },
    {
     "name": "stdout",
     "output_type": "stream",
     "text": [
      "https://exhibitors.gitex.com/gitex-global-2023/Exhibitor/ExbDetails/NjQ0\n"
     ]
    },
    {
     "name": "stderr",
     "output_type": "stream",
     "text": [
      "C:\\Users\\saira\\anaconda3\\Lib\\site-packages\\urllib3\\connectionpool.py:1056: InsecureRequestWarning: Unverified HTTPS request is being made to host 'exhibitors.gitex.com'. Adding certificate verification is strongly advised. See: https://urllib3.readthedocs.io/en/1.26.x/advanced-usage.html#ssl-warnings\n",
      "  warnings.warn(\n"
     ]
    },
    {
     "name": "stdout",
     "output_type": "stream",
     "text": [
      "https://exhibitors.gitex.com/gitex-global-2023/Exhibitor/ExbDetails/MTA0OA==\n"
     ]
    },
    {
     "name": "stderr",
     "output_type": "stream",
     "text": [
      "C:\\Users\\saira\\anaconda3\\Lib\\site-packages\\urllib3\\connectionpool.py:1056: InsecureRequestWarning: Unverified HTTPS request is being made to host 'exhibitors.gitex.com'. Adding certificate verification is strongly advised. See: https://urllib3.readthedocs.io/en/1.26.x/advanced-usage.html#ssl-warnings\n",
      "  warnings.warn(\n"
     ]
    },
    {
     "name": "stdout",
     "output_type": "stream",
     "text": [
      "https://exhibitors.gitex.com/gitex-global-2023/Exhibitor/ExbDetails/MTQxNQ==\n"
     ]
    },
    {
     "name": "stderr",
     "output_type": "stream",
     "text": [
      "C:\\Users\\saira\\anaconda3\\Lib\\site-packages\\urllib3\\connectionpool.py:1056: InsecureRequestWarning: Unverified HTTPS request is being made to host 'exhibitors.gitex.com'. Adding certificate verification is strongly advised. See: https://urllib3.readthedocs.io/en/1.26.x/advanced-usage.html#ssl-warnings\n",
      "  warnings.warn(\n"
     ]
    },
    {
     "name": "stdout",
     "output_type": "stream",
     "text": [
      "https://exhibitors.gitex.com/gitex-global-2023/Exhibitor/ExbDetails/MTY2MQ==\n"
     ]
    },
    {
     "name": "stderr",
     "output_type": "stream",
     "text": [
      "C:\\Users\\saira\\anaconda3\\Lib\\site-packages\\urllib3\\connectionpool.py:1056: InsecureRequestWarning: Unverified HTTPS request is being made to host 'exhibitors.gitex.com'. Adding certificate verification is strongly advised. See: https://urllib3.readthedocs.io/en/1.26.x/advanced-usage.html#ssl-warnings\n",
      "  warnings.warn(\n"
     ]
    },
    {
     "name": "stdout",
     "output_type": "stream",
     "text": [
      "https://exhibitors.gitex.com/gitex-global-2023/Exhibitor/ExbDetails/MTE1MQ==\n"
     ]
    },
    {
     "name": "stderr",
     "output_type": "stream",
     "text": [
      "C:\\Users\\saira\\anaconda3\\Lib\\site-packages\\urllib3\\connectionpool.py:1056: InsecureRequestWarning: Unverified HTTPS request is being made to host 'exhibitors.gitex.com'. Adding certificate verification is strongly advised. See: https://urllib3.readthedocs.io/en/1.26.x/advanced-usage.html#ssl-warnings\n",
      "  warnings.warn(\n"
     ]
    },
    {
     "name": "stdout",
     "output_type": "stream",
     "text": [
      "https://exhibitors.gitex.com/gitex-global-2023/Exhibitor/ExbDetails/NjU0\n"
     ]
    },
    {
     "name": "stderr",
     "output_type": "stream",
     "text": [
      "C:\\Users\\saira\\anaconda3\\Lib\\site-packages\\urllib3\\connectionpool.py:1056: InsecureRequestWarning: Unverified HTTPS request is being made to host 'exhibitors.gitex.com'. Adding certificate verification is strongly advised. See: https://urllib3.readthedocs.io/en/1.26.x/advanced-usage.html#ssl-warnings\n",
      "  warnings.warn(\n"
     ]
    },
    {
     "name": "stdout",
     "output_type": "stream",
     "text": [
      "https://exhibitors.gitex.com/gitex-global-2023/Exhibitor/ExbDetails/MTAxMg==\n"
     ]
    },
    {
     "name": "stderr",
     "output_type": "stream",
     "text": [
      "C:\\Users\\saira\\anaconda3\\Lib\\site-packages\\urllib3\\connectionpool.py:1056: InsecureRequestWarning: Unverified HTTPS request is being made to host 'exhibitors.gitex.com'. Adding certificate verification is strongly advised. See: https://urllib3.readthedocs.io/en/1.26.x/advanced-usage.html#ssl-warnings\n",
      "  warnings.warn(\n"
     ]
    },
    {
     "name": "stdout",
     "output_type": "stream",
     "text": [
      "https://exhibitors.gitex.com/gitex-global-2023/Exhibitor/ExbDetails/MTg3MQ==\n"
     ]
    },
    {
     "name": "stderr",
     "output_type": "stream",
     "text": [
      "C:\\Users\\saira\\anaconda3\\Lib\\site-packages\\urllib3\\connectionpool.py:1056: InsecureRequestWarning: Unverified HTTPS request is being made to host 'exhibitors.gitex.com'. Adding certificate verification is strongly advised. See: https://urllib3.readthedocs.io/en/1.26.x/advanced-usage.html#ssl-warnings\n",
      "  warnings.warn(\n"
     ]
    },
    {
     "name": "stdout",
     "output_type": "stream",
     "text": [
      "https://exhibitors.gitex.com/gitex-global-2023/Exhibitor/ExbDetails/NDc2\n"
     ]
    },
    {
     "name": "stderr",
     "output_type": "stream",
     "text": [
      "C:\\Users\\saira\\anaconda3\\Lib\\site-packages\\urllib3\\connectionpool.py:1056: InsecureRequestWarning: Unverified HTTPS request is being made to host 'exhibitors.gitex.com'. Adding certificate verification is strongly advised. See: https://urllib3.readthedocs.io/en/1.26.x/advanced-usage.html#ssl-warnings\n",
      "  warnings.warn(\n"
     ]
    },
    {
     "name": "stdout",
     "output_type": "stream",
     "text": [
      "https://exhibitors.gitex.com/gitex-global-2023/Exhibitor/ExbDetails/MTQxMg==\n"
     ]
    },
    {
     "name": "stderr",
     "output_type": "stream",
     "text": [
      "C:\\Users\\saira\\anaconda3\\Lib\\site-packages\\urllib3\\connectionpool.py:1056: InsecureRequestWarning: Unverified HTTPS request is being made to host 'exhibitors.gitex.com'. Adding certificate verification is strongly advised. See: https://urllib3.readthedocs.io/en/1.26.x/advanced-usage.html#ssl-warnings\n",
      "  warnings.warn(\n"
     ]
    },
    {
     "name": "stdout",
     "output_type": "stream",
     "text": [
      "https://exhibitors.gitex.com/gitex-global-2023/Exhibitor/ExbDetails/MTcyMQ==\n"
     ]
    },
    {
     "name": "stderr",
     "output_type": "stream",
     "text": [
      "C:\\Users\\saira\\anaconda3\\Lib\\site-packages\\urllib3\\connectionpool.py:1056: InsecureRequestWarning: Unverified HTTPS request is being made to host 'exhibitors.gitex.com'. Adding certificate verification is strongly advised. See: https://urllib3.readthedocs.io/en/1.26.x/advanced-usage.html#ssl-warnings\n",
      "  warnings.warn(\n"
     ]
    },
    {
     "name": "stdout",
     "output_type": "stream",
     "text": [
      "https://exhibitors.gitex.com/gitex-global-2023/Exhibitor/ExbDetails/MTU5OA==\n"
     ]
    },
    {
     "name": "stderr",
     "output_type": "stream",
     "text": [
      "C:\\Users\\saira\\anaconda3\\Lib\\site-packages\\urllib3\\connectionpool.py:1056: InsecureRequestWarning: Unverified HTTPS request is being made to host 'exhibitors.gitex.com'. Adding certificate verification is strongly advised. See: https://urllib3.readthedocs.io/en/1.26.x/advanced-usage.html#ssl-warnings\n",
      "  warnings.warn(\n"
     ]
    },
    {
     "name": "stdout",
     "output_type": "stream",
     "text": [
      "https://exhibitors.gitex.com/gitex-global-2023/Exhibitor/ExbDetails/NzMy\n"
     ]
    },
    {
     "name": "stderr",
     "output_type": "stream",
     "text": [
      "C:\\Users\\saira\\anaconda3\\Lib\\site-packages\\urllib3\\connectionpool.py:1056: InsecureRequestWarning: Unverified HTTPS request is being made to host 'exhibitors.gitex.com'. Adding certificate verification is strongly advised. See: https://urllib3.readthedocs.io/en/1.26.x/advanced-usage.html#ssl-warnings\n",
      "  warnings.warn(\n"
     ]
    },
    {
     "name": "stdout",
     "output_type": "stream",
     "text": [
      "https://exhibitors.gitex.com/gitex-global-2023/Exhibitor/ExbDetails/MTU5Nw==\n"
     ]
    },
    {
     "name": "stderr",
     "output_type": "stream",
     "text": [
      "C:\\Users\\saira\\anaconda3\\Lib\\site-packages\\urllib3\\connectionpool.py:1056: InsecureRequestWarning: Unverified HTTPS request is being made to host 'exhibitors.gitex.com'. Adding certificate verification is strongly advised. See: https://urllib3.readthedocs.io/en/1.26.x/advanced-usage.html#ssl-warnings\n",
      "  warnings.warn(\n"
     ]
    },
    {
     "name": "stdout",
     "output_type": "stream",
     "text": [
      "https://exhibitors.gitex.com/gitex-global-2023/Exhibitor/ExbDetails/Mjg4Ng==\n"
     ]
    },
    {
     "name": "stderr",
     "output_type": "stream",
     "text": [
      "C:\\Users\\saira\\anaconda3\\Lib\\site-packages\\urllib3\\connectionpool.py:1056: InsecureRequestWarning: Unverified HTTPS request is being made to host 'exhibitors.gitex.com'. Adding certificate verification is strongly advised. See: https://urllib3.readthedocs.io/en/1.26.x/advanced-usage.html#ssl-warnings\n",
      "  warnings.warn(\n"
     ]
    },
    {
     "name": "stdout",
     "output_type": "stream",
     "text": [
      "https://exhibitors.gitex.com/gitex-global-2023/Exhibitor/ExbDetails/MTY2MA==\n"
     ]
    },
    {
     "name": "stderr",
     "output_type": "stream",
     "text": [
      "C:\\Users\\saira\\anaconda3\\Lib\\site-packages\\urllib3\\connectionpool.py:1056: InsecureRequestWarning: Unverified HTTPS request is being made to host 'exhibitors.gitex.com'. Adding certificate verification is strongly advised. See: https://urllib3.readthedocs.io/en/1.26.x/advanced-usage.html#ssl-warnings\n",
      "  warnings.warn(\n"
     ]
    },
    {
     "name": "stdout",
     "output_type": "stream",
     "text": [
      "https://exhibitors.gitex.com/gitex-global-2023/Exhibitor/ExbDetails/MTg5OQ==\n"
     ]
    },
    {
     "name": "stderr",
     "output_type": "stream",
     "text": [
      "C:\\Users\\saira\\anaconda3\\Lib\\site-packages\\urllib3\\connectionpool.py:1056: InsecureRequestWarning: Unverified HTTPS request is being made to host 'exhibitors.gitex.com'. Adding certificate verification is strongly advised. See: https://urllib3.readthedocs.io/en/1.26.x/advanced-usage.html#ssl-warnings\n",
      "  warnings.warn(\n"
     ]
    },
    {
     "name": "stdout",
     "output_type": "stream",
     "text": [
      "https://exhibitors.gitex.com/gitex-global-2023/Exhibitor/ExbDetails/MjIzNg==\n"
     ]
    },
    {
     "name": "stderr",
     "output_type": "stream",
     "text": [
      "C:\\Users\\saira\\anaconda3\\Lib\\site-packages\\urllib3\\connectionpool.py:1056: InsecureRequestWarning: Unverified HTTPS request is being made to host 'exhibitors.gitex.com'. Adding certificate verification is strongly advised. See: https://urllib3.readthedocs.io/en/1.26.x/advanced-usage.html#ssl-warnings\n",
      "  warnings.warn(\n"
     ]
    },
    {
     "name": "stdout",
     "output_type": "stream",
     "text": [
      "https://exhibitors.gitex.com/gitex-global-2023/Exhibitor/ExbDetails/MjU4Mw==\n"
     ]
    },
    {
     "name": "stderr",
     "output_type": "stream",
     "text": [
      "C:\\Users\\saira\\anaconda3\\Lib\\site-packages\\urllib3\\connectionpool.py:1056: InsecureRequestWarning: Unverified HTTPS request is being made to host 'exhibitors.gitex.com'. Adding certificate verification is strongly advised. See: https://urllib3.readthedocs.io/en/1.26.x/advanced-usage.html#ssl-warnings\n",
      "  warnings.warn(\n"
     ]
    },
    {
     "name": "stdout",
     "output_type": "stream",
     "text": [
      "https://exhibitors.gitex.com/gitex-global-2023/Exhibitor/ExbDetails/NDEz\n"
     ]
    },
    {
     "name": "stderr",
     "output_type": "stream",
     "text": [
      "C:\\Users\\saira\\anaconda3\\Lib\\site-packages\\urllib3\\connectionpool.py:1056: InsecureRequestWarning: Unverified HTTPS request is being made to host 'exhibitors.gitex.com'. Adding certificate verification is strongly advised. See: https://urllib3.readthedocs.io/en/1.26.x/advanced-usage.html#ssl-warnings\n",
      "  warnings.warn(\n"
     ]
    },
    {
     "name": "stdout",
     "output_type": "stream",
     "text": [
      "https://exhibitors.gitex.com/gitex-global-2023/Exhibitor/ExbDetails/NDIz\n"
     ]
    },
    {
     "name": "stderr",
     "output_type": "stream",
     "text": [
      "C:\\Users\\saira\\anaconda3\\Lib\\site-packages\\urllib3\\connectionpool.py:1056: InsecureRequestWarning: Unverified HTTPS request is being made to host 'exhibitors.gitex.com'. Adding certificate verification is strongly advised. See: https://urllib3.readthedocs.io/en/1.26.x/advanced-usage.html#ssl-warnings\n",
      "  warnings.warn(\n"
     ]
    },
    {
     "name": "stdout",
     "output_type": "stream",
     "text": [
      "https://exhibitors.gitex.com/gitex-global-2023/Exhibitor/ExbDetails/NDE5\n"
     ]
    },
    {
     "name": "stderr",
     "output_type": "stream",
     "text": [
      "C:\\Users\\saira\\anaconda3\\Lib\\site-packages\\urllib3\\connectionpool.py:1056: InsecureRequestWarning: Unverified HTTPS request is being made to host 'exhibitors.gitex.com'. Adding certificate verification is strongly advised. See: https://urllib3.readthedocs.io/en/1.26.x/advanced-usage.html#ssl-warnings\n",
      "  warnings.warn(\n"
     ]
    },
    {
     "name": "stdout",
     "output_type": "stream",
     "text": [
      "https://exhibitors.gitex.com/gitex-global-2023/Exhibitor/ExbDetails/NTM4\n"
     ]
    },
    {
     "name": "stderr",
     "output_type": "stream",
     "text": [
      "C:\\Users\\saira\\anaconda3\\Lib\\site-packages\\urllib3\\connectionpool.py:1056: InsecureRequestWarning: Unverified HTTPS request is being made to host 'exhibitors.gitex.com'. Adding certificate verification is strongly advised. See: https://urllib3.readthedocs.io/en/1.26.x/advanced-usage.html#ssl-warnings\n",
      "  warnings.warn(\n"
     ]
    },
    {
     "name": "stdout",
     "output_type": "stream",
     "text": [
      "https://exhibitors.gitex.com/gitex-global-2023/Exhibitor/ExbDetails/NzQ2\n"
     ]
    },
    {
     "name": "stderr",
     "output_type": "stream",
     "text": [
      "C:\\Users\\saira\\anaconda3\\Lib\\site-packages\\urllib3\\connectionpool.py:1056: InsecureRequestWarning: Unverified HTTPS request is being made to host 'exhibitors.gitex.com'. Adding certificate verification is strongly advised. See: https://urllib3.readthedocs.io/en/1.26.x/advanced-usage.html#ssl-warnings\n",
      "  warnings.warn(\n"
     ]
    },
    {
     "name": "stdout",
     "output_type": "stream",
     "text": [
      "https://exhibitors.gitex.com/gitex-global-2023/Exhibitor/ExbDetails/MjU4Ng==\n"
     ]
    },
    {
     "name": "stderr",
     "output_type": "stream",
     "text": [
      "C:\\Users\\saira\\anaconda3\\Lib\\site-packages\\urllib3\\connectionpool.py:1056: InsecureRequestWarning: Unverified HTTPS request is being made to host 'exhibitors.gitex.com'. Adding certificate verification is strongly advised. See: https://urllib3.readthedocs.io/en/1.26.x/advanced-usage.html#ssl-warnings\n",
      "  warnings.warn(\n"
     ]
    },
    {
     "name": "stdout",
     "output_type": "stream",
     "text": [
      "https://exhibitors.gitex.com/gitex-global-2023/Exhibitor/ExbDetails/MTAyNg==\n"
     ]
    },
    {
     "name": "stderr",
     "output_type": "stream",
     "text": [
      "C:\\Users\\saira\\anaconda3\\Lib\\site-packages\\urllib3\\connectionpool.py:1056: InsecureRequestWarning: Unverified HTTPS request is being made to host 'exhibitors.gitex.com'. Adding certificate verification is strongly advised. See: https://urllib3.readthedocs.io/en/1.26.x/advanced-usage.html#ssl-warnings\n",
      "  warnings.warn(\n"
     ]
    },
    {
     "name": "stdout",
     "output_type": "stream",
     "text": [
      "https://exhibitors.gitex.com/gitex-global-2023/Exhibitor/ExbDetails/MTg5Mg==\n"
     ]
    },
    {
     "name": "stderr",
     "output_type": "stream",
     "text": [
      "C:\\Users\\saira\\anaconda3\\Lib\\site-packages\\urllib3\\connectionpool.py:1056: InsecureRequestWarning: Unverified HTTPS request is being made to host 'exhibitors.gitex.com'. Adding certificate verification is strongly advised. See: https://urllib3.readthedocs.io/en/1.26.x/advanced-usage.html#ssl-warnings\n",
      "  warnings.warn(\n"
     ]
    },
    {
     "name": "stdout",
     "output_type": "stream",
     "text": [
      "https://exhibitors.gitex.com/gitex-global-2023/Exhibitor/ExbDetails/NzQ5\n"
     ]
    },
    {
     "name": "stderr",
     "output_type": "stream",
     "text": [
      "C:\\Users\\saira\\anaconda3\\Lib\\site-packages\\urllib3\\connectionpool.py:1056: InsecureRequestWarning: Unverified HTTPS request is being made to host 'exhibitors.gitex.com'. Adding certificate verification is strongly advised. See: https://urllib3.readthedocs.io/en/1.26.x/advanced-usage.html#ssl-warnings\n",
      "  warnings.warn(\n"
     ]
    },
    {
     "name": "stdout",
     "output_type": "stream",
     "text": [
      "https://exhibitors.gitex.com/gitex-global-2023/Exhibitor/ExbDetails/MTY5Mw==\n"
     ]
    },
    {
     "name": "stderr",
     "output_type": "stream",
     "text": [
      "C:\\Users\\saira\\anaconda3\\Lib\\site-packages\\urllib3\\connectionpool.py:1056: InsecureRequestWarning: Unverified HTTPS request is being made to host 'exhibitors.gitex.com'. Adding certificate verification is strongly advised. See: https://urllib3.readthedocs.io/en/1.26.x/advanced-usage.html#ssl-warnings\n",
      "  warnings.warn(\n"
     ]
    },
    {
     "name": "stdout",
     "output_type": "stream",
     "text": [
      "https://exhibitors.gitex.com/gitex-global-2023/Exhibitor/ExbDetails/MTQ0Mw==\n"
     ]
    },
    {
     "name": "stderr",
     "output_type": "stream",
     "text": [
      "C:\\Users\\saira\\anaconda3\\Lib\\site-packages\\urllib3\\connectionpool.py:1056: InsecureRequestWarning: Unverified HTTPS request is being made to host 'exhibitors.gitex.com'. Adding certificate verification is strongly advised. See: https://urllib3.readthedocs.io/en/1.26.x/advanced-usage.html#ssl-warnings\n",
      "  warnings.warn(\n"
     ]
    },
    {
     "name": "stdout",
     "output_type": "stream",
     "text": [
      "https://exhibitors.gitex.com/gitex-global-2023/Exhibitor/ExbDetails/MTM2Mw==\n"
     ]
    },
    {
     "name": "stderr",
     "output_type": "stream",
     "text": [
      "C:\\Users\\saira\\anaconda3\\Lib\\site-packages\\urllib3\\connectionpool.py:1056: InsecureRequestWarning: Unverified HTTPS request is being made to host 'exhibitors.gitex.com'. Adding certificate verification is strongly advised. See: https://urllib3.readthedocs.io/en/1.26.x/advanced-usage.html#ssl-warnings\n",
      "  warnings.warn(\n"
     ]
    },
    {
     "name": "stdout",
     "output_type": "stream",
     "text": [
      "https://exhibitors.gitex.com/gitex-global-2023/Exhibitor/ExbDetails/MTUwNQ==\n"
     ]
    },
    {
     "name": "stderr",
     "output_type": "stream",
     "text": [
      "C:\\Users\\saira\\anaconda3\\Lib\\site-packages\\urllib3\\connectionpool.py:1056: InsecureRequestWarning: Unverified HTTPS request is being made to host 'exhibitors.gitex.com'. Adding certificate verification is strongly advised. See: https://urllib3.readthedocs.io/en/1.26.x/advanced-usage.html#ssl-warnings\n",
      "  warnings.warn(\n"
     ]
    },
    {
     "name": "stdout",
     "output_type": "stream",
     "text": [
      "https://exhibitors.gitex.com/gitex-global-2023/Exhibitor/ExbDetails/MTE1Mw==\n"
     ]
    },
    {
     "name": "stderr",
     "output_type": "stream",
     "text": [
      "C:\\Users\\saira\\anaconda3\\Lib\\site-packages\\urllib3\\connectionpool.py:1056: InsecureRequestWarning: Unverified HTTPS request is being made to host 'exhibitors.gitex.com'. Adding certificate verification is strongly advised. See: https://urllib3.readthedocs.io/en/1.26.x/advanced-usage.html#ssl-warnings\n",
      "  warnings.warn(\n"
     ]
    },
    {
     "name": "stdout",
     "output_type": "stream",
     "text": [
      "https://exhibitors.gitex.com/gitex-global-2023/Exhibitor/ExbDetails/MTEyMQ==\n"
     ]
    },
    {
     "name": "stderr",
     "output_type": "stream",
     "text": [
      "C:\\Users\\saira\\anaconda3\\Lib\\site-packages\\urllib3\\connectionpool.py:1056: InsecureRequestWarning: Unverified HTTPS request is being made to host 'exhibitors.gitex.com'. Adding certificate verification is strongly advised. See: https://urllib3.readthedocs.io/en/1.26.x/advanced-usage.html#ssl-warnings\n",
      "  warnings.warn(\n"
     ]
    },
    {
     "name": "stdout",
     "output_type": "stream",
     "text": [
      "https://exhibitors.gitex.com/gitex-global-2023/Exhibitor/ExbDetails/NTcx\n"
     ]
    },
    {
     "name": "stderr",
     "output_type": "stream",
     "text": [
      "C:\\Users\\saira\\anaconda3\\Lib\\site-packages\\urllib3\\connectionpool.py:1056: InsecureRequestWarning: Unverified HTTPS request is being made to host 'exhibitors.gitex.com'. Adding certificate verification is strongly advised. See: https://urllib3.readthedocs.io/en/1.26.x/advanced-usage.html#ssl-warnings\n",
      "  warnings.warn(\n"
     ]
    },
    {
     "name": "stdout",
     "output_type": "stream",
     "text": [
      "https://exhibitors.gitex.com/gitex-global-2023/Exhibitor/ExbDetails/MTkwOQ==\n"
     ]
    },
    {
     "name": "stderr",
     "output_type": "stream",
     "text": [
      "C:\\Users\\saira\\anaconda3\\Lib\\site-packages\\urllib3\\connectionpool.py:1056: InsecureRequestWarning: Unverified HTTPS request is being made to host 'exhibitors.gitex.com'. Adding certificate verification is strongly advised. See: https://urllib3.readthedocs.io/en/1.26.x/advanced-usage.html#ssl-warnings\n",
      "  warnings.warn(\n"
     ]
    },
    {
     "name": "stdout",
     "output_type": "stream",
     "text": [
      "https://exhibitors.gitex.com/gitex-global-2023/Exhibitor/ExbDetails/MTUxNw==\n"
     ]
    },
    {
     "name": "stderr",
     "output_type": "stream",
     "text": [
      "C:\\Users\\saira\\anaconda3\\Lib\\site-packages\\urllib3\\connectionpool.py:1056: InsecureRequestWarning: Unverified HTTPS request is being made to host 'exhibitors.gitex.com'. Adding certificate verification is strongly advised. See: https://urllib3.readthedocs.io/en/1.26.x/advanced-usage.html#ssl-warnings\n",
      "  warnings.warn(\n"
     ]
    },
    {
     "name": "stdout",
     "output_type": "stream",
     "text": [
      "https://exhibitors.gitex.com/gitex-global-2023/Exhibitor/ExbDetails/Mjg5OQ==\n"
     ]
    },
    {
     "name": "stderr",
     "output_type": "stream",
     "text": [
      "C:\\Users\\saira\\anaconda3\\Lib\\site-packages\\urllib3\\connectionpool.py:1056: InsecureRequestWarning: Unverified HTTPS request is being made to host 'exhibitors.gitex.com'. Adding certificate verification is strongly advised. See: https://urllib3.readthedocs.io/en/1.26.x/advanced-usage.html#ssl-warnings\n",
      "  warnings.warn(\n"
     ]
    },
    {
     "name": "stdout",
     "output_type": "stream",
     "text": [
      "https://exhibitors.gitex.com/gitex-global-2023/Exhibitor/ExbDetails/MTAwMw==\n"
     ]
    },
    {
     "name": "stderr",
     "output_type": "stream",
     "text": [
      "C:\\Users\\saira\\anaconda3\\Lib\\site-packages\\urllib3\\connectionpool.py:1056: InsecureRequestWarning: Unverified HTTPS request is being made to host 'exhibitors.gitex.com'. Adding certificate verification is strongly advised. See: https://urllib3.readthedocs.io/en/1.26.x/advanced-usage.html#ssl-warnings\n",
      "  warnings.warn(\n"
     ]
    },
    {
     "name": "stdout",
     "output_type": "stream",
     "text": [
      "https://exhibitors.gitex.com/gitex-global-2023/Exhibitor/ExbDetails/OTc0\n"
     ]
    },
    {
     "name": "stderr",
     "output_type": "stream",
     "text": [
      "C:\\Users\\saira\\anaconda3\\Lib\\site-packages\\urllib3\\connectionpool.py:1056: InsecureRequestWarning: Unverified HTTPS request is being made to host 'exhibitors.gitex.com'. Adding certificate verification is strongly advised. See: https://urllib3.readthedocs.io/en/1.26.x/advanced-usage.html#ssl-warnings\n",
      "  warnings.warn(\n"
     ]
    },
    {
     "name": "stdout",
     "output_type": "stream",
     "text": [
      "https://exhibitors.gitex.com/gitex-global-2023/Exhibitor/ExbDetails/MTcxNw==\n"
     ]
    },
    {
     "name": "stderr",
     "output_type": "stream",
     "text": [
      "C:\\Users\\saira\\anaconda3\\Lib\\site-packages\\urllib3\\connectionpool.py:1056: InsecureRequestWarning: Unverified HTTPS request is being made to host 'exhibitors.gitex.com'. Adding certificate verification is strongly advised. See: https://urllib3.readthedocs.io/en/1.26.x/advanced-usage.html#ssl-warnings\n",
      "  warnings.warn(\n"
     ]
    },
    {
     "name": "stdout",
     "output_type": "stream",
     "text": [
      "https://exhibitors.gitex.com/gitex-global-2023/Exhibitor/ExbDetails/NDcw\n"
     ]
    },
    {
     "name": "stderr",
     "output_type": "stream",
     "text": [
      "C:\\Users\\saira\\anaconda3\\Lib\\site-packages\\urllib3\\connectionpool.py:1056: InsecureRequestWarning: Unverified HTTPS request is being made to host 'exhibitors.gitex.com'. Adding certificate verification is strongly advised. See: https://urllib3.readthedocs.io/en/1.26.x/advanced-usage.html#ssl-warnings\n",
      "  warnings.warn(\n"
     ]
    },
    {
     "name": "stdout",
     "output_type": "stream",
     "text": [
      "https://exhibitors.gitex.com/gitex-global-2023/Exhibitor/ExbDetails/NDM3\n"
     ]
    },
    {
     "name": "stderr",
     "output_type": "stream",
     "text": [
      "C:\\Users\\saira\\anaconda3\\Lib\\site-packages\\urllib3\\connectionpool.py:1056: InsecureRequestWarning: Unverified HTTPS request is being made to host 'exhibitors.gitex.com'. Adding certificate verification is strongly advised. See: https://urllib3.readthedocs.io/en/1.26.x/advanced-usage.html#ssl-warnings\n",
      "  warnings.warn(\n"
     ]
    },
    {
     "name": "stdout",
     "output_type": "stream",
     "text": [
      "https://exhibitors.gitex.com/gitex-global-2023/Exhibitor/ExbDetails/MTA2OQ==\n"
     ]
    },
    {
     "name": "stderr",
     "output_type": "stream",
     "text": [
      "C:\\Users\\saira\\anaconda3\\Lib\\site-packages\\urllib3\\connectionpool.py:1056: InsecureRequestWarning: Unverified HTTPS request is being made to host 'exhibitors.gitex.com'. Adding certificate verification is strongly advised. See: https://urllib3.readthedocs.io/en/1.26.x/advanced-usage.html#ssl-warnings\n",
      "  warnings.warn(\n"
     ]
    },
    {
     "name": "stdout",
     "output_type": "stream",
     "text": [
      "https://exhibitors.gitex.com/gitex-global-2023/Exhibitor/ExbDetails/MjE5MQ==\n"
     ]
    },
    {
     "name": "stderr",
     "output_type": "stream",
     "text": [
      "C:\\Users\\saira\\anaconda3\\Lib\\site-packages\\urllib3\\connectionpool.py:1056: InsecureRequestWarning: Unverified HTTPS request is being made to host 'exhibitors.gitex.com'. Adding certificate verification is strongly advised. See: https://urllib3.readthedocs.io/en/1.26.x/advanced-usage.html#ssl-warnings\n",
      "  warnings.warn(\n"
     ]
    },
    {
     "name": "stdout",
     "output_type": "stream",
     "text": [
      "https://exhibitors.gitex.com/gitex-global-2023/Exhibitor/ExbDetails/NTQ2\n"
     ]
    },
    {
     "name": "stderr",
     "output_type": "stream",
     "text": [
      "C:\\Users\\saira\\anaconda3\\Lib\\site-packages\\urllib3\\connectionpool.py:1056: InsecureRequestWarning: Unverified HTTPS request is being made to host 'exhibitors.gitex.com'. Adding certificate verification is strongly advised. See: https://urllib3.readthedocs.io/en/1.26.x/advanced-usage.html#ssl-warnings\n",
      "  warnings.warn(\n"
     ]
    },
    {
     "name": "stdout",
     "output_type": "stream",
     "text": [
      "https://exhibitors.gitex.com/gitex-global-2023/Exhibitor/ExbDetails/MjA0Nw==\n"
     ]
    },
    {
     "name": "stderr",
     "output_type": "stream",
     "text": [
      "C:\\Users\\saira\\anaconda3\\Lib\\site-packages\\urllib3\\connectionpool.py:1056: InsecureRequestWarning: Unverified HTTPS request is being made to host 'exhibitors.gitex.com'. Adding certificate verification is strongly advised. See: https://urllib3.readthedocs.io/en/1.26.x/advanced-usage.html#ssl-warnings\n",
      "  warnings.warn(\n"
     ]
    },
    {
     "name": "stdout",
     "output_type": "stream",
     "text": [
      "https://exhibitors.gitex.com/gitex-global-2023/Exhibitor/ExbDetails/MTU0OQ==\n"
     ]
    },
    {
     "name": "stderr",
     "output_type": "stream",
     "text": [
      "C:\\Users\\saira\\anaconda3\\Lib\\site-packages\\urllib3\\connectionpool.py:1056: InsecureRequestWarning: Unverified HTTPS request is being made to host 'exhibitors.gitex.com'. Adding certificate verification is strongly advised. See: https://urllib3.readthedocs.io/en/1.26.x/advanced-usage.html#ssl-warnings\n",
      "  warnings.warn(\n"
     ]
    },
    {
     "name": "stdout",
     "output_type": "stream",
     "text": [
      "https://exhibitors.gitex.com/gitex-global-2023/Exhibitor/ExbDetails/MTE1MA==\n"
     ]
    },
    {
     "name": "stderr",
     "output_type": "stream",
     "text": [
      "C:\\Users\\saira\\anaconda3\\Lib\\site-packages\\urllib3\\connectionpool.py:1056: InsecureRequestWarning: Unverified HTTPS request is being made to host 'exhibitors.gitex.com'. Adding certificate verification is strongly advised. See: https://urllib3.readthedocs.io/en/1.26.x/advanced-usage.html#ssl-warnings\n",
      "  warnings.warn(\n"
     ]
    },
    {
     "name": "stdout",
     "output_type": "stream",
     "text": [
      "https://exhibitors.gitex.com/gitex-global-2023/Exhibitor/ExbDetails/MTUzNQ==\n"
     ]
    },
    {
     "name": "stderr",
     "output_type": "stream",
     "text": [
      "C:\\Users\\saira\\anaconda3\\Lib\\site-packages\\urllib3\\connectionpool.py:1056: InsecureRequestWarning: Unverified HTTPS request is being made to host 'exhibitors.gitex.com'. Adding certificate verification is strongly advised. See: https://urllib3.readthedocs.io/en/1.26.x/advanced-usage.html#ssl-warnings\n",
      "  warnings.warn(\n"
     ]
    },
    {
     "name": "stdout",
     "output_type": "stream",
     "text": [
      "https://exhibitors.gitex.com/gitex-global-2023/Exhibitor/ExbDetails/NDUw\n"
     ]
    },
    {
     "name": "stderr",
     "output_type": "stream",
     "text": [
      "C:\\Users\\saira\\anaconda3\\Lib\\site-packages\\urllib3\\connectionpool.py:1056: InsecureRequestWarning: Unverified HTTPS request is being made to host 'exhibitors.gitex.com'. Adding certificate verification is strongly advised. See: https://urllib3.readthedocs.io/en/1.26.x/advanced-usage.html#ssl-warnings\n",
      "  warnings.warn(\n"
     ]
    },
    {
     "name": "stdout",
     "output_type": "stream",
     "text": [
      "https://exhibitors.gitex.com/gitex-global-2023/Exhibitor/ExbDetails/Mjc0NA==\n"
     ]
    },
    {
     "name": "stderr",
     "output_type": "stream",
     "text": [
      "C:\\Users\\saira\\anaconda3\\Lib\\site-packages\\urllib3\\connectionpool.py:1056: InsecureRequestWarning: Unverified HTTPS request is being made to host 'exhibitors.gitex.com'. Adding certificate verification is strongly advised. See: https://urllib3.readthedocs.io/en/1.26.x/advanced-usage.html#ssl-warnings\n",
      "  warnings.warn(\n"
     ]
    },
    {
     "name": "stdout",
     "output_type": "stream",
     "text": [
      "https://exhibitors.gitex.com/gitex-global-2023/Exhibitor/ExbDetails/OTIz\n"
     ]
    },
    {
     "name": "stderr",
     "output_type": "stream",
     "text": [
      "C:\\Users\\saira\\anaconda3\\Lib\\site-packages\\urllib3\\connectionpool.py:1056: InsecureRequestWarning: Unverified HTTPS request is being made to host 'exhibitors.gitex.com'. Adding certificate verification is strongly advised. See: https://urllib3.readthedocs.io/en/1.26.x/advanced-usage.html#ssl-warnings\n",
      "  warnings.warn(\n"
     ]
    },
    {
     "name": "stdout",
     "output_type": "stream",
     "text": [
      "https://exhibitors.gitex.com/gitex-global-2023/Exhibitor/ExbDetails/MjU4Mg==\n"
     ]
    },
    {
     "name": "stderr",
     "output_type": "stream",
     "text": [
      "C:\\Users\\saira\\anaconda3\\Lib\\site-packages\\urllib3\\connectionpool.py:1056: InsecureRequestWarning: Unverified HTTPS request is being made to host 'exhibitors.gitex.com'. Adding certificate verification is strongly advised. See: https://urllib3.readthedocs.io/en/1.26.x/advanced-usage.html#ssl-warnings\n",
      "  warnings.warn(\n"
     ]
    },
    {
     "name": "stdout",
     "output_type": "stream",
     "text": [
      "https://exhibitors.gitex.com/gitex-global-2023/Exhibitor/ExbDetails/MTQ0MQ==\n"
     ]
    },
    {
     "name": "stderr",
     "output_type": "stream",
     "text": [
      "C:\\Users\\saira\\anaconda3\\Lib\\site-packages\\urllib3\\connectionpool.py:1056: InsecureRequestWarning: Unverified HTTPS request is being made to host 'exhibitors.gitex.com'. Adding certificate verification is strongly advised. See: https://urllib3.readthedocs.io/en/1.26.x/advanced-usage.html#ssl-warnings\n",
      "  warnings.warn(\n"
     ]
    },
    {
     "name": "stdout",
     "output_type": "stream",
     "text": [
      "https://exhibitors.gitex.com/gitex-global-2023/Exhibitor/ExbDetails/MTQ0Ng==\n"
     ]
    },
    {
     "name": "stderr",
     "output_type": "stream",
     "text": [
      "C:\\Users\\saira\\anaconda3\\Lib\\site-packages\\urllib3\\connectionpool.py:1056: InsecureRequestWarning: Unverified HTTPS request is being made to host 'exhibitors.gitex.com'. Adding certificate verification is strongly advised. See: https://urllib3.readthedocs.io/en/1.26.x/advanced-usage.html#ssl-warnings\n",
      "  warnings.warn(\n"
     ]
    },
    {
     "name": "stdout",
     "output_type": "stream",
     "text": [
      "https://exhibitors.gitex.com/gitex-global-2023/Exhibitor/ExbDetails/MjU2Ng==\n"
     ]
    },
    {
     "name": "stderr",
     "output_type": "stream",
     "text": [
      "C:\\Users\\saira\\anaconda3\\Lib\\site-packages\\urllib3\\connectionpool.py:1056: InsecureRequestWarning: Unverified HTTPS request is being made to host 'exhibitors.gitex.com'. Adding certificate verification is strongly advised. See: https://urllib3.readthedocs.io/en/1.26.x/advanced-usage.html#ssl-warnings\n",
      "  warnings.warn(\n"
     ]
    },
    {
     "name": "stdout",
     "output_type": "stream",
     "text": [
      "https://exhibitors.gitex.com/gitex-global-2023/Exhibitor/ExbDetails/OTQ2\n"
     ]
    },
    {
     "name": "stderr",
     "output_type": "stream",
     "text": [
      "C:\\Users\\saira\\anaconda3\\Lib\\site-packages\\urllib3\\connectionpool.py:1056: InsecureRequestWarning: Unverified HTTPS request is being made to host 'exhibitors.gitex.com'. Adding certificate verification is strongly advised. See: https://urllib3.readthedocs.io/en/1.26.x/advanced-usage.html#ssl-warnings\n",
      "  warnings.warn(\n"
     ]
    },
    {
     "name": "stdout",
     "output_type": "stream",
     "text": [
      "https://exhibitors.gitex.com/gitex-global-2023/Exhibitor/ExbDetails/MjkzNg==\n"
     ]
    },
    {
     "name": "stderr",
     "output_type": "stream",
     "text": [
      "C:\\Users\\saira\\anaconda3\\Lib\\site-packages\\urllib3\\connectionpool.py:1056: InsecureRequestWarning: Unverified HTTPS request is being made to host 'exhibitors.gitex.com'. Adding certificate verification is strongly advised. See: https://urllib3.readthedocs.io/en/1.26.x/advanced-usage.html#ssl-warnings\n",
      "  warnings.warn(\n"
     ]
    },
    {
     "name": "stdout",
     "output_type": "stream",
     "text": [
      "https://exhibitors.gitex.com/gitex-global-2023/Exhibitor/ExbDetails/MTAzNA==\n"
     ]
    },
    {
     "name": "stderr",
     "output_type": "stream",
     "text": [
      "C:\\Users\\saira\\anaconda3\\Lib\\site-packages\\urllib3\\connectionpool.py:1056: InsecureRequestWarning: Unverified HTTPS request is being made to host 'exhibitors.gitex.com'. Adding certificate verification is strongly advised. See: https://urllib3.readthedocs.io/en/1.26.x/advanced-usage.html#ssl-warnings\n",
      "  warnings.warn(\n"
     ]
    },
    {
     "name": "stdout",
     "output_type": "stream",
     "text": [
      "https://exhibitors.gitex.com/gitex-global-2023/Exhibitor/ExbDetails/Njg0\n"
     ]
    },
    {
     "name": "stderr",
     "output_type": "stream",
     "text": [
      "C:\\Users\\saira\\anaconda3\\Lib\\site-packages\\urllib3\\connectionpool.py:1056: InsecureRequestWarning: Unverified HTTPS request is being made to host 'exhibitors.gitex.com'. Adding certificate verification is strongly advised. See: https://urllib3.readthedocs.io/en/1.26.x/advanced-usage.html#ssl-warnings\n",
      "  warnings.warn(\n"
     ]
    },
    {
     "name": "stdout",
     "output_type": "stream",
     "text": [
      "https://exhibitors.gitex.com/gitex-global-2023/Exhibitor/ExbDetails/MTczMw==\n"
     ]
    },
    {
     "name": "stderr",
     "output_type": "stream",
     "text": [
      "C:\\Users\\saira\\anaconda3\\Lib\\site-packages\\urllib3\\connectionpool.py:1056: InsecureRequestWarning: Unverified HTTPS request is being made to host 'exhibitors.gitex.com'. Adding certificate verification is strongly advised. See: https://urllib3.readthedocs.io/en/1.26.x/advanced-usage.html#ssl-warnings\n",
      "  warnings.warn(\n"
     ]
    },
    {
     "name": "stdout",
     "output_type": "stream",
     "text": [
      "https://exhibitors.gitex.com/gitex-global-2023/Exhibitor/ExbDetails/MTA1Mg==\n"
     ]
    },
    {
     "name": "stderr",
     "output_type": "stream",
     "text": [
      "C:\\Users\\saira\\anaconda3\\Lib\\site-packages\\urllib3\\connectionpool.py:1056: InsecureRequestWarning: Unverified HTTPS request is being made to host 'exhibitors.gitex.com'. Adding certificate verification is strongly advised. See: https://urllib3.readthedocs.io/en/1.26.x/advanced-usage.html#ssl-warnings\n",
      "  warnings.warn(\n"
     ]
    },
    {
     "name": "stdout",
     "output_type": "stream",
     "text": [
      "https://exhibitors.gitex.com/gitex-global-2023/Exhibitor/ExbDetails/NzI4\n"
     ]
    },
    {
     "name": "stderr",
     "output_type": "stream",
     "text": [
      "C:\\Users\\saira\\anaconda3\\Lib\\site-packages\\urllib3\\connectionpool.py:1056: InsecureRequestWarning: Unverified HTTPS request is being made to host 'exhibitors.gitex.com'. Adding certificate verification is strongly advised. See: https://urllib3.readthedocs.io/en/1.26.x/advanced-usage.html#ssl-warnings\n",
      "  warnings.warn(\n"
     ]
    },
    {
     "name": "stdout",
     "output_type": "stream",
     "text": [
      "https://exhibitors.gitex.com/gitex-global-2023/Exhibitor/ExbDetails/MTkyMA==\n"
     ]
    },
    {
     "name": "stderr",
     "output_type": "stream",
     "text": [
      "C:\\Users\\saira\\anaconda3\\Lib\\site-packages\\urllib3\\connectionpool.py:1056: InsecureRequestWarning: Unverified HTTPS request is being made to host 'exhibitors.gitex.com'. Adding certificate verification is strongly advised. See: https://urllib3.readthedocs.io/en/1.26.x/advanced-usage.html#ssl-warnings\n",
      "  warnings.warn(\n"
     ]
    },
    {
     "name": "stdout",
     "output_type": "stream",
     "text": [
      "https://exhibitors.gitex.com/gitex-global-2023/Exhibitor/ExbDetails/MTAwNQ==\n"
     ]
    },
    {
     "name": "stderr",
     "output_type": "stream",
     "text": [
      "C:\\Users\\saira\\anaconda3\\Lib\\site-packages\\urllib3\\connectionpool.py:1056: InsecureRequestWarning: Unverified HTTPS request is being made to host 'exhibitors.gitex.com'. Adding certificate verification is strongly advised. See: https://urllib3.readthedocs.io/en/1.26.x/advanced-usage.html#ssl-warnings\n",
      "  warnings.warn(\n"
     ]
    },
    {
     "name": "stdout",
     "output_type": "stream",
     "text": [
      "https://exhibitors.gitex.com/gitex-global-2023/Exhibitor/ExbDetails/MTMyNA==\n"
     ]
    },
    {
     "name": "stderr",
     "output_type": "stream",
     "text": [
      "C:\\Users\\saira\\anaconda3\\Lib\\site-packages\\urllib3\\connectionpool.py:1056: InsecureRequestWarning: Unverified HTTPS request is being made to host 'exhibitors.gitex.com'. Adding certificate verification is strongly advised. See: https://urllib3.readthedocs.io/en/1.26.x/advanced-usage.html#ssl-warnings\n",
      "  warnings.warn(\n"
     ]
    },
    {
     "name": "stdout",
     "output_type": "stream",
     "text": [
      "https://exhibitors.gitex.com/gitex-global-2023/Exhibitor/ExbDetails/MjE2Nw==\n"
     ]
    },
    {
     "name": "stderr",
     "output_type": "stream",
     "text": [
      "C:\\Users\\saira\\anaconda3\\Lib\\site-packages\\urllib3\\connectionpool.py:1056: InsecureRequestWarning: Unverified HTTPS request is being made to host 'exhibitors.gitex.com'. Adding certificate verification is strongly advised. See: https://urllib3.readthedocs.io/en/1.26.x/advanced-usage.html#ssl-warnings\n",
      "  warnings.warn(\n"
     ]
    },
    {
     "name": "stdout",
     "output_type": "stream",
     "text": [
      "https://exhibitors.gitex.com/gitex-global-2023/Exhibitor/ExbDetails/MTAyMQ==\n"
     ]
    },
    {
     "name": "stderr",
     "output_type": "stream",
     "text": [
      "C:\\Users\\saira\\anaconda3\\Lib\\site-packages\\urllib3\\connectionpool.py:1056: InsecureRequestWarning: Unverified HTTPS request is being made to host 'exhibitors.gitex.com'. Adding certificate verification is strongly advised. See: https://urllib3.readthedocs.io/en/1.26.x/advanced-usage.html#ssl-warnings\n",
      "  warnings.warn(\n"
     ]
    },
    {
     "name": "stdout",
     "output_type": "stream",
     "text": [
      "https://exhibitors.gitex.com/gitex-global-2023/Exhibitor/ExbDetails/MTYyMA==\n"
     ]
    },
    {
     "name": "stderr",
     "output_type": "stream",
     "text": [
      "C:\\Users\\saira\\anaconda3\\Lib\\site-packages\\urllib3\\connectionpool.py:1056: InsecureRequestWarning: Unverified HTTPS request is being made to host 'exhibitors.gitex.com'. Adding certificate verification is strongly advised. See: https://urllib3.readthedocs.io/en/1.26.x/advanced-usage.html#ssl-warnings\n",
      "  warnings.warn(\n"
     ]
    },
    {
     "name": "stdout",
     "output_type": "stream",
     "text": [
      "https://exhibitors.gitex.com/gitex-global-2023/Exhibitor/ExbDetails/MTkwNg==\n"
     ]
    },
    {
     "name": "stderr",
     "output_type": "stream",
     "text": [
      "C:\\Users\\saira\\anaconda3\\Lib\\site-packages\\urllib3\\connectionpool.py:1056: InsecureRequestWarning: Unverified HTTPS request is being made to host 'exhibitors.gitex.com'. Adding certificate verification is strongly advised. See: https://urllib3.readthedocs.io/en/1.26.x/advanced-usage.html#ssl-warnings\n",
      "  warnings.warn(\n"
     ]
    },
    {
     "name": "stdout",
     "output_type": "stream",
     "text": [
      "https://exhibitors.gitex.com/gitex-global-2023/Exhibitor/ExbDetails/MTcxNg==\n"
     ]
    },
    {
     "name": "stderr",
     "output_type": "stream",
     "text": [
      "C:\\Users\\saira\\anaconda3\\Lib\\site-packages\\urllib3\\connectionpool.py:1056: InsecureRequestWarning: Unverified HTTPS request is being made to host 'exhibitors.gitex.com'. Adding certificate verification is strongly advised. See: https://urllib3.readthedocs.io/en/1.26.x/advanced-usage.html#ssl-warnings\n",
      "  warnings.warn(\n"
     ]
    },
    {
     "name": "stdout",
     "output_type": "stream",
     "text": [
      "https://exhibitors.gitex.com/gitex-global-2023/Exhibitor/ExbDetails/MTAyOA==\n"
     ]
    },
    {
     "name": "stderr",
     "output_type": "stream",
     "text": [
      "C:\\Users\\saira\\anaconda3\\Lib\\site-packages\\urllib3\\connectionpool.py:1056: InsecureRequestWarning: Unverified HTTPS request is being made to host 'exhibitors.gitex.com'. Adding certificate verification is strongly advised. See: https://urllib3.readthedocs.io/en/1.26.x/advanced-usage.html#ssl-warnings\n",
      "  warnings.warn(\n"
     ]
    },
    {
     "name": "stdout",
     "output_type": "stream",
     "text": [
      "https://exhibitors.gitex.com/gitex-global-2023/Exhibitor/ExbDetails/OTgy\n"
     ]
    },
    {
     "name": "stderr",
     "output_type": "stream",
     "text": [
      "C:\\Users\\saira\\anaconda3\\Lib\\site-packages\\urllib3\\connectionpool.py:1056: InsecureRequestWarning: Unverified HTTPS request is being made to host 'exhibitors.gitex.com'. Adding certificate verification is strongly advised. See: https://urllib3.readthedocs.io/en/1.26.x/advanced-usage.html#ssl-warnings\n",
      "  warnings.warn(\n"
     ]
    },
    {
     "name": "stdout",
     "output_type": "stream",
     "text": [
      "https://exhibitors.gitex.com/gitex-global-2023/Exhibitor/ExbDetails/MTg4Mg==\n"
     ]
    },
    {
     "name": "stderr",
     "output_type": "stream",
     "text": [
      "C:\\Users\\saira\\anaconda3\\Lib\\site-packages\\urllib3\\connectionpool.py:1056: InsecureRequestWarning: Unverified HTTPS request is being made to host 'exhibitors.gitex.com'. Adding certificate verification is strongly advised. See: https://urllib3.readthedocs.io/en/1.26.x/advanced-usage.html#ssl-warnings\n",
      "  warnings.warn(\n"
     ]
    },
    {
     "name": "stdout",
     "output_type": "stream",
     "text": [
      "https://exhibitors.gitex.com/gitex-global-2023/Exhibitor/ExbDetails/NTg3\n"
     ]
    },
    {
     "name": "stderr",
     "output_type": "stream",
     "text": [
      "C:\\Users\\saira\\anaconda3\\Lib\\site-packages\\urllib3\\connectionpool.py:1056: InsecureRequestWarning: Unverified HTTPS request is being made to host 'exhibitors.gitex.com'. Adding certificate verification is strongly advised. See: https://urllib3.readthedocs.io/en/1.26.x/advanced-usage.html#ssl-warnings\n",
      "  warnings.warn(\n"
     ]
    },
    {
     "name": "stdout",
     "output_type": "stream",
     "text": [
      "https://exhibitors.gitex.com/gitex-global-2023/Exhibitor/ExbDetails/NjAw\n"
     ]
    },
    {
     "name": "stderr",
     "output_type": "stream",
     "text": [
      "C:\\Users\\saira\\anaconda3\\Lib\\site-packages\\urllib3\\connectionpool.py:1056: InsecureRequestWarning: Unverified HTTPS request is being made to host 'exhibitors.gitex.com'. Adding certificate verification is strongly advised. See: https://urllib3.readthedocs.io/en/1.26.x/advanced-usage.html#ssl-warnings\n",
      "  warnings.warn(\n"
     ]
    },
    {
     "name": "stdout",
     "output_type": "stream",
     "text": [
      "https://exhibitors.gitex.com/gitex-global-2023/Exhibitor/ExbDetails/OTQw\n"
     ]
    },
    {
     "name": "stderr",
     "output_type": "stream",
     "text": [
      "C:\\Users\\saira\\anaconda3\\Lib\\site-packages\\urllib3\\connectionpool.py:1056: InsecureRequestWarning: Unverified HTTPS request is being made to host 'exhibitors.gitex.com'. Adding certificate verification is strongly advised. See: https://urllib3.readthedocs.io/en/1.26.x/advanced-usage.html#ssl-warnings\n",
      "  warnings.warn(\n"
     ]
    },
    {
     "name": "stdout",
     "output_type": "stream",
     "text": [
      "https://exhibitors.gitex.com/gitex-global-2023/Exhibitor/ExbDetails/NjUy\n"
     ]
    },
    {
     "name": "stderr",
     "output_type": "stream",
     "text": [
      "C:\\Users\\saira\\anaconda3\\Lib\\site-packages\\urllib3\\connectionpool.py:1056: InsecureRequestWarning: Unverified HTTPS request is being made to host 'exhibitors.gitex.com'. Adding certificate verification is strongly advised. See: https://urllib3.readthedocs.io/en/1.26.x/advanced-usage.html#ssl-warnings\n",
      "  warnings.warn(\n"
     ]
    },
    {
     "name": "stdout",
     "output_type": "stream",
     "text": [
      "https://exhibitors.gitex.com/gitex-global-2023/Exhibitor/ExbDetails/MTE1Mg==\n"
     ]
    },
    {
     "name": "stderr",
     "output_type": "stream",
     "text": [
      "C:\\Users\\saira\\anaconda3\\Lib\\site-packages\\urllib3\\connectionpool.py:1056: InsecureRequestWarning: Unverified HTTPS request is being made to host 'exhibitors.gitex.com'. Adding certificate verification is strongly advised. See: https://urllib3.readthedocs.io/en/1.26.x/advanced-usage.html#ssl-warnings\n",
      "  warnings.warn(\n"
     ]
    },
    {
     "name": "stdout",
     "output_type": "stream",
     "text": [
      "https://exhibitors.gitex.com/gitex-global-2023/Exhibitor/ExbDetails/NDc3\n"
     ]
    },
    {
     "name": "stderr",
     "output_type": "stream",
     "text": [
      "C:\\Users\\saira\\anaconda3\\Lib\\site-packages\\urllib3\\connectionpool.py:1056: InsecureRequestWarning: Unverified HTTPS request is being made to host 'exhibitors.gitex.com'. Adding certificate verification is strongly advised. See: https://urllib3.readthedocs.io/en/1.26.x/advanced-usage.html#ssl-warnings\n",
      "  warnings.warn(\n"
     ]
    },
    {
     "name": "stdout",
     "output_type": "stream",
     "text": [
      "https://exhibitors.gitex.com/gitex-global-2023/Exhibitor/ExbDetails/MTg2Mw==\n"
     ]
    },
    {
     "name": "stderr",
     "output_type": "stream",
     "text": [
      "C:\\Users\\saira\\anaconda3\\Lib\\site-packages\\urllib3\\connectionpool.py:1056: InsecureRequestWarning: Unverified HTTPS request is being made to host 'exhibitors.gitex.com'. Adding certificate verification is strongly advised. See: https://urllib3.readthedocs.io/en/1.26.x/advanced-usage.html#ssl-warnings\n",
      "  warnings.warn(\n"
     ]
    },
    {
     "name": "stdout",
     "output_type": "stream",
     "text": [
      "https://exhibitors.gitex.com/gitex-global-2023/Exhibitor/ExbDetails/MTU5Ng==\n"
     ]
    },
    {
     "name": "stderr",
     "output_type": "stream",
     "text": [
      "C:\\Users\\saira\\anaconda3\\Lib\\site-packages\\urllib3\\connectionpool.py:1056: InsecureRequestWarning: Unverified HTTPS request is being made to host 'exhibitors.gitex.com'. Adding certificate verification is strongly advised. See: https://urllib3.readthedocs.io/en/1.26.x/advanced-usage.html#ssl-warnings\n",
      "  warnings.warn(\n"
     ]
    },
    {
     "name": "stdout",
     "output_type": "stream",
     "text": [
      "https://exhibitors.gitex.com/gitex-global-2023/Exhibitor/ExbDetails/OTk4\n"
     ]
    },
    {
     "name": "stderr",
     "output_type": "stream",
     "text": [
      "C:\\Users\\saira\\anaconda3\\Lib\\site-packages\\urllib3\\connectionpool.py:1056: InsecureRequestWarning: Unverified HTTPS request is being made to host 'exhibitors.gitex.com'. Adding certificate verification is strongly advised. See: https://urllib3.readthedocs.io/en/1.26.x/advanced-usage.html#ssl-warnings\n",
      "  warnings.warn(\n"
     ]
    },
    {
     "name": "stdout",
     "output_type": "stream",
     "text": [
      "https://exhibitors.gitex.com/gitex-global-2023/Exhibitor/ExbDetails/NzI0\n"
     ]
    },
    {
     "name": "stderr",
     "output_type": "stream",
     "text": [
      "C:\\Users\\saira\\anaconda3\\Lib\\site-packages\\urllib3\\connectionpool.py:1056: InsecureRequestWarning: Unverified HTTPS request is being made to host 'exhibitors.gitex.com'. Adding certificate verification is strongly advised. See: https://urllib3.readthedocs.io/en/1.26.x/advanced-usage.html#ssl-warnings\n",
      "  warnings.warn(\n"
     ]
    },
    {
     "name": "stdout",
     "output_type": "stream",
     "text": [
      "https://exhibitors.gitex.com/gitex-global-2023/Exhibitor/ExbDetails/NTYw\n"
     ]
    },
    {
     "name": "stderr",
     "output_type": "stream",
     "text": [
      "C:\\Users\\saira\\anaconda3\\Lib\\site-packages\\urllib3\\connectionpool.py:1056: InsecureRequestWarning: Unverified HTTPS request is being made to host 'exhibitors.gitex.com'. Adding certificate verification is strongly advised. See: https://urllib3.readthedocs.io/en/1.26.x/advanced-usage.html#ssl-warnings\n",
      "  warnings.warn(\n"
     ]
    },
    {
     "name": "stdout",
     "output_type": "stream",
     "text": [
      "https://exhibitors.gitex.com/gitex-global-2023/Exhibitor/ExbDetails/MTU2NQ==\n"
     ]
    },
    {
     "name": "stderr",
     "output_type": "stream",
     "text": [
      "C:\\Users\\saira\\anaconda3\\Lib\\site-packages\\urllib3\\connectionpool.py:1056: InsecureRequestWarning: Unverified HTTPS request is being made to host 'exhibitors.gitex.com'. Adding certificate verification is strongly advised. See: https://urllib3.readthedocs.io/en/1.26.x/advanced-usage.html#ssl-warnings\n",
      "  warnings.warn(\n"
     ]
    },
    {
     "name": "stdout",
     "output_type": "stream",
     "text": [
      "https://exhibitors.gitex.com/gitex-global-2023/Exhibitor/ExbDetails/MTM1OQ==\n"
     ]
    },
    {
     "name": "stderr",
     "output_type": "stream",
     "text": [
      "C:\\Users\\saira\\anaconda3\\Lib\\site-packages\\urllib3\\connectionpool.py:1056: InsecureRequestWarning: Unverified HTTPS request is being made to host 'exhibitors.gitex.com'. Adding certificate verification is strongly advised. See: https://urllib3.readthedocs.io/en/1.26.x/advanced-usage.html#ssl-warnings\n",
      "  warnings.warn(\n"
     ]
    },
    {
     "name": "stdout",
     "output_type": "stream",
     "text": [
      "https://exhibitors.gitex.com/gitex-global-2023/Exhibitor/ExbDetails/NTgz\n"
     ]
    },
    {
     "name": "stderr",
     "output_type": "stream",
     "text": [
      "C:\\Users\\saira\\anaconda3\\Lib\\site-packages\\urllib3\\connectionpool.py:1056: InsecureRequestWarning: Unverified HTTPS request is being made to host 'exhibitors.gitex.com'. Adding certificate verification is strongly advised. See: https://urllib3.readthedocs.io/en/1.26.x/advanced-usage.html#ssl-warnings\n",
      "  warnings.warn(\n"
     ]
    },
    {
     "name": "stdout",
     "output_type": "stream",
     "text": [
      "https://exhibitors.gitex.com/gitex-global-2023/Exhibitor/ExbDetails/MjQ2MA==\n"
     ]
    },
    {
     "name": "stderr",
     "output_type": "stream",
     "text": [
      "C:\\Users\\saira\\anaconda3\\Lib\\site-packages\\urllib3\\connectionpool.py:1056: InsecureRequestWarning: Unverified HTTPS request is being made to host 'exhibitors.gitex.com'. Adding certificate verification is strongly advised. See: https://urllib3.readthedocs.io/en/1.26.x/advanced-usage.html#ssl-warnings\n",
      "  warnings.warn(\n"
     ]
    },
    {
     "name": "stdout",
     "output_type": "stream",
     "text": [
      "https://exhibitors.gitex.com/gitex-global-2023/Exhibitor/ExbDetails/MTQyOA==\n"
     ]
    },
    {
     "name": "stderr",
     "output_type": "stream",
     "text": [
      "C:\\Users\\saira\\anaconda3\\Lib\\site-packages\\urllib3\\connectionpool.py:1056: InsecureRequestWarning: Unverified HTTPS request is being made to host 'exhibitors.gitex.com'. Adding certificate verification is strongly advised. See: https://urllib3.readthedocs.io/en/1.26.x/advanced-usage.html#ssl-warnings\n",
      "  warnings.warn(\n"
     ]
    },
    {
     "name": "stdout",
     "output_type": "stream",
     "text": [
      "https://exhibitors.gitex.com/gitex-global-2023/Exhibitor/ExbDetails/MTQ3Mg==\n"
     ]
    },
    {
     "name": "stderr",
     "output_type": "stream",
     "text": [
      "C:\\Users\\saira\\anaconda3\\Lib\\site-packages\\urllib3\\connectionpool.py:1056: InsecureRequestWarning: Unverified HTTPS request is being made to host 'exhibitors.gitex.com'. Adding certificate verification is strongly advised. See: https://urllib3.readthedocs.io/en/1.26.x/advanced-usage.html#ssl-warnings\n",
      "  warnings.warn(\n"
     ]
    },
    {
     "name": "stdout",
     "output_type": "stream",
     "text": [
      "https://exhibitors.gitex.com/gitex-global-2023/Exhibitor/ExbDetails/MTM3Mw==\n"
     ]
    },
    {
     "name": "stderr",
     "output_type": "stream",
     "text": [
      "C:\\Users\\saira\\anaconda3\\Lib\\site-packages\\urllib3\\connectionpool.py:1056: InsecureRequestWarning: Unverified HTTPS request is being made to host 'exhibitors.gitex.com'. Adding certificate verification is strongly advised. See: https://urllib3.readthedocs.io/en/1.26.x/advanced-usage.html#ssl-warnings\n",
      "  warnings.warn(\n"
     ]
    },
    {
     "name": "stdout",
     "output_type": "stream",
     "text": [
      "https://exhibitors.gitex.com/gitex-global-2023/Exhibitor/ExbDetails/NTMw\n"
     ]
    },
    {
     "name": "stderr",
     "output_type": "stream",
     "text": [
      "C:\\Users\\saira\\anaconda3\\Lib\\site-packages\\urllib3\\connectionpool.py:1056: InsecureRequestWarning: Unverified HTTPS request is being made to host 'exhibitors.gitex.com'. Adding certificate verification is strongly advised. See: https://urllib3.readthedocs.io/en/1.26.x/advanced-usage.html#ssl-warnings\n",
      "  warnings.warn(\n"
     ]
    },
    {
     "name": "stdout",
     "output_type": "stream",
     "text": [
      "https://exhibitors.gitex.com/gitex-global-2023/Exhibitor/ExbDetails/MTU5NQ==\n"
     ]
    },
    {
     "name": "stderr",
     "output_type": "stream",
     "text": [
      "C:\\Users\\saira\\anaconda3\\Lib\\site-packages\\urllib3\\connectionpool.py:1056: InsecureRequestWarning: Unverified HTTPS request is being made to host 'exhibitors.gitex.com'. Adding certificate verification is strongly advised. See: https://urllib3.readthedocs.io/en/1.26.x/advanced-usage.html#ssl-warnings\n",
      "  warnings.warn(\n"
     ]
    },
    {
     "name": "stdout",
     "output_type": "stream",
     "text": [
      "https://exhibitors.gitex.com/gitex-global-2023/Exhibitor/ExbDetails/NTQ5\n"
     ]
    },
    {
     "name": "stderr",
     "output_type": "stream",
     "text": [
      "C:\\Users\\saira\\anaconda3\\Lib\\site-packages\\urllib3\\connectionpool.py:1056: InsecureRequestWarning: Unverified HTTPS request is being made to host 'exhibitors.gitex.com'. Adding certificate verification is strongly advised. See: https://urllib3.readthedocs.io/en/1.26.x/advanced-usage.html#ssl-warnings\n",
      "  warnings.warn(\n"
     ]
    },
    {
     "name": "stdout",
     "output_type": "stream",
     "text": [
      "https://exhibitors.gitex.com/gitex-global-2023/Exhibitor/ExbDetails/Mjg1Mw==\n"
     ]
    },
    {
     "name": "stderr",
     "output_type": "stream",
     "text": [
      "C:\\Users\\saira\\anaconda3\\Lib\\site-packages\\urllib3\\connectionpool.py:1056: InsecureRequestWarning: Unverified HTTPS request is being made to host 'exhibitors.gitex.com'. Adding certificate verification is strongly advised. See: https://urllib3.readthedocs.io/en/1.26.x/advanced-usage.html#ssl-warnings\n",
      "  warnings.warn(\n"
     ]
    },
    {
     "name": "stdout",
     "output_type": "stream",
     "text": [
      "https://exhibitors.gitex.com/gitex-global-2023/Exhibitor/ExbDetails/MTA0Nw==\n"
     ]
    },
    {
     "name": "stderr",
     "output_type": "stream",
     "text": [
      "C:\\Users\\saira\\anaconda3\\Lib\\site-packages\\urllib3\\connectionpool.py:1056: InsecureRequestWarning: Unverified HTTPS request is being made to host 'exhibitors.gitex.com'. Adding certificate verification is strongly advised. See: https://urllib3.readthedocs.io/en/1.26.x/advanced-usage.html#ssl-warnings\n",
      "  warnings.warn(\n"
     ]
    },
    {
     "name": "stdout",
     "output_type": "stream",
     "text": [
      "https://exhibitors.gitex.com/gitex-global-2023/Exhibitor/ExbDetails/NTAy\n"
     ]
    },
    {
     "name": "stderr",
     "output_type": "stream",
     "text": [
      "C:\\Users\\saira\\anaconda3\\Lib\\site-packages\\urllib3\\connectionpool.py:1056: InsecureRequestWarning: Unverified HTTPS request is being made to host 'exhibitors.gitex.com'. Adding certificate verification is strongly advised. See: https://urllib3.readthedocs.io/en/1.26.x/advanced-usage.html#ssl-warnings\n",
      "  warnings.warn(\n"
     ]
    },
    {
     "name": "stdout",
     "output_type": "stream",
     "text": [
      "https://exhibitors.gitex.com/gitex-global-2023/Exhibitor/ExbDetails/NDY4\n"
     ]
    },
    {
     "name": "stderr",
     "output_type": "stream",
     "text": [
      "C:\\Users\\saira\\anaconda3\\Lib\\site-packages\\urllib3\\connectionpool.py:1056: InsecureRequestWarning: Unverified HTTPS request is being made to host 'exhibitors.gitex.com'. Adding certificate verification is strongly advised. See: https://urllib3.readthedocs.io/en/1.26.x/advanced-usage.html#ssl-warnings\n",
      "  warnings.warn(\n"
     ]
    },
    {
     "name": "stdout",
     "output_type": "stream",
     "text": [
      "https://exhibitors.gitex.com/gitex-global-2023/Exhibitor/ExbDetails/NDU0\n"
     ]
    },
    {
     "name": "stderr",
     "output_type": "stream",
     "text": [
      "C:\\Users\\saira\\anaconda3\\Lib\\site-packages\\urllib3\\connectionpool.py:1056: InsecureRequestWarning: Unverified HTTPS request is being made to host 'exhibitors.gitex.com'. Adding certificate verification is strongly advised. See: https://urllib3.readthedocs.io/en/1.26.x/advanced-usage.html#ssl-warnings\n",
      "  warnings.warn(\n"
     ]
    },
    {
     "name": "stdout",
     "output_type": "stream",
     "text": [
      "https://exhibitors.gitex.com/gitex-global-2023/Exhibitor/ExbDetails/MTQ1NQ==\n"
     ]
    },
    {
     "name": "stderr",
     "output_type": "stream",
     "text": [
      "C:\\Users\\saira\\anaconda3\\Lib\\site-packages\\urllib3\\connectionpool.py:1056: InsecureRequestWarning: Unverified HTTPS request is being made to host 'exhibitors.gitex.com'. Adding certificate verification is strongly advised. See: https://urllib3.readthedocs.io/en/1.26.x/advanced-usage.html#ssl-warnings\n",
      "  warnings.warn(\n"
     ]
    },
    {
     "name": "stdout",
     "output_type": "stream",
     "text": [
      "https://exhibitors.gitex.com/gitex-global-2023/Exhibitor/ExbDetails/NzM1\n"
     ]
    },
    {
     "name": "stderr",
     "output_type": "stream",
     "text": [
      "C:\\Users\\saira\\anaconda3\\Lib\\site-packages\\urllib3\\connectionpool.py:1056: InsecureRequestWarning: Unverified HTTPS request is being made to host 'exhibitors.gitex.com'. Adding certificate verification is strongly advised. See: https://urllib3.readthedocs.io/en/1.26.x/advanced-usage.html#ssl-warnings\n",
      "  warnings.warn(\n"
     ]
    },
    {
     "name": "stdout",
     "output_type": "stream",
     "text": [
      "https://exhibitors.gitex.com/gitex-global-2023/Exhibitor/ExbDetails/MTA5OA==\n"
     ]
    },
    {
     "name": "stderr",
     "output_type": "stream",
     "text": [
      "C:\\Users\\saira\\anaconda3\\Lib\\site-packages\\urllib3\\connectionpool.py:1056: InsecureRequestWarning: Unverified HTTPS request is being made to host 'exhibitors.gitex.com'. Adding certificate verification is strongly advised. See: https://urllib3.readthedocs.io/en/1.26.x/advanced-usage.html#ssl-warnings\n",
      "  warnings.warn(\n"
     ]
    },
    {
     "name": "stdout",
     "output_type": "stream",
     "text": [
      "https://exhibitors.gitex.com/gitex-global-2023/Exhibitor/ExbDetails/NTY4\n"
     ]
    },
    {
     "name": "stderr",
     "output_type": "stream",
     "text": [
      "C:\\Users\\saira\\anaconda3\\Lib\\site-packages\\urllib3\\connectionpool.py:1056: InsecureRequestWarning: Unverified HTTPS request is being made to host 'exhibitors.gitex.com'. Adding certificate verification is strongly advised. See: https://urllib3.readthedocs.io/en/1.26.x/advanced-usage.html#ssl-warnings\n",
      "  warnings.warn(\n"
     ]
    },
    {
     "name": "stdout",
     "output_type": "stream",
     "text": [
      "https://exhibitors.gitex.com/gitex-global-2023/Exhibitor/ExbDetails/NjIw\n"
     ]
    },
    {
     "name": "stderr",
     "output_type": "stream",
     "text": [
      "C:\\Users\\saira\\anaconda3\\Lib\\site-packages\\urllib3\\connectionpool.py:1056: InsecureRequestWarning: Unverified HTTPS request is being made to host 'exhibitors.gitex.com'. Adding certificate verification is strongly advised. See: https://urllib3.readthedocs.io/en/1.26.x/advanced-usage.html#ssl-warnings\n",
      "  warnings.warn(\n"
     ]
    },
    {
     "name": "stdout",
     "output_type": "stream",
     "text": [
      "https://exhibitors.gitex.com/gitex-global-2023/Exhibitor/ExbDetails/NTQy\n"
     ]
    },
    {
     "name": "stderr",
     "output_type": "stream",
     "text": [
      "C:\\Users\\saira\\anaconda3\\Lib\\site-packages\\urllib3\\connectionpool.py:1056: InsecureRequestWarning: Unverified HTTPS request is being made to host 'exhibitors.gitex.com'. Adding certificate verification is strongly advised. See: https://urllib3.readthedocs.io/en/1.26.x/advanced-usage.html#ssl-warnings\n",
      "  warnings.warn(\n"
     ]
    },
    {
     "name": "stdout",
     "output_type": "stream",
     "text": [
      "https://exhibitors.gitex.com/gitex-global-2023/Exhibitor/ExbDetails/MjQ4NA==\n"
     ]
    },
    {
     "name": "stderr",
     "output_type": "stream",
     "text": [
      "C:\\Users\\saira\\anaconda3\\Lib\\site-packages\\urllib3\\connectionpool.py:1056: InsecureRequestWarning: Unverified HTTPS request is being made to host 'exhibitors.gitex.com'. Adding certificate verification is strongly advised. See: https://urllib3.readthedocs.io/en/1.26.x/advanced-usage.html#ssl-warnings\n",
      "  warnings.warn(\n"
     ]
    },
    {
     "name": "stdout",
     "output_type": "stream",
     "text": [
      "https://exhibitors.gitex.com/gitex-global-2023/Exhibitor/ExbDetails/NDE3\n"
     ]
    },
    {
     "name": "stderr",
     "output_type": "stream",
     "text": [
      "C:\\Users\\saira\\anaconda3\\Lib\\site-packages\\urllib3\\connectionpool.py:1056: InsecureRequestWarning: Unverified HTTPS request is being made to host 'exhibitors.gitex.com'. Adding certificate verification is strongly advised. See: https://urllib3.readthedocs.io/en/1.26.x/advanced-usage.html#ssl-warnings\n",
      "  warnings.warn(\n"
     ]
    },
    {
     "name": "stdout",
     "output_type": "stream",
     "text": [
      "https://exhibitors.gitex.com/gitex-global-2023/Exhibitor/ExbDetails/MjE5MA==\n"
     ]
    },
    {
     "name": "stderr",
     "output_type": "stream",
     "text": [
      "C:\\Users\\saira\\anaconda3\\Lib\\site-packages\\urllib3\\connectionpool.py:1056: InsecureRequestWarning: Unverified HTTPS request is being made to host 'exhibitors.gitex.com'. Adding certificate verification is strongly advised. See: https://urllib3.readthedocs.io/en/1.26.x/advanced-usage.html#ssl-warnings\n",
      "  warnings.warn(\n"
     ]
    },
    {
     "name": "stdout",
     "output_type": "stream",
     "text": [
      "https://exhibitors.gitex.com/gitex-global-2023/Exhibitor/ExbDetails/MjE5Ng==\n"
     ]
    },
    {
     "name": "stderr",
     "output_type": "stream",
     "text": [
      "C:\\Users\\saira\\anaconda3\\Lib\\site-packages\\urllib3\\connectionpool.py:1056: InsecureRequestWarning: Unverified HTTPS request is being made to host 'exhibitors.gitex.com'. Adding certificate verification is strongly advised. See: https://urllib3.readthedocs.io/en/1.26.x/advanced-usage.html#ssl-warnings\n",
      "  warnings.warn(\n"
     ]
    },
    {
     "name": "stdout",
     "output_type": "stream",
     "text": [
      "https://exhibitors.gitex.com/gitex-global-2023/Exhibitor/ExbDetails/MjQ3Ng==\n"
     ]
    },
    {
     "name": "stderr",
     "output_type": "stream",
     "text": [
      "C:\\Users\\saira\\anaconda3\\Lib\\site-packages\\urllib3\\connectionpool.py:1056: InsecureRequestWarning: Unverified HTTPS request is being made to host 'exhibitors.gitex.com'. Adding certificate verification is strongly advised. See: https://urllib3.readthedocs.io/en/1.26.x/advanced-usage.html#ssl-warnings\n",
      "  warnings.warn(\n"
     ]
    },
    {
     "name": "stdout",
     "output_type": "stream",
     "text": [
      "https://exhibitors.gitex.com/gitex-global-2023/Exhibitor/ExbDetails/MTA1MQ==\n"
     ]
    },
    {
     "name": "stderr",
     "output_type": "stream",
     "text": [
      "C:\\Users\\saira\\anaconda3\\Lib\\site-packages\\urllib3\\connectionpool.py:1056: InsecureRequestWarning: Unverified HTTPS request is being made to host 'exhibitors.gitex.com'. Adding certificate verification is strongly advised. See: https://urllib3.readthedocs.io/en/1.26.x/advanced-usage.html#ssl-warnings\n",
      "  warnings.warn(\n"
     ]
    },
    {
     "name": "stdout",
     "output_type": "stream",
     "text": [
      "https://exhibitors.gitex.com/gitex-global-2023/Exhibitor/ExbDetails/NzIw\n"
     ]
    },
    {
     "name": "stderr",
     "output_type": "stream",
     "text": [
      "C:\\Users\\saira\\anaconda3\\Lib\\site-packages\\urllib3\\connectionpool.py:1056: InsecureRequestWarning: Unverified HTTPS request is being made to host 'exhibitors.gitex.com'. Adding certificate verification is strongly advised. See: https://urllib3.readthedocs.io/en/1.26.x/advanced-usage.html#ssl-warnings\n",
      "  warnings.warn(\n"
     ]
    },
    {
     "name": "stdout",
     "output_type": "stream",
     "text": [
      "https://exhibitors.gitex.com/gitex-global-2023/Exhibitor/ExbDetails/OTM5\n"
     ]
    },
    {
     "name": "stderr",
     "output_type": "stream",
     "text": [
      "C:\\Users\\saira\\anaconda3\\Lib\\site-packages\\urllib3\\connectionpool.py:1056: InsecureRequestWarning: Unverified HTTPS request is being made to host 'exhibitors.gitex.com'. Adding certificate verification is strongly advised. See: https://urllib3.readthedocs.io/en/1.26.x/advanced-usage.html#ssl-warnings\n",
      "  warnings.warn(\n"
     ]
    },
    {
     "name": "stdout",
     "output_type": "stream",
     "text": [
      "https://exhibitors.gitex.com/gitex-global-2023/Exhibitor/ExbDetails/NDE0\n"
     ]
    },
    {
     "name": "stderr",
     "output_type": "stream",
     "text": [
      "C:\\Users\\saira\\anaconda3\\Lib\\site-packages\\urllib3\\connectionpool.py:1056: InsecureRequestWarning: Unverified HTTPS request is being made to host 'exhibitors.gitex.com'. Adding certificate verification is strongly advised. See: https://urllib3.readthedocs.io/en/1.26.x/advanced-usage.html#ssl-warnings\n",
      "  warnings.warn(\n"
     ]
    },
    {
     "name": "stdout",
     "output_type": "stream",
     "text": [
      "https://exhibitors.gitex.com/gitex-global-2023/Exhibitor/ExbDetails/MTQwNA==\n"
     ]
    },
    {
     "name": "stderr",
     "output_type": "stream",
     "text": [
      "C:\\Users\\saira\\anaconda3\\Lib\\site-packages\\urllib3\\connectionpool.py:1056: InsecureRequestWarning: Unverified HTTPS request is being made to host 'exhibitors.gitex.com'. Adding certificate verification is strongly advised. See: https://urllib3.readthedocs.io/en/1.26.x/advanced-usage.html#ssl-warnings\n",
      "  warnings.warn(\n"
     ]
    },
    {
     "name": "stdout",
     "output_type": "stream",
     "text": [
      "https://exhibitors.gitex.com/gitex-global-2023/Exhibitor/ExbDetails/MTMyMg==\n"
     ]
    },
    {
     "name": "stderr",
     "output_type": "stream",
     "text": [
      "C:\\Users\\saira\\anaconda3\\Lib\\site-packages\\urllib3\\connectionpool.py:1056: InsecureRequestWarning: Unverified HTTPS request is being made to host 'exhibitors.gitex.com'. Adding certificate verification is strongly advised. See: https://urllib3.readthedocs.io/en/1.26.x/advanced-usage.html#ssl-warnings\n",
      "  warnings.warn(\n"
     ]
    },
    {
     "name": "stdout",
     "output_type": "stream",
     "text": [
      "https://exhibitors.gitex.com/gitex-global-2023/Exhibitor/ExbDetails/MTU0MA==\n"
     ]
    },
    {
     "name": "stderr",
     "output_type": "stream",
     "text": [
      "C:\\Users\\saira\\anaconda3\\Lib\\site-packages\\urllib3\\connectionpool.py:1056: InsecureRequestWarning: Unverified HTTPS request is being made to host 'exhibitors.gitex.com'. Adding certificate verification is strongly advised. See: https://urllib3.readthedocs.io/en/1.26.x/advanced-usage.html#ssl-warnings\n",
      "  warnings.warn(\n"
     ]
    },
    {
     "name": "stdout",
     "output_type": "stream",
     "text": [
      "https://exhibitors.gitex.com/gitex-global-2023/Exhibitor/ExbDetails/NTc0\n"
     ]
    },
    {
     "name": "stderr",
     "output_type": "stream",
     "text": [
      "C:\\Users\\saira\\anaconda3\\Lib\\site-packages\\urllib3\\connectionpool.py:1056: InsecureRequestWarning: Unverified HTTPS request is being made to host 'exhibitors.gitex.com'. Adding certificate verification is strongly advised. See: https://urllib3.readthedocs.io/en/1.26.x/advanced-usage.html#ssl-warnings\n",
      "  warnings.warn(\n"
     ]
    },
    {
     "name": "stdout",
     "output_type": "stream",
     "text": [
      "https://exhibitors.gitex.com/gitex-global-2023/Exhibitor/ExbDetails/MTAxOQ==\n"
     ]
    },
    {
     "name": "stderr",
     "output_type": "stream",
     "text": [
      "C:\\Users\\saira\\anaconda3\\Lib\\site-packages\\urllib3\\connectionpool.py:1056: InsecureRequestWarning: Unverified HTTPS request is being made to host 'exhibitors.gitex.com'. Adding certificate verification is strongly advised. See: https://urllib3.readthedocs.io/en/1.26.x/advanced-usage.html#ssl-warnings\n",
      "  warnings.warn(\n"
     ]
    },
    {
     "name": "stdout",
     "output_type": "stream",
     "text": [
      "https://exhibitors.gitex.com/gitex-global-2023/Exhibitor/ExbDetails/MTU5NA==\n"
     ]
    },
    {
     "name": "stderr",
     "output_type": "stream",
     "text": [
      "C:\\Users\\saira\\anaconda3\\Lib\\site-packages\\urllib3\\connectionpool.py:1056: InsecureRequestWarning: Unverified HTTPS request is being made to host 'exhibitors.gitex.com'. Adding certificate verification is strongly advised. See: https://urllib3.readthedocs.io/en/1.26.x/advanced-usage.html#ssl-warnings\n",
      "  warnings.warn(\n"
     ]
    },
    {
     "name": "stdout",
     "output_type": "stream",
     "text": [
      "https://exhibitors.gitex.com/gitex-global-2023/Exhibitor/ExbDetails/MTAzMA==\n"
     ]
    },
    {
     "name": "stderr",
     "output_type": "stream",
     "text": [
      "C:\\Users\\saira\\anaconda3\\Lib\\site-packages\\urllib3\\connectionpool.py:1056: InsecureRequestWarning: Unverified HTTPS request is being made to host 'exhibitors.gitex.com'. Adding certificate verification is strongly advised. See: https://urllib3.readthedocs.io/en/1.26.x/advanced-usage.html#ssl-warnings\n",
      "  warnings.warn(\n"
     ]
    },
    {
     "name": "stdout",
     "output_type": "stream",
     "text": [
      "https://exhibitors.gitex.com/gitex-global-2023/Exhibitor/ExbDetails/NTE1\n"
     ]
    },
    {
     "name": "stderr",
     "output_type": "stream",
     "text": [
      "C:\\Users\\saira\\anaconda3\\Lib\\site-packages\\urllib3\\connectionpool.py:1056: InsecureRequestWarning: Unverified HTTPS request is being made to host 'exhibitors.gitex.com'. Adding certificate verification is strongly advised. See: https://urllib3.readthedocs.io/en/1.26.x/advanced-usage.html#ssl-warnings\n",
      "  warnings.warn(\n"
     ]
    },
    {
     "name": "stdout",
     "output_type": "stream",
     "text": [
      "https://exhibitors.gitex.com/gitex-global-2023/Exhibitor/ExbDetails/MTA4Nw==\n"
     ]
    },
    {
     "name": "stderr",
     "output_type": "stream",
     "text": [
      "C:\\Users\\saira\\anaconda3\\Lib\\site-packages\\urllib3\\connectionpool.py:1056: InsecureRequestWarning: Unverified HTTPS request is being made to host 'exhibitors.gitex.com'. Adding certificate verification is strongly advised. See: https://urllib3.readthedocs.io/en/1.26.x/advanced-usage.html#ssl-warnings\n",
      "  warnings.warn(\n"
     ]
    },
    {
     "name": "stdout",
     "output_type": "stream",
     "text": [
      "https://exhibitors.gitex.com/gitex-global-2023/Exhibitor/ExbDetails/MTQ0OA==\n"
     ]
    },
    {
     "name": "stderr",
     "output_type": "stream",
     "text": [
      "C:\\Users\\saira\\anaconda3\\Lib\\site-packages\\urllib3\\connectionpool.py:1056: InsecureRequestWarning: Unverified HTTPS request is being made to host 'exhibitors.gitex.com'. Adding certificate verification is strongly advised. See: https://urllib3.readthedocs.io/en/1.26.x/advanced-usage.html#ssl-warnings\n",
      "  warnings.warn(\n"
     ]
    },
    {
     "name": "stdout",
     "output_type": "stream",
     "text": [
      "https://exhibitors.gitex.com/gitex-global-2023/Exhibitor/ExbDetails/MjIwOA==\n"
     ]
    },
    {
     "name": "stderr",
     "output_type": "stream",
     "text": [
      "C:\\Users\\saira\\anaconda3\\Lib\\site-packages\\urllib3\\connectionpool.py:1056: InsecureRequestWarning: Unverified HTTPS request is being made to host 'exhibitors.gitex.com'. Adding certificate verification is strongly advised. See: https://urllib3.readthedocs.io/en/1.26.x/advanced-usage.html#ssl-warnings\n",
      "  warnings.warn(\n"
     ]
    },
    {
     "name": "stdout",
     "output_type": "stream",
     "text": [
      "https://exhibitors.gitex.com/gitex-global-2023/Exhibitor/ExbDetails/Mjc1NQ==\n"
     ]
    },
    {
     "name": "stderr",
     "output_type": "stream",
     "text": [
      "C:\\Users\\saira\\anaconda3\\Lib\\site-packages\\urllib3\\connectionpool.py:1056: InsecureRequestWarning: Unverified HTTPS request is being made to host 'exhibitors.gitex.com'. Adding certificate verification is strongly advised. See: https://urllib3.readthedocs.io/en/1.26.x/advanced-usage.html#ssl-warnings\n",
      "  warnings.warn(\n"
     ]
    },
    {
     "name": "stdout",
     "output_type": "stream",
     "text": [
      "https://exhibitors.gitex.com/gitex-global-2023/Exhibitor/ExbDetails/MTMxNw==\n"
     ]
    },
    {
     "name": "stderr",
     "output_type": "stream",
     "text": [
      "C:\\Users\\saira\\anaconda3\\Lib\\site-packages\\urllib3\\connectionpool.py:1056: InsecureRequestWarning: Unverified HTTPS request is being made to host 'exhibitors.gitex.com'. Adding certificate verification is strongly advised. See: https://urllib3.readthedocs.io/en/1.26.x/advanced-usage.html#ssl-warnings\n",
      "  warnings.warn(\n"
     ]
    },
    {
     "name": "stdout",
     "output_type": "stream",
     "text": [
      "https://exhibitors.gitex.com/gitex-global-2023/Exhibitor/ExbDetails/Mjk2Mw==\n"
     ]
    },
    {
     "name": "stderr",
     "output_type": "stream",
     "text": [
      "C:\\Users\\saira\\anaconda3\\Lib\\site-packages\\urllib3\\connectionpool.py:1056: InsecureRequestWarning: Unverified HTTPS request is being made to host 'exhibitors.gitex.com'. Adding certificate verification is strongly advised. See: https://urllib3.readthedocs.io/en/1.26.x/advanced-usage.html#ssl-warnings\n",
      "  warnings.warn(\n"
     ]
    },
    {
     "name": "stdout",
     "output_type": "stream",
     "text": [
      "https://exhibitors.gitex.com/gitex-global-2023/Exhibitor/ExbDetails/MjU5MQ==\n"
     ]
    },
    {
     "name": "stderr",
     "output_type": "stream",
     "text": [
      "C:\\Users\\saira\\anaconda3\\Lib\\site-packages\\urllib3\\connectionpool.py:1056: InsecureRequestWarning: Unverified HTTPS request is being made to host 'exhibitors.gitex.com'. Adding certificate verification is strongly advised. See: https://urllib3.readthedocs.io/en/1.26.x/advanced-usage.html#ssl-warnings\n",
      "  warnings.warn(\n"
     ]
    },
    {
     "name": "stdout",
     "output_type": "stream",
     "text": [
      "https://exhibitors.gitex.com/gitex-global-2023/Exhibitor/ExbDetails/MTAwMg==\n"
     ]
    },
    {
     "name": "stderr",
     "output_type": "stream",
     "text": [
      "C:\\Users\\saira\\anaconda3\\Lib\\site-packages\\urllib3\\connectionpool.py:1056: InsecureRequestWarning: Unverified HTTPS request is being made to host 'exhibitors.gitex.com'. Adding certificate verification is strongly advised. See: https://urllib3.readthedocs.io/en/1.26.x/advanced-usage.html#ssl-warnings\n",
      "  warnings.warn(\n"
     ]
    },
    {
     "name": "stdout",
     "output_type": "stream",
     "text": [
      "https://exhibitors.gitex.com/gitex-global-2023/Exhibitor/ExbDetails/MTQwOA==\n"
     ]
    },
    {
     "name": "stderr",
     "output_type": "stream",
     "text": [
      "C:\\Users\\saira\\anaconda3\\Lib\\site-packages\\urllib3\\connectionpool.py:1056: InsecureRequestWarning: Unverified HTTPS request is being made to host 'exhibitors.gitex.com'. Adding certificate verification is strongly advised. See: https://urllib3.readthedocs.io/en/1.26.x/advanced-usage.html#ssl-warnings\n",
      "  warnings.warn(\n"
     ]
    },
    {
     "name": "stdout",
     "output_type": "stream",
     "text": [
      "https://exhibitors.gitex.com/gitex-global-2023/Exhibitor/ExbDetails/MTczMQ==\n"
     ]
    },
    {
     "name": "stderr",
     "output_type": "stream",
     "text": [
      "C:\\Users\\saira\\anaconda3\\Lib\\site-packages\\urllib3\\connectionpool.py:1056: InsecureRequestWarning: Unverified HTTPS request is being made to host 'exhibitors.gitex.com'. Adding certificate verification is strongly advised. See: https://urllib3.readthedocs.io/en/1.26.x/advanced-usage.html#ssl-warnings\n",
      "  warnings.warn(\n"
     ]
    },
    {
     "name": "stdout",
     "output_type": "stream",
     "text": [
      "https://exhibitors.gitex.com/gitex-global-2023/Exhibitor/ExbDetails/NjMy\n"
     ]
    },
    {
     "name": "stderr",
     "output_type": "stream",
     "text": [
      "C:\\Users\\saira\\anaconda3\\Lib\\site-packages\\urllib3\\connectionpool.py:1056: InsecureRequestWarning: Unverified HTTPS request is being made to host 'exhibitors.gitex.com'. Adding certificate verification is strongly advised. See: https://urllib3.readthedocs.io/en/1.26.x/advanced-usage.html#ssl-warnings\n",
      "  warnings.warn(\n"
     ]
    },
    {
     "name": "stdout",
     "output_type": "stream",
     "text": [
      "https://exhibitors.gitex.com/gitex-global-2023/Exhibitor/ExbDetails/NDgx\n"
     ]
    },
    {
     "name": "stderr",
     "output_type": "stream",
     "text": [
      "C:\\Users\\saira\\anaconda3\\Lib\\site-packages\\urllib3\\connectionpool.py:1056: InsecureRequestWarning: Unverified HTTPS request is being made to host 'exhibitors.gitex.com'. Adding certificate verification is strongly advised. See: https://urllib3.readthedocs.io/en/1.26.x/advanced-usage.html#ssl-warnings\n",
      "  warnings.warn(\n"
     ]
    },
    {
     "name": "stdout",
     "output_type": "stream",
     "text": [
      "https://exhibitors.gitex.com/gitex-global-2023/Exhibitor/ExbDetails/MTMyOQ==\n"
     ]
    },
    {
     "name": "stderr",
     "output_type": "stream",
     "text": [
      "C:\\Users\\saira\\anaconda3\\Lib\\site-packages\\urllib3\\connectionpool.py:1056: InsecureRequestWarning: Unverified HTTPS request is being made to host 'exhibitors.gitex.com'. Adding certificate verification is strongly advised. See: https://urllib3.readthedocs.io/en/1.26.x/advanced-usage.html#ssl-warnings\n",
      "  warnings.warn(\n"
     ]
    },
    {
     "name": "stdout",
     "output_type": "stream",
     "text": [
      "https://exhibitors.gitex.com/gitex-global-2023/Exhibitor/ExbDetails/MTkxNg==\n"
     ]
    },
    {
     "name": "stderr",
     "output_type": "stream",
     "text": [
      "C:\\Users\\saira\\anaconda3\\Lib\\site-packages\\urllib3\\connectionpool.py:1056: InsecureRequestWarning: Unverified HTTPS request is being made to host 'exhibitors.gitex.com'. Adding certificate verification is strongly advised. See: https://urllib3.readthedocs.io/en/1.26.x/advanced-usage.html#ssl-warnings\n",
      "  warnings.warn(\n"
     ]
    },
    {
     "name": "stdout",
     "output_type": "stream",
     "text": [
      "https://exhibitors.gitex.com/gitex-global-2023/Exhibitor/ExbDetails/MjE4OQ==\n"
     ]
    },
    {
     "name": "stderr",
     "output_type": "stream",
     "text": [
      "C:\\Users\\saira\\anaconda3\\Lib\\site-packages\\urllib3\\connectionpool.py:1056: InsecureRequestWarning: Unverified HTTPS request is being made to host 'exhibitors.gitex.com'. Adding certificate verification is strongly advised. See: https://urllib3.readthedocs.io/en/1.26.x/advanced-usage.html#ssl-warnings\n",
      "  warnings.warn(\n"
     ]
    },
    {
     "name": "stdout",
     "output_type": "stream",
     "text": [
      "https://exhibitors.gitex.com/gitex-global-2023/Exhibitor/ExbDetails/MTA2Nw==\n"
     ]
    },
    {
     "name": "stderr",
     "output_type": "stream",
     "text": [
      "C:\\Users\\saira\\anaconda3\\Lib\\site-packages\\urllib3\\connectionpool.py:1056: InsecureRequestWarning: Unverified HTTPS request is being made to host 'exhibitors.gitex.com'. Adding certificate verification is strongly advised. See: https://urllib3.readthedocs.io/en/1.26.x/advanced-usage.html#ssl-warnings\n",
      "  warnings.warn(\n"
     ]
    },
    {
     "name": "stdout",
     "output_type": "stream",
     "text": [
      "https://exhibitors.gitex.com/gitex-global-2023/Exhibitor/ExbDetails/MTQ1Nw==\n"
     ]
    },
    {
     "name": "stderr",
     "output_type": "stream",
     "text": [
      "C:\\Users\\saira\\anaconda3\\Lib\\site-packages\\urllib3\\connectionpool.py:1056: InsecureRequestWarning: Unverified HTTPS request is being made to host 'exhibitors.gitex.com'. Adding certificate verification is strongly advised. See: https://urllib3.readthedocs.io/en/1.26.x/advanced-usage.html#ssl-warnings\n",
      "  warnings.warn(\n"
     ]
    },
    {
     "name": "stdout",
     "output_type": "stream",
     "text": [
      "https://exhibitors.gitex.com/gitex-global-2023/Exhibitor/ExbDetails/MTA0Mw==\n"
     ]
    },
    {
     "name": "stderr",
     "output_type": "stream",
     "text": [
      "C:\\Users\\saira\\anaconda3\\Lib\\site-packages\\urllib3\\connectionpool.py:1056: InsecureRequestWarning: Unverified HTTPS request is being made to host 'exhibitors.gitex.com'. Adding certificate verification is strongly advised. See: https://urllib3.readthedocs.io/en/1.26.x/advanced-usage.html#ssl-warnings\n",
      "  warnings.warn(\n"
     ]
    },
    {
     "name": "stdout",
     "output_type": "stream",
     "text": [
      "https://exhibitors.gitex.com/gitex-global-2023/Exhibitor/ExbDetails/MTQ5OQ==\n"
     ]
    },
    {
     "name": "stderr",
     "output_type": "stream",
     "text": [
      "C:\\Users\\saira\\anaconda3\\Lib\\site-packages\\urllib3\\connectionpool.py:1056: InsecureRequestWarning: Unverified HTTPS request is being made to host 'exhibitors.gitex.com'. Adding certificate verification is strongly advised. See: https://urllib3.readthedocs.io/en/1.26.x/advanced-usage.html#ssl-warnings\n",
      "  warnings.warn(\n"
     ]
    },
    {
     "name": "stdout",
     "output_type": "stream",
     "text": [
      "https://exhibitors.gitex.com/gitex-global-2023/Exhibitor/ExbDetails/MTUzNA==\n"
     ]
    },
    {
     "name": "stderr",
     "output_type": "stream",
     "text": [
      "C:\\Users\\saira\\anaconda3\\Lib\\site-packages\\urllib3\\connectionpool.py:1056: InsecureRequestWarning: Unverified HTTPS request is being made to host 'exhibitors.gitex.com'. Adding certificate verification is strongly advised. See: https://urllib3.readthedocs.io/en/1.26.x/advanced-usage.html#ssl-warnings\n",
      "  warnings.warn(\n"
     ]
    },
    {
     "name": "stdout",
     "output_type": "stream",
     "text": [
      "https://exhibitors.gitex.com/gitex-global-2023/Exhibitor/ExbDetails/MTU5Mw==\n"
     ]
    },
    {
     "name": "stderr",
     "output_type": "stream",
     "text": [
      "C:\\Users\\saira\\anaconda3\\Lib\\site-packages\\urllib3\\connectionpool.py:1056: InsecureRequestWarning: Unverified HTTPS request is being made to host 'exhibitors.gitex.com'. Adding certificate verification is strongly advised. See: https://urllib3.readthedocs.io/en/1.26.x/advanced-usage.html#ssl-warnings\n",
      "  warnings.warn(\n"
     ]
    },
    {
     "name": "stdout",
     "output_type": "stream",
     "text": [
      "https://exhibitors.gitex.com/gitex-global-2023/Exhibitor/ExbDetails/MTM4MA==\n"
     ]
    },
    {
     "name": "stderr",
     "output_type": "stream",
     "text": [
      "C:\\Users\\saira\\anaconda3\\Lib\\site-packages\\urllib3\\connectionpool.py:1056: InsecureRequestWarning: Unverified HTTPS request is being made to host 'exhibitors.gitex.com'. Adding certificate verification is strongly advised. See: https://urllib3.readthedocs.io/en/1.26.x/advanced-usage.html#ssl-warnings\n",
      "  warnings.warn(\n"
     ]
    },
    {
     "name": "stdout",
     "output_type": "stream",
     "text": [
      "https://exhibitors.gitex.com/gitex-global-2023/Exhibitor/ExbDetails/MTQwNQ==\n"
     ]
    },
    {
     "name": "stderr",
     "output_type": "stream",
     "text": [
      "C:\\Users\\saira\\anaconda3\\Lib\\site-packages\\urllib3\\connectionpool.py:1056: InsecureRequestWarning: Unverified HTTPS request is being made to host 'exhibitors.gitex.com'. Adding certificate verification is strongly advised. See: https://urllib3.readthedocs.io/en/1.26.x/advanced-usage.html#ssl-warnings\n",
      "  warnings.warn(\n"
     ]
    },
    {
     "name": "stdout",
     "output_type": "stream",
     "text": [
      "https://exhibitors.gitex.com/gitex-global-2023/Exhibitor/ExbDetails/MTU5Mg==\n"
     ]
    },
    {
     "name": "stderr",
     "output_type": "stream",
     "text": [
      "C:\\Users\\saira\\anaconda3\\Lib\\site-packages\\urllib3\\connectionpool.py:1056: InsecureRequestWarning: Unverified HTTPS request is being made to host 'exhibitors.gitex.com'. Adding certificate verification is strongly advised. See: https://urllib3.readthedocs.io/en/1.26.x/advanced-usage.html#ssl-warnings\n",
      "  warnings.warn(\n"
     ]
    },
    {
     "name": "stdout",
     "output_type": "stream",
     "text": [
      "https://exhibitors.gitex.com/gitex-global-2023/Exhibitor/ExbDetails/MTM3MQ==\n"
     ]
    },
    {
     "name": "stderr",
     "output_type": "stream",
     "text": [
      "C:\\Users\\saira\\anaconda3\\Lib\\site-packages\\urllib3\\connectionpool.py:1056: InsecureRequestWarning: Unverified HTTPS request is being made to host 'exhibitors.gitex.com'. Adding certificate verification is strongly advised. See: https://urllib3.readthedocs.io/en/1.26.x/advanced-usage.html#ssl-warnings\n",
      "  warnings.warn(\n"
     ]
    },
    {
     "name": "stdout",
     "output_type": "stream",
     "text": [
      "https://exhibitors.gitex.com/gitex-global-2023/Exhibitor/ExbDetails/MTAxNg==\n"
     ]
    },
    {
     "name": "stderr",
     "output_type": "stream",
     "text": [
      "C:\\Users\\saira\\anaconda3\\Lib\\site-packages\\urllib3\\connectionpool.py:1056: InsecureRequestWarning: Unverified HTTPS request is being made to host 'exhibitors.gitex.com'. Adding certificate verification is strongly advised. See: https://urllib3.readthedocs.io/en/1.26.x/advanced-usage.html#ssl-warnings\n",
      "  warnings.warn(\n"
     ]
    },
    {
     "name": "stdout",
     "output_type": "stream",
     "text": [
      "https://exhibitors.gitex.com/gitex-global-2023/Exhibitor/ExbDetails/MTQwMw==\n"
     ]
    },
    {
     "name": "stderr",
     "output_type": "stream",
     "text": [
      "C:\\Users\\saira\\anaconda3\\Lib\\site-packages\\urllib3\\connectionpool.py:1056: InsecureRequestWarning: Unverified HTTPS request is being made to host 'exhibitors.gitex.com'. Adding certificate verification is strongly advised. See: https://urllib3.readthedocs.io/en/1.26.x/advanced-usage.html#ssl-warnings\n",
      "  warnings.warn(\n"
     ]
    },
    {
     "name": "stdout",
     "output_type": "stream",
     "text": [
      "https://exhibitors.gitex.com/gitex-global-2023/Exhibitor/ExbDetails/MTQzNg==\n"
     ]
    },
    {
     "name": "stderr",
     "output_type": "stream",
     "text": [
      "C:\\Users\\saira\\anaconda3\\Lib\\site-packages\\urllib3\\connectionpool.py:1056: InsecureRequestWarning: Unverified HTTPS request is being made to host 'exhibitors.gitex.com'. Adding certificate verification is strongly advised. See: https://urllib3.readthedocs.io/en/1.26.x/advanced-usage.html#ssl-warnings\n",
      "  warnings.warn(\n"
     ]
    },
    {
     "name": "stdout",
     "output_type": "stream",
     "text": [
      "https://exhibitors.gitex.com/gitex-global-2023/Exhibitor/ExbDetails/MTA0Mg==\n"
     ]
    },
    {
     "name": "stderr",
     "output_type": "stream",
     "text": [
      "C:\\Users\\saira\\anaconda3\\Lib\\site-packages\\urllib3\\connectionpool.py:1056: InsecureRequestWarning: Unverified HTTPS request is being made to host 'exhibitors.gitex.com'. Adding certificate verification is strongly advised. See: https://urllib3.readthedocs.io/en/1.26.x/advanced-usage.html#ssl-warnings\n",
      "  warnings.warn(\n"
     ]
    },
    {
     "name": "stdout",
     "output_type": "stream",
     "text": [
      "https://exhibitors.gitex.com/gitex-global-2023/Exhibitor/ExbDetails/NTgy\n"
     ]
    },
    {
     "name": "stderr",
     "output_type": "stream",
     "text": [
      "C:\\Users\\saira\\anaconda3\\Lib\\site-packages\\urllib3\\connectionpool.py:1056: InsecureRequestWarning: Unverified HTTPS request is being made to host 'exhibitors.gitex.com'. Adding certificate verification is strongly advised. See: https://urllib3.readthedocs.io/en/1.26.x/advanced-usage.html#ssl-warnings\n",
      "  warnings.warn(\n"
     ]
    },
    {
     "name": "stdout",
     "output_type": "stream",
     "text": [
      "https://exhibitors.gitex.com/gitex-global-2023/Exhibitor/ExbDetails/MTE0OA==\n"
     ]
    },
    {
     "name": "stderr",
     "output_type": "stream",
     "text": [
      "C:\\Users\\saira\\anaconda3\\Lib\\site-packages\\urllib3\\connectionpool.py:1056: InsecureRequestWarning: Unverified HTTPS request is being made to host 'exhibitors.gitex.com'. Adding certificate verification is strongly advised. See: https://urllib3.readthedocs.io/en/1.26.x/advanced-usage.html#ssl-warnings\n",
      "  warnings.warn(\n"
     ]
    },
    {
     "name": "stdout",
     "output_type": "stream",
     "text": [
      "https://exhibitors.gitex.com/gitex-global-2023/Exhibitor/ExbDetails/OTgx\n"
     ]
    },
    {
     "name": "stderr",
     "output_type": "stream",
     "text": [
      "C:\\Users\\saira\\anaconda3\\Lib\\site-packages\\urllib3\\connectionpool.py:1056: InsecureRequestWarning: Unverified HTTPS request is being made to host 'exhibitors.gitex.com'. Adding certificate verification is strongly advised. See: https://urllib3.readthedocs.io/en/1.26.x/advanced-usage.html#ssl-warnings\n",
      "  warnings.warn(\n"
     ]
    },
    {
     "name": "stdout",
     "output_type": "stream",
     "text": [
      "https://exhibitors.gitex.com/gitex-global-2023/Exhibitor/ExbDetails/Njcy\n"
     ]
    },
    {
     "name": "stderr",
     "output_type": "stream",
     "text": [
      "C:\\Users\\saira\\anaconda3\\Lib\\site-packages\\urllib3\\connectionpool.py:1056: InsecureRequestWarning: Unverified HTTPS request is being made to host 'exhibitors.gitex.com'. Adding certificate verification is strongly advised. See: https://urllib3.readthedocs.io/en/1.26.x/advanced-usage.html#ssl-warnings\n",
      "  warnings.warn(\n"
     ]
    },
    {
     "name": "stdout",
     "output_type": "stream",
     "text": [
      "https://exhibitors.gitex.com/gitex-global-2023/Exhibitor/ExbDetails/MTY5Mg==\n"
     ]
    },
    {
     "name": "stderr",
     "output_type": "stream",
     "text": [
      "C:\\Users\\saira\\anaconda3\\Lib\\site-packages\\urllib3\\connectionpool.py:1056: InsecureRequestWarning: Unverified HTTPS request is being made to host 'exhibitors.gitex.com'. Adding certificate verification is strongly advised. See: https://urllib3.readthedocs.io/en/1.26.x/advanced-usage.html#ssl-warnings\n",
      "  warnings.warn(\n"
     ]
    },
    {
     "name": "stdout",
     "output_type": "stream",
     "text": [
      "https://exhibitors.gitex.com/gitex-global-2023/Exhibitor/ExbDetails/Njgy\n"
     ]
    },
    {
     "name": "stderr",
     "output_type": "stream",
     "text": [
      "C:\\Users\\saira\\anaconda3\\Lib\\site-packages\\urllib3\\connectionpool.py:1056: InsecureRequestWarning: Unverified HTTPS request is being made to host 'exhibitors.gitex.com'. Adding certificate verification is strongly advised. See: https://urllib3.readthedocs.io/en/1.26.x/advanced-usage.html#ssl-warnings\n",
      "  warnings.warn(\n"
     ]
    },
    {
     "name": "stdout",
     "output_type": "stream",
     "text": [
      "https://exhibitors.gitex.com/gitex-global-2023/Exhibitor/ExbDetails/NzM2\n"
     ]
    },
    {
     "name": "stderr",
     "output_type": "stream",
     "text": [
      "C:\\Users\\saira\\anaconda3\\Lib\\site-packages\\urllib3\\connectionpool.py:1056: InsecureRequestWarning: Unverified HTTPS request is being made to host 'exhibitors.gitex.com'. Adding certificate verification is strongly advised. See: https://urllib3.readthedocs.io/en/1.26.x/advanced-usage.html#ssl-warnings\n",
      "  warnings.warn(\n"
     ]
    },
    {
     "name": "stdout",
     "output_type": "stream",
     "text": [
      "https://exhibitors.gitex.com/gitex-global-2023/Exhibitor/ExbDetails/MTA5OQ==\n"
     ]
    },
    {
     "name": "stderr",
     "output_type": "stream",
     "text": [
      "C:\\Users\\saira\\anaconda3\\Lib\\site-packages\\urllib3\\connectionpool.py:1056: InsecureRequestWarning: Unverified HTTPS request is being made to host 'exhibitors.gitex.com'. Adding certificate verification is strongly advised. See: https://urllib3.readthedocs.io/en/1.26.x/advanced-usage.html#ssl-warnings\n",
      "  warnings.warn(\n"
     ]
    },
    {
     "name": "stdout",
     "output_type": "stream",
     "text": [
      "https://exhibitors.gitex.com/gitex-global-2023/Exhibitor/ExbDetails/MTExMA==\n"
     ]
    },
    {
     "name": "stderr",
     "output_type": "stream",
     "text": [
      "C:\\Users\\saira\\anaconda3\\Lib\\site-packages\\urllib3\\connectionpool.py:1056: InsecureRequestWarning: Unverified HTTPS request is being made to host 'exhibitors.gitex.com'. Adding certificate verification is strongly advised. See: https://urllib3.readthedocs.io/en/1.26.x/advanced-usage.html#ssl-warnings\n",
      "  warnings.warn(\n"
     ]
    },
    {
     "name": "stdout",
     "output_type": "stream",
     "text": [
      "https://exhibitors.gitex.com/gitex-global-2023/Exhibitor/ExbDetails/MTM5OQ==\n"
     ]
    },
    {
     "name": "stderr",
     "output_type": "stream",
     "text": [
      "C:\\Users\\saira\\anaconda3\\Lib\\site-packages\\urllib3\\connectionpool.py:1056: InsecureRequestWarning: Unverified HTTPS request is being made to host 'exhibitors.gitex.com'. Adding certificate verification is strongly advised. See: https://urllib3.readthedocs.io/en/1.26.x/advanced-usage.html#ssl-warnings\n",
      "  warnings.warn(\n"
     ]
    },
    {
     "name": "stdout",
     "output_type": "stream",
     "text": [
      "https://exhibitors.gitex.com/gitex-global-2023/Exhibitor/ExbDetails/Mjk5NA==\n"
     ]
    },
    {
     "name": "stderr",
     "output_type": "stream",
     "text": [
      "C:\\Users\\saira\\anaconda3\\Lib\\site-packages\\urllib3\\connectionpool.py:1056: InsecureRequestWarning: Unverified HTTPS request is being made to host 'exhibitors.gitex.com'. Adding certificate verification is strongly advised. See: https://urllib3.readthedocs.io/en/1.26.x/advanced-usage.html#ssl-warnings\n",
      "  warnings.warn(\n"
     ]
    },
    {
     "name": "stdout",
     "output_type": "stream",
     "text": [
      "https://exhibitors.gitex.com/gitex-global-2023/Exhibitor/ExbDetails/MTUyMw==\n"
     ]
    },
    {
     "name": "stderr",
     "output_type": "stream",
     "text": [
      "C:\\Users\\saira\\anaconda3\\Lib\\site-packages\\urllib3\\connectionpool.py:1056: InsecureRequestWarning: Unverified HTTPS request is being made to host 'exhibitors.gitex.com'. Adding certificate verification is strongly advised. See: https://urllib3.readthedocs.io/en/1.26.x/advanced-usage.html#ssl-warnings\n",
      "  warnings.warn(\n"
     ]
    },
    {
     "name": "stdout",
     "output_type": "stream",
     "text": [
      "https://exhibitors.gitex.com/gitex-global-2023/Exhibitor/ExbDetails/OTQ4\n"
     ]
    },
    {
     "name": "stderr",
     "output_type": "stream",
     "text": [
      "C:\\Users\\saira\\anaconda3\\Lib\\site-packages\\urllib3\\connectionpool.py:1056: InsecureRequestWarning: Unverified HTTPS request is being made to host 'exhibitors.gitex.com'. Adding certificate verification is strongly advised. See: https://urllib3.readthedocs.io/en/1.26.x/advanced-usage.html#ssl-warnings\n",
      "  warnings.warn(\n"
     ]
    },
    {
     "name": "stdout",
     "output_type": "stream",
     "text": [
      "https://exhibitors.gitex.com/gitex-global-2023/Exhibitor/ExbDetails/NDI0\n"
     ]
    },
    {
     "name": "stderr",
     "output_type": "stream",
     "text": [
      "C:\\Users\\saira\\anaconda3\\Lib\\site-packages\\urllib3\\connectionpool.py:1056: InsecureRequestWarning: Unverified HTTPS request is being made to host 'exhibitors.gitex.com'. Adding certificate verification is strongly advised. See: https://urllib3.readthedocs.io/en/1.26.x/advanced-usage.html#ssl-warnings\n",
      "  warnings.warn(\n"
     ]
    },
    {
     "name": "stdout",
     "output_type": "stream",
     "text": [
      "https://exhibitors.gitex.com/gitex-global-2023/Exhibitor/ExbDetails/NTgw\n"
     ]
    },
    {
     "name": "stderr",
     "output_type": "stream",
     "text": [
      "C:\\Users\\saira\\anaconda3\\Lib\\site-packages\\urllib3\\connectionpool.py:1056: InsecureRequestWarning: Unverified HTTPS request is being made to host 'exhibitors.gitex.com'. Adding certificate verification is strongly advised. See: https://urllib3.readthedocs.io/en/1.26.x/advanced-usage.html#ssl-warnings\n",
      "  warnings.warn(\n"
     ]
    },
    {
     "name": "stdout",
     "output_type": "stream",
     "text": [
      "https://exhibitors.gitex.com/gitex-global-2023/Exhibitor/ExbDetails/NTQz\n"
     ]
    },
    {
     "name": "stderr",
     "output_type": "stream",
     "text": [
      "C:\\Users\\saira\\anaconda3\\Lib\\site-packages\\urllib3\\connectionpool.py:1056: InsecureRequestWarning: Unverified HTTPS request is being made to host 'exhibitors.gitex.com'. Adding certificate verification is strongly advised. See: https://urllib3.readthedocs.io/en/1.26.x/advanced-usage.html#ssl-warnings\n",
      "  warnings.warn(\n"
     ]
    },
    {
     "name": "stdout",
     "output_type": "stream",
     "text": [
      "https://exhibitors.gitex.com/gitex-global-2023/Exhibitor/ExbDetails/MTExNA==\n"
     ]
    },
    {
     "name": "stderr",
     "output_type": "stream",
     "text": [
      "C:\\Users\\saira\\anaconda3\\Lib\\site-packages\\urllib3\\connectionpool.py:1056: InsecureRequestWarning: Unverified HTTPS request is being made to host 'exhibitors.gitex.com'. Adding certificate verification is strongly advised. See: https://urllib3.readthedocs.io/en/1.26.x/advanced-usage.html#ssl-warnings\n",
      "  warnings.warn(\n"
     ]
    },
    {
     "name": "stdout",
     "output_type": "stream",
     "text": [
      "https://exhibitors.gitex.com/gitex-global-2023/Exhibitor/ExbDetails/Njcx\n"
     ]
    },
    {
     "name": "stderr",
     "output_type": "stream",
     "text": [
      "C:\\Users\\saira\\anaconda3\\Lib\\site-packages\\urllib3\\connectionpool.py:1056: InsecureRequestWarning: Unverified HTTPS request is being made to host 'exhibitors.gitex.com'. Adding certificate verification is strongly advised. See: https://urllib3.readthedocs.io/en/1.26.x/advanced-usage.html#ssl-warnings\n",
      "  warnings.warn(\n"
     ]
    },
    {
     "name": "stdout",
     "output_type": "stream",
     "text": [
      "https://exhibitors.gitex.com/gitex-global-2023/Exhibitor/ExbDetails/NDQ3\n"
     ]
    },
    {
     "name": "stderr",
     "output_type": "stream",
     "text": [
      "C:\\Users\\saira\\anaconda3\\Lib\\site-packages\\urllib3\\connectionpool.py:1056: InsecureRequestWarning: Unverified HTTPS request is being made to host 'exhibitors.gitex.com'. Adding certificate verification is strongly advised. See: https://urllib3.readthedocs.io/en/1.26.x/advanced-usage.html#ssl-warnings\n",
      "  warnings.warn(\n"
     ]
    },
    {
     "name": "stdout",
     "output_type": "stream",
     "text": [
      "https://exhibitors.gitex.com/gitex-global-2023/Exhibitor/ExbDetails/MTM5Nw==\n"
     ]
    },
    {
     "name": "stderr",
     "output_type": "stream",
     "text": [
      "C:\\Users\\saira\\anaconda3\\Lib\\site-packages\\urllib3\\connectionpool.py:1056: InsecureRequestWarning: Unverified HTTPS request is being made to host 'exhibitors.gitex.com'. Adding certificate verification is strongly advised. See: https://urllib3.readthedocs.io/en/1.26.x/advanced-usage.html#ssl-warnings\n",
      "  warnings.warn(\n"
     ]
    },
    {
     "name": "stdout",
     "output_type": "stream",
     "text": [
      "https://exhibitors.gitex.com/gitex-global-2023/Exhibitor/ExbDetails/MTg5MQ==\n"
     ]
    },
    {
     "name": "stderr",
     "output_type": "stream",
     "text": [
      "C:\\Users\\saira\\anaconda3\\Lib\\site-packages\\urllib3\\connectionpool.py:1056: InsecureRequestWarning: Unverified HTTPS request is being made to host 'exhibitors.gitex.com'. Adding certificate verification is strongly advised. See: https://urllib3.readthedocs.io/en/1.26.x/advanced-usage.html#ssl-warnings\n",
      "  warnings.warn(\n"
     ]
    },
    {
     "name": "stdout",
     "output_type": "stream",
     "text": [
      "https://exhibitors.gitex.com/gitex-global-2023/Exhibitor/ExbDetails/NTc3\n"
     ]
    },
    {
     "name": "stderr",
     "output_type": "stream",
     "text": [
      "C:\\Users\\saira\\anaconda3\\Lib\\site-packages\\urllib3\\connectionpool.py:1056: InsecureRequestWarning: Unverified HTTPS request is being made to host 'exhibitors.gitex.com'. Adding certificate verification is strongly advised. See: https://urllib3.readthedocs.io/en/1.26.x/advanced-usage.html#ssl-warnings\n",
      "  warnings.warn(\n"
     ]
    },
    {
     "name": "stdout",
     "output_type": "stream",
     "text": [
      "https://exhibitors.gitex.com/gitex-global-2023/Exhibitor/ExbDetails/NjY2\n"
     ]
    },
    {
     "name": "stderr",
     "output_type": "stream",
     "text": [
      "C:\\Users\\saira\\anaconda3\\Lib\\site-packages\\urllib3\\connectionpool.py:1056: InsecureRequestWarning: Unverified HTTPS request is being made to host 'exhibitors.gitex.com'. Adding certificate verification is strongly advised. See: https://urllib3.readthedocs.io/en/1.26.x/advanced-usage.html#ssl-warnings\n",
      "  warnings.warn(\n"
     ]
    },
    {
     "name": "stdout",
     "output_type": "stream",
     "text": [
      "https://exhibitors.gitex.com/gitex-global-2023/Exhibitor/ExbDetails/NTYz\n"
     ]
    },
    {
     "name": "stderr",
     "output_type": "stream",
     "text": [
      "C:\\Users\\saira\\anaconda3\\Lib\\site-packages\\urllib3\\connectionpool.py:1056: InsecureRequestWarning: Unverified HTTPS request is being made to host 'exhibitors.gitex.com'. Adding certificate verification is strongly advised. See: https://urllib3.readthedocs.io/en/1.26.x/advanced-usage.html#ssl-warnings\n",
      "  warnings.warn(\n"
     ]
    },
    {
     "name": "stdout",
     "output_type": "stream",
     "text": [
      "https://exhibitors.gitex.com/gitex-global-2023/Exhibitor/ExbDetails/NDQ2\n"
     ]
    },
    {
     "name": "stderr",
     "output_type": "stream",
     "text": [
      "C:\\Users\\saira\\anaconda3\\Lib\\site-packages\\urllib3\\connectionpool.py:1056: InsecureRequestWarning: Unverified HTTPS request is being made to host 'exhibitors.gitex.com'. Adding certificate verification is strongly advised. See: https://urllib3.readthedocs.io/en/1.26.x/advanced-usage.html#ssl-warnings\n",
      "  warnings.warn(\n"
     ]
    },
    {
     "name": "stdout",
     "output_type": "stream",
     "text": [
      "https://exhibitors.gitex.com/gitex-global-2023/Exhibitor/ExbDetails/NjMw\n"
     ]
    },
    {
     "name": "stderr",
     "output_type": "stream",
     "text": [
      "C:\\Users\\saira\\anaconda3\\Lib\\site-packages\\urllib3\\connectionpool.py:1056: InsecureRequestWarning: Unverified HTTPS request is being made to host 'exhibitors.gitex.com'. Adding certificate verification is strongly advised. See: https://urllib3.readthedocs.io/en/1.26.x/advanced-usage.html#ssl-warnings\n",
      "  warnings.warn(\n"
     ]
    },
    {
     "name": "stdout",
     "output_type": "stream",
     "text": [
      "https://exhibitors.gitex.com/gitex-global-2023/Exhibitor/ExbDetails/MTM2Ng==\n"
     ]
    },
    {
     "name": "stderr",
     "output_type": "stream",
     "text": [
      "C:\\Users\\saira\\anaconda3\\Lib\\site-packages\\urllib3\\connectionpool.py:1056: InsecureRequestWarning: Unverified HTTPS request is being made to host 'exhibitors.gitex.com'. Adding certificate verification is strongly advised. See: https://urllib3.readthedocs.io/en/1.26.x/advanced-usage.html#ssl-warnings\n",
      "  warnings.warn(\n"
     ]
    },
    {
     "name": "stdout",
     "output_type": "stream",
     "text": [
      "https://exhibitors.gitex.com/gitex-global-2023/Exhibitor/ExbDetails/NzM5\n"
     ]
    },
    {
     "name": "stderr",
     "output_type": "stream",
     "text": [
      "C:\\Users\\saira\\anaconda3\\Lib\\site-packages\\urllib3\\connectionpool.py:1056: InsecureRequestWarning: Unverified HTTPS request is being made to host 'exhibitors.gitex.com'. Adding certificate verification is strongly advised. See: https://urllib3.readthedocs.io/en/1.26.x/advanced-usage.html#ssl-warnings\n",
      "  warnings.warn(\n"
     ]
    },
    {
     "name": "stdout",
     "output_type": "stream",
     "text": [
      "https://exhibitors.gitex.com/gitex-global-2023/Exhibitor/ExbDetails/MTkwNA==\n"
     ]
    },
    {
     "name": "stderr",
     "output_type": "stream",
     "text": [
      "C:\\Users\\saira\\anaconda3\\Lib\\site-packages\\urllib3\\connectionpool.py:1056: InsecureRequestWarning: Unverified HTTPS request is being made to host 'exhibitors.gitex.com'. Adding certificate verification is strongly advised. See: https://urllib3.readthedocs.io/en/1.26.x/advanced-usage.html#ssl-warnings\n",
      "  warnings.warn(\n"
     ]
    },
    {
     "name": "stdout",
     "output_type": "stream",
     "text": [
      "https://exhibitors.gitex.com/gitex-global-2023/Exhibitor/ExbDetails/MTQzOQ==\n"
     ]
    },
    {
     "name": "stderr",
     "output_type": "stream",
     "text": [
      "C:\\Users\\saira\\anaconda3\\Lib\\site-packages\\urllib3\\connectionpool.py:1056: InsecureRequestWarning: Unverified HTTPS request is being made to host 'exhibitors.gitex.com'. Adding certificate verification is strongly advised. See: https://urllib3.readthedocs.io/en/1.26.x/advanced-usage.html#ssl-warnings\n",
      "  warnings.warn(\n"
     ]
    },
    {
     "name": "stdout",
     "output_type": "stream",
     "text": [
      "https://exhibitors.gitex.com/gitex-global-2023/Exhibitor/ExbDetails/MTA3MA==\n"
     ]
    },
    {
     "name": "stderr",
     "output_type": "stream",
     "text": [
      "C:\\Users\\saira\\anaconda3\\Lib\\site-packages\\urllib3\\connectionpool.py:1056: InsecureRequestWarning: Unverified HTTPS request is being made to host 'exhibitors.gitex.com'. Adding certificate verification is strongly advised. See: https://urllib3.readthedocs.io/en/1.26.x/advanced-usage.html#ssl-warnings\n",
      "  warnings.warn(\n"
     ]
    },
    {
     "name": "stdout",
     "output_type": "stream",
     "text": [
      "https://exhibitors.gitex.com/gitex-global-2023/Exhibitor/ExbDetails/OTkx\n"
     ]
    },
    {
     "name": "stderr",
     "output_type": "stream",
     "text": [
      "C:\\Users\\saira\\anaconda3\\Lib\\site-packages\\urllib3\\connectionpool.py:1056: InsecureRequestWarning: Unverified HTTPS request is being made to host 'exhibitors.gitex.com'. Adding certificate verification is strongly advised. See: https://urllib3.readthedocs.io/en/1.26.x/advanced-usage.html#ssl-warnings\n",
      "  warnings.warn(\n"
     ]
    },
    {
     "name": "stdout",
     "output_type": "stream",
     "text": [
      "https://exhibitors.gitex.com/gitex-global-2023/Exhibitor/ExbDetails/NzEx\n"
     ]
    },
    {
     "name": "stderr",
     "output_type": "stream",
     "text": [
      "C:\\Users\\saira\\anaconda3\\Lib\\site-packages\\urllib3\\connectionpool.py:1056: InsecureRequestWarning: Unverified HTTPS request is being made to host 'exhibitors.gitex.com'. Adding certificate verification is strongly advised. See: https://urllib3.readthedocs.io/en/1.26.x/advanced-usage.html#ssl-warnings\n",
      "  warnings.warn(\n"
     ]
    },
    {
     "name": "stdout",
     "output_type": "stream",
     "text": [
      "https://exhibitors.gitex.com/gitex-global-2023/Exhibitor/ExbDetails/NDA1\n"
     ]
    },
    {
     "name": "stderr",
     "output_type": "stream",
     "text": [
      "C:\\Users\\saira\\anaconda3\\Lib\\site-packages\\urllib3\\connectionpool.py:1056: InsecureRequestWarning: Unverified HTTPS request is being made to host 'exhibitors.gitex.com'. Adding certificate verification is strongly advised. See: https://urllib3.readthedocs.io/en/1.26.x/advanced-usage.html#ssl-warnings\n",
      "  warnings.warn(\n"
     ]
    },
    {
     "name": "stdout",
     "output_type": "stream",
     "text": [
      "https://exhibitors.gitex.com/gitex-global-2023/Exhibitor/ExbDetails/OTg5\n"
     ]
    },
    {
     "name": "stderr",
     "output_type": "stream",
     "text": [
      "C:\\Users\\saira\\anaconda3\\Lib\\site-packages\\urllib3\\connectionpool.py:1056: InsecureRequestWarning: Unverified HTTPS request is being made to host 'exhibitors.gitex.com'. Adding certificate verification is strongly advised. See: https://urllib3.readthedocs.io/en/1.26.x/advanced-usage.html#ssl-warnings\n",
      "  warnings.warn(\n"
     ]
    },
    {
     "name": "stdout",
     "output_type": "stream",
     "text": [
      "https://exhibitors.gitex.com/gitex-global-2023/Exhibitor/ExbDetails/MTU5MQ==\n"
     ]
    },
    {
     "name": "stderr",
     "output_type": "stream",
     "text": [
      "C:\\Users\\saira\\anaconda3\\Lib\\site-packages\\urllib3\\connectionpool.py:1056: InsecureRequestWarning: Unverified HTTPS request is being made to host 'exhibitors.gitex.com'. Adding certificate verification is strongly advised. See: https://urllib3.readthedocs.io/en/1.26.x/advanced-usage.html#ssl-warnings\n",
      "  warnings.warn(\n"
     ]
    },
    {
     "name": "stdout",
     "output_type": "stream",
     "text": [
      "https://exhibitors.gitex.com/gitex-global-2023/Exhibitor/ExbDetails/MTM5MA==\n"
     ]
    },
    {
     "name": "stderr",
     "output_type": "stream",
     "text": [
      "C:\\Users\\saira\\anaconda3\\Lib\\site-packages\\urllib3\\connectionpool.py:1056: InsecureRequestWarning: Unverified HTTPS request is being made to host 'exhibitors.gitex.com'. Adding certificate verification is strongly advised. See: https://urllib3.readthedocs.io/en/1.26.x/advanced-usage.html#ssl-warnings\n",
      "  warnings.warn(\n"
     ]
    },
    {
     "name": "stdout",
     "output_type": "stream",
     "text": [
      "https://exhibitors.gitex.com/gitex-global-2023/Exhibitor/ExbDetails/MjgyNA==\n"
     ]
    },
    {
     "name": "stderr",
     "output_type": "stream",
     "text": [
      "C:\\Users\\saira\\anaconda3\\Lib\\site-packages\\urllib3\\connectionpool.py:1056: InsecureRequestWarning: Unverified HTTPS request is being made to host 'exhibitors.gitex.com'. Adding certificate verification is strongly advised. See: https://urllib3.readthedocs.io/en/1.26.x/advanced-usage.html#ssl-warnings\n",
      "  warnings.warn(\n"
     ]
    },
    {
     "name": "stdout",
     "output_type": "stream",
     "text": [
      "https://exhibitors.gitex.com/gitex-global-2023/Exhibitor/ExbDetails/NjIy\n"
     ]
    },
    {
     "name": "stderr",
     "output_type": "stream",
     "text": [
      "C:\\Users\\saira\\anaconda3\\Lib\\site-packages\\urllib3\\connectionpool.py:1056: InsecureRequestWarning: Unverified HTTPS request is being made to host 'exhibitors.gitex.com'. Adding certificate verification is strongly advised. See: https://urllib3.readthedocs.io/en/1.26.x/advanced-usage.html#ssl-warnings\n",
      "  warnings.warn(\n"
     ]
    },
    {
     "name": "stdout",
     "output_type": "stream",
     "text": [
      "https://exhibitors.gitex.com/gitex-global-2023/Exhibitor/ExbDetails/MTUwMg==\n"
     ]
    },
    {
     "name": "stderr",
     "output_type": "stream",
     "text": [
      "C:\\Users\\saira\\anaconda3\\Lib\\site-packages\\urllib3\\connectionpool.py:1056: InsecureRequestWarning: Unverified HTTPS request is being made to host 'exhibitors.gitex.com'. Adding certificate verification is strongly advised. See: https://urllib3.readthedocs.io/en/1.26.x/advanced-usage.html#ssl-warnings\n",
      "  warnings.warn(\n"
     ]
    },
    {
     "name": "stdout",
     "output_type": "stream",
     "text": [
      "https://exhibitors.gitex.com/gitex-global-2023/Exhibitor/ExbDetails/MTY3OQ==\n"
     ]
    },
    {
     "name": "stderr",
     "output_type": "stream",
     "text": [
      "C:\\Users\\saira\\anaconda3\\Lib\\site-packages\\urllib3\\connectionpool.py:1056: InsecureRequestWarning: Unverified HTTPS request is being made to host 'exhibitors.gitex.com'. Adding certificate verification is strongly advised. See: https://urllib3.readthedocs.io/en/1.26.x/advanced-usage.html#ssl-warnings\n",
      "  warnings.warn(\n"
     ]
    },
    {
     "name": "stdout",
     "output_type": "stream",
     "text": [
      "https://exhibitors.gitex.com/gitex-global-2023/Exhibitor/ExbDetails/NDY1\n"
     ]
    },
    {
     "name": "stderr",
     "output_type": "stream",
     "text": [
      "C:\\Users\\saira\\anaconda3\\Lib\\site-packages\\urllib3\\connectionpool.py:1056: InsecureRequestWarning: Unverified HTTPS request is being made to host 'exhibitors.gitex.com'. Adding certificate verification is strongly advised. See: https://urllib3.readthedocs.io/en/1.26.x/advanced-usage.html#ssl-warnings\n",
      "  warnings.warn(\n"
     ]
    },
    {
     "name": "stdout",
     "output_type": "stream",
     "text": [
      "https://exhibitors.gitex.com/gitex-global-2023/Exhibitor/ExbDetails/OTg0\n"
     ]
    },
    {
     "name": "stderr",
     "output_type": "stream",
     "text": [
      "C:\\Users\\saira\\anaconda3\\Lib\\site-packages\\urllib3\\connectionpool.py:1056: InsecureRequestWarning: Unverified HTTPS request is being made to host 'exhibitors.gitex.com'. Adding certificate verification is strongly advised. See: https://urllib3.readthedocs.io/en/1.26.x/advanced-usage.html#ssl-warnings\n",
      "  warnings.warn(\n"
     ]
    },
    {
     "name": "stdout",
     "output_type": "stream",
     "text": [
      "https://exhibitors.gitex.com/gitex-global-2023/Exhibitor/ExbDetails/NzMx\n"
     ]
    },
    {
     "name": "stderr",
     "output_type": "stream",
     "text": [
      "C:\\Users\\saira\\anaconda3\\Lib\\site-packages\\urllib3\\connectionpool.py:1056: InsecureRequestWarning: Unverified HTTPS request is being made to host 'exhibitors.gitex.com'. Adding certificate verification is strongly advised. See: https://urllib3.readthedocs.io/en/1.26.x/advanced-usage.html#ssl-warnings\n",
      "  warnings.warn(\n"
     ]
    },
    {
     "name": "stdout",
     "output_type": "stream",
     "text": [
      "https://exhibitors.gitex.com/gitex-global-2023/Exhibitor/ExbDetails/MTAzMw==\n"
     ]
    },
    {
     "name": "stderr",
     "output_type": "stream",
     "text": [
      "C:\\Users\\saira\\anaconda3\\Lib\\site-packages\\urllib3\\connectionpool.py:1056: InsecureRequestWarning: Unverified HTTPS request is being made to host 'exhibitors.gitex.com'. Adding certificate verification is strongly advised. See: https://urllib3.readthedocs.io/en/1.26.x/advanced-usage.html#ssl-warnings\n",
      "  warnings.warn(\n"
     ]
    },
    {
     "name": "stdout",
     "output_type": "stream",
     "text": [
      "https://exhibitors.gitex.com/gitex-global-2023/Exhibitor/ExbDetails/MTU0Ng==\n"
     ]
    },
    {
     "name": "stderr",
     "output_type": "stream",
     "text": [
      "C:\\Users\\saira\\anaconda3\\Lib\\site-packages\\urllib3\\connectionpool.py:1056: InsecureRequestWarning: Unverified HTTPS request is being made to host 'exhibitors.gitex.com'. Adding certificate verification is strongly advised. See: https://urllib3.readthedocs.io/en/1.26.x/advanced-usage.html#ssl-warnings\n",
      "  warnings.warn(\n"
     ]
    },
    {
     "name": "stdout",
     "output_type": "stream",
     "text": [
      "https://exhibitors.gitex.com/gitex-global-2023/Exhibitor/ExbDetails/MTg2MQ==\n"
     ]
    },
    {
     "name": "stderr",
     "output_type": "stream",
     "text": [
      "C:\\Users\\saira\\anaconda3\\Lib\\site-packages\\urllib3\\connectionpool.py:1056: InsecureRequestWarning: Unverified HTTPS request is being made to host 'exhibitors.gitex.com'. Adding certificate verification is strongly advised. See: https://urllib3.readthedocs.io/en/1.26.x/advanced-usage.html#ssl-warnings\n",
      "  warnings.warn(\n"
     ]
    },
    {
     "name": "stdout",
     "output_type": "stream",
     "text": [
      "https://exhibitors.gitex.com/gitex-global-2023/Exhibitor/ExbDetails/NDM5\n"
     ]
    },
    {
     "name": "stderr",
     "output_type": "stream",
     "text": [
      "C:\\Users\\saira\\anaconda3\\Lib\\site-packages\\urllib3\\connectionpool.py:1056: InsecureRequestWarning: Unverified HTTPS request is being made to host 'exhibitors.gitex.com'. Adding certificate verification is strongly advised. See: https://urllib3.readthedocs.io/en/1.26.x/advanced-usage.html#ssl-warnings\n",
      "  warnings.warn(\n"
     ]
    },
    {
     "name": "stdout",
     "output_type": "stream",
     "text": [
      "https://exhibitors.gitex.com/gitex-global-2023/Exhibitor/ExbDetails/MTQ2Mg==\n"
     ]
    },
    {
     "name": "stderr",
     "output_type": "stream",
     "text": [
      "C:\\Users\\saira\\anaconda3\\Lib\\site-packages\\urllib3\\connectionpool.py:1056: InsecureRequestWarning: Unverified HTTPS request is being made to host 'exhibitors.gitex.com'. Adding certificate verification is strongly advised. See: https://urllib3.readthedocs.io/en/1.26.x/advanced-usage.html#ssl-warnings\n",
      "  warnings.warn(\n"
     ]
    },
    {
     "name": "stdout",
     "output_type": "stream",
     "text": [
      "https://exhibitors.gitex.com/gitex-global-2023/Exhibitor/ExbDetails/NjMz\n"
     ]
    },
    {
     "name": "stderr",
     "output_type": "stream",
     "text": [
      "C:\\Users\\saira\\anaconda3\\Lib\\site-packages\\urllib3\\connectionpool.py:1056: InsecureRequestWarning: Unverified HTTPS request is being made to host 'exhibitors.gitex.com'. Adding certificate verification is strongly advised. See: https://urllib3.readthedocs.io/en/1.26.x/advanced-usage.html#ssl-warnings\n",
      "  warnings.warn(\n"
     ]
    },
    {
     "name": "stdout",
     "output_type": "stream",
     "text": [
      "https://exhibitors.gitex.com/gitex-global-2023/Exhibitor/ExbDetails/MjU3OA==\n"
     ]
    },
    {
     "name": "stderr",
     "output_type": "stream",
     "text": [
      "C:\\Users\\saira\\anaconda3\\Lib\\site-packages\\urllib3\\connectionpool.py:1056: InsecureRequestWarning: Unverified HTTPS request is being made to host 'exhibitors.gitex.com'. Adding certificate verification is strongly advised. See: https://urllib3.readthedocs.io/en/1.26.x/advanced-usage.html#ssl-warnings\n",
      "  warnings.warn(\n"
     ]
    },
    {
     "name": "stdout",
     "output_type": "stream",
     "text": [
      "https://exhibitors.gitex.com/gitex-global-2023/Exhibitor/ExbDetails/OTk1\n"
     ]
    },
    {
     "name": "stderr",
     "output_type": "stream",
     "text": [
      "C:\\Users\\saira\\anaconda3\\Lib\\site-packages\\urllib3\\connectionpool.py:1056: InsecureRequestWarning: Unverified HTTPS request is being made to host 'exhibitors.gitex.com'. Adding certificate verification is strongly advised. See: https://urllib3.readthedocs.io/en/1.26.x/advanced-usage.html#ssl-warnings\n",
      "  warnings.warn(\n"
     ]
    },
    {
     "name": "stdout",
     "output_type": "stream",
     "text": [
      "https://exhibitors.gitex.com/gitex-global-2023/Exhibitor/ExbDetails/NjUz\n"
     ]
    },
    {
     "name": "stderr",
     "output_type": "stream",
     "text": [
      "C:\\Users\\saira\\anaconda3\\Lib\\site-packages\\urllib3\\connectionpool.py:1056: InsecureRequestWarning: Unverified HTTPS request is being made to host 'exhibitors.gitex.com'. Adding certificate verification is strongly advised. See: https://urllib3.readthedocs.io/en/1.26.x/advanced-usage.html#ssl-warnings\n",
      "  warnings.warn(\n"
     ]
    },
    {
     "name": "stdout",
     "output_type": "stream",
     "text": [
      "https://exhibitors.gitex.com/gitex-global-2023/Exhibitor/ExbDetails/MTUwOA==\n"
     ]
    },
    {
     "name": "stderr",
     "output_type": "stream",
     "text": [
      "C:\\Users\\saira\\anaconda3\\Lib\\site-packages\\urllib3\\connectionpool.py:1056: InsecureRequestWarning: Unverified HTTPS request is being made to host 'exhibitors.gitex.com'. Adding certificate verification is strongly advised. See: https://urllib3.readthedocs.io/en/1.26.x/advanced-usage.html#ssl-warnings\n",
      "  warnings.warn(\n"
     ]
    },
    {
     "name": "stdout",
     "output_type": "stream",
     "text": [
      "https://exhibitors.gitex.com/gitex-global-2023/Exhibitor/ExbDetails/NTE0\n"
     ]
    },
    {
     "name": "stderr",
     "output_type": "stream",
     "text": [
      "C:\\Users\\saira\\anaconda3\\Lib\\site-packages\\urllib3\\connectionpool.py:1056: InsecureRequestWarning: Unverified HTTPS request is being made to host 'exhibitors.gitex.com'. Adding certificate verification is strongly advised. See: https://urllib3.readthedocs.io/en/1.26.x/advanced-usage.html#ssl-warnings\n",
      "  warnings.warn(\n"
     ]
    },
    {
     "name": "stdout",
     "output_type": "stream",
     "text": [
      "https://exhibitors.gitex.com/gitex-global-2023/Exhibitor/ExbDetails/MTU2MQ==\n"
     ]
    },
    {
     "name": "stderr",
     "output_type": "stream",
     "text": [
      "C:\\Users\\saira\\anaconda3\\Lib\\site-packages\\urllib3\\connectionpool.py:1056: InsecureRequestWarning: Unverified HTTPS request is being made to host 'exhibitors.gitex.com'. Adding certificate verification is strongly advised. See: https://urllib3.readthedocs.io/en/1.26.x/advanced-usage.html#ssl-warnings\n",
      "  warnings.warn(\n"
     ]
    },
    {
     "name": "stdout",
     "output_type": "stream",
     "text": [
      "https://exhibitors.gitex.com/gitex-global-2023/Exhibitor/ExbDetails/NzI2\n"
     ]
    },
    {
     "name": "stderr",
     "output_type": "stream",
     "text": [
      "C:\\Users\\saira\\anaconda3\\Lib\\site-packages\\urllib3\\connectionpool.py:1056: InsecureRequestWarning: Unverified HTTPS request is being made to host 'exhibitors.gitex.com'. Adding certificate verification is strongly advised. See: https://urllib3.readthedocs.io/en/1.26.x/advanced-usage.html#ssl-warnings\n",
      "  warnings.warn(\n"
     ]
    },
    {
     "name": "stdout",
     "output_type": "stream",
     "text": [
      "https://exhibitors.gitex.com/gitex-global-2023/Exhibitor/ExbDetails/MTEwMg==\n"
     ]
    },
    {
     "name": "stderr",
     "output_type": "stream",
     "text": [
      "C:\\Users\\saira\\anaconda3\\Lib\\site-packages\\urllib3\\connectionpool.py:1056: InsecureRequestWarning: Unverified HTTPS request is being made to host 'exhibitors.gitex.com'. Adding certificate verification is strongly advised. See: https://urllib3.readthedocs.io/en/1.26.x/advanced-usage.html#ssl-warnings\n",
      "  warnings.warn(\n"
     ]
    },
    {
     "name": "stdout",
     "output_type": "stream",
     "text": [
      "https://exhibitors.gitex.com/gitex-global-2023/Exhibitor/ExbDetails/NTk4\n"
     ]
    },
    {
     "name": "stderr",
     "output_type": "stream",
     "text": [
      "C:\\Users\\saira\\anaconda3\\Lib\\site-packages\\urllib3\\connectionpool.py:1056: InsecureRequestWarning: Unverified HTTPS request is being made to host 'exhibitors.gitex.com'. Adding certificate verification is strongly advised. See: https://urllib3.readthedocs.io/en/1.26.x/advanced-usage.html#ssl-warnings\n",
      "  warnings.warn(\n"
     ]
    },
    {
     "name": "stdout",
     "output_type": "stream",
     "text": [
      "https://exhibitors.gitex.com/gitex-global-2023/Exhibitor/ExbDetails/MTQxMQ==\n"
     ]
    },
    {
     "name": "stderr",
     "output_type": "stream",
     "text": [
      "C:\\Users\\saira\\anaconda3\\Lib\\site-packages\\urllib3\\connectionpool.py:1056: InsecureRequestWarning: Unverified HTTPS request is being made to host 'exhibitors.gitex.com'. Adding certificate verification is strongly advised. See: https://urllib3.readthedocs.io/en/1.26.x/advanced-usage.html#ssl-warnings\n",
      "  warnings.warn(\n"
     ]
    },
    {
     "name": "stdout",
     "output_type": "stream",
     "text": [
      "https://exhibitors.gitex.com/gitex-global-2023/Exhibitor/ExbDetails/OTcy\n"
     ]
    },
    {
     "name": "stderr",
     "output_type": "stream",
     "text": [
      "C:\\Users\\saira\\anaconda3\\Lib\\site-packages\\urllib3\\connectionpool.py:1056: InsecureRequestWarning: Unverified HTTPS request is being made to host 'exhibitors.gitex.com'. Adding certificate verification is strongly advised. See: https://urllib3.readthedocs.io/en/1.26.x/advanced-usage.html#ssl-warnings\n",
      "  warnings.warn(\n"
     ]
    },
    {
     "name": "stdout",
     "output_type": "stream",
     "text": [
      "https://exhibitors.gitex.com/gitex-global-2023/Exhibitor/ExbDetails/MTkwOA==\n"
     ]
    },
    {
     "name": "stderr",
     "output_type": "stream",
     "text": [
      "C:\\Users\\saira\\anaconda3\\Lib\\site-packages\\urllib3\\connectionpool.py:1056: InsecureRequestWarning: Unverified HTTPS request is being made to host 'exhibitors.gitex.com'. Adding certificate verification is strongly advised. See: https://urllib3.readthedocs.io/en/1.26.x/advanced-usage.html#ssl-warnings\n",
      "  warnings.warn(\n"
     ]
    },
    {
     "name": "stdout",
     "output_type": "stream",
     "text": [
      "https://exhibitors.gitex.com/gitex-global-2023/Exhibitor/ExbDetails/MTA5NA==\n"
     ]
    },
    {
     "name": "stderr",
     "output_type": "stream",
     "text": [
      "C:\\Users\\saira\\anaconda3\\Lib\\site-packages\\urllib3\\connectionpool.py:1056: InsecureRequestWarning: Unverified HTTPS request is being made to host 'exhibitors.gitex.com'. Adding certificate verification is strongly advised. See: https://urllib3.readthedocs.io/en/1.26.x/advanced-usage.html#ssl-warnings\n",
      "  warnings.warn(\n"
     ]
    },
    {
     "name": "stdout",
     "output_type": "stream",
     "text": [
      "https://exhibitors.gitex.com/gitex-global-2023/Exhibitor/ExbDetails/NzE2\n"
     ]
    },
    {
     "name": "stderr",
     "output_type": "stream",
     "text": [
      "C:\\Users\\saira\\anaconda3\\Lib\\site-packages\\urllib3\\connectionpool.py:1056: InsecureRequestWarning: Unverified HTTPS request is being made to host 'exhibitors.gitex.com'. Adding certificate verification is strongly advised. See: https://urllib3.readthedocs.io/en/1.26.x/advanced-usage.html#ssl-warnings\n",
      "  warnings.warn(\n"
     ]
    },
    {
     "name": "stdout",
     "output_type": "stream",
     "text": [
      "https://exhibitors.gitex.com/gitex-global-2023/Exhibitor/ExbDetails/MTg5MA==\n"
     ]
    },
    {
     "name": "stderr",
     "output_type": "stream",
     "text": [
      "C:\\Users\\saira\\anaconda3\\Lib\\site-packages\\urllib3\\connectionpool.py:1056: InsecureRequestWarning: Unverified HTTPS request is being made to host 'exhibitors.gitex.com'. Adding certificate verification is strongly advised. See: https://urllib3.readthedocs.io/en/1.26.x/advanced-usage.html#ssl-warnings\n",
      "  warnings.warn(\n"
     ]
    },
    {
     "name": "stdout",
     "output_type": "stream",
     "text": [
      "https://exhibitors.gitex.com/gitex-global-2023/Exhibitor/ExbDetails/MzIwMA==\n"
     ]
    },
    {
     "name": "stderr",
     "output_type": "stream",
     "text": [
      "C:\\Users\\saira\\anaconda3\\Lib\\site-packages\\urllib3\\connectionpool.py:1056: InsecureRequestWarning: Unverified HTTPS request is being made to host 'exhibitors.gitex.com'. Adding certificate verification is strongly advised. See: https://urllib3.readthedocs.io/en/1.26.x/advanced-usage.html#ssl-warnings\n",
      "  warnings.warn(\n"
     ]
    },
    {
     "name": "stdout",
     "output_type": "stream",
     "text": [
      "https://exhibitors.gitex.com/gitex-global-2023/Exhibitor/ExbDetails/NzQw\n"
     ]
    },
    {
     "name": "stderr",
     "output_type": "stream",
     "text": [
      "C:\\Users\\saira\\anaconda3\\Lib\\site-packages\\urllib3\\connectionpool.py:1056: InsecureRequestWarning: Unverified HTTPS request is being made to host 'exhibitors.gitex.com'. Adding certificate verification is strongly advised. See: https://urllib3.readthedocs.io/en/1.26.x/advanced-usage.html#ssl-warnings\n",
      "  warnings.warn(\n"
     ]
    },
    {
     "name": "stdout",
     "output_type": "stream",
     "text": [
      "https://exhibitors.gitex.com/gitex-global-2023/Exhibitor/ExbDetails/MTkxNw==\n"
     ]
    },
    {
     "name": "stderr",
     "output_type": "stream",
     "text": [
      "C:\\Users\\saira\\anaconda3\\Lib\\site-packages\\urllib3\\connectionpool.py:1056: InsecureRequestWarning: Unverified HTTPS request is being made to host 'exhibitors.gitex.com'. Adding certificate verification is strongly advised. See: https://urllib3.readthedocs.io/en/1.26.x/advanced-usage.html#ssl-warnings\n",
      "  warnings.warn(\n"
     ]
    },
    {
     "name": "stdout",
     "output_type": "stream",
     "text": [
      "https://exhibitors.gitex.com/gitex-global-2023/Exhibitor/ExbDetails/NzAz\n"
     ]
    },
    {
     "name": "stderr",
     "output_type": "stream",
     "text": [
      "C:\\Users\\saira\\anaconda3\\Lib\\site-packages\\urllib3\\connectionpool.py:1056: InsecureRequestWarning: Unverified HTTPS request is being made to host 'exhibitors.gitex.com'. Adding certificate verification is strongly advised. See: https://urllib3.readthedocs.io/en/1.26.x/advanced-usage.html#ssl-warnings\n",
      "  warnings.warn(\n"
     ]
    },
    {
     "name": "stdout",
     "output_type": "stream",
     "text": [
      "https://exhibitors.gitex.com/gitex-global-2023/Exhibitor/ExbDetails/MTMyMQ==\n"
     ]
    },
    {
     "name": "stderr",
     "output_type": "stream",
     "text": [
      "C:\\Users\\saira\\anaconda3\\Lib\\site-packages\\urllib3\\connectionpool.py:1056: InsecureRequestWarning: Unverified HTTPS request is being made to host 'exhibitors.gitex.com'. Adding certificate verification is strongly advised. See: https://urllib3.readthedocs.io/en/1.26.x/advanced-usage.html#ssl-warnings\n",
      "  warnings.warn(\n"
     ]
    },
    {
     "name": "stdout",
     "output_type": "stream",
     "text": [
      "https://exhibitors.gitex.com/gitex-global-2023/Exhibitor/ExbDetails/NTUx\n"
     ]
    },
    {
     "name": "stderr",
     "output_type": "stream",
     "text": [
      "C:\\Users\\saira\\anaconda3\\Lib\\site-packages\\urllib3\\connectionpool.py:1056: InsecureRequestWarning: Unverified HTTPS request is being made to host 'exhibitors.gitex.com'. Adding certificate verification is strongly advised. See: https://urllib3.readthedocs.io/en/1.26.x/advanced-usage.html#ssl-warnings\n",
      "  warnings.warn(\n"
     ]
    },
    {
     "name": "stdout",
     "output_type": "stream",
     "text": [
      "https://exhibitors.gitex.com/gitex-global-2023/Exhibitor/ExbDetails/OTIw\n"
     ]
    },
    {
     "name": "stderr",
     "output_type": "stream",
     "text": [
      "C:\\Users\\saira\\anaconda3\\Lib\\site-packages\\urllib3\\connectionpool.py:1056: InsecureRequestWarning: Unverified HTTPS request is being made to host 'exhibitors.gitex.com'. Adding certificate verification is strongly advised. See: https://urllib3.readthedocs.io/en/1.26.x/advanced-usage.html#ssl-warnings\n",
      "  warnings.warn(\n"
     ]
    },
    {
     "name": "stdout",
     "output_type": "stream",
     "text": [
      "https://exhibitors.gitex.com/gitex-global-2023/Exhibitor/ExbDetails/Mjc5Mw==\n"
     ]
    },
    {
     "name": "stderr",
     "output_type": "stream",
     "text": [
      "C:\\Users\\saira\\anaconda3\\Lib\\site-packages\\urllib3\\connectionpool.py:1056: InsecureRequestWarning: Unverified HTTPS request is being made to host 'exhibitors.gitex.com'. Adding certificate verification is strongly advised. See: https://urllib3.readthedocs.io/en/1.26.x/advanced-usage.html#ssl-warnings\n",
      "  warnings.warn(\n"
     ]
    },
    {
     "name": "stdout",
     "output_type": "stream",
     "text": [
      "https://exhibitors.gitex.com/gitex-global-2023/Exhibitor/ExbDetails/NDIy\n"
     ]
    },
    {
     "name": "stderr",
     "output_type": "stream",
     "text": [
      "C:\\Users\\saira\\anaconda3\\Lib\\site-packages\\urllib3\\connectionpool.py:1056: InsecureRequestWarning: Unverified HTTPS request is being made to host 'exhibitors.gitex.com'. Adding certificate verification is strongly advised. See: https://urllib3.readthedocs.io/en/1.26.x/advanced-usage.html#ssl-warnings\n",
      "  warnings.warn(\n"
     ]
    },
    {
     "name": "stdout",
     "output_type": "stream",
     "text": [
      "https://exhibitors.gitex.com/gitex-global-2023/Exhibitor/ExbDetails/NTI4\n"
     ]
    },
    {
     "name": "stderr",
     "output_type": "stream",
     "text": [
      "C:\\Users\\saira\\anaconda3\\Lib\\site-packages\\urllib3\\connectionpool.py:1056: InsecureRequestWarning: Unverified HTTPS request is being made to host 'exhibitors.gitex.com'. Adding certificate verification is strongly advised. See: https://urllib3.readthedocs.io/en/1.26.x/advanced-usage.html#ssl-warnings\n",
      "  warnings.warn(\n"
     ]
    },
    {
     "name": "stdout",
     "output_type": "stream",
     "text": [
      "https://exhibitors.gitex.com/gitex-global-2023/Exhibitor/ExbDetails/MTg1OQ==\n"
     ]
    },
    {
     "name": "stderr",
     "output_type": "stream",
     "text": [
      "C:\\Users\\saira\\anaconda3\\Lib\\site-packages\\urllib3\\connectionpool.py:1056: InsecureRequestWarning: Unverified HTTPS request is being made to host 'exhibitors.gitex.com'. Adding certificate verification is strongly advised. See: https://urllib3.readthedocs.io/en/1.26.x/advanced-usage.html#ssl-warnings\n",
      "  warnings.warn(\n"
     ]
    },
    {
     "name": "stdout",
     "output_type": "stream",
     "text": [
      "https://exhibitors.gitex.com/gitex-global-2023/Exhibitor/ExbDetails/MTMzMA==\n"
     ]
    },
    {
     "name": "stderr",
     "output_type": "stream",
     "text": [
      "C:\\Users\\saira\\anaconda3\\Lib\\site-packages\\urllib3\\connectionpool.py:1056: InsecureRequestWarning: Unverified HTTPS request is being made to host 'exhibitors.gitex.com'. Adding certificate verification is strongly advised. See: https://urllib3.readthedocs.io/en/1.26.x/advanced-usage.html#ssl-warnings\n",
      "  warnings.warn(\n"
     ]
    },
    {
     "name": "stdout",
     "output_type": "stream",
     "text": [
      "https://exhibitors.gitex.com/gitex-global-2023/Exhibitor/ExbDetails/MTQzMw==\n"
     ]
    },
    {
     "name": "stderr",
     "output_type": "stream",
     "text": [
      "C:\\Users\\saira\\anaconda3\\Lib\\site-packages\\urllib3\\connectionpool.py:1056: InsecureRequestWarning: Unverified HTTPS request is being made to host 'exhibitors.gitex.com'. Adding certificate verification is strongly advised. See: https://urllib3.readthedocs.io/en/1.26.x/advanced-usage.html#ssl-warnings\n",
      "  warnings.warn(\n"
     ]
    },
    {
     "name": "stdout",
     "output_type": "stream",
     "text": [
      "https://exhibitors.gitex.com/gitex-global-2023/Exhibitor/ExbDetails/MTY1NA==\n"
     ]
    },
    {
     "name": "stderr",
     "output_type": "stream",
     "text": [
      "C:\\Users\\saira\\anaconda3\\Lib\\site-packages\\urllib3\\connectionpool.py:1056: InsecureRequestWarning: Unverified HTTPS request is being made to host 'exhibitors.gitex.com'. Adding certificate verification is strongly advised. See: https://urllib3.readthedocs.io/en/1.26.x/advanced-usage.html#ssl-warnings\n",
      "  warnings.warn(\n"
     ]
    },
    {
     "name": "stdout",
     "output_type": "stream",
     "text": [
      "https://exhibitors.gitex.com/gitex-global-2023/Exhibitor/ExbDetails/MTAxMQ==\n"
     ]
    },
    {
     "name": "stderr",
     "output_type": "stream",
     "text": [
      "C:\\Users\\saira\\anaconda3\\Lib\\site-packages\\urllib3\\connectionpool.py:1056: InsecureRequestWarning: Unverified HTTPS request is being made to host 'exhibitors.gitex.com'. Adding certificate verification is strongly advised. See: https://urllib3.readthedocs.io/en/1.26.x/advanced-usage.html#ssl-warnings\n",
      "  warnings.warn(\n"
     ]
    },
    {
     "name": "stdout",
     "output_type": "stream",
     "text": [
      "https://exhibitors.gitex.com/gitex-global-2023/Exhibitor/ExbDetails/MTM0OA==\n"
     ]
    },
    {
     "name": "stderr",
     "output_type": "stream",
     "text": [
      "C:\\Users\\saira\\anaconda3\\Lib\\site-packages\\urllib3\\connectionpool.py:1056: InsecureRequestWarning: Unverified HTTPS request is being made to host 'exhibitors.gitex.com'. Adding certificate verification is strongly advised. See: https://urllib3.readthedocs.io/en/1.26.x/advanced-usage.html#ssl-warnings\n",
      "  warnings.warn(\n"
     ]
    },
    {
     "name": "stdout",
     "output_type": "stream",
     "text": [
      "https://exhibitors.gitex.com/gitex-global-2023/Exhibitor/ExbDetails/NjU5\n"
     ]
    },
    {
     "name": "stderr",
     "output_type": "stream",
     "text": [
      "C:\\Users\\saira\\anaconda3\\Lib\\site-packages\\urllib3\\connectionpool.py:1056: InsecureRequestWarning: Unverified HTTPS request is being made to host 'exhibitors.gitex.com'. Adding certificate verification is strongly advised. See: https://urllib3.readthedocs.io/en/1.26.x/advanced-usage.html#ssl-warnings\n",
      "  warnings.warn(\n"
     ]
    },
    {
     "name": "stdout",
     "output_type": "stream",
     "text": [
      "https://exhibitors.gitex.com/gitex-global-2023/Exhibitor/ExbDetails/MTU2NA==\n"
     ]
    },
    {
     "name": "stderr",
     "output_type": "stream",
     "text": [
      "C:\\Users\\saira\\anaconda3\\Lib\\site-packages\\urllib3\\connectionpool.py:1056: InsecureRequestWarning: Unverified HTTPS request is being made to host 'exhibitors.gitex.com'. Adding certificate verification is strongly advised. See: https://urllib3.readthedocs.io/en/1.26.x/advanced-usage.html#ssl-warnings\n",
      "  warnings.warn(\n"
     ]
    },
    {
     "name": "stdout",
     "output_type": "stream",
     "text": [
      "https://exhibitors.gitex.com/gitex-global-2023/Exhibitor/ExbDetails/MTkyMQ==\n"
     ]
    },
    {
     "name": "stderr",
     "output_type": "stream",
     "text": [
      "C:\\Users\\saira\\anaconda3\\Lib\\site-packages\\urllib3\\connectionpool.py:1056: InsecureRequestWarning: Unverified HTTPS request is being made to host 'exhibitors.gitex.com'. Adding certificate verification is strongly advised. See: https://urllib3.readthedocs.io/en/1.26.x/advanced-usage.html#ssl-warnings\n",
      "  warnings.warn(\n"
     ]
    },
    {
     "name": "stdout",
     "output_type": "stream",
     "text": [
      "https://exhibitors.gitex.com/gitex-global-2023/Exhibitor/ExbDetails/Njcz\n"
     ]
    },
    {
     "name": "stderr",
     "output_type": "stream",
     "text": [
      "C:\\Users\\saira\\anaconda3\\Lib\\site-packages\\urllib3\\connectionpool.py:1056: InsecureRequestWarning: Unverified HTTPS request is being made to host 'exhibitors.gitex.com'. Adding certificate verification is strongly advised. See: https://urllib3.readthedocs.io/en/1.26.x/advanced-usage.html#ssl-warnings\n",
      "  warnings.warn(\n"
     ]
    },
    {
     "name": "stdout",
     "output_type": "stream",
     "text": [
      "https://exhibitors.gitex.com/gitex-global-2023/Exhibitor/ExbDetails/OTU1\n"
     ]
    },
    {
     "name": "stderr",
     "output_type": "stream",
     "text": [
      "C:\\Users\\saira\\anaconda3\\Lib\\site-packages\\urllib3\\connectionpool.py:1056: InsecureRequestWarning: Unverified HTTPS request is being made to host 'exhibitors.gitex.com'. Adding certificate verification is strongly advised. See: https://urllib3.readthedocs.io/en/1.26.x/advanced-usage.html#ssl-warnings\n",
      "  warnings.warn(\n"
     ]
    },
    {
     "name": "stdout",
     "output_type": "stream",
     "text": [
      "https://exhibitors.gitex.com/gitex-global-2023/Exhibitor/ExbDetails/NjU1\n"
     ]
    },
    {
     "name": "stderr",
     "output_type": "stream",
     "text": [
      "C:\\Users\\saira\\anaconda3\\Lib\\site-packages\\urllib3\\connectionpool.py:1056: InsecureRequestWarning: Unverified HTTPS request is being made to host 'exhibitors.gitex.com'. Adding certificate verification is strongly advised. See: https://urllib3.readthedocs.io/en/1.26.x/advanced-usage.html#ssl-warnings\n",
      "  warnings.warn(\n"
     ]
    },
    {
     "name": "stdout",
     "output_type": "stream",
     "text": [
      "https://exhibitors.gitex.com/gitex-global-2023/Exhibitor/ExbDetails/MTA3MQ==\n"
     ]
    },
    {
     "name": "stderr",
     "output_type": "stream",
     "text": [
      "C:\\Users\\saira\\anaconda3\\Lib\\site-packages\\urllib3\\connectionpool.py:1056: InsecureRequestWarning: Unverified HTTPS request is being made to host 'exhibitors.gitex.com'. Adding certificate verification is strongly advised. See: https://urllib3.readthedocs.io/en/1.26.x/advanced-usage.html#ssl-warnings\n",
      "  warnings.warn(\n"
     ]
    },
    {
     "name": "stdout",
     "output_type": "stream",
     "text": [
      "https://exhibitors.gitex.com/gitex-global-2023/Exhibitor/ExbDetails/OTMy\n"
     ]
    },
    {
     "name": "stderr",
     "output_type": "stream",
     "text": [
      "C:\\Users\\saira\\anaconda3\\Lib\\site-packages\\urllib3\\connectionpool.py:1056: InsecureRequestWarning: Unverified HTTPS request is being made to host 'exhibitors.gitex.com'. Adding certificate verification is strongly advised. See: https://urllib3.readthedocs.io/en/1.26.x/advanced-usage.html#ssl-warnings\n",
      "  warnings.warn(\n"
     ]
    },
    {
     "name": "stdout",
     "output_type": "stream",
     "text": [
      "https://exhibitors.gitex.com/gitex-global-2023/Exhibitor/ExbDetails/MTMxOA==\n"
     ]
    },
    {
     "name": "stderr",
     "output_type": "stream",
     "text": [
      "C:\\Users\\saira\\anaconda3\\Lib\\site-packages\\urllib3\\connectionpool.py:1056: InsecureRequestWarning: Unverified HTTPS request is being made to host 'exhibitors.gitex.com'. Adding certificate verification is strongly advised. See: https://urllib3.readthedocs.io/en/1.26.x/advanced-usage.html#ssl-warnings\n",
      "  warnings.warn(\n"
     ]
    },
    {
     "name": "stdout",
     "output_type": "stream",
     "text": [
      "https://exhibitors.gitex.com/gitex-global-2023/Exhibitor/ExbDetails/NjI4\n"
     ]
    },
    {
     "name": "stderr",
     "output_type": "stream",
     "text": [
      "C:\\Users\\saira\\anaconda3\\Lib\\site-packages\\urllib3\\connectionpool.py:1056: InsecureRequestWarning: Unverified HTTPS request is being made to host 'exhibitors.gitex.com'. Adding certificate verification is strongly advised. See: https://urllib3.readthedocs.io/en/1.26.x/advanced-usage.html#ssl-warnings\n",
      "  warnings.warn(\n"
     ]
    },
    {
     "name": "stdout",
     "output_type": "stream",
     "text": [
      "https://exhibitors.gitex.com/gitex-global-2023/Exhibitor/ExbDetails/Mjg0NA==\n"
     ]
    },
    {
     "name": "stderr",
     "output_type": "stream",
     "text": [
      "C:\\Users\\saira\\anaconda3\\Lib\\site-packages\\urllib3\\connectionpool.py:1056: InsecureRequestWarning: Unverified HTTPS request is being made to host 'exhibitors.gitex.com'. Adding certificate verification is strongly advised. See: https://urllib3.readthedocs.io/en/1.26.x/advanced-usage.html#ssl-warnings\n",
      "  warnings.warn(\n"
     ]
    },
    {
     "name": "stdout",
     "output_type": "stream",
     "text": [
      "https://exhibitors.gitex.com/gitex-global-2023/Exhibitor/ExbDetails/NzI3\n"
     ]
    },
    {
     "name": "stderr",
     "output_type": "stream",
     "text": [
      "C:\\Users\\saira\\anaconda3\\Lib\\site-packages\\urllib3\\connectionpool.py:1056: InsecureRequestWarning: Unverified HTTPS request is being made to host 'exhibitors.gitex.com'. Adding certificate verification is strongly advised. See: https://urllib3.readthedocs.io/en/1.26.x/advanced-usage.html#ssl-warnings\n",
      "  warnings.warn(\n"
     ]
    },
    {
     "name": "stdout",
     "output_type": "stream",
     "text": [
      "https://exhibitors.gitex.com/gitex-global-2023/Exhibitor/ExbDetails/NTE3\n"
     ]
    },
    {
     "name": "stderr",
     "output_type": "stream",
     "text": [
      "C:\\Users\\saira\\anaconda3\\Lib\\site-packages\\urllib3\\connectionpool.py:1056: InsecureRequestWarning: Unverified HTTPS request is being made to host 'exhibitors.gitex.com'. Adding certificate verification is strongly advised. See: https://urllib3.readthedocs.io/en/1.26.x/advanced-usage.html#ssl-warnings\n",
      "  warnings.warn(\n"
     ]
    },
    {
     "name": "stdout",
     "output_type": "stream",
     "text": [
      "https://exhibitors.gitex.com/gitex-global-2023/Exhibitor/ExbDetails/NDg1\n"
     ]
    },
    {
     "name": "stderr",
     "output_type": "stream",
     "text": [
      "C:\\Users\\saira\\anaconda3\\Lib\\site-packages\\urllib3\\connectionpool.py:1056: InsecureRequestWarning: Unverified HTTPS request is being made to host 'exhibitors.gitex.com'. Adding certificate verification is strongly advised. See: https://urllib3.readthedocs.io/en/1.26.x/advanced-usage.html#ssl-warnings\n",
      "  warnings.warn(\n"
     ]
    },
    {
     "name": "stdout",
     "output_type": "stream",
     "text": [
      "https://exhibitors.gitex.com/gitex-global-2023/Exhibitor/ExbDetails/Mjc5Mg==\n"
     ]
    },
    {
     "name": "stderr",
     "output_type": "stream",
     "text": [
      "C:\\Users\\saira\\anaconda3\\Lib\\site-packages\\urllib3\\connectionpool.py:1056: InsecureRequestWarning: Unverified HTTPS request is being made to host 'exhibitors.gitex.com'. Adding certificate verification is strongly advised. See: https://urllib3.readthedocs.io/en/1.26.x/advanced-usage.html#ssl-warnings\n",
      "  warnings.warn(\n"
     ]
    },
    {
     "name": "stdout",
     "output_type": "stream",
     "text": [
      "https://exhibitors.gitex.com/gitex-global-2023/Exhibitor/ExbDetails/NjE1\n"
     ]
    },
    {
     "name": "stderr",
     "output_type": "stream",
     "text": [
      "C:\\Users\\saira\\anaconda3\\Lib\\site-packages\\urllib3\\connectionpool.py:1056: InsecureRequestWarning: Unverified HTTPS request is being made to host 'exhibitors.gitex.com'. Adding certificate verification is strongly advised. See: https://urllib3.readthedocs.io/en/1.26.x/advanced-usage.html#ssl-warnings\n",
      "  warnings.warn(\n"
     ]
    },
    {
     "name": "stdout",
     "output_type": "stream",
     "text": [
      "https://exhibitors.gitex.com/gitex-global-2023/Exhibitor/ExbDetails/MTAxNw==\n"
     ]
    },
    {
     "name": "stderr",
     "output_type": "stream",
     "text": [
      "C:\\Users\\saira\\anaconda3\\Lib\\site-packages\\urllib3\\connectionpool.py:1056: InsecureRequestWarning: Unverified HTTPS request is being made to host 'exhibitors.gitex.com'. Adding certificate verification is strongly advised. See: https://urllib3.readthedocs.io/en/1.26.x/advanced-usage.html#ssl-warnings\n",
      "  warnings.warn(\n"
     ]
    },
    {
     "name": "stdout",
     "output_type": "stream",
     "text": [
      "https://exhibitors.gitex.com/gitex-global-2023/Exhibitor/ExbDetails/MTM2OQ==\n"
     ]
    },
    {
     "name": "stderr",
     "output_type": "stream",
     "text": [
      "C:\\Users\\saira\\anaconda3\\Lib\\site-packages\\urllib3\\connectionpool.py:1056: InsecureRequestWarning: Unverified HTTPS request is being made to host 'exhibitors.gitex.com'. Adding certificate verification is strongly advised. See: https://urllib3.readthedocs.io/en/1.26.x/advanced-usage.html#ssl-warnings\n",
      "  warnings.warn(\n"
     ]
    },
    {
     "name": "stdout",
     "output_type": "stream",
     "text": [
      "https://exhibitors.gitex.com/gitex-global-2023/Exhibitor/ExbDetails/MTMxNQ==\n"
     ]
    },
    {
     "name": "stderr",
     "output_type": "stream",
     "text": [
      "C:\\Users\\saira\\anaconda3\\Lib\\site-packages\\urllib3\\connectionpool.py:1056: InsecureRequestWarning: Unverified HTTPS request is being made to host 'exhibitors.gitex.com'. Adding certificate verification is strongly advised. See: https://urllib3.readthedocs.io/en/1.26.x/advanced-usage.html#ssl-warnings\n",
      "  warnings.warn(\n"
     ]
    },
    {
     "name": "stdout",
     "output_type": "stream",
     "text": [
      "https://exhibitors.gitex.com/gitex-global-2023/Exhibitor/ExbDetails/OTkw\n"
     ]
    },
    {
     "name": "stderr",
     "output_type": "stream",
     "text": [
      "C:\\Users\\saira\\anaconda3\\Lib\\site-packages\\urllib3\\connectionpool.py:1056: InsecureRequestWarning: Unverified HTTPS request is being made to host 'exhibitors.gitex.com'. Adding certificate verification is strongly advised. See: https://urllib3.readthedocs.io/en/1.26.x/advanced-usage.html#ssl-warnings\n",
      "  warnings.warn(\n"
     ]
    },
    {
     "name": "stdout",
     "output_type": "stream",
     "text": [
      "https://exhibitors.gitex.com/gitex-global-2023/Exhibitor/ExbDetails/NDU2\n"
     ]
    },
    {
     "name": "stderr",
     "output_type": "stream",
     "text": [
      "C:\\Users\\saira\\anaconda3\\Lib\\site-packages\\urllib3\\connectionpool.py:1056: InsecureRequestWarning: Unverified HTTPS request is being made to host 'exhibitors.gitex.com'. Adding certificate verification is strongly advised. See: https://urllib3.readthedocs.io/en/1.26.x/advanced-usage.html#ssl-warnings\n",
      "  warnings.warn(\n"
     ]
    },
    {
     "name": "stdout",
     "output_type": "stream",
     "text": [
      "https://exhibitors.gitex.com/gitex-global-2023/Exhibitor/ExbDetails/MzEyNA==\n"
     ]
    },
    {
     "name": "stderr",
     "output_type": "stream",
     "text": [
      "C:\\Users\\saira\\anaconda3\\Lib\\site-packages\\urllib3\\connectionpool.py:1056: InsecureRequestWarning: Unverified HTTPS request is being made to host 'exhibitors.gitex.com'. Adding certificate verification is strongly advised. See: https://urllib3.readthedocs.io/en/1.26.x/advanced-usage.html#ssl-warnings\n",
      "  warnings.warn(\n"
     ]
    },
    {
     "name": "stdout",
     "output_type": "stream",
     "text": [
      "https://exhibitors.gitex.com/gitex-global-2023/Exhibitor/ExbDetails/NjE2\n"
     ]
    },
    {
     "name": "stderr",
     "output_type": "stream",
     "text": [
      "C:\\Users\\saira\\anaconda3\\Lib\\site-packages\\urllib3\\connectionpool.py:1056: InsecureRequestWarning: Unverified HTTPS request is being made to host 'exhibitors.gitex.com'. Adding certificate verification is strongly advised. See: https://urllib3.readthedocs.io/en/1.26.x/advanced-usage.html#ssl-warnings\n",
      "  warnings.warn(\n"
     ]
    },
    {
     "name": "stdout",
     "output_type": "stream",
     "text": [
      "https://exhibitors.gitex.com/gitex-global-2023/Exhibitor/ExbDetails/Mjg5MQ==\n"
     ]
    },
    {
     "name": "stderr",
     "output_type": "stream",
     "text": [
      "C:\\Users\\saira\\anaconda3\\Lib\\site-packages\\urllib3\\connectionpool.py:1056: InsecureRequestWarning: Unverified HTTPS request is being made to host 'exhibitors.gitex.com'. Adding certificate verification is strongly advised. See: https://urllib3.readthedocs.io/en/1.26.x/advanced-usage.html#ssl-warnings\n",
      "  warnings.warn(\n"
     ]
    },
    {
     "name": "stdout",
     "output_type": "stream",
     "text": [
      "https://exhibitors.gitex.com/gitex-global-2023/Exhibitor/ExbDetails/MTY1Mw==\n"
     ]
    },
    {
     "name": "stderr",
     "output_type": "stream",
     "text": [
      "C:\\Users\\saira\\anaconda3\\Lib\\site-packages\\urllib3\\connectionpool.py:1056: InsecureRequestWarning: Unverified HTTPS request is being made to host 'exhibitors.gitex.com'. Adding certificate verification is strongly advised. See: https://urllib3.readthedocs.io/en/1.26.x/advanced-usage.html#ssl-warnings\n",
      "  warnings.warn(\n"
     ]
    },
    {
     "name": "stdout",
     "output_type": "stream",
     "text": [
      "https://exhibitors.gitex.com/gitex-global-2023/Exhibitor/ExbDetails/NDU3\n"
     ]
    },
    {
     "name": "stderr",
     "output_type": "stream",
     "text": [
      "C:\\Users\\saira\\anaconda3\\Lib\\site-packages\\urllib3\\connectionpool.py:1056: InsecureRequestWarning: Unverified HTTPS request is being made to host 'exhibitors.gitex.com'. Adding certificate verification is strongly advised. See: https://urllib3.readthedocs.io/en/1.26.x/advanced-usage.html#ssl-warnings\n",
      "  warnings.warn(\n"
     ]
    },
    {
     "name": "stdout",
     "output_type": "stream",
     "text": [
      "https://exhibitors.gitex.com/gitex-global-2023/Exhibitor/ExbDetails/MTY5MQ==\n"
     ]
    },
    {
     "name": "stderr",
     "output_type": "stream",
     "text": [
      "C:\\Users\\saira\\anaconda3\\Lib\\site-packages\\urllib3\\connectionpool.py:1056: InsecureRequestWarning: Unverified HTTPS request is being made to host 'exhibitors.gitex.com'. Adding certificate verification is strongly advised. See: https://urllib3.readthedocs.io/en/1.26.x/advanced-usage.html#ssl-warnings\n",
      "  warnings.warn(\n"
     ]
    },
    {
     "name": "stdout",
     "output_type": "stream",
     "text": [
      "https://exhibitors.gitex.com/gitex-global-2023/Exhibitor/ExbDetails/MTU5MA==\n"
     ]
    },
    {
     "name": "stderr",
     "output_type": "stream",
     "text": [
      "C:\\Users\\saira\\anaconda3\\Lib\\site-packages\\urllib3\\connectionpool.py:1056: InsecureRequestWarning: Unverified HTTPS request is being made to host 'exhibitors.gitex.com'. Adding certificate verification is strongly advised. See: https://urllib3.readthedocs.io/en/1.26.x/advanced-usage.html#ssl-warnings\n",
      "  warnings.warn(\n"
     ]
    },
    {
     "name": "stdout",
     "output_type": "stream",
     "text": [
      "https://exhibitors.gitex.com/gitex-global-2023/Exhibitor/ExbDetails/NDk3\n"
     ]
    },
    {
     "name": "stderr",
     "output_type": "stream",
     "text": [
      "C:\\Users\\saira\\anaconda3\\Lib\\site-packages\\urllib3\\connectionpool.py:1056: InsecureRequestWarning: Unverified HTTPS request is being made to host 'exhibitors.gitex.com'. Adding certificate verification is strongly advised. See: https://urllib3.readthedocs.io/en/1.26.x/advanced-usage.html#ssl-warnings\n",
      "  warnings.warn(\n"
     ]
    },
    {
     "name": "stdout",
     "output_type": "stream",
     "text": [
      "https://exhibitors.gitex.com/gitex-global-2023/Exhibitor/ExbDetails/MTY1Mg==\n"
     ]
    },
    {
     "name": "stderr",
     "output_type": "stream",
     "text": [
      "C:\\Users\\saira\\anaconda3\\Lib\\site-packages\\urllib3\\connectionpool.py:1056: InsecureRequestWarning: Unverified HTTPS request is being made to host 'exhibitors.gitex.com'. Adding certificate verification is strongly advised. See: https://urllib3.readthedocs.io/en/1.26.x/advanced-usage.html#ssl-warnings\n",
      "  warnings.warn(\n"
     ]
    },
    {
     "name": "stdout",
     "output_type": "stream",
     "text": [
      "https://exhibitors.gitex.com/gitex-global-2023/Exhibitor/ExbDetails/NjU2\n"
     ]
    },
    {
     "name": "stderr",
     "output_type": "stream",
     "text": [
      "C:\\Users\\saira\\anaconda3\\Lib\\site-packages\\urllib3\\connectionpool.py:1056: InsecureRequestWarning: Unverified HTTPS request is being made to host 'exhibitors.gitex.com'. Adding certificate verification is strongly advised. See: https://urllib3.readthedocs.io/en/1.26.x/advanced-usage.html#ssl-warnings\n",
      "  warnings.warn(\n"
     ]
    },
    {
     "name": "stdout",
     "output_type": "stream",
     "text": [
      "https://exhibitors.gitex.com/gitex-global-2023/Exhibitor/ExbDetails/MTcwOA==\n"
     ]
    },
    {
     "name": "stderr",
     "output_type": "stream",
     "text": [
      "C:\\Users\\saira\\anaconda3\\Lib\\site-packages\\urllib3\\connectionpool.py:1056: InsecureRequestWarning: Unverified HTTPS request is being made to host 'exhibitors.gitex.com'. Adding certificate verification is strongly advised. See: https://urllib3.readthedocs.io/en/1.26.x/advanced-usage.html#ssl-warnings\n",
      "  warnings.warn(\n"
     ]
    },
    {
     "name": "stdout",
     "output_type": "stream",
     "text": [
      "https://exhibitors.gitex.com/gitex-global-2023/Exhibitor/ExbDetails/NTkw\n"
     ]
    },
    {
     "name": "stderr",
     "output_type": "stream",
     "text": [
      "C:\\Users\\saira\\anaconda3\\Lib\\site-packages\\urllib3\\connectionpool.py:1056: InsecureRequestWarning: Unverified HTTPS request is being made to host 'exhibitors.gitex.com'. Adding certificate verification is strongly advised. See: https://urllib3.readthedocs.io/en/1.26.x/advanced-usage.html#ssl-warnings\n",
      "  warnings.warn(\n"
     ]
    },
    {
     "name": "stdout",
     "output_type": "stream",
     "text": [
      "https://exhibitors.gitex.com/gitex-global-2023/Exhibitor/ExbDetails/NTQ3\n"
     ]
    },
    {
     "name": "stderr",
     "output_type": "stream",
     "text": [
      "C:\\Users\\saira\\anaconda3\\Lib\\site-packages\\urllib3\\connectionpool.py:1056: InsecureRequestWarning: Unverified HTTPS request is being made to host 'exhibitors.gitex.com'. Adding certificate verification is strongly advised. See: https://urllib3.readthedocs.io/en/1.26.x/advanced-usage.html#ssl-warnings\n",
      "  warnings.warn(\n"
     ]
    },
    {
     "name": "stdout",
     "output_type": "stream",
     "text": [
      "https://exhibitors.gitex.com/gitex-global-2023/Exhibitor/ExbDetails/MTY5OQ==\n"
     ]
    },
    {
     "name": "stderr",
     "output_type": "stream",
     "text": [
      "C:\\Users\\saira\\anaconda3\\Lib\\site-packages\\urllib3\\connectionpool.py:1056: InsecureRequestWarning: Unverified HTTPS request is being made to host 'exhibitors.gitex.com'. Adding certificate verification is strongly advised. See: https://urllib3.readthedocs.io/en/1.26.x/advanced-usage.html#ssl-warnings\n",
      "  warnings.warn(\n"
     ]
    },
    {
     "name": "stdout",
     "output_type": "stream",
     "text": [
      "https://exhibitors.gitex.com/gitex-global-2023/Exhibitor/ExbDetails/MTcwNw==\n"
     ]
    },
    {
     "name": "stderr",
     "output_type": "stream",
     "text": [
      "C:\\Users\\saira\\anaconda3\\Lib\\site-packages\\urllib3\\connectionpool.py:1056: InsecureRequestWarning: Unverified HTTPS request is being made to host 'exhibitors.gitex.com'. Adding certificate verification is strongly advised. See: https://urllib3.readthedocs.io/en/1.26.x/advanced-usage.html#ssl-warnings\n",
      "  warnings.warn(\n"
     ]
    },
    {
     "name": "stdout",
     "output_type": "stream",
     "text": [
      "https://exhibitors.gitex.com/gitex-global-2023/Exhibitor/ExbDetails/MTY3OA==\n"
     ]
    },
    {
     "name": "stderr",
     "output_type": "stream",
     "text": [
      "C:\\Users\\saira\\anaconda3\\Lib\\site-packages\\urllib3\\connectionpool.py:1056: InsecureRequestWarning: Unverified HTTPS request is being made to host 'exhibitors.gitex.com'. Adding certificate verification is strongly advised. See: https://urllib3.readthedocs.io/en/1.26.x/advanced-usage.html#ssl-warnings\n",
      "  warnings.warn(\n"
     ]
    },
    {
     "name": "stdout",
     "output_type": "stream",
     "text": [
      "https://exhibitors.gitex.com/gitex-global-2023/Exhibitor/ExbDetails/MjgzMw==\n"
     ]
    },
    {
     "name": "stderr",
     "output_type": "stream",
     "text": [
      "C:\\Users\\saira\\anaconda3\\Lib\\site-packages\\urllib3\\connectionpool.py:1056: InsecureRequestWarning: Unverified HTTPS request is being made to host 'exhibitors.gitex.com'. Adding certificate verification is strongly advised. See: https://urllib3.readthedocs.io/en/1.26.x/advanced-usage.html#ssl-warnings\n",
      "  warnings.warn(\n"
     ]
    },
    {
     "name": "stdout",
     "output_type": "stream",
     "text": [
      "https://exhibitors.gitex.com/gitex-global-2023/Exhibitor/ExbDetails/MjgzNg==\n"
     ]
    },
    {
     "name": "stderr",
     "output_type": "stream",
     "text": [
      "C:\\Users\\saira\\anaconda3\\Lib\\site-packages\\urllib3\\connectionpool.py:1056: InsecureRequestWarning: Unverified HTTPS request is being made to host 'exhibitors.gitex.com'. Adding certificate verification is strongly advised. See: https://urllib3.readthedocs.io/en/1.26.x/advanced-usage.html#ssl-warnings\n",
      "  warnings.warn(\n"
     ]
    },
    {
     "name": "stdout",
     "output_type": "stream",
     "text": [
      "https://exhibitors.gitex.com/gitex-global-2023/Exhibitor/ExbDetails/MTkwMg==\n"
     ]
    },
    {
     "name": "stderr",
     "output_type": "stream",
     "text": [
      "C:\\Users\\saira\\anaconda3\\Lib\\site-packages\\urllib3\\connectionpool.py:1056: InsecureRequestWarning: Unverified HTTPS request is being made to host 'exhibitors.gitex.com'. Adding certificate verification is strongly advised. See: https://urllib3.readthedocs.io/en/1.26.x/advanced-usage.html#ssl-warnings\n",
      "  warnings.warn(\n"
     ]
    },
    {
     "name": "stdout",
     "output_type": "stream",
     "text": [
      "https://exhibitors.gitex.com/gitex-global-2023/Exhibitor/ExbDetails/MTM2MQ==\n"
     ]
    },
    {
     "name": "stderr",
     "output_type": "stream",
     "text": [
      "C:\\Users\\saira\\anaconda3\\Lib\\site-packages\\urllib3\\connectionpool.py:1056: InsecureRequestWarning: Unverified HTTPS request is being made to host 'exhibitors.gitex.com'. Adding certificate verification is strongly advised. See: https://urllib3.readthedocs.io/en/1.26.x/advanced-usage.html#ssl-warnings\n",
      "  warnings.warn(\n"
     ]
    },
    {
     "name": "stdout",
     "output_type": "stream",
     "text": [
      "https://exhibitors.gitex.com/gitex-global-2023/Exhibitor/ExbDetails/NzA4\n"
     ]
    },
    {
     "name": "stderr",
     "output_type": "stream",
     "text": [
      "C:\\Users\\saira\\anaconda3\\Lib\\site-packages\\urllib3\\connectionpool.py:1056: InsecureRequestWarning: Unverified HTTPS request is being made to host 'exhibitors.gitex.com'. Adding certificate verification is strongly advised. See: https://urllib3.readthedocs.io/en/1.26.x/advanced-usage.html#ssl-warnings\n",
      "  warnings.warn(\n"
     ]
    },
    {
     "name": "stdout",
     "output_type": "stream",
     "text": [
      "https://exhibitors.gitex.com/gitex-global-2023/Exhibitor/ExbDetails/MTA3Mg==\n"
     ]
    },
    {
     "name": "stderr",
     "output_type": "stream",
     "text": [
      "C:\\Users\\saira\\anaconda3\\Lib\\site-packages\\urllib3\\connectionpool.py:1056: InsecureRequestWarning: Unverified HTTPS request is being made to host 'exhibitors.gitex.com'. Adding certificate verification is strongly advised. See: https://urllib3.readthedocs.io/en/1.26.x/advanced-usage.html#ssl-warnings\n",
      "  warnings.warn(\n"
     ]
    },
    {
     "name": "stdout",
     "output_type": "stream",
     "text": [
      "https://exhibitors.gitex.com/gitex-global-2023/Exhibitor/ExbDetails/NzQ1\n"
     ]
    },
    {
     "name": "stderr",
     "output_type": "stream",
     "text": [
      "C:\\Users\\saira\\anaconda3\\Lib\\site-packages\\urllib3\\connectionpool.py:1056: InsecureRequestWarning: Unverified HTTPS request is being made to host 'exhibitors.gitex.com'. Adding certificate verification is strongly advised. See: https://urllib3.readthedocs.io/en/1.26.x/advanced-usage.html#ssl-warnings\n",
      "  warnings.warn(\n"
     ]
    },
    {
     "name": "stdout",
     "output_type": "stream",
     "text": [
      "https://exhibitors.gitex.com/gitex-global-2023/Exhibitor/ExbDetails/MTUzMw==\n"
     ]
    },
    {
     "name": "stderr",
     "output_type": "stream",
     "text": [
      "C:\\Users\\saira\\anaconda3\\Lib\\site-packages\\urllib3\\connectionpool.py:1056: InsecureRequestWarning: Unverified HTTPS request is being made to host 'exhibitors.gitex.com'. Adding certificate verification is strongly advised. See: https://urllib3.readthedocs.io/en/1.26.x/advanced-usage.html#ssl-warnings\n",
      "  warnings.warn(\n"
     ]
    },
    {
     "name": "stdout",
     "output_type": "stream",
     "text": [
      "https://exhibitors.gitex.com/gitex-global-2023/Exhibitor/ExbDetails/MjU4Nw==\n"
     ]
    },
    {
     "name": "stderr",
     "output_type": "stream",
     "text": [
      "C:\\Users\\saira\\anaconda3\\Lib\\site-packages\\urllib3\\connectionpool.py:1056: InsecureRequestWarning: Unverified HTTPS request is being made to host 'exhibitors.gitex.com'. Adding certificate verification is strongly advised. See: https://urllib3.readthedocs.io/en/1.26.x/advanced-usage.html#ssl-warnings\n",
      "  warnings.warn(\n"
     ]
    },
    {
     "name": "stdout",
     "output_type": "stream",
     "text": [
      "https://exhibitors.gitex.com/gitex-global-2023/Exhibitor/ExbDetails/NDMy\n"
     ]
    },
    {
     "name": "stderr",
     "output_type": "stream",
     "text": [
      "C:\\Users\\saira\\anaconda3\\Lib\\site-packages\\urllib3\\connectionpool.py:1056: InsecureRequestWarning: Unverified HTTPS request is being made to host 'exhibitors.gitex.com'. Adding certificate verification is strongly advised. See: https://urllib3.readthedocs.io/en/1.26.x/advanced-usage.html#ssl-warnings\n",
      "  warnings.warn(\n"
     ]
    },
    {
     "name": "stdout",
     "output_type": "stream",
     "text": [
      "https://exhibitors.gitex.com/gitex-global-2023/Exhibitor/ExbDetails/MTcwNg==\n"
     ]
    },
    {
     "name": "stderr",
     "output_type": "stream",
     "text": [
      "C:\\Users\\saira\\anaconda3\\Lib\\site-packages\\urllib3\\connectionpool.py:1056: InsecureRequestWarning: Unverified HTTPS request is being made to host 'exhibitors.gitex.com'. Adding certificate verification is strongly advised. See: https://urllib3.readthedocs.io/en/1.26.x/advanced-usage.html#ssl-warnings\n",
      "  warnings.warn(\n"
     ]
    },
    {
     "name": "stdout",
     "output_type": "stream",
     "text": [
      "https://exhibitors.gitex.com/gitex-global-2023/Exhibitor/ExbDetails/MjU4OQ==\n"
     ]
    },
    {
     "name": "stderr",
     "output_type": "stream",
     "text": [
      "C:\\Users\\saira\\anaconda3\\Lib\\site-packages\\urllib3\\connectionpool.py:1056: InsecureRequestWarning: Unverified HTTPS request is being made to host 'exhibitors.gitex.com'. Adding certificate verification is strongly advised. See: https://urllib3.readthedocs.io/en/1.26.x/advanced-usage.html#ssl-warnings\n",
      "  warnings.warn(\n"
     ]
    },
    {
     "name": "stdout",
     "output_type": "stream",
     "text": [
      "https://exhibitors.gitex.com/gitex-global-2023/Exhibitor/ExbDetails/OTQ5\n"
     ]
    },
    {
     "name": "stderr",
     "output_type": "stream",
     "text": [
      "C:\\Users\\saira\\anaconda3\\Lib\\site-packages\\urllib3\\connectionpool.py:1056: InsecureRequestWarning: Unverified HTTPS request is being made to host 'exhibitors.gitex.com'. Adding certificate verification is strongly advised. See: https://urllib3.readthedocs.io/en/1.26.x/advanced-usage.html#ssl-warnings\n",
      "  warnings.warn(\n"
     ]
    },
    {
     "name": "stdout",
     "output_type": "stream",
     "text": [
      "https://exhibitors.gitex.com/gitex-global-2023/Exhibitor/ExbDetails/MTQ3NA==\n"
     ]
    },
    {
     "name": "stderr",
     "output_type": "stream",
     "text": [
      "C:\\Users\\saira\\anaconda3\\Lib\\site-packages\\urllib3\\connectionpool.py:1056: InsecureRequestWarning: Unverified HTTPS request is being made to host 'exhibitors.gitex.com'. Adding certificate verification is strongly advised. See: https://urllib3.readthedocs.io/en/1.26.x/advanced-usage.html#ssl-warnings\n",
      "  warnings.warn(\n"
     ]
    },
    {
     "name": "stdout",
     "output_type": "stream",
     "text": [
      "https://exhibitors.gitex.com/gitex-global-2023/Exhibitor/ExbDetails/NTQ4\n"
     ]
    },
    {
     "name": "stderr",
     "output_type": "stream",
     "text": [
      "C:\\Users\\saira\\anaconda3\\Lib\\site-packages\\urllib3\\connectionpool.py:1056: InsecureRequestWarning: Unverified HTTPS request is being made to host 'exhibitors.gitex.com'. Adding certificate verification is strongly advised. See: https://urllib3.readthedocs.io/en/1.26.x/advanced-usage.html#ssl-warnings\n",
      "  warnings.warn(\n"
     ]
    },
    {
     "name": "stdout",
     "output_type": "stream",
     "text": [
      "https://exhibitors.gitex.com/gitex-global-2023/Exhibitor/ExbDetails/NDUx\n"
     ]
    },
    {
     "name": "stderr",
     "output_type": "stream",
     "text": [
      "C:\\Users\\saira\\anaconda3\\Lib\\site-packages\\urllib3\\connectionpool.py:1056: InsecureRequestWarning: Unverified HTTPS request is being made to host 'exhibitors.gitex.com'. Adding certificate verification is strongly advised. See: https://urllib3.readthedocs.io/en/1.26.x/advanced-usage.html#ssl-warnings\n",
      "  warnings.warn(\n"
     ]
    },
    {
     "name": "stdout",
     "output_type": "stream",
     "text": [
      "https://exhibitors.gitex.com/gitex-global-2023/Exhibitor/ExbDetails/MTU4OA==\n"
     ]
    },
    {
     "name": "stderr",
     "output_type": "stream",
     "text": [
      "C:\\Users\\saira\\anaconda3\\Lib\\site-packages\\urllib3\\connectionpool.py:1056: InsecureRequestWarning: Unverified HTTPS request is being made to host 'exhibitors.gitex.com'. Adding certificate verification is strongly advised. See: https://urllib3.readthedocs.io/en/1.26.x/advanced-usage.html#ssl-warnings\n",
      "  warnings.warn(\n"
     ]
    },
    {
     "name": "stdout",
     "output_type": "stream",
     "text": [
      "https://exhibitors.gitex.com/gitex-global-2023/Exhibitor/ExbDetails/MTQ0MA==\n"
     ]
    },
    {
     "name": "stderr",
     "output_type": "stream",
     "text": [
      "C:\\Users\\saira\\anaconda3\\Lib\\site-packages\\urllib3\\connectionpool.py:1056: InsecureRequestWarning: Unverified HTTPS request is being made to host 'exhibitors.gitex.com'. Adding certificate verification is strongly advised. See: https://urllib3.readthedocs.io/en/1.26.x/advanced-usage.html#ssl-warnings\n",
      "  warnings.warn(\n"
     ]
    },
    {
     "name": "stdout",
     "output_type": "stream",
     "text": [
      "https://exhibitors.gitex.com/gitex-global-2023/Exhibitor/ExbDetails/Njg5\n"
     ]
    },
    {
     "name": "stderr",
     "output_type": "stream",
     "text": [
      "C:\\Users\\saira\\anaconda3\\Lib\\site-packages\\urllib3\\connectionpool.py:1056: InsecureRequestWarning: Unverified HTTPS request is being made to host 'exhibitors.gitex.com'. Adding certificate verification is strongly advised. See: https://urllib3.readthedocs.io/en/1.26.x/advanced-usage.html#ssl-warnings\n",
      "  warnings.warn(\n"
     ]
    },
    {
     "name": "stdout",
     "output_type": "stream",
     "text": [
      "https://exhibitors.gitex.com/gitex-global-2023/Exhibitor/ExbDetails/OTY4\n"
     ]
    },
    {
     "name": "stderr",
     "output_type": "stream",
     "text": [
      "C:\\Users\\saira\\anaconda3\\Lib\\site-packages\\urllib3\\connectionpool.py:1056: InsecureRequestWarning: Unverified HTTPS request is being made to host 'exhibitors.gitex.com'. Adding certificate verification is strongly advised. See: https://urllib3.readthedocs.io/en/1.26.x/advanced-usage.html#ssl-warnings\n",
      "  warnings.warn(\n"
     ]
    },
    {
     "name": "stdout",
     "output_type": "stream",
     "text": [
      "https://exhibitors.gitex.com/gitex-global-2023/Exhibitor/ExbDetails/OTI2\n"
     ]
    },
    {
     "name": "stderr",
     "output_type": "stream",
     "text": [
      "C:\\Users\\saira\\anaconda3\\Lib\\site-packages\\urllib3\\connectionpool.py:1056: InsecureRequestWarning: Unverified HTTPS request is being made to host 'exhibitors.gitex.com'. Adding certificate verification is strongly advised. See: https://urllib3.readthedocs.io/en/1.26.x/advanced-usage.html#ssl-warnings\n",
      "  warnings.warn(\n"
     ]
    },
    {
     "name": "stdout",
     "output_type": "stream",
     "text": [
      "https://exhibitors.gitex.com/gitex-global-2023/Exhibitor/ExbDetails/OTQ1\n"
     ]
    },
    {
     "name": "stderr",
     "output_type": "stream",
     "text": [
      "C:\\Users\\saira\\anaconda3\\Lib\\site-packages\\urllib3\\connectionpool.py:1056: InsecureRequestWarning: Unverified HTTPS request is being made to host 'exhibitors.gitex.com'. Adding certificate verification is strongly advised. See: https://urllib3.readthedocs.io/en/1.26.x/advanced-usage.html#ssl-warnings\n",
      "  warnings.warn(\n"
     ]
    },
    {
     "name": "stdout",
     "output_type": "stream",
     "text": [
      "https://exhibitors.gitex.com/gitex-global-2023/Exhibitor/ExbDetails/MTQ4Mg==\n"
     ]
    },
    {
     "name": "stderr",
     "output_type": "stream",
     "text": [
      "C:\\Users\\saira\\anaconda3\\Lib\\site-packages\\urllib3\\connectionpool.py:1056: InsecureRequestWarning: Unverified HTTPS request is being made to host 'exhibitors.gitex.com'. Adding certificate verification is strongly advised. See: https://urllib3.readthedocs.io/en/1.26.x/advanced-usage.html#ssl-warnings\n",
      "  warnings.warn(\n"
     ]
    },
    {
     "name": "stdout",
     "output_type": "stream",
     "text": [
      "https://exhibitors.gitex.com/gitex-global-2023/Exhibitor/ExbDetails/NTYy\n"
     ]
    },
    {
     "name": "stderr",
     "output_type": "stream",
     "text": [
      "C:\\Users\\saira\\anaconda3\\Lib\\site-packages\\urllib3\\connectionpool.py:1056: InsecureRequestWarning: Unverified HTTPS request is being made to host 'exhibitors.gitex.com'. Adding certificate verification is strongly advised. See: https://urllib3.readthedocs.io/en/1.26.x/advanced-usage.html#ssl-warnings\n",
      "  warnings.warn(\n"
     ]
    },
    {
     "name": "stdout",
     "output_type": "stream",
     "text": [
      "https://exhibitors.gitex.com/gitex-global-2023/Exhibitor/ExbDetails/MTAxNA==\n"
     ]
    },
    {
     "name": "stderr",
     "output_type": "stream",
     "text": [
      "C:\\Users\\saira\\anaconda3\\Lib\\site-packages\\urllib3\\connectionpool.py:1056: InsecureRequestWarning: Unverified HTTPS request is being made to host 'exhibitors.gitex.com'. Adding certificate verification is strongly advised. See: https://urllib3.readthedocs.io/en/1.26.x/advanced-usage.html#ssl-warnings\n",
      "  warnings.warn(\n"
     ]
    },
    {
     "name": "stdout",
     "output_type": "stream",
     "text": [
      "https://exhibitors.gitex.com/gitex-global-2023/Exhibitor/ExbDetails/MTAwNA==\n"
     ]
    },
    {
     "name": "stderr",
     "output_type": "stream",
     "text": [
      "C:\\Users\\saira\\anaconda3\\Lib\\site-packages\\urllib3\\connectionpool.py:1056: InsecureRequestWarning: Unverified HTTPS request is being made to host 'exhibitors.gitex.com'. Adding certificate verification is strongly advised. See: https://urllib3.readthedocs.io/en/1.26.x/advanced-usage.html#ssl-warnings\n",
      "  warnings.warn(\n"
     ]
    },
    {
     "name": "stdout",
     "output_type": "stream",
     "text": [
      "https://exhibitors.gitex.com/gitex-global-2023/Exhibitor/ExbDetails/MjE4MQ==\n"
     ]
    },
    {
     "name": "stderr",
     "output_type": "stream",
     "text": [
      "C:\\Users\\saira\\anaconda3\\Lib\\site-packages\\urllib3\\connectionpool.py:1056: InsecureRequestWarning: Unverified HTTPS request is being made to host 'exhibitors.gitex.com'. Adding certificate verification is strongly advised. See: https://urllib3.readthedocs.io/en/1.26.x/advanced-usage.html#ssl-warnings\n",
      "  warnings.warn(\n"
     ]
    },
    {
     "name": "stdout",
     "output_type": "stream",
     "text": [
      "https://exhibitors.gitex.com/gitex-global-2023/Exhibitor/ExbDetails/NzQ3\n"
     ]
    },
    {
     "name": "stderr",
     "output_type": "stream",
     "text": [
      "C:\\Users\\saira\\anaconda3\\Lib\\site-packages\\urllib3\\connectionpool.py:1056: InsecureRequestWarning: Unverified HTTPS request is being made to host 'exhibitors.gitex.com'. Adding certificate verification is strongly advised. See: https://urllib3.readthedocs.io/en/1.26.x/advanced-usage.html#ssl-warnings\n",
      "  warnings.warn(\n"
     ]
    },
    {
     "name": "stdout",
     "output_type": "stream",
     "text": [
      "https://exhibitors.gitex.com/gitex-global-2023/Exhibitor/ExbDetails/NzAy\n"
     ]
    },
    {
     "name": "stderr",
     "output_type": "stream",
     "text": [
      "C:\\Users\\saira\\anaconda3\\Lib\\site-packages\\urllib3\\connectionpool.py:1056: InsecureRequestWarning: Unverified HTTPS request is being made to host 'exhibitors.gitex.com'. Adding certificate verification is strongly advised. See: https://urllib3.readthedocs.io/en/1.26.x/advanced-usage.html#ssl-warnings\n",
      "  warnings.warn(\n"
     ]
    },
    {
     "name": "stdout",
     "output_type": "stream",
     "text": [
      "https://exhibitors.gitex.com/gitex-global-2023/Exhibitor/ExbDetails/MTg4Nw==\n"
     ]
    },
    {
     "name": "stderr",
     "output_type": "stream",
     "text": [
      "C:\\Users\\saira\\anaconda3\\Lib\\site-packages\\urllib3\\connectionpool.py:1056: InsecureRequestWarning: Unverified HTTPS request is being made to host 'exhibitors.gitex.com'. Adding certificate verification is strongly advised. See: https://urllib3.readthedocs.io/en/1.26.x/advanced-usage.html#ssl-warnings\n",
      "  warnings.warn(\n"
     ]
    },
    {
     "name": "stdout",
     "output_type": "stream",
     "text": [
      "https://exhibitors.gitex.com/gitex-global-2023/Exhibitor/ExbDetails/MTQ2MA==\n"
     ]
    },
    {
     "name": "stderr",
     "output_type": "stream",
     "text": [
      "C:\\Users\\saira\\anaconda3\\Lib\\site-packages\\urllib3\\connectionpool.py:1056: InsecureRequestWarning: Unverified HTTPS request is being made to host 'exhibitors.gitex.com'. Adding certificate verification is strongly advised. See: https://urllib3.readthedocs.io/en/1.26.x/advanced-usage.html#ssl-warnings\n",
      "  warnings.warn(\n"
     ]
    },
    {
     "name": "stdout",
     "output_type": "stream",
     "text": [
      "https://exhibitors.gitex.com/gitex-global-2023/Exhibitor/ExbDetails/Njc1\n"
     ]
    },
    {
     "name": "stderr",
     "output_type": "stream",
     "text": [
      "C:\\Users\\saira\\anaconda3\\Lib\\site-packages\\urllib3\\connectionpool.py:1056: InsecureRequestWarning: Unverified HTTPS request is being made to host 'exhibitors.gitex.com'. Adding certificate verification is strongly advised. See: https://urllib3.readthedocs.io/en/1.26.x/advanced-usage.html#ssl-warnings\n",
      "  warnings.warn(\n"
     ]
    },
    {
     "name": "stdout",
     "output_type": "stream",
     "text": [
      "https://exhibitors.gitex.com/gitex-global-2023/Exhibitor/ExbDetails/MTU1NQ==\n"
     ]
    },
    {
     "name": "stderr",
     "output_type": "stream",
     "text": [
      "C:\\Users\\saira\\anaconda3\\Lib\\site-packages\\urllib3\\connectionpool.py:1056: InsecureRequestWarning: Unverified HTTPS request is being made to host 'exhibitors.gitex.com'. Adding certificate verification is strongly advised. See: https://urllib3.readthedocs.io/en/1.26.x/advanced-usage.html#ssl-warnings\n",
      "  warnings.warn(\n"
     ]
    },
    {
     "name": "stdout",
     "output_type": "stream",
     "text": [
      "https://exhibitors.gitex.com/gitex-global-2023/Exhibitor/ExbDetails/NDMz\n"
     ]
    },
    {
     "name": "stderr",
     "output_type": "stream",
     "text": [
      "C:\\Users\\saira\\anaconda3\\Lib\\site-packages\\urllib3\\connectionpool.py:1056: InsecureRequestWarning: Unverified HTTPS request is being made to host 'exhibitors.gitex.com'. Adding certificate verification is strongly advised. See: https://urllib3.readthedocs.io/en/1.26.x/advanced-usage.html#ssl-warnings\n",
      "  warnings.warn(\n"
     ]
    },
    {
     "name": "stdout",
     "output_type": "stream",
     "text": [
      "https://exhibitors.gitex.com/gitex-global-2023/Exhibitor/ExbDetails/MTkyMg==\n"
     ]
    },
    {
     "name": "stderr",
     "output_type": "stream",
     "text": [
      "C:\\Users\\saira\\anaconda3\\Lib\\site-packages\\urllib3\\connectionpool.py:1056: InsecureRequestWarning: Unverified HTTPS request is being made to host 'exhibitors.gitex.com'. Adding certificate verification is strongly advised. See: https://urllib3.readthedocs.io/en/1.26.x/advanced-usage.html#ssl-warnings\n",
      "  warnings.warn(\n"
     ]
    },
    {
     "name": "stdout",
     "output_type": "stream",
     "text": [
      "https://exhibitors.gitex.com/gitex-global-2023/Exhibitor/ExbDetails/MTEzOQ==\n"
     ]
    },
    {
     "name": "stderr",
     "output_type": "stream",
     "text": [
      "C:\\Users\\saira\\anaconda3\\Lib\\site-packages\\urllib3\\connectionpool.py:1056: InsecureRequestWarning: Unverified HTTPS request is being made to host 'exhibitors.gitex.com'. Adding certificate verification is strongly advised. See: https://urllib3.readthedocs.io/en/1.26.x/advanced-usage.html#ssl-warnings\n",
      "  warnings.warn(\n"
     ]
    },
    {
     "name": "stdout",
     "output_type": "stream",
     "text": [
      "https://exhibitors.gitex.com/gitex-global-2023/Exhibitor/ExbDetails/MTQxNA==\n"
     ]
    },
    {
     "name": "stderr",
     "output_type": "stream",
     "text": [
      "C:\\Users\\saira\\anaconda3\\Lib\\site-packages\\urllib3\\connectionpool.py:1056: InsecureRequestWarning: Unverified HTTPS request is being made to host 'exhibitors.gitex.com'. Adding certificate verification is strongly advised. See: https://urllib3.readthedocs.io/en/1.26.x/advanced-usage.html#ssl-warnings\n",
      "  warnings.warn(\n"
     ]
    },
    {
     "name": "stdout",
     "output_type": "stream",
     "text": [
      "https://exhibitors.gitex.com/gitex-global-2023/Exhibitor/ExbDetails/MTU0NA==\n"
     ]
    },
    {
     "name": "stderr",
     "output_type": "stream",
     "text": [
      "C:\\Users\\saira\\anaconda3\\Lib\\site-packages\\urllib3\\connectionpool.py:1056: InsecureRequestWarning: Unverified HTTPS request is being made to host 'exhibitors.gitex.com'. Adding certificate verification is strongly advised. See: https://urllib3.readthedocs.io/en/1.26.x/advanced-usage.html#ssl-warnings\n",
      "  warnings.warn(\n"
     ]
    },
    {
     "name": "stdout",
     "output_type": "stream",
     "text": [
      "https://exhibitors.gitex.com/gitex-global-2023/Exhibitor/ExbDetails/NjEw\n"
     ]
    },
    {
     "name": "stderr",
     "output_type": "stream",
     "text": [
      "C:\\Users\\saira\\anaconda3\\Lib\\site-packages\\urllib3\\connectionpool.py:1056: InsecureRequestWarning: Unverified HTTPS request is being made to host 'exhibitors.gitex.com'. Adding certificate verification is strongly advised. See: https://urllib3.readthedocs.io/en/1.26.x/advanced-usage.html#ssl-warnings\n",
      "  warnings.warn(\n"
     ]
    },
    {
     "name": "stdout",
     "output_type": "stream",
     "text": [
      "https://exhibitors.gitex.com/gitex-global-2023/Exhibitor/ExbDetails/MTEzOA==\n"
     ]
    },
    {
     "name": "stderr",
     "output_type": "stream",
     "text": [
      "C:\\Users\\saira\\anaconda3\\Lib\\site-packages\\urllib3\\connectionpool.py:1056: InsecureRequestWarning: Unverified HTTPS request is being made to host 'exhibitors.gitex.com'. Adding certificate verification is strongly advised. See: https://urllib3.readthedocs.io/en/1.26.x/advanced-usage.html#ssl-warnings\n",
      "  warnings.warn(\n"
     ]
    },
    {
     "name": "stdout",
     "output_type": "stream",
     "text": [
      "https://exhibitors.gitex.com/gitex-global-2023/Exhibitor/ExbDetails/OTg3\n"
     ]
    },
    {
     "name": "stderr",
     "output_type": "stream",
     "text": [
      "C:\\Users\\saira\\anaconda3\\Lib\\site-packages\\urllib3\\connectionpool.py:1056: InsecureRequestWarning: Unverified HTTPS request is being made to host 'exhibitors.gitex.com'. Adding certificate verification is strongly advised. See: https://urllib3.readthedocs.io/en/1.26.x/advanced-usage.html#ssl-warnings\n",
      "  warnings.warn(\n"
     ]
    },
    {
     "name": "stdout",
     "output_type": "stream",
     "text": [
      "https://exhibitors.gitex.com/gitex-global-2023/Exhibitor/ExbDetails/NDQ4\n"
     ]
    },
    {
     "name": "stderr",
     "output_type": "stream",
     "text": [
      "C:\\Users\\saira\\anaconda3\\Lib\\site-packages\\urllib3\\connectionpool.py:1056: InsecureRequestWarning: Unverified HTTPS request is being made to host 'exhibitors.gitex.com'. Adding certificate verification is strongly advised. See: https://urllib3.readthedocs.io/en/1.26.x/advanced-usage.html#ssl-warnings\n",
      "  warnings.warn(\n"
     ]
    },
    {
     "name": "stdout",
     "output_type": "stream",
     "text": [
      "https://exhibitors.gitex.com/gitex-global-2023/Exhibitor/ExbDetails/NjQz\n"
     ]
    },
    {
     "name": "stderr",
     "output_type": "stream",
     "text": [
      "C:\\Users\\saira\\anaconda3\\Lib\\site-packages\\urllib3\\connectionpool.py:1056: InsecureRequestWarning: Unverified HTTPS request is being made to host 'exhibitors.gitex.com'. Adding certificate verification is strongly advised. See: https://urllib3.readthedocs.io/en/1.26.x/advanced-usage.html#ssl-warnings\n",
      "  warnings.warn(\n"
     ]
    },
    {
     "name": "stdout",
     "output_type": "stream",
     "text": [
      "https://exhibitors.gitex.com/gitex-global-2023/Exhibitor/ExbDetails/MTUwNw==\n"
     ]
    },
    {
     "name": "stderr",
     "output_type": "stream",
     "text": [
      "C:\\Users\\saira\\anaconda3\\Lib\\site-packages\\urllib3\\connectionpool.py:1056: InsecureRequestWarning: Unverified HTTPS request is being made to host 'exhibitors.gitex.com'. Adding certificate verification is strongly advised. See: https://urllib3.readthedocs.io/en/1.26.x/advanced-usage.html#ssl-warnings\n",
      "  warnings.warn(\n"
     ]
    },
    {
     "name": "stdout",
     "output_type": "stream",
     "text": [
      "https://exhibitors.gitex.com/gitex-global-2023/Exhibitor/ExbDetails/MTU2Mw==\n"
     ]
    },
    {
     "name": "stderr",
     "output_type": "stream",
     "text": [
      "C:\\Users\\saira\\anaconda3\\Lib\\site-packages\\urllib3\\connectionpool.py:1056: InsecureRequestWarning: Unverified HTTPS request is being made to host 'exhibitors.gitex.com'. Adding certificate verification is strongly advised. See: https://urllib3.readthedocs.io/en/1.26.x/advanced-usage.html#ssl-warnings\n",
      "  warnings.warn(\n"
     ]
    },
    {
     "name": "stdout",
     "output_type": "stream",
     "text": [
      "https://exhibitors.gitex.com/gitex-global-2023/Exhibitor/ExbDetails/MTYxNQ==\n"
     ]
    },
    {
     "name": "stderr",
     "output_type": "stream",
     "text": [
      "C:\\Users\\saira\\anaconda3\\Lib\\site-packages\\urllib3\\connectionpool.py:1056: InsecureRequestWarning: Unverified HTTPS request is being made to host 'exhibitors.gitex.com'. Adding certificate verification is strongly advised. See: https://urllib3.readthedocs.io/en/1.26.x/advanced-usage.html#ssl-warnings\n",
      "  warnings.warn(\n"
     ]
    },
    {
     "name": "stdout",
     "output_type": "stream",
     "text": [
      "https://exhibitors.gitex.com/gitex-global-2023/Exhibitor/ExbDetails/MTU0Mw==\n"
     ]
    },
    {
     "name": "stderr",
     "output_type": "stream",
     "text": [
      "C:\\Users\\saira\\anaconda3\\Lib\\site-packages\\urllib3\\connectionpool.py:1056: InsecureRequestWarning: Unverified HTTPS request is being made to host 'exhibitors.gitex.com'. Adding certificate verification is strongly advised. See: https://urllib3.readthedocs.io/en/1.26.x/advanced-usage.html#ssl-warnings\n",
      "  warnings.warn(\n"
     ]
    },
    {
     "name": "stdout",
     "output_type": "stream",
     "text": [
      "https://exhibitors.gitex.com/gitex-global-2023/Exhibitor/ExbDetails/NTU5\n"
     ]
    },
    {
     "name": "stderr",
     "output_type": "stream",
     "text": [
      "C:\\Users\\saira\\anaconda3\\Lib\\site-packages\\urllib3\\connectionpool.py:1056: InsecureRequestWarning: Unverified HTTPS request is being made to host 'exhibitors.gitex.com'. Adding certificate verification is strongly advised. See: https://urllib3.readthedocs.io/en/1.26.x/advanced-usage.html#ssl-warnings\n",
      "  warnings.warn(\n"
     ]
    },
    {
     "name": "stdout",
     "output_type": "stream",
     "text": [
      "https://exhibitors.gitex.com/gitex-global-2023/Exhibitor/ExbDetails/MTY5MA==\n"
     ]
    },
    {
     "name": "stderr",
     "output_type": "stream",
     "text": [
      "C:\\Users\\saira\\anaconda3\\Lib\\site-packages\\urllib3\\connectionpool.py:1056: InsecureRequestWarning: Unverified HTTPS request is being made to host 'exhibitors.gitex.com'. Adding certificate verification is strongly advised. See: https://urllib3.readthedocs.io/en/1.26.x/advanced-usage.html#ssl-warnings\n",
      "  warnings.warn(\n"
     ]
    },
    {
     "name": "stdout",
     "output_type": "stream",
     "text": [
      "https://exhibitors.gitex.com/gitex-global-2023/Exhibitor/ExbDetails/MTUxMg==\n"
     ]
    },
    {
     "name": "stderr",
     "output_type": "stream",
     "text": [
      "C:\\Users\\saira\\anaconda3\\Lib\\site-packages\\urllib3\\connectionpool.py:1056: InsecureRequestWarning: Unverified HTTPS request is being made to host 'exhibitors.gitex.com'. Adding certificate verification is strongly advised. See: https://urllib3.readthedocs.io/en/1.26.x/advanced-usage.html#ssl-warnings\n",
      "  warnings.warn(\n"
     ]
    },
    {
     "name": "stdout",
     "output_type": "stream",
     "text": [
      "https://exhibitors.gitex.com/gitex-global-2023/Exhibitor/ExbDetails/MTE0NA==\n"
     ]
    },
    {
     "name": "stderr",
     "output_type": "stream",
     "text": [
      "C:\\Users\\saira\\anaconda3\\Lib\\site-packages\\urllib3\\connectionpool.py:1056: InsecureRequestWarning: Unverified HTTPS request is being made to host 'exhibitors.gitex.com'. Adding certificate verification is strongly advised. See: https://urllib3.readthedocs.io/en/1.26.x/advanced-usage.html#ssl-warnings\n",
      "  warnings.warn(\n"
     ]
    },
    {
     "name": "stdout",
     "output_type": "stream",
     "text": [
      "https://exhibitors.gitex.com/gitex-global-2023/Exhibitor/ExbDetails/NTEz\n"
     ]
    },
    {
     "name": "stderr",
     "output_type": "stream",
     "text": [
      "C:\\Users\\saira\\anaconda3\\Lib\\site-packages\\urllib3\\connectionpool.py:1056: InsecureRequestWarning: Unverified HTTPS request is being made to host 'exhibitors.gitex.com'. Adding certificate verification is strongly advised. See: https://urllib3.readthedocs.io/en/1.26.x/advanced-usage.html#ssl-warnings\n",
      "  warnings.warn(\n"
     ]
    },
    {
     "name": "stdout",
     "output_type": "stream",
     "text": [
      "https://exhibitors.gitex.com/gitex-global-2023/Exhibitor/ExbDetails/MTExMg==\n"
     ]
    },
    {
     "name": "stderr",
     "output_type": "stream",
     "text": [
      "C:\\Users\\saira\\anaconda3\\Lib\\site-packages\\urllib3\\connectionpool.py:1056: InsecureRequestWarning: Unverified HTTPS request is being made to host 'exhibitors.gitex.com'. Adding certificate verification is strongly advised. See: https://urllib3.readthedocs.io/en/1.26.x/advanced-usage.html#ssl-warnings\n",
      "  warnings.warn(\n"
     ]
    },
    {
     "name": "stdout",
     "output_type": "stream",
     "text": [
      "https://exhibitors.gitex.com/gitex-global-2023/Exhibitor/ExbDetails/NjQ3\n"
     ]
    },
    {
     "name": "stderr",
     "output_type": "stream",
     "text": [
      "C:\\Users\\saira\\anaconda3\\Lib\\site-packages\\urllib3\\connectionpool.py:1056: InsecureRequestWarning: Unverified HTTPS request is being made to host 'exhibitors.gitex.com'. Adding certificate verification is strongly advised. See: https://urllib3.readthedocs.io/en/1.26.x/advanced-usage.html#ssl-warnings\n",
      "  warnings.warn(\n"
     ]
    },
    {
     "name": "stdout",
     "output_type": "stream",
     "text": [
      "https://exhibitors.gitex.com/gitex-global-2023/Exhibitor/ExbDetails/MTM1MQ==\n"
     ]
    },
    {
     "name": "stderr",
     "output_type": "stream",
     "text": [
      "C:\\Users\\saira\\anaconda3\\Lib\\site-packages\\urllib3\\connectionpool.py:1056: InsecureRequestWarning: Unverified HTTPS request is being made to host 'exhibitors.gitex.com'. Adding certificate verification is strongly advised. See: https://urllib3.readthedocs.io/en/1.26.x/advanced-usage.html#ssl-warnings\n",
      "  warnings.warn(\n"
     ]
    },
    {
     "name": "stdout",
     "output_type": "stream",
     "text": [
      "https://exhibitors.gitex.com/gitex-global-2023/Exhibitor/ExbDetails/OTI1\n"
     ]
    },
    {
     "name": "stderr",
     "output_type": "stream",
     "text": [
      "C:\\Users\\saira\\anaconda3\\Lib\\site-packages\\urllib3\\connectionpool.py:1056: InsecureRequestWarning: Unverified HTTPS request is being made to host 'exhibitors.gitex.com'. Adding certificate verification is strongly advised. See: https://urllib3.readthedocs.io/en/1.26.x/advanced-usage.html#ssl-warnings\n",
      "  warnings.warn(\n"
     ]
    },
    {
     "name": "stdout",
     "output_type": "stream",
     "text": [
      "https://exhibitors.gitex.com/gitex-global-2023/Exhibitor/ExbDetails/OTkz\n"
     ]
    },
    {
     "name": "stderr",
     "output_type": "stream",
     "text": [
      "C:\\Users\\saira\\anaconda3\\Lib\\site-packages\\urllib3\\connectionpool.py:1056: InsecureRequestWarning: Unverified HTTPS request is being made to host 'exhibitors.gitex.com'. Adding certificate verification is strongly advised. See: https://urllib3.readthedocs.io/en/1.26.x/advanced-usage.html#ssl-warnings\n",
      "  warnings.warn(\n"
     ]
    },
    {
     "name": "stdout",
     "output_type": "stream",
     "text": [
      "https://exhibitors.gitex.com/gitex-global-2023/Exhibitor/ExbDetails/OTI3\n"
     ]
    },
    {
     "name": "stderr",
     "output_type": "stream",
     "text": [
      "C:\\Users\\saira\\anaconda3\\Lib\\site-packages\\urllib3\\connectionpool.py:1056: InsecureRequestWarning: Unverified HTTPS request is being made to host 'exhibitors.gitex.com'. Adding certificate verification is strongly advised. See: https://urllib3.readthedocs.io/en/1.26.x/advanced-usage.html#ssl-warnings\n",
      "  warnings.warn(\n"
     ]
    },
    {
     "name": "stdout",
     "output_type": "stream",
     "text": [
      "https://exhibitors.gitex.com/gitex-global-2023/Exhibitor/ExbDetails/MTM4NA==\n"
     ]
    },
    {
     "name": "stderr",
     "output_type": "stream",
     "text": [
      "C:\\Users\\saira\\anaconda3\\Lib\\site-packages\\urllib3\\connectionpool.py:1056: InsecureRequestWarning: Unverified HTTPS request is being made to host 'exhibitors.gitex.com'. Adding certificate verification is strongly advised. See: https://urllib3.readthedocs.io/en/1.26.x/advanced-usage.html#ssl-warnings\n",
      "  warnings.warn(\n"
     ]
    },
    {
     "name": "stdout",
     "output_type": "stream",
     "text": [
      "https://exhibitors.gitex.com/gitex-global-2023/Exhibitor/ExbDetails/MTY5OA==\n"
     ]
    },
    {
     "name": "stderr",
     "output_type": "stream",
     "text": [
      "C:\\Users\\saira\\anaconda3\\Lib\\site-packages\\urllib3\\connectionpool.py:1056: InsecureRequestWarning: Unverified HTTPS request is being made to host 'exhibitors.gitex.com'. Adding certificate verification is strongly advised. See: https://urllib3.readthedocs.io/en/1.26.x/advanced-usage.html#ssl-warnings\n",
      "  warnings.warn(\n"
     ]
    },
    {
     "name": "stdout",
     "output_type": "stream",
     "text": [
      "https://exhibitors.gitex.com/gitex-global-2023/Exhibitor/ExbDetails/NTk5\n"
     ]
    },
    {
     "name": "stderr",
     "output_type": "stream",
     "text": [
      "C:\\Users\\saira\\anaconda3\\Lib\\site-packages\\urllib3\\connectionpool.py:1056: InsecureRequestWarning: Unverified HTTPS request is being made to host 'exhibitors.gitex.com'. Adding certificate verification is strongly advised. See: https://urllib3.readthedocs.io/en/1.26.x/advanced-usage.html#ssl-warnings\n",
      "  warnings.warn(\n"
     ]
    },
    {
     "name": "stdout",
     "output_type": "stream",
     "text": [
      "https://exhibitors.gitex.com/gitex-global-2023/Exhibitor/ExbDetails/NjY1\n"
     ]
    },
    {
     "name": "stderr",
     "output_type": "stream",
     "text": [
      "C:\\Users\\saira\\anaconda3\\Lib\\site-packages\\urllib3\\connectionpool.py:1056: InsecureRequestWarning: Unverified HTTPS request is being made to host 'exhibitors.gitex.com'. Adding certificate verification is strongly advised. See: https://urllib3.readthedocs.io/en/1.26.x/advanced-usage.html#ssl-warnings\n",
      "  warnings.warn(\n"
     ]
    },
    {
     "name": "stdout",
     "output_type": "stream",
     "text": [
      "https://exhibitors.gitex.com/gitex-global-2023/Exhibitor/ExbDetails/MTU0Mg==\n"
     ]
    },
    {
     "name": "stderr",
     "output_type": "stream",
     "text": [
      "C:\\Users\\saira\\anaconda3\\Lib\\site-packages\\urllib3\\connectionpool.py:1056: InsecureRequestWarning: Unverified HTTPS request is being made to host 'exhibitors.gitex.com'. Adding certificate verification is strongly advised. See: https://urllib3.readthedocs.io/en/1.26.x/advanced-usage.html#ssl-warnings\n",
      "  warnings.warn(\n"
     ]
    },
    {
     "name": "stdout",
     "output_type": "stream",
     "text": [
      "https://exhibitors.gitex.com/gitex-global-2023/Exhibitor/ExbDetails/MTUyNA==\n"
     ]
    },
    {
     "name": "stderr",
     "output_type": "stream",
     "text": [
      "C:\\Users\\saira\\anaconda3\\Lib\\site-packages\\urllib3\\connectionpool.py:1056: InsecureRequestWarning: Unverified HTTPS request is being made to host 'exhibitors.gitex.com'. Adding certificate verification is strongly advised. See: https://urllib3.readthedocs.io/en/1.26.x/advanced-usage.html#ssl-warnings\n",
      "  warnings.warn(\n"
     ]
    },
    {
     "name": "stdout",
     "output_type": "stream",
     "text": [
      "https://exhibitors.gitex.com/gitex-global-2023/Exhibitor/ExbDetails/MTUxNA==\n"
     ]
    },
    {
     "name": "stderr",
     "output_type": "stream",
     "text": [
      "C:\\Users\\saira\\anaconda3\\Lib\\site-packages\\urllib3\\connectionpool.py:1056: InsecureRequestWarning: Unverified HTTPS request is being made to host 'exhibitors.gitex.com'. Adding certificate verification is strongly advised. See: https://urllib3.readthedocs.io/en/1.26.x/advanced-usage.html#ssl-warnings\n",
      "  warnings.warn(\n"
     ]
    },
    {
     "name": "stdout",
     "output_type": "stream",
     "text": [
      "https://exhibitors.gitex.com/gitex-global-2023/Exhibitor/ExbDetails/MTA1OA==\n"
     ]
    },
    {
     "name": "stderr",
     "output_type": "stream",
     "text": [
      "C:\\Users\\saira\\anaconda3\\Lib\\site-packages\\urllib3\\connectionpool.py:1056: InsecureRequestWarning: Unverified HTTPS request is being made to host 'exhibitors.gitex.com'. Adding certificate verification is strongly advised. See: https://urllib3.readthedocs.io/en/1.26.x/advanced-usage.html#ssl-warnings\n",
      "  warnings.warn(\n"
     ]
    },
    {
     "name": "stdout",
     "output_type": "stream",
     "text": [
      "https://exhibitors.gitex.com/gitex-global-2023/Exhibitor/ExbDetails/NTc5\n"
     ]
    },
    {
     "name": "stderr",
     "output_type": "stream",
     "text": [
      "C:\\Users\\saira\\anaconda3\\Lib\\site-packages\\urllib3\\connectionpool.py:1056: InsecureRequestWarning: Unverified HTTPS request is being made to host 'exhibitors.gitex.com'. Adding certificate verification is strongly advised. See: https://urllib3.readthedocs.io/en/1.26.x/advanced-usage.html#ssl-warnings\n",
      "  warnings.warn(\n"
     ]
    },
    {
     "name": "stdout",
     "output_type": "stream",
     "text": [
      "https://exhibitors.gitex.com/gitex-global-2023/Exhibitor/ExbDetails/MTQ2Mw==\n"
     ]
    },
    {
     "name": "stderr",
     "output_type": "stream",
     "text": [
      "C:\\Users\\saira\\anaconda3\\Lib\\site-packages\\urllib3\\connectionpool.py:1056: InsecureRequestWarning: Unverified HTTPS request is being made to host 'exhibitors.gitex.com'. Adding certificate verification is strongly advised. See: https://urllib3.readthedocs.io/en/1.26.x/advanced-usage.html#ssl-warnings\n",
      "  warnings.warn(\n"
     ]
    },
    {
     "name": "stdout",
     "output_type": "stream",
     "text": [
      "https://exhibitors.gitex.com/gitex-global-2023/Exhibitor/ExbDetails/NDY5\n"
     ]
    },
    {
     "name": "stderr",
     "output_type": "stream",
     "text": [
      "C:\\Users\\saira\\anaconda3\\Lib\\site-packages\\urllib3\\connectionpool.py:1056: InsecureRequestWarning: Unverified HTTPS request is being made to host 'exhibitors.gitex.com'. Adding certificate verification is strongly advised. See: https://urllib3.readthedocs.io/en/1.26.x/advanced-usage.html#ssl-warnings\n",
      "  warnings.warn(\n"
     ]
    },
    {
     "name": "stdout",
     "output_type": "stream",
     "text": [
      "https://exhibitors.gitex.com/gitex-global-2023/Exhibitor/ExbDetails/MTQ5Nw==\n"
     ]
    },
    {
     "name": "stderr",
     "output_type": "stream",
     "text": [
      "C:\\Users\\saira\\anaconda3\\Lib\\site-packages\\urllib3\\connectionpool.py:1056: InsecureRequestWarning: Unverified HTTPS request is being made to host 'exhibitors.gitex.com'. Adding certificate verification is strongly advised. See: https://urllib3.readthedocs.io/en/1.26.x/advanced-usage.html#ssl-warnings\n",
      "  warnings.warn(\n"
     ]
    },
    {
     "name": "stdout",
     "output_type": "stream",
     "text": [
      "https://exhibitors.gitex.com/gitex-global-2023/Exhibitor/ExbDetails/MTA3Mw==\n"
     ]
    },
    {
     "name": "stderr",
     "output_type": "stream",
     "text": [
      "C:\\Users\\saira\\anaconda3\\Lib\\site-packages\\urllib3\\connectionpool.py:1056: InsecureRequestWarning: Unverified HTTPS request is being made to host 'exhibitors.gitex.com'. Adding certificate verification is strongly advised. See: https://urllib3.readthedocs.io/en/1.26.x/advanced-usage.html#ssl-warnings\n",
      "  warnings.warn(\n"
     ]
    },
    {
     "name": "stdout",
     "output_type": "stream",
     "text": [
      "https://exhibitors.gitex.com/gitex-global-2023/Exhibitor/ExbDetails/NjEy\n"
     ]
    },
    {
     "name": "stderr",
     "output_type": "stream",
     "text": [
      "C:\\Users\\saira\\anaconda3\\Lib\\site-packages\\urllib3\\connectionpool.py:1056: InsecureRequestWarning: Unverified HTTPS request is being made to host 'exhibitors.gitex.com'. Adding certificate verification is strongly advised. See: https://urllib3.readthedocs.io/en/1.26.x/advanced-usage.html#ssl-warnings\n",
      "  warnings.warn(\n"
     ]
    },
    {
     "name": "stdout",
     "output_type": "stream",
     "text": [
      "https://exhibitors.gitex.com/gitex-global-2023/Exhibitor/ExbDetails/NjQy\n"
     ]
    },
    {
     "name": "stderr",
     "output_type": "stream",
     "text": [
      "C:\\Users\\saira\\anaconda3\\Lib\\site-packages\\urllib3\\connectionpool.py:1056: InsecureRequestWarning: Unverified HTTPS request is being made to host 'exhibitors.gitex.com'. Adding certificate verification is strongly advised. See: https://urllib3.readthedocs.io/en/1.26.x/advanced-usage.html#ssl-warnings\n",
      "  warnings.warn(\n"
     ]
    },
    {
     "name": "stdout",
     "output_type": "stream",
     "text": [
      "https://exhibitors.gitex.com/gitex-global-2023/Exhibitor/ExbDetails/OTc4\n"
     ]
    },
    {
     "name": "stderr",
     "output_type": "stream",
     "text": [
      "C:\\Users\\saira\\anaconda3\\Lib\\site-packages\\urllib3\\connectionpool.py:1056: InsecureRequestWarning: Unverified HTTPS request is being made to host 'exhibitors.gitex.com'. Adding certificate verification is strongly advised. See: https://urllib3.readthedocs.io/en/1.26.x/advanced-usage.html#ssl-warnings\n",
      "  warnings.warn(\n"
     ]
    },
    {
     "name": "stdout",
     "output_type": "stream",
     "text": [
      "https://exhibitors.gitex.com/gitex-global-2023/Exhibitor/ExbDetails/MTY4OQ==\n"
     ]
    },
    {
     "name": "stderr",
     "output_type": "stream",
     "text": [
      "C:\\Users\\saira\\anaconda3\\Lib\\site-packages\\urllib3\\connectionpool.py:1056: InsecureRequestWarning: Unverified HTTPS request is being made to host 'exhibitors.gitex.com'. Adding certificate verification is strongly advised. See: https://urllib3.readthedocs.io/en/1.26.x/advanced-usage.html#ssl-warnings\n",
      "  warnings.warn(\n"
     ]
    },
    {
     "name": "stdout",
     "output_type": "stream",
     "text": [
      "https://exhibitors.gitex.com/gitex-global-2023/Exhibitor/ExbDetails/NTAz\n"
     ]
    },
    {
     "name": "stderr",
     "output_type": "stream",
     "text": [
      "C:\\Users\\saira\\anaconda3\\Lib\\site-packages\\urllib3\\connectionpool.py:1056: InsecureRequestWarning: Unverified HTTPS request is being made to host 'exhibitors.gitex.com'. Adding certificate verification is strongly advised. See: https://urllib3.readthedocs.io/en/1.26.x/advanced-usage.html#ssl-warnings\n",
      "  warnings.warn(\n"
     ]
    },
    {
     "name": "stdout",
     "output_type": "stream",
     "text": [
      "https://exhibitors.gitex.com/gitex-global-2023/Exhibitor/ExbDetails/NDYx\n"
     ]
    },
    {
     "name": "stderr",
     "output_type": "stream",
     "text": [
      "C:\\Users\\saira\\anaconda3\\Lib\\site-packages\\urllib3\\connectionpool.py:1056: InsecureRequestWarning: Unverified HTTPS request is being made to host 'exhibitors.gitex.com'. Adding certificate verification is strongly advised. See: https://urllib3.readthedocs.io/en/1.26.x/advanced-usage.html#ssl-warnings\n",
      "  warnings.warn(\n"
     ]
    },
    {
     "name": "stdout",
     "output_type": "stream",
     "text": [
      "https://exhibitors.gitex.com/gitex-global-2023/Exhibitor/ExbDetails/MTQxMw==\n"
     ]
    },
    {
     "name": "stderr",
     "output_type": "stream",
     "text": [
      "C:\\Users\\saira\\anaconda3\\Lib\\site-packages\\urllib3\\connectionpool.py:1056: InsecureRequestWarning: Unverified HTTPS request is being made to host 'exhibitors.gitex.com'. Adding certificate verification is strongly advised. See: https://urllib3.readthedocs.io/en/1.26.x/advanced-usage.html#ssl-warnings\n",
      "  warnings.warn(\n"
     ]
    },
    {
     "name": "stdout",
     "output_type": "stream",
     "text": [
      "https://exhibitors.gitex.com/gitex-global-2023/Exhibitor/ExbDetails/NjU4\n"
     ]
    },
    {
     "name": "stderr",
     "output_type": "stream",
     "text": [
      "C:\\Users\\saira\\anaconda3\\Lib\\site-packages\\urllib3\\connectionpool.py:1056: InsecureRequestWarning: Unverified HTTPS request is being made to host 'exhibitors.gitex.com'. Adding certificate verification is strongly advised. See: https://urllib3.readthedocs.io/en/1.26.x/advanced-usage.html#ssl-warnings\n",
      "  warnings.warn(\n"
     ]
    },
    {
     "name": "stdout",
     "output_type": "stream",
     "text": [
      "https://exhibitors.gitex.com/gitex-global-2023/Exhibitor/ExbDetails/MTM4OA==\n"
     ]
    },
    {
     "name": "stderr",
     "output_type": "stream",
     "text": [
      "C:\\Users\\saira\\anaconda3\\Lib\\site-packages\\urllib3\\connectionpool.py:1056: InsecureRequestWarning: Unverified HTTPS request is being made to host 'exhibitors.gitex.com'. Adding certificate verification is strongly advised. See: https://urllib3.readthedocs.io/en/1.26.x/advanced-usage.html#ssl-warnings\n",
      "  warnings.warn(\n"
     ]
    },
    {
     "name": "stdout",
     "output_type": "stream",
     "text": [
      "https://exhibitors.gitex.com/gitex-global-2023/Exhibitor/ExbDetails/NDI4\n"
     ]
    },
    {
     "name": "stderr",
     "output_type": "stream",
     "text": [
      "C:\\Users\\saira\\anaconda3\\Lib\\site-packages\\urllib3\\connectionpool.py:1056: InsecureRequestWarning: Unverified HTTPS request is being made to host 'exhibitors.gitex.com'. Adding certificate verification is strongly advised. See: https://urllib3.readthedocs.io/en/1.26.x/advanced-usage.html#ssl-warnings\n",
      "  warnings.warn(\n"
     ]
    },
    {
     "name": "stdout",
     "output_type": "stream",
     "text": [
      "https://exhibitors.gitex.com/gitex-global-2023/Exhibitor/ExbDetails/MTU1NA==\n"
     ]
    },
    {
     "name": "stderr",
     "output_type": "stream",
     "text": [
      "C:\\Users\\saira\\anaconda3\\Lib\\site-packages\\urllib3\\connectionpool.py:1056: InsecureRequestWarning: Unverified HTTPS request is being made to host 'exhibitors.gitex.com'. Adding certificate verification is strongly advised. See: https://urllib3.readthedocs.io/en/1.26.x/advanced-usage.html#ssl-warnings\n",
      "  warnings.warn(\n"
     ]
    },
    {
     "name": "stdout",
     "output_type": "stream",
     "text": [
      "https://exhibitors.gitex.com/gitex-global-2023/Exhibitor/ExbDetails/NTM1\n"
     ]
    },
    {
     "name": "stderr",
     "output_type": "stream",
     "text": [
      "C:\\Users\\saira\\anaconda3\\Lib\\site-packages\\urllib3\\connectionpool.py:1056: InsecureRequestWarning: Unverified HTTPS request is being made to host 'exhibitors.gitex.com'. Adding certificate verification is strongly advised. See: https://urllib3.readthedocs.io/en/1.26.x/advanced-usage.html#ssl-warnings\n",
      "  warnings.warn(\n"
     ]
    },
    {
     "name": "stdout",
     "output_type": "stream",
     "text": [
      "https://exhibitors.gitex.com/gitex-global-2023/Exhibitor/ExbDetails/NjM3\n"
     ]
    },
    {
     "name": "stderr",
     "output_type": "stream",
     "text": [
      "C:\\Users\\saira\\anaconda3\\Lib\\site-packages\\urllib3\\connectionpool.py:1056: InsecureRequestWarning: Unverified HTTPS request is being made to host 'exhibitors.gitex.com'. Adding certificate verification is strongly advised. See: https://urllib3.readthedocs.io/en/1.26.x/advanced-usage.html#ssl-warnings\n",
      "  warnings.warn(\n"
     ]
    },
    {
     "name": "stdout",
     "output_type": "stream",
     "text": [
      "https://exhibitors.gitex.com/gitex-global-2023/Exhibitor/ExbDetails/MTA0MQ==\n"
     ]
    },
    {
     "name": "stderr",
     "output_type": "stream",
     "text": [
      "C:\\Users\\saira\\anaconda3\\Lib\\site-packages\\urllib3\\connectionpool.py:1056: InsecureRequestWarning: Unverified HTTPS request is being made to host 'exhibitors.gitex.com'. Adding certificate verification is strongly advised. See: https://urllib3.readthedocs.io/en/1.26.x/advanced-usage.html#ssl-warnings\n",
      "  warnings.warn(\n"
     ]
    },
    {
     "name": "stdout",
     "output_type": "stream",
     "text": [
      "https://exhibitors.gitex.com/gitex-global-2023/Exhibitor/ExbDetails/MTQ4Nw==\n"
     ]
    },
    {
     "name": "stderr",
     "output_type": "stream",
     "text": [
      "C:\\Users\\saira\\anaconda3\\Lib\\site-packages\\urllib3\\connectionpool.py:1056: InsecureRequestWarning: Unverified HTTPS request is being made to host 'exhibitors.gitex.com'. Adding certificate verification is strongly advised. See: https://urllib3.readthedocs.io/en/1.26.x/advanced-usage.html#ssl-warnings\n",
      "  warnings.warn(\n"
     ]
    },
    {
     "name": "stdout",
     "output_type": "stream",
     "text": [
      "https://exhibitors.gitex.com/gitex-global-2023/Exhibitor/ExbDetails/NDk5\n"
     ]
    },
    {
     "name": "stderr",
     "output_type": "stream",
     "text": [
      "C:\\Users\\saira\\anaconda3\\Lib\\site-packages\\urllib3\\connectionpool.py:1056: InsecureRequestWarning: Unverified HTTPS request is being made to host 'exhibitors.gitex.com'. Adding certificate verification is strongly advised. See: https://urllib3.readthedocs.io/en/1.26.x/advanced-usage.html#ssl-warnings\n",
      "  warnings.warn(\n"
     ]
    },
    {
     "name": "stdout",
     "output_type": "stream",
     "text": [
      "https://exhibitors.gitex.com/gitex-global-2023/Exhibitor/ExbDetails/MjgzOA==\n"
     ]
    },
    {
     "name": "stderr",
     "output_type": "stream",
     "text": [
      "C:\\Users\\saira\\anaconda3\\Lib\\site-packages\\urllib3\\connectionpool.py:1056: InsecureRequestWarning: Unverified HTTPS request is being made to host 'exhibitors.gitex.com'. Adding certificate verification is strongly advised. See: https://urllib3.readthedocs.io/en/1.26.x/advanced-usage.html#ssl-warnings\n",
      "  warnings.warn(\n"
     ]
    },
    {
     "name": "stdout",
     "output_type": "stream",
     "text": [
      "https://exhibitors.gitex.com/gitex-global-2023/Exhibitor/ExbDetails/OTQ3\n"
     ]
    },
    {
     "name": "stderr",
     "output_type": "stream",
     "text": [
      "C:\\Users\\saira\\anaconda3\\Lib\\site-packages\\urllib3\\connectionpool.py:1056: InsecureRequestWarning: Unverified HTTPS request is being made to host 'exhibitors.gitex.com'. Adding certificate verification is strongly advised. See: https://urllib3.readthedocs.io/en/1.26.x/advanced-usage.html#ssl-warnings\n",
      "  warnings.warn(\n"
     ]
    },
    {
     "name": "stdout",
     "output_type": "stream",
     "text": [
      "https://exhibitors.gitex.com/gitex-global-2023/Exhibitor/ExbDetails/MTEzMQ==\n"
     ]
    },
    {
     "name": "stderr",
     "output_type": "stream",
     "text": [
      "C:\\Users\\saira\\anaconda3\\Lib\\site-packages\\urllib3\\connectionpool.py:1056: InsecureRequestWarning: Unverified HTTPS request is being made to host 'exhibitors.gitex.com'. Adding certificate verification is strongly advised. See: https://urllib3.readthedocs.io/en/1.26.x/advanced-usage.html#ssl-warnings\n",
      "  warnings.warn(\n"
     ]
    },
    {
     "name": "stdout",
     "output_type": "stream",
     "text": [
      "https://exhibitors.gitex.com/gitex-global-2023/Exhibitor/ExbDetails/Mjg5NQ==\n"
     ]
    },
    {
     "name": "stderr",
     "output_type": "stream",
     "text": [
      "C:\\Users\\saira\\anaconda3\\Lib\\site-packages\\urllib3\\connectionpool.py:1056: InsecureRequestWarning: Unverified HTTPS request is being made to host 'exhibitors.gitex.com'. Adding certificate verification is strongly advised. See: https://urllib3.readthedocs.io/en/1.26.x/advanced-usage.html#ssl-warnings\n",
      "  warnings.warn(\n"
     ]
    },
    {
     "name": "stdout",
     "output_type": "stream",
     "text": [
      "https://exhibitors.gitex.com/gitex-global-2023/Exhibitor/ExbDetails/Mjg5MA==\n"
     ]
    },
    {
     "name": "stderr",
     "output_type": "stream",
     "text": [
      "C:\\Users\\saira\\anaconda3\\Lib\\site-packages\\urllib3\\connectionpool.py:1056: InsecureRequestWarning: Unverified HTTPS request is being made to host 'exhibitors.gitex.com'. Adding certificate verification is strongly advised. See: https://urllib3.readthedocs.io/en/1.26.x/advanced-usage.html#ssl-warnings\n",
      "  warnings.warn(\n"
     ]
    },
    {
     "name": "stdout",
     "output_type": "stream",
     "text": [
      "https://exhibitors.gitex.com/gitex-global-2023/Exhibitor/ExbDetails/MjU3MA==\n"
     ]
    },
    {
     "name": "stderr",
     "output_type": "stream",
     "text": [
      "C:\\Users\\saira\\anaconda3\\Lib\\site-packages\\urllib3\\connectionpool.py:1056: InsecureRequestWarning: Unverified HTTPS request is being made to host 'exhibitors.gitex.com'. Adding certificate verification is strongly advised. See: https://urllib3.readthedocs.io/en/1.26.x/advanced-usage.html#ssl-warnings\n",
      "  warnings.warn(\n"
     ]
    },
    {
     "name": "stdout",
     "output_type": "stream",
     "text": [
      "https://exhibitors.gitex.com/gitex-global-2023/Exhibitor/ExbDetails/MTkyNA==\n"
     ]
    },
    {
     "name": "stderr",
     "output_type": "stream",
     "text": [
      "C:\\Users\\saira\\anaconda3\\Lib\\site-packages\\urllib3\\connectionpool.py:1056: InsecureRequestWarning: Unverified HTTPS request is being made to host 'exhibitors.gitex.com'. Adding certificate verification is strongly advised. See: https://urllib3.readthedocs.io/en/1.26.x/advanced-usage.html#ssl-warnings\n",
      "  warnings.warn(\n"
     ]
    },
    {
     "name": "stdout",
     "output_type": "stream",
     "text": [
      "https://exhibitors.gitex.com/gitex-global-2023/Exhibitor/ExbDetails/MTQ3MA==\n"
     ]
    },
    {
     "name": "stderr",
     "output_type": "stream",
     "text": [
      "C:\\Users\\saira\\anaconda3\\Lib\\site-packages\\urllib3\\connectionpool.py:1056: InsecureRequestWarning: Unverified HTTPS request is being made to host 'exhibitors.gitex.com'. Adding certificate verification is strongly advised. See: https://urllib3.readthedocs.io/en/1.26.x/advanced-usage.html#ssl-warnings\n",
      "  warnings.warn(\n"
     ]
    },
    {
     "name": "stdout",
     "output_type": "stream",
     "text": [
      "https://exhibitors.gitex.com/gitex-global-2023/Exhibitor/ExbDetails/MTQ0Nw==\n"
     ]
    },
    {
     "name": "stderr",
     "output_type": "stream",
     "text": [
      "C:\\Users\\saira\\anaconda3\\Lib\\site-packages\\urllib3\\connectionpool.py:1056: InsecureRequestWarning: Unverified HTTPS request is being made to host 'exhibitors.gitex.com'. Adding certificate verification is strongly advised. See: https://urllib3.readthedocs.io/en/1.26.x/advanced-usage.html#ssl-warnings\n",
      "  warnings.warn(\n"
     ]
    },
    {
     "name": "stdout",
     "output_type": "stream",
     "text": [
      "https://exhibitors.gitex.com/gitex-global-2023/Exhibitor/ExbDetails/MTQ3Ng==\n"
     ]
    },
    {
     "name": "stderr",
     "output_type": "stream",
     "text": [
      "C:\\Users\\saira\\anaconda3\\Lib\\site-packages\\urllib3\\connectionpool.py:1056: InsecureRequestWarning: Unverified HTTPS request is being made to host 'exhibitors.gitex.com'. Adding certificate verification is strongly advised. See: https://urllib3.readthedocs.io/en/1.26.x/advanced-usage.html#ssl-warnings\n",
      "  warnings.warn(\n"
     ]
    },
    {
     "name": "stdout",
     "output_type": "stream",
     "text": [
      "https://exhibitors.gitex.com/gitex-global-2023/Exhibitor/ExbDetails/MTM5NQ==\n"
     ]
    },
    {
     "name": "stderr",
     "output_type": "stream",
     "text": [
      "C:\\Users\\saira\\anaconda3\\Lib\\site-packages\\urllib3\\connectionpool.py:1056: InsecureRequestWarning: Unverified HTTPS request is being made to host 'exhibitors.gitex.com'. Adding certificate verification is strongly advised. See: https://urllib3.readthedocs.io/en/1.26.x/advanced-usage.html#ssl-warnings\n",
      "  warnings.warn(\n"
     ]
    },
    {
     "name": "stdout",
     "output_type": "stream",
     "text": [
      "https://exhibitors.gitex.com/gitex-global-2023/Exhibitor/ExbDetails/MTg3MA==\n"
     ]
    },
    {
     "name": "stderr",
     "output_type": "stream",
     "text": [
      "C:\\Users\\saira\\anaconda3\\Lib\\site-packages\\urllib3\\connectionpool.py:1056: InsecureRequestWarning: Unverified HTTPS request is being made to host 'exhibitors.gitex.com'. Adding certificate verification is strongly advised. See: https://urllib3.readthedocs.io/en/1.26.x/advanced-usage.html#ssl-warnings\n",
      "  warnings.warn(\n"
     ]
    },
    {
     "name": "stdout",
     "output_type": "stream",
     "text": [
      "https://exhibitors.gitex.com/gitex-global-2023/Exhibitor/ExbDetails/NTU4\n"
     ]
    },
    {
     "name": "stderr",
     "output_type": "stream",
     "text": [
      "C:\\Users\\saira\\anaconda3\\Lib\\site-packages\\urllib3\\connectionpool.py:1056: InsecureRequestWarning: Unverified HTTPS request is being made to host 'exhibitors.gitex.com'. Adding certificate verification is strongly advised. See: https://urllib3.readthedocs.io/en/1.26.x/advanced-usage.html#ssl-warnings\n",
      "  warnings.warn(\n"
     ]
    },
    {
     "name": "stdout",
     "output_type": "stream",
     "text": [
      "https://exhibitors.gitex.com/gitex-global-2023/Exhibitor/ExbDetails/MTU4Ng==\n"
     ]
    },
    {
     "name": "stderr",
     "output_type": "stream",
     "text": [
      "C:\\Users\\saira\\anaconda3\\Lib\\site-packages\\urllib3\\connectionpool.py:1056: InsecureRequestWarning: Unverified HTTPS request is being made to host 'exhibitors.gitex.com'. Adding certificate verification is strongly advised. See: https://urllib3.readthedocs.io/en/1.26.x/advanced-usage.html#ssl-warnings\n",
      "  warnings.warn(\n"
     ]
    },
    {
     "name": "stdout",
     "output_type": "stream",
     "text": [
      "https://exhibitors.gitex.com/gitex-global-2023/Exhibitor/ExbDetails/MTkxMA==\n"
     ]
    },
    {
     "name": "stderr",
     "output_type": "stream",
     "text": [
      "C:\\Users\\saira\\anaconda3\\Lib\\site-packages\\urllib3\\connectionpool.py:1056: InsecureRequestWarning: Unverified HTTPS request is being made to host 'exhibitors.gitex.com'. Adding certificate verification is strongly advised. See: https://urllib3.readthedocs.io/en/1.26.x/advanced-usage.html#ssl-warnings\n",
      "  warnings.warn(\n"
     ]
    },
    {
     "name": "stdout",
     "output_type": "stream",
     "text": [
      "https://exhibitors.gitex.com/gitex-global-2023/Exhibitor/ExbDetails/OTQz\n"
     ]
    },
    {
     "name": "stderr",
     "output_type": "stream",
     "text": [
      "C:\\Users\\saira\\anaconda3\\Lib\\site-packages\\urllib3\\connectionpool.py:1056: InsecureRequestWarning: Unverified HTTPS request is being made to host 'exhibitors.gitex.com'. Adding certificate verification is strongly advised. See: https://urllib3.readthedocs.io/en/1.26.x/advanced-usage.html#ssl-warnings\n",
      "  warnings.warn(\n"
     ]
    },
    {
     "name": "stdout",
     "output_type": "stream",
     "text": [
      "https://exhibitors.gitex.com/gitex-global-2023/Exhibitor/ExbDetails/NDI3\n"
     ]
    },
    {
     "name": "stderr",
     "output_type": "stream",
     "text": [
      "C:\\Users\\saira\\anaconda3\\Lib\\site-packages\\urllib3\\connectionpool.py:1056: InsecureRequestWarning: Unverified HTTPS request is being made to host 'exhibitors.gitex.com'. Adding certificate verification is strongly advised. See: https://urllib3.readthedocs.io/en/1.26.x/advanced-usage.html#ssl-warnings\n",
      "  warnings.warn(\n"
     ]
    },
    {
     "name": "stdout",
     "output_type": "stream",
     "text": [
      "https://exhibitors.gitex.com/gitex-global-2023/Exhibitor/ExbDetails/MTkyMw==\n"
     ]
    },
    {
     "name": "stderr",
     "output_type": "stream",
     "text": [
      "C:\\Users\\saira\\anaconda3\\Lib\\site-packages\\urllib3\\connectionpool.py:1056: InsecureRequestWarning: Unverified HTTPS request is being made to host 'exhibitors.gitex.com'. Adding certificate verification is strongly advised. See: https://urllib3.readthedocs.io/en/1.26.x/advanced-usage.html#ssl-warnings\n",
      "  warnings.warn(\n"
     ]
    },
    {
     "name": "stdout",
     "output_type": "stream",
     "text": [
      "https://exhibitors.gitex.com/gitex-global-2023/Exhibitor/ExbDetails/MTAyNA==\n"
     ]
    },
    {
     "name": "stderr",
     "output_type": "stream",
     "text": [
      "C:\\Users\\saira\\anaconda3\\Lib\\site-packages\\urllib3\\connectionpool.py:1056: InsecureRequestWarning: Unverified HTTPS request is being made to host 'exhibitors.gitex.com'. Adding certificate verification is strongly advised. See: https://urllib3.readthedocs.io/en/1.26.x/advanced-usage.html#ssl-warnings\n",
      "  warnings.warn(\n"
     ]
    },
    {
     "name": "stdout",
     "output_type": "stream",
     "text": [
      "https://exhibitors.gitex.com/gitex-global-2023/Exhibitor/ExbDetails/MTUzMg==\n"
     ]
    },
    {
     "name": "stderr",
     "output_type": "stream",
     "text": [
      "C:\\Users\\saira\\anaconda3\\Lib\\site-packages\\urllib3\\connectionpool.py:1056: InsecureRequestWarning: Unverified HTTPS request is being made to host 'exhibitors.gitex.com'. Adding certificate verification is strongly advised. See: https://urllib3.readthedocs.io/en/1.26.x/advanced-usage.html#ssl-warnings\n",
      "  warnings.warn(\n"
     ]
    },
    {
     "name": "stdout",
     "output_type": "stream",
     "text": [
      "https://exhibitors.gitex.com/gitex-global-2023/Exhibitor/ExbDetails/MTE0NQ==\n"
     ]
    },
    {
     "name": "stderr",
     "output_type": "stream",
     "text": [
      "C:\\Users\\saira\\anaconda3\\Lib\\site-packages\\urllib3\\connectionpool.py:1056: InsecureRequestWarning: Unverified HTTPS request is being made to host 'exhibitors.gitex.com'. Adding certificate verification is strongly advised. See: https://urllib3.readthedocs.io/en/1.26.x/advanced-usage.html#ssl-warnings\n",
      "  warnings.warn(\n"
     ]
    },
    {
     "name": "stdout",
     "output_type": "stream",
     "text": [
      "https://exhibitors.gitex.com/gitex-global-2023/Exhibitor/ExbDetails/NjA3\n"
     ]
    },
    {
     "name": "stderr",
     "output_type": "stream",
     "text": [
      "C:\\Users\\saira\\anaconda3\\Lib\\site-packages\\urllib3\\connectionpool.py:1056: InsecureRequestWarning: Unverified HTTPS request is being made to host 'exhibitors.gitex.com'. Adding certificate verification is strongly advised. See: https://urllib3.readthedocs.io/en/1.26.x/advanced-usage.html#ssl-warnings\n",
      "  warnings.warn(\n"
     ]
    },
    {
     "name": "stdout",
     "output_type": "stream",
     "text": [
      "https://exhibitors.gitex.com/gitex-global-2023/Exhibitor/ExbDetails/MTQ2NA==\n"
     ]
    },
    {
     "name": "stderr",
     "output_type": "stream",
     "text": [
      "C:\\Users\\saira\\anaconda3\\Lib\\site-packages\\urllib3\\connectionpool.py:1056: InsecureRequestWarning: Unverified HTTPS request is being made to host 'exhibitors.gitex.com'. Adding certificate verification is strongly advised. See: https://urllib3.readthedocs.io/en/1.26.x/advanced-usage.html#ssl-warnings\n",
      "  warnings.warn(\n"
     ]
    },
    {
     "name": "stdout",
     "output_type": "stream",
     "text": [
      "https://exhibitors.gitex.com/gitex-global-2023/Exhibitor/ExbDetails/Mjc2Nw==\n"
     ]
    },
    {
     "name": "stderr",
     "output_type": "stream",
     "text": [
      "C:\\Users\\saira\\anaconda3\\Lib\\site-packages\\urllib3\\connectionpool.py:1056: InsecureRequestWarning: Unverified HTTPS request is being made to host 'exhibitors.gitex.com'. Adding certificate verification is strongly advised. See: https://urllib3.readthedocs.io/en/1.26.x/advanced-usage.html#ssl-warnings\n",
      "  warnings.warn(\n"
     ]
    },
    {
     "name": "stdout",
     "output_type": "stream",
     "text": [
      "https://exhibitors.gitex.com/gitex-global-2023/Exhibitor/ExbDetails/MTcwNQ==\n"
     ]
    },
    {
     "name": "stderr",
     "output_type": "stream",
     "text": [
      "C:\\Users\\saira\\anaconda3\\Lib\\site-packages\\urllib3\\connectionpool.py:1056: InsecureRequestWarning: Unverified HTTPS request is being made to host 'exhibitors.gitex.com'. Adding certificate verification is strongly advised. See: https://urllib3.readthedocs.io/en/1.26.x/advanced-usage.html#ssl-warnings\n",
      "  warnings.warn(\n"
     ]
    },
    {
     "name": "stdout",
     "output_type": "stream",
     "text": [
      "https://exhibitors.gitex.com/gitex-global-2023/Exhibitor/ExbDetails/MTY4OA==\n"
     ]
    },
    {
     "name": "stderr",
     "output_type": "stream",
     "text": [
      "C:\\Users\\saira\\anaconda3\\Lib\\site-packages\\urllib3\\connectionpool.py:1056: InsecureRequestWarning: Unverified HTTPS request is being made to host 'exhibitors.gitex.com'. Adding certificate verification is strongly advised. See: https://urllib3.readthedocs.io/en/1.26.x/advanced-usage.html#ssl-warnings\n",
      "  warnings.warn(\n"
     ]
    },
    {
     "name": "stdout",
     "output_type": "stream",
     "text": [
      "https://exhibitors.gitex.com/gitex-global-2023/Exhibitor/ExbDetails/NDkx\n"
     ]
    },
    {
     "name": "stderr",
     "output_type": "stream",
     "text": [
      "C:\\Users\\saira\\anaconda3\\Lib\\site-packages\\urllib3\\connectionpool.py:1056: InsecureRequestWarning: Unverified HTTPS request is being made to host 'exhibitors.gitex.com'. Adding certificate verification is strongly advised. See: https://urllib3.readthedocs.io/en/1.26.x/advanced-usage.html#ssl-warnings\n",
      "  warnings.warn(\n"
     ]
    },
    {
     "name": "stdout",
     "output_type": "stream",
     "text": [
      "https://exhibitors.gitex.com/gitex-global-2023/Exhibitor/ExbDetails/MTg3NQ==\n"
     ]
    },
    {
     "name": "stderr",
     "output_type": "stream",
     "text": [
      "C:\\Users\\saira\\anaconda3\\Lib\\site-packages\\urllib3\\connectionpool.py:1056: InsecureRequestWarning: Unverified HTTPS request is being made to host 'exhibitors.gitex.com'. Adding certificate verification is strongly advised. See: https://urllib3.readthedocs.io/en/1.26.x/advanced-usage.html#ssl-warnings\n",
      "  warnings.warn(\n"
     ]
    },
    {
     "name": "stdout",
     "output_type": "stream",
     "text": [
      "https://exhibitors.gitex.com/gitex-global-2023/Exhibitor/ExbDetails/OTMx\n"
     ]
    },
    {
     "name": "stderr",
     "output_type": "stream",
     "text": [
      "C:\\Users\\saira\\anaconda3\\Lib\\site-packages\\urllib3\\connectionpool.py:1056: InsecureRequestWarning: Unverified HTTPS request is being made to host 'exhibitors.gitex.com'. Adding certificate verification is strongly advised. See: https://urllib3.readthedocs.io/en/1.26.x/advanced-usage.html#ssl-warnings\n",
      "  warnings.warn(\n"
     ]
    },
    {
     "name": "stdout",
     "output_type": "stream",
     "text": [
      "https://exhibitors.gitex.com/gitex-global-2023/Exhibitor/ExbDetails/MjkzNA==\n"
     ]
    },
    {
     "name": "stderr",
     "output_type": "stream",
     "text": [
      "C:\\Users\\saira\\anaconda3\\Lib\\site-packages\\urllib3\\connectionpool.py:1056: InsecureRequestWarning: Unverified HTTPS request is being made to host 'exhibitors.gitex.com'. Adding certificate verification is strongly advised. See: https://urllib3.readthedocs.io/en/1.26.x/advanced-usage.html#ssl-warnings\n",
      "  warnings.warn(\n"
     ]
    },
    {
     "name": "stdout",
     "output_type": "stream",
     "text": [
      "https://exhibitors.gitex.com/gitex-global-2023/Exhibitor/ExbDetails/OTU5\n"
     ]
    },
    {
     "name": "stderr",
     "output_type": "stream",
     "text": [
      "C:\\Users\\saira\\anaconda3\\Lib\\site-packages\\urllib3\\connectionpool.py:1056: InsecureRequestWarning: Unverified HTTPS request is being made to host 'exhibitors.gitex.com'. Adding certificate verification is strongly advised. See: https://urllib3.readthedocs.io/en/1.26.x/advanced-usage.html#ssl-warnings\n",
      "  warnings.warn(\n"
     ]
    },
    {
     "name": "stdout",
     "output_type": "stream",
     "text": [
      "https://exhibitors.gitex.com/gitex-global-2023/Exhibitor/ExbDetails/MTY4Nw==\n"
     ]
    },
    {
     "name": "stderr",
     "output_type": "stream",
     "text": [
      "C:\\Users\\saira\\anaconda3\\Lib\\site-packages\\urllib3\\connectionpool.py:1056: InsecureRequestWarning: Unverified HTTPS request is being made to host 'exhibitors.gitex.com'. Adding certificate verification is strongly advised. See: https://urllib3.readthedocs.io/en/1.26.x/advanced-usage.html#ssl-warnings\n",
      "  warnings.warn(\n"
     ]
    },
    {
     "name": "stdout",
     "output_type": "stream",
     "text": [
      "https://exhibitors.gitex.com/gitex-global-2023/Exhibitor/ExbDetails/MTUzMQ==\n"
     ]
    },
    {
     "name": "stderr",
     "output_type": "stream",
     "text": [
      "C:\\Users\\saira\\anaconda3\\Lib\\site-packages\\urllib3\\connectionpool.py:1056: InsecureRequestWarning: Unverified HTTPS request is being made to host 'exhibitors.gitex.com'. Adding certificate verification is strongly advised. See: https://urllib3.readthedocs.io/en/1.26.x/advanced-usage.html#ssl-warnings\n",
      "  warnings.warn(\n"
     ]
    },
    {
     "name": "stdout",
     "output_type": "stream",
     "text": [
      "https://exhibitors.gitex.com/gitex-global-2023/Exhibitor/ExbDetails/NTMz\n"
     ]
    },
    {
     "name": "stderr",
     "output_type": "stream",
     "text": [
      "C:\\Users\\saira\\anaconda3\\Lib\\site-packages\\urllib3\\connectionpool.py:1056: InsecureRequestWarning: Unverified HTTPS request is being made to host 'exhibitors.gitex.com'. Adding certificate verification is strongly advised. See: https://urllib3.readthedocs.io/en/1.26.x/advanced-usage.html#ssl-warnings\n",
      "  warnings.warn(\n"
     ]
    },
    {
     "name": "stdout",
     "output_type": "stream",
     "text": [
      "https://exhibitors.gitex.com/gitex-global-2023/Exhibitor/ExbDetails/MTU1Nw==\n"
     ]
    },
    {
     "name": "stderr",
     "output_type": "stream",
     "text": [
      "C:\\Users\\saira\\anaconda3\\Lib\\site-packages\\urllib3\\connectionpool.py:1056: InsecureRequestWarning: Unverified HTTPS request is being made to host 'exhibitors.gitex.com'. Adding certificate verification is strongly advised. See: https://urllib3.readthedocs.io/en/1.26.x/advanced-usage.html#ssl-warnings\n",
      "  warnings.warn(\n"
     ]
    },
    {
     "name": "stdout",
     "output_type": "stream",
     "text": [
      "https://exhibitors.gitex.com/gitex-global-2023/Exhibitor/ExbDetails/NDcx\n"
     ]
    },
    {
     "name": "stderr",
     "output_type": "stream",
     "text": [
      "C:\\Users\\saira\\anaconda3\\Lib\\site-packages\\urllib3\\connectionpool.py:1056: InsecureRequestWarning: Unverified HTTPS request is being made to host 'exhibitors.gitex.com'. Adding certificate verification is strongly advised. See: https://urllib3.readthedocs.io/en/1.26.x/advanced-usage.html#ssl-warnings\n",
      "  warnings.warn(\n"
     ]
    },
    {
     "name": "stdout",
     "output_type": "stream",
     "text": [
      "https://exhibitors.gitex.com/gitex-global-2023/Exhibitor/ExbDetails/OTU0\n"
     ]
    },
    {
     "name": "stderr",
     "output_type": "stream",
     "text": [
      "C:\\Users\\saira\\anaconda3\\Lib\\site-packages\\urllib3\\connectionpool.py:1056: InsecureRequestWarning: Unverified HTTPS request is being made to host 'exhibitors.gitex.com'. Adding certificate verification is strongly advised. See: https://urllib3.readthedocs.io/en/1.26.x/advanced-usage.html#ssl-warnings\n",
      "  warnings.warn(\n"
     ]
    },
    {
     "name": "stdout",
     "output_type": "stream",
     "text": [
      "https://exhibitors.gitex.com/gitex-global-2023/Exhibitor/ExbDetails/Njgx\n"
     ]
    },
    {
     "name": "stderr",
     "output_type": "stream",
     "text": [
      "C:\\Users\\saira\\anaconda3\\Lib\\site-packages\\urllib3\\connectionpool.py:1056: InsecureRequestWarning: Unverified HTTPS request is being made to host 'exhibitors.gitex.com'. Adding certificate verification is strongly advised. See: https://urllib3.readthedocs.io/en/1.26.x/advanced-usage.html#ssl-warnings\n",
      "  warnings.warn(\n"
     ]
    },
    {
     "name": "stdout",
     "output_type": "stream",
     "text": [
      "https://exhibitors.gitex.com/gitex-global-2023/Exhibitor/ExbDetails/NTcy\n"
     ]
    },
    {
     "name": "stderr",
     "output_type": "stream",
     "text": [
      "C:\\Users\\saira\\anaconda3\\Lib\\site-packages\\urllib3\\connectionpool.py:1056: InsecureRequestWarning: Unverified HTTPS request is being made to host 'exhibitors.gitex.com'. Adding certificate verification is strongly advised. See: https://urllib3.readthedocs.io/en/1.26.x/advanced-usage.html#ssl-warnings\n",
      "  warnings.warn(\n"
     ]
    },
    {
     "name": "stdout",
     "output_type": "stream",
     "text": [
      "https://exhibitors.gitex.com/gitex-global-2023/Exhibitor/ExbDetails/MTA1MA==\n"
     ]
    },
    {
     "name": "stderr",
     "output_type": "stream",
     "text": [
      "C:\\Users\\saira\\anaconda3\\Lib\\site-packages\\urllib3\\connectionpool.py:1056: InsecureRequestWarning: Unverified HTTPS request is being made to host 'exhibitors.gitex.com'. Adding certificate verification is strongly advised. See: https://urllib3.readthedocs.io/en/1.26.x/advanced-usage.html#ssl-warnings\n",
      "  warnings.warn(\n"
     ]
    },
    {
     "name": "stdout",
     "output_type": "stream",
     "text": [
      "https://exhibitors.gitex.com/gitex-global-2023/Exhibitor/ExbDetails/MTA0MA==\n"
     ]
    },
    {
     "name": "stderr",
     "output_type": "stream",
     "text": [
      "C:\\Users\\saira\\anaconda3\\Lib\\site-packages\\urllib3\\connectionpool.py:1056: InsecureRequestWarning: Unverified HTTPS request is being made to host 'exhibitors.gitex.com'. Adding certificate verification is strongly advised. See: https://urllib3.readthedocs.io/en/1.26.x/advanced-usage.html#ssl-warnings\n",
      "  warnings.warn(\n"
     ]
    },
    {
     "name": "stdout",
     "output_type": "stream",
     "text": [
      "https://exhibitors.gitex.com/gitex-global-2023/Exhibitor/ExbDetails/NzIx\n"
     ]
    },
    {
     "name": "stderr",
     "output_type": "stream",
     "text": [
      "C:\\Users\\saira\\anaconda3\\Lib\\site-packages\\urllib3\\connectionpool.py:1056: InsecureRequestWarning: Unverified HTTPS request is being made to host 'exhibitors.gitex.com'. Adding certificate verification is strongly advised. See: https://urllib3.readthedocs.io/en/1.26.x/advanced-usage.html#ssl-warnings\n",
      "  warnings.warn(\n"
     ]
    },
    {
     "name": "stdout",
     "output_type": "stream",
     "text": [
      "https://exhibitors.gitex.com/gitex-global-2023/Exhibitor/ExbDetails/MTg1Nw==\n"
     ]
    },
    {
     "name": "stderr",
     "output_type": "stream",
     "text": [
      "C:\\Users\\saira\\anaconda3\\Lib\\site-packages\\urllib3\\connectionpool.py:1056: InsecureRequestWarning: Unverified HTTPS request is being made to host 'exhibitors.gitex.com'. Adding certificate verification is strongly advised. See: https://urllib3.readthedocs.io/en/1.26.x/advanced-usage.html#ssl-warnings\n",
      "  warnings.warn(\n"
     ]
    },
    {
     "name": "stdout",
     "output_type": "stream",
     "text": [
      "https://exhibitors.gitex.com/gitex-global-2023/Exhibitor/ExbDetails/NDUz\n"
     ]
    },
    {
     "name": "stderr",
     "output_type": "stream",
     "text": [
      "C:\\Users\\saira\\anaconda3\\Lib\\site-packages\\urllib3\\connectionpool.py:1056: InsecureRequestWarning: Unverified HTTPS request is being made to host 'exhibitors.gitex.com'. Adding certificate verification is strongly advised. See: https://urllib3.readthedocs.io/en/1.26.x/advanced-usage.html#ssl-warnings\n",
      "  warnings.warn(\n"
     ]
    },
    {
     "name": "stdout",
     "output_type": "stream",
     "text": [
      "https://exhibitors.gitex.com/gitex-global-2023/Exhibitor/ExbDetails/MTYxMw==\n"
     ]
    },
    {
     "name": "stderr",
     "output_type": "stream",
     "text": [
      "C:\\Users\\saira\\anaconda3\\Lib\\site-packages\\urllib3\\connectionpool.py:1056: InsecureRequestWarning: Unverified HTTPS request is being made to host 'exhibitors.gitex.com'. Adding certificate verification is strongly advised. See: https://urllib3.readthedocs.io/en/1.26.x/advanced-usage.html#ssl-warnings\n",
      "  warnings.warn(\n"
     ]
    },
    {
     "name": "stdout",
     "output_type": "stream",
     "text": [
      "https://exhibitors.gitex.com/gitex-global-2023/Exhibitor/ExbDetails/NjA4\n"
     ]
    },
    {
     "name": "stderr",
     "output_type": "stream",
     "text": [
      "C:\\Users\\saira\\anaconda3\\Lib\\site-packages\\urllib3\\connectionpool.py:1056: InsecureRequestWarning: Unverified HTTPS request is being made to host 'exhibitors.gitex.com'. Adding certificate verification is strongly advised. See: https://urllib3.readthedocs.io/en/1.26.x/advanced-usage.html#ssl-warnings\n",
      "  warnings.warn(\n"
     ]
    },
    {
     "name": "stdout",
     "output_type": "stream",
     "text": [
      "https://exhibitors.gitex.com/gitex-global-2023/Exhibitor/ExbDetails/NjEz\n"
     ]
    },
    {
     "name": "stderr",
     "output_type": "stream",
     "text": [
      "C:\\Users\\saira\\anaconda3\\Lib\\site-packages\\urllib3\\connectionpool.py:1056: InsecureRequestWarning: Unverified HTTPS request is being made to host 'exhibitors.gitex.com'. Adding certificate verification is strongly advised. See: https://urllib3.readthedocs.io/en/1.26.x/advanced-usage.html#ssl-warnings\n",
      "  warnings.warn(\n"
     ]
    },
    {
     "name": "stdout",
     "output_type": "stream",
     "text": [
      "https://exhibitors.gitex.com/gitex-global-2023/Exhibitor/ExbDetails/NDgy\n"
     ]
    },
    {
     "name": "stderr",
     "output_type": "stream",
     "text": [
      "C:\\Users\\saira\\anaconda3\\Lib\\site-packages\\urllib3\\connectionpool.py:1056: InsecureRequestWarning: Unverified HTTPS request is being made to host 'exhibitors.gitex.com'. Adding certificate verification is strongly advised. See: https://urllib3.readthedocs.io/en/1.26.x/advanced-usage.html#ssl-warnings\n",
      "  warnings.warn(\n"
     ]
    },
    {
     "name": "stdout",
     "output_type": "stream",
     "text": [
      "https://exhibitors.gitex.com/gitex-global-2023/Exhibitor/ExbDetails/MTY0NQ==\n"
     ]
    },
    {
     "name": "stderr",
     "output_type": "stream",
     "text": [
      "C:\\Users\\saira\\anaconda3\\Lib\\site-packages\\urllib3\\connectionpool.py:1056: InsecureRequestWarning: Unverified HTTPS request is being made to host 'exhibitors.gitex.com'. Adding certificate verification is strongly advised. See: https://urllib3.readthedocs.io/en/1.26.x/advanced-usage.html#ssl-warnings\n",
      "  warnings.warn(\n"
     ]
    },
    {
     "name": "stdout",
     "output_type": "stream",
     "text": [
      "https://exhibitors.gitex.com/gitex-global-2023/Exhibitor/ExbDetails/OTYz\n"
     ]
    },
    {
     "name": "stderr",
     "output_type": "stream",
     "text": [
      "C:\\Users\\saira\\anaconda3\\Lib\\site-packages\\urllib3\\connectionpool.py:1056: InsecureRequestWarning: Unverified HTTPS request is being made to host 'exhibitors.gitex.com'. Adding certificate verification is strongly advised. See: https://urllib3.readthedocs.io/en/1.26.x/advanced-usage.html#ssl-warnings\n",
      "  warnings.warn(\n"
     ]
    },
    {
     "name": "stdout",
     "output_type": "stream",
     "text": [
      "https://exhibitors.gitex.com/gitex-global-2023/Exhibitor/ExbDetails/MTA1Ng==\n"
     ]
    },
    {
     "name": "stderr",
     "output_type": "stream",
     "text": [
      "C:\\Users\\saira\\anaconda3\\Lib\\site-packages\\urllib3\\connectionpool.py:1056: InsecureRequestWarning: Unverified HTTPS request is being made to host 'exhibitors.gitex.com'. Adding certificate verification is strongly advised. See: https://urllib3.readthedocs.io/en/1.26.x/advanced-usage.html#ssl-warnings\n",
      "  warnings.warn(\n"
     ]
    },
    {
     "name": "stdout",
     "output_type": "stream",
     "text": [
      "https://exhibitors.gitex.com/gitex-global-2023/Exhibitor/ExbDetails/MTg1OA==\n"
     ]
    },
    {
     "name": "stderr",
     "output_type": "stream",
     "text": [
      "C:\\Users\\saira\\anaconda3\\Lib\\site-packages\\urllib3\\connectionpool.py:1056: InsecureRequestWarning: Unverified HTTPS request is being made to host 'exhibitors.gitex.com'. Adding certificate verification is strongly advised. See: https://urllib3.readthedocs.io/en/1.26.x/advanced-usage.html#ssl-warnings\n",
      "  warnings.warn(\n"
     ]
    },
    {
     "name": "stdout",
     "output_type": "stream",
     "text": [
      "https://exhibitors.gitex.com/gitex-global-2023/Exhibitor/ExbDetails/NzEz\n"
     ]
    },
    {
     "name": "stderr",
     "output_type": "stream",
     "text": [
      "C:\\Users\\saira\\anaconda3\\Lib\\site-packages\\urllib3\\connectionpool.py:1056: InsecureRequestWarning: Unverified HTTPS request is being made to host 'exhibitors.gitex.com'. Adding certificate verification is strongly advised. See: https://urllib3.readthedocs.io/en/1.26.x/advanced-usage.html#ssl-warnings\n",
      "  warnings.warn(\n"
     ]
    },
    {
     "name": "stdout",
     "output_type": "stream",
     "text": [
      "https://exhibitors.gitex.com/gitex-global-2023/Exhibitor/ExbDetails/MTM2Mg==\n"
     ]
    },
    {
     "name": "stderr",
     "output_type": "stream",
     "text": [
      "C:\\Users\\saira\\anaconda3\\Lib\\site-packages\\urllib3\\connectionpool.py:1056: InsecureRequestWarning: Unverified HTTPS request is being made to host 'exhibitors.gitex.com'. Adding certificate verification is strongly advised. See: https://urllib3.readthedocs.io/en/1.26.x/advanced-usage.html#ssl-warnings\n",
      "  warnings.warn(\n"
     ]
    },
    {
     "name": "stdout",
     "output_type": "stream",
     "text": [
      "https://exhibitors.gitex.com/gitex-global-2023/Exhibitor/ExbDetails/MTE0Mw==\n"
     ]
    },
    {
     "name": "stderr",
     "output_type": "stream",
     "text": [
      "C:\\Users\\saira\\anaconda3\\Lib\\site-packages\\urllib3\\connectionpool.py:1056: InsecureRequestWarning: Unverified HTTPS request is being made to host 'exhibitors.gitex.com'. Adding certificate verification is strongly advised. See: https://urllib3.readthedocs.io/en/1.26.x/advanced-usage.html#ssl-warnings\n",
      "  warnings.warn(\n"
     ]
    },
    {
     "name": "stdout",
     "output_type": "stream",
     "text": [
      "https://exhibitors.gitex.com/gitex-global-2023/Exhibitor/ExbDetails/MTYxMg==\n"
     ]
    },
    {
     "name": "stderr",
     "output_type": "stream",
     "text": [
      "C:\\Users\\saira\\anaconda3\\Lib\\site-packages\\urllib3\\connectionpool.py:1056: InsecureRequestWarning: Unverified HTTPS request is being made to host 'exhibitors.gitex.com'. Adding certificate verification is strongly advised. See: https://urllib3.readthedocs.io/en/1.26.x/advanced-usage.html#ssl-warnings\n",
      "  warnings.warn(\n"
     ]
    },
    {
     "name": "stdout",
     "output_type": "stream",
     "text": [
      "https://exhibitors.gitex.com/gitex-global-2023/Exhibitor/ExbDetails/MTg3NA==\n"
     ]
    },
    {
     "name": "stderr",
     "output_type": "stream",
     "text": [
      "C:\\Users\\saira\\anaconda3\\Lib\\site-packages\\urllib3\\connectionpool.py:1056: InsecureRequestWarning: Unverified HTTPS request is being made to host 'exhibitors.gitex.com'. Adding certificate verification is strongly advised. See: https://urllib3.readthedocs.io/en/1.26.x/advanced-usage.html#ssl-warnings\n",
      "  warnings.warn(\n"
     ]
    },
    {
     "name": "stdout",
     "output_type": "stream",
     "text": [
      "https://exhibitors.gitex.com/gitex-global-2023/Exhibitor/ExbDetails/MTA0OQ==\n"
     ]
    },
    {
     "name": "stderr",
     "output_type": "stream",
     "text": [
      "C:\\Users\\saira\\anaconda3\\Lib\\site-packages\\urllib3\\connectionpool.py:1056: InsecureRequestWarning: Unverified HTTPS request is being made to host 'exhibitors.gitex.com'. Adding certificate verification is strongly advised. See: https://urllib3.readthedocs.io/en/1.26.x/advanced-usage.html#ssl-warnings\n",
      "  warnings.warn(\n"
     ]
    },
    {
     "name": "stdout",
     "output_type": "stream",
     "text": [
      "https://exhibitors.gitex.com/gitex-global-2023/Exhibitor/ExbDetails/MTUwNA==\n"
     ]
    },
    {
     "name": "stderr",
     "output_type": "stream",
     "text": [
      "C:\\Users\\saira\\anaconda3\\Lib\\site-packages\\urllib3\\connectionpool.py:1056: InsecureRequestWarning: Unverified HTTPS request is being made to host 'exhibitors.gitex.com'. Adding certificate verification is strongly advised. See: https://urllib3.readthedocs.io/en/1.26.x/advanced-usage.html#ssl-warnings\n",
      "  warnings.warn(\n"
     ]
    },
    {
     "name": "stdout",
     "output_type": "stream",
     "text": [
      "https://exhibitors.gitex.com/gitex-global-2023/Exhibitor/ExbDetails/MjU5MA==\n"
     ]
    },
    {
     "name": "stderr",
     "output_type": "stream",
     "text": [
      "C:\\Users\\saira\\anaconda3\\Lib\\site-packages\\urllib3\\connectionpool.py:1056: InsecureRequestWarning: Unverified HTTPS request is being made to host 'exhibitors.gitex.com'. Adding certificate verification is strongly advised. See: https://urllib3.readthedocs.io/en/1.26.x/advanced-usage.html#ssl-warnings\n",
      "  warnings.warn(\n"
     ]
    },
    {
     "name": "stdout",
     "output_type": "stream",
     "text": [
      "https://exhibitors.gitex.com/gitex-global-2023/Exhibitor/ExbDetails/MTEwNQ==\n"
     ]
    },
    {
     "name": "stderr",
     "output_type": "stream",
     "text": [
      "C:\\Users\\saira\\anaconda3\\Lib\\site-packages\\urllib3\\connectionpool.py:1056: InsecureRequestWarning: Unverified HTTPS request is being made to host 'exhibitors.gitex.com'. Adding certificate verification is strongly advised. See: https://urllib3.readthedocs.io/en/1.26.x/advanced-usage.html#ssl-warnings\n",
      "  warnings.warn(\n"
     ]
    },
    {
     "name": "stdout",
     "output_type": "stream",
     "text": [
      "https://exhibitors.gitex.com/gitex-global-2023/Exhibitor/ExbDetails/MTY0NA==\n"
     ]
    },
    {
     "name": "stderr",
     "output_type": "stream",
     "text": [
      "C:\\Users\\saira\\anaconda3\\Lib\\site-packages\\urllib3\\connectionpool.py:1056: InsecureRequestWarning: Unverified HTTPS request is being made to host 'exhibitors.gitex.com'. Adding certificate verification is strongly advised. See: https://urllib3.readthedocs.io/en/1.26.x/advanced-usage.html#ssl-warnings\n",
      "  warnings.warn(\n"
     ]
    },
    {
     "name": "stdout",
     "output_type": "stream",
     "text": [
      "https://exhibitors.gitex.com/gitex-global-2023/Exhibitor/ExbDetails/MTcyMA==\n"
     ]
    },
    {
     "name": "stderr",
     "output_type": "stream",
     "text": [
      "C:\\Users\\saira\\anaconda3\\Lib\\site-packages\\urllib3\\connectionpool.py:1056: InsecureRequestWarning: Unverified HTTPS request is being made to host 'exhibitors.gitex.com'. Adding certificate verification is strongly advised. See: https://urllib3.readthedocs.io/en/1.26.x/advanced-usage.html#ssl-warnings\n",
      "  warnings.warn(\n"
     ]
    },
    {
     "name": "stdout",
     "output_type": "stream",
     "text": [
      "https://exhibitors.gitex.com/gitex-global-2023/Exhibitor/ExbDetails/MTQ5Mw==\n"
     ]
    },
    {
     "name": "stderr",
     "output_type": "stream",
     "text": [
      "C:\\Users\\saira\\anaconda3\\Lib\\site-packages\\urllib3\\connectionpool.py:1056: InsecureRequestWarning: Unverified HTTPS request is being made to host 'exhibitors.gitex.com'. Adding certificate verification is strongly advised. See: https://urllib3.readthedocs.io/en/1.26.x/advanced-usage.html#ssl-warnings\n",
      "  warnings.warn(\n"
     ]
    },
    {
     "name": "stdout",
     "output_type": "stream",
     "text": [
      "https://exhibitors.gitex.com/gitex-global-2023/Exhibitor/ExbDetails/MTUyNQ==\n"
     ]
    },
    {
     "name": "stderr",
     "output_type": "stream",
     "text": [
      "C:\\Users\\saira\\anaconda3\\Lib\\site-packages\\urllib3\\connectionpool.py:1056: InsecureRequestWarning: Unverified HTTPS request is being made to host 'exhibitors.gitex.com'. Adding certificate verification is strongly advised. See: https://urllib3.readthedocs.io/en/1.26.x/advanced-usage.html#ssl-warnings\n",
      "  warnings.warn(\n"
     ]
    },
    {
     "name": "stdout",
     "output_type": "stream",
     "text": [
      "https://exhibitors.gitex.com/gitex-global-2023/Exhibitor/ExbDetails/MTkyNg==\n"
     ]
    },
    {
     "name": "stderr",
     "output_type": "stream",
     "text": [
      "C:\\Users\\saira\\anaconda3\\Lib\\site-packages\\urllib3\\connectionpool.py:1056: InsecureRequestWarning: Unverified HTTPS request is being made to host 'exhibitors.gitex.com'. Adding certificate verification is strongly advised. See: https://urllib3.readthedocs.io/en/1.26.x/advanced-usage.html#ssl-warnings\n",
      "  warnings.warn(\n"
     ]
    },
    {
     "name": "stdout",
     "output_type": "stream",
     "text": [
      "https://exhibitors.gitex.com/gitex-global-2023/Exhibitor/ExbDetails/MTA4OA==\n"
     ]
    },
    {
     "name": "stderr",
     "output_type": "stream",
     "text": [
      "C:\\Users\\saira\\anaconda3\\Lib\\site-packages\\urllib3\\connectionpool.py:1056: InsecureRequestWarning: Unverified HTTPS request is being made to host 'exhibitors.gitex.com'. Adding certificate verification is strongly advised. See: https://urllib3.readthedocs.io/en/1.26.x/advanced-usage.html#ssl-warnings\n",
      "  warnings.warn(\n"
     ]
    },
    {
     "name": "stdout",
     "output_type": "stream",
     "text": [
      "https://exhibitors.gitex.com/gitex-global-2023/Exhibitor/ExbDetails/MTY4Ng==\n"
     ]
    },
    {
     "name": "stderr",
     "output_type": "stream",
     "text": [
      "C:\\Users\\saira\\anaconda3\\Lib\\site-packages\\urllib3\\connectionpool.py:1056: InsecureRequestWarning: Unverified HTTPS request is being made to host 'exhibitors.gitex.com'. Adding certificate verification is strongly advised. See: https://urllib3.readthedocs.io/en/1.26.x/advanced-usage.html#ssl-warnings\n",
      "  warnings.warn(\n"
     ]
    },
    {
     "name": "stdout",
     "output_type": "stream",
     "text": [
      "https://exhibitors.gitex.com/gitex-global-2023/Exhibitor/ExbDetails/OTc1\n"
     ]
    },
    {
     "name": "stderr",
     "output_type": "stream",
     "text": [
      "C:\\Users\\saira\\anaconda3\\Lib\\site-packages\\urllib3\\connectionpool.py:1056: InsecureRequestWarning: Unverified HTTPS request is being made to host 'exhibitors.gitex.com'. Adding certificate verification is strongly advised. See: https://urllib3.readthedocs.io/en/1.26.x/advanced-usage.html#ssl-warnings\n",
      "  warnings.warn(\n"
     ]
    },
    {
     "name": "stdout",
     "output_type": "stream",
     "text": [
      "https://exhibitors.gitex.com/gitex-global-2023/Exhibitor/ExbDetails/MTY3Nw==\n"
     ]
    },
    {
     "name": "stderr",
     "output_type": "stream",
     "text": [
      "C:\\Users\\saira\\anaconda3\\Lib\\site-packages\\urllib3\\connectionpool.py:1056: InsecureRequestWarning: Unverified HTTPS request is being made to host 'exhibitors.gitex.com'. Adding certificate verification is strongly advised. See: https://urllib3.readthedocs.io/en/1.26.x/advanced-usage.html#ssl-warnings\n",
      "  warnings.warn(\n"
     ]
    },
    {
     "name": "stdout",
     "output_type": "stream",
     "text": [
      "https://exhibitors.gitex.com/gitex-global-2023/Exhibitor/ExbDetails/NDQ1\n"
     ]
    },
    {
     "name": "stderr",
     "output_type": "stream",
     "text": [
      "C:\\Users\\saira\\anaconda3\\Lib\\site-packages\\urllib3\\connectionpool.py:1056: InsecureRequestWarning: Unverified HTTPS request is being made to host 'exhibitors.gitex.com'. Adding certificate verification is strongly advised. See: https://urllib3.readthedocs.io/en/1.26.x/advanced-usage.html#ssl-warnings\n",
      "  warnings.warn(\n"
     ]
    },
    {
     "name": "stdout",
     "output_type": "stream",
     "text": [
      "https://exhibitors.gitex.com/gitex-global-2023/Exhibitor/ExbDetails/MjgxNA==\n"
     ]
    },
    {
     "name": "stderr",
     "output_type": "stream",
     "text": [
      "C:\\Users\\saira\\anaconda3\\Lib\\site-packages\\urllib3\\connectionpool.py:1056: InsecureRequestWarning: Unverified HTTPS request is being made to host 'exhibitors.gitex.com'. Adding certificate verification is strongly advised. See: https://urllib3.readthedocs.io/en/1.26.x/advanced-usage.html#ssl-warnings\n",
      "  warnings.warn(\n"
     ]
    },
    {
     "name": "stdout",
     "output_type": "stream",
     "text": [
      "https://exhibitors.gitex.com/gitex-global-2023/Exhibitor/ExbDetails/NDIw\n"
     ]
    },
    {
     "name": "stderr",
     "output_type": "stream",
     "text": [
      "C:\\Users\\saira\\anaconda3\\Lib\\site-packages\\urllib3\\connectionpool.py:1056: InsecureRequestWarning: Unverified HTTPS request is being made to host 'exhibitors.gitex.com'. Adding certificate verification is strongly advised. See: https://urllib3.readthedocs.io/en/1.26.x/advanced-usage.html#ssl-warnings\n",
      "  warnings.warn(\n"
     ]
    },
    {
     "name": "stdout",
     "output_type": "stream",
     "text": [
      "https://exhibitors.gitex.com/gitex-global-2023/Exhibitor/ExbDetails/OTky\n"
     ]
    },
    {
     "name": "stderr",
     "output_type": "stream",
     "text": [
      "C:\\Users\\saira\\anaconda3\\Lib\\site-packages\\urllib3\\connectionpool.py:1056: InsecureRequestWarning: Unverified HTTPS request is being made to host 'exhibitors.gitex.com'. Adding certificate verification is strongly advised. See: https://urllib3.readthedocs.io/en/1.26.x/advanced-usage.html#ssl-warnings\n",
      "  warnings.warn(\n"
     ]
    },
    {
     "name": "stdout",
     "output_type": "stream",
     "text": [
      "https://exhibitors.gitex.com/gitex-global-2023/Exhibitor/ExbDetails/MTQ2Nw==\n"
     ]
    },
    {
     "name": "stderr",
     "output_type": "stream",
     "text": [
      "C:\\Users\\saira\\anaconda3\\Lib\\site-packages\\urllib3\\connectionpool.py:1056: InsecureRequestWarning: Unverified HTTPS request is being made to host 'exhibitors.gitex.com'. Adding certificate verification is strongly advised. See: https://urllib3.readthedocs.io/en/1.26.x/advanced-usage.html#ssl-warnings\n",
      "  warnings.warn(\n"
     ]
    },
    {
     "name": "stdout",
     "output_type": "stream",
     "text": [
      "https://exhibitors.gitex.com/gitex-global-2023/Exhibitor/ExbDetails/OTQx\n"
     ]
    },
    {
     "name": "stderr",
     "output_type": "stream",
     "text": [
      "C:\\Users\\saira\\anaconda3\\Lib\\site-packages\\urllib3\\connectionpool.py:1056: InsecureRequestWarning: Unverified HTTPS request is being made to host 'exhibitors.gitex.com'. Adding certificate verification is strongly advised. See: https://urllib3.readthedocs.io/en/1.26.x/advanced-usage.html#ssl-warnings\n",
      "  warnings.warn(\n"
     ]
    },
    {
     "name": "stdout",
     "output_type": "stream",
     "text": [
      "https://exhibitors.gitex.com/gitex-global-2023/Exhibitor/ExbDetails/MTA5Nw==\n"
     ]
    },
    {
     "name": "stderr",
     "output_type": "stream",
     "text": [
      "C:\\Users\\saira\\anaconda3\\Lib\\site-packages\\urllib3\\connectionpool.py:1056: InsecureRequestWarning: Unverified HTTPS request is being made to host 'exhibitors.gitex.com'. Adding certificate verification is strongly advised. See: https://urllib3.readthedocs.io/en/1.26.x/advanced-usage.html#ssl-warnings\n",
      "  warnings.warn(\n"
     ]
    },
    {
     "name": "stdout",
     "output_type": "stream",
     "text": [
      "https://exhibitors.gitex.com/gitex-global-2023/Exhibitor/ExbDetails/NjQ1\n"
     ]
    },
    {
     "name": "stderr",
     "output_type": "stream",
     "text": [
      "C:\\Users\\saira\\anaconda3\\Lib\\site-packages\\urllib3\\connectionpool.py:1056: InsecureRequestWarning: Unverified HTTPS request is being made to host 'exhibitors.gitex.com'. Adding certificate verification is strongly advised. See: https://urllib3.readthedocs.io/en/1.26.x/advanced-usage.html#ssl-warnings\n",
      "  warnings.warn(\n"
     ]
    },
    {
     "name": "stdout",
     "output_type": "stream",
     "text": [
      "https://exhibitors.gitex.com/gitex-global-2023/Exhibitor/ExbDetails/MTQ0NA==\n"
     ]
    },
    {
     "name": "stderr",
     "output_type": "stream",
     "text": [
      "C:\\Users\\saira\\anaconda3\\Lib\\site-packages\\urllib3\\connectionpool.py:1056: InsecureRequestWarning: Unverified HTTPS request is being made to host 'exhibitors.gitex.com'. Adding certificate verification is strongly advised. See: https://urllib3.readthedocs.io/en/1.26.x/advanced-usage.html#ssl-warnings\n",
      "  warnings.warn(\n"
     ]
    },
    {
     "name": "stdout",
     "output_type": "stream",
     "text": [
      "https://exhibitors.gitex.com/gitex-global-2023/Exhibitor/ExbDetails/MTEyNw==\n"
     ]
    },
    {
     "name": "stderr",
     "output_type": "stream",
     "text": [
      "C:\\Users\\saira\\anaconda3\\Lib\\site-packages\\urllib3\\connectionpool.py:1056: InsecureRequestWarning: Unverified HTTPS request is being made to host 'exhibitors.gitex.com'. Adding certificate verification is strongly advised. See: https://urllib3.readthedocs.io/en/1.26.x/advanced-usage.html#ssl-warnings\n",
      "  warnings.warn(\n"
     ]
    },
    {
     "name": "stdout",
     "output_type": "stream",
     "text": [
      "https://exhibitors.gitex.com/gitex-global-2023/Exhibitor/ExbDetails/OTg1\n"
     ]
    },
    {
     "name": "stderr",
     "output_type": "stream",
     "text": [
      "C:\\Users\\saira\\anaconda3\\Lib\\site-packages\\urllib3\\connectionpool.py:1056: InsecureRequestWarning: Unverified HTTPS request is being made to host 'exhibitors.gitex.com'. Adding certificate verification is strongly advised. See: https://urllib3.readthedocs.io/en/1.26.x/advanced-usage.html#ssl-warnings\n",
      "  warnings.warn(\n"
     ]
    },
    {
     "name": "stdout",
     "output_type": "stream",
     "text": [
      "https://exhibitors.gitex.com/gitex-global-2023/Exhibitor/ExbDetails/MTg5Nw==\n"
     ]
    },
    {
     "name": "stderr",
     "output_type": "stream",
     "text": [
      "C:\\Users\\saira\\anaconda3\\Lib\\site-packages\\urllib3\\connectionpool.py:1056: InsecureRequestWarning: Unverified HTTPS request is being made to host 'exhibitors.gitex.com'. Adding certificate verification is strongly advised. See: https://urllib3.readthedocs.io/en/1.26.x/advanced-usage.html#ssl-warnings\n",
      "  warnings.warn(\n"
     ]
    },
    {
     "name": "stdout",
     "output_type": "stream",
     "text": [
      "https://exhibitors.gitex.com/gitex-global-2023/Exhibitor/ExbDetails/MTkxNA==\n"
     ]
    },
    {
     "name": "stderr",
     "output_type": "stream",
     "text": [
      "C:\\Users\\saira\\anaconda3\\Lib\\site-packages\\urllib3\\connectionpool.py:1056: InsecureRequestWarning: Unverified HTTPS request is being made to host 'exhibitors.gitex.com'. Adding certificate verification is strongly advised. See: https://urllib3.readthedocs.io/en/1.26.x/advanced-usage.html#ssl-warnings\n",
      "  warnings.warn(\n"
     ]
    },
    {
     "name": "stdout",
     "output_type": "stream",
     "text": [
      "https://exhibitors.gitex.com/gitex-global-2023/Exhibitor/ExbDetails/MTczMA==\n"
     ]
    },
    {
     "name": "stderr",
     "output_type": "stream",
     "text": [
      "C:\\Users\\saira\\anaconda3\\Lib\\site-packages\\urllib3\\connectionpool.py:1056: InsecureRequestWarning: Unverified HTTPS request is being made to host 'exhibitors.gitex.com'. Adding certificate verification is strongly advised. See: https://urllib3.readthedocs.io/en/1.26.x/advanced-usage.html#ssl-warnings\n",
      "  warnings.warn(\n"
     ]
    },
    {
     "name": "stdout",
     "output_type": "stream",
     "text": [
      "https://exhibitors.gitex.com/gitex-global-2023/Exhibitor/ExbDetails/NTkx\n"
     ]
    },
    {
     "name": "stderr",
     "output_type": "stream",
     "text": [
      "C:\\Users\\saira\\anaconda3\\Lib\\site-packages\\urllib3\\connectionpool.py:1056: InsecureRequestWarning: Unverified HTTPS request is being made to host 'exhibitors.gitex.com'. Adding certificate verification is strongly advised. See: https://urllib3.readthedocs.io/en/1.26.x/advanced-usage.html#ssl-warnings\n",
      "  warnings.warn(\n"
     ]
    },
    {
     "name": "stdout",
     "output_type": "stream",
     "text": [
      "https://exhibitors.gitex.com/gitex-global-2023/Exhibitor/ExbDetails/MjgzNw==\n"
     ]
    },
    {
     "name": "stderr",
     "output_type": "stream",
     "text": [
      "C:\\Users\\saira\\anaconda3\\Lib\\site-packages\\urllib3\\connectionpool.py:1056: InsecureRequestWarning: Unverified HTTPS request is being made to host 'exhibitors.gitex.com'. Adding certificate verification is strongly advised. See: https://urllib3.readthedocs.io/en/1.26.x/advanced-usage.html#ssl-warnings\n",
      "  warnings.warn(\n"
     ]
    },
    {
     "name": "stdout",
     "output_type": "stream",
     "text": [
      "https://exhibitors.gitex.com/gitex-global-2023/Exhibitor/ExbDetails/MTg2OA==\n"
     ]
    },
    {
     "name": "stderr",
     "output_type": "stream",
     "text": [
      "C:\\Users\\saira\\anaconda3\\Lib\\site-packages\\urllib3\\connectionpool.py:1056: InsecureRequestWarning: Unverified HTTPS request is being made to host 'exhibitors.gitex.com'. Adding certificate verification is strongly advised. See: https://urllib3.readthedocs.io/en/1.26.x/advanced-usage.html#ssl-warnings\n",
      "  warnings.warn(\n"
     ]
    },
    {
     "name": "stdout",
     "output_type": "stream",
     "text": [
      "https://exhibitors.gitex.com/gitex-global-2023/Exhibitor/ExbDetails/MTY0Mw==\n"
     ]
    },
    {
     "name": "stderr",
     "output_type": "stream",
     "text": [
      "C:\\Users\\saira\\anaconda3\\Lib\\site-packages\\urllib3\\connectionpool.py:1056: InsecureRequestWarning: Unverified HTTPS request is being made to host 'exhibitors.gitex.com'. Adding certificate verification is strongly advised. See: https://urllib3.readthedocs.io/en/1.26.x/advanced-usage.html#ssl-warnings\n",
      "  warnings.warn(\n"
     ]
    },
    {
     "name": "stdout",
     "output_type": "stream",
     "text": [
      "https://exhibitors.gitex.com/gitex-global-2023/Exhibitor/ExbDetails/NjQ2\n"
     ]
    },
    {
     "name": "stderr",
     "output_type": "stream",
     "text": [
      "C:\\Users\\saira\\anaconda3\\Lib\\site-packages\\urllib3\\connectionpool.py:1056: InsecureRequestWarning: Unverified HTTPS request is being made to host 'exhibitors.gitex.com'. Adding certificate verification is strongly advised. See: https://urllib3.readthedocs.io/en/1.26.x/advanced-usage.html#ssl-warnings\n",
      "  warnings.warn(\n"
     ]
    },
    {
     "name": "stdout",
     "output_type": "stream",
     "text": [
      "https://exhibitors.gitex.com/gitex-global-2023/Exhibitor/ExbDetails/Mjg4NQ==\n"
     ]
    },
    {
     "name": "stderr",
     "output_type": "stream",
     "text": [
      "C:\\Users\\saira\\anaconda3\\Lib\\site-packages\\urllib3\\connectionpool.py:1056: InsecureRequestWarning: Unverified HTTPS request is being made to host 'exhibitors.gitex.com'. Adding certificate verification is strongly advised. See: https://urllib3.readthedocs.io/en/1.26.x/advanced-usage.html#ssl-warnings\n",
      "  warnings.warn(\n"
     ]
    },
    {
     "name": "stdout",
     "output_type": "stream",
     "text": [
      "https://exhibitors.gitex.com/gitex-global-2023/Exhibitor/ExbDetails/MTg2MA==\n"
     ]
    },
    {
     "name": "stderr",
     "output_type": "stream",
     "text": [
      "C:\\Users\\saira\\anaconda3\\Lib\\site-packages\\urllib3\\connectionpool.py:1056: InsecureRequestWarning: Unverified HTTPS request is being made to host 'exhibitors.gitex.com'. Adding certificate verification is strongly advised. See: https://urllib3.readthedocs.io/en/1.26.x/advanced-usage.html#ssl-warnings\n",
      "  warnings.warn(\n"
     ]
    },
    {
     "name": "stdout",
     "output_type": "stream",
     "text": [
      "https://exhibitors.gitex.com/gitex-global-2023/Exhibitor/ExbDetails/Njc3\n"
     ]
    },
    {
     "name": "stderr",
     "output_type": "stream",
     "text": [
      "C:\\Users\\saira\\anaconda3\\Lib\\site-packages\\urllib3\\connectionpool.py:1056: InsecureRequestWarning: Unverified HTTPS request is being made to host 'exhibitors.gitex.com'. Adding certificate verification is strongly advised. See: https://urllib3.readthedocs.io/en/1.26.x/advanced-usage.html#ssl-warnings\n",
      "  warnings.warn(\n"
     ]
    },
    {
     "name": "stdout",
     "output_type": "stream",
     "text": [
      "https://exhibitors.gitex.com/gitex-global-2023/Exhibitor/ExbDetails/Mjc5Ng==\n"
     ]
    },
    {
     "name": "stderr",
     "output_type": "stream",
     "text": [
      "C:\\Users\\saira\\anaconda3\\Lib\\site-packages\\urllib3\\connectionpool.py:1056: InsecureRequestWarning: Unverified HTTPS request is being made to host 'exhibitors.gitex.com'. Adding certificate verification is strongly advised. See: https://urllib3.readthedocs.io/en/1.26.x/advanced-usage.html#ssl-warnings\n",
      "  warnings.warn(\n"
     ]
    },
    {
     "name": "stdout",
     "output_type": "stream",
     "text": [
      "https://exhibitors.gitex.com/gitex-global-2023/Exhibitor/ExbDetails/MTk2Ng==\n"
     ]
    },
    {
     "name": "stderr",
     "output_type": "stream",
     "text": [
      "C:\\Users\\saira\\anaconda3\\Lib\\site-packages\\urllib3\\connectionpool.py:1056: InsecureRequestWarning: Unverified HTTPS request is being made to host 'exhibitors.gitex.com'. Adding certificate verification is strongly advised. See: https://urllib3.readthedocs.io/en/1.26.x/advanced-usage.html#ssl-warnings\n",
      "  warnings.warn(\n"
     ]
    },
    {
     "name": "stdout",
     "output_type": "stream",
     "text": [
      "https://exhibitors.gitex.com/gitex-global-2023/Exhibitor/ExbDetails/OTk3\n"
     ]
    },
    {
     "name": "stderr",
     "output_type": "stream",
     "text": [
      "C:\\Users\\saira\\anaconda3\\Lib\\site-packages\\urllib3\\connectionpool.py:1056: InsecureRequestWarning: Unverified HTTPS request is being made to host 'exhibitors.gitex.com'. Adding certificate verification is strongly advised. See: https://urllib3.readthedocs.io/en/1.26.x/advanced-usage.html#ssl-warnings\n",
      "  warnings.warn(\n"
     ]
    },
    {
     "name": "stdout",
     "output_type": "stream",
     "text": [
      "https://exhibitors.gitex.com/gitex-global-2023/Exhibitor/ExbDetails/NTIz\n"
     ]
    },
    {
     "name": "stderr",
     "output_type": "stream",
     "text": [
      "C:\\Users\\saira\\anaconda3\\Lib\\site-packages\\urllib3\\connectionpool.py:1056: InsecureRequestWarning: Unverified HTTPS request is being made to host 'exhibitors.gitex.com'. Adding certificate verification is strongly advised. See: https://urllib3.readthedocs.io/en/1.26.x/advanced-usage.html#ssl-warnings\n",
      "  warnings.warn(\n"
     ]
    },
    {
     "name": "stdout",
     "output_type": "stream",
     "text": [
      "https://exhibitors.gitex.com/gitex-global-2023/Exhibitor/ExbDetails/MTA3NQ==\n"
     ]
    },
    {
     "name": "stderr",
     "output_type": "stream",
     "text": [
      "C:\\Users\\saira\\anaconda3\\Lib\\site-packages\\urllib3\\connectionpool.py:1056: InsecureRequestWarning: Unverified HTTPS request is being made to host 'exhibitors.gitex.com'. Adding certificate verification is strongly advised. See: https://urllib3.readthedocs.io/en/1.26.x/advanced-usage.html#ssl-warnings\n",
      "  warnings.warn(\n"
     ]
    },
    {
     "name": "stdout",
     "output_type": "stream",
     "text": [
      "https://exhibitors.gitex.com/gitex-global-2023/Exhibitor/ExbDetails/MTU0MQ==\n"
     ]
    },
    {
     "name": "stderr",
     "output_type": "stream",
     "text": [
      "C:\\Users\\saira\\anaconda3\\Lib\\site-packages\\urllib3\\connectionpool.py:1056: InsecureRequestWarning: Unverified HTTPS request is being made to host 'exhibitors.gitex.com'. Adding certificate verification is strongly advised. See: https://urllib3.readthedocs.io/en/1.26.x/advanced-usage.html#ssl-warnings\n",
      "  warnings.warn(\n"
     ]
    },
    {
     "name": "stdout",
     "output_type": "stream",
     "text": [
      "https://exhibitors.gitex.com/gitex-global-2023/Exhibitor/ExbDetails/MTY3Ng==\n"
     ]
    },
    {
     "name": "stderr",
     "output_type": "stream",
     "text": [
      "C:\\Users\\saira\\anaconda3\\Lib\\site-packages\\urllib3\\connectionpool.py:1056: InsecureRequestWarning: Unverified HTTPS request is being made to host 'exhibitors.gitex.com'. Adding certificate verification is strongly advised. See: https://urllib3.readthedocs.io/en/1.26.x/advanced-usage.html#ssl-warnings\n",
      "  warnings.warn(\n"
     ]
    },
    {
     "name": "stdout",
     "output_type": "stream",
     "text": [
      "https://exhibitors.gitex.com/gitex-global-2023/Exhibitor/ExbDetails/MTU2Mg==\n"
     ]
    },
    {
     "name": "stderr",
     "output_type": "stream",
     "text": [
      "C:\\Users\\saira\\anaconda3\\Lib\\site-packages\\urllib3\\connectionpool.py:1056: InsecureRequestWarning: Unverified HTTPS request is being made to host 'exhibitors.gitex.com'. Adding certificate verification is strongly advised. See: https://urllib3.readthedocs.io/en/1.26.x/advanced-usage.html#ssl-warnings\n",
      "  warnings.warn(\n"
     ]
    },
    {
     "name": "stdout",
     "output_type": "stream",
     "text": [
      "https://exhibitors.gitex.com/gitex-global-2023/Exhibitor/ExbDetails/NDg5\n"
     ]
    },
    {
     "name": "stderr",
     "output_type": "stream",
     "text": [
      "C:\\Users\\saira\\anaconda3\\Lib\\site-packages\\urllib3\\connectionpool.py:1056: InsecureRequestWarning: Unverified HTTPS request is being made to host 'exhibitors.gitex.com'. Adding certificate verification is strongly advised. See: https://urllib3.readthedocs.io/en/1.26.x/advanced-usage.html#ssl-warnings\n",
      "  warnings.warn(\n"
     ]
    },
    {
     "name": "stdout",
     "output_type": "stream",
     "text": [
      "https://exhibitors.gitex.com/gitex-global-2023/Exhibitor/ExbDetails/MTY5NQ==\n"
     ]
    },
    {
     "name": "stderr",
     "output_type": "stream",
     "text": [
      "C:\\Users\\saira\\anaconda3\\Lib\\site-packages\\urllib3\\connectionpool.py:1056: InsecureRequestWarning: Unverified HTTPS request is being made to host 'exhibitors.gitex.com'. Adding certificate verification is strongly advised. See: https://urllib3.readthedocs.io/en/1.26.x/advanced-usage.html#ssl-warnings\n",
      "  warnings.warn(\n"
     ]
    },
    {
     "name": "stdout",
     "output_type": "stream",
     "text": [
      "https://exhibitors.gitex.com/gitex-global-2023/Exhibitor/ExbDetails/MTQ1Mw==\n"
     ]
    },
    {
     "name": "stderr",
     "output_type": "stream",
     "text": [
      "C:\\Users\\saira\\anaconda3\\Lib\\site-packages\\urllib3\\connectionpool.py:1056: InsecureRequestWarning: Unverified HTTPS request is being made to host 'exhibitors.gitex.com'. Adding certificate verification is strongly advised. See: https://urllib3.readthedocs.io/en/1.26.x/advanced-usage.html#ssl-warnings\n",
      "  warnings.warn(\n"
     ]
    },
    {
     "name": "stdout",
     "output_type": "stream",
     "text": [
      "https://exhibitors.gitex.com/gitex-global-2023/Exhibitor/ExbDetails/MjE3MA==\n"
     ]
    },
    {
     "name": "stderr",
     "output_type": "stream",
     "text": [
      "C:\\Users\\saira\\anaconda3\\Lib\\site-packages\\urllib3\\connectionpool.py:1056: InsecureRequestWarning: Unverified HTTPS request is being made to host 'exhibitors.gitex.com'. Adding certificate verification is strongly advised. See: https://urllib3.readthedocs.io/en/1.26.x/advanced-usage.html#ssl-warnings\n",
      "  warnings.warn(\n"
     ]
    },
    {
     "name": "stdout",
     "output_type": "stream",
     "text": [
      "https://exhibitors.gitex.com/gitex-global-2023/Exhibitor/ExbDetails/Njkz\n"
     ]
    },
    {
     "name": "stderr",
     "output_type": "stream",
     "text": [
      "C:\\Users\\saira\\anaconda3\\Lib\\site-packages\\urllib3\\connectionpool.py:1056: InsecureRequestWarning: Unverified HTTPS request is being made to host 'exhibitors.gitex.com'. Adding certificate verification is strongly advised. See: https://urllib3.readthedocs.io/en/1.26.x/advanced-usage.html#ssl-warnings\n",
      "  warnings.warn(\n"
     ]
    },
    {
     "name": "stdout",
     "output_type": "stream",
     "text": [
      "https://exhibitors.gitex.com/gitex-global-2023/Exhibitor/ExbDetails/MTQ5MA==\n"
     ]
    },
    {
     "name": "stderr",
     "output_type": "stream",
     "text": [
      "C:\\Users\\saira\\anaconda3\\Lib\\site-packages\\urllib3\\connectionpool.py:1056: InsecureRequestWarning: Unverified HTTPS request is being made to host 'exhibitors.gitex.com'. Adding certificate verification is strongly advised. See: https://urllib3.readthedocs.io/en/1.26.x/advanced-usage.html#ssl-warnings\n",
      "  warnings.warn(\n"
     ]
    },
    {
     "name": "stdout",
     "output_type": "stream",
     "text": [
      "https://exhibitors.gitex.com/gitex-global-2023/Exhibitor/ExbDetails/MTMzMQ==\n"
     ]
    },
    {
     "name": "stderr",
     "output_type": "stream",
     "text": [
      "C:\\Users\\saira\\anaconda3\\Lib\\site-packages\\urllib3\\connectionpool.py:1056: InsecureRequestWarning: Unverified HTTPS request is being made to host 'exhibitors.gitex.com'. Adding certificate verification is strongly advised. See: https://urllib3.readthedocs.io/en/1.26.x/advanced-usage.html#ssl-warnings\n",
      "  warnings.warn(\n"
     ]
    },
    {
     "name": "stdout",
     "output_type": "stream",
     "text": [
      "https://exhibitors.gitex.com/gitex-global-2023/Exhibitor/ExbDetails/NjAy\n"
     ]
    },
    {
     "name": "stderr",
     "output_type": "stream",
     "text": [
      "C:\\Users\\saira\\anaconda3\\Lib\\site-packages\\urllib3\\connectionpool.py:1056: InsecureRequestWarning: Unverified HTTPS request is being made to host 'exhibitors.gitex.com'. Adding certificate verification is strongly advised. See: https://urllib3.readthedocs.io/en/1.26.x/advanced-usage.html#ssl-warnings\n",
      "  warnings.warn(\n"
     ]
    },
    {
     "name": "stdout",
     "output_type": "stream",
     "text": [
      "https://exhibitors.gitex.com/gitex-global-2023/Exhibitor/ExbDetails/NzE1\n"
     ]
    },
    {
     "name": "stderr",
     "output_type": "stream",
     "text": [
      "C:\\Users\\saira\\anaconda3\\Lib\\site-packages\\urllib3\\connectionpool.py:1056: InsecureRequestWarning: Unverified HTTPS request is being made to host 'exhibitors.gitex.com'. Adding certificate verification is strongly advised. See: https://urllib3.readthedocs.io/en/1.26.x/advanced-usage.html#ssl-warnings\n",
      "  warnings.warn(\n"
     ]
    },
    {
     "name": "stdout",
     "output_type": "stream",
     "text": [
      "https://exhibitors.gitex.com/gitex-global-2023/Exhibitor/ExbDetails/MTUyMQ==\n"
     ]
    },
    {
     "name": "stderr",
     "output_type": "stream",
     "text": [
      "C:\\Users\\saira\\anaconda3\\Lib\\site-packages\\urllib3\\connectionpool.py:1056: InsecureRequestWarning: Unverified HTTPS request is being made to host 'exhibitors.gitex.com'. Adding certificate verification is strongly advised. See: https://urllib3.readthedocs.io/en/1.26.x/advanced-usage.html#ssl-warnings\n",
      "  warnings.warn(\n"
     ]
    },
    {
     "name": "stdout",
     "output_type": "stream",
     "text": [
      "https://exhibitors.gitex.com/gitex-global-2023/Exhibitor/ExbDetails/NjUx\n"
     ]
    },
    {
     "name": "stderr",
     "output_type": "stream",
     "text": [
      "C:\\Users\\saira\\anaconda3\\Lib\\site-packages\\urllib3\\connectionpool.py:1056: InsecureRequestWarning: Unverified HTTPS request is being made to host 'exhibitors.gitex.com'. Adding certificate verification is strongly advised. See: https://urllib3.readthedocs.io/en/1.26.x/advanced-usage.html#ssl-warnings\n",
      "  warnings.warn(\n"
     ]
    },
    {
     "name": "stdout",
     "output_type": "stream",
     "text": [
      "https://exhibitors.gitex.com/gitex-global-2023/Exhibitor/ExbDetails/MTUyNg==\n"
     ]
    },
    {
     "name": "stderr",
     "output_type": "stream",
     "text": [
      "C:\\Users\\saira\\anaconda3\\Lib\\site-packages\\urllib3\\connectionpool.py:1056: InsecureRequestWarning: Unverified HTTPS request is being made to host 'exhibitors.gitex.com'. Adding certificate verification is strongly advised. See: https://urllib3.readthedocs.io/en/1.26.x/advanced-usage.html#ssl-warnings\n",
      "  warnings.warn(\n"
     ]
    },
    {
     "name": "stdout",
     "output_type": "stream",
     "text": [
      "https://exhibitors.gitex.com/gitex-global-2023/Exhibitor/ExbDetails/MTQ5MQ==\n"
     ]
    },
    {
     "name": "stderr",
     "output_type": "stream",
     "text": [
      "C:\\Users\\saira\\anaconda3\\Lib\\site-packages\\urllib3\\connectionpool.py:1056: InsecureRequestWarning: Unverified HTTPS request is being made to host 'exhibitors.gitex.com'. Adding certificate verification is strongly advised. See: https://urllib3.readthedocs.io/en/1.26.x/advanced-usage.html#ssl-warnings\n",
      "  warnings.warn(\n"
     ]
    },
    {
     "name": "stdout",
     "output_type": "stream",
     "text": [
      "https://exhibitors.gitex.com/gitex-global-2023/Exhibitor/ExbDetails/NjA2\n"
     ]
    },
    {
     "name": "stderr",
     "output_type": "stream",
     "text": [
      "C:\\Users\\saira\\anaconda3\\Lib\\site-packages\\urllib3\\connectionpool.py:1056: InsecureRequestWarning: Unverified HTTPS request is being made to host 'exhibitors.gitex.com'. Adding certificate verification is strongly advised. See: https://urllib3.readthedocs.io/en/1.26.x/advanced-usage.html#ssl-warnings\n",
      "  warnings.warn(\n"
     ]
    },
    {
     "name": "stdout",
     "output_type": "stream",
     "text": [
      "https://exhibitors.gitex.com/gitex-global-2023/Exhibitor/ExbDetails/MTkxMg==\n"
     ]
    },
    {
     "name": "stderr",
     "output_type": "stream",
     "text": [
      "C:\\Users\\saira\\anaconda3\\Lib\\site-packages\\urllib3\\connectionpool.py:1056: InsecureRequestWarning: Unverified HTTPS request is being made to host 'exhibitors.gitex.com'. Adding certificate verification is strongly advised. See: https://urllib3.readthedocs.io/en/1.26.x/advanced-usage.html#ssl-warnings\n",
      "  warnings.warn(\n"
     ]
    },
    {
     "name": "stdout",
     "output_type": "stream",
     "text": [
      "https://exhibitors.gitex.com/gitex-global-2023/Exhibitor/ExbDetails/Mjc3MQ==\n"
     ]
    },
    {
     "name": "stderr",
     "output_type": "stream",
     "text": [
      "C:\\Users\\saira\\anaconda3\\Lib\\site-packages\\urllib3\\connectionpool.py:1056: InsecureRequestWarning: Unverified HTTPS request is being made to host 'exhibitors.gitex.com'. Adding certificate verification is strongly advised. See: https://urllib3.readthedocs.io/en/1.26.x/advanced-usage.html#ssl-warnings\n",
      "  warnings.warn(\n"
     ]
    },
    {
     "name": "stdout",
     "output_type": "stream",
     "text": [
      "https://exhibitors.gitex.com/gitex-global-2023/Exhibitor/ExbDetails/NTUz\n"
     ]
    },
    {
     "name": "stderr",
     "output_type": "stream",
     "text": [
      "C:\\Users\\saira\\anaconda3\\Lib\\site-packages\\urllib3\\connectionpool.py:1056: InsecureRequestWarning: Unverified HTTPS request is being made to host 'exhibitors.gitex.com'. Adding certificate verification is strongly advised. See: https://urllib3.readthedocs.io/en/1.26.x/advanced-usage.html#ssl-warnings\n",
      "  warnings.warn(\n"
     ]
    },
    {
     "name": "stdout",
     "output_type": "stream",
     "text": [
      "https://exhibitors.gitex.com/gitex-global-2023/Exhibitor/ExbDetails/MTQ5Ng==\n"
     ]
    },
    {
     "name": "stderr",
     "output_type": "stream",
     "text": [
      "C:\\Users\\saira\\anaconda3\\Lib\\site-packages\\urllib3\\connectionpool.py:1056: InsecureRequestWarning: Unverified HTTPS request is being made to host 'exhibitors.gitex.com'. Adding certificate verification is strongly advised. See: https://urllib3.readthedocs.io/en/1.26.x/advanced-usage.html#ssl-warnings\n",
      "  warnings.warn(\n"
     ]
    },
    {
     "name": "stdout",
     "output_type": "stream",
     "text": [
      "https://exhibitors.gitex.com/gitex-global-2023/Exhibitor/ExbDetails/MTM4NQ==\n"
     ]
    },
    {
     "name": "stderr",
     "output_type": "stream",
     "text": [
      "C:\\Users\\saira\\anaconda3\\Lib\\site-packages\\urllib3\\connectionpool.py:1056: InsecureRequestWarning: Unverified HTTPS request is being made to host 'exhibitors.gitex.com'. Adding certificate verification is strongly advised. See: https://urllib3.readthedocs.io/en/1.26.x/advanced-usage.html#ssl-warnings\n",
      "  warnings.warn(\n"
     ]
    },
    {
     "name": "stdout",
     "output_type": "stream",
     "text": [
      "https://exhibitors.gitex.com/gitex-global-2023/Exhibitor/ExbDetails/NTAx\n"
     ]
    },
    {
     "name": "stderr",
     "output_type": "stream",
     "text": [
      "C:\\Users\\saira\\anaconda3\\Lib\\site-packages\\urllib3\\connectionpool.py:1056: InsecureRequestWarning: Unverified HTTPS request is being made to host 'exhibitors.gitex.com'. Adding certificate verification is strongly advised. See: https://urllib3.readthedocs.io/en/1.26.x/advanced-usage.html#ssl-warnings\n",
      "  warnings.warn(\n"
     ]
    },
    {
     "name": "stdout",
     "output_type": "stream",
     "text": [
      "https://exhibitors.gitex.com/gitex-global-2023/Exhibitor/ExbDetails/MTYxMQ==\n"
     ]
    },
    {
     "name": "stderr",
     "output_type": "stream",
     "text": [
      "C:\\Users\\saira\\anaconda3\\Lib\\site-packages\\urllib3\\connectionpool.py:1056: InsecureRequestWarning: Unverified HTTPS request is being made to host 'exhibitors.gitex.com'. Adding certificate verification is strongly advised. See: https://urllib3.readthedocs.io/en/1.26.x/advanced-usage.html#ssl-warnings\n",
      "  warnings.warn(\n"
     ]
    },
    {
     "name": "stdout",
     "output_type": "stream",
     "text": [
      "https://exhibitors.gitex.com/gitex-global-2023/Exhibitor/ExbDetails/NDg4\n"
     ]
    },
    {
     "name": "stderr",
     "output_type": "stream",
     "text": [
      "C:\\Users\\saira\\anaconda3\\Lib\\site-packages\\urllib3\\connectionpool.py:1056: InsecureRequestWarning: Unverified HTTPS request is being made to host 'exhibitors.gitex.com'. Adding certificate verification is strongly advised. See: https://urllib3.readthedocs.io/en/1.26.x/advanced-usage.html#ssl-warnings\n",
      "  warnings.warn(\n"
     ]
    },
    {
     "name": "stdout",
     "output_type": "stream",
     "text": [
      "https://exhibitors.gitex.com/gitex-global-2023/Exhibitor/ExbDetails/NjI3\n"
     ]
    },
    {
     "name": "stderr",
     "output_type": "stream",
     "text": [
      "C:\\Users\\saira\\anaconda3\\Lib\\site-packages\\urllib3\\connectionpool.py:1056: InsecureRequestWarning: Unverified HTTPS request is being made to host 'exhibitors.gitex.com'. Adding certificate verification is strongly advised. See: https://urllib3.readthedocs.io/en/1.26.x/advanced-usage.html#ssl-warnings\n",
      "  warnings.warn(\n"
     ]
    },
    {
     "name": "stdout",
     "output_type": "stream",
     "text": [
      "https://exhibitors.gitex.com/gitex-global-2023/Exhibitor/ExbDetails/NDQw\n"
     ]
    },
    {
     "name": "stderr",
     "output_type": "stream",
     "text": [
      "C:\\Users\\saira\\anaconda3\\Lib\\site-packages\\urllib3\\connectionpool.py:1056: InsecureRequestWarning: Unverified HTTPS request is being made to host 'exhibitors.gitex.com'. Adding certificate verification is strongly advised. See: https://urllib3.readthedocs.io/en/1.26.x/advanced-usage.html#ssl-warnings\n",
      "  warnings.warn(\n"
     ]
    },
    {
     "name": "stdout",
     "output_type": "stream",
     "text": [
      "https://exhibitors.gitex.com/gitex-global-2023/Exhibitor/ExbDetails/MTA0NA==\n"
     ]
    },
    {
     "name": "stderr",
     "output_type": "stream",
     "text": [
      "C:\\Users\\saira\\anaconda3\\Lib\\site-packages\\urllib3\\connectionpool.py:1056: InsecureRequestWarning: Unverified HTTPS request is being made to host 'exhibitors.gitex.com'. Adding certificate verification is strongly advised. See: https://urllib3.readthedocs.io/en/1.26.x/advanced-usage.html#ssl-warnings\n",
      "  warnings.warn(\n"
     ]
    },
    {
     "name": "stdout",
     "output_type": "stream",
     "text": [
      "https://exhibitors.gitex.com/gitex-global-2023/Exhibitor/ExbDetails/NzM3\n"
     ]
    },
    {
     "name": "stderr",
     "output_type": "stream",
     "text": [
      "C:\\Users\\saira\\anaconda3\\Lib\\site-packages\\urllib3\\connectionpool.py:1056: InsecureRequestWarning: Unverified HTTPS request is being made to host 'exhibitors.gitex.com'. Adding certificate verification is strongly advised. See: https://urllib3.readthedocs.io/en/1.26.x/advanced-usage.html#ssl-warnings\n",
      "  warnings.warn(\n"
     ]
    },
    {
     "name": "stdout",
     "output_type": "stream",
     "text": [
      "https://exhibitors.gitex.com/gitex-global-2023/Exhibitor/ExbDetails/OTUy\n"
     ]
    },
    {
     "name": "stderr",
     "output_type": "stream",
     "text": [
      "C:\\Users\\saira\\anaconda3\\Lib\\site-packages\\urllib3\\connectionpool.py:1056: InsecureRequestWarning: Unverified HTTPS request is being made to host 'exhibitors.gitex.com'. Adding certificate verification is strongly advised. See: https://urllib3.readthedocs.io/en/1.26.x/advanced-usage.html#ssl-warnings\n",
      "  warnings.warn(\n"
     ]
    },
    {
     "name": "stdout",
     "output_type": "stream",
     "text": [
      "https://exhibitors.gitex.com/gitex-global-2023/Exhibitor/ExbDetails/Mjg1MA==\n"
     ]
    },
    {
     "name": "stderr",
     "output_type": "stream",
     "text": [
      "C:\\Users\\saira\\anaconda3\\Lib\\site-packages\\urllib3\\connectionpool.py:1056: InsecureRequestWarning: Unverified HTTPS request is being made to host 'exhibitors.gitex.com'. Adding certificate verification is strongly advised. See: https://urllib3.readthedocs.io/en/1.26.x/advanced-usage.html#ssl-warnings\n",
      "  warnings.warn(\n"
     ]
    },
    {
     "name": "stdout",
     "output_type": "stream",
     "text": [
      "https://exhibitors.gitex.com/gitex-global-2023/Exhibitor/ExbDetails/NTY2\n"
     ]
    },
    {
     "name": "stderr",
     "output_type": "stream",
     "text": [
      "C:\\Users\\saira\\anaconda3\\Lib\\site-packages\\urllib3\\connectionpool.py:1056: InsecureRequestWarning: Unverified HTTPS request is being made to host 'exhibitors.gitex.com'. Adding certificate verification is strongly advised. See: https://urllib3.readthedocs.io/en/1.26.x/advanced-usage.html#ssl-warnings\n",
      "  warnings.warn(\n"
     ]
    },
    {
     "name": "stdout",
     "output_type": "stream",
     "text": [
      "https://exhibitors.gitex.com/gitex-global-2023/Exhibitor/ExbDetails/NTA1\n"
     ]
    },
    {
     "name": "stderr",
     "output_type": "stream",
     "text": [
      "C:\\Users\\saira\\anaconda3\\Lib\\site-packages\\urllib3\\connectionpool.py:1056: InsecureRequestWarning: Unverified HTTPS request is being made to host 'exhibitors.gitex.com'. Adding certificate verification is strongly advised. See: https://urllib3.readthedocs.io/en/1.26.x/advanced-usage.html#ssl-warnings\n",
      "  warnings.warn(\n"
     ]
    },
    {
     "name": "stdout",
     "output_type": "stream",
     "text": [
      "https://exhibitors.gitex.com/gitex-global-2023/Exhibitor/ExbDetails/MTY4NQ==\n"
     ]
    },
    {
     "name": "stderr",
     "output_type": "stream",
     "text": [
      "C:\\Users\\saira\\anaconda3\\Lib\\site-packages\\urllib3\\connectionpool.py:1056: InsecureRequestWarning: Unverified HTTPS request is being made to host 'exhibitors.gitex.com'. Adding certificate verification is strongly advised. See: https://urllib3.readthedocs.io/en/1.26.x/advanced-usage.html#ssl-warnings\n",
      "  warnings.warn(\n"
     ]
    },
    {
     "name": "stdout",
     "output_type": "stream",
     "text": [
      "https://exhibitors.gitex.com/gitex-global-2023/Exhibitor/ExbDetails/NDE4\n"
     ]
    },
    {
     "name": "stderr",
     "output_type": "stream",
     "text": [
      "C:\\Users\\saira\\anaconda3\\Lib\\site-packages\\urllib3\\connectionpool.py:1056: InsecureRequestWarning: Unverified HTTPS request is being made to host 'exhibitors.gitex.com'. Adding certificate verification is strongly advised. See: https://urllib3.readthedocs.io/en/1.26.x/advanced-usage.html#ssl-warnings\n",
      "  warnings.warn(\n"
     ]
    },
    {
     "name": "stdout",
     "output_type": "stream",
     "text": [
      "https://exhibitors.gitex.com/gitex-global-2023/Exhibitor/ExbDetails/MTUxMQ==\n"
     ]
    },
    {
     "name": "stderr",
     "output_type": "stream",
     "text": [
      "C:\\Users\\saira\\anaconda3\\Lib\\site-packages\\urllib3\\connectionpool.py:1056: InsecureRequestWarning: Unverified HTTPS request is being made to host 'exhibitors.gitex.com'. Adding certificate verification is strongly advised. See: https://urllib3.readthedocs.io/en/1.26.x/advanced-usage.html#ssl-warnings\n",
      "  warnings.warn(\n"
     ]
    },
    {
     "name": "stdout",
     "output_type": "stream",
     "text": [
      "https://exhibitors.gitex.com/gitex-global-2023/Exhibitor/ExbDetails/MTQxOA==\n"
     ]
    },
    {
     "name": "stderr",
     "output_type": "stream",
     "text": [
      "C:\\Users\\saira\\anaconda3\\Lib\\site-packages\\urllib3\\connectionpool.py:1056: InsecureRequestWarning: Unverified HTTPS request is being made to host 'exhibitors.gitex.com'. Adding certificate verification is strongly advised. See: https://urllib3.readthedocs.io/en/1.26.x/advanced-usage.html#ssl-warnings\n",
      "  warnings.warn(\n"
     ]
    },
    {
     "name": "stdout",
     "output_type": "stream",
     "text": [
      "https://exhibitors.gitex.com/gitex-global-2023/Exhibitor/ExbDetails/Mjk0Mg==\n"
     ]
    },
    {
     "name": "stderr",
     "output_type": "stream",
     "text": [
      "C:\\Users\\saira\\anaconda3\\Lib\\site-packages\\urllib3\\connectionpool.py:1056: InsecureRequestWarning: Unverified HTTPS request is being made to host 'exhibitors.gitex.com'. Adding certificate verification is strongly advised. See: https://urllib3.readthedocs.io/en/1.26.x/advanced-usage.html#ssl-warnings\n",
      "  warnings.warn(\n"
     ]
    },
    {
     "name": "stdout",
     "output_type": "stream",
     "text": [
      "https://exhibitors.gitex.com/gitex-global-2023/Exhibitor/ExbDetails/Mjk2Mg==\n"
     ]
    },
    {
     "name": "stderr",
     "output_type": "stream",
     "text": [
      "C:\\Users\\saira\\anaconda3\\Lib\\site-packages\\urllib3\\connectionpool.py:1056: InsecureRequestWarning: Unverified HTTPS request is being made to host 'exhibitors.gitex.com'. Adding certificate verification is strongly advised. See: https://urllib3.readthedocs.io/en/1.26.x/advanced-usage.html#ssl-warnings\n",
      "  warnings.warn(\n"
     ]
    },
    {
     "name": "stdout",
     "output_type": "stream",
     "text": [
      "https://exhibitors.gitex.com/gitex-global-2023/Exhibitor/ExbDetails/MTQ4OA==\n"
     ]
    },
    {
     "name": "stderr",
     "output_type": "stream",
     "text": [
      "C:\\Users\\saira\\anaconda3\\Lib\\site-packages\\urllib3\\connectionpool.py:1056: InsecureRequestWarning: Unverified HTTPS request is being made to host 'exhibitors.gitex.com'. Adding certificate verification is strongly advised. See: https://urllib3.readthedocs.io/en/1.26.x/advanced-usage.html#ssl-warnings\n",
      "  warnings.warn(\n"
     ]
    },
    {
     "name": "stdout",
     "output_type": "stream",
     "text": [
      "https://exhibitors.gitex.com/gitex-global-2023/Exhibitor/ExbDetails/Njg4\n",
      "https://exhibitors.gitex.com/gitex-global-2023/Exhibitor/ExbDetails/NjY5\n"
     ]
    },
    {
     "name": "stderr",
     "output_type": "stream",
     "text": [
      "C:\\Users\\saira\\anaconda3\\Lib\\site-packages\\urllib3\\connectionpool.py:1056: InsecureRequestWarning: Unverified HTTPS request is being made to host 'exhibitors.gitex.com'. Adding certificate verification is strongly advised. See: https://urllib3.readthedocs.io/en/1.26.x/advanced-usage.html#ssl-warnings\n",
      "  warnings.warn(\n",
      "C:\\Users\\saira\\anaconda3\\Lib\\site-packages\\urllib3\\connectionpool.py:1056: InsecureRequestWarning: Unverified HTTPS request is being made to host 'exhibitors.gitex.com'. Adding certificate verification is strongly advised. See: https://urllib3.readthedocs.io/en/1.26.x/advanced-usage.html#ssl-warnings\n",
      "  warnings.warn(\n"
     ]
    },
    {
     "name": "stdout",
     "output_type": "stream",
     "text": [
      "https://exhibitors.gitex.com/gitex-global-2023/Exhibitor/ExbDetails/MTcwNA==\n"
     ]
    },
    {
     "name": "stderr",
     "output_type": "stream",
     "text": [
      "C:\\Users\\saira\\anaconda3\\Lib\\site-packages\\urllib3\\connectionpool.py:1056: InsecureRequestWarning: Unverified HTTPS request is being made to host 'exhibitors.gitex.com'. Adding certificate verification is strongly advised. See: https://urllib3.readthedocs.io/en/1.26.x/advanced-usage.html#ssl-warnings\n",
      "  warnings.warn(\n"
     ]
    },
    {
     "name": "stdout",
     "output_type": "stream",
     "text": [
      "https://exhibitors.gitex.com/gitex-global-2023/Exhibitor/ExbDetails/MTM3OQ==\n"
     ]
    },
    {
     "name": "stderr",
     "output_type": "stream",
     "text": [
      "C:\\Users\\saira\\anaconda3\\Lib\\site-packages\\urllib3\\connectionpool.py:1056: InsecureRequestWarning: Unverified HTTPS request is being made to host 'exhibitors.gitex.com'. Adding certificate verification is strongly advised. See: https://urllib3.readthedocs.io/en/1.26.x/advanced-usage.html#ssl-warnings\n",
      "  warnings.warn(\n"
     ]
    },
    {
     "name": "stdout",
     "output_type": "stream",
     "text": [
      "https://exhibitors.gitex.com/gitex-global-2023/Exhibitor/ExbDetails/MTkyNQ==\n"
     ]
    },
    {
     "name": "stderr",
     "output_type": "stream",
     "text": [
      "C:\\Users\\saira\\anaconda3\\Lib\\site-packages\\urllib3\\connectionpool.py:1056: InsecureRequestWarning: Unverified HTTPS request is being made to host 'exhibitors.gitex.com'. Adding certificate verification is strongly advised. See: https://urllib3.readthedocs.io/en/1.26.x/advanced-usage.html#ssl-warnings\n",
      "  warnings.warn(\n"
     ]
    },
    {
     "name": "stdout",
     "output_type": "stream",
     "text": [
      "https://exhibitors.gitex.com/gitex-global-2023/Exhibitor/ExbDetails/MjQ4OA==\n"
     ]
    },
    {
     "name": "stderr",
     "output_type": "stream",
     "text": [
      "C:\\Users\\saira\\anaconda3\\Lib\\site-packages\\urllib3\\connectionpool.py:1056: InsecureRequestWarning: Unverified HTTPS request is being made to host 'exhibitors.gitex.com'. Adding certificate verification is strongly advised. See: https://urllib3.readthedocs.io/en/1.26.x/advanced-usage.html#ssl-warnings\n",
      "  warnings.warn(\n"
     ]
    },
    {
     "name": "stdout",
     "output_type": "stream",
     "text": [
      "https://exhibitors.gitex.com/gitex-global-2023/Exhibitor/ExbDetails/MTcyNg==\n"
     ]
    },
    {
     "name": "stderr",
     "output_type": "stream",
     "text": [
      "C:\\Users\\saira\\anaconda3\\Lib\\site-packages\\urllib3\\connectionpool.py:1056: InsecureRequestWarning: Unverified HTTPS request is being made to host 'exhibitors.gitex.com'. Adding certificate verification is strongly advised. See: https://urllib3.readthedocs.io/en/1.26.x/advanced-usage.html#ssl-warnings\n",
      "  warnings.warn(\n"
     ]
    },
    {
     "name": "stdout",
     "output_type": "stream",
     "text": [
      "https://exhibitors.gitex.com/gitex-global-2023/Exhibitor/ExbDetails/NDY2\n"
     ]
    },
    {
     "name": "stderr",
     "output_type": "stream",
     "text": [
      "C:\\Users\\saira\\anaconda3\\Lib\\site-packages\\urllib3\\connectionpool.py:1056: InsecureRequestWarning: Unverified HTTPS request is being made to host 'exhibitors.gitex.com'. Adding certificate verification is strongly advised. See: https://urllib3.readthedocs.io/en/1.26.x/advanced-usage.html#ssl-warnings\n",
      "  warnings.warn(\n"
     ]
    },
    {
     "name": "stdout",
     "output_type": "stream",
     "text": [
      "https://exhibitors.gitex.com/gitex-global-2023/Exhibitor/ExbDetails/MjIyNg==\n"
     ]
    },
    {
     "name": "stderr",
     "output_type": "stream",
     "text": [
      "C:\\Users\\saira\\anaconda3\\Lib\\site-packages\\urllib3\\connectionpool.py:1056: InsecureRequestWarning: Unverified HTTPS request is being made to host 'exhibitors.gitex.com'. Adding certificate verification is strongly advised. See: https://urllib3.readthedocs.io/en/1.26.x/advanced-usage.html#ssl-warnings\n",
      "  warnings.warn(\n"
     ]
    },
    {
     "name": "stdout",
     "output_type": "stream",
     "text": [
      "https://exhibitors.gitex.com/gitex-global-2023/Exhibitor/ExbDetails/NDEx\n"
     ]
    },
    {
     "name": "stderr",
     "output_type": "stream",
     "text": [
      "C:\\Users\\saira\\anaconda3\\Lib\\site-packages\\urllib3\\connectionpool.py:1056: InsecureRequestWarning: Unverified HTTPS request is being made to host 'exhibitors.gitex.com'. Adding certificate verification is strongly advised. See: https://urllib3.readthedocs.io/en/1.26.x/advanced-usage.html#ssl-warnings\n",
      "  warnings.warn(\n"
     ]
    },
    {
     "name": "stdout",
     "output_type": "stream",
     "text": [
      "https://exhibitors.gitex.com/gitex-global-2023/Exhibitor/ExbDetails/Mjk5Ng==\n"
     ]
    },
    {
     "name": "stderr",
     "output_type": "stream",
     "text": [
      "C:\\Users\\saira\\anaconda3\\Lib\\site-packages\\urllib3\\connectionpool.py:1056: InsecureRequestWarning: Unverified HTTPS request is being made to host 'exhibitors.gitex.com'. Adding certificate verification is strongly advised. See: https://urllib3.readthedocs.io/en/1.26.x/advanced-usage.html#ssl-warnings\n",
      "  warnings.warn(\n"
     ]
    },
    {
     "name": "stdout",
     "output_type": "stream",
     "text": [
      "https://exhibitors.gitex.com/gitex-global-2023/Exhibitor/ExbDetails/NzQ0\n"
     ]
    },
    {
     "name": "stderr",
     "output_type": "stream",
     "text": [
      "C:\\Users\\saira\\anaconda3\\Lib\\site-packages\\urllib3\\connectionpool.py:1056: InsecureRequestWarning: Unverified HTTPS request is being made to host 'exhibitors.gitex.com'. Adding certificate verification is strongly advised. See: https://urllib3.readthedocs.io/en/1.26.x/advanced-usage.html#ssl-warnings\n",
      "  warnings.warn(\n"
     ]
    },
    {
     "name": "stdout",
     "output_type": "stream",
     "text": [
      "https://exhibitors.gitex.com/gitex-global-2023/Exhibitor/ExbDetails/NDky\n"
     ]
    },
    {
     "name": "stderr",
     "output_type": "stream",
     "text": [
      "C:\\Users\\saira\\anaconda3\\Lib\\site-packages\\urllib3\\connectionpool.py:1056: InsecureRequestWarning: Unverified HTTPS request is being made to host 'exhibitors.gitex.com'. Adding certificate verification is strongly advised. See: https://urllib3.readthedocs.io/en/1.26.x/advanced-usage.html#ssl-warnings\n",
      "  warnings.warn(\n"
     ]
    },
    {
     "name": "stdout",
     "output_type": "stream",
     "text": [
      "https://exhibitors.gitex.com/gitex-global-2023/Exhibitor/ExbDetails/MTA1NA==\n"
     ]
    },
    {
     "name": "stderr",
     "output_type": "stream",
     "text": [
      "C:\\Users\\saira\\anaconda3\\Lib\\site-packages\\urllib3\\connectionpool.py:1056: InsecureRequestWarning: Unverified HTTPS request is being made to host 'exhibitors.gitex.com'. Adding certificate verification is strongly advised. See: https://urllib3.readthedocs.io/en/1.26.x/advanced-usage.html#ssl-warnings\n",
      "  warnings.warn(\n"
     ]
    },
    {
     "name": "stdout",
     "output_type": "stream",
     "text": [
      "https://exhibitors.gitex.com/gitex-global-2023/Exhibitor/ExbDetails/MTU1MA==\n"
     ]
    },
    {
     "name": "stderr",
     "output_type": "stream",
     "text": [
      "C:\\Users\\saira\\anaconda3\\Lib\\site-packages\\urllib3\\connectionpool.py:1056: InsecureRequestWarning: Unverified HTTPS request is being made to host 'exhibitors.gitex.com'. Adding certificate verification is strongly advised. See: https://urllib3.readthedocs.io/en/1.26.x/advanced-usage.html#ssl-warnings\n",
      "  warnings.warn(\n"
     ]
    },
    {
     "name": "stdout",
     "output_type": "stream",
     "text": [
      "https://exhibitors.gitex.com/gitex-global-2023/Exhibitor/ExbDetails/NTUw\n"
     ]
    },
    {
     "name": "stderr",
     "output_type": "stream",
     "text": [
      "C:\\Users\\saira\\anaconda3\\Lib\\site-packages\\urllib3\\connectionpool.py:1056: InsecureRequestWarning: Unverified HTTPS request is being made to host 'exhibitors.gitex.com'. Adding certificate verification is strongly advised. See: https://urllib3.readthedocs.io/en/1.26.x/advanced-usage.html#ssl-warnings\n",
      "  warnings.warn(\n"
     ]
    },
    {
     "name": "stdout",
     "output_type": "stream",
     "text": [
      "https://exhibitors.gitex.com/gitex-global-2023/Exhibitor/ExbDetails/NTA2\n"
     ]
    },
    {
     "name": "stderr",
     "output_type": "stream",
     "text": [
      "C:\\Users\\saira\\anaconda3\\Lib\\site-packages\\urllib3\\connectionpool.py:1056: InsecureRequestWarning: Unverified HTTPS request is being made to host 'exhibitors.gitex.com'. Adding certificate verification is strongly advised. See: https://urllib3.readthedocs.io/en/1.26.x/advanced-usage.html#ssl-warnings\n",
      "  warnings.warn(\n"
     ]
    },
    {
     "name": "stdout",
     "output_type": "stream",
     "text": [
      "https://exhibitors.gitex.com/gitex-global-2023/Exhibitor/ExbDetails/NTQ0\n"
     ]
    },
    {
     "name": "stderr",
     "output_type": "stream",
     "text": [
      "C:\\Users\\saira\\anaconda3\\Lib\\site-packages\\urllib3\\connectionpool.py:1056: InsecureRequestWarning: Unverified HTTPS request is being made to host 'exhibitors.gitex.com'. Adding certificate verification is strongly advised. See: https://urllib3.readthedocs.io/en/1.26.x/advanced-usage.html#ssl-warnings\n",
      "  warnings.warn(\n"
     ]
    },
    {
     "name": "stdout",
     "output_type": "stream",
     "text": [
      "https://exhibitors.gitex.com/gitex-global-2023/Exhibitor/ExbDetails/MTcwMw==\n"
     ]
    },
    {
     "name": "stderr",
     "output_type": "stream",
     "text": [
      "C:\\Users\\saira\\anaconda3\\Lib\\site-packages\\urllib3\\connectionpool.py:1056: InsecureRequestWarning: Unverified HTTPS request is being made to host 'exhibitors.gitex.com'. Adding certificate verification is strongly advised. See: https://urllib3.readthedocs.io/en/1.26.x/advanced-usage.html#ssl-warnings\n",
      "  warnings.warn(\n"
     ]
    },
    {
     "name": "stdout",
     "output_type": "stream",
     "text": [
      "https://exhibitors.gitex.com/gitex-global-2023/Exhibitor/ExbDetails/NzE3\n"
     ]
    },
    {
     "name": "stderr",
     "output_type": "stream",
     "text": [
      "C:\\Users\\saira\\anaconda3\\Lib\\site-packages\\urllib3\\connectionpool.py:1056: InsecureRequestWarning: Unverified HTTPS request is being made to host 'exhibitors.gitex.com'. Adding certificate verification is strongly advised. See: https://urllib3.readthedocs.io/en/1.26.x/advanced-usage.html#ssl-warnings\n",
      "  warnings.warn(\n"
     ]
    },
    {
     "name": "stdout",
     "output_type": "stream",
     "text": [
      "https://exhibitors.gitex.com/gitex-global-2023/Exhibitor/ExbDetails/MTUyNw==\n"
     ]
    },
    {
     "name": "stderr",
     "output_type": "stream",
     "text": [
      "C:\\Users\\saira\\anaconda3\\Lib\\site-packages\\urllib3\\connectionpool.py:1056: InsecureRequestWarning: Unverified HTTPS request is being made to host 'exhibitors.gitex.com'. Adding certificate verification is strongly advised. See: https://urllib3.readthedocs.io/en/1.26.x/advanced-usage.html#ssl-warnings\n",
      "  warnings.warn(\n"
     ]
    },
    {
     "name": "stdout",
     "output_type": "stream",
     "text": [
      "https://exhibitors.gitex.com/gitex-global-2023/Exhibitor/ExbDetails/MjIxOA==\n"
     ]
    },
    {
     "name": "stderr",
     "output_type": "stream",
     "text": [
      "C:\\Users\\saira\\anaconda3\\Lib\\site-packages\\urllib3\\connectionpool.py:1056: InsecureRequestWarning: Unverified HTTPS request is being made to host 'exhibitors.gitex.com'. Adding certificate verification is strongly advised. See: https://urllib3.readthedocs.io/en/1.26.x/advanced-usage.html#ssl-warnings\n",
      "  warnings.warn(\n"
     ]
    },
    {
     "name": "stdout",
     "output_type": "stream",
     "text": [
      "https://exhibitors.gitex.com/gitex-global-2023/Exhibitor/ExbDetails/NjQ4\n"
     ]
    },
    {
     "name": "stderr",
     "output_type": "stream",
     "text": [
      "C:\\Users\\saira\\anaconda3\\Lib\\site-packages\\urllib3\\connectionpool.py:1056: InsecureRequestWarning: Unverified HTTPS request is being made to host 'exhibitors.gitex.com'. Adding certificate verification is strongly advised. See: https://urllib3.readthedocs.io/en/1.26.x/advanced-usage.html#ssl-warnings\n",
      "  warnings.warn(\n"
     ]
    },
    {
     "name": "stdout",
     "output_type": "stream",
     "text": [
      "https://exhibitors.gitex.com/gitex-global-2023/Exhibitor/ExbDetails/MTY3NA==\n"
     ]
    },
    {
     "name": "stderr",
     "output_type": "stream",
     "text": [
      "C:\\Users\\saira\\anaconda3\\Lib\\site-packages\\urllib3\\connectionpool.py:1056: InsecureRequestWarning: Unverified HTTPS request is being made to host 'exhibitors.gitex.com'. Adding certificate verification is strongly advised. See: https://urllib3.readthedocs.io/en/1.26.x/advanced-usage.html#ssl-warnings\n",
      "  warnings.warn(\n"
     ]
    },
    {
     "name": "stdout",
     "output_type": "stream",
     "text": [
      "https://exhibitors.gitex.com/gitex-global-2023/Exhibitor/ExbDetails/MjkyOQ==\n"
     ]
    },
    {
     "name": "stderr",
     "output_type": "stream",
     "text": [
      "C:\\Users\\saira\\anaconda3\\Lib\\site-packages\\urllib3\\connectionpool.py:1056: InsecureRequestWarning: Unverified HTTPS request is being made to host 'exhibitors.gitex.com'. Adding certificate verification is strongly advised. See: https://urllib3.readthedocs.io/en/1.26.x/advanced-usage.html#ssl-warnings\n",
      "  warnings.warn(\n"
     ]
    },
    {
     "name": "stdout",
     "output_type": "stream",
     "text": [
      "https://exhibitors.gitex.com/gitex-global-2023/Exhibitor/ExbDetails/OTM3\n"
     ]
    },
    {
     "name": "stderr",
     "output_type": "stream",
     "text": [
      "C:\\Users\\saira\\anaconda3\\Lib\\site-packages\\urllib3\\connectionpool.py:1056: InsecureRequestWarning: Unverified HTTPS request is being made to host 'exhibitors.gitex.com'. Adding certificate verification is strongly advised. See: https://urllib3.readthedocs.io/en/1.26.x/advanced-usage.html#ssl-warnings\n",
      "  warnings.warn(\n"
     ]
    },
    {
     "name": "stdout",
     "output_type": "stream",
     "text": [
      "https://exhibitors.gitex.com/gitex-global-2023/Exhibitor/ExbDetails/MTQ3Mw==\n"
     ]
    },
    {
     "name": "stderr",
     "output_type": "stream",
     "text": [
      "C:\\Users\\saira\\anaconda3\\Lib\\site-packages\\urllib3\\connectionpool.py:1056: InsecureRequestWarning: Unverified HTTPS request is being made to host 'exhibitors.gitex.com'. Adding certificate verification is strongly advised. See: https://urllib3.readthedocs.io/en/1.26.x/advanced-usage.html#ssl-warnings\n",
      "  warnings.warn(\n"
     ]
    },
    {
     "name": "stdout",
     "output_type": "stream",
     "text": [
      "https://exhibitors.gitex.com/gitex-global-2023/Exhibitor/ExbDetails/MTEzMA==\n"
     ]
    },
    {
     "name": "stderr",
     "output_type": "stream",
     "text": [
      "C:\\Users\\saira\\anaconda3\\Lib\\site-packages\\urllib3\\connectionpool.py:1056: InsecureRequestWarning: Unverified HTTPS request is being made to host 'exhibitors.gitex.com'. Adding certificate verification is strongly advised. See: https://urllib3.readthedocs.io/en/1.26.x/advanced-usage.html#ssl-warnings\n",
      "  warnings.warn(\n"
     ]
    },
    {
     "name": "stdout",
     "output_type": "stream",
     "text": [
      "https://exhibitors.gitex.com/gitex-global-2023/Exhibitor/ExbDetails/NzA3\n"
     ]
    },
    {
     "name": "stderr",
     "output_type": "stream",
     "text": [
      "C:\\Users\\saira\\anaconda3\\Lib\\site-packages\\urllib3\\connectionpool.py:1056: InsecureRequestWarning: Unverified HTTPS request is being made to host 'exhibitors.gitex.com'. Adding certificate verification is strongly advised. See: https://urllib3.readthedocs.io/en/1.26.x/advanced-usage.html#ssl-warnings\n",
      "  warnings.warn(\n"
     ]
    },
    {
     "name": "stdout",
     "output_type": "stream",
     "text": [
      "https://exhibitors.gitex.com/gitex-global-2023/Exhibitor/ExbDetails/MjE5Mg==\n"
     ]
    },
    {
     "name": "stderr",
     "output_type": "stream",
     "text": [
      "C:\\Users\\saira\\anaconda3\\Lib\\site-packages\\urllib3\\connectionpool.py:1056: InsecureRequestWarning: Unverified HTTPS request is being made to host 'exhibitors.gitex.com'. Adding certificate verification is strongly advised. See: https://urllib3.readthedocs.io/en/1.26.x/advanced-usage.html#ssl-warnings\n",
      "  warnings.warn(\n"
     ]
    },
    {
     "name": "stdout",
     "output_type": "stream",
     "text": [
      "https://exhibitors.gitex.com/gitex-global-2023/Exhibitor/ExbDetails/MTAyMA==\n"
     ]
    },
    {
     "name": "stderr",
     "output_type": "stream",
     "text": [
      "C:\\Users\\saira\\anaconda3\\Lib\\site-packages\\urllib3\\connectionpool.py:1056: InsecureRequestWarning: Unverified HTTPS request is being made to host 'exhibitors.gitex.com'. Adding certificate verification is strongly advised. See: https://urllib3.readthedocs.io/en/1.26.x/advanced-usage.html#ssl-warnings\n",
      "  warnings.warn(\n"
     ]
    },
    {
     "name": "stdout",
     "output_type": "stream",
     "text": [
      "https://exhibitors.gitex.com/gitex-global-2023/Exhibitor/ExbDetails/NDA3\n"
     ]
    },
    {
     "name": "stderr",
     "output_type": "stream",
     "text": [
      "C:\\Users\\saira\\anaconda3\\Lib\\site-packages\\urllib3\\connectionpool.py:1056: InsecureRequestWarning: Unverified HTTPS request is being made to host 'exhibitors.gitex.com'. Adding certificate verification is strongly advised. See: https://urllib3.readthedocs.io/en/1.26.x/advanced-usage.html#ssl-warnings\n",
      "  warnings.warn(\n"
     ]
    },
    {
     "name": "stdout",
     "output_type": "stream",
     "text": [
      "https://exhibitors.gitex.com/gitex-global-2023/Exhibitor/ExbDetails/NjY4\n"
     ]
    },
    {
     "name": "stderr",
     "output_type": "stream",
     "text": [
      "C:\\Users\\saira\\anaconda3\\Lib\\site-packages\\urllib3\\connectionpool.py:1056: InsecureRequestWarning: Unverified HTTPS request is being made to host 'exhibitors.gitex.com'. Adding certificate verification is strongly advised. See: https://urllib3.readthedocs.io/en/1.26.x/advanced-usage.html#ssl-warnings\n",
      "  warnings.warn(\n"
     ]
    },
    {
     "name": "stdout",
     "output_type": "stream",
     "text": [
      "https://exhibitors.gitex.com/gitex-global-2023/Exhibitor/ExbDetails/MTQ2OA==\n"
     ]
    },
    {
     "name": "stderr",
     "output_type": "stream",
     "text": [
      "C:\\Users\\saira\\anaconda3\\Lib\\site-packages\\urllib3\\connectionpool.py:1056: InsecureRequestWarning: Unverified HTTPS request is being made to host 'exhibitors.gitex.com'. Adding certificate verification is strongly advised. See: https://urllib3.readthedocs.io/en/1.26.x/advanced-usage.html#ssl-warnings\n",
      "  warnings.warn(\n"
     ]
    },
    {
     "name": "stdout",
     "output_type": "stream",
     "text": [
      "https://exhibitors.gitex.com/gitex-global-2023/Exhibitor/ExbDetails/MTM4OQ==\n"
     ]
    },
    {
     "name": "stderr",
     "output_type": "stream",
     "text": [
      "C:\\Users\\saira\\anaconda3\\Lib\\site-packages\\urllib3\\connectionpool.py:1056: InsecureRequestWarning: Unverified HTTPS request is being made to host 'exhibitors.gitex.com'. Adding certificate verification is strongly advised. See: https://urllib3.readthedocs.io/en/1.26.x/advanced-usage.html#ssl-warnings\n",
      "  warnings.warn(\n"
     ]
    },
    {
     "name": "stdout",
     "output_type": "stream",
     "text": [
      "https://exhibitors.gitex.com/gitex-global-2023/Exhibitor/ExbDetails/NTM0\n"
     ]
    },
    {
     "name": "stderr",
     "output_type": "stream",
     "text": [
      "C:\\Users\\saira\\anaconda3\\Lib\\site-packages\\urllib3\\connectionpool.py:1056: InsecureRequestWarning: Unverified HTTPS request is being made to host 'exhibitors.gitex.com'. Adding certificate verification is strongly advised. See: https://urllib3.readthedocs.io/en/1.26.x/advanced-usage.html#ssl-warnings\n",
      "  warnings.warn(\n"
     ]
    },
    {
     "name": "stdout",
     "output_type": "stream",
     "text": [
      "https://exhibitors.gitex.com/gitex-global-2023/Exhibitor/ExbDetails/MTEyMw==\n"
     ]
    },
    {
     "name": "stderr",
     "output_type": "stream",
     "text": [
      "C:\\Users\\saira\\anaconda3\\Lib\\site-packages\\urllib3\\connectionpool.py:1056: InsecureRequestWarning: Unverified HTTPS request is being made to host 'exhibitors.gitex.com'. Adding certificate verification is strongly advised. See: https://urllib3.readthedocs.io/en/1.26.x/advanced-usage.html#ssl-warnings\n",
      "  warnings.warn(\n"
     ]
    },
    {
     "name": "stdout",
     "output_type": "stream",
     "text": [
      "https://exhibitors.gitex.com/gitex-global-2023/Exhibitor/ExbDetails/MTM3NQ==\n"
     ]
    },
    {
     "name": "stderr",
     "output_type": "stream",
     "text": [
      "C:\\Users\\saira\\anaconda3\\Lib\\site-packages\\urllib3\\connectionpool.py:1056: InsecureRequestWarning: Unverified HTTPS request is being made to host 'exhibitors.gitex.com'. Adding certificate verification is strongly advised. See: https://urllib3.readthedocs.io/en/1.26.x/advanced-usage.html#ssl-warnings\n",
      "  warnings.warn(\n"
     ]
    },
    {
     "name": "stdout",
     "output_type": "stream",
     "text": [
      "https://exhibitors.gitex.com/gitex-global-2023/Exhibitor/ExbDetails/MTM0Ng==\n"
     ]
    },
    {
     "name": "stderr",
     "output_type": "stream",
     "text": [
      "C:\\Users\\saira\\anaconda3\\Lib\\site-packages\\urllib3\\connectionpool.py:1056: InsecureRequestWarning: Unverified HTTPS request is being made to host 'exhibitors.gitex.com'. Adding certificate verification is strongly advised. See: https://urllib3.readthedocs.io/en/1.26.x/advanced-usage.html#ssl-warnings\n",
      "  warnings.warn(\n"
     ]
    },
    {
     "name": "stdout",
     "output_type": "stream",
     "text": [
      "https://exhibitors.gitex.com/gitex-global-2023/Exhibitor/ExbDetails/MTQ1Mg==\n"
     ]
    },
    {
     "name": "stderr",
     "output_type": "stream",
     "text": [
      "C:\\Users\\saira\\anaconda3\\Lib\\site-packages\\urllib3\\connectionpool.py:1056: InsecureRequestWarning: Unverified HTTPS request is being made to host 'exhibitors.gitex.com'. Adding certificate verification is strongly advised. See: https://urllib3.readthedocs.io/en/1.26.x/advanced-usage.html#ssl-warnings\n",
      "  warnings.warn(\n"
     ]
    },
    {
     "name": "stdout",
     "output_type": "stream",
     "text": [
      "https://exhibitors.gitex.com/gitex-global-2023/Exhibitor/ExbDetails/MTU4NQ==\n"
     ]
    },
    {
     "name": "stderr",
     "output_type": "stream",
     "text": [
      "C:\\Users\\saira\\anaconda3\\Lib\\site-packages\\urllib3\\connectionpool.py:1056: InsecureRequestWarning: Unverified HTTPS request is being made to host 'exhibitors.gitex.com'. Adding certificate verification is strongly advised. See: https://urllib3.readthedocs.io/en/1.26.x/advanced-usage.html#ssl-warnings\n",
      "  warnings.warn(\n"
     ]
    },
    {
     "name": "stdout",
     "output_type": "stream",
     "text": [
      "https://exhibitors.gitex.com/gitex-global-2023/Exhibitor/ExbDetails/MTQ1NA==\n"
     ]
    },
    {
     "name": "stderr",
     "output_type": "stream",
     "text": [
      "C:\\Users\\saira\\anaconda3\\Lib\\site-packages\\urllib3\\connectionpool.py:1056: InsecureRequestWarning: Unverified HTTPS request is being made to host 'exhibitors.gitex.com'. Adding certificate verification is strongly advised. See: https://urllib3.readthedocs.io/en/1.26.x/advanced-usage.html#ssl-warnings\n",
      "  warnings.warn(\n"
     ]
    },
    {
     "name": "stdout",
     "output_type": "stream",
     "text": [
      "https://exhibitors.gitex.com/gitex-global-2023/Exhibitor/ExbDetails/MTQ3Nw==\n"
     ]
    },
    {
     "name": "stderr",
     "output_type": "stream",
     "text": [
      "C:\\Users\\saira\\anaconda3\\Lib\\site-packages\\urllib3\\connectionpool.py:1056: InsecureRequestWarning: Unverified HTTPS request is being made to host 'exhibitors.gitex.com'. Adding certificate verification is strongly advised. See: https://urllib3.readthedocs.io/en/1.26.x/advanced-usage.html#ssl-warnings\n",
      "  warnings.warn(\n"
     ]
    },
    {
     "name": "stdout",
     "output_type": "stream",
     "text": [
      "https://exhibitors.gitex.com/gitex-global-2023/Exhibitor/ExbDetails/MTUwMQ==\n"
     ]
    },
    {
     "name": "stderr",
     "output_type": "stream",
     "text": [
      "C:\\Users\\saira\\anaconda3\\Lib\\site-packages\\urllib3\\connectionpool.py:1056: InsecureRequestWarning: Unverified HTTPS request is being made to host 'exhibitors.gitex.com'. Adding certificate verification is strongly advised. See: https://urllib3.readthedocs.io/en/1.26.x/advanced-usage.html#ssl-warnings\n",
      "  warnings.warn(\n"
     ]
    },
    {
     "name": "stdout",
     "output_type": "stream",
     "text": [
      "https://exhibitors.gitex.com/gitex-global-2023/Exhibitor/ExbDetails/MTU4NA==\n"
     ]
    },
    {
     "name": "stderr",
     "output_type": "stream",
     "text": [
      "C:\\Users\\saira\\anaconda3\\Lib\\site-packages\\urllib3\\connectionpool.py:1056: InsecureRequestWarning: Unverified HTTPS request is being made to host 'exhibitors.gitex.com'. Adding certificate verification is strongly advised. See: https://urllib3.readthedocs.io/en/1.26.x/advanced-usage.html#ssl-warnings\n",
      "  warnings.warn(\n"
     ]
    },
    {
     "name": "stdout",
     "output_type": "stream",
     "text": [
      "https://exhibitors.gitex.com/gitex-global-2023/Exhibitor/ExbDetails/MTM3NA==\n"
     ]
    },
    {
     "name": "stderr",
     "output_type": "stream",
     "text": [
      "C:\\Users\\saira\\anaconda3\\Lib\\site-packages\\urllib3\\connectionpool.py:1056: InsecureRequestWarning: Unverified HTTPS request is being made to host 'exhibitors.gitex.com'. Adding certificate verification is strongly advised. See: https://urllib3.readthedocs.io/en/1.26.x/advanced-usage.html#ssl-warnings\n",
      "  warnings.warn(\n"
     ]
    },
    {
     "name": "stdout",
     "output_type": "stream",
     "text": [
      "https://exhibitors.gitex.com/gitex-global-2023/Exhibitor/ExbDetails/MTQ4MQ==\n"
     ]
    },
    {
     "name": "stderr",
     "output_type": "stream",
     "text": [
      "C:\\Users\\saira\\anaconda3\\Lib\\site-packages\\urllib3\\connectionpool.py:1056: InsecureRequestWarning: Unverified HTTPS request is being made to host 'exhibitors.gitex.com'. Adding certificate verification is strongly advised. See: https://urllib3.readthedocs.io/en/1.26.x/advanced-usage.html#ssl-warnings\n",
      "  warnings.warn(\n"
     ]
    },
    {
     "name": "stdout",
     "output_type": "stream",
     "text": [
      "https://exhibitors.gitex.com/gitex-global-2023/Exhibitor/ExbDetails/MTM2NA==\n"
     ]
    },
    {
     "name": "stderr",
     "output_type": "stream",
     "text": [
      "C:\\Users\\saira\\anaconda3\\Lib\\site-packages\\urllib3\\connectionpool.py:1056: InsecureRequestWarning: Unverified HTTPS request is being made to host 'exhibitors.gitex.com'. Adding certificate verification is strongly advised. See: https://urllib3.readthedocs.io/en/1.26.x/advanced-usage.html#ssl-warnings\n",
      "  warnings.warn(\n"
     ]
    },
    {
     "name": "stdout",
     "output_type": "stream",
     "text": [
      "https://exhibitors.gitex.com/gitex-global-2023/Exhibitor/ExbDetails/MTQzNw==\n"
     ]
    },
    {
     "name": "stderr",
     "output_type": "stream",
     "text": [
      "C:\\Users\\saira\\anaconda3\\Lib\\site-packages\\urllib3\\connectionpool.py:1056: InsecureRequestWarning: Unverified HTTPS request is being made to host 'exhibitors.gitex.com'. Adding certificate verification is strongly advised. See: https://urllib3.readthedocs.io/en/1.26.x/advanced-usage.html#ssl-warnings\n",
      "  warnings.warn(\n"
     ]
    },
    {
     "name": "stdout",
     "output_type": "stream",
     "text": [
      "https://exhibitors.gitex.com/gitex-global-2023/Exhibitor/ExbDetails/MTU4Mw==\n"
     ]
    },
    {
     "name": "stderr",
     "output_type": "stream",
     "text": [
      "C:\\Users\\saira\\anaconda3\\Lib\\site-packages\\urllib3\\connectionpool.py:1056: InsecureRequestWarning: Unverified HTTPS request is being made to host 'exhibitors.gitex.com'. Adding certificate verification is strongly advised. See: https://urllib3.readthedocs.io/en/1.26.x/advanced-usage.html#ssl-warnings\n",
      "  warnings.warn(\n"
     ]
    },
    {
     "name": "stdout",
     "output_type": "stream",
     "text": [
      "https://exhibitors.gitex.com/gitex-global-2023/Exhibitor/ExbDetails/MTQ0NQ==\n"
     ]
    },
    {
     "name": "stderr",
     "output_type": "stream",
     "text": [
      "C:\\Users\\saira\\anaconda3\\Lib\\site-packages\\urllib3\\connectionpool.py:1056: InsecureRequestWarning: Unverified HTTPS request is being made to host 'exhibitors.gitex.com'. Adding certificate verification is strongly advised. See: https://urllib3.readthedocs.io/en/1.26.x/advanced-usage.html#ssl-warnings\n",
      "  warnings.warn(\n"
     ]
    },
    {
     "name": "stdout",
     "output_type": "stream",
     "text": [
      "https://exhibitors.gitex.com/gitex-global-2023/Exhibitor/ExbDetails/MTQxNg==\n"
     ]
    },
    {
     "name": "stderr",
     "output_type": "stream",
     "text": [
      "C:\\Users\\saira\\anaconda3\\Lib\\site-packages\\urllib3\\connectionpool.py:1056: InsecureRequestWarning: Unverified HTTPS request is being made to host 'exhibitors.gitex.com'. Adding certificate verification is strongly advised. See: https://urllib3.readthedocs.io/en/1.26.x/advanced-usage.html#ssl-warnings\n",
      "  warnings.warn(\n"
     ]
    },
    {
     "name": "stdout",
     "output_type": "stream",
     "text": [
      "https://exhibitors.gitex.com/gitex-global-2023/Exhibitor/ExbDetails/MTExNw==\n"
     ]
    },
    {
     "name": "stderr",
     "output_type": "stream",
     "text": [
      "C:\\Users\\saira\\anaconda3\\Lib\\site-packages\\urllib3\\connectionpool.py:1056: InsecureRequestWarning: Unverified HTTPS request is being made to host 'exhibitors.gitex.com'. Adding certificate verification is strongly advised. See: https://urllib3.readthedocs.io/en/1.26.x/advanced-usage.html#ssl-warnings\n",
      "  warnings.warn(\n"
     ]
    },
    {
     "name": "stdout",
     "output_type": "stream",
     "text": [
      "https://exhibitors.gitex.com/gitex-global-2023/Exhibitor/ExbDetails/MTM3Mg==\n"
     ]
    },
    {
     "name": "stderr",
     "output_type": "stream",
     "text": [
      "C:\\Users\\saira\\anaconda3\\Lib\\site-packages\\urllib3\\connectionpool.py:1056: InsecureRequestWarning: Unverified HTTPS request is being made to host 'exhibitors.gitex.com'. Adding certificate verification is strongly advised. See: https://urllib3.readthedocs.io/en/1.26.x/advanced-usage.html#ssl-warnings\n",
      "  warnings.warn(\n"
     ]
    },
    {
     "name": "stdout",
     "output_type": "stream",
     "text": [
      "https://exhibitors.gitex.com/gitex-global-2023/Exhibitor/ExbDetails/MTU4Mg==\n"
     ]
    },
    {
     "name": "stderr",
     "output_type": "stream",
     "text": [
      "C:\\Users\\saira\\anaconda3\\Lib\\site-packages\\urllib3\\connectionpool.py:1056: InsecureRequestWarning: Unverified HTTPS request is being made to host 'exhibitors.gitex.com'. Adding certificate verification is strongly advised. See: https://urllib3.readthedocs.io/en/1.26.x/advanced-usage.html#ssl-warnings\n",
      "  warnings.warn(\n"
     ]
    },
    {
     "name": "stdout",
     "output_type": "stream",
     "text": [
      "https://exhibitors.gitex.com/gitex-global-2023/Exhibitor/ExbDetails/MTQwMA==\n"
     ]
    },
    {
     "name": "stderr",
     "output_type": "stream",
     "text": [
      "C:\\Users\\saira\\anaconda3\\Lib\\site-packages\\urllib3\\connectionpool.py:1056: InsecureRequestWarning: Unverified HTTPS request is being made to host 'exhibitors.gitex.com'. Adding certificate verification is strongly advised. See: https://urllib3.readthedocs.io/en/1.26.x/advanced-usage.html#ssl-warnings\n",
      "  warnings.warn(\n"
     ]
    },
    {
     "name": "stdout",
     "output_type": "stream",
     "text": [
      "https://exhibitors.gitex.com/gitex-global-2023/Exhibitor/ExbDetails/MTQ1Ng==\n"
     ]
    },
    {
     "name": "stderr",
     "output_type": "stream",
     "text": [
      "C:\\Users\\saira\\anaconda3\\Lib\\site-packages\\urllib3\\connectionpool.py:1056: InsecureRequestWarning: Unverified HTTPS request is being made to host 'exhibitors.gitex.com'. Adding certificate verification is strongly advised. See: https://urllib3.readthedocs.io/en/1.26.x/advanced-usage.html#ssl-warnings\n",
      "  warnings.warn(\n"
     ]
    },
    {
     "name": "stdout",
     "output_type": "stream",
     "text": [
      "https://exhibitors.gitex.com/gitex-global-2023/Exhibitor/ExbDetails/MTU4MA==\n"
     ]
    },
    {
     "name": "stderr",
     "output_type": "stream",
     "text": [
      "C:\\Users\\saira\\anaconda3\\Lib\\site-packages\\urllib3\\connectionpool.py:1056: InsecureRequestWarning: Unverified HTTPS request is being made to host 'exhibitors.gitex.com'. Adding certificate verification is strongly advised. See: https://urllib3.readthedocs.io/en/1.26.x/advanced-usage.html#ssl-warnings\n",
      "  warnings.warn(\n"
     ]
    },
    {
     "name": "stdout",
     "output_type": "stream",
     "text": [
      "https://exhibitors.gitex.com/gitex-global-2023/Exhibitor/ExbDetails/MTM1NA==\n"
     ]
    },
    {
     "name": "stderr",
     "output_type": "stream",
     "text": [
      "C:\\Users\\saira\\anaconda3\\Lib\\site-packages\\urllib3\\connectionpool.py:1056: InsecureRequestWarning: Unverified HTTPS request is being made to host 'exhibitors.gitex.com'. Adding certificate verification is strongly advised. See: https://urllib3.readthedocs.io/en/1.26.x/advanced-usage.html#ssl-warnings\n",
      "  warnings.warn(\n"
     ]
    },
    {
     "name": "stdout",
     "output_type": "stream",
     "text": [
      "https://exhibitors.gitex.com/gitex-global-2023/Exhibitor/ExbDetails/MTU3OQ==\n"
     ]
    },
    {
     "name": "stderr",
     "output_type": "stream",
     "text": [
      "C:\\Users\\saira\\anaconda3\\Lib\\site-packages\\urllib3\\connectionpool.py:1056: InsecureRequestWarning: Unverified HTTPS request is being made to host 'exhibitors.gitex.com'. Adding certificate verification is strongly advised. See: https://urllib3.readthedocs.io/en/1.26.x/advanced-usage.html#ssl-warnings\n",
      "  warnings.warn(\n"
     ]
    },
    {
     "name": "stdout",
     "output_type": "stream",
     "text": [
      "https://exhibitors.gitex.com/gitex-global-2023/Exhibitor/ExbDetails/MTExNQ==\n"
     ]
    },
    {
     "name": "stderr",
     "output_type": "stream",
     "text": [
      "C:\\Users\\saira\\anaconda3\\Lib\\site-packages\\urllib3\\connectionpool.py:1056: InsecureRequestWarning: Unverified HTTPS request is being made to host 'exhibitors.gitex.com'. Adding certificate verification is strongly advised. See: https://urllib3.readthedocs.io/en/1.26.x/advanced-usage.html#ssl-warnings\n",
      "  warnings.warn(\n"
     ]
    },
    {
     "name": "stdout",
     "output_type": "stream",
     "text": [
      "https://exhibitors.gitex.com/gitex-global-2023/Exhibitor/ExbDetails/MTQwMQ==\n"
     ]
    },
    {
     "name": "stderr",
     "output_type": "stream",
     "text": [
      "C:\\Users\\saira\\anaconda3\\Lib\\site-packages\\urllib3\\connectionpool.py:1056: InsecureRequestWarning: Unverified HTTPS request is being made to host 'exhibitors.gitex.com'. Adding certificate verification is strongly advised. See: https://urllib3.readthedocs.io/en/1.26.x/advanced-usage.html#ssl-warnings\n",
      "  warnings.warn(\n"
     ]
    },
    {
     "name": "stdout",
     "output_type": "stream",
     "text": [
      "https://exhibitors.gitex.com/gitex-global-2023/Exhibitor/ExbDetails/MTU3Nw==\n"
     ]
    },
    {
     "name": "stderr",
     "output_type": "stream",
     "text": [
      "C:\\Users\\saira\\anaconda3\\Lib\\site-packages\\urllib3\\connectionpool.py:1056: InsecureRequestWarning: Unverified HTTPS request is being made to host 'exhibitors.gitex.com'. Adding certificate verification is strongly advised. See: https://urllib3.readthedocs.io/en/1.26.x/advanced-usage.html#ssl-warnings\n",
      "  warnings.warn(\n"
     ]
    },
    {
     "name": "stdout",
     "output_type": "stream",
     "text": [
      "https://exhibitors.gitex.com/gitex-global-2023/Exhibitor/ExbDetails/MTQyMw==\n"
     ]
    },
    {
     "name": "stderr",
     "output_type": "stream",
     "text": [
      "C:\\Users\\saira\\anaconda3\\Lib\\site-packages\\urllib3\\connectionpool.py:1056: InsecureRequestWarning: Unverified HTTPS request is being made to host 'exhibitors.gitex.com'. Adding certificate verification is strongly advised. See: https://urllib3.readthedocs.io/en/1.26.x/advanced-usage.html#ssl-warnings\n",
      "  warnings.warn(\n"
     ]
    },
    {
     "name": "stdout",
     "output_type": "stream",
     "text": [
      "https://exhibitors.gitex.com/gitex-global-2023/Exhibitor/ExbDetails/MTExOQ==\n"
     ]
    },
    {
     "name": "stderr",
     "output_type": "stream",
     "text": [
      "C:\\Users\\saira\\anaconda3\\Lib\\site-packages\\urllib3\\connectionpool.py:1056: InsecureRequestWarning: Unverified HTTPS request is being made to host 'exhibitors.gitex.com'. Adding certificate verification is strongly advised. See: https://urllib3.readthedocs.io/en/1.26.x/advanced-usage.html#ssl-warnings\n",
      "  warnings.warn(\n"
     ]
    },
    {
     "name": "stdout",
     "output_type": "stream",
     "text": [
      "https://exhibitors.gitex.com/gitex-global-2023/Exhibitor/ExbDetails/MTM1Mg==\n"
     ]
    },
    {
     "name": "stderr",
     "output_type": "stream",
     "text": [
      "C:\\Users\\saira\\anaconda3\\Lib\\site-packages\\urllib3\\connectionpool.py:1056: InsecureRequestWarning: Unverified HTTPS request is being made to host 'exhibitors.gitex.com'. Adding certificate verification is strongly advised. See: https://urllib3.readthedocs.io/en/1.26.x/advanced-usage.html#ssl-warnings\n",
      "  warnings.warn(\n"
     ]
    },
    {
     "name": "stdout",
     "output_type": "stream",
     "text": [
      "https://exhibitors.gitex.com/gitex-global-2023/Exhibitor/ExbDetails/MTU3Ng==\n"
     ]
    },
    {
     "name": "stderr",
     "output_type": "stream",
     "text": [
      "C:\\Users\\saira\\anaconda3\\Lib\\site-packages\\urllib3\\connectionpool.py:1056: InsecureRequestWarning: Unverified HTTPS request is being made to host 'exhibitors.gitex.com'. Adding certificate verification is strongly advised. See: https://urllib3.readthedocs.io/en/1.26.x/advanced-usage.html#ssl-warnings\n",
      "  warnings.warn(\n"
     ]
    },
    {
     "name": "stdout",
     "output_type": "stream",
     "text": [
      "https://exhibitors.gitex.com/gitex-global-2023/Exhibitor/ExbDetails/MTEyNQ==\n"
     ]
    },
    {
     "name": "stderr",
     "output_type": "stream",
     "text": [
      "C:\\Users\\saira\\anaconda3\\Lib\\site-packages\\urllib3\\connectionpool.py:1056: InsecureRequestWarning: Unverified HTTPS request is being made to host 'exhibitors.gitex.com'. Adding certificate verification is strongly advised. See: https://urllib3.readthedocs.io/en/1.26.x/advanced-usage.html#ssl-warnings\n",
      "  warnings.warn(\n"
     ]
    },
    {
     "name": "stdout",
     "output_type": "stream",
     "text": [
      "https://exhibitors.gitex.com/gitex-global-2023/Exhibitor/ExbDetails/MTExNg==\n"
     ]
    },
    {
     "name": "stderr",
     "output_type": "stream",
     "text": [
      "C:\\Users\\saira\\anaconda3\\Lib\\site-packages\\urllib3\\connectionpool.py:1056: InsecureRequestWarning: Unverified HTTPS request is being made to host 'exhibitors.gitex.com'. Adding certificate verification is strongly advised. See: https://urllib3.readthedocs.io/en/1.26.x/advanced-usage.html#ssl-warnings\n",
      "  warnings.warn(\n"
     ]
    },
    {
     "name": "stdout",
     "output_type": "stream",
     "text": [
      "https://exhibitors.gitex.com/gitex-global-2023/Exhibitor/ExbDetails/MTQwNw==\n"
     ]
    },
    {
     "name": "stderr",
     "output_type": "stream",
     "text": [
      "C:\\Users\\saira\\anaconda3\\Lib\\site-packages\\urllib3\\connectionpool.py:1056: InsecureRequestWarning: Unverified HTTPS request is being made to host 'exhibitors.gitex.com'. Adding certificate verification is strongly advised. See: https://urllib3.readthedocs.io/en/1.26.x/advanced-usage.html#ssl-warnings\n",
      "  warnings.warn(\n"
     ]
    },
    {
     "name": "stdout",
     "output_type": "stream",
     "text": [
      "https://exhibitors.gitex.com/gitex-global-2023/Exhibitor/ExbDetails/OTg4\n"
     ]
    },
    {
     "name": "stderr",
     "output_type": "stream",
     "text": [
      "C:\\Users\\saira\\anaconda3\\Lib\\site-packages\\urllib3\\connectionpool.py:1056: InsecureRequestWarning: Unverified HTTPS request is being made to host 'exhibitors.gitex.com'. Adding certificate verification is strongly advised. See: https://urllib3.readthedocs.io/en/1.26.x/advanced-usage.html#ssl-warnings\n",
      "  warnings.warn(\n"
     ]
    },
    {
     "name": "stdout",
     "output_type": "stream",
     "text": [
      "https://exhibitors.gitex.com/gitex-global-2023/Exhibitor/ExbDetails/OTUw\n"
     ]
    },
    {
     "name": "stderr",
     "output_type": "stream",
     "text": [
      "C:\\Users\\saira\\anaconda3\\Lib\\site-packages\\urllib3\\connectionpool.py:1056: InsecureRequestWarning: Unverified HTTPS request is being made to host 'exhibitors.gitex.com'. Adding certificate verification is strongly advised. See: https://urllib3.readthedocs.io/en/1.26.x/advanced-usage.html#ssl-warnings\n",
      "  warnings.warn(\n"
     ]
    },
    {
     "name": "stdout",
     "output_type": "stream",
     "text": [
      "https://exhibitors.gitex.com/gitex-global-2023/Exhibitor/ExbDetails/MTQ0Mg==\n"
     ]
    },
    {
     "name": "stderr",
     "output_type": "stream",
     "text": [
      "C:\\Users\\saira\\anaconda3\\Lib\\site-packages\\urllib3\\connectionpool.py:1056: InsecureRequestWarning: Unverified HTTPS request is being made to host 'exhibitors.gitex.com'. Adding certificate verification is strongly advised. See: https://urllib3.readthedocs.io/en/1.26.x/advanced-usage.html#ssl-warnings\n",
      "  warnings.warn(\n"
     ]
    },
    {
     "name": "stdout",
     "output_type": "stream",
     "text": [
      "https://exhibitors.gitex.com/gitex-global-2023/Exhibitor/ExbDetails/MTQ1MQ==\n"
     ]
    },
    {
     "name": "stderr",
     "output_type": "stream",
     "text": [
      "C:\\Users\\saira\\anaconda3\\Lib\\site-packages\\urllib3\\connectionpool.py:1056: InsecureRequestWarning: Unverified HTTPS request is being made to host 'exhibitors.gitex.com'. Adding certificate verification is strongly advised. See: https://urllib3.readthedocs.io/en/1.26.x/advanced-usage.html#ssl-warnings\n",
      "  warnings.warn(\n"
     ]
    },
    {
     "name": "stdout",
     "output_type": "stream",
     "text": [
      "https://exhibitors.gitex.com/gitex-global-2023/Exhibitor/ExbDetails/MTQxNw==\n"
     ]
    },
    {
     "name": "stderr",
     "output_type": "stream",
     "text": [
      "C:\\Users\\saira\\anaconda3\\Lib\\site-packages\\urllib3\\connectionpool.py:1056: InsecureRequestWarning: Unverified HTTPS request is being made to host 'exhibitors.gitex.com'. Adding certificate verification is strongly advised. See: https://urllib3.readthedocs.io/en/1.26.x/advanced-usage.html#ssl-warnings\n",
      "  warnings.warn(\n"
     ]
    },
    {
     "name": "stdout",
     "output_type": "stream",
     "text": [
      "https://exhibitors.gitex.com/gitex-global-2023/Exhibitor/ExbDetails/MTM3Ng==\n"
     ]
    },
    {
     "name": "stderr",
     "output_type": "stream",
     "text": [
      "C:\\Users\\saira\\anaconda3\\Lib\\site-packages\\urllib3\\connectionpool.py:1056: InsecureRequestWarning: Unverified HTTPS request is being made to host 'exhibitors.gitex.com'. Adding certificate verification is strongly advised. See: https://urllib3.readthedocs.io/en/1.26.x/advanced-usage.html#ssl-warnings\n",
      "  warnings.warn(\n"
     ]
    },
    {
     "name": "stdout",
     "output_type": "stream",
     "text": [
      "https://exhibitors.gitex.com/gitex-global-2023/Exhibitor/ExbDetails/MTM3MA==\n"
     ]
    },
    {
     "name": "stderr",
     "output_type": "stream",
     "text": [
      "C:\\Users\\saira\\anaconda3\\Lib\\site-packages\\urllib3\\connectionpool.py:1056: InsecureRequestWarning: Unverified HTTPS request is being made to host 'exhibitors.gitex.com'. Adding certificate verification is strongly advised. See: https://urllib3.readthedocs.io/en/1.26.x/advanced-usage.html#ssl-warnings\n",
      "  warnings.warn(\n"
     ]
    },
    {
     "name": "stdout",
     "output_type": "stream",
     "text": [
      "https://exhibitors.gitex.com/gitex-global-2023/Exhibitor/ExbDetails/MTEyNA==\n"
     ]
    },
    {
     "name": "stderr",
     "output_type": "stream",
     "text": [
      "C:\\Users\\saira\\anaconda3\\Lib\\site-packages\\urllib3\\connectionpool.py:1056: InsecureRequestWarning: Unverified HTTPS request is being made to host 'exhibitors.gitex.com'. Adding certificate verification is strongly advised. See: https://urllib3.readthedocs.io/en/1.26.x/advanced-usage.html#ssl-warnings\n",
      "  warnings.warn(\n"
     ]
    },
    {
     "name": "stdout",
     "output_type": "stream",
     "text": [
      "https://exhibitors.gitex.com/gitex-global-2023/Exhibitor/ExbDetails/MTQ1MA==\n"
     ]
    },
    {
     "name": "stderr",
     "output_type": "stream",
     "text": [
      "C:\\Users\\saira\\anaconda3\\Lib\\site-packages\\urllib3\\connectionpool.py:1056: InsecureRequestWarning: Unverified HTTPS request is being made to host 'exhibitors.gitex.com'. Adding certificate verification is strongly advised. See: https://urllib3.readthedocs.io/en/1.26.x/advanced-usage.html#ssl-warnings\n",
      "  warnings.warn(\n"
     ]
    },
    {
     "name": "stdout",
     "output_type": "stream",
     "text": [
      "https://exhibitors.gitex.com/gitex-global-2023/Exhibitor/ExbDetails/MTM2OA==\n"
     ]
    },
    {
     "name": "stderr",
     "output_type": "stream",
     "text": [
      "C:\\Users\\saira\\anaconda3\\Lib\\site-packages\\urllib3\\connectionpool.py:1056: InsecureRequestWarning: Unverified HTTPS request is being made to host 'exhibitors.gitex.com'. Adding certificate verification is strongly advised. See: https://urllib3.readthedocs.io/en/1.26.x/advanced-usage.html#ssl-warnings\n",
      "  warnings.warn(\n"
     ]
    },
    {
     "name": "stdout",
     "output_type": "stream",
     "text": [
      "https://exhibitors.gitex.com/gitex-global-2023/Exhibitor/ExbDetails/MTM1Mw==\n"
     ]
    },
    {
     "name": "stderr",
     "output_type": "stream",
     "text": [
      "C:\\Users\\saira\\anaconda3\\Lib\\site-packages\\urllib3\\connectionpool.py:1056: InsecureRequestWarning: Unverified HTTPS request is being made to host 'exhibitors.gitex.com'. Adding certificate verification is strongly advised. See: https://urllib3.readthedocs.io/en/1.26.x/advanced-usage.html#ssl-warnings\n",
      "  warnings.warn(\n"
     ]
    },
    {
     "name": "stdout",
     "output_type": "stream",
     "text": [
      "https://exhibitors.gitex.com/gitex-global-2023/Exhibitor/ExbDetails/MTM1Ng==\n"
     ]
    },
    {
     "name": "stderr",
     "output_type": "stream",
     "text": [
      "C:\\Users\\saira\\anaconda3\\Lib\\site-packages\\urllib3\\connectionpool.py:1056: InsecureRequestWarning: Unverified HTTPS request is being made to host 'exhibitors.gitex.com'. Adding certificate verification is strongly advised. See: https://urllib3.readthedocs.io/en/1.26.x/advanced-usage.html#ssl-warnings\n",
      "  warnings.warn(\n"
     ]
    },
    {
     "name": "stdout",
     "output_type": "stream",
     "text": [
      "https://exhibitors.gitex.com/gitex-global-2023/Exhibitor/ExbDetails/MTU3NA==\n"
     ]
    },
    {
     "name": "stderr",
     "output_type": "stream",
     "text": [
      "C:\\Users\\saira\\anaconda3\\Lib\\site-packages\\urllib3\\connectionpool.py:1056: InsecureRequestWarning: Unverified HTTPS request is being made to host 'exhibitors.gitex.com'. Adding certificate verification is strongly advised. See: https://urllib3.readthedocs.io/en/1.26.x/advanced-usage.html#ssl-warnings\n",
      "  warnings.warn(\n"
     ]
    },
    {
     "name": "stdout",
     "output_type": "stream",
     "text": [
      "https://exhibitors.gitex.com/gitex-global-2023/Exhibitor/ExbDetails/MTU3Mw==\n"
     ]
    },
    {
     "name": "stderr",
     "output_type": "stream",
     "text": [
      "C:\\Users\\saira\\anaconda3\\Lib\\site-packages\\urllib3\\connectionpool.py:1056: InsecureRequestWarning: Unverified HTTPS request is being made to host 'exhibitors.gitex.com'. Adding certificate verification is strongly advised. See: https://urllib3.readthedocs.io/en/1.26.x/advanced-usage.html#ssl-warnings\n",
      "  warnings.warn(\n"
     ]
    },
    {
     "name": "stdout",
     "output_type": "stream",
     "text": [
      "https://exhibitors.gitex.com/gitex-global-2023/Exhibitor/ExbDetails/MTM1Nw==\n"
     ]
    },
    {
     "name": "stderr",
     "output_type": "stream",
     "text": [
      "C:\\Users\\saira\\anaconda3\\Lib\\site-packages\\urllib3\\connectionpool.py:1056: InsecureRequestWarning: Unverified HTTPS request is being made to host 'exhibitors.gitex.com'. Adding certificate verification is strongly advised. See: https://urllib3.readthedocs.io/en/1.26.x/advanced-usage.html#ssl-warnings\n",
      "  warnings.warn(\n"
     ]
    },
    {
     "name": "stdout",
     "output_type": "stream",
     "text": [
      "https://exhibitors.gitex.com/gitex-global-2023/Exhibitor/ExbDetails/MTM2Nw==\n"
     ]
    },
    {
     "name": "stderr",
     "output_type": "stream",
     "text": [
      "C:\\Users\\saira\\anaconda3\\Lib\\site-packages\\urllib3\\connectionpool.py:1056: InsecureRequestWarning: Unverified HTTPS request is being made to host 'exhibitors.gitex.com'. Adding certificate verification is strongly advised. See: https://urllib3.readthedocs.io/en/1.26.x/advanced-usage.html#ssl-warnings\n",
      "  warnings.warn(\n"
     ]
    },
    {
     "name": "stdout",
     "output_type": "stream",
     "text": [
      "https://exhibitors.gitex.com/gitex-global-2023/Exhibitor/ExbDetails/MTkwMA==\n"
     ]
    },
    {
     "name": "stderr",
     "output_type": "stream",
     "text": [
      "C:\\Users\\saira\\anaconda3\\Lib\\site-packages\\urllib3\\connectionpool.py:1056: InsecureRequestWarning: Unverified HTTPS request is being made to host 'exhibitors.gitex.com'. Adding certificate verification is strongly advised. See: https://urllib3.readthedocs.io/en/1.26.x/advanced-usage.html#ssl-warnings\n",
      "  warnings.warn(\n"
     ]
    },
    {
     "name": "stdout",
     "output_type": "stream",
     "text": [
      "https://exhibitors.gitex.com/gitex-global-2023/Exhibitor/ExbDetails/MTQ0OQ==\n"
     ]
    },
    {
     "name": "stderr",
     "output_type": "stream",
     "text": [
      "C:\\Users\\saira\\anaconda3\\Lib\\site-packages\\urllib3\\connectionpool.py:1056: InsecureRequestWarning: Unverified HTTPS request is being made to host 'exhibitors.gitex.com'. Adding certificate verification is strongly advised. See: https://urllib3.readthedocs.io/en/1.26.x/advanced-usage.html#ssl-warnings\n",
      "  warnings.warn(\n"
     ]
    },
    {
     "name": "stdout",
     "output_type": "stream",
     "text": [
      "https://exhibitors.gitex.com/gitex-global-2023/Exhibitor/ExbDetails/NTY3\n"
     ]
    },
    {
     "name": "stderr",
     "output_type": "stream",
     "text": [
      "C:\\Users\\saira\\anaconda3\\Lib\\site-packages\\urllib3\\connectionpool.py:1056: InsecureRequestWarning: Unverified HTTPS request is being made to host 'exhibitors.gitex.com'. Adding certificate verification is strongly advised. See: https://urllib3.readthedocs.io/en/1.26.x/advanced-usage.html#ssl-warnings\n",
      "  warnings.warn(\n"
     ]
    },
    {
     "name": "stdout",
     "output_type": "stream",
     "text": [
      "https://exhibitors.gitex.com/gitex-global-2023/Exhibitor/ExbDetails/NDg3\n"
     ]
    },
    {
     "name": "stderr",
     "output_type": "stream",
     "text": [
      "C:\\Users\\saira\\anaconda3\\Lib\\site-packages\\urllib3\\connectionpool.py:1056: InsecureRequestWarning: Unverified HTTPS request is being made to host 'exhibitors.gitex.com'. Adding certificate verification is strongly advised. See: https://urllib3.readthedocs.io/en/1.26.x/advanced-usage.html#ssl-warnings\n",
      "  warnings.warn(\n"
     ]
    },
    {
     "name": "stdout",
     "output_type": "stream",
     "text": [
      "https://exhibitors.gitex.com/gitex-global-2023/Exhibitor/ExbDetails/MTM1OA==\n"
     ]
    },
    {
     "name": "stderr",
     "output_type": "stream",
     "text": [
      "C:\\Users\\saira\\anaconda3\\Lib\\site-packages\\urllib3\\connectionpool.py:1056: InsecureRequestWarning: Unverified HTTPS request is being made to host 'exhibitors.gitex.com'. Adding certificate verification is strongly advised. See: https://urllib3.readthedocs.io/en/1.26.x/advanced-usage.html#ssl-warnings\n",
      "  warnings.warn(\n"
     ]
    },
    {
     "name": "stdout",
     "output_type": "stream",
     "text": [
      "https://exhibitors.gitex.com/gitex-global-2023/Exhibitor/ExbDetails/MTg3Mw==\n"
     ]
    },
    {
     "name": "stderr",
     "output_type": "stream",
     "text": [
      "C:\\Users\\saira\\anaconda3\\Lib\\site-packages\\urllib3\\connectionpool.py:1056: InsecureRequestWarning: Unverified HTTPS request is being made to host 'exhibitors.gitex.com'. Adding certificate verification is strongly advised. See: https://urllib3.readthedocs.io/en/1.26.x/advanced-usage.html#ssl-warnings\n",
      "  warnings.warn(\n"
     ]
    },
    {
     "name": "stdout",
     "output_type": "stream",
     "text": [
      "https://exhibitors.gitex.com/gitex-global-2023/Exhibitor/ExbDetails/MTQ2MQ==\n"
     ]
    },
    {
     "name": "stderr",
     "output_type": "stream",
     "text": [
      "C:\\Users\\saira\\anaconda3\\Lib\\site-packages\\urllib3\\connectionpool.py:1056: InsecureRequestWarning: Unverified HTTPS request is being made to host 'exhibitors.gitex.com'. Adding certificate verification is strongly advised. See: https://urllib3.readthedocs.io/en/1.26.x/advanced-usage.html#ssl-warnings\n",
      "  warnings.warn(\n"
     ]
    },
    {
     "name": "stdout",
     "output_type": "stream",
     "text": [
      "https://exhibitors.gitex.com/gitex-global-2023/Exhibitor/ExbDetails/NTI2\n"
     ]
    },
    {
     "name": "stderr",
     "output_type": "stream",
     "text": [
      "C:\\Users\\saira\\anaconda3\\Lib\\site-packages\\urllib3\\connectionpool.py:1056: InsecureRequestWarning: Unverified HTTPS request is being made to host 'exhibitors.gitex.com'. Adding certificate verification is strongly advised. See: https://urllib3.readthedocs.io/en/1.26.x/advanced-usage.html#ssl-warnings\n",
      "  warnings.warn(\n"
     ]
    },
    {
     "name": "stdout",
     "output_type": "stream",
     "text": [
      "https://exhibitors.gitex.com/gitex-global-2023/Exhibitor/ExbDetails/Mjg4MA==\n"
     ]
    },
    {
     "name": "stderr",
     "output_type": "stream",
     "text": [
      "C:\\Users\\saira\\anaconda3\\Lib\\site-packages\\urllib3\\connectionpool.py:1056: InsecureRequestWarning: Unverified HTTPS request is being made to host 'exhibitors.gitex.com'. Adding certificate verification is strongly advised. See: https://urllib3.readthedocs.io/en/1.26.x/advanced-usage.html#ssl-warnings\n",
      "  warnings.warn(\n"
     ]
    },
    {
     "name": "stdout",
     "output_type": "stream",
     "text": [
      "https://exhibitors.gitex.com/gitex-global-2023/Exhibitor/ExbDetails/Njk2\n"
     ]
    },
    {
     "name": "stderr",
     "output_type": "stream",
     "text": [
      "C:\\Users\\saira\\anaconda3\\Lib\\site-packages\\urllib3\\connectionpool.py:1056: InsecureRequestWarning: Unverified HTTPS request is being made to host 'exhibitors.gitex.com'. Adding certificate verification is strongly advised. See: https://urllib3.readthedocs.io/en/1.26.x/advanced-usage.html#ssl-warnings\n",
      "  warnings.warn(\n"
     ]
    },
    {
     "name": "stdout",
     "output_type": "stream",
     "text": [
      "https://exhibitors.gitex.com/gitex-global-2023/Exhibitor/ExbDetails/MTAzOA==\n"
     ]
    },
    {
     "name": "stderr",
     "output_type": "stream",
     "text": [
      "C:\\Users\\saira\\anaconda3\\Lib\\site-packages\\urllib3\\connectionpool.py:1056: InsecureRequestWarning: Unverified HTTPS request is being made to host 'exhibitors.gitex.com'. Adding certificate verification is strongly advised. See: https://urllib3.readthedocs.io/en/1.26.x/advanced-usage.html#ssl-warnings\n",
      "  warnings.warn(\n"
     ]
    },
    {
     "name": "stdout",
     "output_type": "stream",
     "text": [
      "https://exhibitors.gitex.com/gitex-global-2023/Exhibitor/ExbDetails/NjI2\n"
     ]
    },
    {
     "name": "stderr",
     "output_type": "stream",
     "text": [
      "C:\\Users\\saira\\anaconda3\\Lib\\site-packages\\urllib3\\connectionpool.py:1056: InsecureRequestWarning: Unverified HTTPS request is being made to host 'exhibitors.gitex.com'. Adding certificate verification is strongly advised. See: https://urllib3.readthedocs.io/en/1.26.x/advanced-usage.html#ssl-warnings\n",
      "  warnings.warn(\n"
     ]
    },
    {
     "name": "stdout",
     "output_type": "stream",
     "text": [
      "https://exhibitors.gitex.com/gitex-global-2023/Exhibitor/ExbDetails/MTEyNg==\n"
     ]
    },
    {
     "name": "stderr",
     "output_type": "stream",
     "text": [
      "C:\\Users\\saira\\anaconda3\\Lib\\site-packages\\urllib3\\connectionpool.py:1056: InsecureRequestWarning: Unverified HTTPS request is being made to host 'exhibitors.gitex.com'. Adding certificate verification is strongly advised. See: https://urllib3.readthedocs.io/en/1.26.x/advanced-usage.html#ssl-warnings\n",
      "  warnings.warn(\n"
     ]
    },
    {
     "name": "stdout",
     "output_type": "stream",
     "text": [
      "https://exhibitors.gitex.com/gitex-global-2023/Exhibitor/ExbDetails/MTUyOA==\n"
     ]
    },
    {
     "name": "stderr",
     "output_type": "stream",
     "text": [
      "C:\\Users\\saira\\anaconda3\\Lib\\site-packages\\urllib3\\connectionpool.py:1056: InsecureRequestWarning: Unverified HTTPS request is being made to host 'exhibitors.gitex.com'. Adding certificate verification is strongly advised. See: https://urllib3.readthedocs.io/en/1.26.x/advanced-usage.html#ssl-warnings\n",
      "  warnings.warn(\n"
     ]
    },
    {
     "name": "stdout",
     "output_type": "stream",
     "text": [
      "https://exhibitors.gitex.com/gitex-global-2023/Exhibitor/ExbDetails/NDg2\n"
     ]
    },
    {
     "name": "stderr",
     "output_type": "stream",
     "text": [
      "C:\\Users\\saira\\anaconda3\\Lib\\site-packages\\urllib3\\connectionpool.py:1056: InsecureRequestWarning: Unverified HTTPS request is being made to host 'exhibitors.gitex.com'. Adding certificate verification is strongly advised. See: https://urllib3.readthedocs.io/en/1.26.x/advanced-usage.html#ssl-warnings\n",
      "  warnings.warn(\n"
     ]
    },
    {
     "name": "stdout",
     "output_type": "stream",
     "text": [
      "https://exhibitors.gitex.com/gitex-global-2023/Exhibitor/ExbDetails/Mjg3Mw==\n"
     ]
    },
    {
     "name": "stderr",
     "output_type": "stream",
     "text": [
      "C:\\Users\\saira\\anaconda3\\Lib\\site-packages\\urllib3\\connectionpool.py:1056: InsecureRequestWarning: Unverified HTTPS request is being made to host 'exhibitors.gitex.com'. Adding certificate verification is strongly advised. See: https://urllib3.readthedocs.io/en/1.26.x/advanced-usage.html#ssl-warnings\n",
      "  warnings.warn(\n"
     ]
    },
    {
     "name": "stdout",
     "output_type": "stream",
     "text": [
      "https://exhibitors.gitex.com/gitex-global-2023/Exhibitor/ExbDetails/MTUxNQ==\n"
     ]
    },
    {
     "name": "stderr",
     "output_type": "stream",
     "text": [
      "C:\\Users\\saira\\anaconda3\\Lib\\site-packages\\urllib3\\connectionpool.py:1056: InsecureRequestWarning: Unverified HTTPS request is being made to host 'exhibitors.gitex.com'. Adding certificate verification is strongly advised. See: https://urllib3.readthedocs.io/en/1.26.x/advanced-usage.html#ssl-warnings\n",
      "  warnings.warn(\n"
     ]
    },
    {
     "name": "stdout",
     "output_type": "stream",
     "text": [
      "https://exhibitors.gitex.com/gitex-global-2023/Exhibitor/ExbDetails/MjkxMg==\n"
     ]
    },
    {
     "name": "stderr",
     "output_type": "stream",
     "text": [
      "C:\\Users\\saira\\anaconda3\\Lib\\site-packages\\urllib3\\connectionpool.py:1056: InsecureRequestWarning: Unverified HTTPS request is being made to host 'exhibitors.gitex.com'. Adding certificate verification is strongly advised. See: https://urllib3.readthedocs.io/en/1.26.x/advanced-usage.html#ssl-warnings\n",
      "  warnings.warn(\n"
     ]
    },
    {
     "name": "stdout",
     "output_type": "stream",
     "text": [
      "https://exhibitors.gitex.com/gitex-global-2023/Exhibitor/ExbDetails/NDQy\n"
     ]
    },
    {
     "name": "stderr",
     "output_type": "stream",
     "text": [
      "C:\\Users\\saira\\anaconda3\\Lib\\site-packages\\urllib3\\connectionpool.py:1056: InsecureRequestWarning: Unverified HTTPS request is being made to host 'exhibitors.gitex.com'. Adding certificate verification is strongly advised. See: https://urllib3.readthedocs.io/en/1.26.x/advanced-usage.html#ssl-warnings\n",
      "  warnings.warn(\n"
     ]
    },
    {
     "name": "stdout",
     "output_type": "stream",
     "text": [
      "https://exhibitors.gitex.com/gitex-global-2023/Exhibitor/ExbDetails/NTA5\n"
     ]
    },
    {
     "name": "stderr",
     "output_type": "stream",
     "text": [
      "C:\\Users\\saira\\anaconda3\\Lib\\site-packages\\urllib3\\connectionpool.py:1056: InsecureRequestWarning: Unverified HTTPS request is being made to host 'exhibitors.gitex.com'. Adding certificate verification is strongly advised. See: https://urllib3.readthedocs.io/en/1.26.x/advanced-usage.html#ssl-warnings\n",
      "  warnings.warn(\n"
     ]
    },
    {
     "name": "stdout",
     "output_type": "stream",
     "text": [
      "https://exhibitors.gitex.com/gitex-global-2023/Exhibitor/ExbDetails/MTUxMw==\n"
     ]
    },
    {
     "name": "stderr",
     "output_type": "stream",
     "text": [
      "C:\\Users\\saira\\anaconda3\\Lib\\site-packages\\urllib3\\connectionpool.py:1056: InsecureRequestWarning: Unverified HTTPS request is being made to host 'exhibitors.gitex.com'. Adding certificate verification is strongly advised. See: https://urllib3.readthedocs.io/en/1.26.x/advanced-usage.html#ssl-warnings\n",
      "  warnings.warn(\n"
     ]
    },
    {
     "name": "stdout",
     "output_type": "stream",
     "text": [
      "https://exhibitors.gitex.com/gitex-global-2023/Exhibitor/ExbDetails/MjU2NQ==\n"
     ]
    },
    {
     "name": "stderr",
     "output_type": "stream",
     "text": [
      "C:\\Users\\saira\\anaconda3\\Lib\\site-packages\\urllib3\\connectionpool.py:1056: InsecureRequestWarning: Unverified HTTPS request is being made to host 'exhibitors.gitex.com'. Adding certificate verification is strongly advised. See: https://urllib3.readthedocs.io/en/1.26.x/advanced-usage.html#ssl-warnings\n",
      "  warnings.warn(\n"
     ]
    },
    {
     "name": "stdout",
     "output_type": "stream",
     "text": [
      "https://exhibitors.gitex.com/gitex-global-2023/Exhibitor/ExbDetails/NTEy\n"
     ]
    },
    {
     "name": "stderr",
     "output_type": "stream",
     "text": [
      "C:\\Users\\saira\\anaconda3\\Lib\\site-packages\\urllib3\\connectionpool.py:1056: InsecureRequestWarning: Unverified HTTPS request is being made to host 'exhibitors.gitex.com'. Adding certificate verification is strongly advised. See: https://urllib3.readthedocs.io/en/1.26.x/advanced-usage.html#ssl-warnings\n",
      "  warnings.warn(\n"
     ]
    },
    {
     "name": "stdout",
     "output_type": "stream",
     "text": [
      "https://exhibitors.gitex.com/gitex-global-2023/Exhibitor/ExbDetails/MTA1NQ==\n"
     ]
    },
    {
     "name": "stderr",
     "output_type": "stream",
     "text": [
      "C:\\Users\\saira\\anaconda3\\Lib\\site-packages\\urllib3\\connectionpool.py:1056: InsecureRequestWarning: Unverified HTTPS request is being made to host 'exhibitors.gitex.com'. Adding certificate verification is strongly advised. See: https://urllib3.readthedocs.io/en/1.26.x/advanced-usage.html#ssl-warnings\n",
      "  warnings.warn(\n"
     ]
    },
    {
     "name": "stdout",
     "output_type": "stream",
     "text": [
      "https://exhibitors.gitex.com/gitex-global-2023/Exhibitor/ExbDetails/NDk1\n"
     ]
    },
    {
     "name": "stderr",
     "output_type": "stream",
     "text": [
      "C:\\Users\\saira\\anaconda3\\Lib\\site-packages\\urllib3\\connectionpool.py:1056: InsecureRequestWarning: Unverified HTTPS request is being made to host 'exhibitors.gitex.com'. Adding certificate verification is strongly advised. See: https://urllib3.readthedocs.io/en/1.26.x/advanced-usage.html#ssl-warnings\n",
      "  warnings.warn(\n"
     ]
    },
    {
     "name": "stdout",
     "output_type": "stream",
     "text": [
      "https://exhibitors.gitex.com/gitex-global-2023/Exhibitor/ExbDetails/MTEwNg==\n"
     ]
    },
    {
     "name": "stderr",
     "output_type": "stream",
     "text": [
      "C:\\Users\\saira\\anaconda3\\Lib\\site-packages\\urllib3\\connectionpool.py:1056: InsecureRequestWarning: Unverified HTTPS request is being made to host 'exhibitors.gitex.com'. Adding certificate verification is strongly advised. See: https://urllib3.readthedocs.io/en/1.26.x/advanced-usage.html#ssl-warnings\n",
      "  warnings.warn(\n"
     ]
    },
    {
     "name": "stdout",
     "output_type": "stream",
     "text": [
      "https://exhibitors.gitex.com/gitex-global-2023/Exhibitor/ExbDetails/MTU3Mg==\n"
     ]
    },
    {
     "name": "stderr",
     "output_type": "stream",
     "text": [
      "C:\\Users\\saira\\anaconda3\\Lib\\site-packages\\urllib3\\connectionpool.py:1056: InsecureRequestWarning: Unverified HTTPS request is being made to host 'exhibitors.gitex.com'. Adding certificate verification is strongly advised. See: https://urllib3.readthedocs.io/en/1.26.x/advanced-usage.html#ssl-warnings\n",
      "  warnings.warn(\n"
     ]
    },
    {
     "name": "stdout",
     "output_type": "stream",
     "text": [
      "https://exhibitors.gitex.com/gitex-global-2023/Exhibitor/ExbDetails/MTg5OA==\n"
     ]
    },
    {
     "name": "stderr",
     "output_type": "stream",
     "text": [
      "C:\\Users\\saira\\anaconda3\\Lib\\site-packages\\urllib3\\connectionpool.py:1056: InsecureRequestWarning: Unverified HTTPS request is being made to host 'exhibitors.gitex.com'. Adding certificate verification is strongly advised. See: https://urllib3.readthedocs.io/en/1.26.x/advanced-usage.html#ssl-warnings\n",
      "  warnings.warn(\n"
     ]
    },
    {
     "name": "stdout",
     "output_type": "stream",
     "text": [
      "https://exhibitors.gitex.com/gitex-global-2023/Exhibitor/ExbDetails/MTQ1OQ==\n"
     ]
    },
    {
     "name": "stderr",
     "output_type": "stream",
     "text": [
      "C:\\Users\\saira\\anaconda3\\Lib\\site-packages\\urllib3\\connectionpool.py:1056: InsecureRequestWarning: Unverified HTTPS request is being made to host 'exhibitors.gitex.com'. Adding certificate verification is strongly advised. See: https://urllib3.readthedocs.io/en/1.26.x/advanced-usage.html#ssl-warnings\n",
      "  warnings.warn(\n"
     ]
    },
    {
     "name": "stdout",
     "output_type": "stream",
     "text": [
      "https://exhibitors.gitex.com/gitex-global-2023/Exhibitor/ExbDetails/NDU4\n"
     ]
    },
    {
     "name": "stderr",
     "output_type": "stream",
     "text": [
      "C:\\Users\\saira\\anaconda3\\Lib\\site-packages\\urllib3\\connectionpool.py:1056: InsecureRequestWarning: Unverified HTTPS request is being made to host 'exhibitors.gitex.com'. Adding certificate verification is strongly advised. See: https://urllib3.readthedocs.io/en/1.26.x/advanced-usage.html#ssl-warnings\n",
      "  warnings.warn(\n"
     ]
    },
    {
     "name": "stdout",
     "output_type": "stream",
     "text": [
      "https://exhibitors.gitex.com/gitex-global-2023/Exhibitor/ExbDetails/MTM0OQ==\n"
     ]
    },
    {
     "name": "stderr",
     "output_type": "stream",
     "text": [
      "C:\\Users\\saira\\anaconda3\\Lib\\site-packages\\urllib3\\connectionpool.py:1056: InsecureRequestWarning: Unverified HTTPS request is being made to host 'exhibitors.gitex.com'. Adding certificate verification is strongly advised. See: https://urllib3.readthedocs.io/en/1.26.x/advanced-usage.html#ssl-warnings\n",
      "  warnings.warn(\n"
     ]
    },
    {
     "name": "stdout",
     "output_type": "stream",
     "text": [
      "https://exhibitors.gitex.com/gitex-global-2023/Exhibitor/ExbDetails/MTA3Ng==\n"
     ]
    },
    {
     "name": "stderr",
     "output_type": "stream",
     "text": [
      "C:\\Users\\saira\\anaconda3\\Lib\\site-packages\\urllib3\\connectionpool.py:1056: InsecureRequestWarning: Unverified HTTPS request is being made to host 'exhibitors.gitex.com'. Adding certificate verification is strongly advised. See: https://urllib3.readthedocs.io/en/1.26.x/advanced-usage.html#ssl-warnings\n",
      "  warnings.warn(\n"
     ]
    },
    {
     "name": "stdout",
     "output_type": "stream",
     "text": [
      "https://exhibitors.gitex.com/gitex-global-2023/Exhibitor/ExbDetails/NTIx\n"
     ]
    },
    {
     "name": "stderr",
     "output_type": "stream",
     "text": [
      "C:\\Users\\saira\\anaconda3\\Lib\\site-packages\\urllib3\\connectionpool.py:1056: InsecureRequestWarning: Unverified HTTPS request is being made to host 'exhibitors.gitex.com'. Adding certificate verification is strongly advised. See: https://urllib3.readthedocs.io/en/1.26.x/advanced-usage.html#ssl-warnings\n",
      "  warnings.warn(\n"
     ]
    },
    {
     "name": "stdout",
     "output_type": "stream",
     "text": [
      "https://exhibitors.gitex.com/gitex-global-2023/Exhibitor/ExbDetails/NjM4\n"
     ]
    },
    {
     "name": "stderr",
     "output_type": "stream",
     "text": [
      "C:\\Users\\saira\\anaconda3\\Lib\\site-packages\\urllib3\\connectionpool.py:1056: InsecureRequestWarning: Unverified HTTPS request is being made to host 'exhibitors.gitex.com'. Adding certificate verification is strongly advised. See: https://urllib3.readthedocs.io/en/1.26.x/advanced-usage.html#ssl-warnings\n",
      "  warnings.warn(\n"
     ]
    },
    {
     "name": "stdout",
     "output_type": "stream",
     "text": [
      "https://exhibitors.gitex.com/gitex-global-2023/Exhibitor/ExbDetails/MTY5Nw==\n"
     ]
    },
    {
     "name": "stderr",
     "output_type": "stream",
     "text": [
      "C:\\Users\\saira\\anaconda3\\Lib\\site-packages\\urllib3\\connectionpool.py:1056: InsecureRequestWarning: Unverified HTTPS request is being made to host 'exhibitors.gitex.com'. Adding certificate verification is strongly advised. See: https://urllib3.readthedocs.io/en/1.26.x/advanced-usage.html#ssl-warnings\n",
      "  warnings.warn(\n"
     ]
    },
    {
     "name": "stdout",
     "output_type": "stream",
     "text": [
      "https://exhibitors.gitex.com/gitex-global-2023/Exhibitor/ExbDetails/NjE0\n"
     ]
    },
    {
     "name": "stderr",
     "output_type": "stream",
     "text": [
      "C:\\Users\\saira\\anaconda3\\Lib\\site-packages\\urllib3\\connectionpool.py:1056: InsecureRequestWarning: Unverified HTTPS request is being made to host 'exhibitors.gitex.com'. Adding certificate verification is strongly advised. See: https://urllib3.readthedocs.io/en/1.26.x/advanced-usage.html#ssl-warnings\n",
      "  warnings.warn(\n"
     ]
    },
    {
     "name": "stdout",
     "output_type": "stream",
     "text": [
      "https://exhibitors.gitex.com/gitex-global-2023/Exhibitor/ExbDetails/MTA1Nw==\n"
     ]
    },
    {
     "name": "stderr",
     "output_type": "stream",
     "text": [
      "C:\\Users\\saira\\anaconda3\\Lib\\site-packages\\urllib3\\connectionpool.py:1056: InsecureRequestWarning: Unverified HTTPS request is being made to host 'exhibitors.gitex.com'. Adding certificate verification is strongly advised. See: https://urllib3.readthedocs.io/en/1.26.x/advanced-usage.html#ssl-warnings\n",
      "  warnings.warn(\n"
     ]
    },
    {
     "name": "stdout",
     "output_type": "stream",
     "text": [
      "https://exhibitors.gitex.com/gitex-global-2023/Exhibitor/ExbDetails/MTQ4Mw==\n"
     ]
    },
    {
     "name": "stderr",
     "output_type": "stream",
     "text": [
      "C:\\Users\\saira\\anaconda3\\Lib\\site-packages\\urllib3\\connectionpool.py:1056: InsecureRequestWarning: Unverified HTTPS request is being made to host 'exhibitors.gitex.com'. Adding certificate verification is strongly advised. See: https://urllib3.readthedocs.io/en/1.26.x/advanced-usage.html#ssl-warnings\n",
      "  warnings.warn(\n"
     ]
    },
    {
     "name": "stdout",
     "output_type": "stream",
     "text": [
      "https://exhibitors.gitex.com/gitex-global-2023/Exhibitor/ExbDetails/NTMx\n"
     ]
    },
    {
     "name": "stderr",
     "output_type": "stream",
     "text": [
      "C:\\Users\\saira\\anaconda3\\Lib\\site-packages\\urllib3\\connectionpool.py:1056: InsecureRequestWarning: Unverified HTTPS request is being made to host 'exhibitors.gitex.com'. Adding certificate verification is strongly advised. See: https://urllib3.readthedocs.io/en/1.26.x/advanced-usage.html#ssl-warnings\n",
      "  warnings.warn(\n"
     ]
    },
    {
     "name": "stdout",
     "output_type": "stream",
     "text": [
      "https://exhibitors.gitex.com/gitex-global-2023/Exhibitor/ExbDetails/NTc2\n"
     ]
    },
    {
     "name": "stderr",
     "output_type": "stream",
     "text": [
      "C:\\Users\\saira\\anaconda3\\Lib\\site-packages\\urllib3\\connectionpool.py:1056: InsecureRequestWarning: Unverified HTTPS request is being made to host 'exhibitors.gitex.com'. Adding certificate verification is strongly advised. See: https://urllib3.readthedocs.io/en/1.26.x/advanced-usage.html#ssl-warnings\n",
      "  warnings.warn(\n"
     ]
    },
    {
     "name": "stdout",
     "output_type": "stream",
     "text": [
      "https://exhibitors.gitex.com/gitex-global-2023/Exhibitor/ExbDetails/OTQy\n"
     ]
    },
    {
     "name": "stderr",
     "output_type": "stream",
     "text": [
      "C:\\Users\\saira\\anaconda3\\Lib\\site-packages\\urllib3\\connectionpool.py:1056: InsecureRequestWarning: Unverified HTTPS request is being made to host 'exhibitors.gitex.com'. Adding certificate verification is strongly advised. See: https://urllib3.readthedocs.io/en/1.26.x/advanced-usage.html#ssl-warnings\n",
      "  warnings.warn(\n"
     ]
    },
    {
     "name": "stdout",
     "output_type": "stream",
     "text": [
      "https://exhibitors.gitex.com/gitex-global-2023/Exhibitor/ExbDetails/MTg2Nw==\n"
     ]
    },
    {
     "name": "stderr",
     "output_type": "stream",
     "text": [
      "C:\\Users\\saira\\anaconda3\\Lib\\site-packages\\urllib3\\connectionpool.py:1056: InsecureRequestWarning: Unverified HTTPS request is being made to host 'exhibitors.gitex.com'. Adding certificate verification is strongly advised. See: https://urllib3.readthedocs.io/en/1.26.x/advanced-usage.html#ssl-warnings\n",
      "  warnings.warn(\n"
     ]
    },
    {
     "name": "stdout",
     "output_type": "stream",
     "text": [
      "https://exhibitors.gitex.com/gitex-global-2023/Exhibitor/ExbDetails/Njcw\n"
     ]
    },
    {
     "name": "stderr",
     "output_type": "stream",
     "text": [
      "C:\\Users\\saira\\anaconda3\\Lib\\site-packages\\urllib3\\connectionpool.py:1056: InsecureRequestWarning: Unverified HTTPS request is being made to host 'exhibitors.gitex.com'. Adding certificate verification is strongly advised. See: https://urllib3.readthedocs.io/en/1.26.x/advanced-usage.html#ssl-warnings\n",
      "  warnings.warn(\n"
     ]
    },
    {
     "name": "stdout",
     "output_type": "stream",
     "text": [
      "https://exhibitors.gitex.com/gitex-global-2023/Exhibitor/ExbDetails/NzUw\n"
     ]
    },
    {
     "name": "stderr",
     "output_type": "stream",
     "text": [
      "C:\\Users\\saira\\anaconda3\\Lib\\site-packages\\urllib3\\connectionpool.py:1056: InsecureRequestWarning: Unverified HTTPS request is being made to host 'exhibitors.gitex.com'. Adding certificate verification is strongly advised. See: https://urllib3.readthedocs.io/en/1.26.x/advanced-usage.html#ssl-warnings\n",
      "  warnings.warn(\n"
     ]
    },
    {
     "name": "stdout",
     "output_type": "stream",
     "text": [
      "https://exhibitors.gitex.com/gitex-global-2023/Exhibitor/ExbDetails/NTky\n"
     ]
    },
    {
     "name": "stderr",
     "output_type": "stream",
     "text": [
      "C:\\Users\\saira\\anaconda3\\Lib\\site-packages\\urllib3\\connectionpool.py:1056: InsecureRequestWarning: Unverified HTTPS request is being made to host 'exhibitors.gitex.com'. Adding certificate verification is strongly advised. See: https://urllib3.readthedocs.io/en/1.26.x/advanced-usage.html#ssl-warnings\n",
      "  warnings.warn(\n"
     ]
    },
    {
     "name": "stdout",
     "output_type": "stream",
     "text": [
      "https://exhibitors.gitex.com/gitex-global-2023/Exhibitor/ExbDetails/MTY4Mg==\n"
     ]
    },
    {
     "name": "stderr",
     "output_type": "stream",
     "text": [
      "C:\\Users\\saira\\anaconda3\\Lib\\site-packages\\urllib3\\connectionpool.py:1056: InsecureRequestWarning: Unverified HTTPS request is being made to host 'exhibitors.gitex.com'. Adding certificate verification is strongly advised. See: https://urllib3.readthedocs.io/en/1.26.x/advanced-usage.html#ssl-warnings\n",
      "  warnings.warn(\n"
     ]
    },
    {
     "name": "stdout",
     "output_type": "stream",
     "text": [
      "https://exhibitors.gitex.com/gitex-global-2023/Exhibitor/ExbDetails/MTcwMg==\n"
     ]
    },
    {
     "name": "stderr",
     "output_type": "stream",
     "text": [
      "C:\\Users\\saira\\anaconda3\\Lib\\site-packages\\urllib3\\connectionpool.py:1056: InsecureRequestWarning: Unverified HTTPS request is being made to host 'exhibitors.gitex.com'. Adding certificate verification is strongly advised. See: https://urllib3.readthedocs.io/en/1.26.x/advanced-usage.html#ssl-warnings\n",
      "  warnings.warn(\n"
     ]
    },
    {
     "name": "stdout",
     "output_type": "stream",
     "text": [
      "https://exhibitors.gitex.com/gitex-global-2023/Exhibitor/ExbDetails/NjI5\n"
     ]
    },
    {
     "name": "stderr",
     "output_type": "stream",
     "text": [
      "C:\\Users\\saira\\anaconda3\\Lib\\site-packages\\urllib3\\connectionpool.py:1056: InsecureRequestWarning: Unverified HTTPS request is being made to host 'exhibitors.gitex.com'. Adding certificate verification is strongly advised. See: https://urllib3.readthedocs.io/en/1.26.x/advanced-usage.html#ssl-warnings\n",
      "  warnings.warn(\n"
     ]
    },
    {
     "name": "stdout",
     "output_type": "stream",
     "text": [
      "https://exhibitors.gitex.com/gitex-global-2023/Exhibitor/ExbDetails/MTQzMA==\n"
     ]
    },
    {
     "name": "stderr",
     "output_type": "stream",
     "text": [
      "C:\\Users\\saira\\anaconda3\\Lib\\site-packages\\urllib3\\connectionpool.py:1056: InsecureRequestWarning: Unverified HTTPS request is being made to host 'exhibitors.gitex.com'. Adding certificate verification is strongly advised. See: https://urllib3.readthedocs.io/en/1.26.x/advanced-usage.html#ssl-warnings\n",
      "  warnings.warn(\n"
     ]
    },
    {
     "name": "stdout",
     "output_type": "stream",
     "text": [
      "https://exhibitors.gitex.com/gitex-global-2023/Exhibitor/ExbDetails/NTU3\n"
     ]
    },
    {
     "name": "stderr",
     "output_type": "stream",
     "text": [
      "C:\\Users\\saira\\anaconda3\\Lib\\site-packages\\urllib3\\connectionpool.py:1056: InsecureRequestWarning: Unverified HTTPS request is being made to host 'exhibitors.gitex.com'. Adding certificate verification is strongly advised. See: https://urllib3.readthedocs.io/en/1.26.x/advanced-usage.html#ssl-warnings\n",
      "  warnings.warn(\n"
     ]
    },
    {
     "name": "stdout",
     "output_type": "stream",
     "text": [
      "https://exhibitors.gitex.com/gitex-global-2023/Exhibitor/ExbDetails/MTcyNQ==\n"
     ]
    },
    {
     "name": "stderr",
     "output_type": "stream",
     "text": [
      "C:\\Users\\saira\\anaconda3\\Lib\\site-packages\\urllib3\\connectionpool.py:1056: InsecureRequestWarning: Unverified HTTPS request is being made to host 'exhibitors.gitex.com'. Adding certificate verification is strongly advised. See: https://urllib3.readthedocs.io/en/1.26.x/advanced-usage.html#ssl-warnings\n",
      "  warnings.warn(\n"
     ]
    },
    {
     "name": "stdout",
     "output_type": "stream",
     "text": [
      "https://exhibitors.gitex.com/gitex-global-2023/Exhibitor/ExbDetails/NzEw\n"
     ]
    },
    {
     "name": "stderr",
     "output_type": "stream",
     "text": [
      "C:\\Users\\saira\\anaconda3\\Lib\\site-packages\\urllib3\\connectionpool.py:1056: InsecureRequestWarning: Unverified HTTPS request is being made to host 'exhibitors.gitex.com'. Adding certificate verification is strongly advised. See: https://urllib3.readthedocs.io/en/1.26.x/advanced-usage.html#ssl-warnings\n",
      "  warnings.warn(\n"
     ]
    },
    {
     "name": "stdout",
     "output_type": "stream",
     "text": [
      "https://exhibitors.gitex.com/gitex-global-2023/Exhibitor/ExbDetails/MTQ5NA==\n"
     ]
    },
    {
     "name": "stderr",
     "output_type": "stream",
     "text": [
      "C:\\Users\\saira\\anaconda3\\Lib\\site-packages\\urllib3\\connectionpool.py:1056: InsecureRequestWarning: Unverified HTTPS request is being made to host 'exhibitors.gitex.com'. Adding certificate verification is strongly advised. See: https://urllib3.readthedocs.io/en/1.26.x/advanced-usage.html#ssl-warnings\n",
      "  warnings.warn(\n"
     ]
    },
    {
     "name": "stdout",
     "output_type": "stream",
     "text": [
      "https://exhibitors.gitex.com/gitex-global-2023/Exhibitor/ExbDetails/MjE3Mg==\n"
     ]
    },
    {
     "name": "stderr",
     "output_type": "stream",
     "text": [
      "C:\\Users\\saira\\anaconda3\\Lib\\site-packages\\urllib3\\connectionpool.py:1056: InsecureRequestWarning: Unverified HTTPS request is being made to host 'exhibitors.gitex.com'. Adding certificate verification is strongly advised. See: https://urllib3.readthedocs.io/en/1.26.x/advanced-usage.html#ssl-warnings\n",
      "  warnings.warn(\n"
     ]
    },
    {
     "name": "stdout",
     "output_type": "stream",
     "text": [
      "https://exhibitors.gitex.com/gitex-global-2023/Exhibitor/ExbDetails/NTcz\n"
     ]
    },
    {
     "name": "stderr",
     "output_type": "stream",
     "text": [
      "C:\\Users\\saira\\anaconda3\\Lib\\site-packages\\urllib3\\connectionpool.py:1056: InsecureRequestWarning: Unverified HTTPS request is being made to host 'exhibitors.gitex.com'. Adding certificate verification is strongly advised. See: https://urllib3.readthedocs.io/en/1.26.x/advanced-usage.html#ssl-warnings\n",
      "  warnings.warn(\n"
     ]
    },
    {
     "name": "stdout",
     "output_type": "stream",
     "text": [
      "https://exhibitors.gitex.com/gitex-global-2023/Exhibitor/ExbDetails/NjA0\n"
     ]
    },
    {
     "name": "stderr",
     "output_type": "stream",
     "text": [
      "C:\\Users\\saira\\anaconda3\\Lib\\site-packages\\urllib3\\connectionpool.py:1056: InsecureRequestWarning: Unverified HTTPS request is being made to host 'exhibitors.gitex.com'. Adding certificate verification is strongly advised. See: https://urllib3.readthedocs.io/en/1.26.x/advanced-usage.html#ssl-warnings\n",
      "  warnings.warn(\n"
     ]
    },
    {
     "name": "stdout",
     "output_type": "stream",
     "text": [
      "https://exhibitors.gitex.com/gitex-global-2023/Exhibitor/ExbDetails/NjEx\n"
     ]
    },
    {
     "name": "stderr",
     "output_type": "stream",
     "text": [
      "C:\\Users\\saira\\anaconda3\\Lib\\site-packages\\urllib3\\connectionpool.py:1056: InsecureRequestWarning: Unverified HTTPS request is being made to host 'exhibitors.gitex.com'. Adding certificate verification is strongly advised. See: https://urllib3.readthedocs.io/en/1.26.x/advanced-usage.html#ssl-warnings\n",
      "  warnings.warn(\n"
     ]
    },
    {
     "name": "stdout",
     "output_type": "stream",
     "text": [
      "https://exhibitors.gitex.com/gitex-global-2023/Exhibitor/ExbDetails/OTM4\n"
     ]
    },
    {
     "name": "stderr",
     "output_type": "stream",
     "text": [
      "C:\\Users\\saira\\anaconda3\\Lib\\site-packages\\urllib3\\connectionpool.py:1056: InsecureRequestWarning: Unverified HTTPS request is being made to host 'exhibitors.gitex.com'. Adding certificate verification is strongly advised. See: https://urllib3.readthedocs.io/en/1.26.x/advanced-usage.html#ssl-warnings\n",
      "  warnings.warn(\n"
     ]
    },
    {
     "name": "stdout",
     "output_type": "stream",
     "text": [
      "https://exhibitors.gitex.com/gitex-global-2023/Exhibitor/ExbDetails/MTkxMQ==\n"
     ]
    },
    {
     "name": "stderr",
     "output_type": "stream",
     "text": [
      "C:\\Users\\saira\\anaconda3\\Lib\\site-packages\\urllib3\\connectionpool.py:1056: InsecureRequestWarning: Unverified HTTPS request is being made to host 'exhibitors.gitex.com'. Adding certificate verification is strongly advised. See: https://urllib3.readthedocs.io/en/1.26.x/advanced-usage.html#ssl-warnings\n",
      "  warnings.warn(\n"
     ]
    },
    {
     "name": "stdout",
     "output_type": "stream",
     "text": [
      "https://exhibitors.gitex.com/gitex-global-2023/Exhibitor/ExbDetails/MzE5NA==\n"
     ]
    },
    {
     "name": "stderr",
     "output_type": "stream",
     "text": [
      "C:\\Users\\saira\\anaconda3\\Lib\\site-packages\\urllib3\\connectionpool.py:1056: InsecureRequestWarning: Unverified HTTPS request is being made to host 'exhibitors.gitex.com'. Adding certificate verification is strongly advised. See: https://urllib3.readthedocs.io/en/1.26.x/advanced-usage.html#ssl-warnings\n",
      "  warnings.warn(\n"
     ]
    },
    {
     "name": "stdout",
     "output_type": "stream",
     "text": [
      "https://exhibitors.gitex.com/gitex-global-2023/Exhibitor/ExbDetails/MTcxOQ==\n"
     ]
    },
    {
     "name": "stderr",
     "output_type": "stream",
     "text": [
      "C:\\Users\\saira\\anaconda3\\Lib\\site-packages\\urllib3\\connectionpool.py:1056: InsecureRequestWarning: Unverified HTTPS request is being made to host 'exhibitors.gitex.com'. Adding certificate verification is strongly advised. See: https://urllib3.readthedocs.io/en/1.26.x/advanced-usage.html#ssl-warnings\n",
      "  warnings.warn(\n"
     ]
    },
    {
     "name": "stdout",
     "output_type": "stream",
     "text": [
      "https://exhibitors.gitex.com/gitex-global-2023/Exhibitor/ExbDetails/OTIy\n"
     ]
    },
    {
     "name": "stderr",
     "output_type": "stream",
     "text": [
      "C:\\Users\\saira\\anaconda3\\Lib\\site-packages\\urllib3\\connectionpool.py:1056: InsecureRequestWarning: Unverified HTTPS request is being made to host 'exhibitors.gitex.com'. Adding certificate verification is strongly advised. See: https://urllib3.readthedocs.io/en/1.26.x/advanced-usage.html#ssl-warnings\n",
      "  warnings.warn(\n"
     ]
    },
    {
     "name": "stdout",
     "output_type": "stream",
     "text": [
      "https://exhibitors.gitex.com/gitex-global-2023/Exhibitor/ExbDetails/MTcxNQ==\n"
     ]
    },
    {
     "name": "stderr",
     "output_type": "stream",
     "text": [
      "C:\\Users\\saira\\anaconda3\\Lib\\site-packages\\urllib3\\connectionpool.py:1056: InsecureRequestWarning: Unverified HTTPS request is being made to host 'exhibitors.gitex.com'. Adding certificate verification is strongly advised. See: https://urllib3.readthedocs.io/en/1.26.x/advanced-usage.html#ssl-warnings\n",
      "  warnings.warn(\n"
     ]
    },
    {
     "name": "stdout",
     "output_type": "stream",
     "text": [
      "https://exhibitors.gitex.com/gitex-global-2023/Exhibitor/ExbDetails/NDE1\n"
     ]
    },
    {
     "name": "stderr",
     "output_type": "stream",
     "text": [
      "C:\\Users\\saira\\anaconda3\\Lib\\site-packages\\urllib3\\connectionpool.py:1056: InsecureRequestWarning: Unverified HTTPS request is being made to host 'exhibitors.gitex.com'. Adding certificate verification is strongly advised. See: https://urllib3.readthedocs.io/en/1.26.x/advanced-usage.html#ssl-warnings\n",
      "  warnings.warn(\n"
     ]
    },
    {
     "name": "stdout",
     "output_type": "stream",
     "text": [
      "https://exhibitors.gitex.com/gitex-global-2023/Exhibitor/ExbDetails/MTEyMg==\n"
     ]
    },
    {
     "name": "stderr",
     "output_type": "stream",
     "text": [
      "C:\\Users\\saira\\anaconda3\\Lib\\site-packages\\urllib3\\connectionpool.py:1056: InsecureRequestWarning: Unverified HTTPS request is being made to host 'exhibitors.gitex.com'. Adding certificate verification is strongly advised. See: https://urllib3.readthedocs.io/en/1.26.x/advanced-usage.html#ssl-warnings\n",
      "  warnings.warn(\n"
     ]
    },
    {
     "name": "stdout",
     "output_type": "stream",
     "text": [
      "https://exhibitors.gitex.com/gitex-global-2023/Exhibitor/ExbDetails/NDQz\n"
     ]
    },
    {
     "name": "stderr",
     "output_type": "stream",
     "text": [
      "C:\\Users\\saira\\anaconda3\\Lib\\site-packages\\urllib3\\connectionpool.py:1056: InsecureRequestWarning: Unverified HTTPS request is being made to host 'exhibitors.gitex.com'. Adding certificate verification is strongly advised. See: https://urllib3.readthedocs.io/en/1.26.x/advanced-usage.html#ssl-warnings\n",
      "  warnings.warn(\n"
     ]
    },
    {
     "name": "stdout",
     "output_type": "stream",
     "text": [
      "https://exhibitors.gitex.com/gitex-global-2023/Exhibitor/ExbDetails/NDkw\n"
     ]
    },
    {
     "name": "stderr",
     "output_type": "stream",
     "text": [
      "C:\\Users\\saira\\anaconda3\\Lib\\site-packages\\urllib3\\connectionpool.py:1056: InsecureRequestWarning: Unverified HTTPS request is being made to host 'exhibitors.gitex.com'. Adding certificate verification is strongly advised. See: https://urllib3.readthedocs.io/en/1.26.x/advanced-usage.html#ssl-warnings\n",
      "  warnings.warn(\n"
     ]
    },
    {
     "name": "stdout",
     "output_type": "stream",
     "text": [
      "https://exhibitors.gitex.com/gitex-global-2023/Exhibitor/ExbDetails/NDI5\n"
     ]
    },
    {
     "name": "stderr",
     "output_type": "stream",
     "text": [
      "C:\\Users\\saira\\anaconda3\\Lib\\site-packages\\urllib3\\connectionpool.py:1056: InsecureRequestWarning: Unverified HTTPS request is being made to host 'exhibitors.gitex.com'. Adding certificate verification is strongly advised. See: https://urllib3.readthedocs.io/en/1.26.x/advanced-usage.html#ssl-warnings\n",
      "  warnings.warn(\n"
     ]
    },
    {
     "name": "stdout",
     "output_type": "stream",
     "text": [
      "https://exhibitors.gitex.com/gitex-global-2023/Exhibitor/ExbDetails/OTI4\n"
     ]
    },
    {
     "name": "stderr",
     "output_type": "stream",
     "text": [
      "C:\\Users\\saira\\anaconda3\\Lib\\site-packages\\urllib3\\connectionpool.py:1056: InsecureRequestWarning: Unverified HTTPS request is being made to host 'exhibitors.gitex.com'. Adding certificate verification is strongly advised. See: https://urllib3.readthedocs.io/en/1.26.x/advanced-usage.html#ssl-warnings\n",
      "  warnings.warn(\n"
     ]
    },
    {
     "name": "stdout",
     "output_type": "stream",
     "text": [
      "https://exhibitors.gitex.com/gitex-global-2023/Exhibitor/ExbDetails/NDQ0\n"
     ]
    },
    {
     "name": "stderr",
     "output_type": "stream",
     "text": [
      "C:\\Users\\saira\\anaconda3\\Lib\\site-packages\\urllib3\\connectionpool.py:1056: InsecureRequestWarning: Unverified HTTPS request is being made to host 'exhibitors.gitex.com'. Adding certificate verification is strongly advised. See: https://urllib3.readthedocs.io/en/1.26.x/advanced-usage.html#ssl-warnings\n",
      "  warnings.warn(\n"
     ]
    },
    {
     "name": "stdout",
     "output_type": "stream",
     "text": [
      "https://exhibitors.gitex.com/gitex-global-2023/Exhibitor/ExbDetails/OTI0\n"
     ]
    },
    {
     "name": "stderr",
     "output_type": "stream",
     "text": [
      "C:\\Users\\saira\\anaconda3\\Lib\\site-packages\\urllib3\\connectionpool.py:1056: InsecureRequestWarning: Unverified HTTPS request is being made to host 'exhibitors.gitex.com'. Adding certificate verification is strongly advised. See: https://urllib3.readthedocs.io/en/1.26.x/advanced-usage.html#ssl-warnings\n",
      "  warnings.warn(\n"
     ]
    },
    {
     "name": "stdout",
     "output_type": "stream",
     "text": [
      "https://exhibitors.gitex.com/gitex-global-2023/Exhibitor/ExbDetails/MTkxOA==\n"
     ]
    },
    {
     "name": "stderr",
     "output_type": "stream",
     "text": [
      "C:\\Users\\saira\\anaconda3\\Lib\\site-packages\\urllib3\\connectionpool.py:1056: InsecureRequestWarning: Unverified HTTPS request is being made to host 'exhibitors.gitex.com'. Adding certificate verification is strongly advised. See: https://urllib3.readthedocs.io/en/1.26.x/advanced-usage.html#ssl-warnings\n",
      "  warnings.warn(\n"
     ]
    },
    {
     "name": "stdout",
     "output_type": "stream",
     "text": [
      "https://exhibitors.gitex.com/gitex-global-2023/Exhibitor/ExbDetails/MTg5NQ==\n"
     ]
    },
    {
     "name": "stderr",
     "output_type": "stream",
     "text": [
      "C:\\Users\\saira\\anaconda3\\Lib\\site-packages\\urllib3\\connectionpool.py:1056: InsecureRequestWarning: Unverified HTTPS request is being made to host 'exhibitors.gitex.com'. Adding certificate verification is strongly advised. See: https://urllib3.readthedocs.io/en/1.26.x/advanced-usage.html#ssl-warnings\n",
      "  warnings.warn(\n"
     ]
    },
    {
     "name": "stdout",
     "output_type": "stream",
     "text": [
      "https://exhibitors.gitex.com/gitex-global-2023/Exhibitor/ExbDetails/MTU3MQ==\n"
     ]
    },
    {
     "name": "stderr",
     "output_type": "stream",
     "text": [
      "C:\\Users\\saira\\anaconda3\\Lib\\site-packages\\urllib3\\connectionpool.py:1056: InsecureRequestWarning: Unverified HTTPS request is being made to host 'exhibitors.gitex.com'. Adding certificate verification is strongly advised. See: https://urllib3.readthedocs.io/en/1.26.x/advanced-usage.html#ssl-warnings\n",
      "  warnings.warn(\n"
     ]
    },
    {
     "name": "stdout",
     "output_type": "stream",
     "text": [
      "https://exhibitors.gitex.com/gitex-global-2023/Exhibitor/ExbDetails/MTYzNw==\n"
     ]
    },
    {
     "name": "stderr",
     "output_type": "stream",
     "text": [
      "C:\\Users\\saira\\anaconda3\\Lib\\site-packages\\urllib3\\connectionpool.py:1056: InsecureRequestWarning: Unverified HTTPS request is being made to host 'exhibitors.gitex.com'. Adding certificate verification is strongly advised. See: https://urllib3.readthedocs.io/en/1.26.x/advanced-usage.html#ssl-warnings\n",
      "  warnings.warn(\n"
     ]
    },
    {
     "name": "stdout",
     "output_type": "stream",
     "text": [
      "https://exhibitors.gitex.com/gitex-global-2023/Exhibitor/ExbDetails/Njk3\n"
     ]
    },
    {
     "name": "stderr",
     "output_type": "stream",
     "text": [
      "C:\\Users\\saira\\anaconda3\\Lib\\site-packages\\urllib3\\connectionpool.py:1056: InsecureRequestWarning: Unverified HTTPS request is being made to host 'exhibitors.gitex.com'. Adding certificate verification is strongly advised. See: https://urllib3.readthedocs.io/en/1.26.x/advanced-usage.html#ssl-warnings\n",
      "  warnings.warn(\n"
     ]
    },
    {
     "name": "stdout",
     "output_type": "stream",
     "text": [
      "https://exhibitors.gitex.com/gitex-global-2023/Exhibitor/ExbDetails/MTcxOA==\n"
     ]
    },
    {
     "name": "stderr",
     "output_type": "stream",
     "text": [
      "C:\\Users\\saira\\anaconda3\\Lib\\site-packages\\urllib3\\connectionpool.py:1056: InsecureRequestWarning: Unverified HTTPS request is being made to host 'exhibitors.gitex.com'. Adding certificate verification is strongly advised. See: https://urllib3.readthedocs.io/en/1.26.x/advanced-usage.html#ssl-warnings\n",
      "  warnings.warn(\n"
     ]
    },
    {
     "name": "stdout",
     "output_type": "stream",
     "text": [
      "https://exhibitors.gitex.com/gitex-global-2023/Exhibitor/ExbDetails/MTM5Mw==\n"
     ]
    },
    {
     "name": "stderr",
     "output_type": "stream",
     "text": [
      "C:\\Users\\saira\\anaconda3\\Lib\\site-packages\\urllib3\\connectionpool.py:1056: InsecureRequestWarning: Unverified HTTPS request is being made to host 'exhibitors.gitex.com'. Adding certificate verification is strongly advised. See: https://urllib3.readthedocs.io/en/1.26.x/advanced-usage.html#ssl-warnings\n",
      "  warnings.warn(\n"
     ]
    },
    {
     "name": "stdout",
     "output_type": "stream",
     "text": [
      "https://exhibitors.gitex.com/gitex-global-2023/Exhibitor/ExbDetails/MTAzMg==\n"
     ]
    },
    {
     "name": "stderr",
     "output_type": "stream",
     "text": [
      "C:\\Users\\saira\\anaconda3\\Lib\\site-packages\\urllib3\\connectionpool.py:1056: InsecureRequestWarning: Unverified HTTPS request is being made to host 'exhibitors.gitex.com'. Adding certificate verification is strongly advised. See: https://urllib3.readthedocs.io/en/1.26.x/advanced-usage.html#ssl-warnings\n",
      "  warnings.warn(\n"
     ]
    },
    {
     "name": "stdout",
     "output_type": "stream",
     "text": [
      "https://exhibitors.gitex.com/gitex-global-2023/Exhibitor/ExbDetails/MTMyNQ==\n"
     ]
    },
    {
     "name": "stderr",
     "output_type": "stream",
     "text": [
      "C:\\Users\\saira\\anaconda3\\Lib\\site-packages\\urllib3\\connectionpool.py:1056: InsecureRequestWarning: Unverified HTTPS request is being made to host 'exhibitors.gitex.com'. Adding certificate verification is strongly advised. See: https://urllib3.readthedocs.io/en/1.26.x/advanced-usage.html#ssl-warnings\n",
      "  warnings.warn(\n"
     ]
    },
    {
     "name": "stdout",
     "output_type": "stream",
     "text": [
      "https://exhibitors.gitex.com/gitex-global-2023/Exhibitor/ExbDetails/MTYzNg==\n"
     ]
    },
    {
     "name": "stderr",
     "output_type": "stream",
     "text": [
      "C:\\Users\\saira\\anaconda3\\Lib\\site-packages\\urllib3\\connectionpool.py:1056: InsecureRequestWarning: Unverified HTTPS request is being made to host 'exhibitors.gitex.com'. Adding certificate verification is strongly advised. See: https://urllib3.readthedocs.io/en/1.26.x/advanced-usage.html#ssl-warnings\n",
      "  warnings.warn(\n"
     ]
    },
    {
     "name": "stdout",
     "output_type": "stream",
     "text": [
      "https://exhibitors.gitex.com/gitex-global-2023/Exhibitor/ExbDetails/NTg4\n"
     ]
    },
    {
     "name": "stderr",
     "output_type": "stream",
     "text": [
      "C:\\Users\\saira\\anaconda3\\Lib\\site-packages\\urllib3\\connectionpool.py:1056: InsecureRequestWarning: Unverified HTTPS request is being made to host 'exhibitors.gitex.com'. Adding certificate verification is strongly advised. See: https://urllib3.readthedocs.io/en/1.26.x/advanced-usage.html#ssl-warnings\n",
      "  warnings.warn(\n"
     ]
    },
    {
     "name": "stdout",
     "output_type": "stream",
     "text": [
      "https://exhibitors.gitex.com/gitex-global-2023/Exhibitor/ExbDetails/MTg5Mw==\n"
     ]
    },
    {
     "name": "stderr",
     "output_type": "stream",
     "text": [
      "C:\\Users\\saira\\anaconda3\\Lib\\site-packages\\urllib3\\connectionpool.py:1056: InsecureRequestWarning: Unverified HTTPS request is being made to host 'exhibitors.gitex.com'. Adding certificate verification is strongly advised. See: https://urllib3.readthedocs.io/en/1.26.x/advanced-usage.html#ssl-warnings\n",
      "  warnings.warn(\n"
     ]
    },
    {
     "name": "stdout",
     "output_type": "stream",
     "text": [
      "https://exhibitors.gitex.com/gitex-global-2023/Exhibitor/ExbDetails/NjQ5\n"
     ]
    },
    {
     "name": "stderr",
     "output_type": "stream",
     "text": [
      "C:\\Users\\saira\\anaconda3\\Lib\\site-packages\\urllib3\\connectionpool.py:1056: InsecureRequestWarning: Unverified HTTPS request is being made to host 'exhibitors.gitex.com'. Adding certificate verification is strongly advised. See: https://urllib3.readthedocs.io/en/1.26.x/advanced-usage.html#ssl-warnings\n",
      "  warnings.warn(\n"
     ]
    },
    {
     "name": "stdout",
     "output_type": "stream",
     "text": [
      "https://exhibitors.gitex.com/gitex-global-2023/Exhibitor/ExbDetails/NTYx\n"
     ]
    },
    {
     "name": "stderr",
     "output_type": "stream",
     "text": [
      "C:\\Users\\saira\\anaconda3\\Lib\\site-packages\\urllib3\\connectionpool.py:1056: InsecureRequestWarning: Unverified HTTPS request is being made to host 'exhibitors.gitex.com'. Adding certificate verification is strongly advised. See: https://urllib3.readthedocs.io/en/1.26.x/advanced-usage.html#ssl-warnings\n",
      "  warnings.warn(\n"
     ]
    },
    {
     "name": "stdout",
     "output_type": "stream",
     "text": [
      "https://exhibitors.gitex.com/gitex-global-2023/Exhibitor/ExbDetails/MjEzMw==\n"
     ]
    },
    {
     "name": "stderr",
     "output_type": "stream",
     "text": [
      "C:\\Users\\saira\\anaconda3\\Lib\\site-packages\\urllib3\\connectionpool.py:1056: InsecureRequestWarning: Unverified HTTPS request is being made to host 'exhibitors.gitex.com'. Adding certificate verification is strongly advised. See: https://urllib3.readthedocs.io/en/1.26.x/advanced-usage.html#ssl-warnings\n",
      "  warnings.warn(\n"
     ]
    },
    {
     "name": "stdout",
     "output_type": "stream",
     "text": [
      "https://exhibitors.gitex.com/gitex-global-2023/Exhibitor/ExbDetails/Nzgy\n"
     ]
    },
    {
     "name": "stderr",
     "output_type": "stream",
     "text": [
      "C:\\Users\\saira\\anaconda3\\Lib\\site-packages\\urllib3\\connectionpool.py:1056: InsecureRequestWarning: Unverified HTTPS request is being made to host 'exhibitors.gitex.com'. Adding certificate verification is strongly advised. See: https://urllib3.readthedocs.io/en/1.26.x/advanced-usage.html#ssl-warnings\n",
      "  warnings.warn(\n"
     ]
    },
    {
     "name": "stdout",
     "output_type": "stream",
     "text": [
      "https://exhibitors.gitex.com/gitex-global-2023/Exhibitor/ExbDetails/MTAwNw==\n"
     ]
    },
    {
     "name": "stderr",
     "output_type": "stream",
     "text": [
      "C:\\Users\\saira\\anaconda3\\Lib\\site-packages\\urllib3\\connectionpool.py:1056: InsecureRequestWarning: Unverified HTTPS request is being made to host 'exhibitors.gitex.com'. Adding certificate verification is strongly advised. See: https://urllib3.readthedocs.io/en/1.26.x/advanced-usage.html#ssl-warnings\n",
      "  warnings.warn(\n"
     ]
    },
    {
     "name": "stdout",
     "output_type": "stream",
     "text": [
      "https://exhibitors.gitex.com/gitex-global-2023/Exhibitor/ExbDetails/NzAx\n"
     ]
    },
    {
     "name": "stderr",
     "output_type": "stream",
     "text": [
      "C:\\Users\\saira\\anaconda3\\Lib\\site-packages\\urllib3\\connectionpool.py:1056: InsecureRequestWarning: Unverified HTTPS request is being made to host 'exhibitors.gitex.com'. Adding certificate verification is strongly advised. See: https://urllib3.readthedocs.io/en/1.26.x/advanced-usage.html#ssl-warnings\n",
      "  warnings.warn(\n"
     ]
    },
    {
     "name": "stdout",
     "output_type": "stream",
     "text": [
      "https://exhibitors.gitex.com/gitex-global-2023/Exhibitor/ExbDetails/NTY0\n"
     ]
    },
    {
     "name": "stderr",
     "output_type": "stream",
     "text": [
      "C:\\Users\\saira\\anaconda3\\Lib\\site-packages\\urllib3\\connectionpool.py:1056: InsecureRequestWarning: Unverified HTTPS request is being made to host 'exhibitors.gitex.com'. Adding certificate verification is strongly advised. See: https://urllib3.readthedocs.io/en/1.26.x/advanced-usage.html#ssl-warnings\n",
      "  warnings.warn(\n"
     ]
    },
    {
     "name": "stdout",
     "output_type": "stream",
     "text": [
      "https://exhibitors.gitex.com/gitex-global-2023/Exhibitor/ExbDetails/MTU0NQ==\n"
     ]
    },
    {
     "name": "stderr",
     "output_type": "stream",
     "text": [
      "C:\\Users\\saira\\anaconda3\\Lib\\site-packages\\urllib3\\connectionpool.py:1056: InsecureRequestWarning: Unverified HTTPS request is being made to host 'exhibitors.gitex.com'. Adding certificate verification is strongly advised. See: https://urllib3.readthedocs.io/en/1.26.x/advanced-usage.html#ssl-warnings\n",
      "  warnings.warn(\n"
     ]
    },
    {
     "name": "stdout",
     "output_type": "stream",
     "text": [
      "https://exhibitors.gitex.com/gitex-global-2023/Exhibitor/ExbDetails/NDYy\n"
     ]
    },
    {
     "name": "stderr",
     "output_type": "stream",
     "text": [
      "C:\\Users\\saira\\anaconda3\\Lib\\site-packages\\urllib3\\connectionpool.py:1056: InsecureRequestWarning: Unverified HTTPS request is being made to host 'exhibitors.gitex.com'. Adding certificate verification is strongly advised. See: https://urllib3.readthedocs.io/en/1.26.x/advanced-usage.html#ssl-warnings\n",
      "  warnings.warn(\n"
     ]
    },
    {
     "name": "stdout",
     "output_type": "stream",
     "text": [
      "https://exhibitors.gitex.com/gitex-global-2023/Exhibitor/ExbDetails/MTg3Nw==\n"
     ]
    },
    {
     "name": "stderr",
     "output_type": "stream",
     "text": [
      "C:\\Users\\saira\\anaconda3\\Lib\\site-packages\\urllib3\\connectionpool.py:1056: InsecureRequestWarning: Unverified HTTPS request is being made to host 'exhibitors.gitex.com'. Adding certificate verification is strongly advised. See: https://urllib3.readthedocs.io/en/1.26.x/advanced-usage.html#ssl-warnings\n",
      "  warnings.warn(\n"
     ]
    },
    {
     "name": "stdout",
     "output_type": "stream",
     "text": [
      "https://exhibitors.gitex.com/gitex-global-2023/Exhibitor/ExbDetails/NDM4\n"
     ]
    },
    {
     "name": "stderr",
     "output_type": "stream",
     "text": [
      "C:\\Users\\saira\\anaconda3\\Lib\\site-packages\\urllib3\\connectionpool.py:1056: InsecureRequestWarning: Unverified HTTPS request is being made to host 'exhibitors.gitex.com'. Adding certificate verification is strongly advised. See: https://urllib3.readthedocs.io/en/1.26.x/advanced-usage.html#ssl-warnings\n",
      "  warnings.warn(\n"
     ]
    },
    {
     "name": "stdout",
     "output_type": "stream",
     "text": [
      "https://exhibitors.gitex.com/gitex-global-2023/Exhibitor/ExbDetails/OTUz\n"
     ]
    },
    {
     "name": "stderr",
     "output_type": "stream",
     "text": [
      "C:\\Users\\saira\\anaconda3\\Lib\\site-packages\\urllib3\\connectionpool.py:1056: InsecureRequestWarning: Unverified HTTPS request is being made to host 'exhibitors.gitex.com'. Adding certificate verification is strongly advised. See: https://urllib3.readthedocs.io/en/1.26.x/advanced-usage.html#ssl-warnings\n",
      "  warnings.warn(\n"
     ]
    },
    {
     "name": "stdout",
     "output_type": "stream",
     "text": [
      "https://exhibitors.gitex.com/gitex-global-2023/Exhibitor/ExbDetails/Njc4\n"
     ]
    },
    {
     "name": "stderr",
     "output_type": "stream",
     "text": [
      "C:\\Users\\saira\\anaconda3\\Lib\\site-packages\\urllib3\\connectionpool.py:1056: InsecureRequestWarning: Unverified HTTPS request is being made to host 'exhibitors.gitex.com'. Adding certificate verification is strongly advised. See: https://urllib3.readthedocs.io/en/1.26.x/advanced-usage.html#ssl-warnings\n",
      "  warnings.warn(\n"
     ]
    },
    {
     "name": "stdout",
     "output_type": "stream",
     "text": [
      "https://exhibitors.gitex.com/gitex-global-2023/Exhibitor/ExbDetails/Mjg2OA==\n"
     ]
    },
    {
     "name": "stderr",
     "output_type": "stream",
     "text": [
      "C:\\Users\\saira\\anaconda3\\Lib\\site-packages\\urllib3\\connectionpool.py:1056: InsecureRequestWarning: Unverified HTTPS request is being made to host 'exhibitors.gitex.com'. Adding certificate verification is strongly advised. See: https://urllib3.readthedocs.io/en/1.26.x/advanced-usage.html#ssl-warnings\n",
      "  warnings.warn(\n"
     ]
    },
    {
     "name": "stdout",
     "output_type": "stream",
     "text": [
      "https://exhibitors.gitex.com/gitex-global-2023/Exhibitor/ExbDetails/OTY0\n"
     ]
    },
    {
     "name": "stderr",
     "output_type": "stream",
     "text": [
      "C:\\Users\\saira\\anaconda3\\Lib\\site-packages\\urllib3\\connectionpool.py:1056: InsecureRequestWarning: Unverified HTTPS request is being made to host 'exhibitors.gitex.com'. Adding certificate verification is strongly advised. See: https://urllib3.readthedocs.io/en/1.26.x/advanced-usage.html#ssl-warnings\n",
      "  warnings.warn(\n"
     ]
    },
    {
     "name": "stdout",
     "output_type": "stream",
     "text": [
      "https://exhibitors.gitex.com/gitex-global-2023/Exhibitor/ExbDetails/MTM4Mg==\n"
     ]
    },
    {
     "name": "stderr",
     "output_type": "stream",
     "text": [
      "C:\\Users\\saira\\anaconda3\\Lib\\site-packages\\urllib3\\connectionpool.py:1056: InsecureRequestWarning: Unverified HTTPS request is being made to host 'exhibitors.gitex.com'. Adding certificate verification is strongly advised. See: https://urllib3.readthedocs.io/en/1.26.x/advanced-usage.html#ssl-warnings\n",
      "  warnings.warn(\n"
     ]
    },
    {
     "name": "stdout",
     "output_type": "stream",
     "text": [
      "https://exhibitors.gitex.com/gitex-global-2023/Exhibitor/ExbDetails/Mjg1Mg==\n"
     ]
    },
    {
     "name": "stderr",
     "output_type": "stream",
     "text": [
      "C:\\Users\\saira\\anaconda3\\Lib\\site-packages\\urllib3\\connectionpool.py:1056: InsecureRequestWarning: Unverified HTTPS request is being made to host 'exhibitors.gitex.com'. Adding certificate verification is strongly advised. See: https://urllib3.readthedocs.io/en/1.26.x/advanced-usage.html#ssl-warnings\n",
      "  warnings.warn(\n"
     ]
    },
    {
     "name": "stdout",
     "output_type": "stream",
     "text": [
      "https://exhibitors.gitex.com/gitex-global-2023/Exhibitor/ExbDetails/MTY5Ng==\n"
     ]
    },
    {
     "name": "stderr",
     "output_type": "stream",
     "text": [
      "C:\\Users\\saira\\anaconda3\\Lib\\site-packages\\urllib3\\connectionpool.py:1056: InsecureRequestWarning: Unverified HTTPS request is being made to host 'exhibitors.gitex.com'. Adding certificate verification is strongly advised. See: https://urllib3.readthedocs.io/en/1.26.x/advanced-usage.html#ssl-warnings\n",
      "  warnings.warn(\n"
     ]
    },
    {
     "name": "stdout",
     "output_type": "stream",
     "text": [
      "https://exhibitors.gitex.com/gitex-global-2023/Exhibitor/ExbDetails/NjAz\n"
     ]
    },
    {
     "name": "stderr",
     "output_type": "stream",
     "text": [
      "C:\\Users\\saira\\anaconda3\\Lib\\site-packages\\urllib3\\connectionpool.py:1056: InsecureRequestWarning: Unverified HTTPS request is being made to host 'exhibitors.gitex.com'. Adding certificate verification is strongly advised. See: https://urllib3.readthedocs.io/en/1.26.x/advanced-usage.html#ssl-warnings\n",
      "  warnings.warn(\n"
     ]
    },
    {
     "name": "stdout",
     "output_type": "stream",
     "text": [
      "https://exhibitors.gitex.com/gitex-global-2023/Exhibitor/ExbDetails/MTY4MQ==\n"
     ]
    },
    {
     "name": "stderr",
     "output_type": "stream",
     "text": [
      "C:\\Users\\saira\\anaconda3\\Lib\\site-packages\\urllib3\\connectionpool.py:1056: InsecureRequestWarning: Unverified HTTPS request is being made to host 'exhibitors.gitex.com'. Adding certificate verification is strongly advised. See: https://urllib3.readthedocs.io/en/1.26.x/advanced-usage.html#ssl-warnings\n",
      "  warnings.warn(\n"
     ]
    },
    {
     "name": "stdout",
     "output_type": "stream",
     "text": [
      "https://exhibitors.gitex.com/gitex-global-2023/Exhibitor/ExbDetails/OTE5\n"
     ]
    },
    {
     "name": "stderr",
     "output_type": "stream",
     "text": [
      "C:\\Users\\saira\\anaconda3\\Lib\\site-packages\\urllib3\\connectionpool.py:1056: InsecureRequestWarning: Unverified HTTPS request is being made to host 'exhibitors.gitex.com'. Adding certificate verification is strongly advised. See: https://urllib3.readthedocs.io/en/1.26.x/advanced-usage.html#ssl-warnings\n",
      "  warnings.warn(\n"
     ]
    },
    {
     "name": "stdout",
     "output_type": "stream",
     "text": [
      "https://exhibitors.gitex.com/gitex-global-2023/Exhibitor/ExbDetails/MTM5Ng==\n"
     ]
    },
    {
     "name": "stderr",
     "output_type": "stream",
     "text": [
      "C:\\Users\\saira\\anaconda3\\Lib\\site-packages\\urllib3\\connectionpool.py:1056: InsecureRequestWarning: Unverified HTTPS request is being made to host 'exhibitors.gitex.com'. Adding certificate verification is strongly advised. See: https://urllib3.readthedocs.io/en/1.26.x/advanced-usage.html#ssl-warnings\n",
      "  warnings.warn(\n"
     ]
    },
    {
     "name": "stdout",
     "output_type": "stream",
     "text": [
      "https://exhibitors.gitex.com/gitex-global-2023/Exhibitor/ExbDetails/MTUwMw==\n"
     ]
    },
    {
     "name": "stderr",
     "output_type": "stream",
     "text": [
      "C:\\Users\\saira\\anaconda3\\Lib\\site-packages\\urllib3\\connectionpool.py:1056: InsecureRequestWarning: Unverified HTTPS request is being made to host 'exhibitors.gitex.com'. Adding certificate verification is strongly advised. See: https://urllib3.readthedocs.io/en/1.26.x/advanced-usage.html#ssl-warnings\n",
      "  warnings.warn(\n"
     ]
    },
    {
     "name": "stdout",
     "output_type": "stream",
     "text": [
      "https://exhibitors.gitex.com/gitex-global-2023/Exhibitor/ExbDetails/MTAyOQ==\n"
     ]
    },
    {
     "name": "stderr",
     "output_type": "stream",
     "text": [
      "C:\\Users\\saira\\anaconda3\\Lib\\site-packages\\urllib3\\connectionpool.py:1056: InsecureRequestWarning: Unverified HTTPS request is being made to host 'exhibitors.gitex.com'. Adding certificate verification is strongly advised. See: https://urllib3.readthedocs.io/en/1.26.x/advanced-usage.html#ssl-warnings\n",
      "  warnings.warn(\n"
     ]
    },
    {
     "name": "stdout",
     "output_type": "stream",
     "text": [
      "https://exhibitors.gitex.com/gitex-global-2023/Exhibitor/ExbDetails/MTkwMQ==\n"
     ]
    },
    {
     "name": "stderr",
     "output_type": "stream",
     "text": [
      "C:\\Users\\saira\\anaconda3\\Lib\\site-packages\\urllib3\\connectionpool.py:1056: InsecureRequestWarning: Unverified HTTPS request is being made to host 'exhibitors.gitex.com'. Adding certificate verification is strongly advised. See: https://urllib3.readthedocs.io/en/1.26.x/advanced-usage.html#ssl-warnings\n",
      "  warnings.warn(\n"
     ]
    },
    {
     "name": "stdout",
     "output_type": "stream",
     "text": [
      "https://exhibitors.gitex.com/gitex-global-2023/Exhibitor/ExbDetails/MjUyNA==\n"
     ]
    },
    {
     "name": "stderr",
     "output_type": "stream",
     "text": [
      "C:\\Users\\saira\\anaconda3\\Lib\\site-packages\\urllib3\\connectionpool.py:1056: InsecureRequestWarning: Unverified HTTPS request is being made to host 'exhibitors.gitex.com'. Adding certificate verification is strongly advised. See: https://urllib3.readthedocs.io/en/1.26.x/advanced-usage.html#ssl-warnings\n",
      "  warnings.warn(\n"
     ]
    },
    {
     "name": "stdout",
     "output_type": "stream",
     "text": [
      "https://exhibitors.gitex.com/gitex-global-2023/Exhibitor/ExbDetails/NTU1\n"
     ]
    },
    {
     "name": "stderr",
     "output_type": "stream",
     "text": [
      "C:\\Users\\saira\\anaconda3\\Lib\\site-packages\\urllib3\\connectionpool.py:1056: InsecureRequestWarning: Unverified HTTPS request is being made to host 'exhibitors.gitex.com'. Adding certificate verification is strongly advised. See: https://urllib3.readthedocs.io/en/1.26.x/advanced-usage.html#ssl-warnings\n",
      "  warnings.warn(\n"
     ]
    },
    {
     "name": "stdout",
     "output_type": "stream",
     "text": [
      "https://exhibitors.gitex.com/gitex-global-2023/Exhibitor/ExbDetails/OTM1\n"
     ]
    },
    {
     "name": "stderr",
     "output_type": "stream",
     "text": [
      "C:\\Users\\saira\\anaconda3\\Lib\\site-packages\\urllib3\\connectionpool.py:1056: InsecureRequestWarning: Unverified HTTPS request is being made to host 'exhibitors.gitex.com'. Adding certificate verification is strongly advised. See: https://urllib3.readthedocs.io/en/1.26.x/advanced-usage.html#ssl-warnings\n",
      "  warnings.warn(\n"
     ]
    },
    {
     "name": "stdout",
     "output_type": "stream",
     "text": [
      "https://exhibitors.gitex.com/gitex-global-2023/Exhibitor/ExbDetails/MTAyMw==\n"
     ]
    },
    {
     "name": "stderr",
     "output_type": "stream",
     "text": [
      "C:\\Users\\saira\\anaconda3\\Lib\\site-packages\\urllib3\\connectionpool.py:1056: InsecureRequestWarning: Unverified HTTPS request is being made to host 'exhibitors.gitex.com'. Adding certificate verification is strongly advised. See: https://urllib3.readthedocs.io/en/1.26.x/advanced-usage.html#ssl-warnings\n",
      "  warnings.warn(\n"
     ]
    },
    {
     "name": "stdout",
     "output_type": "stream",
     "text": [
      "https://exhibitors.gitex.com/gitex-global-2023/Exhibitor/ExbDetails/NzM0\n"
     ]
    },
    {
     "name": "stderr",
     "output_type": "stream",
     "text": [
      "C:\\Users\\saira\\anaconda3\\Lib\\site-packages\\urllib3\\connectionpool.py:1056: InsecureRequestWarning: Unverified HTTPS request is being made to host 'exhibitors.gitex.com'. Adding certificate verification is strongly advised. See: https://urllib3.readthedocs.io/en/1.26.x/advanced-usage.html#ssl-warnings\n",
      "  warnings.warn(\n"
     ]
    },
    {
     "name": "stdout",
     "output_type": "stream",
     "text": [
      "https://exhibitors.gitex.com/gitex-global-2023/Exhibitor/ExbDetails/NjM1\n"
     ]
    },
    {
     "name": "stderr",
     "output_type": "stream",
     "text": [
      "C:\\Users\\saira\\anaconda3\\Lib\\site-packages\\urllib3\\connectionpool.py:1056: InsecureRequestWarning: Unverified HTTPS request is being made to host 'exhibitors.gitex.com'. Adding certificate verification is strongly advised. See: https://urllib3.readthedocs.io/en/1.26.x/advanced-usage.html#ssl-warnings\n",
      "  warnings.warn(\n"
     ]
    },
    {
     "name": "stdout",
     "output_type": "stream",
     "text": [
      "https://exhibitors.gitex.com/gitex-global-2023/Exhibitor/ExbDetails/NzIy\n"
     ]
    },
    {
     "name": "stderr",
     "output_type": "stream",
     "text": [
      "C:\\Users\\saira\\anaconda3\\Lib\\site-packages\\urllib3\\connectionpool.py:1056: InsecureRequestWarning: Unverified HTTPS request is being made to host 'exhibitors.gitex.com'. Adding certificate verification is strongly advised. See: https://urllib3.readthedocs.io/en/1.26.x/advanced-usage.html#ssl-warnings\n",
      "  warnings.warn(\n"
     ]
    },
    {
     "name": "stdout",
     "output_type": "stream",
     "text": [
      "https://exhibitors.gitex.com/gitex-global-2023/Exhibitor/ExbDetails/MjczNg==\n"
     ]
    },
    {
     "name": "stderr",
     "output_type": "stream",
     "text": [
      "C:\\Users\\saira\\anaconda3\\Lib\\site-packages\\urllib3\\connectionpool.py:1056: InsecureRequestWarning: Unverified HTTPS request is being made to host 'exhibitors.gitex.com'. Adding certificate verification is strongly advised. See: https://urllib3.readthedocs.io/en/1.26.x/advanced-usage.html#ssl-warnings\n",
      "  warnings.warn(\n"
     ]
    },
    {
     "name": "stdout",
     "output_type": "stream",
     "text": [
      "https://exhibitors.gitex.com/gitex-global-2023/Exhibitor/ExbDetails/OTYx\n"
     ]
    },
    {
     "name": "stderr",
     "output_type": "stream",
     "text": [
      "C:\\Users\\saira\\anaconda3\\Lib\\site-packages\\urllib3\\connectionpool.py:1056: InsecureRequestWarning: Unverified HTTPS request is being made to host 'exhibitors.gitex.com'. Adding certificate verification is strongly advised. See: https://urllib3.readthedocs.io/en/1.26.x/advanced-usage.html#ssl-warnings\n",
      "  warnings.warn(\n"
     ]
    },
    {
     "name": "stdout",
     "output_type": "stream",
     "text": [
      "https://exhibitors.gitex.com/gitex-global-2023/Exhibitor/ExbDetails/NTQ1\n"
     ]
    },
    {
     "name": "stderr",
     "output_type": "stream",
     "text": [
      "C:\\Users\\saira\\anaconda3\\Lib\\site-packages\\urllib3\\connectionpool.py:1056: InsecureRequestWarning: Unverified HTTPS request is being made to host 'exhibitors.gitex.com'. Adding certificate verification is strongly advised. See: https://urllib3.readthedocs.io/en/1.26.x/advanced-usage.html#ssl-warnings\n",
      "  warnings.warn(\n"
     ]
    },
    {
     "name": "stdout",
     "output_type": "stream",
     "text": [
      "https://exhibitors.gitex.com/gitex-global-2023/Exhibitor/ExbDetails/NDMx\n"
     ]
    },
    {
     "name": "stderr",
     "output_type": "stream",
     "text": [
      "C:\\Users\\saira\\anaconda3\\Lib\\site-packages\\urllib3\\connectionpool.py:1056: InsecureRequestWarning: Unverified HTTPS request is being made to host 'exhibitors.gitex.com'. Adding certificate verification is strongly advised. See: https://urllib3.readthedocs.io/en/1.26.x/advanced-usage.html#ssl-warnings\n",
      "  warnings.warn(\n"
     ]
    },
    {
     "name": "stdout",
     "output_type": "stream",
     "text": [
      "https://exhibitors.gitex.com/gitex-global-2023/Exhibitor/ExbDetails/MTEyMA==\n"
     ]
    },
    {
     "name": "stderr",
     "output_type": "stream",
     "text": [
      "C:\\Users\\saira\\anaconda3\\Lib\\site-packages\\urllib3\\connectionpool.py:1056: InsecureRequestWarning: Unverified HTTPS request is being made to host 'exhibitors.gitex.com'. Adding certificate verification is strongly advised. See: https://urllib3.readthedocs.io/en/1.26.x/advanced-usage.html#ssl-warnings\n",
      "  warnings.warn(\n"
     ]
    },
    {
     "name": "stdout",
     "output_type": "stream",
     "text": [
      "https://exhibitors.gitex.com/gitex-global-2023/Exhibitor/ExbDetails/MTU3MA==\n"
     ]
    },
    {
     "name": "stderr",
     "output_type": "stream",
     "text": [
      "C:\\Users\\saira\\anaconda3\\Lib\\site-packages\\urllib3\\connectionpool.py:1056: InsecureRequestWarning: Unverified HTTPS request is being made to host 'exhibitors.gitex.com'. Adding certificate verification is strongly advised. See: https://urllib3.readthedocs.io/en/1.26.x/advanced-usage.html#ssl-warnings\n",
      "  warnings.warn(\n"
     ]
    },
    {
     "name": "stdout",
     "output_type": "stream",
     "text": [
      "https://exhibitors.gitex.com/gitex-global-2023/Exhibitor/ExbDetails/MTUwNg==\n"
     ]
    },
    {
     "name": "stderr",
     "output_type": "stream",
     "text": [
      "C:\\Users\\saira\\anaconda3\\Lib\\site-packages\\urllib3\\connectionpool.py:1056: InsecureRequestWarning: Unverified HTTPS request is being made to host 'exhibitors.gitex.com'. Adding certificate verification is strongly advised. See: https://urllib3.readthedocs.io/en/1.26.x/advanced-usage.html#ssl-warnings\n",
      "  warnings.warn(\n"
     ]
    },
    {
     "name": "stdout",
     "output_type": "stream",
     "text": [
      "https://exhibitors.gitex.com/gitex-global-2023/Exhibitor/ExbDetails/NzUx\n"
     ]
    },
    {
     "name": "stderr",
     "output_type": "stream",
     "text": [
      "C:\\Users\\saira\\anaconda3\\Lib\\site-packages\\urllib3\\connectionpool.py:1056: InsecureRequestWarning: Unverified HTTPS request is being made to host 'exhibitors.gitex.com'. Adding certificate verification is strongly advised. See: https://urllib3.readthedocs.io/en/1.26.x/advanced-usage.html#ssl-warnings\n",
      "  warnings.warn(\n"
     ]
    },
    {
     "name": "stdout",
     "output_type": "stream",
     "text": [
      "https://exhibitors.gitex.com/gitex-global-2023/Exhibitor/ExbDetails/MjE5NA==\n"
     ]
    },
    {
     "name": "stderr",
     "output_type": "stream",
     "text": [
      "C:\\Users\\saira\\anaconda3\\Lib\\site-packages\\urllib3\\connectionpool.py:1056: InsecureRequestWarning: Unverified HTTPS request is being made to host 'exhibitors.gitex.com'. Adding certificate verification is strongly advised. See: https://urllib3.readthedocs.io/en/1.26.x/advanced-usage.html#ssl-warnings\n",
      "  warnings.warn(\n"
     ]
    },
    {
     "name": "stdout",
     "output_type": "stream",
     "text": [
      "https://exhibitors.gitex.com/gitex-global-2023/Exhibitor/ExbDetails/MzE5Ng==\n"
     ]
    },
    {
     "name": "stderr",
     "output_type": "stream",
     "text": [
      "C:\\Users\\saira\\anaconda3\\Lib\\site-packages\\urllib3\\connectionpool.py:1056: InsecureRequestWarning: Unverified HTTPS request is being made to host 'exhibitors.gitex.com'. Adding certificate verification is strongly advised. See: https://urllib3.readthedocs.io/en/1.26.x/advanced-usage.html#ssl-warnings\n",
      "  warnings.warn(\n"
     ]
    },
    {
     "name": "stdout",
     "output_type": "stream",
     "text": [
      "https://exhibitors.gitex.com/gitex-global-2023/Exhibitor/ExbDetails/MTQwOQ==\n"
     ]
    },
    {
     "name": "stderr",
     "output_type": "stream",
     "text": [
      "C:\\Users\\saira\\anaconda3\\Lib\\site-packages\\urllib3\\connectionpool.py:1056: InsecureRequestWarning: Unverified HTTPS request is being made to host 'exhibitors.gitex.com'. Adding certificate verification is strongly advised. See: https://urllib3.readthedocs.io/en/1.26.x/advanced-usage.html#ssl-warnings\n",
      "  warnings.warn(\n"
     ]
    },
    {
     "name": "stdout",
     "output_type": "stream",
     "text": [
      "https://exhibitors.gitex.com/gitex-global-2023/Exhibitor/ExbDetails/MTEzNw==\n"
     ]
    },
    {
     "name": "stderr",
     "output_type": "stream",
     "text": [
      "C:\\Users\\saira\\anaconda3\\Lib\\site-packages\\urllib3\\connectionpool.py:1056: InsecureRequestWarning: Unverified HTTPS request is being made to host 'exhibitors.gitex.com'. Adding certificate verification is strongly advised. See: https://urllib3.readthedocs.io/en/1.26.x/advanced-usage.html#ssl-warnings\n",
      "  warnings.warn(\n"
     ]
    },
    {
     "name": "stdout",
     "output_type": "stream",
     "text": [
      "https://exhibitors.gitex.com/gitex-global-2023/Exhibitor/ExbDetails/MTU1Mw==\n"
     ]
    },
    {
     "name": "stderr",
     "output_type": "stream",
     "text": [
      "C:\\Users\\saira\\anaconda3\\Lib\\site-packages\\urllib3\\connectionpool.py:1056: InsecureRequestWarning: Unverified HTTPS request is being made to host 'exhibitors.gitex.com'. Adding certificate verification is strongly advised. See: https://urllib3.readthedocs.io/en/1.26.x/advanced-usage.html#ssl-warnings\n",
      "  warnings.warn(\n"
     ]
    },
    {
     "name": "stdout",
     "output_type": "stream",
     "text": [
      "https://exhibitors.gitex.com/gitex-global-2023/Exhibitor/ExbDetails/OTQ0\n"
     ]
    },
    {
     "name": "stderr",
     "output_type": "stream",
     "text": [
      "C:\\Users\\saira\\anaconda3\\Lib\\site-packages\\urllib3\\connectionpool.py:1056: InsecureRequestWarning: Unverified HTTPS request is being made to host 'exhibitors.gitex.com'. Adding certificate verification is strongly advised. See: https://urllib3.readthedocs.io/en/1.26.x/advanced-usage.html#ssl-warnings\n",
      "  warnings.warn(\n"
     ]
    },
    {
     "name": "stdout",
     "output_type": "stream",
     "text": [
      "https://exhibitors.gitex.com/gitex-global-2023/Exhibitor/ExbDetails/MTQwNg==\n"
     ]
    },
    {
     "name": "stderr",
     "output_type": "stream",
     "text": [
      "C:\\Users\\saira\\anaconda3\\Lib\\site-packages\\urllib3\\connectionpool.py:1056: InsecureRequestWarning: Unverified HTTPS request is being made to host 'exhibitors.gitex.com'. Adding certificate verification is strongly advised. See: https://urllib3.readthedocs.io/en/1.26.x/advanced-usage.html#ssl-warnings\n",
      "  warnings.warn(\n"
     ]
    },
    {
     "name": "stdout",
     "output_type": "stream",
     "text": [
      "https://exhibitors.gitex.com/gitex-global-2023/Exhibitor/ExbDetails/Njkw\n"
     ]
    },
    {
     "name": "stderr",
     "output_type": "stream",
     "text": [
      "C:\\Users\\saira\\anaconda3\\Lib\\site-packages\\urllib3\\connectionpool.py:1056: InsecureRequestWarning: Unverified HTTPS request is being made to host 'exhibitors.gitex.com'. Adding certificate verification is strongly advised. See: https://urllib3.readthedocs.io/en/1.26.x/advanced-usage.html#ssl-warnings\n",
      "  warnings.warn(\n"
     ]
    },
    {
     "name": "stdout",
     "output_type": "stream",
     "text": [
      "https://exhibitors.gitex.com/gitex-global-2023/Exhibitor/ExbDetails/Njc0\n"
     ]
    },
    {
     "name": "stderr",
     "output_type": "stream",
     "text": [
      "C:\\Users\\saira\\anaconda3\\Lib\\site-packages\\urllib3\\connectionpool.py:1056: InsecureRequestWarning: Unverified HTTPS request is being made to host 'exhibitors.gitex.com'. Adding certificate verification is strongly advised. See: https://urllib3.readthedocs.io/en/1.26.x/advanced-usage.html#ssl-warnings\n",
      "  warnings.warn(\n"
     ]
    },
    {
     "name": "stdout",
     "output_type": "stream",
     "text": [
      "https://exhibitors.gitex.com/gitex-global-2023/Exhibitor/ExbDetails/MTYzNQ==\n"
     ]
    },
    {
     "name": "stderr",
     "output_type": "stream",
     "text": [
      "C:\\Users\\saira\\anaconda3\\Lib\\site-packages\\urllib3\\connectionpool.py:1056: InsecureRequestWarning: Unverified HTTPS request is being made to host 'exhibitors.gitex.com'. Adding certificate verification is strongly advised. See: https://urllib3.readthedocs.io/en/1.26.x/advanced-usage.html#ssl-warnings\n",
      "  warnings.warn(\n"
     ]
    },
    {
     "name": "stdout",
     "output_type": "stream",
     "text": [
      "https://exhibitors.gitex.com/gitex-global-2023/Exhibitor/ExbDetails/MTEwNw==\n"
     ]
    },
    {
     "name": "stderr",
     "output_type": "stream",
     "text": [
      "C:\\Users\\saira\\anaconda3\\Lib\\site-packages\\urllib3\\connectionpool.py:1056: InsecureRequestWarning: Unverified HTTPS request is being made to host 'exhibitors.gitex.com'. Adding certificate verification is strongly advised. See: https://urllib3.readthedocs.io/en/1.26.x/advanced-usage.html#ssl-warnings\n",
      "  warnings.warn(\n"
     ]
    },
    {
     "name": "stdout",
     "output_type": "stream",
     "text": [
      "https://exhibitors.gitex.com/gitex-global-2023/Exhibitor/ExbDetails/NTI5\n"
     ]
    },
    {
     "name": "stderr",
     "output_type": "stream",
     "text": [
      "C:\\Users\\saira\\anaconda3\\Lib\\site-packages\\urllib3\\connectionpool.py:1056: InsecureRequestWarning: Unverified HTTPS request is being made to host 'exhibitors.gitex.com'. Adding certificate verification is strongly advised. See: https://urllib3.readthedocs.io/en/1.26.x/advanced-usage.html#ssl-warnings\n",
      "  warnings.warn(\n"
     ]
    },
    {
     "name": "stdout",
     "output_type": "stream",
     "text": [
      "https://exhibitors.gitex.com/gitex-global-2023/Exhibitor/ExbDetails/MTQ1OA==\n"
     ]
    },
    {
     "name": "stderr",
     "output_type": "stream",
     "text": [
      "C:\\Users\\saira\\anaconda3\\Lib\\site-packages\\urllib3\\connectionpool.py:1056: InsecureRequestWarning: Unverified HTTPS request is being made to host 'exhibitors.gitex.com'. Adding certificate verification is strongly advised. See: https://urllib3.readthedocs.io/en/1.26.x/advanced-usage.html#ssl-warnings\n",
      "  warnings.warn(\n"
     ]
    },
    {
     "name": "stdout",
     "output_type": "stream",
     "text": [
      "https://exhibitors.gitex.com/gitex-global-2023/Exhibitor/ExbDetails/OTM0\n"
     ]
    },
    {
     "name": "stderr",
     "output_type": "stream",
     "text": [
      "C:\\Users\\saira\\anaconda3\\Lib\\site-packages\\urllib3\\connectionpool.py:1056: InsecureRequestWarning: Unverified HTTPS request is being made to host 'exhibitors.gitex.com'. Adding certificate verification is strongly advised. See: https://urllib3.readthedocs.io/en/1.26.x/advanced-usage.html#ssl-warnings\n",
      "  warnings.warn(\n"
     ]
    },
    {
     "name": "stdout",
     "output_type": "stream",
     "text": [
      "https://exhibitors.gitex.com/gitex-global-2023/Exhibitor/ExbDetails/NDg0\n"
     ]
    },
    {
     "name": "stderr",
     "output_type": "stream",
     "text": [
      "C:\\Users\\saira\\anaconda3\\Lib\\site-packages\\urllib3\\connectionpool.py:1056: InsecureRequestWarning: Unverified HTTPS request is being made to host 'exhibitors.gitex.com'. Adding certificate verification is strongly advised. See: https://urllib3.readthedocs.io/en/1.26.x/advanced-usage.html#ssl-warnings\n",
      "  warnings.warn(\n"
     ]
    },
    {
     "name": "stdout",
     "output_type": "stream",
     "text": [
      "https://exhibitors.gitex.com/gitex-global-2023/Exhibitor/ExbDetails/NzM4\n"
     ]
    },
    {
     "name": "stderr",
     "output_type": "stream",
     "text": [
      "C:\\Users\\saira\\anaconda3\\Lib\\site-packages\\urllib3\\connectionpool.py:1056: InsecureRequestWarning: Unverified HTTPS request is being made to host 'exhibitors.gitex.com'. Adding certificate verification is strongly advised. See: https://urllib3.readthedocs.io/en/1.26.x/advanced-usage.html#ssl-warnings\n",
      "  warnings.warn(\n"
     ]
    },
    {
     "name": "stdout",
     "output_type": "stream",
     "text": [
      "https://exhibitors.gitex.com/gitex-global-2023/Exhibitor/ExbDetails/NTQx\n"
     ]
    },
    {
     "name": "stderr",
     "output_type": "stream",
     "text": [
      "C:\\Users\\saira\\anaconda3\\Lib\\site-packages\\urllib3\\connectionpool.py:1056: InsecureRequestWarning: Unverified HTTPS request is being made to host 'exhibitors.gitex.com'. Adding certificate verification is strongly advised. See: https://urllib3.readthedocs.io/en/1.26.x/advanced-usage.html#ssl-warnings\n",
      "  warnings.warn(\n"
     ]
    },
    {
     "name": "stdout",
     "output_type": "stream",
     "text": [
      "https://exhibitors.gitex.com/gitex-global-2023/Exhibitor/ExbDetails/MTYwMw==\n"
     ]
    },
    {
     "name": "stderr",
     "output_type": "stream",
     "text": [
      "C:\\Users\\saira\\anaconda3\\Lib\\site-packages\\urllib3\\connectionpool.py:1056: InsecureRequestWarning: Unverified HTTPS request is being made to host 'exhibitors.gitex.com'. Adding certificate verification is strongly advised. See: https://urllib3.readthedocs.io/en/1.26.x/advanced-usage.html#ssl-warnings\n",
      "  warnings.warn(\n"
     ]
    },
    {
     "name": "stdout",
     "output_type": "stream",
     "text": [
      "https://exhibitors.gitex.com/gitex-global-2023/Exhibitor/ExbDetails/NzI1\n"
     ]
    },
    {
     "name": "stderr",
     "output_type": "stream",
     "text": [
      "C:\\Users\\saira\\anaconda3\\Lib\\site-packages\\urllib3\\connectionpool.py:1056: InsecureRequestWarning: Unverified HTTPS request is being made to host 'exhibitors.gitex.com'. Adding certificate verification is strongly advised. See: https://urllib3.readthedocs.io/en/1.26.x/advanced-usage.html#ssl-warnings\n",
      "  warnings.warn(\n"
     ]
    },
    {
     "name": "stdout",
     "output_type": "stream",
     "text": [
      "https://exhibitors.gitex.com/gitex-global-2023/Exhibitor/ExbDetails/NjIz\n"
     ]
    },
    {
     "name": "stderr",
     "output_type": "stream",
     "text": [
      "C:\\Users\\saira\\anaconda3\\Lib\\site-packages\\urllib3\\connectionpool.py:1056: InsecureRequestWarning: Unverified HTTPS request is being made to host 'exhibitors.gitex.com'. Adding certificate verification is strongly advised. See: https://urllib3.readthedocs.io/en/1.26.x/advanced-usage.html#ssl-warnings\n",
      "  warnings.warn(\n"
     ]
    },
    {
     "name": "stdout",
     "output_type": "stream",
     "text": [
      "https://exhibitors.gitex.com/gitex-global-2023/Exhibitor/ExbDetails/MTY4NA==\n"
     ]
    },
    {
     "name": "stderr",
     "output_type": "stream",
     "text": [
      "C:\\Users\\saira\\anaconda3\\Lib\\site-packages\\urllib3\\connectionpool.py:1056: InsecureRequestWarning: Unverified HTTPS request is being made to host 'exhibitors.gitex.com'. Adding certificate verification is strongly advised. See: https://urllib3.readthedocs.io/en/1.26.x/advanced-usage.html#ssl-warnings\n",
      "  warnings.warn(\n"
     ]
    },
    {
     "name": "stdout",
     "output_type": "stream",
     "text": [
      "https://exhibitors.gitex.com/gitex-global-2023/Exhibitor/ExbDetails/NTI0\n"
     ]
    },
    {
     "name": "stderr",
     "output_type": "stream",
     "text": [
      "C:\\Users\\saira\\anaconda3\\Lib\\site-packages\\urllib3\\connectionpool.py:1056: InsecureRequestWarning: Unverified HTTPS request is being made to host 'exhibitors.gitex.com'. Adding certificate verification is strongly advised. See: https://urllib3.readthedocs.io/en/1.26.x/advanced-usage.html#ssl-warnings\n",
      "  warnings.warn(\n"
     ]
    },
    {
     "name": "stdout",
     "output_type": "stream",
     "text": [
      "https://exhibitors.gitex.com/gitex-global-2023/Exhibitor/ExbDetails/MjIyOA==\n"
     ]
    },
    {
     "name": "stderr",
     "output_type": "stream",
     "text": [
      "C:\\Users\\saira\\anaconda3\\Lib\\site-packages\\urllib3\\connectionpool.py:1056: InsecureRequestWarning: Unverified HTTPS request is being made to host 'exhibitors.gitex.com'. Adding certificate verification is strongly advised. See: https://urllib3.readthedocs.io/en/1.26.x/advanced-usage.html#ssl-warnings\n",
      "  warnings.warn(\n"
     ]
    },
    {
     "name": "stdout",
     "output_type": "stream",
     "text": [
      "https://exhibitors.gitex.com/gitex-global-2023/Exhibitor/ExbDetails/MTExMw==\n"
     ]
    },
    {
     "name": "stderr",
     "output_type": "stream",
     "text": [
      "C:\\Users\\saira\\anaconda3\\Lib\\site-packages\\urllib3\\connectionpool.py:1056: InsecureRequestWarning: Unverified HTTPS request is being made to host 'exhibitors.gitex.com'. Adding certificate verification is strongly advised. See: https://urllib3.readthedocs.io/en/1.26.x/advanced-usage.html#ssl-warnings\n",
      "  warnings.warn(\n"
     ]
    },
    {
     "name": "stdout",
     "output_type": "stream",
     "text": [
      "https://exhibitors.gitex.com/gitex-global-2023/Exhibitor/ExbDetails/NDU1\n"
     ]
    },
    {
     "name": "stderr",
     "output_type": "stream",
     "text": [
      "C:\\Users\\saira\\anaconda3\\Lib\\site-packages\\urllib3\\connectionpool.py:1056: InsecureRequestWarning: Unverified HTTPS request is being made to host 'exhibitors.gitex.com'. Adding certificate verification is strongly advised. See: https://urllib3.readthedocs.io/en/1.26.x/advanced-usage.html#ssl-warnings\n",
      "  warnings.warn(\n"
     ]
    },
    {
     "name": "stdout",
     "output_type": "stream",
     "text": [
      "https://exhibitors.gitex.com/gitex-global-2023/Exhibitor/ExbDetails/NTk3\n"
     ]
    },
    {
     "name": "stderr",
     "output_type": "stream",
     "text": [
      "C:\\Users\\saira\\anaconda3\\Lib\\site-packages\\urllib3\\connectionpool.py:1056: InsecureRequestWarning: Unverified HTTPS request is being made to host 'exhibitors.gitex.com'. Adding certificate verification is strongly advised. See: https://urllib3.readthedocs.io/en/1.26.x/advanced-usage.html#ssl-warnings\n",
      "  warnings.warn(\n"
     ]
    },
    {
     "name": "stdout",
     "output_type": "stream",
     "text": [
      "https://exhibitors.gitex.com/gitex-global-2023/Exhibitor/ExbDetails/MTUzMA==\n"
     ]
    },
    {
     "name": "stderr",
     "output_type": "stream",
     "text": [
      "C:\\Users\\saira\\anaconda3\\Lib\\site-packages\\urllib3\\connectionpool.py:1056: InsecureRequestWarning: Unverified HTTPS request is being made to host 'exhibitors.gitex.com'. Adding certificate verification is strongly advised. See: https://urllib3.readthedocs.io/en/1.26.x/advanced-usage.html#ssl-warnings\n",
      "  warnings.warn(\n"
     ]
    },
    {
     "name": "stdout",
     "output_type": "stream",
     "text": [
      "https://exhibitors.gitex.com/gitex-global-2023/Exhibitor/ExbDetails/MTU4MQ==\n"
     ]
    },
    {
     "name": "stderr",
     "output_type": "stream",
     "text": [
      "C:\\Users\\saira\\anaconda3\\Lib\\site-packages\\urllib3\\connectionpool.py:1056: InsecureRequestWarning: Unverified HTTPS request is being made to host 'exhibitors.gitex.com'. Adding certificate verification is strongly advised. See: https://urllib3.readthedocs.io/en/1.26.x/advanced-usage.html#ssl-warnings\n",
      "  warnings.warn(\n"
     ]
    },
    {
     "name": "stdout",
     "output_type": "stream",
     "text": [
      "https://exhibitors.gitex.com/gitex-global-2023/Exhibitor/ExbDetails/MTYzMg==\n"
     ]
    },
    {
     "name": "stderr",
     "output_type": "stream",
     "text": [
      "C:\\Users\\saira\\anaconda3\\Lib\\site-packages\\urllib3\\connectionpool.py:1056: InsecureRequestWarning: Unverified HTTPS request is being made to host 'exhibitors.gitex.com'. Adding certificate verification is strongly advised. See: https://urllib3.readthedocs.io/en/1.26.x/advanced-usage.html#ssl-warnings\n",
      "  warnings.warn(\n"
     ]
    },
    {
     "name": "stdout",
     "output_type": "stream",
     "text": [
      "https://exhibitors.gitex.com/gitex-global-2023/Exhibitor/ExbDetails/NTAw\n"
     ]
    },
    {
     "name": "stderr",
     "output_type": "stream",
     "text": [
      "C:\\Users\\saira\\anaconda3\\Lib\\site-packages\\urllib3\\connectionpool.py:1056: InsecureRequestWarning: Unverified HTTPS request is being made to host 'exhibitors.gitex.com'. Adding certificate verification is strongly advised. See: https://urllib3.readthedocs.io/en/1.26.x/advanced-usage.html#ssl-warnings\n",
      "  warnings.warn(\n"
     ]
    },
    {
     "name": "stdout",
     "output_type": "stream",
     "text": [
      "https://exhibitors.gitex.com/gitex-global-2023/Exhibitor/ExbDetails/Njk1\n"
     ]
    },
    {
     "name": "stderr",
     "output_type": "stream",
     "text": [
      "C:\\Users\\saira\\anaconda3\\Lib\\site-packages\\urllib3\\connectionpool.py:1056: InsecureRequestWarning: Unverified HTTPS request is being made to host 'exhibitors.gitex.com'. Adding certificate verification is strongly advised. See: https://urllib3.readthedocs.io/en/1.26.x/advanced-usage.html#ssl-warnings\n",
      "  warnings.warn(\n"
     ]
    },
    {
     "name": "stdout",
     "output_type": "stream",
     "text": [
      "https://exhibitors.gitex.com/gitex-global-2023/Exhibitor/ExbDetails/MTY3NQ==\n"
     ]
    },
    {
     "name": "stderr",
     "output_type": "stream",
     "text": [
      "C:\\Users\\saira\\anaconda3\\Lib\\site-packages\\urllib3\\connectionpool.py:1056: InsecureRequestWarning: Unverified HTTPS request is being made to host 'exhibitors.gitex.com'. Adding certificate verification is strongly advised. See: https://urllib3.readthedocs.io/en/1.26.x/advanced-usage.html#ssl-warnings\n",
      "  warnings.warn(\n"
     ]
    },
    {
     "name": "stdout",
     "output_type": "stream",
     "text": [
      "https://exhibitors.gitex.com/gitex-global-2023/Exhibitor/ExbDetails/MjkyNA==\n"
     ]
    },
    {
     "name": "stderr",
     "output_type": "stream",
     "text": [
      "C:\\Users\\saira\\anaconda3\\Lib\\site-packages\\urllib3\\connectionpool.py:1056: InsecureRequestWarning: Unverified HTTPS request is being made to host 'exhibitors.gitex.com'. Adding certificate verification is strongly advised. See: https://urllib3.readthedocs.io/en/1.26.x/advanced-usage.html#ssl-warnings\n",
      "  warnings.warn(\n"
     ]
    },
    {
     "name": "stdout",
     "output_type": "stream",
     "text": [
      "https://exhibitors.gitex.com/gitex-global-2023/Exhibitor/ExbDetails/MjU2Mw==\n"
     ]
    },
    {
     "name": "stderr",
     "output_type": "stream",
     "text": [
      "C:\\Users\\saira\\anaconda3\\Lib\\site-packages\\urllib3\\connectionpool.py:1056: InsecureRequestWarning: Unverified HTTPS request is being made to host 'exhibitors.gitex.com'. Adding certificate verification is strongly advised. See: https://urllib3.readthedocs.io/en/1.26.x/advanced-usage.html#ssl-warnings\n",
      "  warnings.warn(\n"
     ]
    },
    {
     "name": "stdout",
     "output_type": "stream",
     "text": [
      "https://exhibitors.gitex.com/gitex-global-2023/Exhibitor/ExbDetails/MzIwMw==\n"
     ]
    },
    {
     "name": "stderr",
     "output_type": "stream",
     "text": [
      "C:\\Users\\saira\\anaconda3\\Lib\\site-packages\\urllib3\\connectionpool.py:1056: InsecureRequestWarning: Unverified HTTPS request is being made to host 'exhibitors.gitex.com'. Adding certificate verification is strongly advised. See: https://urllib3.readthedocs.io/en/1.26.x/advanced-usage.html#ssl-warnings\n",
      "  warnings.warn(\n"
     ]
    },
    {
     "name": "stdout",
     "output_type": "stream",
     "text": [
      "https://exhibitors.gitex.com/gitex-global-2023/Exhibitor/ExbDetails/Mjg1OQ==\n"
     ]
    },
    {
     "name": "stderr",
     "output_type": "stream",
     "text": [
      "C:\\Users\\saira\\anaconda3\\Lib\\site-packages\\urllib3\\connectionpool.py:1056: InsecureRequestWarning: Unverified HTTPS request is being made to host 'exhibitors.gitex.com'. Adding certificate verification is strongly advised. See: https://urllib3.readthedocs.io/en/1.26.x/advanced-usage.html#ssl-warnings\n",
      "  warnings.warn(\n"
     ]
    },
    {
     "name": "stdout",
     "output_type": "stream",
     "text": [
      "https://exhibitors.gitex.com/gitex-global-2023/Exhibitor/ExbDetails/NzIz\n"
     ]
    },
    {
     "name": "stderr",
     "output_type": "stream",
     "text": [
      "C:\\Users\\saira\\anaconda3\\Lib\\site-packages\\urllib3\\connectionpool.py:1056: InsecureRequestWarning: Unverified HTTPS request is being made to host 'exhibitors.gitex.com'. Adding certificate verification is strongly advised. See: https://urllib3.readthedocs.io/en/1.26.x/advanced-usage.html#ssl-warnings\n",
      "  warnings.warn(\n"
     ]
    },
    {
     "name": "stdout",
     "output_type": "stream",
     "text": [
      "https://exhibitors.gitex.com/gitex-global-2023/Exhibitor/ExbDetails/NTk2\n"
     ]
    },
    {
     "name": "stderr",
     "output_type": "stream",
     "text": [
      "C:\\Users\\saira\\anaconda3\\Lib\\site-packages\\urllib3\\connectionpool.py:1056: InsecureRequestWarning: Unverified HTTPS request is being made to host 'exhibitors.gitex.com'. Adding certificate verification is strongly advised. See: https://urllib3.readthedocs.io/en/1.26.x/advanced-usage.html#ssl-warnings\n",
      "  warnings.warn(\n"
     ]
    },
    {
     "name": "stdout",
     "output_type": "stream",
     "text": [
      "https://exhibitors.gitex.com/gitex-global-2023/Exhibitor/ExbDetails/NTY5\n"
     ]
    },
    {
     "name": "stderr",
     "output_type": "stream",
     "text": [
      "C:\\Users\\saira\\anaconda3\\Lib\\site-packages\\urllib3\\connectionpool.py:1056: InsecureRequestWarning: Unverified HTTPS request is being made to host 'exhibitors.gitex.com'. Adding certificate verification is strongly advised. See: https://urllib3.readthedocs.io/en/1.26.x/advanced-usage.html#ssl-warnings\n",
      "  warnings.warn(\n"
     ]
    },
    {
     "name": "stdout",
     "output_type": "stream",
     "text": [
      "https://exhibitors.gitex.com/gitex-global-2023/Exhibitor/ExbDetails/MTA5NQ==\n"
     ]
    },
    {
     "name": "stderr",
     "output_type": "stream",
     "text": [
      "C:\\Users\\saira\\anaconda3\\Lib\\site-packages\\urllib3\\connectionpool.py:1056: InsecureRequestWarning: Unverified HTTPS request is being made to host 'exhibitors.gitex.com'. Adding certificate verification is strongly advised. See: https://urllib3.readthedocs.io/en/1.26.x/advanced-usage.html#ssl-warnings\n",
      "  warnings.warn(\n"
     ]
    },
    {
     "name": "stdout",
     "output_type": "stream",
     "text": [
      "https://exhibitors.gitex.com/gitex-global-2023/Exhibitor/ExbDetails/MTE0Nw==\n"
     ]
    },
    {
     "name": "stderr",
     "output_type": "stream",
     "text": [
      "C:\\Users\\saira\\anaconda3\\Lib\\site-packages\\urllib3\\connectionpool.py:1056: InsecureRequestWarning: Unverified HTTPS request is being made to host 'exhibitors.gitex.com'. Adding certificate verification is strongly advised. See: https://urllib3.readthedocs.io/en/1.26.x/advanced-usage.html#ssl-warnings\n",
      "  warnings.warn(\n"
     ]
    },
    {
     "name": "stdout",
     "output_type": "stream",
     "text": [
      "https://exhibitors.gitex.com/gitex-global-2023/Exhibitor/ExbDetails/MTQ4MA==\n"
     ]
    },
    {
     "name": "stderr",
     "output_type": "stream",
     "text": [
      "C:\\Users\\saira\\anaconda3\\Lib\\site-packages\\urllib3\\connectionpool.py:1056: InsecureRequestWarning: Unverified HTTPS request is being made to host 'exhibitors.gitex.com'. Adding certificate verification is strongly advised. See: https://urllib3.readthedocs.io/en/1.26.x/advanced-usage.html#ssl-warnings\n",
      "  warnings.warn(\n"
     ]
    },
    {
     "name": "stdout",
     "output_type": "stream",
     "text": [
      "https://exhibitors.gitex.com/gitex-global-2023/Exhibitor/ExbDetails/MTEzNg==\n"
     ]
    },
    {
     "name": "stderr",
     "output_type": "stream",
     "text": [
      "C:\\Users\\saira\\anaconda3\\Lib\\site-packages\\urllib3\\connectionpool.py:1056: InsecureRequestWarning: Unverified HTTPS request is being made to host 'exhibitors.gitex.com'. Adding certificate verification is strongly advised. See: https://urllib3.readthedocs.io/en/1.26.x/advanced-usage.html#ssl-warnings\n",
      "  warnings.warn(\n"
     ]
    },
    {
     "name": "stdout",
     "output_type": "stream",
     "text": [
      "https://exhibitors.gitex.com/gitex-global-2023/Exhibitor/ExbDetails/MTQyMg==\n"
     ]
    },
    {
     "name": "stderr",
     "output_type": "stream",
     "text": [
      "C:\\Users\\saira\\anaconda3\\Lib\\site-packages\\urllib3\\connectionpool.py:1056: InsecureRequestWarning: Unverified HTTPS request is being made to host 'exhibitors.gitex.com'. Adding certificate verification is strongly advised. See: https://urllib3.readthedocs.io/en/1.26.x/advanced-usage.html#ssl-warnings\n",
      "  warnings.warn(\n"
     ]
    },
    {
     "name": "stdout",
     "output_type": "stream",
     "text": [
      "https://exhibitors.gitex.com/gitex-global-2023/Exhibitor/ExbDetails/MjQ2Mw==\n"
     ]
    },
    {
     "name": "stderr",
     "output_type": "stream",
     "text": [
      "C:\\Users\\saira\\anaconda3\\Lib\\site-packages\\urllib3\\connectionpool.py:1056: InsecureRequestWarning: Unverified HTTPS request is being made to host 'exhibitors.gitex.com'. Adding certificate verification is strongly advised. See: https://urllib3.readthedocs.io/en/1.26.x/advanced-usage.html#ssl-warnings\n",
      "  warnings.warn(\n"
     ]
    },
    {
     "name": "stdout",
     "output_type": "stream",
     "text": [
      "https://exhibitors.gitex.com/gitex-global-2023/Exhibitor/ExbDetails/MzEyOA==\n"
     ]
    },
    {
     "name": "stderr",
     "output_type": "stream",
     "text": [
      "C:\\Users\\saira\\anaconda3\\Lib\\site-packages\\urllib3\\connectionpool.py:1056: InsecureRequestWarning: Unverified HTTPS request is being made to host 'exhibitors.gitex.com'. Adding certificate verification is strongly advised. See: https://urllib3.readthedocs.io/en/1.26.x/advanced-usage.html#ssl-warnings\n",
      "  warnings.warn(\n"
     ]
    },
    {
     "name": "stdout",
     "output_type": "stream",
     "text": [
      "https://exhibitors.gitex.com/gitex-global-2023/Exhibitor/ExbDetails/MTY4Mw==\n"
     ]
    },
    {
     "name": "stderr",
     "output_type": "stream",
     "text": [
      "C:\\Users\\saira\\anaconda3\\Lib\\site-packages\\urllib3\\connectionpool.py:1056: InsecureRequestWarning: Unverified HTTPS request is being made to host 'exhibitors.gitex.com'. Adding certificate verification is strongly advised. See: https://urllib3.readthedocs.io/en/1.26.x/advanced-usage.html#ssl-warnings\n",
      "  warnings.warn(\n"
     ]
    },
    {
     "name": "stdout",
     "output_type": "stream",
     "text": [
      "https://exhibitors.gitex.com/gitex-global-2023/Exhibitor/ExbDetails/MTUzOQ==\n"
     ]
    },
    {
     "name": "stderr",
     "output_type": "stream",
     "text": [
      "C:\\Users\\saira\\anaconda3\\Lib\\site-packages\\urllib3\\connectionpool.py:1056: InsecureRequestWarning: Unverified HTTPS request is being made to host 'exhibitors.gitex.com'. Adding certificate verification is strongly advised. See: https://urllib3.readthedocs.io/en/1.26.x/advanced-usage.html#ssl-warnings\n",
      "  warnings.warn(\n"
     ]
    },
    {
     "name": "stdout",
     "output_type": "stream",
     "text": [
      "https://exhibitors.gitex.com/gitex-global-2023/Exhibitor/ExbDetails/MTA2Mw==\n"
     ]
    },
    {
     "name": "stderr",
     "output_type": "stream",
     "text": [
      "C:\\Users\\saira\\anaconda3\\Lib\\site-packages\\urllib3\\connectionpool.py:1056: InsecureRequestWarning: Unverified HTTPS request is being made to host 'exhibitors.gitex.com'. Adding certificate verification is strongly advised. See: https://urllib3.readthedocs.io/en/1.26.x/advanced-usage.html#ssl-warnings\n",
      "  warnings.warn(\n"
     ]
    },
    {
     "name": "stdout",
     "output_type": "stream",
     "text": [
      "https://exhibitors.gitex.com/gitex-global-2023/Exhibitor/ExbDetails/NTE5\n"
     ]
    },
    {
     "name": "stderr",
     "output_type": "stream",
     "text": [
      "C:\\Users\\saira\\anaconda3\\Lib\\site-packages\\urllib3\\connectionpool.py:1056: InsecureRequestWarning: Unverified HTTPS request is being made to host 'exhibitors.gitex.com'. Adding certificate verification is strongly advised. See: https://urllib3.readthedocs.io/en/1.26.x/advanced-usage.html#ssl-warnings\n",
      "  warnings.warn(\n"
     ]
    },
    {
     "name": "stdout",
     "output_type": "stream",
     "text": [
      "https://exhibitors.gitex.com/gitex-global-2023/Exhibitor/ExbDetails/MTQ5Mg==\n"
     ]
    },
    {
     "name": "stderr",
     "output_type": "stream",
     "text": [
      "C:\\Users\\saira\\anaconda3\\Lib\\site-packages\\urllib3\\connectionpool.py:1056: InsecureRequestWarning: Unverified HTTPS request is being made to host 'exhibitors.gitex.com'. Adding certificate verification is strongly advised. See: https://urllib3.readthedocs.io/en/1.26.x/advanced-usage.html#ssl-warnings\n",
      "  warnings.warn(\n"
     ]
    },
    {
     "name": "stdout",
     "output_type": "stream",
     "text": [
      "https://exhibitors.gitex.com/gitex-global-2023/Exhibitor/ExbDetails/MTQ4OQ==\n"
     ]
    },
    {
     "name": "stderr",
     "output_type": "stream",
     "text": [
      "C:\\Users\\saira\\anaconda3\\Lib\\site-packages\\urllib3\\connectionpool.py:1056: InsecureRequestWarning: Unverified HTTPS request is being made to host 'exhibitors.gitex.com'. Adding certificate verification is strongly advised. See: https://urllib3.readthedocs.io/en/1.26.x/advanced-usage.html#ssl-warnings\n",
      "  warnings.warn(\n"
     ]
    },
    {
     "name": "stdout",
     "output_type": "stream",
     "text": [
      "https://exhibitors.gitex.com/gitex-global-2023/Exhibitor/ExbDetails/MjU2Nw==\n"
     ]
    },
    {
     "name": "stderr",
     "output_type": "stream",
     "text": [
      "C:\\Users\\saira\\anaconda3\\Lib\\site-packages\\urllib3\\connectionpool.py:1056: InsecureRequestWarning: Unverified HTTPS request is being made to host 'exhibitors.gitex.com'. Adding certificate verification is strongly advised. See: https://urllib3.readthedocs.io/en/1.26.x/advanced-usage.html#ssl-warnings\n",
      "  warnings.warn(\n"
     ]
    },
    {
     "name": "stdout",
     "output_type": "stream",
     "text": [
      "https://exhibitors.gitex.com/gitex-global-2023/Exhibitor/ExbDetails/MjgyMA==\n"
     ]
    },
    {
     "name": "stderr",
     "output_type": "stream",
     "text": [
      "C:\\Users\\saira\\anaconda3\\Lib\\site-packages\\urllib3\\connectionpool.py:1056: InsecureRequestWarning: Unverified HTTPS request is being made to host 'exhibitors.gitex.com'. Adding certificate verification is strongly advised. See: https://urllib3.readthedocs.io/en/1.26.x/advanced-usage.html#ssl-warnings\n",
      "  warnings.warn(\n"
     ]
    },
    {
     "name": "stdout",
     "output_type": "stream",
     "text": [
      "https://exhibitors.gitex.com/gitex-global-2023/Exhibitor/ExbDetails/MTQ2OQ==\n"
     ]
    },
    {
     "name": "stderr",
     "output_type": "stream",
     "text": [
      "C:\\Users\\saira\\anaconda3\\Lib\\site-packages\\urllib3\\connectionpool.py:1056: InsecureRequestWarning: Unverified HTTPS request is being made to host 'exhibitors.gitex.com'. Adding certificate verification is strongly advised. See: https://urllib3.readthedocs.io/en/1.26.x/advanced-usage.html#ssl-warnings\n",
      "  warnings.warn(\n"
     ]
    },
    {
     "name": "stdout",
     "output_type": "stream",
     "text": [
      "https://exhibitors.gitex.com/gitex-global-2023/Exhibitor/ExbDetails/MTQ5OA==\n"
     ]
    },
    {
     "name": "stderr",
     "output_type": "stream",
     "text": [
      "C:\\Users\\saira\\anaconda3\\Lib\\site-packages\\urllib3\\connectionpool.py:1056: InsecureRequestWarning: Unverified HTTPS request is being made to host 'exhibitors.gitex.com'. Adding certificate verification is strongly advised. See: https://urllib3.readthedocs.io/en/1.26.x/advanced-usage.html#ssl-warnings\n",
      "  warnings.warn(\n"
     ]
    },
    {
     "name": "stdout",
     "output_type": "stream",
     "text": [
      "https://exhibitors.gitex.com/gitex-global-2023/Exhibitor/ExbDetails/MTM1NQ==\n"
     ]
    },
    {
     "name": "stderr",
     "output_type": "stream",
     "text": [
      "C:\\Users\\saira\\anaconda3\\Lib\\site-packages\\urllib3\\connectionpool.py:1056: InsecureRequestWarning: Unverified HTTPS request is being made to host 'exhibitors.gitex.com'. Adding certificate verification is strongly advised. See: https://urllib3.readthedocs.io/en/1.26.x/advanced-usage.html#ssl-warnings\n",
      "  warnings.warn(\n"
     ]
    },
    {
     "name": "stdout",
     "output_type": "stream",
     "text": [
      "https://exhibitors.gitex.com/gitex-global-2023/Exhibitor/ExbDetails/MTQyNQ==\n"
     ]
    },
    {
     "name": "stderr",
     "output_type": "stream",
     "text": [
      "C:\\Users\\saira\\anaconda3\\Lib\\site-packages\\urllib3\\connectionpool.py:1056: InsecureRequestWarning: Unverified HTTPS request is being made to host 'exhibitors.gitex.com'. Adding certificate verification is strongly advised. See: https://urllib3.readthedocs.io/en/1.26.x/advanced-usage.html#ssl-warnings\n",
      "  warnings.warn(\n"
     ]
    },
    {
     "name": "stdout",
     "output_type": "stream",
     "text": [
      "https://exhibitors.gitex.com/gitex-global-2023/Exhibitor/ExbDetails/NzE4\n"
     ]
    },
    {
     "name": "stderr",
     "output_type": "stream",
     "text": [
      "C:\\Users\\saira\\anaconda3\\Lib\\site-packages\\urllib3\\connectionpool.py:1056: InsecureRequestWarning: Unverified HTTPS request is being made to host 'exhibitors.gitex.com'. Adding certificate verification is strongly advised. See: https://urllib3.readthedocs.io/en/1.26.x/advanced-usage.html#ssl-warnings\n",
      "  warnings.warn(\n"
     ]
    },
    {
     "name": "stdout",
     "output_type": "stream",
     "text": [
      "https://exhibitors.gitex.com/gitex-global-2023/Exhibitor/ExbDetails/Njkx\n"
     ]
    },
    {
     "name": "stderr",
     "output_type": "stream",
     "text": [
      "C:\\Users\\saira\\anaconda3\\Lib\\site-packages\\urllib3\\connectionpool.py:1056: InsecureRequestWarning: Unverified HTTPS request is being made to host 'exhibitors.gitex.com'. Adding certificate verification is strongly advised. See: https://urllib3.readthedocs.io/en/1.26.x/advanced-usage.html#ssl-warnings\n",
      "  warnings.warn(\n"
     ]
    },
    {
     "name": "stdout",
     "output_type": "stream",
     "text": [
      "https://exhibitors.gitex.com/gitex-global-2023/Exhibitor/ExbDetails/MTAzMQ==\n"
     ]
    },
    {
     "name": "stderr",
     "output_type": "stream",
     "text": [
      "C:\\Users\\saira\\anaconda3\\Lib\\site-packages\\urllib3\\connectionpool.py:1056: InsecureRequestWarning: Unverified HTTPS request is being made to host 'exhibitors.gitex.com'. Adding certificate verification is strongly advised. See: https://urllib3.readthedocs.io/en/1.26.x/advanced-usage.html#ssl-warnings\n",
      "  warnings.warn(\n"
     ]
    },
    {
     "name": "stdout",
     "output_type": "stream",
     "text": [
      "https://exhibitors.gitex.com/gitex-global-2023/Exhibitor/ExbDetails/MTM3OA==\n"
     ]
    },
    {
     "name": "stderr",
     "output_type": "stream",
     "text": [
      "C:\\Users\\saira\\anaconda3\\Lib\\site-packages\\urllib3\\connectionpool.py:1056: InsecureRequestWarning: Unverified HTTPS request is being made to host 'exhibitors.gitex.com'. Adding certificate verification is strongly advised. See: https://urllib3.readthedocs.io/en/1.26.x/advanced-usage.html#ssl-warnings\n",
      "  warnings.warn(\n"
     ]
    },
    {
     "name": "stdout",
     "output_type": "stream",
     "text": [
      "https://exhibitors.gitex.com/gitex-global-2023/Exhibitor/ExbDetails/MTQ3OQ==\n"
     ]
    },
    {
     "name": "stderr",
     "output_type": "stream",
     "text": [
      "C:\\Users\\saira\\anaconda3\\Lib\\site-packages\\urllib3\\connectionpool.py:1056: InsecureRequestWarning: Unverified HTTPS request is being made to host 'exhibitors.gitex.com'. Adding certificate verification is strongly advised. See: https://urllib3.readthedocs.io/en/1.26.x/advanced-usage.html#ssl-warnings\n",
      "  warnings.warn(\n"
     ]
    },
    {
     "name": "stdout",
     "output_type": "stream",
     "text": [
      "https://exhibitors.gitex.com/gitex-global-2023/Exhibitor/ExbDetails/OTgz\n"
     ]
    },
    {
     "name": "stderr",
     "output_type": "stream",
     "text": [
      "C:\\Users\\saira\\anaconda3\\Lib\\site-packages\\urllib3\\connectionpool.py:1056: InsecureRequestWarning: Unverified HTTPS request is being made to host 'exhibitors.gitex.com'. Adding certificate verification is strongly advised. See: https://urllib3.readthedocs.io/en/1.26.x/advanced-usage.html#ssl-warnings\n",
      "  warnings.warn(\n"
     ]
    },
    {
     "name": "stdout",
     "output_type": "stream",
     "text": [
      "https://exhibitors.gitex.com/gitex-global-2023/Exhibitor/ExbDetails/MTYzMA==\n"
     ]
    },
    {
     "name": "stderr",
     "output_type": "stream",
     "text": [
      "C:\\Users\\saira\\anaconda3\\Lib\\site-packages\\urllib3\\connectionpool.py:1056: InsecureRequestWarning: Unverified HTTPS request is being made to host 'exhibitors.gitex.com'. Adding certificate verification is strongly advised. See: https://urllib3.readthedocs.io/en/1.26.x/advanced-usage.html#ssl-warnings\n",
      "  warnings.warn(\n"
     ]
    },
    {
     "name": "stdout",
     "output_type": "stream",
     "text": [
      "https://exhibitors.gitex.com/gitex-global-2023/Exhibitor/ExbDetails/MTM2MA==\n"
     ]
    },
    {
     "name": "stderr",
     "output_type": "stream",
     "text": [
      "C:\\Users\\saira\\anaconda3\\Lib\\site-packages\\urllib3\\connectionpool.py:1056: InsecureRequestWarning: Unverified HTTPS request is being made to host 'exhibitors.gitex.com'. Adding certificate verification is strongly advised. See: https://urllib3.readthedocs.io/en/1.26.x/advanced-usage.html#ssl-warnings\n",
      "  warnings.warn(\n"
     ]
    },
    {
     "name": "stdout",
     "output_type": "stream",
     "text": [
      "https://exhibitors.gitex.com/gitex-global-2023/Exhibitor/ExbDetails/MTEzNQ==\n"
     ]
    },
    {
     "name": "stderr",
     "output_type": "stream",
     "text": [
      "C:\\Users\\saira\\anaconda3\\Lib\\site-packages\\urllib3\\connectionpool.py:1056: InsecureRequestWarning: Unverified HTTPS request is being made to host 'exhibitors.gitex.com'. Adding certificate verification is strongly advised. See: https://urllib3.readthedocs.io/en/1.26.x/advanced-usage.html#ssl-warnings\n",
      "  warnings.warn(\n"
     ]
    },
    {
     "name": "stdout",
     "output_type": "stream",
     "text": [
      "https://exhibitors.gitex.com/gitex-global-2023/Exhibitor/ExbDetails/Mjk3OQ==\n"
     ]
    },
    {
     "name": "stderr",
     "output_type": "stream",
     "text": [
      "C:\\Users\\saira\\anaconda3\\Lib\\site-packages\\urllib3\\connectionpool.py:1056: InsecureRequestWarning: Unverified HTTPS request is being made to host 'exhibitors.gitex.com'. Adding certificate verification is strongly advised. See: https://urllib3.readthedocs.io/en/1.26.x/advanced-usage.html#ssl-warnings\n",
      "  warnings.warn(\n"
     ]
    },
    {
     "name": "stdout",
     "output_type": "stream",
     "text": [
      "https://exhibitors.gitex.com/gitex-global-2023/Exhibitor/ExbDetails/MTAxMw==\n"
     ]
    },
    {
     "name": "stderr",
     "output_type": "stream",
     "text": [
      "C:\\Users\\saira\\anaconda3\\Lib\\site-packages\\urllib3\\connectionpool.py:1056: InsecureRequestWarning: Unverified HTTPS request is being made to host 'exhibitors.gitex.com'. Adding certificate verification is strongly advised. See: https://urllib3.readthedocs.io/en/1.26.x/advanced-usage.html#ssl-warnings\n",
      "  warnings.warn(\n"
     ]
    },
    {
     "name": "stdout",
     "output_type": "stream",
     "text": [
      "https://exhibitors.gitex.com/gitex-global-2023/Exhibitor/ExbDetails/NjQw\n"
     ]
    },
    {
     "name": "stderr",
     "output_type": "stream",
     "text": [
      "C:\\Users\\saira\\anaconda3\\Lib\\site-packages\\urllib3\\connectionpool.py:1056: InsecureRequestWarning: Unverified HTTPS request is being made to host 'exhibitors.gitex.com'. Adding certificate verification is strongly advised. See: https://urllib3.readthedocs.io/en/1.26.x/advanced-usage.html#ssl-warnings\n",
      "  warnings.warn(\n"
     ]
    },
    {
     "name": "stdout",
     "output_type": "stream",
     "text": [
      "https://exhibitors.gitex.com/gitex-global-2023/Exhibitor/ExbDetails/MTAzNg==\n"
     ]
    },
    {
     "name": "stderr",
     "output_type": "stream",
     "text": [
      "C:\\Users\\saira\\anaconda3\\Lib\\site-packages\\urllib3\\connectionpool.py:1056: InsecureRequestWarning: Unverified HTTPS request is being made to host 'exhibitors.gitex.com'. Adding certificate verification is strongly advised. See: https://urllib3.readthedocs.io/en/1.26.x/advanced-usage.html#ssl-warnings\n",
      "  warnings.warn(\n"
     ]
    },
    {
     "name": "stdout",
     "output_type": "stream",
     "text": [
      "https://exhibitors.gitex.com/gitex-global-2023/Exhibitor/ExbDetails/NDgw\n"
     ]
    },
    {
     "name": "stderr",
     "output_type": "stream",
     "text": [
      "C:\\Users\\saira\\anaconda3\\Lib\\site-packages\\urllib3\\connectionpool.py:1056: InsecureRequestWarning: Unverified HTTPS request is being made to host 'exhibitors.gitex.com'. Adding certificate verification is strongly advised. See: https://urllib3.readthedocs.io/en/1.26.x/advanced-usage.html#ssl-warnings\n",
      "  warnings.warn(\n"
     ]
    },
    {
     "name": "stdout",
     "output_type": "stream",
     "text": [
      "https://exhibitors.gitex.com/gitex-global-2023/Exhibitor/ExbDetails/MTcwMQ==\n"
     ]
    },
    {
     "name": "stderr",
     "output_type": "stream",
     "text": [
      "C:\\Users\\saira\\anaconda3\\Lib\\site-packages\\urllib3\\connectionpool.py:1056: InsecureRequestWarning: Unverified HTTPS request is being made to host 'exhibitors.gitex.com'. Adding certificate verification is strongly advised. See: https://urllib3.readthedocs.io/en/1.26.x/advanced-usage.html#ssl-warnings\n",
      "  warnings.warn(\n"
     ]
    },
    {
     "name": "stdout",
     "output_type": "stream",
     "text": [
      "https://exhibitors.gitex.com/gitex-global-2023/Exhibitor/ExbDetails/NDcy\n"
     ]
    },
    {
     "name": "stderr",
     "output_type": "stream",
     "text": [
      "C:\\Users\\saira\\anaconda3\\Lib\\site-packages\\urllib3\\connectionpool.py:1056: InsecureRequestWarning: Unverified HTTPS request is being made to host 'exhibitors.gitex.com'. Adding certificate verification is strongly advised. See: https://urllib3.readthedocs.io/en/1.26.x/advanced-usage.html#ssl-warnings\n",
      "  warnings.warn(\n"
     ]
    },
    {
     "name": "stdout",
     "output_type": "stream",
     "text": [
      "https://exhibitors.gitex.com/gitex-global-2023/Exhibitor/ExbDetails/OTcz\n"
     ]
    },
    {
     "name": "stderr",
     "output_type": "stream",
     "text": [
      "C:\\Users\\saira\\anaconda3\\Lib\\site-packages\\urllib3\\connectionpool.py:1056: InsecureRequestWarning: Unverified HTTPS request is being made to host 'exhibitors.gitex.com'. Adding certificate verification is strongly advised. See: https://urllib3.readthedocs.io/en/1.26.x/advanced-usage.html#ssl-warnings\n",
      "  warnings.warn(\n"
     ]
    },
    {
     "name": "stdout",
     "output_type": "stream",
     "text": [
      "https://exhibitors.gitex.com/gitex-global-2023/Exhibitor/ExbDetails/MTQzMQ==\n"
     ]
    },
    {
     "name": "stderr",
     "output_type": "stream",
     "text": [
      "C:\\Users\\saira\\anaconda3\\Lib\\site-packages\\urllib3\\connectionpool.py:1056: InsecureRequestWarning: Unverified HTTPS request is being made to host 'exhibitors.gitex.com'. Adding certificate verification is strongly advised. See: https://urllib3.readthedocs.io/en/1.26.x/advanced-usage.html#ssl-warnings\n",
      "  warnings.warn(\n"
     ]
    },
    {
     "name": "stdout",
     "output_type": "stream",
     "text": [
      "https://exhibitors.gitex.com/gitex-global-2023/Exhibitor/ExbDetails/MTQyNg==\n"
     ]
    },
    {
     "name": "stderr",
     "output_type": "stream",
     "text": [
      "C:\\Users\\saira\\anaconda3\\Lib\\site-packages\\urllib3\\connectionpool.py:1056: InsecureRequestWarning: Unverified HTTPS request is being made to host 'exhibitors.gitex.com'. Adding certificate verification is strongly advised. See: https://urllib3.readthedocs.io/en/1.26.x/advanced-usage.html#ssl-warnings\n",
      "  warnings.warn(\n"
     ]
    },
    {
     "name": "stdout",
     "output_type": "stream",
     "text": [
      "https://exhibitors.gitex.com/gitex-global-2023/Exhibitor/ExbDetails/MTQyMQ==\n"
     ]
    },
    {
     "name": "stderr",
     "output_type": "stream",
     "text": [
      "C:\\Users\\saira\\anaconda3\\Lib\\site-packages\\urllib3\\connectionpool.py:1056: InsecureRequestWarning: Unverified HTTPS request is being made to host 'exhibitors.gitex.com'. Adding certificate verification is strongly advised. See: https://urllib3.readthedocs.io/en/1.26.x/advanced-usage.html#ssl-warnings\n",
      "  warnings.warn(\n"
     ]
    },
    {
     "name": "stdout",
     "output_type": "stream",
     "text": [
      "https://exhibitors.gitex.com/gitex-global-2023/Exhibitor/ExbDetails/MTQzNQ==\n"
     ]
    },
    {
     "name": "stderr",
     "output_type": "stream",
     "text": [
      "C:\\Users\\saira\\anaconda3\\Lib\\site-packages\\urllib3\\connectionpool.py:1056: InsecureRequestWarning: Unverified HTTPS request is being made to host 'exhibitors.gitex.com'. Adding certificate verification is strongly advised. See: https://urllib3.readthedocs.io/en/1.26.x/advanced-usage.html#ssl-warnings\n",
      "  warnings.warn(\n"
     ]
    },
    {
     "name": "stdout",
     "output_type": "stream",
     "text": [
      "https://exhibitors.gitex.com/gitex-global-2023/Exhibitor/ExbDetails/MTM5NA==\n"
     ]
    },
    {
     "name": "stderr",
     "output_type": "stream",
     "text": [
      "C:\\Users\\saira\\anaconda3\\Lib\\site-packages\\urllib3\\connectionpool.py:1056: InsecureRequestWarning: Unverified HTTPS request is being made to host 'exhibitors.gitex.com'. Adding certificate verification is strongly advised. See: https://urllib3.readthedocs.io/en/1.26.x/advanced-usage.html#ssl-warnings\n",
      "  warnings.warn(\n"
     ]
    },
    {
     "name": "stdout",
     "output_type": "stream",
     "text": [
      "https://exhibitors.gitex.com/gitex-global-2023/Exhibitor/ExbDetails/MTQxOQ==\n"
     ]
    },
    {
     "name": "stderr",
     "output_type": "stream",
     "text": [
      "C:\\Users\\saira\\anaconda3\\Lib\\site-packages\\urllib3\\connectionpool.py:1056: InsecureRequestWarning: Unverified HTTPS request is being made to host 'exhibitors.gitex.com'. Adding certificate verification is strongly advised. See: https://urllib3.readthedocs.io/en/1.26.x/advanced-usage.html#ssl-warnings\n",
      "  warnings.warn(\n"
     ]
    },
    {
     "name": "stdout",
     "output_type": "stream",
     "text": [
      "https://exhibitors.gitex.com/gitex-global-2023/Exhibitor/ExbDetails/Njc2\n"
     ]
    },
    {
     "name": "stderr",
     "output_type": "stream",
     "text": [
      "C:\\Users\\saira\\anaconda3\\Lib\\site-packages\\urllib3\\connectionpool.py:1056: InsecureRequestWarning: Unverified HTTPS request is being made to host 'exhibitors.gitex.com'. Adding certificate verification is strongly advised. See: https://urllib3.readthedocs.io/en/1.26.x/advanced-usage.html#ssl-warnings\n",
      "  warnings.warn(\n"
     ]
    },
    {
     "name": "stdout",
     "output_type": "stream",
     "text": [
      "https://exhibitors.gitex.com/gitex-global-2023/Exhibitor/ExbDetails/NjU3\n"
     ]
    },
    {
     "name": "stderr",
     "output_type": "stream",
     "text": [
      "C:\\Users\\saira\\anaconda3\\Lib\\site-packages\\urllib3\\connectionpool.py:1056: InsecureRequestWarning: Unverified HTTPS request is being made to host 'exhibitors.gitex.com'. Adding certificate verification is strongly advised. See: https://urllib3.readthedocs.io/en/1.26.x/advanced-usage.html#ssl-warnings\n",
      "  warnings.warn(\n"
     ]
    },
    {
     "name": "stdout",
     "output_type": "stream",
     "text": [
      "https://exhibitors.gitex.com/gitex-global-2023/Exhibitor/ExbDetails/Njc5\n"
     ]
    },
    {
     "name": "stderr",
     "output_type": "stream",
     "text": [
      "C:\\Users\\saira\\anaconda3\\Lib\\site-packages\\urllib3\\connectionpool.py:1056: InsecureRequestWarning: Unverified HTTPS request is being made to host 'exhibitors.gitex.com'. Adding certificate verification is strongly advised. See: https://urllib3.readthedocs.io/en/1.26.x/advanced-usage.html#ssl-warnings\n",
      "  warnings.warn(\n"
     ]
    },
    {
     "name": "stdout",
     "output_type": "stream",
     "text": [
      "https://exhibitors.gitex.com/gitex-global-2023/Exhibitor/ExbDetails/Njky\n"
     ]
    },
    {
     "name": "stderr",
     "output_type": "stream",
     "text": [
      "C:\\Users\\saira\\anaconda3\\Lib\\site-packages\\urllib3\\connectionpool.py:1056: InsecureRequestWarning: Unverified HTTPS request is being made to host 'exhibitors.gitex.com'. Adding certificate verification is strongly advised. See: https://urllib3.readthedocs.io/en/1.26.x/advanced-usage.html#ssl-warnings\n",
      "  warnings.warn(\n"
     ]
    },
    {
     "name": "stdout",
     "output_type": "stream",
     "text": [
      "https://exhibitors.gitex.com/gitex-global-2023/Exhibitor/ExbDetails/MTcwMA==\n"
     ]
    },
    {
     "name": "stderr",
     "output_type": "stream",
     "text": [
      "C:\\Users\\saira\\anaconda3\\Lib\\site-packages\\urllib3\\connectionpool.py:1056: InsecureRequestWarning: Unverified HTTPS request is being made to host 'exhibitors.gitex.com'. Adding certificate verification is strongly advised. See: https://urllib3.readthedocs.io/en/1.26.x/advanced-usage.html#ssl-warnings\n",
      "  warnings.warn(\n"
     ]
    },
    {
     "name": "stdout",
     "output_type": "stream",
     "text": [
      "https://exhibitors.gitex.com/gitex-global-2023/Exhibitor/ExbDetails/NTEx\n"
     ]
    },
    {
     "name": "stderr",
     "output_type": "stream",
     "text": [
      "C:\\Users\\saira\\anaconda3\\Lib\\site-packages\\urllib3\\connectionpool.py:1056: InsecureRequestWarning: Unverified HTTPS request is being made to host 'exhibitors.gitex.com'. Adding certificate verification is strongly advised. See: https://urllib3.readthedocs.io/en/1.26.x/advanced-usage.html#ssl-warnings\n",
      "  warnings.warn(\n"
     ]
    },
    {
     "name": "stdout",
     "output_type": "stream",
     "text": [
      "https://exhibitors.gitex.com/gitex-global-2023/Exhibitor/ExbDetails/NDUy\n"
     ]
    },
    {
     "name": "stderr",
     "output_type": "stream",
     "text": [
      "C:\\Users\\saira\\anaconda3\\Lib\\site-packages\\urllib3\\connectionpool.py:1056: InsecureRequestWarning: Unverified HTTPS request is being made to host 'exhibitors.gitex.com'. Adding certificate verification is strongly advised. See: https://urllib3.readthedocs.io/en/1.26.x/advanced-usage.html#ssl-warnings\n",
      "  warnings.warn(\n"
     ]
    },
    {
     "name": "stdout",
     "output_type": "stream",
     "text": [
      "https://exhibitors.gitex.com/gitex-global-2023/Exhibitor/ExbDetails/Njgz\n"
     ]
    },
    {
     "name": "stderr",
     "output_type": "stream",
     "text": [
      "C:\\Users\\saira\\anaconda3\\Lib\\site-packages\\urllib3\\connectionpool.py:1056: InsecureRequestWarning: Unverified HTTPS request is being made to host 'exhibitors.gitex.com'. Adding certificate verification is strongly advised. See: https://urllib3.readthedocs.io/en/1.26.x/advanced-usage.html#ssl-warnings\n",
      "  warnings.warn(\n"
     ]
    },
    {
     "name": "stdout",
     "output_type": "stream",
     "text": [
      "https://exhibitors.gitex.com/gitex-global-2023/Exhibitor/ExbDetails/NDk0\n"
     ]
    },
    {
     "name": "stderr",
     "output_type": "stream",
     "text": [
      "C:\\Users\\saira\\anaconda3\\Lib\\site-packages\\urllib3\\connectionpool.py:1056: InsecureRequestWarning: Unverified HTTPS request is being made to host 'exhibitors.gitex.com'. Adding certificate verification is strongly advised. See: https://urllib3.readthedocs.io/en/1.26.x/advanced-usage.html#ssl-warnings\n",
      "  warnings.warn(\n"
     ]
    },
    {
     "name": "stdout",
     "output_type": "stream",
     "text": [
      "https://exhibitors.gitex.com/gitex-global-2023/Exhibitor/ExbDetails/MjIzOA==\n"
     ]
    },
    {
     "name": "stderr",
     "output_type": "stream",
     "text": [
      "C:\\Users\\saira\\anaconda3\\Lib\\site-packages\\urllib3\\connectionpool.py:1056: InsecureRequestWarning: Unverified HTTPS request is being made to host 'exhibitors.gitex.com'. Adding certificate verification is strongly advised. See: https://urllib3.readthedocs.io/en/1.26.x/advanced-usage.html#ssl-warnings\n",
      "  warnings.warn(\n"
     ]
    },
    {
     "name": "stdout",
     "output_type": "stream",
     "text": [
      "https://exhibitors.gitex.com/gitex-global-2023/Exhibitor/ExbDetails/MTEwOA==\n"
     ]
    },
    {
     "name": "stderr",
     "output_type": "stream",
     "text": [
      "C:\\Users\\saira\\anaconda3\\Lib\\site-packages\\urllib3\\connectionpool.py:1056: InsecureRequestWarning: Unverified HTTPS request is being made to host 'exhibitors.gitex.com'. Adding certificate verification is strongly advised. See: https://urllib3.readthedocs.io/en/1.26.x/advanced-usage.html#ssl-warnings\n",
      "  warnings.warn(\n"
     ]
    },
    {
     "name": "stdout",
     "output_type": "stream",
     "text": [
      "https://exhibitors.gitex.com/gitex-global-2023/Exhibitor/ExbDetails/MTUzNw==\n"
     ]
    },
    {
     "name": "stderr",
     "output_type": "stream",
     "text": [
      "C:\\Users\\saira\\anaconda3\\Lib\\site-packages\\urllib3\\connectionpool.py:1056: InsecureRequestWarning: Unverified HTTPS request is being made to host 'exhibitors.gitex.com'. Adding certificate verification is strongly advised. See: https://urllib3.readthedocs.io/en/1.26.x/advanced-usage.html#ssl-warnings\n",
      "  warnings.warn(\n"
     ]
    },
    {
     "name": "stdout",
     "output_type": "stream",
     "text": [
      "https://exhibitors.gitex.com/gitex-global-2023/Exhibitor/ExbDetails/MjU3NA==\n"
     ]
    },
    {
     "name": "stderr",
     "output_type": "stream",
     "text": [
      "C:\\Users\\saira\\anaconda3\\Lib\\site-packages\\urllib3\\connectionpool.py:1056: InsecureRequestWarning: Unverified HTTPS request is being made to host 'exhibitors.gitex.com'. Adding certificate verification is strongly advised. See: https://urllib3.readthedocs.io/en/1.26.x/advanced-usage.html#ssl-warnings\n",
      "  warnings.warn(\n"
     ]
    },
    {
     "name": "stdout",
     "output_type": "stream",
     "text": [
      "https://exhibitors.gitex.com/gitex-global-2023/Exhibitor/ExbDetails/NjI0\n"
     ]
    },
    {
     "name": "stderr",
     "output_type": "stream",
     "text": [
      "C:\\Users\\saira\\anaconda3\\Lib\\site-packages\\urllib3\\connectionpool.py:1056: InsecureRequestWarning: Unverified HTTPS request is being made to host 'exhibitors.gitex.com'. Adding certificate verification is strongly advised. See: https://urllib3.readthedocs.io/en/1.26.x/advanced-usage.html#ssl-warnings\n",
      "  warnings.warn(\n"
     ]
    },
    {
     "name": "stdout",
     "output_type": "stream",
     "text": [
      "https://exhibitors.gitex.com/gitex-global-2023/Exhibitor/ExbDetails/MjQ4OQ==\n"
     ]
    },
    {
     "name": "stderr",
     "output_type": "stream",
     "text": [
      "C:\\Users\\saira\\anaconda3\\Lib\\site-packages\\urllib3\\connectionpool.py:1056: InsecureRequestWarning: Unverified HTTPS request is being made to host 'exhibitors.gitex.com'. Adding certificate verification is strongly advised. See: https://urllib3.readthedocs.io/en/1.26.x/advanced-usage.html#ssl-warnings\n",
      "  warnings.warn(\n"
     ]
    },
    {
     "name": "stdout",
     "output_type": "stream",
     "text": [
      "https://exhibitors.gitex.com/gitex-global-2023/Exhibitor/ExbDetails/MjQ5MA==\n"
     ]
    },
    {
     "name": "stderr",
     "output_type": "stream",
     "text": [
      "C:\\Users\\saira\\anaconda3\\Lib\\site-packages\\urllib3\\connectionpool.py:1056: InsecureRequestWarning: Unverified HTTPS request is being made to host 'exhibitors.gitex.com'. Adding certificate verification is strongly advised. See: https://urllib3.readthedocs.io/en/1.26.x/advanced-usage.html#ssl-warnings\n",
      "  warnings.warn(\n"
     ]
    },
    {
     "ename": "AttributeError",
     "evalue": "'NoneType' object has no attribute 'find'",
     "output_type": "error",
     "traceback": [
      "\u001b[1;31m---------------------------------------------------------------------------\u001b[0m",
      "\u001b[1;31mAttributeError\u001b[0m                            Traceback (most recent call last)",
      "Cell \u001b[1;32mIn[177], line 28\u001b[0m\n\u001b[0;32m     25\u001b[0m gitex_company_name \u001b[38;5;241m=\u001b[39m heading\u001b[38;5;241m.\u001b[39mtext\u001b[38;5;241m.\u001b[39mstrip() \u001b[38;5;28;01mif\u001b[39;00m heading \u001b[38;5;28;01melse\u001b[39;00m \u001b[38;5;124m\"\u001b[39m\u001b[38;5;124mHeading not found\u001b[39m\u001b[38;5;124m\"\u001b[39m\n\u001b[0;32m     27\u001b[0m li_element \u001b[38;5;241m=\u001b[39m res1\u001b[38;5;241m.\u001b[39mfind(\u001b[38;5;124m'\u001b[39m\u001b[38;5;124mli\u001b[39m\u001b[38;5;124m'\u001b[39m, class_\u001b[38;5;241m=\u001b[39m\u001b[38;5;124m'\u001b[39m\u001b[38;5;124msocial_website\u001b[39m\u001b[38;5;124m'\u001b[39m)\n\u001b[1;32m---> 28\u001b[0m a_element \u001b[38;5;241m=\u001b[39m li_element\u001b[38;5;241m.\u001b[39mfind(\u001b[38;5;124m'\u001b[39m\u001b[38;5;124ma\u001b[39m\u001b[38;5;124m'\u001b[39m)\n\u001b[0;32m     29\u001b[0m href_value \u001b[38;5;241m=\u001b[39m a_element[\u001b[38;5;124m'\u001b[39m\u001b[38;5;124mhref\u001b[39m\u001b[38;5;124m'\u001b[39m] \u001b[38;5;28;01mif\u001b[39;00m a_element \u001b[38;5;28;01melse\u001b[39;00m \u001b[38;5;124m\"\u001b[39m\u001b[38;5;124mHref not found\u001b[39m\u001b[38;5;124m\"\u001b[39m\n\u001b[0;32m     30\u001b[0m gitex_website \u001b[38;5;241m=\u001b[39m href_value\n",
      "\u001b[1;31mAttributeError\u001b[0m: 'NoneType' object has no attribute 'find'"
     ]
    }
   ],
   "source": [
    "import csv\n",
    "import requests\n",
    "from bs4 import BeautifulSoup\n",
    "\n",
    "\n",
    "csv_file_path = 'output.csv'\n",
    "\n",
    "\n",
    "data_list = []\n",
    "\n",
    "with open('C:/Users/saira/Downloads/pivbrjeG.csv', mode='r') as file:\n",
    "    csv_reader = csv.reader(file)\n",
    "    data = [row for row in csv_reader]\n",
    "    for rec in data:\n",
    "        if rec[0] == \"url\":\n",
    "            continue\n",
    "        print(rec[0])\n",
    "        r = requests.get(rec[0], verify=False)\n",
    "        soup = BeautifulSoup(r.content, 'html.parser')\n",
    "        res1 = soup.find('div', {\"class\": \"company_description\"})\n",
    "        \n",
    "       \n",
    "        if res1:\n",
    "            heading = res1.find('h4', {\"class\": \"list-group-item-heading\"})\n",
    "            gitex_company_name = heading.text.strip() if heading else \"Heading not found\"\n",
    "            \n",
    "            li_element = res1.find('li', class_='social_website')\n",
    "            a_element = li_element.find('a')\n",
    "            href_value = a_element['href'] if a_element else \"Href not found\"\n",
    "            gitex_website = href_value\n",
    "\n",
    "            span_element = res1.find('span')\n",
    "            gitex_location = span_element.text if span_element else \"No <span> element found\"\n",
    "\n",
    "            ul_element = res1.find('ul', class_='sector_block')\n",
    "            gitex_sector = \"\"\n",
    "            if ul_element:\n",
    "                li_elements = ul_element.find_all('li')\n",
    "                for li_element in li_elements:\n",
    "                    li_text = li_element.text + ','\n",
    "                    gitex_sector += li_text\n",
    "            else:\n",
    "                gitex_sector = \"\"\n",
    "        else:\n",
    "            gitex_company_name = \"\"\n",
    "            gitex_website = \"\"\n",
    "            gitex_location = \"\"\n",
    "            gitex_sector = \"\"\n",
    "        \n",
    "        \n",
    "        data_list.append({\n",
    "            'gitex_company_name': gitex_company_name,\n",
    "            'gitex_website': gitex_website,\n",
    "            'gitex_location': gitex_location,\n",
    "            'gitex_sector': gitex_sector,\n",
    "        })\n",
    "        \n",
    "\n",
    "\n"
   ]
  },
  {
   "cell_type": "code",
   "execution_count": 178,
   "id": "938a3331",
   "metadata": {},
   "outputs": [
    {
     "name": "stdout",
     "output_type": "stream",
     "text": [
      "[{'gitex_company_name': '057156716562', 'gitex_website': 'https://www.unitree.com/en/', 'gitex_location': 'China', 'gitex_sector': 'Artificial Intelligence,'}, {'gitex_company_name': '13059866584', 'gitex_website': 'http://www.orbic.us', 'gitex_location': 'United States of America', 'gitex_sector': 'Mobile Accessories & Peripherals,5G & Telecommunications,Cloud Services,'}, {'gitex_company_name': '1oT', 'gitex_website': 'https://1ot.com/', 'gitex_location': 'Estonia', 'gitex_sector': 'Internet of Things (IOT),'}, {'gitex_company_name': '3IXAM', 'gitex_website': 'https://3ixam.com', 'gitex_location': 'United Arab Emirates', 'gitex_sector': '3D Printing & Printing Services,Coding and Development,Education Tech,Gaming,Media, Marketing & Advertising Tech,'}, {'gitex_company_name': '3onedata Co., Ltd.', 'gitex_website': 'https://www.3onedata.com/', 'gitex_location': 'China', 'gitex_sector': 'Networking & Infrastructure,Smart Cities,5G & Telecommunications,Energy Tech,Internet of Things (IOT),'}, {'gitex_company_name': 'Aark Technology FZCO', 'gitex_website': 'http://aarkgroup.co', 'gitex_location': 'United Arab Emirates', 'gitex_sector': 'Mobile Accessories & Peripherals,Unmanned Aerial Vehicles (Drones),Gaming,Media, Marketing & Advertising Tech,'}, {'gitex_company_name': 'Aayan Trading FZE', 'gitex_website': 'https://aayantradingfze.com/', 'gitex_location': 'United Arab Emirates', 'gitex_sector': 'Mobile Accessories & Peripherals,'}, {'gitex_company_name': 'Abacus Consulting Technology Ltd.', 'gitex_website': 'https://abacus-global.com/', 'gitex_location': 'Pakistan', 'gitex_sector': 'Software Services,Artificial Intelligence,Big Data & Analytics,Cloud Services,Fintech,'}, {'gitex_company_name': 'ABBYY', 'gitex_website': 'https://www.abbyy.com/', 'gitex_location': 'United Arab Emirates', 'gitex_sector': 'Retail Tech,Artificial Intelligence,Big Data & Analytics,Coding and Development,Fintech,'}, {'gitex_company_name': 'ABSYZ SOFTWARE CONSULTING DMCC', 'gitex_website': 'https://absyz.com/', 'gitex_location': 'India', 'gitex_sector': 'Retail Tech,Software Services,Sustainability & Green Tech,Artificial Intelligence,Cloud Services,'}, {'gitex_company_name': 'Abu Dhabi Government', 'gitex_website': 'https://www.adda.gov.ae/', 'gitex_location': 'United Arab Emirates', 'gitex_sector': 'Smart Cities,'}, {'gitex_company_name': 'ACAPELA GROUP S.A.', 'gitex_website': 'http://www.acapela-group.com', 'gitex_location': 'Belgium', 'gitex_sector': 'Retail Tech,Smart Cities,Artificial Intelligence,Future Mobility & Transportation,Media, Marketing & Advertising Tech,'}, {'gitex_company_name': 'Accedian Networks Inc.', 'gitex_website': 'https://accedian.com/', 'gitex_location': 'Canada', 'gitex_sector': 'Networking & Infrastructure,Software Services,5G & Telecommunications,Cyber security,Internet of Things (IOT),'}, {'gitex_company_name': 'Accent Gulf Computers LLC', 'gitex_website': 'https://accent.ae/', 'gitex_location': 'United Arab Emirates', 'gitex_sector': 'Networking & Infrastructure,Consumer Tech, Smart Home & Smart Workplace,Data Centres,'}, {'gitex_company_name': 'Acentrik', 'gitex_website': 'https://acentrik.io', 'gitex_location': 'Singapore', 'gitex_sector': 'PropTech,Smart Cities,Big Data & Analytics,Blockchain,HealthTech,'}, {'gitex_company_name': 'Acer Sales International SA', 'gitex_website': 'https://www.acer.ae', 'gitex_location': 'United Arab Emirates', 'gitex_sector': 'Sustainability & Green Tech,Consumer Tech, Smart Home & Smart Workplace,Education Tech,Future Mobility & Transportation,Gaming,'}, {'gitex_company_name': 'Achiever Computers LTD', 'gitex_website': 'https://www.acl.ae', 'gitex_location': 'United Arab Emirates', 'gitex_sector': 'Consumer Tech, Smart Home & Smart Workplace,Ecommerce,Gaming,HealthTech,Metaverse, Immersive Tech,'}, {'gitex_company_name': 'Acmetel', 'gitex_website': 'http://acmetel.com', 'gitex_location': 'Pakistan', 'gitex_sector': 'Networking & Infrastructure,5G & Telecommunications,Cyber security,Data Centres,Fintech,'}, {'gitex_company_name': 'Acronis', 'gitex_website': 'https://www.acronis.com', 'gitex_location': 'Turkmenistan', 'gitex_sector': ''}, {'gitex_company_name': 'ADAPTIVE RECOGNITION', 'gitex_website': 'https://adaptiverecognition.com/', 'gitex_location': 'Hungary', 'gitex_sector': ''}, {'gitex_company_name': 'ADDD', 'gitex_website': 'http://addd.co.kr/?lang=en', 'gitex_location': 'Korea, Republic Of', 'gitex_sector': '5G & Telecommunications,Artificial Intelligence,Big Data & Analytics,'}, {'gitex_company_name': 'ADS SECURITY DEVICES TRADING LLC', 'gitex_website': 'http://adscctv.com', 'gitex_location': 'United Arab Emirates', 'gitex_sector': 'Retail Tech,'}, {'gitex_company_name': 'Advanced Business Solutions MENA FZCO', 'gitex_website': 'https://www.abs-mena.com/', 'gitex_location': 'United Arab Emirates', 'gitex_sector': 'Cyber security,'}, {'gitex_company_name': 'Advanced Electronics Company', 'gitex_website': 'https://www.aecl.com/ar/', 'gitex_location': 'Saudi Arabia', 'gitex_sector': 'Smart Cities,Consumer Tech, Smart Home & Smart Workplace,Cyber security,'}, {'gitex_company_name': 'Advanced Integration', 'gitex_website': 'https://www.advanced-integration.ae', 'gitex_location': 'United Arab Emirates', 'gitex_sector': '5G & Telecommunications,Artificial Intelligence,Big Data & Analytics,Cloud Services,Agnostic,'}, {'gitex_company_name': 'Advanced Software Development', 'gitex_website': 'https://asdbd.com/', 'gitex_location': 'Bangladesh', 'gitex_sector': 'Software Services,Cloud Services,Ecommerce,Fintech,Media, Marketing & Advertising Tech,'}, {'gitex_company_name': 'Advanced Technology Research Council', 'gitex_website': 'https://www.atrc.ae/', 'gitex_location': 'United Arab Emirates', 'gitex_sector': ''}, {'gitex_company_name': 'AEON PAYMENT TECHNOLOGIES LIMITED', 'gitex_website': 'https://www.aeon-payment-technologies.com/', 'gitex_location': 'Cyprus', 'gitex_sector': 'Fintech,'}, {'gitex_company_name': 'AGER RACK CABINET', 'gitex_website': 'https://www.ager.com.tr/', 'gitex_location': 'Türkiye', 'gitex_sector': 'Cyber security,Data Centres,'}, {'gitex_company_name': 'AGI TECHNOLOGY CO., LTD.', 'gitex_website': 'https://www.agi-gear.com/', 'gitex_location': 'Taiwan (R.O.C.)', 'gitex_sector': 'Mobile Accessories & Peripherals,Big Data & Analytics,Consumer Tech, Smart Home & Smart Workplace,Data Centres,'}, {'gitex_company_name': 'Agile Class srl', 'gitex_website': 'https://gitex2023.agileclass.it', 'gitex_location': 'Italy', 'gitex_sector': 'Regulatory Technology,Software Services,Big Data & Analytics,Cyber security,Fintech,'}, {'gitex_company_name': 'AHAD Business Services', 'gitex_website': 'https://www.thiqah.sa/ahad/', 'gitex_location': 'Saudi Arabia', 'gitex_sector': ''}, {'gitex_company_name': 'AIMO', 'gitex_website': 'http://www.aimotech.com', 'gitex_location': 'China', 'gitex_sector': 'Consumer Tech, Smart Home & Smart Workplace,'}, {'gitex_company_name': 'AirPro Technology India Pvt Ltd', 'gitex_website': 'https://airpro.in', 'gitex_location': 'India', 'gitex_sector': ''}, {'gitex_company_name': 'AIXONTEC GmbH', 'gitex_website': 'https://aixontec.com/', 'gitex_location': 'Germany', 'gitex_sector': '5G & Telecommunications,Data Centres,Future Mobility & Transportation,HealthTech,Internet of Things (IOT),'}, {'gitex_company_name': 'Ajlan & Bros Information Systems  Technology', 'gitex_website': 'https://ajlan-tech.com/index.php', 'gitex_location': 'Saudi Arabia', 'gitex_sector': 'Cloud Services,Cyber security,Future Mobility & Transportation,HealthTech,'}, {'gitex_company_name': 'AJM SOFTWARES PRIVATE LIMITED', 'gitex_website': 'https://www.ajm.in/', 'gitex_location': 'India', 'gitex_sector': 'Software Services,Cloud Services,Coding and Development,Ecommerce,Internet of Things (IOT),'}, {'gitex_company_name': 'Ajman Department of Finance', 'gitex_website': 'https://ajmandof.ae/', 'gitex_location': 'United Arab Emirates', 'gitex_sector': ''}, {'gitex_company_name': 'Ajman Government', 'gitex_website': 'https://www.ajman.ae', 'gitex_location': 'United Arab Emirates', 'gitex_sector': '5G & Telecommunications,Big Data & Analytics,Blockchain,Cloud Services,Coding and Development,'}, {'gitex_company_name': 'Ajman Police General Headquarters', 'gitex_website': 'https://www.ajmanpolice.gov.ae/portal/', 'gitex_location': 'United Arab Emirates', 'gitex_sector': ''}, {'gitex_company_name': 'Al Boom Marine LLC', 'gitex_website': 'https://alboommarine.com/', 'gitex_location': 'United Arab Emirates', 'gitex_sector': 'Consumer Tech, Smart Home & Smart Workplace,Future Mobility & Transportation,'}, {'gitex_company_name': 'Al Jammaz Technologies', 'gitex_website': 'https://www.al-jammaz.com', 'gitex_location': 'Saudi Arabia', 'gitex_sector': 'Networking & Infrastructure,Cloud Services,Cyber security,Data Centres,Internet of Things (IOT),'}, {'gitex_company_name': 'Al Masar Al Saree FZCO', 'gitex_website': 'https://www.facebook.com/msgeneraltrading/', 'gitex_location': 'United Arab Emirates', 'gitex_sector': 'Mobile Accessories & Peripherals,'}, {'gitex_company_name': 'Al Thanayyan International One Person Company FZCO', 'gitex_website': 'https://thanayyan.com/', 'gitex_location': 'United Arab Emirates', 'gitex_sector': '5G & Telecommunications,Big Data & Analytics,Cloud Services,Consumer Tech, Smart Home & Smart Workplace,Cyber security,'}, {'gitex_company_name': 'Alibaba Cloud Middle East And Africa', 'gitex_website': 'https://middle-east.alibabacloud.com/', 'gitex_location': 'United Arab Emirates', 'gitex_sector': ''}, {'gitex_company_name': 'AlisTech Trading LLC (Globalis International Inc.)', 'gitex_website': 'https://www.globalis.com', 'gitex_location': 'United Arab Emirates', 'gitex_sector': 'Retail Tech,Consumer Tech, Smart Home & Smart Workplace,Ecommerce,Education Tech,Fintech,'}, {'gitex_company_name': 'Alpha Tech', 'gitex_website': 'http://www.alphatech.cc/', 'gitex_location': 'United Arab Emirates', 'gitex_sector': 'Mobile Accessories & Peripherals,Consumer Tech, Smart Home & Smart Workplace,Gaming,'}, {'gitex_company_name': 'Alpha Vision Technology Limited', 'gitex_website': 'http://www.alphavision.tech', 'gitex_location': 'Hong Kong Special Administrative Region', 'gitex_sector': 'Artificial Intelligence,'}, {'gitex_company_name': 'Alwafai International Company LLC', 'gitex_website': 'https://wafaicloud.com/', 'gitex_location': 'Saudi Arabia', 'gitex_sector': 'Artificial Intelligence,Big Data & Analytics,Blockchain,Cloud Services,Coding and Development,'}, {'gitex_company_name': 'Amaryllo Inc.', 'gitex_website': 'https://www.amaryllogroup.com', 'gitex_location': 'United States of America', 'gitex_sector': 'Artificial Intelligence,Big Data & Analytics,Blockchain,Cloud Services,Consumer Tech, Smart Home & Smart Workplace,'}, {'gitex_company_name': 'Amazon Web Services', 'gitex_website': 'https://aws.amazon.com/', 'gitex_location': 'United Arab Emirates', 'gitex_sector': ''}, {'gitex_company_name': 'AMD International Sales & Service Ltd.', 'gitex_website': 'https://www.amd.com', 'gitex_location': 'United Kingdom', 'gitex_sector': ''}, {'gitex_company_name': 'AMDIE', 'gitex_website': 'https://www.morocconow.com/', 'gitex_location': 'Morocco', 'gitex_sector': ''}, {'gitex_company_name': 'Amdocs Management Limited', 'gitex_website': 'http://www.amdocs.com', 'gitex_location': 'Israel', 'gitex_sector': '5G & Telecommunications,'}, {'gitex_company_name': 'AMEER MIRZAE GENERAL TRADING LLC', 'gitex_website': 'https://ldnio.ae/', 'gitex_location': 'United Arab Emirates', 'gitex_sector': 'Consumer Tech, Smart Home & Smart Workplace,'}, {'gitex_company_name': 'AmiViz', 'gitex_website': 'https://www.amiviz.com', 'gitex_location': 'United Arab Emirates', 'gitex_sector': 'Cyber security,'}, {'gitex_company_name': 'Amplicon Middle East', 'gitex_website': 'http://www.ampliconme.com/', 'gitex_location': 'United Arab Emirates', 'gitex_sector': ''}, {'gitex_company_name': 'Amrut Software Private Limited', 'gitex_website': 'https://www.amrutsoftware.com/', 'gitex_location': 'India', 'gitex_sector': '3D Printing & Printing Services,'}, {'gitex_company_name': 'Anaplan', 'gitex_website': 'https://www.anaplan.com/', 'gitex_location': 'United Kingdom', 'gitex_sector': ''}, {'gitex_company_name': 'ANDALUCIA TRADE', 'gitex_website': 'https://www.extenda.es', 'gitex_location': 'Spain', 'gitex_sector': ''}, {'gitex_company_name': 'ANTlabs Pte Ltd', 'gitex_website': 'https://www.antlabs.com', 'gitex_location': 'Singapore', 'gitex_sector': 'Networking & Infrastructure,5G & Telecommunications,Cloud Services,'}, {'gitex_company_name': 'ANXINSEC (AB) TECHNOLOGY CO., Ltd', 'gitex_website': 'https://www.anxinsec.com/en/', 'gitex_location': 'United Arab Emirates', 'gitex_sector': ''}, {'gitex_company_name': 'AnyDesk', 'gitex_website': 'https://multipoint-me.com/anydesk/', 'gitex_location': 'United Kingdom', 'gitex_sector': ''}, {'gitex_company_name': 'APL Global Logistics LLC', 'gitex_website': 'http://www.aplgloballogistic.com/', 'gitex_location': 'United Arab Emirates', 'gitex_sector': ''}, {'gitex_company_name': 'Aplong Tech Co., Limited', 'gitex_website': 'http://www.aplongtech.com', 'gitex_location': 'China', 'gitex_sector': 'Mobile Accessories & Peripherals,'}, {'gitex_company_name': 'ArchiTube Sp. z o.o.', 'gitex_website': 'http://en.architube.pl', 'gitex_location': 'United Arab Emirates', 'gitex_sector': 'PropTech,Smart Cities,Big Data & Analytics,Gaming,Internet of Things (IOT),'}, {'gitex_company_name': 'ARGOSDYNE Co., Ltd.', 'gitex_website': 'https://www.argosdyne.com/en', 'gitex_location': 'Korea, Republic Of', 'gitex_sector': 'Unmanned Aerial Vehicles (Drones),5G & Telecommunications,AgriTech & FoodTech,Blockchain,Future Mobility & Transportation,'}, {'gitex_company_name': 'ARKSOFT', 'gitex_website': 'https://www.arksoft.com.tr/en', 'gitex_location': 'Türkiye', 'gitex_sector': 'Cloud Services,Cyber security,Data Centres,'}, {'gitex_company_name': 'AROBS TRANSILVANIA SOFTWARE', 'gitex_website': 'https://trackgps.ro/en/', 'gitex_location': 'Romania', 'gitex_sector': ''}, {'gitex_company_name': 'Artificial Intelligence Technologies LLC', 'gitex_website': 'https://ai-tech.ai/', 'gitex_location': 'United Arab Emirates', 'gitex_sector': ''}, {'gitex_company_name': 'ArtygenSpace', 'gitex_website': 'https://www.artygenspace.com/', 'gitex_location': 'Korea, Republic Of', 'gitex_sector': 'Retail Tech,Ecommerce,Education Tech,Media, Marketing & Advertising Tech,Metaverse, Immersive Tech,'}, {'gitex_company_name': 'ASBIS Middle East', 'gitex_website': 'https://www.asbisme.ae/', 'gitex_location': 'United Arab Emirates', 'gitex_sector': '5G & Telecommunications,Artificial Intelligence,Big Data & Analytics,Cloud Services,Data Centres,'}, {'gitex_company_name': 'ASCANIO', 'gitex_website': 'https://ascanio.io/', 'gitex_location': 'Cyprus', 'gitex_sector': ''}, {'gitex_company_name': 'Association for the Development of West Athens', 'gitex_website': 'https://business4extroversion.gr/', 'gitex_location': 'Greece', 'gitex_sector': ''}, {'gitex_company_name': 'ASTGD', 'gitex_website': 'https://astgd.com', 'gitex_location': 'Bangladesh', 'gitex_sector': 'Software Services,Cloud Services,Coding and Development,Data Centres,Ecommerce,'}, {'gitex_company_name': 'ASTOUCH TECHNOLOGY (SHENZHEN) CO., LTD', 'gitex_website': 'https://www.astouch.net/ or https://www.astouchlcd.com/', 'gitex_location': 'China', 'gitex_sector': 'Retail Tech,Smart Cities,Consumer Tech, Smart Home & Smart Workplace,Education Tech,Media, Marketing & Advertising Tech,'}, {'gitex_company_name': 'astTECS GmbH', 'gitex_website': 'https://www.asttecs.com/', 'gitex_location': 'Germany', 'gitex_sector': 'Software Services,5G & Telecommunications,Artificial Intelligence,Cloud Services,Internet of Things (IOT),'}, {'gitex_company_name': 'Asura Technologies Ltd.', 'gitex_website': 'https://asuratechnologies.com/', 'gitex_location': 'Hungary', 'gitex_sector': 'Artificial Intelligence,Big Data & Analytics,'}, {'gitex_company_name': 'Atlanta Systems Pvt Ltd', 'gitex_website': 'https://www.atlantasys.com', 'gitex_location': 'India', 'gitex_sector': 'Smart Cities,5G & Telecommunications,Future Mobility & Transportation,HealthTech,Internet of Things (IOT),'}, {'gitex_company_name': 'Atomstate Technologies Pvt Ltd', 'gitex_website': 'https://www.atomstate.com', 'gitex_location': 'India', 'gitex_sector': 'Artificial Intelligence,Big Data & Analytics,Blockchain,Cloud Services,Cyber security,'}, {'gitex_company_name': 'Aukey Technology Co., Ltd', 'gitex_website': 'https://www.aukey.com/', 'gitex_location': 'China', 'gitex_sector': 'Ecommerce,'}, {'gitex_company_name': 'Austin Hughes Europe Ltd', 'gitex_website': 'https://austin-hughes.com', 'gitex_location': 'United Kingdom', 'gitex_sector': '5G & Telecommunications,Consumer Tech, Smart Home & Smart Workplace,Data Centres,'}, {'gitex_company_name': 'Authentic Vision GmbH', 'gitex_website': 'https://www.authenticvision.com/', 'gitex_location': 'Austria', 'gitex_sector': ''}, {'gitex_company_name': 'Automation Anywhere', 'gitex_website': 'https://www.automationanywhere.com/', 'gitex_location': 'United Kingdom', 'gitex_sector': ''}, {'gitex_company_name': 'Auve Tech', 'gitex_website': 'https://auve.tech/', 'gitex_location': 'Estonia', 'gitex_sector': 'Smart Cities,Sustainability & Green Tech,Artificial Intelligence,Future Mobility & Transportation,'}, {'gitex_company_name': 'AVAXIA', 'gitex_website': 'https://www.avaxiagroup.com/', 'gitex_location': 'United Arab Emirates', 'gitex_sector': 'Software Services,Artificial Intelligence,Coding and Development,Energy Tech,Metaverse, Immersive Tech,'}, {'gitex_company_name': 'Avaya Nederland B.V.', 'gitex_website': 'https://www.avaya.com/en/', 'gitex_location': 'United Arab Emirates', 'gitex_sector': 'Fintech,HealthTech,Internet of Things (IOT),Media, Marketing & Advertising Tech,Metaverse, Immersive Tech,'}, {'gitex_company_name': 'AVer Information Inc.', 'gitex_website': 'https://www.aver.com/', 'gitex_location': 'Taiwan (R.O.C.)', 'gitex_sector': '5G & Telecommunications,Consumer Tech, Smart Home & Smart Workplace,'}, {'gitex_company_name': 'AVIENTEK FZCO', 'gitex_website': 'https://www.avientek.com/', 'gitex_location': 'United Arab Emirates', 'gitex_sector': ''}, {'gitex_company_name': 'AVTECH Software Inc.', 'gitex_website': 'https://RoomAlert.com', 'gitex_location': 'United States of America', 'gitex_sector': ''}, {'gitex_company_name': 'Axigen Messaging', 'gitex_website': 'https://www.axigen.com/', 'gitex_location': 'Romania', 'gitex_sector': 'Cloud Services,Agnostic,'}, {'gitex_company_name': 'Axiom Telecom LLC', 'gitex_website': 'https://axiomtelecom.com/', 'gitex_location': 'United Arab Emirates', 'gitex_sector': '5G & Telecommunications,'}, {'gitex_company_name': 'Axiros GmbH', 'gitex_website': 'https://www.axiros.com', 'gitex_location': 'Germany', 'gitex_sector': 'Networking & Infrastructure,5G & Telecommunications,Big Data & Analytics,Cloud Services,Coding and Development,'}, {'gitex_company_name': 'Azeus Convene', 'gitex_website': 'https://www.azeusconvene.com', 'gitex_location': 'India', 'gitex_sector': 'Sustainability & Green Tech,Big Data & Analytics,Cloud Services,Cyber security,'}, {'gitex_company_name': 'B2B Mobile Auction', 'gitex_website': 'https://b2bmobileauction.com/', 'gitex_location': 'United States of America', 'gitex_sector': '5G & Telecommunications,'}, {'gitex_company_name': \"Bari's Technology Solution\", 'gitex_website': 'https://Baritechsol.com', 'gitex_location': 'Pakistan', 'gitex_sector': 'Software Services,Coding and Development,Internet of Things (IOT),'}, {'gitex_company_name': 'Barracuda Networks', 'gitex_website': 'http://www.barracuda.com', 'gitex_location': 'United Arab Emirates', 'gitex_sector': ''}, {'gitex_company_name': 'BarTender by Seagull Scientific', 'gitex_website': 'http://www.seagullscientific.com', 'gitex_location': 'Spain', 'gitex_sector': ''}, {'gitex_company_name': 'Başarsoft', 'gitex_website': 'https://www.basarsoft.com.tr/', 'gitex_location': 'Türkiye', 'gitex_sector': ''}, {'gitex_company_name': 'BBT ANTENNAS INC', 'gitex_website': 'http://www.bbtantennas.com', 'gitex_location': 'China', 'gitex_sector': '3D Printing & Printing Services,'}, {'gitex_company_name': 'BDCOM', 'gitex_website': 'https://www.bdcom.cn', 'gitex_location': 'United States of America', 'gitex_sector': 'Networking & Infrastructure,Internet of Things (IOT),'}, {'gitex_company_name': 'BeeGFS', 'gitex_website': 'https://www.beegfs.io/c/', 'gitex_location': 'Germany', 'gitex_sector': 'Cloud Services,'}, {'gitex_company_name': 'BELGIUM - WALLONIA EXPORT & INVESTMENT AGENCY', 'gitex_website': 'https://www.awex-export.be/fr/accueil', 'gitex_location': 'Belgium', 'gitex_sector': ''}, {'gitex_company_name': 'BEN INFOTECH', 'gitex_website': 'https://beninfotech.ae/', 'gitex_location': 'United Arab Emirates', 'gitex_sector': 'Networking & Infrastructure,5G & Telecommunications,AgriTech & FoodTech,Big Data & Analytics,Consumer Tech, Smart Home & Smart Workplace,'}, {'gitex_company_name': 'BenQ Middle East', 'gitex_website': 'https://www.benq.com/en-me/business/index.html', 'gitex_location': 'United Arab Emirates', 'gitex_sector': ''}, {'gitex_company_name': 'Bercman Technologies AS', 'gitex_website': 'https://bercman.com/', 'gitex_location': 'Estonia', 'gitex_sector': 'Smart Cities,Unmanned Aerial Vehicles (Drones),Coding and Development,Future Mobility & Transportation,Internet of Things (IOT),'}, {'gitex_company_name': 'Beyon', 'gitex_website': 'https://beyon.com', 'gitex_location': 'Bahrain', 'gitex_sector': ''}, {'gitex_company_name': 'BINAR CODE BUILDING', 'gitex_website': 'https://www.binarcode.com/', 'gitex_location': 'Romania', 'gitex_sector': 'Software Services,Coding and Development,Ecommerce,Fintech,Agnostic,'}, {'gitex_company_name': 'BINDTEC CO.,LTD', 'gitex_website': 'http://bindtec.kr/eng/', 'gitex_location': 'Korea, Republic Of', 'gitex_sector': 'Consumer Tech, Smart Home & Smart Workplace,'}, {'gitex_company_name': 'Biocube Matrics Pvt. Ltd.', 'gitex_website': 'https://biocube.ai/', 'gitex_location': 'India', 'gitex_sector': 'AgriTech & FoodTech,Artificial Intelligence,Big Data & Analytics,Cyber security,Education Tech,'}, {'gitex_company_name': 'BIRCH TECHNOLOGY INC.', 'gitex_website': 'http://www.e-birch.com', 'gitex_location': 'Taiwan (R.O.C.)', 'gitex_sector': 'Mobile Accessories & Peripherals,Retail Tech,Consumer Tech, Smart Home & Smart Workplace,Fintech,Media, Marketing & Advertising Tech,'}, {'gitex_company_name': 'BISONTE', 'gitex_website': 'http://bisonte.pl', 'gitex_location': 'Poland', 'gitex_sector': 'Unmanned Aerial Vehicles (Drones),AgriTech & FoodTech,Artificial Intelligence,Energy Tech,'}, {'gitex_company_name': 'BIXOLON CO., LTD', 'gitex_website': 'https://bixolon.com', 'gitex_location': 'United Arab Emirates', 'gitex_sector': 'HealthTech,'}, {'gitex_company_name': 'Black Box', 'gitex_website': 'http://www.blackbox.com', 'gitex_location': 'United Arab Emirates', 'gitex_sector': 'Networking & Infrastructure,Artificial Intelligence,Consumer Tech, Smart Home & Smart Workplace,Cyber security,Data Centres,'}, {'gitex_company_name': 'Blue Tel Digital International FZCO', 'gitex_website': 'https://bluetel.ae/', 'gitex_location': 'United Arab Emirates', 'gitex_sector': '5G & Telecommunications,'}, {'gitex_company_name': 'Bluebird Inc.', 'gitex_website': 'https://www.bluebirdcorp.com/', 'gitex_location': 'Korea, Republic Of', 'gitex_sector': ''}, {'gitex_company_name': 'BMG INTERNATIONAL FZCO', 'gitex_website': 'https://bmgfzco.net/', 'gitex_location': 'United Arab Emirates', 'gitex_sector': 'Mobile Accessories & Peripherals,Consumer Tech, Smart Home & Smart Workplace,Gaming,'}, {'gitex_company_name': 'BMIZE', 'gitex_website': 'https://bmize.com', 'gitex_location': 'Belgium', 'gitex_sector': 'PropTech,Smart Cities,AgriTech & FoodTech,Consumer Tech, Smart Home & Smart Workplace,Internet of Things (IOT),'}, {'gitex_company_name': 'Bora Multicorp', 'gitex_website': 'https://boramulticorp.com/index.php', 'gitex_location': 'India', 'gitex_sector': ''}, {'gitex_company_name': 'Boshijie Technology Co., Ltd', 'gitex_website': 'https://www.bsjtrack.com/', 'gitex_location': 'China', 'gitex_sector': 'AgriTech & FoodTech,Big Data & Analytics,Consumer Tech, Smart Home & Smart Workplace,'}, {'gitex_company_name': 'BOSTON LIMITED', 'gitex_website': 'https://www.boston.co.uk/default.aspx', 'gitex_location': 'United Kingdom', 'gitex_sector': ''}, {'gitex_company_name': 'Botminds AI Technologies Pvt Ltd', 'gitex_website': 'https://www.botminds.ai/', 'gitex_location': 'India', 'gitex_sector': 'PropTech,Artificial Intelligence,Big Data & Analytics,Fintech,HealthTech,'}, {'gitex_company_name': 'BPC Energy Ltd', 'gitex_website': 'https://www.bpc-ups.com/', 'gitex_location': 'United Kingdom', 'gitex_sector': 'Sustainability & Green Tech,Consumer Tech, Smart Home & Smart Workplace,Data Centres,Energy Tech,HealthTech,'}, {'gitex_company_name': 'Brandefense', 'gitex_website': 'https://brandefense.io/', 'gitex_location': 'United States of America', 'gitex_sector': 'Cyber security,'}, {'gitex_company_name': 'BrandSky International Limited', 'gitex_website': 'http://brandskyltd.com', 'gitex_location': 'Hong Kong Special Administrative Region', 'gitex_sector': 'Mobile Accessories & Peripherals,Consumer Tech, Smart Home & Smart Workplace,Gaming,Metaverse, Immersive Tech,'}, {'gitex_company_name': 'brlab Inc.', 'gitex_website': 'http://brlab.ai', 'gitex_location': 'Korea, Republic Of', 'gitex_sector': 'Smart Cities,Software Services,HealthTech,'}, {'gitex_company_name': 'Broadcom', 'gitex_website': 'https://mbcom.com', 'gitex_location': 'United Arab Emirates', 'gitex_sector': ''}, {'gitex_company_name': 'BroadNet Technologies LLC', 'gitex_website': 'https://www.broadnet.me', 'gitex_location': 'United Arab Emirates', 'gitex_sector': ''}, {'gitex_company_name': 'BRRM doo', 'gitex_website': 'https://brrm.eu/', 'gitex_location': 'Serbia', 'gitex_sector': 'Software Services,Artificial Intelligence,Coding and Development,'}, {'gitex_company_name': 'BST KOREA CO., LTD.', 'gitex_website': 'http://bstkr.com', 'gitex_location': 'Korea, Republic Of', 'gitex_sector': 'Retail Tech,Consumer Tech, Smart Home & Smart Workplace,'}, {'gitex_company_name': 'Builder.ai', 'gitex_website': 'https://www.builder.ai/', 'gitex_location': 'United Arab Emirates', 'gitex_sector': 'Agnostic,'}, {'gitex_company_name': 'Builtop', 'gitex_website': 'https://www.builtop.com/', 'gitex_location': 'Saudi Arabia', 'gitex_sector': 'PropTech,Smart Cities,Artificial Intelligence,'}, {'gitex_company_name': 'Bulwark Technologies', 'gitex_website': 'https://www.bulwark.biz', 'gitex_location': 'United Arab Emirates', 'gitex_sector': ''}, {'gitex_company_name': 'BUSYMACHINES', 'gitex_website': 'https://www.busymachines.com/', 'gitex_location': 'Romania', 'gitex_sector': 'Smart Cities,Software Services,Media, Marketing & Advertising Tech,'}, {'gitex_company_name': 'C-Prot', 'gitex_website': 'https://c-prot.com', 'gitex_location': 'Türkiye', 'gitex_sector': 'Retail Tech,Blockchain,Cloud Services,Cyber security,Fintech,'}, {'gitex_company_name': 'C1 India Pvt Ltd', 'gitex_website': 'https://c1india.com/', 'gitex_location': 'India', 'gitex_sector': 'Software Services,Coding and Development,Fintech,Internet of Things (IOT),'}, {'gitex_company_name': 'Cable Depot FZCO', 'gitex_website': 'https://cabledepot-me.com', 'gitex_location': 'United Arab Emirates', 'gitex_sector': ''}, {'gitex_company_name': 'Calidad', 'gitex_website': 'http://calidad.com.au', 'gitex_location': 'Australia', 'gitex_sector': 'Consumer Tech, Smart Home & Smart Workplace,'}, {'gitex_company_name': 'Canvendor Corp LLC FZ.', 'gitex_website': 'https://www.canvendor.com/', 'gitex_location': 'United States of America', 'gitex_sector': 'Software Services,Artificial Intelligence,Big Data & Analytics,Cloud Services,Cyber security,'}, {'gitex_company_name': 'Capital Numbers Infotech', 'gitex_website': 'https://www.capitalnumbers.com/', 'gitex_location': 'India', 'gitex_sector': 'Software Services,Artificial Intelligence,Cloud Services,Coding and Development,Ecommerce,'}, {'gitex_company_name': 'Cardline UAE', 'gitex_website': 'http://cardlineuae.com', 'gitex_location': 'United Arab Emirates', 'gitex_sector': ''}, {'gitex_company_name': 'Cavintek Software Private Limited', 'gitex_website': 'https://www.cflowapps.com', 'gitex_location': 'India', 'gitex_sector': ''}, {'gitex_company_name': 'CBeSt consulting', 'gitex_website': 'https://www.cbest.eu/english/', 'gitex_location': 'Germany', 'gitex_sector': '5G & Telecommunications,'}, {'gitex_company_name': 'CDR', 'gitex_website': 'https://en.cdr.pl/', 'gitex_location': 'Poland', 'gitex_sector': '5G & Telecommunications,Future Mobility & Transportation,Internet of Things (IOT),'}, {'gitex_company_name': 'Cellock Ltd', 'gitex_website': 'https://www.cellock.com', 'gitex_location': 'Cyprus', 'gitex_sector': 'AgriTech & FoodTech,Artificial Intelligence,Big Data & Analytics,Blockchain,Coding and Development,'}, {'gitex_company_name': 'Celltel Middle East FZCO', 'gitex_website': 'https://www.celltel.ae/', 'gitex_location': 'United Arab Emirates', 'gitex_sector': 'Mobile Accessories & Peripherals,5G & Telecommunications,'}, {'gitex_company_name': 'Chainway', 'gitex_website': 'https://www.chainway.net/', 'gitex_location': 'China', 'gitex_sector': 'Retail Tech,Consumer Tech, Smart Home & Smart Workplace,Ecommerce,Internet of Things (IOT),'}, {'gitex_company_name': 'Chamber of Information Technology and Telecommunications (CIT)', 'gitex_website': 'https://cit-fei.org/', 'gitex_location': 'Egypt', 'gitex_sector': ''}, {'gitex_company_name': 'Check Point Software Technologies', 'gitex_website': 'https://www.checkpoint.com/', 'gitex_location': 'United Arab Emirates', 'gitex_sector': 'Cyber security,'}, {'gitex_company_name': 'Chengdu Qianhong Communication Co., Ltd', 'gitex_website': 'https://www.qhtele.com', 'gitex_location': 'China', 'gitex_sector': 'Networking & Infrastructure,Smart Cities,5G & Telecommunications,Cyber security,'}, {'gitex_company_name': 'China Mobile International', 'gitex_website': 'https://www.cmi.chinamobile.com/', 'gitex_location': 'United Arab Emirates', 'gitex_sector': '5G & Telecommunications,Cloud Services,Consumer Tech, Smart Home & Smart Workplace,Data Centres,'}, {'gitex_company_name': 'Chunmi Technology (Shanghai) Co.,Ltd.', 'gitex_website': 'http://www.tokitglobal.com', 'gitex_location': 'China', 'gitex_sector': 'Consumer Tech, Smart Home & Smart Workplace,'}, {'gitex_company_name': 'Cisco Systems International FZ-LLC', 'gitex_website': 'https://www.cisco.com/c/en/us/', 'gitex_location': 'United Arab Emirates', 'gitex_sector': 'Sustainability & Green Tech,5G & Telecommunications,AgriTech & FoodTech,Cyber security,Data Centres,'}, {'gitex_company_name': 'CitiXsys - iVend Retail', 'gitex_website': 'https://www.ivend.com', 'gitex_location': 'United Arab Emirates', 'gitex_sector': 'Retail Tech,Software Services,Agnostic,'}, {'gitex_company_name': 'Citizen Systems Europe GmbH', 'gitex_website': 'https://www.citizen-systems.com/', 'gitex_location': 'Germany', 'gitex_sector': ''}, {'gitex_company_name': 'Citytech Software DMCC', 'gitex_website': 'http://citytechcorp.com', 'gitex_location': 'United Arab Emirates', 'gitex_sector': 'Retail Tech,Software Services,Cloud Services,Coding and Development,Ecommerce,'}, {'gitex_company_name': 'Clean Air Enterprise', 'gitex_website': 'https://clean-air-enterprise.com', 'gitex_location': 'Switzerland', 'gitex_sector': 'Sustainability & Green Tech,HealthTech,'}, {'gitex_company_name': 'Clear Earth Recycling LLC', 'gitex_website': 'https://www.clearearth.ae', 'gitex_location': 'United Arab Emirates', 'gitex_sector': 'Cyber security,'}, {'gitex_company_name': 'Climax Machine Industry Co. Ltd.', 'gitex_website': 'http://www.cmico.com.tw', 'gitex_location': 'Taiwan (R.O.C.)', 'gitex_sector': 'Retail Tech,Fintech,'}, {'gitex_company_name': 'Cloud Consultancy for Digitalization & Security', 'gitex_website': 'https://www.ccds.ws', 'gitex_location': 'Saudi Arabia', 'gitex_sector': 'Quantum & High Performance Computing,Artificial Intelligence,Coding and Development,Cyber security,Data Centres,'}, {'gitex_company_name': 'Cloud Host Technology', 'gitex_website': 'https://www.cloudhostintl.com/', 'gitex_location': 'United Arab Emirates', 'gitex_sector': 'Software Services,Cyber security,Data Centres,'}, {'gitex_company_name': 'Cloudflare Middle East FZ-LLC', 'gitex_website': 'https://www.cloudflare.com/en-gb/', 'gitex_location': 'United Kingdom', 'gitex_sector': 'Big Data & Analytics,Cloud Services,Coding and Development,Cyber security,Internet of Things (IOT),'}, {'gitex_company_name': 'CloudShare', 'gitex_website': 'https://cloudshare.com', 'gitex_location': 'Israel', 'gitex_sector': ''}, {'gitex_company_name': 'CM.com', 'gitex_website': 'https://www.cm.com/en-ae/', 'gitex_location': 'United Arab Emirates', 'gitex_sector': 'PropTech,Cloud Services,Ecommerce,Media, Marketing & Advertising Tech,'}, {'gitex_company_name': 'CODEGILE', 'gitex_website': 'https://www.codegile.com', 'gitex_location': 'Romania', 'gitex_sector': 'Software Services,'}, {'gitex_company_name': 'CodeStore Technologies Pvt Ltd', 'gitex_website': 'https://codestoresolutions.com/', 'gitex_location': 'India', 'gitex_sector': 'Software Services,AgriTech & FoodTech,Cloud Services,Coding and Development,Education Tech,'}, {'gitex_company_name': 'Codnity Talent', 'gitex_website': 'https://codnity.com/en/', 'gitex_location': 'Latvia', 'gitex_sector': ''}, {'gitex_company_name': 'Commercial Bank International', 'gitex_website': 'http://www.cbiuae.com', 'gitex_location': 'United Arab Emirates', 'gitex_sector': 'Fintech,'}, {'gitex_company_name': 'COMMSCOPE SOLUTIONS INTERNATIONAL, INC.', 'gitex_website': 'https://www.commscope.com/', 'gitex_location': 'United Arab Emirates', 'gitex_sector': 'Networking & Infrastructure,Smart Cities,5G & Telecommunications,Big Data & Analytics,Data Centres,'}, {'gitex_company_name': 'Commvault', 'gitex_website': 'https://www.commvault.com/', 'gitex_location': 'United Arab Emirates', 'gitex_sector': 'Software Services,Big Data & Analytics,Cloud Services,Cyber security,Internet of Things (IOT),'}, {'gitex_company_name': 'Compuprint a GDS Division', 'gitex_website': 'https://www.compuprint.com/', 'gitex_location': 'Italy', 'gitex_sector': 'Consumer Tech, Smart Home & Smart Workplace,'}, {'gitex_company_name': 'ComTech DMCC', 'gitex_website': 'https://www.comtechgold.com', 'gitex_location': 'United Arab Emirates', 'gitex_sector': 'Blockchain,Fintech,'}, {'gitex_company_name': 'Comus International FZCO', 'gitex_website': 'https://www.comusfze.com/', 'gitex_location': 'United Arab Emirates', 'gitex_sector': 'Blockchain,Consumer Tech, Smart Home & Smart Workplace,Gaming,Metaverse, Immersive Tech,'}, {'gitex_company_name': 'Connect Communication FZCO', 'gitex_website': 'http://www.connectfzco.com', 'gitex_location': 'United Arab Emirates', 'gitex_sector': 'Mobile Accessories & Peripherals,Retail Tech,5G & Telecommunications,Artificial Intelligence,Internet of Things (IOT),'}, {'gitex_company_name': 'Coolmix B.V.', 'gitex_website': 'https://www.coolmix.eu/', 'gitex_location': 'Netherlands', 'gitex_sector': 'Mobile Accessories & Peripherals,'}, {'gitex_company_name': 'Cravings Comps LLC', 'gitex_website': 'https://cravingpcs.com/', 'gitex_location': 'United States of America', 'gitex_sector': 'Consumer Tech, Smart Home & Smart Workplace,HealthTech,Metaverse, Immersive Tech,'}, {'gitex_company_name': 'Crestan International', 'gitex_website': 'https://www.crestanint.com/', 'gitex_location': 'United Arab Emirates', 'gitex_sector': ''}, {'gitex_company_name': 'CrimsonLogic Pte Ltd', 'gitex_website': 'https://www.crimsonlogic.com/', 'gitex_location': 'Singapore', 'gitex_sector': ''}, {'gitex_company_name': 'Crowe UAE', 'gitex_website': 'https://www.crowe.com/ae/services/advisory/technology-services/netsuite-and-crowe', 'gitex_location': 'United Arab Emirates', 'gitex_sector': 'Regulatory Technology,Software Services,Cloud Services,Coding and Development,Fintech,'}, {'gitex_company_name': 'CryptoBind® by JISA Softech', 'gitex_website': 'https://www.jisasoftech.com/', 'gitex_location': 'India', 'gitex_sector': ''}, {'gitex_company_name': 'csky.ai', 'gitex_website': 'https://csky.ai', 'gitex_location': 'Switzerland', 'gitex_sector': 'Artificial Intelligence,'}, {'gitex_company_name': 'CTC Union Technologies Co., Ltd.', 'gitex_website': 'https://www.ctcu.com', 'gitex_location': 'Taiwan (R.O.C.)', 'gitex_sector': 'Smart Cities,5G & Telecommunications,Cyber security,Internet of Things (IOT),'}, {'gitex_company_name': 'Cyber Knight Technologies FZ LLC', 'gitex_website': 'https://cyberknight.tech/', 'gitex_location': 'United Arab Emirates', 'gitex_sector': ''}, {'gitex_company_name': 'CybExer Technologies', 'gitex_website': 'https://cybexer.com/', 'gitex_location': 'Finland', 'gitex_sector': ''}, {'gitex_company_name': 'CYENS CENTRE OF EXCELLENCE', 'gitex_website': 'https://www.cyens.org.cy/en-gb/', 'gitex_location': 'Cyprus', 'gitex_sector': 'Artificial Intelligence,Cyber security,Education Tech,Internet of Things (IOT),Metaverse, Immersive Tech,'}, {'gitex_company_name': 'Cynoteck Technology Solutions Pvt Ltd', 'gitex_website': 'http://cynoteck.com', 'gitex_location': 'India', 'gitex_sector': 'PropTech,Quantum & High Performance Computing,Software Services,Blockchain,Cloud Services,'}, {'gitex_company_name': 'D.ONE SAS', 'gitex_website': 'https://www.simplyd.one/-1', 'gitex_location': 'France', 'gitex_sector': '5G & Telecommunications,Big Data & Analytics,Blockchain,Consumer Tech, Smart Home & Smart Workplace,Cyber security,'}, {'gitex_company_name': 'Daftra', 'gitex_website': 'https://www.daftra.com/', 'gitex_location': 'Saudi Arabia', 'gitex_sector': 'Software Services,Cloud Services,Ecommerce,'}, {'gitex_company_name': 'Dahua Technology MENA', 'gitex_website': 'https://dahuasecurity.com/', 'gitex_location': 'United Arab Emirates', 'gitex_sector': 'AgriTech & FoodTech,Artificial Intelligence,Big Data & Analytics,Blockchain,Cloud Services,'}, {'gitex_company_name': 'DAISYTEK COMPUTERS LLC', 'gitex_website': 'https://www.daisytek.ae', 'gitex_location': 'United Arab Emirates', 'gitex_sector': 'Consumer Tech, Smart Home & Smart Workplace,'}, {'gitex_company_name': 'DamoaTech', 'gitex_website': 'http://www.damoatec.com', 'gitex_location': 'Korea, Republic Of', 'gitex_sector': ''}, {'gitex_company_name': 'DATAFLOWX', 'gitex_website': 'https://www.dataflowx.com/', 'gitex_location': 'Türkiye', 'gitex_sector': 'Networking & Infrastructure,Cyber security,'}, {'gitex_company_name': 'Dataiku', 'gitex_website': 'https://www.dataiku.com/', 'gitex_location': 'France', 'gitex_sector': 'Software Services,Artificial Intelligence,'}, {'gitex_company_name': 'DataLexing', 'gitex_website': 'https://www.datalexing.com/', 'gitex_location': 'Saudi Arabia', 'gitex_sector': 'Software Services,'}, {'gitex_company_name': 'Dataliva', 'gitex_website': 'https://dataliva.com', 'gitex_location': 'Türkiye', 'gitex_sector': 'Software Services,Artificial Intelligence,Big Data & Analytics,Coding and Development,Fintech,'}, {'gitex_company_name': 'Datalogic SRL', 'gitex_website': 'https://www.datalogic.com/eng/index.html', 'gitex_location': 'Italy', 'gitex_sector': ''}, {'gitex_company_name': 'Datotek International Co. Ltd. - TW', 'gitex_website': 'http://www.datos.com.tw', 'gitex_location': 'Taiwan (R.O.C.)', 'gitex_sector': 'Mobile Accessories & Peripherals,Quantum & High Performance Computing,Consumer Tech, Smart Home & Smart Workplace,HealthTech,Metaverse, Immersive Tech,'}, {'gitex_company_name': 'DATWYLER MIDDLE EAST FZE', 'gitex_website': 'https://itinfra.datwyler.com/', 'gitex_location': 'United Arab Emirates', 'gitex_sector': 'Networking & Infrastructure,Smart Cities,Software Services,Data Centres,'}, {'gitex_company_name': 'DEFNE', 'gitex_website': 'http://www.defne.com.tr', 'gitex_location': 'Türkiye', 'gitex_sector': 'Regulatory Technology,Smart Cities,Software Services,5G & Telecommunications,Future Mobility & Transportation,'}, {'gitex_company_name': 'Delinea Middle East FZ-LLC', 'gitex_website': 'http://delinea.com', 'gitex_location': 'United Arab Emirates', 'gitex_sector': ''}, {'gitex_company_name': 'Dell FZ-LLC', 'gitex_website': 'https://www1.euro.dell.com/ae/ar/gen/df.aspx?refid=df&s=gen', 'gitex_location': 'United Arab Emirates', 'gitex_sector': '3D Printing & Printing Services,5G & Telecommunications,AgriTech & FoodTech,Artificial Intelligence,Big Data & Analytics,'}, {'gitex_company_name': 'Deloitte', 'gitex_website': 'https://www2.deloitte.com/xe/en.html?icid=site_selector_xe', 'gitex_location': 'United Arab Emirates', 'gitex_sector': ''}, {'gitex_company_name': 'Department of Economic Development (DED)', 'gitex_website': 'https://added.gov.ae/', 'gitex_location': 'United Arab Emirates', 'gitex_sector': ''}, {'gitex_company_name': 'Department of Land and Real Estate Regulation', 'gitex_website': 'https://ajmanre.gov.ae/', 'gitex_location': 'United Arab Emirates', 'gitex_sector': ''}, {'gitex_company_name': 'DerSecur International FZE LLC', 'gitex_website': 'https://derscanner.com/', 'gitex_location': 'United Arab Emirates', 'gitex_sector': 'Cyber security,'}, {'gitex_company_name': 'Development Agency of Serbia- RS', 'gitex_website': 'https://www.ras.gov.rs/en', 'gitex_location': 'Serbia', 'gitex_sector': 'Smart Cities,Big Data & Analytics,Data Centres,Future Mobility & Transportation,'}, {'gitex_company_name': 'Device Services Group LLC.', 'gitex_website': 'http://deviceservicesgroup.com', 'gitex_location': 'United States of America', 'gitex_sector': '5G & Telecommunications,Big Data & Analytics,Consumer Tech, Smart Home & Smart Workplace,'}, {'gitex_company_name': 'DG Land Electrical & Electronic Appliances Spare Parts Trading L', 'gitex_website': 'https://dgland.ae/', 'gitex_location': 'United Arab Emirates', 'gitex_sector': 'Mobile Accessories & Peripherals,Consumer Tech, Smart Home & Smart Workplace,Ecommerce,'}, {'gitex_company_name': 'DIEZ (Dubai Integrated Economic Zones)', 'gitex_website': 'https://www.dsoa.ae/', 'gitex_location': 'United Arab Emirates', 'gitex_sector': ''}, {'gitex_company_name': 'Digital Factors FZCO - AE', 'gitex_website': 'https://www.dfsme.ae/', 'gitex_location': 'United Arab Emirates', 'gitex_sector': 'PropTech,Smart Cities,Consumer Tech, Smart Home & Smart Workplace,Fintech,'}, {'gitex_company_name': 'Digital Future Holding', 'gitex_website': 'https://digitalfuture.sa/', 'gitex_location': 'United Arab Emirates', 'gitex_sector': ''}, {'gitex_company_name': 'DIGITUS by Assmann', 'gitex_website': 'https://www.assmann.com/', 'gitex_location': 'Germany', 'gitex_sector': ''}, {'gitex_company_name': 'Disrupt X DMCC', 'gitex_website': 'https://disrupt-x.io/', 'gitex_location': 'United Arab Emirates', 'gitex_sector': 'PropTech,Smart Cities,AgriTech & FoodTech,Big Data & Analytics,Internet of Things (IOT),'}, {'gitex_company_name': 'DITAR - digital innovation through augmented reality', 'gitex_website': 'https://www.ditar.io', 'gitex_location': 'Belgium', 'gitex_sector': 'Retail Tech,Ecommerce,Metaverse, Immersive Tech,'}, {'gitex_company_name': 'Dolphin', 'gitex_website': 'https://dolphinconnect.tech', 'gitex_location': 'United Arab Emirates', 'gitex_sector': 'Future Mobility & Transportation,'}, {'gitex_company_name': 'Dong Guan Feng Rui Electronics Technology Co., Ltd.', 'gitex_website': 'http://www.fengruielectronic.com', 'gitex_location': 'China', 'gitex_sector': ''}, {'gitex_company_name': 'Dongguan Longling Electronic Tech Co.,Limited', 'gitex_website': 'http://www.dglongling.cn', 'gitex_location': 'China', 'gitex_sector': 'Mobile Accessories & Peripherals,Consumer Tech, Smart Home & Smart Workplace,'}, {'gitex_company_name': 'Dongguan Tcang Electronics Co., Ltd.', 'gitex_website': 'https://www.tcang.net/', 'gitex_location': 'China', 'gitex_sector': 'Consumer Tech, Smart Home & Smart Workplace,'}, {'gitex_company_name': 'DPL Private Limited', 'gitex_website': 'https://www.dplit.com/', 'gitex_location': 'Pakistan', 'gitex_sector': 'Software Services,Cloud Services,Coding and Development,Consumer Tech, Smart Home & Smart Workplace,Internet of Things (IOT),'}, {'gitex_company_name': 'Dr. Fones FZCO', 'gitex_website': 'https://drfonesltd.com/', 'gitex_location': 'United Kingdom', 'gitex_sector': 'Artificial Intelligence,Coding and Development,Ecommerce,'}, {'gitex_company_name': 'DRC Systems India Ltd.', 'gitex_website': 'https://www.drcsystems.com', 'gitex_location': 'India', 'gitex_sector': ''}, {'gitex_company_name': 'DreamWall', 'gitex_website': 'http://www.dreamwall.be/en', 'gitex_location': 'Belgium', 'gitex_sector': 'PropTech,Gaming,Media, Marketing & Advertising Tech,Metaverse, Immersive Tech,'}, {'gitex_company_name': 'Dubai Computer Group', 'gitex_website': 'https://www.dcgdubai.com', 'gitex_location': 'United Arab Emirates', 'gitex_sector': 'AgriTech & FoodTech,Artificial Intelligence,Big Data & Analytics,Blockchain,Consumer Tech, Smart Home & Smart Workplace,'}, {'gitex_company_name': 'Dubai Electricity & Water Authority', 'gitex_website': 'http://www.dewa.gov.ae', 'gitex_location': 'United Arab Emirates', 'gitex_sector': 'Blockchain,'}, {'gitex_company_name': 'Dubai Municipality', 'gitex_website': 'https://www.dm.gov.ae/', 'gitex_location': 'United Arab Emirates', 'gitex_sector': '3D Printing & Printing Services,'}, {'gitex_company_name': 'Dubai Police GHQ', 'gitex_website': 'https://www.dubaipolice.gov.ae/wps/portal/home', 'gitex_location': 'United Arab Emirates', 'gitex_sector': 'Regulatory Technology,Sustainability & Green Tech,Artificial Intelligence,Cyber security,Metaverse, Immersive Tech,'}, {'gitex_company_name': 'Dubai Sports Council', 'gitex_website': 'https://dubaisc.ae/', 'gitex_location': 'United Arab Emirates', 'gitex_sector': ''}, {'gitex_company_name': 'Durabook', 'gitex_website': 'https://www.durabook.com/', 'gitex_location': 'Taiwan Province of China', 'gitex_sector': ''}, {'gitex_company_name': 'Dutco Tennant LLC', 'gitex_website': 'https://www.dutcotennant.com/', 'gitex_location': 'India', 'gitex_sector': ''}, {'gitex_company_name': 'DVCOM Technology LLC', 'gitex_website': 'https://www.dvcom.ae/', 'gitex_location': 'United Arab Emirates', 'gitex_sector': 'Networking & Infrastructure,5G & Telecommunications,Cloud Services,Consumer Tech, Smart Home & Smart Workplace,Education Tech,'}, {'gitex_company_name': 'Dynalog India Ltd.', 'gitex_website': 'https://dynalogindia.com', 'gitex_location': 'India', 'gitex_sector': ''}, {'gitex_company_name': 'DYscan Technology Co., Ltd', 'gitex_website': 'http://www.dyscan.com', 'gitex_location': 'China', 'gitex_sector': 'Retail Tech,Consumer Tech, Smart Home & Smart Workplace,Education Tech,Fintech,'}, {'gitex_company_name': 'e-Banking Tech Co., Ltd.', 'gitex_website': 'http://ebankingtech.com', 'gitex_location': 'Korea, Republic Of', 'gitex_sector': 'Fintech,'}, {'gitex_company_name': 'EarFun', 'gitex_website': 'https://www.myearfun.com/', 'gitex_location': 'China', 'gitex_sector': 'Consumer Tech, Smart Home & Smart Workplace,Mobile Accessories & Peripherals,'}, {'gitex_company_name': 'East Photonics', 'gitex_website': 'https://www.eastphotonics.com', 'gitex_location': 'Korea, Republic Of', 'gitex_sector': '5G & Telecommunications,'}, {'gitex_company_name': 'EASTERN TIMES TECHNOLOGY., LTD', 'gitex_website': 'http://www.redragonzone.com', 'gitex_location': 'China', 'gitex_sector': 'Gaming,'}, {'gitex_company_name': 'eBOS', 'gitex_website': 'https://ebos.com.cy/', 'gitex_location': 'Cyprus', 'gitex_sector': ''}, {'gitex_company_name': 'EcoFlow', 'gitex_website': 'https://www.ecoflow.com/me-ar', 'gitex_location': 'China', 'gitex_sector': 'Smart Cities,Sustainability & Green Tech,Consumer Tech, Smart Home & Smart Workplace,Energy Tech,'}, {'gitex_company_name': 'EDB', 'gitex_website': 'https://www.enterprisedb.com/', 'gitex_location': 'United Kingdom', 'gitex_sector': 'Artificial Intelligence,Big Data & Analytics,Cloud Services,Coding and Development,Fintech,'}, {'gitex_company_name': 'eFACiLiTY® - SIERRA', 'gitex_website': 'https://www.sierratec.com', 'gitex_location': 'India', 'gitex_sector': 'Smart Cities,Software Services,3D Printing & Printing Services,Artificial Intelligence,Coding and Development,'}, {'gitex_company_name': 'EFEVRE TECH LTD', 'gitex_website': 'https://www.efevre.com/', 'gitex_location': 'Cyprus', 'gitex_sector': ''}, {'gitex_company_name': 'Electronics and Computer Software Export Promotion Council', 'gitex_website': 'http://www.escindia.in', 'gitex_location': 'India', 'gitex_sector': ''}, {'gitex_company_name': 'Elision Technolab LLP', 'gitex_website': 'https://elisiontec.com', 'gitex_location': 'India', 'gitex_sector': 'Networking & Infrastructure,Software Services,5G & Telecommunications,Cloud Services,Ecommerce,'}, {'gitex_company_name': 'Elitegroup Computer Systems Co., Ltd', 'gitex_website': 'https://www.ecs.com.tw/en', 'gitex_location': 'Taiwan (R.O.C.)', 'gitex_sector': 'Retail Tech,Artificial Intelligence,Cloud Services,Cyber security,Education Tech,'}, {'gitex_company_name': 'EliteVAD', 'gitex_website': 'https://elitevad.com/', 'gitex_location': 'United Arab Emirates', 'gitex_sector': 'Regulatory Technology,Smart Cities,Cloud Services,Cyber security,Internet of Things (IOT),'}, {'gitex_company_name': 'Elm Company', 'gitex_website': 'https://www.elm.sa/en/pages/default.aspx', 'gitex_location': 'Saudi Arabia', 'gitex_sector': 'Blockchain,Cloud Services,Ecommerce,Fintech,HealthTech,'}, {'gitex_company_name': 'Emaratech', 'gitex_website': 'https://www.emaratech.ae/', 'gitex_location': 'United Arab Emirates', 'gitex_sector': 'Coding and Development,'}, {'gitex_company_name': 'Emerging Market Technologies Trading FZCO', 'gitex_website': 'https://emtmeta.com/', 'gitex_location': 'United Arab Emirates', 'gitex_sector': 'Networking & Infrastructure,Software Services,Cloud Services,Cyber security,Internet of Things (IOT),'}, {'gitex_company_name': 'Emirates College Advanced Education', 'gitex_website': 'https://www.ecae.ac.ae/en/', 'gitex_location': 'United Arab Emirates', 'gitex_sector': '3D Printing & Printing Services,Artificial Intelligence,Data Centres,Education Tech,Metaverse, Immersive Tech,'}, {'gitex_company_name': 'Emirates Real Estate Solutions (ERES)', 'gitex_website': 'https://eres.ae/index.html', 'gitex_location': 'United Arab Emirates', 'gitex_sector': 'Smart Cities,'}, {'gitex_company_name': 'Emirates Telecommunications Corporation (Etisalat)', 'gitex_website': 'https://www.eand.com/en/index.html', 'gitex_location': 'United Arab Emirates', 'gitex_sector': 'Regulatory Technology,Internet of Things (IOT),'}, {'gitex_company_name': 'Emirates Transport', 'gitex_website': 'https://et.ae/en/', 'gitex_location': 'United Arab Emirates', 'gitex_sector': ''}, {'gitex_company_name': 'Engineer.ai', 'gitex_website': 'https://www.builder.ai/', 'gitex_location': 'United Arab Emirates', 'gitex_sector': 'Agnostic,'}, {'gitex_company_name': 'Entigo - Your Partner in Devops Reliability engineering', 'gitex_website': 'https://www.entigo.com/', 'gitex_location': 'Estonia', 'gitex_sector': 'Cloud Services,'}, {'gitex_company_name': 'Environmental Systems Research Institute, Inc.', 'gitex_website': 'https://www.esri.com/en-us/home', 'gitex_location': 'United States of America', 'gitex_sector': 'Smart Cities,5G & Telecommunications,AgriTech & FoodTech,Artificial Intelligence,Big Data & Analytics,'}, {'gitex_company_name': 'envnt (Codelab)', 'gitex_website': 'https://envnt.co/', 'gitex_location': 'Saudi Arabia', 'gitex_sector': ''}, {'gitex_company_name': 'Epson', 'gitex_website': 'https://www.epson-middleeast.com/', 'gitex_location': 'United Arab Emirates', 'gitex_sector': ''}, {'gitex_company_name': 'ERICSSON AB DUBAI BRANCH', 'gitex_website': 'https://www.ericsson.com/', 'gitex_location': 'United Arab Emirates', 'gitex_sector': ''}, {'gitex_company_name': 'Esol Information & Communication Co.,Ltd', 'gitex_website': 'http://www.esolgroup.co.kr', 'gitex_location': 'Korea, Republic Of', 'gitex_sector': 'Education Tech,'}, {'gitex_company_name': 'ESONIC', 'gitex_website': 'http://www.itzr.cn', 'gitex_location': 'China', 'gitex_sector': 'Consumer Tech, Smart Home & Smart Workplace,'}, {'gitex_company_name': 'Esprinet Spa', 'gitex_website': 'https://www.celly.com/en/home', 'gitex_location': 'Italy', 'gitex_sector': 'Mobile Accessories & Peripherals,Consumer Tech, Smart Home & Smart Workplace,Gaming,HealthTech,'}, {'gitex_company_name': 'Estonian Business and Innovation Agency', 'gitex_website': 'https://tradewithestonia.com/', 'gitex_location': 'Estonia', 'gitex_sector': ''}, {'gitex_company_name': 'Ethics Advance Technology Limited', 'gitex_website': 'https://www.eatlbd.com', 'gitex_location': 'Bangladesh', 'gitex_sector': ''}, {'gitex_company_name': 'ETK Kablo Sanayi ve Ticaret A.S.', 'gitex_website': 'https://www.etkkablo.com/', 'gitex_location': 'Türkiye', 'gitex_sector': 'Mobile Accessories & Peripherals,Smart Cities,5G & Telecommunications,Data Centres,Internet of Things (IOT),'}, {'gitex_company_name': 'EURO HOLOGRAPHY LTD', 'gitex_website': 'https://www.EuroHolography.com', 'gitex_location': 'United Kingdom', 'gitex_sector': 'Big Data & Analytics,Cloud Services,Consumer Tech, Smart Home & Smart Workplace,Education Tech,Fintech,'}, {'gitex_company_name': 'European Pavilion', 'gitex_website': 'https://eic.ec.europa.eu/index_en', 'gitex_location': 'Belgium', 'gitex_sector': 'Agnostic,'}, {'gitex_company_name': 'Evanssion', 'gitex_website': 'http://www.evanssion.com', 'gitex_location': 'United Arab Emirates', 'gitex_sector': 'Blockchain,Cloud Services,Cyber security,Fintech,'}, {'gitex_company_name': 'Evento Solutions LLC', 'gitex_website': 'https://evento.ae/', 'gitex_location': 'United Arab Emirates', 'gitex_sector': ''}, {'gitex_company_name': 'EverestIMS Technologies Pvt Ltd', 'gitex_website': 'https://everestims.com', 'gitex_location': 'India', 'gitex_sector': 'Networking & Infrastructure,5G & Telecommunications,Cloud Services,'}, {'gitex_company_name': 'Excellence Wire Ind. Co. Ltd.', 'gitex_website': 'https://exw.com.tw', 'gitex_location': 'Taiwan (R.O.C.)', 'gitex_sector': 'Smart Cities,5G & Telecommunications,AgriTech & FoodTech,Consumer Tech, Smart Home & Smart Workplace,Data Centres,'}, {'gitex_company_name': 'Exclaimer Limited', 'gitex_website': 'https://www.exclaimer.com/', 'gitex_location': 'United Kingdom', 'gitex_sector': 'Cloud Services,Ecommerce,Media, Marketing & Advertising Tech,'}, {'gitex_company_name': 'Experts Computer LLC', 'gitex_website': 'https://expertscomputer.com/', 'gitex_location': 'United Arab Emirates', 'gitex_sector': ''}, {'gitex_company_name': 'Experts Decision', 'gitex_website': 'http://exd-int.com', 'gitex_location': 'Saudi Arabia', 'gitex_sector': 'Software Services,5G & Telecommunications,Big Data & Analytics,Cloud Services,Data Centres,'}, {'gitex_company_name': 'Exporttek Inc', 'gitex_website': 'https://www.exporttek.com/', 'gitex_location': 'United States of America', 'gitex_sector': '5G & Telecommunications,'}, {'gitex_company_name': 'ExTell Systems Pvt Ltd', 'gitex_website': 'https://extellsystems.com', 'gitex_location': 'United Arab Emirates', 'gitex_sector': 'Mobile Accessories & Peripherals,Smart Cities,Data Centres,Energy Tech,Future Mobility & Transportation,'}, {'gitex_company_name': 'ExtraHop', 'gitex_website': 'https://www.extrahop.com/', 'gitex_location': 'United Kingdom', 'gitex_sector': 'Cyber security,'}, {'gitex_company_name': 'Extreme Networks EMEA', 'gitex_website': 'https://www.extremenetworks.com/', 'gitex_location': 'United Arab Emirates', 'gitex_sector': ''}, {'gitex_company_name': 'Extron', 'gitex_website': 'https://www.extron.com', 'gitex_location': 'United Arab Emirates', 'gitex_sector': 'Networking & Infrastructure,Software Services,Consumer Tech, Smart Home & Smart Workplace,Education Tech,HealthTech,'}, {'gitex_company_name': 'eyeo GMBH', 'gitex_website': 'https://www.eyeo.com/', 'gitex_location': 'Spain', 'gitex_sector': 'Media, Marketing & Advertising Tech,'}, {'gitex_company_name': 'EZELINK TELECOM LLC', 'gitex_website': 'http://ezelink.com/', 'gitex_location': 'United Arab Emirates', 'gitex_sector': 'Smart Cities,5G & Telecommunications,Internet of Things (IOT),'}, {'gitex_company_name': 'EZO', 'gitex_website': 'https://ezo.io/', 'gitex_location': 'United States of America', 'gitex_sector': 'Cloud Services,'}, {'gitex_company_name': 'F5', 'gitex_website': 'https://www.f5.com/', 'gitex_location': 'United Arab Emirates', 'gitex_sector': 'Software Services,5G & Telecommunications,Cloud Services,Cyber security,Data Centres,'}, {'gitex_company_name': 'FACESEC PTE. LTD.', 'gitex_website': 'https://www.facesec.com', 'gitex_location': 'Singapore', 'gitex_sector': 'Artificial Intelligence,Consumer Tech, Smart Home & Smart Workplace,Gaming,Internet of Things (IOT),'}, {'gitex_company_name': 'FALAK TAYYEB PLATINUM GOVERNMENT SERVICES L.L.C', 'gitex_website': 'https://www.ftplatinum.ae', 'gitex_location': 'United Arab Emirates', 'gitex_sector': 'AgriTech & FoodTech,Big Data & Analytics,Cloud Services,Ecommerce,Education Tech,'}, {'gitex_company_name': 'Fastex', 'gitex_website': 'https://www.fastex.com/', 'gitex_location': 'Armenia', 'gitex_sector': 'Blockchain,'}, {'gitex_company_name': 'Federal Ministry for Economic Affairs and Climate Action', 'gitex_website': 'https://gitex.german-pavilion.com', 'gitex_location': 'Germany', 'gitex_sector': 'Sustainability & Green Tech,'}, {'gitex_company_name': 'Fenice Power Co., Ltd.', 'gitex_website': 'http://www.fenicepower.com/', 'gitex_location': 'China', 'gitex_sector': 'Consumer Tech, Smart Home & Smart Workplace,Cyber security,Data Centres,Energy Tech,Gaming,'}, {'gitex_company_name': 'FileCloud', 'gitex_website': 'https://www.filecloud.com/', 'gitex_location': 'United Arab Emirates', 'gitex_sector': 'Cloud Services,Cyber security,Data Centres,'}, {'gitex_company_name': 'FILTER YOU', 'gitex_website': 'https://www.filteryouu.com/', 'gitex_location': 'India', 'gitex_sector': 'Retail Tech,Ecommerce,Gaming,Media, Marketing & Advertising Tech,Metaverse, Immersive Tech,'}, {'gitex_company_name': 'Finesse FZ LLC', 'gitex_website': 'https://finessedirect.com/', 'gitex_location': 'United Arab Emirates', 'gitex_sector': ''}, {'gitex_company_name': 'FINITI SOLUTIONS', 'gitex_website': 'https://finiti.rs/', 'gitex_location': 'Serbia', 'gitex_sector': 'Blockchain,Cloud Services,'}, {'gitex_company_name': 'FISCAT', 'gitex_website': 'https://www.fiscat.com/', 'gitex_location': 'China', 'gitex_sector': '3D Printing & Printing Services,'}, {'gitex_company_name': 'Fleet Management Systems Company WLL', 'gitex_website': 'https://www.fms-international.com/', 'gitex_location': 'United Arab Emirates', 'gitex_sector': ''}, {'gitex_company_name': 'Fly Akeed', 'gitex_website': 'https://flyakeed.com', 'gitex_location': 'Saudi Arabia', 'gitex_sector': ''}, {'gitex_company_name': 'Flyin Group Co., Ltd', 'gitex_website': 'https://www.opticres.com/', 'gitex_location': 'China', 'gitex_sector': '5G & Telecommunications,'}, {'gitex_company_name': 'Flyingvoice Network Technology Co., Ltd.', 'gitex_website': 'https://www.flyingvoice.com', 'gitex_location': 'China', 'gitex_sector': 'Networking & Infrastructure,Smart Cities,5G & Telecommunications,Consumer Tech, Smart Home & Smart Workplace,Future Mobility & Transportation,'}, {'gitex_company_name': 'Flymodem (Shenzhen) Technology Co., Ltd.', 'gitex_website': 'https://www.flymodem.net', 'gitex_location': 'China', 'gitex_sector': 'Internet of Things (IOT),'}, {'gitex_company_name': 'Focus Softnet FZ LLC', 'gitex_website': 'https://www.focussoftnet.com', 'gitex_location': 'United Arab Emirates', 'gitex_sector': 'Retail Tech,Software Services,Cloud Services,Ecommerce,Education Tech,'}, {'gitex_company_name': 'Fodenn Electronic Technology Co., Ltd', 'gitex_website': 'https://www.fodenn.com/', 'gitex_location': 'China', 'gitex_sector': 'Smart Cities,Artificial Intelligence,Consumer Tech, Smart Home & Smart Workplace,Fintech,Internet of Things (IOT),'}, {'gitex_company_name': 'Fogsphere', 'gitex_website': 'https://fogsphere.com/', 'gitex_location': 'United Kingdom', 'gitex_sector': 'Smart Cities,Artificial Intelligence,Consumer Tech, Smart Home & Smart Workplace,HealthTech,Internet of Things (IOT),'}, {'gitex_company_name': 'FONRI', 'gitex_website': 'https://www.fonri.com', 'gitex_location': 'Türkiye', 'gitex_sector': ''}, {'gitex_company_name': 'Forcepoint', 'gitex_website': 'https://www.forcepoint.com/', 'gitex_location': 'Türkiye', 'gitex_sector': 'Cloud Services,Cyber security,'}, {'gitex_company_name': 'Forefront Technologies', 'gitex_website': 'https://www.forefrontec.com/about-us/', 'gitex_location': 'United Arab Emirates', 'gitex_sector': ''}, {'gitex_company_name': 'Forescout Technologies', 'gitex_website': 'https://www.forescout.com/', 'gitex_location': 'United Arab Emirates', 'gitex_sector': ''}, {'gitex_company_name': 'Fortinet Middle East', 'gitex_website': 'https://www.fortinet.com/', 'gitex_location': 'United Arab Emirates', 'gitex_sector': 'Cyber security,'}, {'gitex_company_name': 'Fortra', 'gitex_website': 'https://www.fortra.com/', 'gitex_location': 'United Kingdom', 'gitex_sector': 'Cyber security,'}, {'gitex_company_name': 'FORWARD TECHNOLOGY HK CO., LIMITED', 'gitex_website': 'http://.aubika.store', 'gitex_location': 'China', 'gitex_sector': 'Artificial Intelligence,Education Tech,Gaming,'}, {'gitex_company_name': 'FOX DATA TECH FZCO', 'gitex_website': 'https://foxdatatech.com', 'gitex_location': 'United Arab Emirates', 'gitex_sector': 'Cyber security,'}, {'gitex_company_name': 'Foxit Software', 'gitex_website': 'http://www.foxit.com', 'gitex_location': 'United States of America', 'gitex_sector': ''}, {'gitex_company_name': 'FPT Software Middle East', 'gitex_website': 'https://fptsoftware.com/', 'gitex_location': 'United Arab Emirates', 'gitex_sector': ''}, {'gitex_company_name': 'Freshworks Inc', 'gitex_website': 'https://www.freshworks.com/', 'gitex_location': 'India', 'gitex_sector': 'PropTech,Retail Tech,Cloud Services,Ecommerce,Media, Marketing & Advertising Tech,'}, {'gitex_company_name': 'Fujairah Adventures', 'gitex_website': 'https://fujairahadventurepark.ae/', 'gitex_location': 'United Arab Emirates', 'gitex_sector': ''}, {'gitex_company_name': 'Fujairah E-Government    حكومة الفجيرة الإلكترونية', 'gitex_website': 'https://fujairah.ae/ar/Pages/default.aspx', 'gitex_location': 'United Arab Emirates', 'gitex_sector': 'Networking & Infrastructure,Regulatory Technology,Software Services,Data Centres,'}, {'gitex_company_name': 'Fujairah Municipality', 'gitex_website': 'https://www.fujmun.gov.ae/', 'gitex_location': 'United Arab Emirates', 'gitex_sector': ''}, {'gitex_company_name': 'Fujairah Natural Resources Corporation', 'gitex_website': 'https://fnrc.gov.ae/portal/ar/index.aspx', 'gitex_location': 'United Arab Emirates', 'gitex_sector': 'Agnostic,'}, {'gitex_company_name': 'Fujairah Statistics Center', 'gitex_website': 'https://www.fscfuj.gov.ae/', 'gitex_location': 'United Arab Emirates', 'gitex_sector': 'Big Data & Analytics,Cloud Services,Coding and Development,'}, {'gitex_company_name': 'FUJIKURA LTD', 'gitex_website': 'https://www.fujikura.co.jp/eng/', 'gitex_location': 'Japan', 'gitex_sector': '5G & Telecommunications,AgriTech & FoodTech,Consumer Tech, Smart Home & Smart Workplace,Cyber security,Data Centres,'}, {'gitex_company_name': 'Fumo Communications ME FZ-LLC', 'gitex_website': 'https://fumocom.com/index.php', 'gitex_location': 'United Arab Emirates', 'gitex_sector': 'Networking & Infrastructure,5G & Telecommunications,Data Centres,'}, {'gitex_company_name': 'FVC', 'gitex_website': 'https://www.fvc.com/', 'gitex_location': 'United Arab Emirates', 'gitex_sector': ''}, {'gitex_company_name': 'G Forty Two General Trading LLC`', 'gitex_website': 'https://g42.ai', 'gitex_location': 'United Arab Emirates', 'gitex_sector': ''}, {'gitex_company_name': 'G&G Smart Technology (Guangzhou) Limited', 'gitex_website': 'http://www.ggsmartech.com', 'gitex_location': 'China', 'gitex_sector': 'Retail Tech,Smart Cities,3D Printing & Printing Services,Consumer Tech, Smart Home & Smart Workplace,Internet of Things (IOT),'}, {'gitex_company_name': 'Gamax - sharp approach', 'gitex_website': 'https://www.gamax.hu/en/', 'gitex_location': 'Hungary', 'gitex_sector': 'PropTech,Smart Cities,Software Services,'}, {'gitex_company_name': 'GameIN FZ LLE', 'gitex_website': 'https://gamein.ae/', 'gitex_location': 'United Arab Emirates', 'gitex_sector': 'Artificial Intelligence,Blockchain,Coding and Development,Gaming,Metaverse, Immersive Tech,'}, {'gitex_company_name': 'GCT', 'gitex_website': 'http://www.gctmea.com ; http://edimax-me.com ; http://ransnetmea.com;  https://hazenlabs.com/;  https://rileyscooters.com/;  https://www.kodi-tech.com/', 'gitex_location': 'United Arab Emirates', 'gitex_sector': 'Networking & Infrastructure,5G & Telecommunications,Consumer Tech, Smart Home & Smart Workplace,Cyber security,Data Centres,'}, {'gitex_company_name': 'Geekay Group', 'gitex_website': 'https://www.geekaygroupmea.com/', 'gitex_location': 'United Arab Emirates', 'gitex_sector': ''}, {'gitex_company_name': 'Gen2wave Co., Ltd.', 'gitex_website': 'https://www.gen2wave.com', 'gitex_location': 'Korea, Republic Of', 'gitex_sector': 'Mobile Accessories & Peripherals,5G & Telecommunications,Artificial Intelligence,Cyber security,Future Mobility & Transportation,'}, {'gitex_company_name': 'Genesys', 'gitex_website': 'https://www.genesys.com/en-gb', 'gitex_location': 'United Kingdom', 'gitex_sector': 'Retail Tech,Artificial Intelligence,Cloud Services,Ecommerce,Media, Marketing & Advertising Tech,'}, {'gitex_company_name': 'GET Group Holdings Ltd.', 'gitex_website': 'https://getgroup.com', 'gitex_location': 'United Arab Emirates', 'gitex_sector': 'Smart Cities,Software Services,Artificial Intelligence,Consumer Tech, Smart Home & Smart Workplace,Internet of Things (IOT),'}, {'gitex_company_name': 'Getac Technology Corporation', 'gitex_website': 'https://www.getac.com/', 'gitex_location': 'Taiwan (R.O.C.)', 'gitex_sector': 'Mobile Accessories & Peripherals,5G & Telecommunications,Consumer Tech, Smart Home & Smart Workplace,Future Mobility & Transportation,Internet of Things (IOT),'}, {'gitex_company_name': 'Getz Technology FZCO', 'gitex_website': 'https://mulphico.com', 'gitex_location': 'United Arab Emirates', 'gitex_sector': 'Mobile Accessories & Peripherals,Consumer Tech, Smart Home & Smart Workplace,'}, {'gitex_company_name': 'GITEX Global', 'gitex_website': 'https://www.google.com/', 'gitex_location': 'India', 'gitex_sector': '3D Printing & Printing Services,AgriTech & FoodTech,Artificial Intelligence,Big Data & Analytics,Blockchain,'}, {'gitex_company_name': 'GITEX Global Demo 2', 'gitex_website': 'https://www.dwtc.com/en/', 'gitex_location': 'United Arab Emirates', 'gitex_sector': '3D Printing & Printing Services,5G & Telecommunications,AgriTech & FoodTech,Cloud Services,'}, {'gitex_company_name': 'GLI Solutions', 'gitex_website': 'https://www.gli-solutions.com/en/home/', 'gitex_location': 'Hungary', 'gitex_sector': 'Smart Cities,Software Services,Sustainability & Green Tech,Big Data & Analytics,Internet of Things (IOT),'}, {'gitex_company_name': 'Globus IT', 'gitex_website': 'https://globus-it.com/tr', 'gitex_location': 'Türkiye', 'gitex_sector': ''}, {'gitex_company_name': 'Glooh', 'gitex_website': 'https://glooh.co', 'gitex_location': 'Belgium', 'gitex_sector': 'Retail Tech,Blockchain,Gaming,Media, Marketing & Advertising Tech,'}, {'gitex_company_name': 'GMO GlobalSign FZ-LLC', 'gitex_website': 'https://www.globalsign.com/en-ae', 'gitex_location': 'United Arab Emirates', 'gitex_sector': ''}, {'gitex_company_name': 'Gold Prime FZCO', 'gitex_website': 'https://www.gsmexchange.com/en/company/10acd4c0-719a-4925-95ff-2000c92b7513', 'gitex_location': 'United Arab Emirates', 'gitex_sector': '5G & Telecommunications,Big Data & Analytics,Blockchain,Cloud Services,Consumer Tech, Smart Home & Smart Workplace,'}, {'gitex_company_name': 'Good ID', 'gitex_website': 'https://goodid.net/en/', 'gitex_location': 'Hungary', 'gitex_sector': 'Retail Tech,Blockchain,Fintech,'}, {'gitex_company_name': 'GoTestPro', 'gitex_website': 'https://www.gotestpro.com/', 'gitex_location': 'Saudi Arabia', 'gitex_sector': ''}, {'gitex_company_name': 'GOUI', 'gitex_website': 'https://goui.com/', 'gitex_location': 'Saudi Arabia', 'gitex_sector': ''}, {'gitex_company_name': 'Grape Solutions', 'gitex_website': 'https://www.grape.solutions/', 'gitex_location': 'Hungary', 'gitex_sector': 'Quantum & High Performance Computing,AgriTech & FoodTech,Big Data & Analytics,Data Centres,Energy Tech,'}, {'gitex_company_name': 'Grayline Medical Pvt Ltd', 'gitex_website': 'https://www.graylinemedical.com/', 'gitex_location': 'India', 'gitex_sector': ''}, {'gitex_company_name': 'Graymatics-SG Pte Ltd', 'gitex_website': 'https://www.graymatics.com', 'gitex_location': 'Singapore', 'gitex_sector': 'Smart Cities,Artificial Intelligence,'}, {'gitex_company_name': 'Great Britain and Northern Ireland Pavilion', 'gitex_website': 'https://www.tradefair.co.uk/', 'gitex_location': 'United Kingdom', 'gitex_sector': '5G & Telecommunications,Internet of Things (IOT),'}, {'gitex_company_name': 'Grenton', 'gitex_website': 'https://www.grenton.com/', 'gitex_location': 'Poland', 'gitex_sector': 'Smart Cities,Consumer Tech, Smart Home & Smart Workplace,Energy Tech,Internet of Things (IOT),'}, {'gitex_company_name': 'Greyskies Inc', 'gitex_website': 'https://www.greyskiesinc.com/', 'gitex_location': 'Egypt', 'gitex_sector': ''}, {'gitex_company_name': 'GSAN', 'gitex_website': 'https://www.gsan.com/', 'gitex_location': 'China', 'gitex_sector': 'Retail Tech,Consumer Tech, Smart Home & Smart Workplace,Fintech,HealthTech,'}, {'gitex_company_name': 'GScan', 'gitex_website': 'http://gscan.eu', 'gitex_location': 'Estonia', 'gitex_sector': ''}, {'gitex_company_name': 'Guangdong Greenway Technology Co., Ltd.', 'gitex_website': 'https://www.greenway-battery.com/about.html', 'gitex_location': 'China', 'gitex_sector': 'Consumer Tech, Smart Home & Smart Workplace,'}, {'gitex_company_name': 'Guangdong Yutingxianfa Technology Co., Ltd.', 'gitex_website': 'http://www.yutingxianfa.com', 'gitex_location': 'China', 'gitex_sector': 'Consumer Tech, Smart Home & Smart Workplace,Fintech,'}, {'gitex_company_name': 'Guangzhou AiGather Intelligent Technology Co., Ltd.', 'gitex_website': 'http://www.aigather.com', 'gitex_location': 'China', 'gitex_sector': 'Retail Tech,Consumer Tech, Smart Home & Smart Workplace,Fintech,'}, {'gitex_company_name': 'Guangzhou Calk Digital Electronics Co. LTD', 'gitex_website': 'http://www.calkchina.com/col.jsp?id=101', 'gitex_location': 'China', 'gitex_sector': 'Mobile Accessories & Peripherals,'}, {'gitex_company_name': 'GUANGZHOU HAVIT TECHNOLOGY CO., LTD.', 'gitex_website': 'https://www.havit.hk/', 'gitex_location': 'China', 'gitex_sector': 'Mobile Accessories & Peripherals,Consumer Tech, Smart Home & Smart Workplace,'}, {'gitex_company_name': 'Guangzhou Kingslong Bag and Case Co. Ltd', 'gitex_website': 'https://www.kingslong.com/', 'gitex_location': 'China', 'gitex_sector': 'Mobile Accessories & Peripherals,Consumer Tech, Smart Home & Smart Workplace,Gaming,Metaverse, Immersive Tech,'}, {'gitex_company_name': 'Guangzhou Maxsun Information Technology Co., Ltd', 'gitex_website': 'https://www.teclast.com', 'gitex_location': 'China', 'gitex_sector': 'Consumer Tech, Smart Home & Smart Workplace,'}, {'gitex_company_name': 'Guangzhou Winson Information Technology Co., Ltd.', 'gitex_website': 'http://www.winsonchina.com', 'gitex_location': 'China', 'gitex_sector': 'Consumer Tech, Smart Home & Smart Workplace,'}, {'gitex_company_name': 'Gulf IT Network Distribution Fz LLC - AE', 'gitex_website': 'https://www.gulfitd.com/', 'gitex_location': 'United Arab Emirates', 'gitex_sector': ''}, {'gitex_company_name': 'Gupshup', 'gitex_website': 'https://www.gupshup.io/', 'gitex_location': 'India', 'gitex_sector': 'Artificial Intelligence,Cloud Services,Coding and Development,Consumer Tech, Smart Home & Smart Workplace,Data Centres,'}, {'gitex_company_name': 'H3C Technologies Co., Ltd', 'gitex_website': 'http://www.h3c.com', 'gitex_location': 'United Arab Emirates', 'gitex_sector': ''}, {'gitex_company_name': 'Haifa Wholesale LLC', 'gitex_website': 'http://haifawholesale.com', 'gitex_location': 'India', 'gitex_sector': ''}, {'gitex_company_name': 'Halian', 'gitex_website': 'https://www.halian.com/', 'gitex_location': 'United Arab Emirates', 'gitex_sector': 'Networking & Infrastructure,Blockchain,Cloud Services,Cyber security,Fintech,'}, {'gitex_company_name': 'Hanasis Co. Ltd.', 'gitex_website': 'https://www.hanasis.com/en/default.aspx', 'gitex_location': 'Korea, Republic Of', 'gitex_sector': 'Consumer Tech, Smart Home & Smart Workplace,'}, {'gitex_company_name': 'Hansa World UK Limited', 'gitex_website': 'https://www.hansaworld.com/en', 'gitex_location': 'United Arab Emirates', 'gitex_sector': 'Retail Tech,Cloud Services,Coding and Development,Education Tech,Fintech,'}, {'gitex_company_name': 'HANSON INFORMATION CO.,LIMITED', 'gitex_website': 'http://.azulostyle.com', 'gitex_location': 'China', 'gitex_sector': 'Mobile Accessories & Peripherals,Consumer Tech, Smart Home & Smart Workplace,'}, {'gitex_company_name': 'HASCELIK FIBER', 'gitex_website': 'https://www.hascelikfiber.com.t', 'gitex_location': 'Türkiye', 'gitex_sector': '5G & Telecommunications,Data Centres,'}, {'gitex_company_name': 'Hawsabah Company for IT', 'gitex_website': 'https://www.hawsabah.sa/', 'gitex_location': 'Saudi Arabia', 'gitex_sector': ''}, {'gitex_company_name': 'HEFEI TSD SMART TECHNOLOGY CO., LTD', 'gitex_website': 'http://www.hftsd.com/', 'gitex_location': 'China', 'gitex_sector': '5G & Telecommunications,Data Centres,Future Mobility & Transportation,'}, {'gitex_company_name': 'HELLO SPACE', 'gitex_website': 'http://hellospace.ist', 'gitex_location': 'Türkiye', 'gitex_sector': 'Smart Cities,Space Tech,5G & Telecommunications,AgriTech & FoodTech,Internet of Things (IOT),'}, {'gitex_company_name': 'Hema Holding', 'gitex_website': 'http://www.hattatregis.com.tr/', 'gitex_location': 'Türkiye', 'gitex_sector': 'Consumer Tech, Smart Home & Smart Workplace,'}, {'gitex_company_name': 'HEPA Hungarian Export Promotion Agency', 'gitex_website': 'https://www.hepa.hu/en', 'gitex_location': 'Hungary', 'gitex_sector': ''}, {'gitex_company_name': 'Hewlett-Packard Middle East FZ-LLC', 'gitex_website': 'https://www.hpe.com/ae/en/home.html', 'gitex_location': 'United Arab Emirates', 'gitex_sector': ''}, {'gitex_company_name': 'Hexnode', 'gitex_website': 'https://www.hexnode.com/', 'gitex_location': 'United States of America', 'gitex_sector': 'Retail Tech,Software Services,Cloud Services,Cyber security,HealthTech,'}, {'gitex_company_name': 'HID', 'gitex_website': 'https://hidglobal.com', 'gitex_location': 'United States of America', 'gitex_sector': ''}, {'gitex_company_name': 'Hill Sound Digital Products Ltd', 'gitex_website': 'http://www.hillsound.com.hk/index.php', 'gitex_location': 'Hong Kong Special Administrative Region', 'gitex_sector': 'Blockchain,Coding and Development,Consumer Tech, Smart Home & Smart Workplace,HealthTech,Media, Marketing & Advertising Tech,'}, {'gitex_company_name': 'Hillstone Networks', 'gitex_website': 'https://www.hillstonenet.com/', 'gitex_location': 'Singapore', 'gitex_sector': 'Cyber security,'}, {'gitex_company_name': 'Hisense Middle East FZE', 'gitex_website': 'https://hisenseme.com/', 'gitex_location': 'United Arab Emirates', 'gitex_sector': 'Consumer Tech, Smart Home & Smart Workplace,'}, {'gitex_company_name': 'Hitachi Terminal Solutions Korea Co., Ltd', 'gitex_website': 'http://www.hitachi-tsol.co.kr', 'gitex_location': 'Korea, Republic Of', 'gitex_sector': 'Retail Tech,Consumer Tech, Smart Home & Smart Workplace,Cyber security,Education Tech,Fintech,'}, {'gitex_company_name': 'Hiteshi Infotech Private Limited', 'gitex_website': 'https://www.hiteshi.com/', 'gitex_location': 'India', 'gitex_sector': 'Software Services,Coding and Development,Ecommerce,Fintech,Internet of Things (IOT),'}, {'gitex_company_name': 'HK FAN RUI XIN ELECTRONIC TECHNOLOGY CO.,LIMITED', 'gitex_website': 'http://www.faruix.com', 'gitex_location': 'China', 'gitex_sector': 'Consumer Tech, Smart Home & Smart Workplace,'}, {'gitex_company_name': 'HoduSoft', 'gitex_website': 'https://hodusoft.com/', 'gitex_location': 'India', 'gitex_sector': '5G & Telecommunications,Cloud Services,Data Centres,Ecommerce,Fintech,'}, {'gitex_company_name': 'Honeywell', 'gitex_website': 'https://honeywellconnection.com/mea/', 'gitex_location': 'United Arab Emirates', 'gitex_sector': 'Mobile Accessories & Peripherals,Networking & Infrastructure,Smart Cities,Consumer Tech, Smart Home & Smart Workplace,Data Centres,'}, {'gitex_company_name': 'Honeywell Middle East', 'gitex_website': 'https://www.honeywell.com/us/en', 'gitex_location': 'United Arab Emirates', 'gitex_sector': 'Retail Tech,Consumer Tech, Smart Home & Smart Workplace,Ecommerce,Future Mobility & Transportation,HealthTech,'}, {'gitex_company_name': 'HONG KONG MYIYAE TRADE CO, LIMITED', 'gitex_website': 'http://cn.myiya-battery.com', 'gitex_location': 'China', 'gitex_sector': 'AgriTech & FoodTech,Data Centres,'}, {'gitex_company_name': 'Hongan Group Corporation Limited', 'gitex_website': 'https://www.hongan-group.com.cn/', 'gitex_location': 'China', 'gitex_sector': 'Smart Cities,5G & Telecommunications,Data Centres,Future Mobility & Transportation,'}, {'gitex_company_name': 'Hongkong Junrong International Industrial Co., Ltd', 'gitex_website': 'https://www.posjun.com', 'gitex_location': 'Hong Kong Special Administrative Region', 'gitex_sector': ''}, {'gitex_company_name': 'HostBooks Ltd', 'gitex_website': 'https://www.hostbooks.com/in/', 'gitex_location': 'India', 'gitex_sector': 'PropTech,Smart Cities,Software Services,Cloud Services,Fintech,'}, {'gitex_company_name': 'HoverUp', 'gitex_website': 'http://hoverup.com', 'gitex_location': 'Jordan', 'gitex_sector': 'PropTech,Unmanned Aerial Vehicles (Drones),AgriTech & FoodTech,'}, {'gitex_company_name': 'HP Computing and Printing Middle East FZ-LLC', 'gitex_website': 'https://www.hp.com', 'gitex_location': 'United Arab Emirates', 'gitex_sector': 'Smart Cities,Sustainability & Green Tech,Consumer Tech, Smart Home & Smart Workplace,Cyber security,Education Tech,'}, {'gitex_company_name': 'Hsing Chau Industrial Co. Ltd.', 'gitex_website': 'https://www.hci.com.tw/', 'gitex_location': 'Taiwan Province of China', 'gitex_sector': 'Smart Cities,Data Centres,'}, {'gitex_company_name': 'HUANHU TECHNOLOGY CO.,LTD.', 'gitex_website': 'http://www.dualbandonu.com', 'gitex_location': 'China', 'gitex_sector': '5G & Telecommunications,Blockchain,Consumer Tech, Smart Home & Smart Workplace,Fintech,'}, {'gitex_company_name': 'Huawei Tech (UAE) FZ LLC', 'gitex_website': 'https://e.huawei.com/ae/', 'gitex_location': 'United Arab Emirates', 'gitex_sector': '5G & Telecommunications,Artificial Intelligence,Cloud Services,Cyber security,Data Centres,'}, {'gitex_company_name': 'HUBX', 'gitex_website': 'http://www.hubx.com', 'gitex_location': 'United States of America', 'gitex_sector': ''}, {'gitex_company_name': 'Huizhou Fibercan Industrial Co., Ltd', 'gitex_website': 'https://www.fibercansolution.com/', 'gitex_location': 'China', 'gitex_sector': '3D Printing & Printing Services,5G & Telecommunications,Consumer Tech, Smart Home & Smart Workplace,Data Centres,Future Mobility & Transportation,'}, {'gitex_company_name': 'HUNAN DLSUM TECHNOLOGY CO., LTD.', 'gitex_website': 'https://www.dlsum.com/', 'gitex_location': 'China', 'gitex_sector': 'Retail Tech,Consumer Tech, Smart Home & Smart Workplace,'}, {'gitex_company_name': 'Hunan Masung Information Technology Co., Ltd', 'gitex_website': 'https://www.masung.group/', 'gitex_location': 'China', 'gitex_sector': 'Retail Tech,Software Services,AgriTech & FoodTech,Consumer Tech, Smart Home & Smart Workplace,Ecommerce,'}, {'gitex_company_name': 'Hyperlink Infosystem Private Limited', 'gitex_website': 'https://www.hyperlinkinfosystem.com/', 'gitex_location': 'India', 'gitex_sector': 'Quantum & High Performance Computing,Artificial Intelligence,Blockchain,Coding and Development,Internet of Things (IOT),'}, {'gitex_company_name': 'Hytera Communications Corporation Limited', 'gitex_website': 'https://www.hytera.ae', 'gitex_location': 'United Arab Emirates', 'gitex_sector': 'Networking & Infrastructure,5G & Telecommunications,Consumer Tech, Smart Home & Smart Workplace,Cyber security,'}, {'gitex_company_name': 'Hyundai MIB International Co., Ltd', 'gitex_website': 'https://www.hyundaimib.com/', 'gitex_location': 'Korea, Republic Of', 'gitex_sector': 'Smart Cities,Fintech,'}, {'gitex_company_name': 'Hyvision Technology LLC', 'gitex_website': 'https://hyvisionuae.com', 'gitex_location': 'United Arab Emirates', 'gitex_sector': ''}, {'gitex_company_name': 'i-TEK RFID', 'gitex_website': 'https://www.infoteksoftware.com/', 'gitex_location': 'India', 'gitex_sector': 'Big Data & Analytics,Consumer Tech, Smart Home & Smart Workplace,Ecommerce,Future Mobility & Transportation,'}, {'gitex_company_name': 'i3i Distribution FZCO', 'gitex_website': 'https://i3idistribution.ae', 'gitex_location': 'United Arab Emirates', 'gitex_sector': 'Consumer Tech, Smart Home & Smart Workplace,'}, {'gitex_company_name': 'IamLogic - Identity And Access Management', 'gitex_website': 'https://iamlogic.com', 'gitex_location': 'India', 'gitex_sector': 'Big Data & Analytics,Blockchain,Fintech,'}, {'gitex_company_name': 'IAORA Technologies', 'gitex_website': 'https://iaora.com/', 'gitex_location': 'United Arab Emirates', 'gitex_sector': ''}, {'gitex_company_name': 'IBIK Software OU', 'gitex_website': 'https://ibiksoft.com', 'gitex_location': 'Estonia', 'gitex_sector': 'Software Services,Sustainability & Green Tech,Cloud Services,'}, {'gitex_company_name': 'IBM', 'gitex_website': 'https://www.ibm.com/us-en', 'gitex_location': 'United Arab Emirates', 'gitex_sector': 'Sustainability & Green Tech,Artificial Intelligence,Big Data & Analytics,Cloud Services,Cyber security,'}, {'gitex_company_name': 'iBuy.com', 'gitex_website': 'https://ibuy.com/', 'gitex_location': 'United States of America', 'gitex_sector': ''}, {'gitex_company_name': 'IceWarp', 'gitex_website': 'https://www.icewarp.com/', 'gitex_location': 'India', 'gitex_sector': 'Cloud Services,'}, {'gitex_company_name': 'ID Quantique', 'gitex_website': 'https://www.idquantique.com/', 'gitex_location': 'Switzerland', 'gitex_sector': ''}, {'gitex_company_name': 'ID Vision Trading LLC', 'gitex_website': 'https://www.idvisionme.com/', 'gitex_location': 'United Arab Emirates', 'gitex_sector': 'Software Services,Internet of Things (IOT),'}, {'gitex_company_name': 'iEPM', 'gitex_website': 'http://iepm.sa/', 'gitex_location': 'Saudi Arabia', 'gitex_sector': 'Software Services,Cloud Services,'}, {'gitex_company_name': 'iFACE TECHNOLOGIES', 'gitex_website': 'https://www.ifacemirror.com/', 'gitex_location': 'Hungary', 'gitex_sector': ''}, {'gitex_company_name': 'IFS assyst', 'gitex_website': 'https://assyst.ifs.com', 'gitex_location': 'United Arab Emirates', 'gitex_sector': ''}, {'gitex_company_name': 'Ikotek', 'gitex_website': 'https://www.ikotek.com', 'gitex_location': 'United States of America', 'gitex_sector': ''}, {'gitex_company_name': 'ilger.com S.r.l.', 'gitex_website': 'https://www.ilger.ae', 'gitex_location': 'United Arab Emirates', 'gitex_sector': 'Cloud Services,'}, {'gitex_company_name': 'Illumio', 'gitex_website': 'https://www.illumio.com/', 'gitex_location': 'United States of America', 'gitex_sector': ''}, {'gitex_company_name': 'ILOVEPDF SL', 'gitex_website': 'https://www.ilovepdf.com', 'gitex_location': 'Spain', 'gitex_sector': 'Software Services,Cloud Services,Education Tech,'}, {'gitex_company_name': 'Imcopex GmbH', 'gitex_website': 'https://www.imcopex.com', 'gitex_location': 'Germany', 'gitex_sector': 'Consumer Tech, Smart Home & Smart Workplace,'}, {'gitex_company_name': 'iMin Technology Pte Ltd.', 'gitex_website': 'https://www.imin.sg/en/', 'gitex_location': 'Singapore', 'gitex_sector': 'Retail Tech,Software Services,Internet of Things (IOT),'}, {'gitex_company_name': 'Improsys Technologies', 'gitex_website': 'https://www.improsys.in', 'gitex_location': 'India', 'gitex_sector': 'Software Services,3D Printing & Printing Services,Artificial Intelligence,Cloud Services,Consumer Tech, Smart Home & Smart Workplace,'}, {'gitex_company_name': 'INCUBE FZCO', 'gitex_website': 'https://e-incube.com/', 'gitex_location': 'Jordan', 'gitex_sector': 'Artificial Intelligence,Blockchain,Coding and Development,Consumer Tech, Smart Home & Smart Workplace,HealthTech,'}, {'gitex_company_name': 'INDEED IDENTITY SOFTWARE DMCC', 'gitex_website': 'https://indeed-id.com/', 'gitex_location': 'Singapore', 'gitex_sector': ''}, {'gitex_company_name': 'INDOVISION', 'gitex_website': 'https://www.indovisionglobal.com/', 'gitex_location': 'India', 'gitex_sector': 'Networking & Infrastructure,5G & Telecommunications,Cloud Services,Data Centres,Education Tech,'}, {'gitex_company_name': 'Infinite Clouds WLL', 'gitex_website': 'https://www.infiniteclouds.com', 'gitex_location': 'Bahrain', 'gitex_sector': ''}, {'gitex_company_name': 'Inflectra Corporation', 'gitex_website': 'https://www.inflectra.com/?utm_source=GitexAd&utm_medium=website&utm_campaign=Gitex23', 'gitex_location': 'United States of America', 'gitex_sector': 'Coding and Development,Consumer Tech, Smart Home & Smart Workplace,Energy Tech,Fintech,HealthTech,'}, {'gitex_company_name': 'Infoicon Technologies Pvt Ltd', 'gitex_website': 'https://infoicontechnologies.com', 'gitex_location': 'India', 'gitex_sector': 'Retail Tech,Smart Cities,Software Services,Future Mobility & Transportation,Internet of Things (IOT),'}, {'gitex_company_name': 'Information Technology Solutions - ITS', 'gitex_website': 'https://www.egypt-its.com/', 'gitex_location': 'Egypt', 'gitex_sector': 'Cyber security,'}, {'gitex_company_name': 'InfoSalon SSOTest Banner Name', 'gitex_website': 'https://www.xporience.com', 'gitex_location': 'India', 'gitex_sector': '3D Printing & Printing Services,5G & Telecommunications,AgriTech & FoodTech,Artificial Intelligence,Big Data & Analytics,'}, {'gitex_company_name': 'Infosysta DWC-LLC', 'gitex_website': 'https://infosysta.com/', 'gitex_location': 'United Arab Emirates', 'gitex_sector': ''}, {'gitex_company_name': 'Ingram Micro', 'gitex_website': 'https://ingrammicrogulf.com/', 'gitex_location': 'United Arab Emirates', 'gitex_sector': ''}, {'gitex_company_name': 'Ingram Micro - AE', 'gitex_website': 'https://ae.ingrammicro.com/', 'gitex_location': 'United Arab Emirates', 'gitex_sector': '3D Printing & Printing Services,Artificial Intelligence,Cloud Services,Cyber security,Data Centres,'}, {'gitex_company_name': 'Injazat Data Systems', 'gitex_website': 'http://Injazat.com', 'gitex_location': 'United Arab Emirates', 'gitex_sector': 'Artificial Intelligence,Blockchain,Cloud Services,Cyber security,Data Centres,'}, {'gitex_company_name': 'inMalta', 'gitex_website': 'https://tech.mt/inmalta/', 'gitex_location': 'Malta', 'gitex_sector': ''}, {'gitex_company_name': 'INNO INSTRUMENT', 'gitex_website': 'https://innoinstrument.com', 'gitex_location': 'United Kingdom', 'gitex_sector': ''}, {'gitex_company_name': 'INNO3D', 'gitex_website': 'https://www.inno3d.com/en/index', 'gitex_location': 'Hong Kong Special Administrative Region', 'gitex_sector': 'Coding and Development,Consumer Tech, Smart Home & Smart Workplace,'}, {'gitex_company_name': 'Innoptical Networks Co. Ltd.', 'gitex_website': 'https://innoptical.com', 'gitex_location': 'China', 'gitex_sector': 'Data Centres,5G & Telecommunications,'}, {'gitex_company_name': 'Innovo General Trading LLC', 'gitex_website': 'http://www.innovo.ae/', 'gitex_location': 'United Arab Emirates', 'gitex_sector': ''}, {'gitex_company_name': 'INSIGHT MEDIA & PUBLISHING LLC', 'gitex_website': 'https://cxoinsightme.com', 'gitex_location': 'United Arab Emirates', 'gitex_sector': ''}, {'gitex_company_name': 'Inspower Co., Ltd.', 'gitex_website': 'http://inspower.co.kr/', 'gitex_location': 'Korea, Republic Of', 'gitex_sector': '5G & Telecommunications,Future Mobility & Transportation,'}, {'gitex_company_name': 'intella', 'gitex_website': 'http://intellaworld.com', 'gitex_location': 'Egypt', 'gitex_sector': 'Artificial Intelligence,Big Data & Analytics,'}, {'gitex_company_name': 'INTELLYA', 'gitex_website': 'https://intellya.ai/', 'gitex_location': 'Serbia', 'gitex_sector': 'Software Services,Artificial Intelligence,Big Data & Analytics,Fintech,'}, {'gitex_company_name': 'Inventia Technology Consultants PVT LTD', 'gitex_website': 'https://www.inventia.in/', 'gitex_location': 'India', 'gitex_sector': 'Smart Cities,Software Services,Cloud Services,Coding and Development,Energy Tech,'}, {'gitex_company_name': 'Invest Moldova', 'gitex_website': 'https://www.invest.gov.md/', 'gitex_location': 'Moldova', 'gitex_sector': 'Big Data & Analytics,Cloud Services,Coding and Development,Consumer Tech, Smart Home & Smart Workplace,Gaming,'}, {'gitex_company_name': 'Investment and Development Agency of Latvia (LIAA)', 'gitex_website': 'https://www.liaa.gov.lv/en', 'gitex_location': 'Latvia', 'gitex_sector': ''}, {'gitex_company_name': 'Invo Pos Technologies WLL', 'gitex_website': 'https://www.invopos.com/', 'gitex_location': 'Bahrain', 'gitex_sector': 'Software Services,Consumer Tech, Smart Home & Smart Workplace,Ecommerce,Fintech,Media, Marketing & Advertising Tech,'}, {'gitex_company_name': 'IP Technology Labs, LLC', 'gitex_website': 'https://IpTechLabs.com', 'gitex_location': 'United States of America', 'gitex_sector': 'Networking & Infrastructure,5G & Telecommunications,Cloud Services,Cyber security,Data Centres,'}, {'gitex_company_name': 'ISB', 'gitex_website': 'http://www.isb.sa', 'gitex_location': 'Saudi Arabia', 'gitex_sector': ''}, {'gitex_company_name': 'IT.DOT / INFOPIX', 'gitex_website': 'https://www.itdot.eu', 'gitex_location': 'Hungary', 'gitex_sector': 'Smart Cities,Future Mobility & Transportation,Internet of Things (IOT),'}, {'gitex_company_name': 'ITC', 'gitex_website': 'https://intracen.org/', 'gitex_location': 'Switzerland', 'gitex_sector': 'Artificial Intelligence,Big Data & Analytics,Blockchain,Cloud Services,Agnostic,'}, {'gitex_company_name': \"ITCN Asia - Pakistan's Biggest IT & Telecom Show\", 'gitex_website': 'http://itcnasia.com', 'gitex_location': 'Pakistan', 'gitex_sector': 'Consumer Tech, Smart Home & Smart Workplace,Cyber security,Ecommerce,Fintech,Media, Marketing & Advertising Tech,'}, {'gitex_company_name': 'IWEN INTERNATIONAL (HK) LIMITED', 'gitex_website': 'http://www.ekrchina.com', 'gitex_location': 'China', 'gitex_sector': 'Mobile Accessories & Peripherals,5G & Telecommunications,Consumer Tech, Smart Home & Smart Workplace,'}, {'gitex_company_name': 'Jabal Al Rayan Trading L.L.C', 'gitex_website': 'https://jartechme.com', 'gitex_location': 'United Arab Emirates', 'gitex_sector': '3D Printing & Printing Services,Big Data & Analytics,Consumer Tech, Smart Home & Smart Workplace,Ecommerce,Energy Tech,'}, {'gitex_company_name': 'Jabra', 'gitex_website': 'https://www.jabra.com/', 'gitex_location': 'United Arab Emirates', 'gitex_sector': '5G & Telecommunications,Artificial Intelligence,Big Data & Analytics,Blockchain,Cloud Services,'}, {'gitex_company_name': 'Jackys Business Solutions LLC', 'gitex_website': 'https://www.jackys.com', 'gitex_location': 'United Arab Emirates', 'gitex_sector': 'Networking & Infrastructure,Software Services,Education Tech,Future Mobility & Transportation,'}, {'gitex_company_name': 'JAMAICA TRADING CO LLC', 'gitex_website': 'https://www.jamaica-trading.com', 'gitex_location': 'United Arab Emirates', 'gitex_sector': ''}, {'gitex_company_name': 'Jazeera Paints Company', 'gitex_website': 'https://jazeerapaints.com/saudi-en/', 'gitex_location': 'Saudi Arabia', 'gitex_sector': 'Retail Tech,Artificial Intelligence,Big Data & Analytics,Ecommerce,Metaverse, Immersive Tech,'}, {'gitex_company_name': 'Jimi IoT Co., Ltd.', 'gitex_website': 'http://www.jimilab.com', 'gitex_location': 'China', 'gitex_sector': 'Consumer Tech, Smart Home & Smart Workplace,Future Mobility & Transportation,Internet of Things (IOT),'}, {'gitex_company_name': 'JNS MEDIA International MFZE', 'gitex_website': 'https://varonline.com/', 'gitex_location': 'United Arab Emirates', 'gitex_sector': ''}, {'gitex_company_name': 'Joseph Digital Solutions L.L.C', 'gitex_website': 'https://www.josephgroup.ae/', 'gitex_location': 'United Arab Emirates', 'gitex_sector': ''}, {'gitex_company_name': 'Juniper Networks', 'gitex_website': 'https://www.juniper.net/', 'gitex_location': 'United Arab Emirates', 'gitex_sector': ''}, {'gitex_company_name': 'JUNO SOFTWARE', 'gitex_website': 'https://www.juno-software.com/', 'gitex_location': 'Romania', 'gitex_sector': 'Networking & Infrastructure,5G & Telecommunications,Coding and Development,Cyber security,'}, {'gitex_company_name': 'Jupiter Systems - US', 'gitex_website': 'https://jupiter.com', 'gitex_location': 'United States of America', 'gitex_sector': 'Agnostic,'}, {'gitex_company_name': 'KAISPE', 'gitex_website': 'https://www.kaispe.com/', 'gitex_location': 'Pakistan', 'gitex_sector': ''}, {'gitex_company_name': 'Kanone Technologies Private Limited', 'gitex_website': 'https://kanone.in', 'gitex_location': 'India', 'gitex_sector': 'Mobile Accessories & Peripherals,Consumer Tech, Smart Home & Smart Workplace,'}, {'gitex_company_name': 'Kaspersky', 'gitex_website': 'https://me-en.kaspersky.com/', 'gitex_location': 'United Arab Emirates', 'gitex_sector': ''}, {'gitex_company_name': 'KDLAB INC.', 'gitex_website': 'https://www.araree.com', 'gitex_location': 'Korea, Republic Of', 'gitex_sector': ''}, {'gitex_company_name': 'KeeTouch Co., Ltd.', 'gitex_website': 'https://www.keetouch.com', 'gitex_location': 'China', 'gitex_sector': 'Retail Tech,Artificial Intelligence,Consumer Tech, Smart Home & Smart Workplace,Education Tech,Gaming,'}, {'gitex_company_name': 'King Abdullah University of Science & Technology (KAUST)', 'gitex_website': 'https://www.kaust.edu.sa/en/', 'gitex_location': 'Saudi Arabia', 'gitex_sector': ''}, {'gitex_company_name': 'Kingdom Group FZCO', 'gitex_website': 'https://kingdomgroup-uae.com/', 'gitex_location': 'United Arab Emirates', 'gitex_sector': '5G & Telecommunications,Consumer Tech, Smart Home & Smart Workplace,'}, {'gitex_company_name': 'Kingspower Technology Co., Limited', 'gitex_website': 'http://www.corumway.com', 'gitex_location': 'China', 'gitex_sector': 'Sustainability & Green Tech,Energy Tech,Future Mobility & Transportation,'}, {'gitex_company_name': 'KISAN Electronics', 'gitex_website': 'http://WWW.KISANE.COM', 'gitex_location': 'Korea, Republic Of', 'gitex_sector': 'Fintech,Retail Tech,'}, {'gitex_company_name': 'KnowBe4', 'gitex_website': 'https://www.knowbe4.com/', 'gitex_location': 'United Arab Emirates', 'gitex_sector': 'Cyber security,'}, {'gitex_company_name': 'KODAK', 'gitex_website': 'https://www.kodak.com/en/consumer/home', 'gitex_location': 'United Kingdom', 'gitex_sector': ''}, {'gitex_company_name': 'Korea G-Valley', 'gitex_website': 'https://www.guro.go.kr/eng/index.do', 'gitex_location': 'Korea, Republic Of', 'gitex_sector': 'Smart Cities,5G & Telecommunications,Cyber security,Internet of Things (IOT),'}, {'gitex_company_name': 'Korea ICT Association (KICTA)', 'gitex_website': 'https://www.koreaict.kr', 'gitex_location': 'Korea, Republic Of', 'gitex_sector': 'Artificial Intelligence,Blockchain,Gaming,HealthTech,'}, {'gitex_company_name': 'KOTRA / KITRI', 'gitex_website': 'http://www.kotra.or.kr', 'gitex_location': 'Korea, Republic Of', 'gitex_sector': '3D Printing & Printing Services,'}, {'gitex_company_name': 'Kron Technologies', 'gitex_website': 'https://krontech.com/', 'gitex_location': 'Türkiye', 'gitex_sector': 'Networking & Infrastructure,5G & Telecommunications,Big Data & Analytics,Cloud Services,Cyber security,'}, {'gitex_company_name': 'KrypC Technologies Pvt Ltd', 'gitex_website': 'https://krypc.com/', 'gitex_location': 'India', 'gitex_sector': ''}, {'gitex_company_name': 'KYURIUS TECH STUDIOS PVT LTD', 'gitex_website': 'https://kyurius.tech/', 'gitex_location': 'India', 'gitex_sector': 'Software Services,Artificial Intelligence,Coding and Development,Education Tech,Gaming,'}, {'gitex_company_name': 'LAIFEN', 'gitex_website': 'https://www.laifentech.com/', 'gitex_location': 'China', 'gitex_sector': 'Consumer Tech, Smart Home & Smart Workplace,'}, {'gitex_company_name': 'Lanao Communication Technology Limited', 'gitex_website': 'http://www.lanaotek.com', 'gitex_location': 'China', 'gitex_sector': '5G & Telecommunications,AgriTech & FoodTech,Big Data & Analytics,Cyber security,Internet of Things (IOT),'}, {'gitex_company_name': 'Laserfiche International Ltd.', 'gitex_website': 'https://www.laserfiche.com/', 'gitex_location': 'United States of America', 'gitex_sector': 'Smart Cities,Software Services,Fintech,HealthTech,Internet of Things (IOT),'}, {'gitex_company_name': 'LeadSquared', 'gitex_website': 'https://www.leadsquared.com', 'gitex_location': 'India', 'gitex_sector': 'Cloud Services,Media, Marketing & Advertising Tech,'}, {'gitex_company_name': 'LEAN DIGITAL', 'gitex_website': 'https://leandigital.eu/', 'gitex_location': 'Estonia', 'gitex_sector': 'PropTech,Software Services,3D Printing & Printing Services,Cloud Services,Data Centres,'}, {'gitex_company_name': 'Legend Mostaqbal FZ-LLC', 'gitex_website': 'https://www.edgenext.com', 'gitex_location': 'United States of America', 'gitex_sector': 'Cloud Services,'}, {'gitex_company_name': 'Lenovo', 'gitex_website': 'http://www.lenovo.com', 'gitex_location': 'Netherlands', 'gitex_sector': ''}, {'gitex_company_name': 'LetinAR', 'gitex_website': 'https://letinar.com', 'gitex_location': 'Korea, Republic Of', 'gitex_sector': 'Mobile Accessories & Peripherals,5G & Telecommunications,Metaverse, Immersive Tech,'}, {'gitex_company_name': 'LEVITA', 'gitex_website': 'https://levita-magic.com/', 'gitex_location': 'Belgium', 'gitex_sector': ''}, {'gitex_company_name': 'Liferay Middle East FZ LLC', 'gitex_website': 'https://www.liferay.com/', 'gitex_location': 'United Arab Emirates', 'gitex_sector': 'Software Services,Cloud Services,Coding and Development,Ecommerce,'}, {'gitex_company_name': 'LifeSmart', 'gitex_website': 'https://iot.ilifesmart.com/', 'gitex_location': 'China', 'gitex_sector': 'Smart Cities,Cyber security,Internet of Things (IOT),Metaverse, Immersive Tech,'}, {'gitex_company_name': 'Lime Concepts General Trading LLC', 'gitex_website': 'https://www.limeconcepts.ae', 'gitex_location': 'United Arab Emirates', 'gitex_sector': 'Mobile Accessories & Peripherals,Consumer Tech, Smart Home & Smart Workplace,Ecommerce,Internet of Things (IOT),'}, {'gitex_company_name': 'LinkShadow', 'gitex_website': 'https://www.linkshadow.com', 'gitex_location': 'United Arab Emirates', 'gitex_sector': 'Networking & Infrastructure,Artificial Intelligence,Big Data & Analytics,Cyber security,'}, {'gitex_company_name': 'Linoya Electronic Technology Co Ltd', 'gitex_website': 'http://www.linoyagroup.com', 'gitex_location': 'China', 'gitex_sector': '5G & Telecommunications,Consumer Tech, Smart Home & Smart Workplace,'}, {'gitex_company_name': 'Livaatverse', 'gitex_website': 'https://www.livaatverse.com', 'gitex_location': 'United Arab Emirates', 'gitex_sector': 'Quantum & High Performance Computing,Blockchain,Coding and Development,Media, Marketing & Advertising Tech,Metaverse, Immersive Tech,'}, {'gitex_company_name': 'LIVE ADMINS DMCC', 'gitex_website': 'https://www.LiveAdmins.com', 'gitex_location': 'United Arab Emirates', 'gitex_sector': 'Artificial Intelligence,Cloud Services,Data Centres,Ecommerce,Education Tech,'}, {'gitex_company_name': 'LOGIC', 'gitex_website': 'https://www.logicav.in', 'gitex_location': 'India', 'gitex_sector': 'Retail Tech,Smart Cities,Education Tech,'}, {'gitex_company_name': 'Logicom Distribution', 'gitex_website': 'https://www.logicom.net/', 'gitex_location': 'United Arab Emirates', 'gitex_sector': 'Networking & Infrastructure,Smart Cities,Software Services,Internet of Things (IOT),'}, {'gitex_company_name': 'Logitech', 'gitex_website': 'https://www.logitech.com/en-eu/business.html', 'gitex_location': 'United Arab Emirates', 'gitex_sector': ''}, {'gitex_company_name': 'Longfly Tech. (Guangdong) Co., Ltd.', 'gitex_website': 'http://www.longfly.cc', 'gitex_location': 'China', 'gitex_sector': 'Retail Tech,'}, {'gitex_company_name': 'Loni.ai', 'gitex_website': 'https://loni.ai/', 'gitex_location': 'United States of America', 'gitex_sector': 'Networking & Infrastructure,5G & Telecommunications,Artificial Intelligence,Data Centres,Internet of Things (IOT),'}, {'gitex_company_name': 'Lotus innovation', 'gitex_website': 'http://lotus-itech.com', 'gitex_location': 'Iran', 'gitex_sector': '3D Printing & Printing Services,Artificial Intelligence,Education Tech,Gaming,Internet of Things (IOT),'}, {'gitex_company_name': 'Lotus Pacific Technologies Inc', 'gitex_website': 'https://www.LotusTek.com', 'gitex_location': 'United States of America', 'gitex_sector': 'AgriTech & FoodTech,Artificial Intelligence,Big Data & Analytics,Cloud Services,Internet of Things (IOT),'}, {'gitex_company_name': 'Lucerne University of Applied Sciences and Arts', 'gitex_website': 'https://www.hslu.ch/en/', 'gitex_location': 'Switzerland', 'gitex_sector': ''}, {'gitex_company_name': 'LUWILL TECHNOLOGY CO.', 'gitex_website': 'https://www.luwill.com.tw/', 'gitex_location': 'Taiwan (R.O.C.)', 'gitex_sector': '5G & Telecommunications,AgriTech & FoodTech,Big Data & Analytics,Blockchain,Consumer Tech, Smart Home & Smart Workplace,'}, {'gitex_company_name': 'LWCOM', 'gitex_website': 'https://lwcom.ae', 'gitex_location': 'United Arab Emirates', 'gitex_sector': 'Agnostic,'}, {'gitex_company_name': 'Magic Leap, Inc.', 'gitex_website': 'https://www.magicleap.com/en-us/', 'gitex_location': 'United States of America', 'gitex_sector': 'Blockchain,Coding and Development,Consumer Tech, Smart Home & Smart Workplace,Data Centres,Future Mobility & Transportation,'}, {'gitex_company_name': 'Magnus Infotech Trading LLC', 'gitex_website': 'https://www.magnusgulf.com/', 'gitex_location': 'United Arab Emirates', 'gitex_sector': ''}, {'gitex_company_name': 'MAHC', 'gitex_website': 'http://mahc-tech.com/', 'gitex_location': 'Iran', 'gitex_sector': '3D Printing & Printing Services,Media, Marketing & Advertising Tech,'}, {'gitex_company_name': 'Malopolska Regional Development Agency', 'gitex_website': 'https://www.marr.pl/en/', 'gitex_location': 'Poland', 'gitex_sector': ''}, {'gitex_company_name': 'ManageEngine', 'gitex_website': 'https://www.manageengine.com/', 'gitex_location': 'India', 'gitex_sector': ''}, {'gitex_company_name': 'Mango IT Solutions', 'gitex_website': 'https://www.mangoitsolutions.com/', 'gitex_location': 'India', 'gitex_sector': 'Software Services,Coding and Development,Ecommerce,Education Tech,Media, Marketing & Advertising Tech,'}, {'gitex_company_name': 'Manli Technology Group Limited', 'gitex_website': 'https://manli.com/en/', 'gitex_location': 'Taiwan (R.O.C.)', 'gitex_sector': 'Artificial Intelligence,Big Data & Analytics,Gaming,Media, Marketing & Advertising Tech,Metaverse, Immersive Tech,'}, {'gitex_company_name': 'Mannapov LLC', 'gitex_website': 'https://mannapovllc.com/', 'gitex_location': 'United States of America', 'gitex_sector': ''}, {'gitex_company_name': 'MANUS', 'gitex_website': 'https://www.manus-meta.com/', 'gitex_location': 'Netherlands', 'gitex_sector': 'Retail Tech,Education Tech,Fintech,HealthTech,Metaverse, Immersive Tech,'}, {'gitex_company_name': 'Master Team', 'gitex_website': 'https://www.masterteam.sa/', 'gitex_location': 'Saudi Arabia', 'gitex_sector': 'Smart Cities,Software Services,Artificial Intelligence,Big Data & Analytics,'}, {'gitex_company_name': 'Masterwork Automodules Tech Corp. Ltd', 'gitex_website': 'https://bit.ly/3OE1LBa', 'gitex_location': 'Taiwan (R.O.C.)', 'gitex_sector': 'Consumer Tech, Smart Home & Smart Workplace,'}, {'gitex_company_name': 'Matrix42', 'gitex_website': 'https://www.matrix42.com/en/', 'gitex_location': 'United Arab Emirates', 'gitex_sector': 'Software Services,'}, {'gitex_company_name': 'MCI', 'gitex_website': 'https://www.mciglobal.ir/', 'gitex_location': 'Iran', 'gitex_sector': 'Space Tech,5G & Telecommunications,AgriTech & FoodTech,Education Tech,Energy Tech,'}, {'gitex_company_name': 'Medianova Internet Hizmetleri Ve Tic. A.S. - TR', 'gitex_website': 'https://www.medianova.com', 'gitex_location': 'Türkiye', 'gitex_sector': 'Networking & Infrastructure,Cloud Services,Cyber security,Ecommerce,Gaming,'}, {'gitex_company_name': 'MEETION', 'gitex_website': 'http://wwwmeetion.com', 'gitex_location': 'China', 'gitex_sector': ''}, {'gitex_company_name': 'MERAXES SOLUTIONS & SERVICES', 'gitex_website': 'https://www.meraxes.rs/', 'gitex_location': 'Serbia', 'gitex_sector': 'Internet of Things (IOT),'}, {'gitex_company_name': 'Mercantile Pacific Asia Pte. Ltd.', 'gitex_website': 'https://mercantilepacific.com/', 'gitex_location': 'United Arab Emirates', 'gitex_sector': 'Consumer Tech, Smart Home & Smart Workplace,'}, {'gitex_company_name': 'METABUILD', 'gitex_website': 'http://www.metabuild.co.kr', 'gitex_location': 'Korea, Republic Of', 'gitex_sector': 'Artificial Intelligence,Cloud Services,Coding and Development,'}, {'gitex_company_name': 'MetaDialog Software Limited', 'gitex_website': 'https://www.metadialog.com', 'gitex_location': 'United Arab Emirates', 'gitex_sector': 'Artificial Intelligence,Big Data & Analytics,Cloud Services,Coding and Development,Cyber security,'}, {'gitex_company_name': 'MetaVu', 'gitex_website': 'https://www.metavu.co.kr/', 'gitex_location': 'Korea, Republic Of', 'gitex_sector': ''}, {'gitex_company_name': 'Micropos', 'gitex_website': 'https://en.micropos.com.cn/', 'gitex_location': 'China', 'gitex_sector': 'Consumer Tech, Smart Home & Smart Workplace,Fintech,'}, {'gitex_company_name': 'Microtech', 'gitex_website': 'https://uae.microtechdigital.net/', 'gitex_location': 'United Kingdom', 'gitex_sector': 'Software Services,Cloud Services,Cyber security,Fintech,HealthTech,'}, {'gitex_company_name': 'Microtech srl', 'gitex_website': 'https://microtech.store/', 'gitex_location': 'Italy', 'gitex_sector': 'Consumer Tech, Smart Home & Smart Workplace,Ecommerce,Education Tech,Gaming,Metaverse, Immersive Tech,'}, {'gitex_company_name': 'Midis Group', 'gitex_website': 'https://www.midisgroup.com', 'gitex_location': 'Lebanon', 'gitex_sector': ''}, {'gitex_company_name': 'MIND CTI', 'gitex_website': 'https://mindcti.com', 'gitex_location': 'United Arab Emirates', 'gitex_sector': '5G & Telecommunications,Internet of Things (IOT),'}, {'gitex_company_name': 'MindRove', 'gitex_website': 'https://mindrove.com/', 'gitex_location': 'Hungary', 'gitex_sector': 'Consumer Tech, Smart Home & Smart Workplace,Gaming,HealthTech,Internet of Things (IOT),Metaverse, Immersive Tech,'}, {'gitex_company_name': 'Mindware FZ LLC', 'gitex_website': 'https://www.mindware.net/', 'gitex_location': 'United Arab Emirates', 'gitex_sector': ''}, {'gitex_company_name': 'Mindware FZ LLC', 'gitex_website': 'https://www.mindware.net/', 'gitex_location': 'United Arab Emirates', 'gitex_sector': ''}, {'gitex_company_name': 'Mobile Business Company LLC', 'gitex_website': 'https://www.mbuzztech.com/', 'gitex_location': 'United Arab Emirates', 'gitex_sector': 'Networking & Infrastructure,Smart Cities,Artificial Intelligence,Data Centres,Gaming,'}, {'gitex_company_name': 'Mondi Intl LLC', 'gitex_website': 'http://www.mondi-intl.com', 'gitex_location': 'United States of America', 'gitex_sector': 'Consumer Tech, Smart Home & Smart Workplace,'}, {'gitex_company_name': 'MONITORAPP', 'gitex_website': 'https://www.monitorapp.com/', 'gitex_location': 'Korea, Republic Of', 'gitex_sector': 'Cloud Services,Cyber security,'}, {'gitex_company_name': 'MOSO Power Supply Technology Co., Ltd.', 'gitex_website': 'http://www.mosopower.com/', 'gitex_location': 'China', 'gitex_sector': 'Consumer Tech, Smart Home & Smart Workplace,Data Centres,'}, {'gitex_company_name': 'Motadata (Mindarray Systems Pvt. Ltd.)', 'gitex_website': 'https://www.motadata.com/', 'gitex_location': 'India', 'gitex_sector': 'Cloud Services,Networking & Infrastructure,'}, {'gitex_company_name': 'Movella Xsens', 'gitex_website': 'http://www.movella.com', 'gitex_location': 'Netherlands', 'gitex_sector': 'PropTech,Gaming,Media, Marketing & Advertising Tech,Metaverse, Immersive Tech,'}, {'gitex_company_name': 'Movon Corporation', 'gitex_website': 'http://movon.co.kr/', 'gitex_location': 'Korea, Republic Of', 'gitex_sector': 'Future Mobility & Transportation,'}, {'gitex_company_name': 'Muller & Phipps Middle East Trading LLC', 'gitex_website': 'https://mulphico.com', 'gitex_location': 'United Arab Emirates', 'gitex_sector': 'Mobile Accessories & Peripherals,Consumer Tech, Smart Home & Smart Workplace,'}, {'gitex_company_name': 'Multi Distribution DMCC', 'gitex_website': 'https://multidistribution.ae/', 'gitex_location': 'United Arab Emirates', 'gitex_sector': ''}, {'gitex_company_name': 'Multipoint Group', 'gitex_website': 'https://multipoint-me.com/', 'gitex_location': 'United Arab Emirates', 'gitex_sector': 'Big Data & Analytics,Cyber security,Data Centres,'}, {'gitex_company_name': 'Myrtle International FZ LLC', 'gitex_website': 'https://myrtlefze.com/', 'gitex_location': 'United Arab Emirates', 'gitex_sector': ''}, {'gitex_company_name': 'NAIZAK GES GENERAL TRADING ESTABLISHMENT', 'gitex_website': 'https://naizakdistribution.com/', 'gitex_location': 'United Arab Emirates', 'gitex_sector': 'Cloud Services,Cyber security,'}, {'gitex_company_name': 'Nanjing Numenmatic Tech Co., Ltd.', 'gitex_website': 'https://www.numenmatic.com/', 'gitex_location': 'China', 'gitex_sector': 'PropTech,Consumer Tech, Smart Home & Smart Workplace,Fintech,Gaming,'}, {'gitex_company_name': 'nasscom', 'gitex_website': 'https://www.nasscom.in/', 'gitex_location': 'India', 'gitex_sector': ''}, {'gitex_company_name': 'Natejsoft (Natej for Information Technology)', 'gitex_website': 'https://www.natejsoft.com/', 'gitex_location': 'Jordan', 'gitex_sector': 'Retail Tech,Software Services,Fintech,'}, {'gitex_company_name': 'Navigators Software Pvt. Ltd. (Navsoft)', 'gitex_website': 'https://www.thenavsoft.com', 'gitex_location': 'India', 'gitex_sector': ''}, {'gitex_company_name': 'Navori Labs', 'gitex_website': 'https://navori.com', 'gitex_location': 'United Arab Emirates', 'gitex_sector': 'Artificial Intelligence,Cloud Services,'}, {'gitex_company_name': 'NDS Solutions Co., Ltd', 'gitex_website': 'http://netds.net', 'gitex_location': 'Korea, Republic Of', 'gitex_sector': ''}, {'gitex_company_name': 'neat', 'gitex_website': 'https://neat.no/', 'gitex_location': 'United Kingdom', 'gitex_sector': ''}, {'gitex_company_name': 'Nedaa', 'gitex_website': 'https://www.nedaa.ae/', 'gitex_location': 'United Arab Emirates', 'gitex_sector': 'Blockchain,'}, {'gitex_company_name': 'Neobution GmbH', 'gitex_website': 'http://www.neobution.com', 'gitex_location': 'Germany', 'gitex_sector': ''}, {'gitex_company_name': 'NeoSOFT', 'gitex_website': 'https://www.neosofttech.com/', 'gitex_location': 'India', 'gitex_sector': 'Retail Tech,Ecommerce,Fintech,HealthTech,Internet of Things (IOT),'}, {'gitex_company_name': 'Net Wireless Inc', 'gitex_website': 'https://www.netwirelessinc.com/', 'gitex_location': 'United States of America', 'gitex_sector': 'Consumer Tech, Smart Home & Smart Workplace,Artificial Intelligence,'}, {'gitex_company_name': 'Netcracker Technology', 'gitex_website': 'https://www.netcracker.com/', 'gitex_location': 'United States of America', 'gitex_sector': ''}, {'gitex_company_name': 'Nethansa', 'gitex_website': 'https://nethansa.com/', 'gitex_location': 'Poland', 'gitex_sector': ''}, {'gitex_company_name': 'NETSCOUT', 'gitex_website': 'https://www.netscout.com/', 'gitex_location': 'United Arab Emirates', 'gitex_sector': '5G & Telecommunications,Big Data & Analytics,Blockchain,Cloud Services,Cyber security,'}, {'gitex_company_name': 'Netskope', 'gitex_website': 'https://www.netskope.com', 'gitex_location': 'United Arab Emirates', 'gitex_sector': 'Networking & Infrastructure,Cloud Services,Cyber security,Data Centres,Internet of Things (IOT),'}, {'gitex_company_name': 'NetWitness', 'gitex_website': 'https://www.netwitness.com/', 'gitex_location': 'Italy', 'gitex_sector': 'Networking & Infrastructure,Artificial Intelligence,Cloud Services,Cyber security,Agnostic,'}, {'gitex_company_name': 'NEVA Systems LTD / NSYS Group', 'gitex_website': 'https://nsysgroup.com/', 'gitex_location': 'United Kingdom', 'gitex_sector': 'Retail Tech,Software Services,HealthTech,'}, {'gitex_company_name': 'New Rise Technologies Co, Ltd,', 'gitex_website': 'https://newrisetechs.sa/', 'gitex_location': 'Saudi Arabia', 'gitex_sector': 'Smart Cities,Unmanned Aerial Vehicles (Drones),AgriTech & FoodTech,Media, Marketing & Advertising Tech,'}, {'gitex_company_name': 'NewBaseCam', 'gitex_website': 'https://www.basecamelectronics.com/company/', 'gitex_location': 'Latvia', 'gitex_sector': 'Unmanned Aerial Vehicles (Drones),Artificial Intelligence,Consumer Tech, Smart Home & Smart Workplace,Future Mobility & Transportation,Media, Marketing & Advertising Tech,'}, {'gitex_company_name': 'Newcom Computer System LLC', 'gitex_website': 'https://newcomme.com/', 'gitex_location': 'United Arab Emirates', 'gitex_sector': 'Mobile Accessories & Peripherals,Consumer Tech, Smart Home & Smart Workplace,Education Tech,Gaming,'}, {'gitex_company_name': 'Newland EMEA', 'gitex_website': 'https://www.newland-id.com/en', 'gitex_location': 'Netherlands', 'gitex_sector': ''}, {'gitex_company_name': 'Next Generation Technology Solutions', 'gitex_website': 'https://www.ngtsol.com/', 'gitex_location': 'United States of America', 'gitex_sector': 'Networking & Infrastructure,Software Services,Cloud Services,Cyber security,Data Centres,'}, {'gitex_company_name': 'Nextcloud', 'gitex_website': 'https://www.nextcloud.com', 'gitex_location': 'Germany', 'gitex_sector': 'Software Services,Artificial Intelligence,Cloud Services,Education Tech,HealthTech,'}, {'gitex_company_name': 'Nextek Solutions Pte Ltd', 'gitex_website': 'https://nextek.sg', 'gitex_location': 'Singapore', 'gitex_sector': 'Smart Cities,Artificial Intelligence,Big Data & Analytics,Future Mobility & Transportation,Internet of Things (IOT),'}, {'gitex_company_name': 'Nichi-In Software Solutions Pvt Ltd', 'gitex_website': 'http://www.nichi.com', 'gitex_location': 'India', 'gitex_sector': ''}, {'gitex_company_name': 'Ningbo Fulman Vention Import & Export Co., Ltd', 'gitex_website': 'http://ventiontech.com', 'gitex_location': 'China', 'gitex_sector': 'Consumer Tech, Smart Home & Smart Workplace,'}, {'gitex_company_name': 'NINGBO GEYIDA CABLE TECHNOLOGY CO., LTD.', 'gitex_website': 'http://www.chinagyd.com', 'gitex_location': 'China', 'gitex_sector': '5G & Telecommunications,'}, {'gitex_company_name': 'NINGBO LONGXING TELECOMMUNICATIONS EQUIPMENT MANUFACTURING CO.,L', 'gitex_website': 'https://www.lxtelecom.com', 'gitex_location': 'China', 'gitex_sector': '5G & Telecommunications,Data Centres,'}, {'gitex_company_name': 'Ningbo Matrix Electronics Co., Ltd.', 'gitex_website': 'http://dateup.com.cn', 'gitex_location': 'China', 'gitex_sector': 'Networking & Infrastructure,5G & Telecommunications,Big Data & Analytics,Cloud Services,Data Centres,'}, {'gitex_company_name': 'NinjaOne GmbH', 'gitex_website': 'https://www.ninjaone.com', 'gitex_location': 'Germany', 'gitex_sector': 'Networking & Infrastructure,Cloud Services,Cyber security,'}, {'gitex_company_name': 'Nintex UK Ltd', 'gitex_website': 'https://www.nintex.com/', 'gitex_location': 'United Arab Emirates', 'gitex_sector': ''}, {'gitex_company_name': 'Nixxis Belgium SPRL', 'gitex_website': 'https://www.nixxis.com/', 'gitex_location': 'Belgium', 'gitex_sector': ''}, {'gitex_company_name': 'NMG Technologies', 'gitex_website': 'https://nmgtechnologies.com/', 'gitex_location': 'India', 'gitex_sector': ''}, {'gitex_company_name': 'NMK Electronics Trading LLC', 'gitex_website': 'https://www.nmkelectronics.com/', 'gitex_location': 'United Arab Emirates', 'gitex_sector': ''}, {'gitex_company_name': 'Nokia Solutions and Networks MEA FZ LLC', 'gitex_website': 'https://www.nokia.com/', 'gitex_location': 'Finland', 'gitex_sector': ''}, {'gitex_company_name': 'Noorisys Technologies Pvt Ltd', 'gitex_website': 'https://noorisys.com/', 'gitex_location': 'India', 'gitex_sector': 'Quantum & High Performance Computing,Coding and Development,Ecommerce,Fintech,HealthTech,'}, {'gitex_company_name': 'Norden Communication Middle East FZE', 'gitex_website': 'https://www.nordencommunication.com/en-ae', 'gitex_location': 'United Kingdom', 'gitex_sector': ''}, {'gitex_company_name': 'Nortal AS', 'gitex_website': 'https://www.nortal.com/', 'gitex_location': 'United Arab Emirates', 'gitex_sector': 'Software Services,Artificial Intelligence,Big Data & Analytics,Coding and Development,HealthTech,'}, {'gitex_company_name': 'Northern Ireland', 'gitex_website': 'https://www.investni.com', 'gitex_location': 'United Arab Emirates', 'gitex_sector': 'AgriTech & FoodTech,Big Data & Analytics,Consumer Tech, Smart Home & Smart Workplace,Fintech,Metaverse, Immersive Tech,'}, {'gitex_company_name': 'Norton/Avast', 'gitex_website': 'https://www.gendigital.com', 'gitex_location': 'United Arab Emirates', 'gitex_sector': 'Cyber security,'}, {'gitex_company_name': 'Novable - AI-powered innovation and startup scouting', 'gitex_website': 'https://www.novable.com', 'gitex_location': 'Belgium', 'gitex_sector': 'Artificial Intelligence,Big Data & Analytics,'}, {'gitex_company_name': 'Noya', 'gitex_website': 'https://www.noyabilgisayar.com', 'gitex_location': 'Türkiye', 'gitex_sector': 'Smart Cities,Artificial Intelligence,Consumer Tech, Smart Home & Smart Workplace,Future Mobility & Transportation,Internet of Things (IOT),'}, {'gitex_company_name': 'NTTWORKS CO., LTD', 'gitex_website': 'https://syscallglobal.com/', 'gitex_location': 'Korea, Republic Of', 'gitex_sector': '5G & Telecommunications,AgriTech & FoodTech,Consumer Tech, Smart Home & Smart Workplace,Cyber security,'}, {'gitex_company_name': 'NURIFONS CO., LTD.', 'gitex_website': 'https://www.nurifons.com', 'gitex_location': 'Korea, Republic Of', 'gitex_sector': '5G & Telecommunications,'}, {'gitex_company_name': 'Nutanix', 'gitex_website': 'https://www.nutanix.com/', 'gitex_location': 'United Arab Emirates', 'gitex_sector': ''}, {'gitex_company_name': 'nVent SCHROFF GmbH', 'gitex_website': 'https://www.nvent.com/', 'gitex_location': 'India', 'gitex_sector': 'Space Tech,5G & Telecommunications,Data Centres,'}, {'gitex_company_name': 'NVSSoft', 'gitex_website': 'https://www.nvssoft.com', 'gitex_location': 'United Arab Emirates', 'gitex_sector': 'Software Services,5G & Telecommunications,Artificial Intelligence,Blockchain,HealthTech,'}, {'gitex_company_name': 'Objects - EG', 'gitex_website': 'https://objects.ws/', 'gitex_location': 'Pakistan', 'gitex_sector': 'Retail Tech,Software Services,Coding and Development,Ecommerce,Fintech,'}, {'gitex_company_name': 'Odoo', 'gitex_website': 'https://www.odoo.com/', 'gitex_location': 'United Arab Emirates', 'gitex_sector': 'Software Services,'}, {'gitex_company_name': 'Okpos Co., Ltd', 'gitex_website': 'http://okposkorea.com/', 'gitex_location': 'Korea, Republic Of', 'gitex_sector': ''}, {'gitex_company_name': 'Omnicomm', 'gitex_website': 'https://www.omnicomm-world.com/', 'gitex_location': 'Estonia', 'gitex_sector': 'Smart Cities,Cloud Services,Energy Tech,Future Mobility & Transportation,Internet of Things (IOT),'}, {'gitex_company_name': 'ONEAUDIL CO.,LIMITED', 'gitex_website': 'https://www.oneodio.com/', 'gitex_location': 'Hong Kong Special Administrative Region', 'gitex_sector': 'Mobile Accessories & Peripherals,5G & Telecommunications,Consumer Tech, Smart Home & Smart Workplace,'}, {'gitex_company_name': 'onEVO Interactive Floor', 'gitex_website': 'https://onevofloor.com/en/', 'gitex_location': 'Poland', 'gitex_sector': 'Education Tech,HealthTech,'}, {'gitex_company_name': 'ONPASSIVE TECHNOLOGIES L.L.C', 'gitex_website': 'https://www.onpassive.com/', 'gitex_location': 'United Arab Emirates', 'gitex_sector': '5G & Telecommunications,Artificial Intelligence,Big Data & Analytics,Cloud Services,Coding and Development,'}, {'gitex_company_name': 'Ontario Ministry of Economic Development, Job Creation and Trade', 'gitex_website': 'https://sourcefromontario.com/', 'gitex_location': 'Canada', 'gitex_sector': ''}, {'gitex_company_name': 'oOrjit - from the house of ISPG Technologies', 'gitex_website': 'https://www.oorjit.com', 'gitex_location': 'United Arab Emirates', 'gitex_sector': 'PropTech,Retail Tech,Artificial Intelligence,Ecommerce,Future Mobility & Transportation,'}, {'gitex_company_name': 'Opensignal', 'gitex_website': 'https://www.opensignal.com', 'gitex_location': 'United Kingdom', 'gitex_sector': '5G & Telecommunications,Big Data & Analytics,Cloud Services,'}, {'gitex_company_name': 'OpenText Cybersecurity', 'gitex_website': 'https://www.opentextcybersecurity.com/', 'gitex_location': 'United Kingdom', 'gitex_sector': ''}, {'gitex_company_name': 'Opswat Inc', 'gitex_website': 'https://www.opswat.com/', 'gitex_location': 'United Arab Emirates', 'gitex_sector': ''}, {'gitex_company_name': 'Opticking Technology Co.,Ltd.', 'gitex_website': 'http://www.opticking.com', 'gitex_location': 'China', 'gitex_sector': 'Networking & Infrastructure,5G & Telecommunications,AgriTech & FoodTech,Big Data & Analytics,Consumer Tech, Smart Home & Smart Workplace,'}, {'gitex_company_name': 'Oracle Systems Ltd.', 'gitex_website': 'https://www.oracle.com/', 'gitex_location': 'Denmark', 'gitex_sector': 'Software Services,Big Data & Analytics,Blockchain,Cloud Services,Data Centres,'}, {'gitex_company_name': 'Oregon Systems SPC - Abu Dhabi', 'gitex_website': 'https://www.oregon-systems.com', 'gitex_location': 'United Arab Emirates', 'gitex_sector': 'Artificial Intelligence,Cyber security,Internet of Things (IOT),'}, {'gitex_company_name': 'ORG Logistics FZE', 'gitex_website': 'http://www.orglogistics.com/', 'gitex_location': 'United Arab Emirates', 'gitex_sector': 'Mobile Accessories & Peripherals,3D Printing & Printing Services,5G & Telecommunications,Blockchain,Consumer Tech, Smart Home & Smart Workplace,'}, {'gitex_company_name': 'OS', 'gitex_website': 'https://www.ordnancesurvey.co.uk/international', 'gitex_location': 'United Kingdom', 'gitex_sector': ''}, {'gitex_company_name': 'OSCAR SMART ELECTRONICS', 'gitex_website': 'https://www.oscaret.com', 'gitex_location': 'United Arab Emirates', 'gitex_sector': ''}, {'gitex_company_name': 'Oskar Phone L.L.C.', 'gitex_website': 'https://oskarme.com', 'gitex_location': 'United Arab Emirates', 'gitex_sector': 'Mobile Accessories & Peripherals,Gaming,'}, {'gitex_company_name': 'OX Distribution Inc', 'gitex_website': 'http://www.oxdistribution.com/', 'gitex_location': 'United States of America', 'gitex_sector': ''}, {'gitex_company_name': 'PACT Software Services LLC', 'gitex_website': 'https://pactsoft.com/uae/', 'gitex_location': 'United Arab Emirates', 'gitex_sector': 'PropTech,Retail Tech,Software Services,Cloud Services,'}, {'gitex_company_name': 'Pakistan Software Export Board - PK', 'gitex_website': 'http://techdestination.com', 'gitex_location': 'Pakistan', 'gitex_sector': 'Artificial Intelligence,Big Data & Analytics,Blockchain,Cloud Services,'}, {'gitex_company_name': 'Palo Alto Networks', 'gitex_website': 'https://www.paloaltonetworks.com/company', 'gitex_location': 'United Arab Emirates', 'gitex_sector': ''}, {'gitex_company_name': 'Panorays Ltd', 'gitex_website': 'https://panorays.com/', 'gitex_location': 'United Kingdom', 'gitex_sector': 'Regulatory Technology,'}, {'gitex_company_name': 'PANTUM', 'gitex_website': 'https://www.pantum.com/', 'gitex_location': 'China', 'gitex_sector': ''}, {'gitex_company_name': 'PCNet Wire & Cable Co., Ltd.', 'gitex_website': 'https://www.pcnet-cable.com.tw/', 'gitex_location': 'Taiwan (R.O.C.)', 'gitex_sector': ''}, {'gitex_company_name': 'PCS Wireless', 'gitex_website': 'https://pcsww.com', 'gitex_location': 'United States of America', 'gitex_sector': 'Mobile Accessories & Peripherals,Data Centres,Fintech,Future Mobility & Transportation,Metaverse, Immersive Tech,'}, {'gitex_company_name': 'Pedro Scholler Printservice GmbH', 'gitex_website': 'http://www.printservice.de/en', 'gitex_location': 'Germany', 'gitex_sector': ''}, {'gitex_company_name': 'Pentera', 'gitex_website': 'https://pentera.io/', 'gitex_location': 'United Kingdom', 'gitex_sector': 'Cyber security,'}, {'gitex_company_name': 'Perfect Display Technology Co., Ltd', 'gitex_website': 'http://www.perfectdisplay.com', 'gitex_location': 'China', 'gitex_sector': 'Consumer Tech, Smart Home & Smart Workplace,Gaming,'}, {'gitex_company_name': 'Perspectives.pm', 'gitex_website': 'https://www.perspectives.pm', 'gitex_location': 'Belgium', 'gitex_sector': 'Big Data & Analytics,Cloud Services,Agnostic,'}, {'gitex_company_name': 'PFU (EMEA) Limited', 'gitex_website': 'https://www.pfu.ricoh.com/emea/', 'gitex_location': 'United Kingdom', 'gitex_sector': 'Cloud Services,Consumer Tech, Smart Home & Smart Workplace,Education Tech,HealthTech,Media, Marketing & Advertising Tech,'}, {'gitex_company_name': 'Phonetastik GmbH', 'gitex_website': 'http://www.phonetastik.de', 'gitex_location': 'Germany', 'gitex_sector': 'Mobile Accessories & Peripherals,Networking & Infrastructure,Consumer Tech, Smart Home & Smart Workplace,Ecommerce,Media, Marketing & Advertising Tech,'}, {'gitex_company_name': 'PILOT IoT Platform', 'gitex_website': 'https://pilot-telematics.com/', 'gitex_location': 'United Arab Emirates', 'gitex_sector': 'AgriTech & FoodTech,Big Data & Analytics,'}, {'gitex_company_name': 'PINGYANG FEELTECK ELECTRIC.CO., LTD', 'gitex_website': 'https://www.cashmoneymachines.com/', 'gitex_location': 'China', 'gitex_sector': 'Retail Tech,Consumer Tech, Smart Home & Smart Workplace,'}, {'gitex_company_name': 'Pittasoft Co., Ltd', 'gitex_website': 'https://blackvue.com/', 'gitex_location': 'Korea, Republic Of', 'gitex_sector': 'Mobile Accessories & Peripherals,Cloud Services,Future Mobility & Transportation,'}, {'gitex_company_name': 'Pixel Values Technolabs', 'gitex_website': 'https://www.pixelvalues.com/', 'gitex_location': 'India', 'gitex_sector': '3D Printing & Printing Services,Coding and Development,'}, {'gitex_company_name': 'Planet Technology Corporation', 'gitex_website': 'https://www.planet.com.tw/', 'gitex_location': 'Taiwan (R.O.C.)', 'gitex_sector': 'Networking & Infrastructure,Sustainability & Green Tech,5G & Telecommunications,Cyber security,Internet of Things (IOT),'}, {'gitex_company_name': 'Plus Co., Ltd.', 'gitex_website': 'https://plus.co.kr/eng', 'gitex_location': 'Korea, Republic Of', 'gitex_sector': 'Consumer Tech, Smart Home & Smart Workplace,'}, {'gitex_company_name': 'Plustek Inc.', 'gitex_website': 'https://plustek.com/newmea/', 'gitex_location': 'Taiwan Province of China', 'gitex_sector': 'Retail Tech,Artificial Intelligence,Big Data & Analytics,Consumer Tech, Smart Home & Smart Workplace,Internet of Things (IOT),'}, {'gitex_company_name': 'Point Mobile Co., Ltd.', 'gitex_website': 'https://www.pointmobile.com', 'gitex_location': 'Korea, Republic Of', 'gitex_sector': 'Retail Tech,Big Data & Analytics,Consumer Tech, Smart Home & Smart Workplace,'}, {'gitex_company_name': 'Polarstar Logistics LLC', 'gitex_website': 'https://polarstargroup.com/', 'gitex_location': 'United Arab Emirates', 'gitex_sector': 'Future Mobility & Transportation,'}, {'gitex_company_name': 'Polish Investment and Trade Agency', 'gitex_website': 'https://www.paih.gov.pl/en', 'gitex_location': 'United Arab Emirates', 'gitex_sector': ''}, {'gitex_company_name': 'Ports, Customs and Free Zone Corporation (PCFC)', 'gitex_website': 'https://www.pcfc.ae/', 'gitex_location': 'United Arab Emirates', 'gitex_sector': 'Artificial Intelligence,Big Data & Analytics,Blockchain,Ecommerce,'}, {'gitex_company_name': 'PoS Tektronics Limited', 'gitex_website': 'https://www.postektronics.com', 'gitex_location': 'Hong Kong Special Administrative Region', 'gitex_sector': 'Retail Tech,Consumer Tech, Smart Home & Smart Workplace,Fintech,'}, {'gitex_company_name': 'Posbank Co., Ltd', 'gitex_website': 'https://www.posbank.com', 'gitex_location': 'Korea, Republic Of', 'gitex_sector': 'Retail Tech,'}, {'gitex_company_name': 'Posiflex Technology, Inc.', 'gitex_website': 'http://www.posiflex.com', 'gitex_location': 'Taiwan Province of China', 'gitex_sector': ''}, {'gitex_company_name': 'Positive Technologies', 'gitex_website': 'https://global.ptsecurity.com', 'gitex_location': 'Russian Federation', 'gitex_sector': 'Cyber security,'}, {'gitex_company_name': 'POTECH', 'gitex_website': 'https://potech.global/', 'gitex_location': 'Cyprus', 'gitex_sector': ''}, {'gitex_company_name': 'POTEL CABLE GROUP CO.,LTD.', 'gitex_website': 'https://www.potel-group.com', 'gitex_location': 'China', 'gitex_sector': '5G & Telecommunications,Blockchain,Data Centres,Internet of Things (IOT),'}, {'gitex_company_name': 'POWERCASE ENTERPRISE CO.,LTD', 'gitex_website': 'https://www.powercase.com.cn/', 'gitex_location': 'China', 'gitex_sector': 'Consumer Tech, Smart Home & Smart Workplace,Gaming,Media, Marketing & Advertising Tech,'}, {'gitex_company_name': 'Poyraz Buro Malzemeleri Dis. Tic. Ltd. Sti.', 'gitex_website': 'https://www.poyraztoner.com/', 'gitex_location': 'Türkiye', 'gitex_sector': 'Consumer Tech, Smart Home & Smart Workplace,Ecommerce,'}, {'gitex_company_name': 'Prakat Solutions Inc.', 'gitex_website': 'https://prakat.com', 'gitex_location': 'India', 'gitex_sector': ''}, {'gitex_company_name': 'Pratap Digital Communications Pvt Ltd', 'gitex_website': 'http://www.corsis.in', 'gitex_location': 'India', 'gitex_sector': 'Mobile Accessories & Peripherals,5G & Telecommunications,Data Centres,Future Mobility & Transportation,'}, {'gitex_company_name': 'Precognox Kft.', 'gitex_website': 'https://www.precognox.com/', 'gitex_location': 'Hungary', 'gitex_sector': 'Software Services,Artificial Intelligence,Big Data & Analytics,Coding and Development,Fintech,'}, {'gitex_company_name': 'PREFORMED LINE PRODUCTS (PLP)', 'gitex_website': 'https://www.preformed.com/', 'gitex_location': 'United Arab Emirates', 'gitex_sector': '5G & Telecommunications,Data Centres,Internet of Things (IOT),'}, {'gitex_company_name': 'Premier Cables Pvt Ltd', 'gitex_website': 'https://premiercables.net', 'gitex_location': 'Pakistan', 'gitex_sector': 'Networking & Infrastructure,Smart Cities,Software Services,5G & Telecommunications,Internet of Things (IOT),'}, {'gitex_company_name': 'Premium-Line Systems GmbH', 'gitex_website': 'https://www.premiumline-cabling.com/', 'gitex_location': 'Germany', 'gitex_sector': '5G & Telecommunications,Data Centres,'}, {'gitex_company_name': 'Prime Commerce', 'gitex_website': 'https://www.primecommerce.in/', 'gitex_location': 'India', 'gitex_sector': 'Consumer Tech, Smart Home & Smart Workplace,Ecommerce,'}, {'gitex_company_name': 'PRIMMCON INDUSTRIES INC.', 'gitex_website': 'https://www.primmcon.com/default.aspx', 'gitex_location': 'Taiwan (R.O.C.)', 'gitex_sector': 'Networking & Infrastructure,Quantum & High Performance Computing,Consumer Tech, Smart Home & Smart Workplace,Cyber security,Future Mobility & Transportation,'}, {'gitex_company_name': 'PRINTRONIX LLC', 'gitex_website': 'https://printronix.com/emea/?region=1', 'gitex_location': 'France', 'gitex_sector': 'Retail Tech,Consumer Tech, Smart Home & Smart Workplace,HealthTech,Media, Marketing & Advertising Tech,Agnostic,'}, {'gitex_company_name': 'PROACT UNITED FOR COMPUTERS', 'gitex_website': 'https://www.proact-kw.com/', 'gitex_location': 'Kuwait', 'gitex_sector': 'Software Services,Coding and Development,Ecommerce,Fintech,HealthTech,'}, {'gitex_company_name': 'Procal Technologies Inc', 'gitex_website': 'https://procaltech.com/', 'gitex_location': 'United States of America', 'gitex_sector': 'Space Tech,5G & Telecommunications,Artificial Intelligence,Big Data & Analytics,Metaverse, Immersive Tech,'}, {'gitex_company_name': 'PROCENNE', 'gitex_website': 'https://procenne.com/', 'gitex_location': 'Türkiye', 'gitex_sector': 'Smart Cities,Big Data & Analytics,Blockchain,Cyber security,Fintech,'}, {'gitex_company_name': 'Professional Manufacturing And Exporting On Money Counter Since', 'gitex_website': 'http://www.huaen-elec.com', 'gitex_location': 'China', 'gitex_sector': 'Fintech,'}, {'gitex_company_name': 'Profit Apps Inc', 'gitex_website': 'https://www.profit.co/', 'gitex_location': 'United States of America', 'gitex_sector': 'Software Services,Cloud Services,'}, {'gitex_company_name': 'Proofpoint', 'gitex_website': 'https://www.proofpoint.com/uk', 'gitex_location': 'United Kingdom', 'gitex_sector': ''}, {'gitex_company_name': 'PROSE', 'gitex_website': 'https://www.prosetechnologies.com', 'gitex_location': 'United Arab Emirates', 'gitex_sector': '5G & Telecommunications,Data Centres,'}, {'gitex_company_name': 'Prow Information Technology LLC', 'gitex_website': 'https://prowme.com/', 'gitex_location': 'Lebanon', 'gitex_sector': ''}, {'gitex_company_name': 'Puloon Technology Inc.', 'gitex_website': 'https://www.puloon.com', 'gitex_location': 'Korea, Republic Of', 'gitex_sector': 'Consumer Tech, Smart Home & Smart Workplace,'}, {'gitex_company_name': 'PULSEC doo', 'gitex_website': 'https://pulsec.com/', 'gitex_location': 'Serbia', 'gitex_sector': 'Cyber security,'}, {'gitex_company_name': 'Pure Storage UK Limited', 'gitex_website': 'https://www.purestorage.com/', 'gitex_location': 'United Arab Emirates', 'gitex_sector': ''}, {'gitex_company_name': 'PurrSong, Inc.', 'gitex_website': 'https://purrsong-global.com/', 'gitex_location': 'Korea, Republic Of', 'gitex_sector': 'Artificial Intelligence,HealthTech,Internet of Things (IOT),'}, {'gitex_company_name': 'Pyramid Corporation', 'gitex_website': 'https://www.pyramidcorporation.in', 'gitex_location': 'India', 'gitex_sector': 'Mobile Accessories & Peripherals,Consumer Tech, Smart Home & Smart Workplace,'}, {'gitex_company_name': 'Q-SYS', 'gitex_website': 'https://www.qsys.com/', 'gitex_location': 'United Arab Emirates', 'gitex_sector': ''}, {'gitex_company_name': 'Qadvise group BV', 'gitex_website': 'https://www.q-advise.com/', 'gitex_location': 'Netherlands', 'gitex_sector': ''}, {'gitex_company_name': 'QINGDAO HISTONE INTELLIGENT COMMERCIAL SYSTEM CO., LTD.', 'gitex_website': 'https://www.hics.histonetec.com/', 'gitex_location': 'China', 'gitex_sector': 'Retail Tech,'}, {'gitex_company_name': 'QNAP Systems, Inc.', 'gitex_website': 'https://www.qnap.com', 'gitex_location': 'Taiwan (R.O.C.)', 'gitex_sector': 'Cloud Services,Cyber security,'}, {'gitex_company_name': 'Qorden', 'gitex_website': 'https://www.qorden.ai/', 'gitex_location': 'United Arab Emirates', 'gitex_sector': 'Software Services,5G & Telecommunications,Artificial Intelligence,Big Data & Analytics,Consumer Tech, Smart Home & Smart Workplace,'}, {'gitex_company_name': 'QROWNTECH', 'gitex_website': 'http://qrowntech.com', 'gitex_location': 'Kuwait', 'gitex_sector': 'Regulatory Technology,Software Services,Cloud Services,Education Tech,Fintech,'}, {'gitex_company_name': 'QSecure', 'gitex_website': 'https://qsecure.com.cy', 'gitex_location': 'Cyprus', 'gitex_sector': 'Networking & Infrastructure,Software Services,Cloud Services,Cyber security,Data Centres,'}, {'gitex_company_name': 'qTech. Alqemam', 'gitex_website': 'https://www.alqemam.com/', 'gitex_location': 'Saudi Arabia', 'gitex_sector': 'Software Services,3D Printing & Printing Services,Big Data & Analytics,'}, {'gitex_company_name': 'Quantox Technology', 'gitex_website': 'https://www.quantox.com/', 'gitex_location': 'Serbia', 'gitex_sector': 'Software Services,'}, {'gitex_company_name': 'Queclink Wireless Solutions Co., Ltd.', 'gitex_website': 'https://www.queclink.com/', 'gitex_location': 'China', 'gitex_sector': '5G & Telecommunications,Future Mobility & Transportation,Internet of Things (IOT),'}, {'gitex_company_name': 'QUIXY', 'gitex_website': 'https://quixy.com', 'gitex_location': 'United Arab Emirates', 'gitex_sector': 'Software Services,Cloud Services,Ecommerce,Education Tech,Fintech,'}, {'gitex_company_name': 'Quy Technology Pvt Ltd', 'gitex_website': 'https://www.quytech.com/', 'gitex_location': 'India', 'gitex_sector': 'Software Services,Artificial Intelligence,Blockchain,Coding and Development,Metaverse, Immersive Tech,'}, {'gitex_company_name': 'Raden Solutions', 'gitex_website': 'https://netxms.com/', 'gitex_location': 'Latvia', 'gitex_sector': 'Networking & Infrastructure,Software Services,5G & Telecommunications,Cloud Services,Cyber security,'}, {'gitex_company_name': 'Radisys', 'gitex_website': 'https://radisys.com/', 'gitex_location': 'United States of America', 'gitex_sector': '5G & Telecommunications,'}, {'gitex_company_name': 'Raisecom Technology Co., Ltd.', 'gitex_website': 'http://www.raisecom.com', 'gitex_location': 'China', 'gitex_sector': 'Networking & Infrastructure,5G & Telecommunications,Big Data & Analytics,Cloud Services,Internet of Things (IOT),'}, {'gitex_company_name': 'Rama Electronics Trading LLC', 'gitex_website': 'http://www.rama-electronics.com', 'gitex_location': 'United Arab Emirates', 'gitex_sector': 'Mobile Accessories & Peripherals,5G & Telecommunications,Artificial Intelligence,Big Data & Analytics,Consumer Tech, Smart Home & Smart Workplace,'}, {'gitex_company_name': 'RAS Infotech FZE', 'gitex_website': 'https://www.rasinfotech-dubai.com/', 'gitex_location': 'United Arab Emirates', 'gitex_sector': 'Software Services,Cyber security,Data Centres,'}, {'gitex_company_name': 'RCS Rampal Cellular Stockmarket LTD', 'gitex_website': 'http://www.rcs.com', 'gitex_location': 'Israel', 'gitex_sector': 'Gaming,Mobile Accessories & Peripherals,'}, {'gitex_company_name': 'Red Hat FZ-LLC', 'gitex_website': 'http://www.redhat.com', 'gitex_location': 'United States of America', 'gitex_sector': 'Software Services,Big Data & Analytics,Cloud Services,Fintech,Media, Marketing & Advertising Tech,'}, {'gitex_company_name': 'RedBox', 'gitex_website': 'https://redboxsa.com', 'gitex_location': 'Saudi Arabia', 'gitex_sector': 'Retail Tech,Smart Cities,Ecommerce,'}, {'gitex_company_name': 'Redington Gulf FZE', 'gitex_website': 'https://redingtongroup.com/mea/', 'gitex_location': 'United Arab Emirates', 'gitex_sector': 'Artificial Intelligence,Big Data & Analytics,Blockchain,Cloud Services,Cyber security,'}, {'gitex_company_name': 'Regula', 'gitex_website': 'https://regulaforensics.com/', 'gitex_location': 'United States of America', 'gitex_sector': 'Regulatory Technology,Retail Tech,Blockchain,Cyber security,Fintech,'}, {'gitex_company_name': 'RENQING EXCELLENT TECHNOLOGY CO.LTD', 'gitex_website': 'http://www.rockspacediy.com', 'gitex_location': 'China', 'gitex_sector': 'Mobile Accessories & Peripherals,Future Mobility & Transportation,'}, {'gitex_company_name': 'Resecurity, Inc. (USA)', 'gitex_website': 'https://www.resecurity.com/', 'gitex_location': 'United States of America', 'gitex_sector': 'Cyber security,'}, {'gitex_company_name': 'RESHAPE DIGITAL', 'gitex_website': 'https://reshapedigital.io', 'gitex_location': 'Romania', 'gitex_sector': 'Software Services,Blockchain,Cloud Services,Coding and Development,Consumer Tech, Smart Home & Smart Workplace,'}, {'gitex_company_name': 'Respond.io', 'gitex_website': 'https://respond.io/', 'gitex_location': 'Malaysia', 'gitex_sector': 'Retail Tech,Artificial Intelligence,Big Data & Analytics,Ecommerce,Media, Marketing & Advertising Tech,'}, {'gitex_company_name': 'Riverbed Technology - AE - 00047803', 'gitex_website': 'https://www.riverbed.com/en-ae', 'gitex_location': 'United Arab Emirates', 'gitex_sector': 'Software Services,'}, {'gitex_company_name': 'RMG Co., Ltd.', 'gitex_website': 'https://swebs.co.kr/index_en.html', 'gitex_location': 'Korea, Republic Of', 'gitex_sector': 'Software Services,3D Printing & Printing Services,Big Data & Analytics,Cloud Services,'}, {'gitex_company_name': 'Roads and Transport Authority - RTA', 'gitex_website': 'https://www.rta.ae/wps/portal/rta/ae/home?lang=ar', 'gitex_location': 'United Arab Emirates', 'gitex_sector': ''}, {'gitex_company_name': 'RocketDrop', 'gitex_website': 'http://rocketdrop.com', 'gitex_location': 'United States of America', 'gitex_sector': 'Mobile Accessories & Peripherals,Consumer Tech, Smart Home & Smart Workplace,Gaming,'}, {'gitex_company_name': 'Rongta Technology (Xiamen) Group Co., Ltd.', 'gitex_website': 'https://www.rongtatech.com/', 'gitex_location': 'China', 'gitex_sector': 'Retail Tech,Consumer Tech, Smart Home & Smart Workplace,Ecommerce,'}, {'gitex_company_name': 'ROPARDO', 'gitex_website': 'https://ropardo.ro/', 'gitex_location': 'Romania', 'gitex_sector': 'Software Services,Cloud Services,Coding and Development,Ecommerce,Internet of Things (IOT),'}, {'gitex_company_name': 'ROWEB DEVELOPMENT', 'gitex_website': 'https://www.roweb.ro/', 'gitex_location': 'Romania', 'gitex_sector': 'Software Services,Big Data & Analytics,Cloud Services,Coding and Development,Ecommerce,'}, {'gitex_company_name': 'Rubrik', 'gitex_website': 'http://rubrik.com', 'gitex_location': 'Netherlands', 'gitex_sector': 'Cyber security,'}, {'gitex_company_name': 'Rysha Media LLC', 'gitex_website': 'https://www.ryshamedia.com', 'gitex_location': 'United Arab Emirates', 'gitex_sector': 'Media, Marketing & Advertising Tech,'}, {'gitex_company_name': 'SAF Tehnika JSC', 'gitex_website': 'https://saftehnika.com', 'gitex_location': 'Latvia', 'gitex_sector': ''}, {'gitex_company_name': 'SAFETEC Co., Ltd.', 'gitex_website': 'http://safetec.kr', 'gitex_location': 'Korea, Republic Of', 'gitex_sector': ''}, {'gitex_company_name': 'Safetel Multimedia L.L.C.', 'gitex_website': 'http://safeteldxb.com', 'gitex_location': 'United Arab Emirates', 'gitex_sector': 'Mobile Accessories & Peripherals,5G & Telecommunications,'}, {'gitex_company_name': 'Sahasra Electronics Private Limited', 'gitex_website': 'https://www.sahasraelectronics.com', 'gitex_location': 'India', 'gitex_sector': 'Mobile Accessories & Peripherals,5G & Telecommunications,Consumer Tech, Smart Home & Smart Workplace,Data Centres,'}, {'gitex_company_name': 'Salesforce', 'gitex_website': 'http://www.salesforce.com/', 'gitex_location': 'United Arab Emirates', 'gitex_sector': ''}, {'gitex_company_name': 'Sangfor Technologies', 'gitex_website': 'https://www.sangfor.com/', 'gitex_location': 'United Arab Emirates', 'gitex_sector': 'Networking & Infrastructure,Big Data & Analytics,Cloud Services,Cyber security,Data Centres,'}, {'gitex_company_name': 'SAS Middle East FZ- LLC', 'gitex_website': 'http://www.sas.com', 'gitex_location': 'United Arab Emirates', 'gitex_sector': ''}, {'gitex_company_name': 'SATOCHIP', 'gitex_website': 'https://satochip.io', 'gitex_location': 'Belgium', 'gitex_sector': 'Blockchain,Coding and Development,Cyber security,'}, {'gitex_company_name': 'Saudi Technology and Security Comprehensive Control Co. Ltd.', 'gitex_website': 'https://www.tahakom.com', 'gitex_location': 'Saudi Arabia', 'gitex_sector': 'Artificial Intelligence,Big Data & Analytics,Cloud Services,'}, {'gitex_company_name': 'Sazim Tech Limited', 'gitex_website': 'https://www.sazim.io/', 'gitex_location': 'Bangladesh', 'gitex_sector': 'Software Services,Artificial Intelligence,Coding and Development,Ecommerce,Education Tech,'}, {'gitex_company_name': 'Scalong- an iBoss Tech brand', 'gitex_website': 'https://www.ibosstechsolutions.com/', 'gitex_location': 'India', 'gitex_sector': 'Software Services,Artificial Intelligence,Cloud Services,Coding and Development,Ecommerce,'}, {'gitex_company_name': 'Schneider Electric FZE', 'gitex_website': 'https://www.se.com/ae/en/', 'gitex_location': 'United Arab Emirates', 'gitex_sector': 'Data Centres,Cloud Services,'}, {'gitex_company_name': 'Scope Middle East', 'gitex_website': 'https://www.scopeme.com/', 'gitex_location': 'United Arab Emirates', 'gitex_sector': 'Networking & Infrastructure,Cloud Services,Cyber security,'}, {'gitex_company_name': 'SDLC Corp', 'gitex_website': 'https://sdlccorp.com/', 'gitex_location': 'India', 'gitex_sector': 'Software Services,Blockchain,Coding and Development,Ecommerce,Gaming,'}, {'gitex_company_name': 'Seclore', 'gitex_website': 'https://www.seclore.com', 'gitex_location': 'United Arab Emirates', 'gitex_sector': 'Big Data & Analytics,Cloud Services,Cyber security,'}, {'gitex_company_name': 'Security Matterz', 'gitex_website': 'https://www.securitymatterz.com', 'gitex_location': 'Saudi Arabia', 'gitex_sector': ''}, {'gitex_company_name': 'Securonix U.A.E', 'gitex_website': 'https://www.securonix.com/', 'gitex_location': 'India', 'gitex_sector': 'Software Services,Big Data & Analytics,Cloud Services,Cyber security,Internet of Things (IOT),'}, {'gitex_company_name': 'SejongCuebiz', 'gitex_website': 'http://www.sejongcuebiz.com/', 'gitex_location': 'Korea, Republic Of', 'gitex_sector': 'Mobile Accessories & Peripherals,Consumer Tech, Smart Home & Smart Workplace,'}, {'gitex_company_name': 'SEMTOM Electronics Co., Ltd.', 'gitex_website': 'http://www.semtom.com', 'gitex_location': 'Hong Kong Special Administrative Region', 'gitex_sector': ''}, {'gitex_company_name': 'Sen Yu Dun', 'gitex_website': 'http://qs.guib.vip', 'gitex_location': 'China', 'gitex_sector': 'Networking & Infrastructure,Cloud Services,Cyber security,'}, {'gitex_company_name': 'SendQuick Pte Ltd', 'gitex_website': 'https://www.sendquick.com/', 'gitex_location': 'Singapore', 'gitex_sector': 'Software Services,5G & Telecommunications,Cloud Services,Cyber security,'}, {'gitex_company_name': 'Sensata INSIGHTS', 'gitex_website': 'https://sensatainsights.com/', 'gitex_location': 'United States of America', 'gitex_sector': 'Future Mobility & Transportation,Internet of Things (IOT),'}, {'gitex_company_name': 'Sewoo Tech', 'gitex_website': 'https://www.miniprinter.com/ko/main/main.do', 'gitex_location': 'Korea, Republic Of', 'gitex_sector': ''}, {'gitex_company_name': 'Sferanet DWC LLC', 'gitex_website': 'https://sferanet.net/ae/', 'gitex_location': 'United Arab Emirates', 'gitex_sector': 'Artificial Intelligence,Cyber security,'}, {'gitex_company_name': 'SGTech', 'gitex_website': 'https://www.sgtech.org.sg/', 'gitex_location': 'Singapore', 'gitex_sector': ''}, {'gitex_company_name': 'SHANGCHEN IoT', 'gitex_website': 'https://www.scscan.cc', 'gitex_location': 'China', 'gitex_sector': 'Retail Tech,AgriTech & FoodTech,Big Data & Analytics,Ecommerce,Internet of Things (IOT),'}, {'gitex_company_name': 'Shanghai Imilab Technology Co., Ltd', 'gitex_website': 'https://www.imilab.com/', 'gitex_location': 'China', 'gitex_sector': 'Consumer Tech, Smart Home & Smart Workplace,'}, {'gitex_company_name': 'Shanshui Optoelectronic Technology Co.,Ltd', 'gitex_website': 'http://www.jso-cn.com', 'gitex_location': 'China', 'gitex_sector': 'Networking & Infrastructure,5G & Telecommunications,Cloud Services,Consumer Tech, Smart Home & Smart Workplace,'}, {'gitex_company_name': 'Sharebox', 'gitex_website': 'http://www.ssharebox.com/eng/home/', 'gitex_location': 'Korea, Republic Of', 'gitex_sector': 'Retail Tech,Education Tech,Gaming,Media, Marketing & Advertising Tech,Metaverse, Immersive Tech,'}, {'gitex_company_name': 'Sharjah Digital Office', 'gitex_website': 'https://www.sharjah.ae/', 'gitex_location': 'United Arab Emirates', 'gitex_sector': ''}, {'gitex_company_name': 'Sharjah Government', 'gitex_website': 'https://www.sharjah.ae/', 'gitex_location': 'United Arab Emirates', 'gitex_sector': ''}, {'gitex_company_name': 'Shelt Global Limited', 'gitex_website': 'https://www.shelt.com', 'gitex_location': 'Cyprus', 'gitex_sector': 'Artificial Intelligence,Cyber security,'}, {'gitex_company_name': 'Shenyang Jesen Pos Co., Ltd', 'gitex_website': 'http://www.jesenpos.com', 'gitex_location': 'China', 'gitex_sector': 'Fintech,'}, {'gitex_company_name': 'Shenzhen  Horion  Intelligent Technology Co., Ltd', 'gitex_website': 'https://global.horion.com/en/home', 'gitex_location': 'China', 'gitex_sector': 'Retail Tech,Consumer Tech, Smart Home & Smart Workplace,Education Tech,'}, {'gitex_company_name': 'Shenzhen Baseus Technology', 'gitex_website': 'https://www.baseus.com/', 'gitex_location': 'China', 'gitex_sector': 'Mobile Accessories & Peripherals,'}, {'gitex_company_name': 'Shenzhen Bvsion Technology Co., Ltd', 'gitex_website': 'http://www.lcdbvs.com', 'gitex_location': 'China', 'gitex_sector': 'PropTech,Retail Tech,Smart Cities,Consumer Tech, Smart Home & Smart Workplace,Internet of Things (IOT),'}, {'gitex_company_name': 'Shenzhen C-Data Technology Co., Ltd.', 'gitex_website': 'https://cdatatec.com/', 'gitex_location': 'China', 'gitex_sector': '5G & Telecommunications,Cloud Services,'}, {'gitex_company_name': 'Shenzhen Champion Technology Co., Ltd', 'gitex_website': 'http://anank.com', 'gitex_location': 'China', 'gitex_sector': 'Mobile Accessories & Peripherals,'}, {'gitex_company_name': 'Shenzhen Cudy Technology Co., Ltd.', 'gitex_website': 'https://www.cudy.com/', 'gitex_location': 'China', 'gitex_sector': 'Networking & Infrastructure,5G & Telecommunications,Cloud Services,Consumer Tech, Smart Home & Smart Workplace,Gaming,'}, {'gitex_company_name': 'ShenZhen Dibet Technology Co., Ltd', 'gitex_website': 'https://www.dibetpower.com/', 'gitex_location': 'China', 'gitex_sector': 'Mobile Accessories & Peripherals,'}, {'gitex_company_name': 'Shenzhen Double Power Electronics Co., Ltd', 'gitex_website': 'http://www.szdpower.com/en/', 'gitex_location': 'China', 'gitex_sector': 'Data Centres,Ecommerce,'}, {'gitex_company_name': 'ShenZhen DYS Fiber Optic Technology Co., Ltd', 'gitex_website': 'https://www.dysfiber.com/', 'gitex_location': 'China', 'gitex_sector': '5G & Telecommunications,'}, {'gitex_company_name': 'Shenzhen E-Jeton Technology Co., Ltd.', 'gitex_website': 'http://www.ejeton.com/', 'gitex_location': 'China', 'gitex_sector': 'Big Data & Analytics,'}, {'gitex_company_name': 'Shenzhen E-RAN Technology Co., Ltd', 'gitex_website': 'https://www.e-ran.com.cn', 'gitex_location': 'China', 'gitex_sector': 'Consumer Tech, Smart Home & Smart Workplace,'}, {'gitex_company_name': 'Shenzhen Ejoin Technology Co., Ltd', 'gitex_website': 'https://ejointech.cn', 'gitex_location': 'China', 'gitex_sector': '5G & Telecommunications,'}, {'gitex_company_name': 'Shenzhen Elanda Tech Co., LTD.', 'gitex_website': 'https://www.elandatech.com/', 'gitex_location': 'China', 'gitex_sector': 'Retail Tech,'}, {'gitex_company_name': 'Shenzhen Eloam Technology Co., Ltd.', 'gitex_website': 'https://en.eloam.cn/', 'gitex_location': 'China', 'gitex_sector': 'Consumer Tech, Smart Home & Smart Workplace,'}, {'gitex_company_name': 'SHENZHEN ETERNITY JU ELECTRONIC CO., LTD', 'gitex_website': 'http://www.szeje.com', 'gitex_location': 'China', 'gitex_sector': '5G & Telecommunications,'}, {'gitex_company_name': 'SHENZHEN EVIEW GPS TECHNOLOGY', 'gitex_website': 'https://www.eviewgps.com', 'gitex_location': 'China', 'gitex_sector': 'Smart Cities,Consumer Tech, Smart Home & Smart Workplace,HealthTech,Internet of Things (IOT),'}, {'gitex_company_name': 'Shenzhen FI-Cable Technolgy Co., LTD', 'gitex_website': 'https://en.ficable.com', 'gitex_location': 'China', 'gitex_sector': 'Networking & Infrastructure,Data Centres,Internet of Things (IOT),'}, {'gitex_company_name': 'Shenzhen Forward Video Technology Co., Ltd.', 'gitex_website': 'https://www.ezcap.com/', 'gitex_location': 'China', 'gitex_sector': 'Consumer Tech, Smart Home & Smart Workplace,Gaming,Media, Marketing & Advertising Tech,'}, {'gitex_company_name': 'Shenzhen Future Access Technology Co., Ltd.', 'gitex_website': 'http://www.hifuturegroup.com', 'gitex_location': 'China', 'gitex_sector': 'Mobile Accessories & Peripherals,Consumer Tech, Smart Home & Smart Workplace,'}, {'gitex_company_name': 'Shenzhen Geekbuy E-Commerce Co., Ltd', 'gitex_website': 'https://www.geekbuying.com/', 'gitex_location': 'China', 'gitex_sector': 'Mobile Accessories & Peripherals,Consumer Tech, Smart Home & Smart Workplace,Ecommerce,'}, {'gitex_company_name': 'Shenzhen Geshem Technology Co., Ltd', 'gitex_website': 'https://www.geshemtech.com/', 'gitex_location': 'China', 'gitex_sector': 'Regulatory Technology,Smart Cities,AgriTech & FoodTech,Artificial Intelligence,Consumer Tech, Smart Home & Smart Workplace,'}, {'gitex_company_name': 'Shenzhen Gilong Electronic Co., Ltd.', 'gitex_website': 'http://szgilong.com', 'gitex_location': 'China', 'gitex_sector': 'Retail Tech,Consumer Tech, Smart Home & Smart Workplace,Fintech,HealthTech,'}, {'gitex_company_name': 'SHENZHEN GREPOW BATTERY CO., LTD', 'gitex_website': 'https://www.grepow.com/', 'gitex_location': 'China', 'gitex_sector': 'Smart Cities,Internet of Things (IOT),Metaverse, Immersive Tech,'}, {'gitex_company_name': 'Shenzhen Huntkey Chiyuan Electrics Co., Ltd.', 'gitex_website': 'https://en.huntkey.com/', 'gitex_location': 'China', 'gitex_sector': ''}, {'gitex_company_name': 'Shenzhen IP3 Century Intelligent Technology CO., LTD.', 'gitex_website': 'https://www.ip3-tech.com/', 'gitex_location': 'China', 'gitex_sector': 'AgriTech & FoodTech,Big Data & Analytics,Blockchain,Cloud Services,Consumer Tech, Smart Home & Smart Workplace,'}, {'gitex_company_name': 'Shenzhen Jeidar Electronics Co.,Ltd', 'gitex_website': 'http://www.kotohirasystem.jp', 'gitex_location': 'China', 'gitex_sector': '5G & Telecommunications,Blockchain,Data Centres,Energy Tech,Internet of Things (IOT),'}, {'gitex_company_name': 'ShenZhen Jimashi Trading Co., Ltd.', 'gitex_website': 'http://www.wiwu.ae', 'gitex_location': 'United Arab Emirates', 'gitex_sector': 'Mobile Accessories & Peripherals,Internet of Things (IOT),'}, {'gitex_company_name': 'Shenzhen Kingvie Technology Co., Ltd.', 'gitex_website': 'http://www.kingvie.com', 'gitex_location': 'China', 'gitex_sector': 'Mobile Accessories & Peripherals,Consumer Tech, Smart Home & Smart Workplace,'}, {'gitex_company_name': 'Shenzhen Kingwear Intelligent Technology Co., Ltd.', 'gitex_website': 'https://www.king-wear.com', 'gitex_location': 'China', 'gitex_sector': 'Consumer Tech, Smart Home & Smart Workplace,'}, {'gitex_company_name': 'Shenzhen KSTAR Science And Technology Co Ltd', 'gitex_website': 'https://www.kstar.com', 'gitex_location': 'China', 'gitex_sector': 'Sustainability & Green Tech,5G & Telecommunications,Consumer Tech, Smart Home & Smart Workplace,Data Centres,Energy Tech,'}, {'gitex_company_name': 'Shenzhen KTC Technology Co., Ltd', 'gitex_website': 'https://www.ktc.cn/en', 'gitex_location': 'China', 'gitex_sector': 'Consumer Tech, Smart Home & Smart Workplace,Education Tech,Media, Marketing & Advertising Tech,'}, {'gitex_company_name': 'Shenzhen Link Dream Electronics Co., Ltd.', 'gitex_website': 'https://www.link-dream.com/', 'gitex_location': 'China', 'gitex_sector': 'Mobile Accessories & Peripherals,'}, {'gitex_company_name': 'Shenzhen Longisland Forever Technology Co., Ltd', 'gitex_website': 'https://www.lifpos.com/', 'gitex_location': 'China', 'gitex_sector': 'Consumer Tech, Smart Home & Smart Workplace,'}, {'gitex_company_name': 'Shenzhen Luckystar Technology Co., Ltd', 'gitex_website': 'https://www.luckystar.com.cn/', 'gitex_location': 'China', 'gitex_sector': 'Mobile Accessories & Peripherals,5G & Telecommunications,Cloud Services,Consumer Tech, Smart Home & Smart Workplace,Education Tech,'}, {'gitex_company_name': 'Shenzhen Maxtop Digital Technology Co., Ltd', 'gitex_website': 'http://www.maxtop.cc', 'gitex_location': 'China', 'gitex_sector': 'HealthTech,'}, {'gitex_company_name': 'Shenzhen Meituan Low Altitude Logistics Technology Co., Ltd.', 'gitex_website': 'https://about.meituan.com.cn', 'gitex_location': 'China', 'gitex_sector': 'Smart Cities,Sustainability & Green Tech,Unmanned Aerial Vehicles (Drones),Future Mobility & Transportation,'}, {'gitex_company_name': 'Shenzhen Metalogic Electronic Technology Co.Ltd', 'gitex_website': 'http://www.metalogic.cn', 'gitex_location': 'China', 'gitex_sector': 'Retail Tech,Consumer Tech, Smart Home & Smart Workplace,Fintech,'}, {'gitex_company_name': 'Shenzhen Poweroak Newener Co.,Ltd', 'gitex_website': 'https://www.bluettipower.com', 'gitex_location': 'China', 'gitex_sector': 'Sustainability & Green Tech,Energy Tech,'}, {'gitex_company_name': 'Shenzhen Pushi Technology Co., Ltd', 'gitex_website': 'https://www.szputy.com', 'gitex_location': 'China', 'gitex_sector': 'Consumer Tech, Smart Home & Smart Workplace,'}, {'gitex_company_name': 'Shenzhen Qishun Innovation Technology Development Co. LTD', 'gitex_website': 'http://qscxsm.com', 'gitex_location': 'China', 'gitex_sector': 'Consumer Tech, Smart Home & Smart Workplace,'}, {'gitex_company_name': 'Shenzhen Ruiying Electronic Co., Ltd', 'gitex_website': 'https://ruiyingtech.manufacturer.globalsources.com/si/6008853967167/Homepage.htm', 'gitex_location': 'China', 'gitex_sector': 'Retail Tech,Consumer Tech, Smart Home & Smart Workplace,'}, {'gitex_company_name': 'SHENZHEN RX TECHNOLOGY CO LTD', 'gitex_website': 'http://www.rx-technology.com', 'gitex_location': 'China', 'gitex_sector': ''}, {'gitex_company_name': 'SHENZHEN SDION ELECTRONIC TECHNOLOGY CO., LTD.', 'gitex_website': 'http://www.sdiontech.com/\\ufeff', 'gitex_location': 'China', 'gitex_sector': 'Mobile Accessories & Peripherals,Consumer Tech, Smart Home & Smart Workplace,'}, {'gitex_company_name': 'Shenzhen Sinotek Technology Co., Ltd.', 'gitex_website': 'https://www.sinotek.net/', 'gitex_location': 'China', 'gitex_sector': 'Mobile Accessories & Peripherals,Consumer Tech, Smart Home & Smart Workplace,Energy Tech,'}, {'gitex_company_name': 'Shenzhen Skyworth Digital Technology Co. Ltd', 'gitex_website': 'https://en.skyworthdigital.com/', 'gitex_location': 'China', 'gitex_sector': '5G & Telecommunications,'}, {'gitex_company_name': 'Shenzhen Sopto Technology Co., Ltd', 'gitex_website': 'https://www.sopto.com.cn', 'gitex_location': 'China', 'gitex_sector': '5G & Telecommunications,Data Centres,'}, {'gitex_company_name': 'Shenzhen SQT Electronics Co., Ltd', 'gitex_website': 'http://www.mofii.com', 'gitex_location': 'China', 'gitex_sector': 'Consumer Tech, Smart Home & Smart Workplace,'}, {'gitex_company_name': 'Shenzhen Suiyi Touch Computer Co., Ltd', 'gitex_website': 'http://suieworld.com', 'gitex_location': 'China', 'gitex_sector': 'Retail Tech,'}, {'gitex_company_name': 'Shenzhen TOPFLYTECH Co., Limited', 'gitex_website': 'https://www.topflytech.com/', 'gitex_location': 'China', 'gitex_sector': 'Networking & Infrastructure,Smart Cities,Software Services,Cloud Services,Internet of Things (IOT),'}, {'gitex_company_name': 'Shenzhen XinRuiMing Technology Co., Ltd', 'gitex_website': 'http://www.huarigor.com', 'gitex_location': 'China', 'gitex_sector': 'Mobile Accessories & Peripherals,'}, {'gitex_company_name': 'Shenzhen Yunlink Technology Co., LTD', 'gitex_website': 'https://www.yuncore.com.cn/', 'gitex_location': 'China', 'gitex_sector': 'Networking & Infrastructure,Smart Cities,5G & Telecommunications,Internet of Things (IOT),'}, {'gitex_company_name': 'Shenzhen Yuxin Cheng Electronics Co., Ltd', 'gitex_website': 'https://lxbrandacc.manufacturer.globalsources.com/', 'gitex_location': 'China', 'gitex_sector': 'Mobile Accessories & Peripherals,'}, {'gitex_company_name': 'SheWork.in', 'gitex_website': 'https://www.shework.in/', 'gitex_location': 'India', 'gitex_sector': 'Software Services,Coding and Development,Ecommerce,Media, Marketing & Advertising Tech,Metaverse, Immersive Tech,'}, {'gitex_company_name': 'SHKE Communication Tech Co., Ltd', 'gitex_website': 'https://www.shke.com.cn', 'gitex_location': 'China', 'gitex_sector': '5G & Telecommunications,Data Centres,'}, {'gitex_company_name': 'Shunya Ekai Technologies LLC', 'gitex_website': 'https://shunyaekai.tech/index.html', 'gitex_location': 'United Arab Emirates', 'gitex_sector': 'Artificial Intelligence,Big Data & Analytics,Blockchain,Cloud Services,'}, {'gitex_company_name': 'Shure MEA DMCC', 'gitex_website': 'https://www.shure.com', 'gitex_location': 'United Arab Emirates', 'gitex_sector': 'Education Tech,'}, {'gitex_company_name': 'SHYFTER', 'gitex_website': 'https://shyfter.co/en/', 'gitex_location': 'Belgium', 'gitex_sector': 'Retail Tech,Education Tech,'}, {'gitex_company_name': 'signotec GmbH', 'gitex_website': 'https://en.signotec.com/', 'gitex_location': 'Germany', 'gitex_sector': 'Mobile Accessories & Peripherals,Software Services,Blockchain,Cloud Services,'}, {'gitex_company_name': 'SILICON IT HUB PVT. LTD', 'gitex_website': 'http://siliconithub.com/', 'gitex_location': 'India', 'gitex_sector': 'Software Services,Blockchain,Coding and Development,Ecommerce,Fintech,'}, {'gitex_company_name': 'Silverline', 'gitex_website': 'https://silverlinesv.com/', 'gitex_location': 'United Arab Emirates', 'gitex_sector': ''}, {'gitex_company_name': 'SIMARTIS', 'gitex_website': 'https://www.simartis.com', 'gitex_location': 'Romania', 'gitex_sector': 'Software Services,5G & Telecommunications,Internet of Things (IOT),'}, {'gitex_company_name': 'Sjain Ventures Limited', 'gitex_website': 'https://sjain.io/', 'gitex_location': 'India', 'gitex_sector': 'Cloud Services,Coding and Development,Ecommerce,Education Tech,Fintech,'}, {'gitex_company_name': 'SKAD IT SOLUTIONS', 'gitex_website': 'https://skadits.com/', 'gitex_location': 'United Arab Emirates', 'gitex_sector': 'Software Services,Artificial Intelligence,Cloud Services,Cyber security,HealthTech,'}, {'gitex_company_name': 'Smartmatic USA Corp', 'gitex_website': 'https://www.smartmatic.com/', 'gitex_location': 'United States of America', 'gitex_sector': ''}, {'gitex_company_name': 'SMD ENTERPRISES LIMITED', 'gitex_website': 'https://za.volkano.com/', 'gitex_location': 'Hong Kong Special Administrative Region', 'gitex_sector': 'Mobile Accessories & Peripherals,Consumer Tech, Smart Home & Smart Workplace,'}, {'gitex_company_name': 'SNBC', 'gitex_website': 'http://www.snbc.com.cn', 'gitex_location': 'China', 'gitex_sector': 'Retail Tech,Fintech,Gaming,'}, {'gitex_company_name': 'Snowflake', 'gitex_website': 'https://www.snowflake.com/en/', 'gitex_location': 'United Arab Emirates', 'gitex_sector': 'Big Data & Analytics,Cloud Services,Cyber security,'}, {'gitex_company_name': 'SOFTECH', 'gitex_website': 'https://softech.ro/', 'gitex_location': 'Romania', 'gitex_sector': 'Software Services,Cloud Services,Coding and Development,Consumer Tech, Smart Home & Smart Workplace,Internet of Things (IOT),'}, {'gitex_company_name': 'SOFTLINE COMPUTER SYSTEMS', 'gitex_website': 'https://www.softline.com.cy', 'gitex_location': 'Cyprus', 'gitex_sector': 'PropTech,Regulatory Technology,Cloud Services,Cyber security,Data Centres,'}, {'gitex_company_name': 'Softude', 'gitex_website': 'https://www.softude.com', 'gitex_location': 'India', 'gitex_sector': 'Software Services,Artificial Intelligence,Coding and Development,Cyber security,Fintech,'}, {'gitex_company_name': 'Software AG International FZ-LLC', 'gitex_website': 'https://softwareag.com/', 'gitex_location': 'United Arab Emirates', 'gitex_sector': ''}, {'gitex_company_name': 'SolarWinds', 'gitex_website': 'https://www.solarwinds.com/', 'gitex_location': 'Ireland, Republic of', 'gitex_sector': 'Networking & Infrastructure,AgriTech & FoodTech,Big Data & Analytics,Cloud Services,Cyber security,'}, {'gitex_company_name': 'Soltech Co., Ltd', 'gitex_website': 'https://soltech.co.kr/', 'gitex_location': 'Korea, Republic Of', 'gitex_sector': '5G & Telecommunications,Cloud Services,'}, {'gitex_company_name': 'Sonatype', 'gitex_website': 'https://sonatype.com', 'gitex_location': 'United Kingdom', 'gitex_sector': ''}, {'gitex_company_name': 'SonicWall', 'gitex_website': 'https://www.sonicwall.com/', 'gitex_location': 'United Arab Emirates', 'gitex_sector': 'Networking & Infrastructure,5G & Telecommunications,Cloud Services,Cyber security,Data Centres,'}, {'gitex_company_name': 'Sophos Ltd', 'gitex_website': 'https://sophos.com', 'gitex_location': 'United Arab Emirates', 'gitex_sector': 'Cyber security,'}, {'gitex_company_name': 'SOTI Inc', 'gitex_website': 'https://soti.net/', 'gitex_location': 'Canada', 'gitex_sector': 'Software Services,Internet of Things (IOT),'}, {'gitex_company_name': 'Source Code Technology (SCT) Foundation', 'gitex_website': 'https://www.sctfoundation.org/', 'gitex_location': 'Canada', 'gitex_sector': ''}, {'gitex_company_name': 'Sparkle Computer Distribution LLC', 'gitex_website': 'https://www.sparklegaming.com', 'gitex_location': 'United Arab Emirates', 'gitex_sector': 'Gaming,'}, {'gitex_company_name': 'SPARX IT SOLUTIONS PRIVATE LIMITED', 'gitex_website': 'https://www.sparxit.com/', 'gitex_location': 'India', 'gitex_sector': 'Software Services,Artificial Intelligence,Cyber security,Fintech,HealthTech,'}, {'gitex_company_name': 'Spica Media', 'gitex_website': 'https://www.spica.media/', 'gitex_location': 'United Arab Emirates', 'gitex_sector': 'Big Data & Analytics,'}, {'gitex_company_name': 'SPIRE SOLUTIONS', 'gitex_website': 'https://www.spiresolutions.com/', 'gitex_location': 'United Arab Emirates', 'gitex_sector': ''}, {'gitex_company_name': 'Spirelink', 'gitex_website': 'https://spirelink.co/', 'gitex_location': 'United Arab Emirates', 'gitex_sector': 'Networking & Infrastructure,Consumer Tech, Smart Home & Smart Workplace,Education Tech,Fintech,Gaming,'}, {'gitex_company_name': 'SPIRIT Slovenia Business Development Agency', 'gitex_website': 'https://www.sloveniabusiness.eu/', 'gitex_location': 'Slovenia', 'gitex_sector': ''}, {'gitex_company_name': 'SplunkServicesFZ-LLC', 'gitex_website': 'http://www.splunk.com/', 'gitex_location': 'United Arab Emirates', 'gitex_sector': ''}, {'gitex_company_name': 'Squareboat', 'gitex_website': 'https://squareboat.com', 'gitex_location': 'India', 'gitex_sector': 'Software Services,Coding and Development,Ecommerce,Fintech,HealthTech,'}, {'gitex_company_name': 'SRTechnology Co., Ltd.', 'gitex_website': 'http://www.srtechnology.com', 'gitex_location': 'Korea, Republic Of', 'gitex_sector': 'Smart Cities,5G & Telecommunications,Future Mobility & Transportation,Internet of Things (IOT),'}, {'gitex_company_name': 'STAR TECH FZE', 'gitex_website': 'https://www.startechgcc.com/', 'gitex_location': 'United Arab Emirates', 'gitex_sector': ''}, {'gitex_company_name': 'StarLink DMCC', 'gitex_website': 'https://www.starlinkme.net', 'gitex_location': 'United Arab Emirates', 'gitex_sector': 'Networking & Infrastructure,Big Data & Analytics,Cloud Services,Cyber security,Data Centres,'}, {'gitex_company_name': 'Stellar Electronics Limited', 'gitex_website': 'http://www.stellatronic.com/', 'gitex_location': 'Hong Kong Special Administrative Region', 'gitex_sector': ''}, {'gitex_company_name': 'STERNX TECHNOLOGY LLC', 'gitex_website': 'https://sternx.de/en/', 'gitex_location': 'Germany', 'gitex_sector': ''}, {'gitex_company_name': 'STL - Sterlite Technologies Limited', 'gitex_website': 'https://stl.tech/', 'gitex_location': 'India', 'gitex_sector': '5G & Telecommunications,Internet of Things (IOT),'}, {'gitex_company_name': 'StorIT Distribution FZCO', 'gitex_website': 'https://storit.ae/', 'gitex_location': 'United Arab Emirates', 'gitex_sector': 'Networking & Infrastructure,Artificial Intelligence,Cloud Services,Cyber security,Fintech,'}, {'gitex_company_name': 'STULZ GmbH', 'gitex_website': 'https://www.stulz.com/', 'gitex_location': 'Germany', 'gitex_sector': ''}, {'gitex_company_name': 'Subtonomy', 'gitex_website': 'https://www.subtonomy.com', 'gitex_location': 'Sweden', 'gitex_sector': ''}, {'gitex_company_name': 'SUDO Consultants FZ-LLC', 'gitex_website': 'https://sudoconsultants.com', 'gitex_location': 'United Arab Emirates', 'gitex_sector': ''}, {'gitex_company_name': 'Sumitomo Electric Industries, Ltd', 'gitex_website': 'https://sumitomoelectric.com/', 'gitex_location': 'Japan', 'gitex_sector': '5G & Telecommunications,'}, {'gitex_company_name': 'SungMin Networks Co., Ltd.', 'gitex_website': 'http://www.softcrm.co.kr/', 'gitex_location': 'Korea, Republic Of', 'gitex_sector': 'HealthTech,'}, {'gitex_company_name': 'SUNKYOUNG S.T. CO LTD', 'gitex_website': 'http://www.sunkyoungst.com/', 'gitex_location': 'Korea, Republic Of', 'gitex_sector': 'Consumer Tech, Smart Home & Smart Workplace,'}, {'gitex_company_name': 'SUNLUX IOT Technology (Guangdong) Inc.', 'gitex_website': 'https://www.xl-scan.com/', 'gitex_location': 'China', 'gitex_sector': ''}, {'gitex_company_name': 'Sunmi Technology Co., Ltd', 'gitex_website': 'https://www.sunmi.com/en-US/', 'gitex_location': 'China', 'gitex_sector': '3D Printing & Printing Services,AgriTech & FoodTech,'}, {'gitex_company_name': 'Super Micro Computer, Inc.', 'gitex_website': 'http://www.supermicro.com', 'gitex_location': 'United States of America', 'gitex_sector': 'Networking & Infrastructure,5G & Telecommunications,Artificial Intelligence,Big Data & Analytics,Blockchain,'}, {'gitex_company_name': 'Supertech Computer Trading LLC', 'gitex_website': 'https://supertechwebstore.com/', 'gitex_location': 'United Arab Emirates', 'gitex_sector': 'Mobile Accessories & Peripherals,Networking & Infrastructure,Retail Tech,5G & Telecommunications,Cloud Services,'}, {'gitex_company_name': 'Sure Triumph Industrial Limited', 'gitex_website': 'http://www.suretriumph.com', 'gitex_location': 'Hong Kong Special Administrative Region', 'gitex_sector': '5G & Telecommunications,'}, {'gitex_company_name': 'Suzhou Ribao Technology Co.,Ltd', 'gitex_website': 'http://www.ribaotechnology.com', 'gitex_location': 'China', 'gitex_sector': 'Consumer Tech, Smart Home & Smart Workplace,Fintech,'}, {'gitex_company_name': 'Swiss-mile', 'gitex_website': 'https://www.swiss-mile.com/', 'gitex_location': 'Switzerland', 'gitex_sector': ''}, {'gitex_company_name': 'Synergix International', 'gitex_website': 'https://www.synergix-int.com/', 'gitex_location': 'United Arab Emirates', 'gitex_sector': 'Networking & Infrastructure,3D Printing & Printing Services,Cyber security,Future Mobility & Transportation,Internet of Things (IOT),'}, {'gitex_company_name': 'Synology Incorporated', 'gitex_website': 'https://www.synology.com/', 'gitex_location': 'Taiwan (R.O.C.)', 'gitex_sector': 'Cloud Services,Consumer Tech, Smart Home & Smart Workplace,'}, {'gitex_company_name': 'SYNTECH INTERNATIONAL LIMITED', 'gitex_website': 'http://www.syntechhome.com', 'gitex_location': 'China', 'gitex_sector': 'Blockchain,Education Tech,Gaming,'}, {'gitex_company_name': 'Syscom Distributions LLC', 'gitex_website': 'https://www.sysllc.com/', 'gitex_location': 'United Arab Emirates', 'gitex_sector': 'Networking & Infrastructure,5G & Telecommunications,Cloud Services,Cyber security,Data Centres,'}, {'gitex_company_name': 'Syscort Technologies', 'gitex_website': 'https://syscort.com/', 'gitex_location': 'United Arab Emirates', 'gitex_sector': 'Retail Tech,Software Services,Cloud Services,Coding and Development,Fintech,'}, {'gitex_company_name': 'Systems Limited', 'gitex_website': 'https://www.systemsltd.com/', 'gitex_location': 'Pakistan', 'gitex_sector': 'Agnostic,'}, {'gitex_company_name': 'Systems Programming Information Technology', 'gitex_website': 'https://www.savir.net', 'gitex_location': 'Saudi Arabia', 'gitex_sector': 'Artificial Intelligence,Blockchain,Education Tech,Gaming,Metaverse, Immersive Tech,'}, {'gitex_company_name': 'T2', 'gitex_website': 'https://www.t2.sa/ar', 'gitex_location': 'Saudi Arabia', 'gitex_sector': 'Software Services,Artificial Intelligence,Blockchain,Cloud Services,Internet of Things (IOT),'}, {'gitex_company_name': 'TAGGLABS EXPERIENTIAL PVT LTD', 'gitex_website': 'https://www.tagglabs.in', 'gitex_location': 'India', 'gitex_sector': 'Artificial Intelligence,Blockchain,Coding and Development,Media, Marketing & Advertising Tech,Metaverse, Immersive Tech,'}, {'gitex_company_name': 'Tahaluf Alemarat Technical Solutions L.L.C', 'gitex_website': 'https://tahaluf.ai/', 'gitex_location': 'United Arab Emirates', 'gitex_sector': 'Smart Cities,Artificial Intelligence,Big Data & Analytics,Education Tech,Internet of Things (IOT),'}, {'gitex_company_name': 'TAIDEN', 'gitex_website': 'http://www.taiden.com', 'gitex_location': 'China', 'gitex_sector': '5G & Telecommunications,Education Tech,'}, {'gitex_company_name': 'Takamol Holding Group', 'gitex_website': 'https://takamolholding.com/en/', 'gitex_location': 'Saudi Arabia', 'gitex_sector': ''}, {'gitex_company_name': 'Tally Solutions Pvt. Ltd.', 'gitex_website': 'https://tallysolutions.com/mena/', 'gitex_location': 'United Arab Emirates', 'gitex_sector': ''}, {'gitex_company_name': 'Tamkeen', 'gitex_website': 'https://www.tamkeen.bh/', 'gitex_location': 'Bahrain', 'gitex_sector': ''}, {'gitex_company_name': 'TAQNIA', 'gitex_website': 'https://gis.taqniaets.com/etsbetav03/en/index.html', 'gitex_location': 'Saudi Arabia', 'gitex_sector': '3D Printing & Printing Services,Education Tech,'}, {'gitex_company_name': 'Tech Destination Pakistan', 'gitex_website': 'http://techdestination.com', 'gitex_location': 'Pakistan', 'gitex_sector': 'Cyber security,Fintech,Gaming,Internet of Things (IOT),Metaverse, Immersive Tech,'}, {'gitex_company_name': 'Tech First Gulf FZ LLC', 'gitex_website': 'https://www.techfirstgulf.com/', 'gitex_location': 'United Arab Emirates', 'gitex_sector': 'Networking & Infrastructure,5G & Telecommunications,Cloud Services,Consumer Tech, Smart Home & Smart Workplace,Cyber security,'}, {'gitex_company_name': 'TechBridge', 'gitex_website': 'https://tech-bridge.biz/', 'gitex_location': 'India', 'gitex_sector': 'Networking & Infrastructure,Smart Cities,5G & Telecommunications,Cyber security,Fintech,'}, {'gitex_company_name': 'TechInfini Solutions Pvt. Ltd.', 'gitex_website': 'https://techinfini.in/', 'gitex_location': 'India', 'gitex_sector': 'Software Services,Artificial Intelligence,Coding and Development,Ecommerce,Media, Marketing & Advertising Tech,'}, {'gitex_company_name': 'TechLine', 'gitex_website': 'https://www.techline-eg.com', 'gitex_location': 'United Arab Emirates', 'gitex_sector': 'Networking & Infrastructure,Cloud Services,Cyber security,Fintech,'}, {'gitex_company_name': 'TECHNOCITY INTERNATIONAL FZCO', 'gitex_website': 'http://www.sleekdubai.com', 'gitex_location': 'United Arab Emirates', 'gitex_sector': 'Mobile Accessories & Peripherals,Consumer Tech, Smart Home & Smart Workplace,'}, {'gitex_company_name': 'TECHNOVATE SOLUTIONS', 'gitex_website': 'https://www.technovate.in', 'gitex_location': 'India', 'gitex_sector': 'Software Services,Big Data & Analytics,Coding and Development,Fintech,HealthTech,'}, {'gitex_company_name': 'TECHNOWAVE INTERNATIONAL LLC', 'gitex_website': 'https://technowavegroup.com/', 'gitex_location': 'United Arab Emirates', 'gitex_sector': 'Consumer Tech, Smart Home & Smart Workplace,Future Mobility & Transportation,HealthTech,Internet of Things (IOT),'}, {'gitex_company_name': 'TecPro (HK) Limited', 'gitex_website': 'https://tecpro.com.sg/', 'gitex_location': 'Hong Kong Special Administrative Region', 'gitex_sector': 'Mobile Accessories & Peripherals,Consumer Tech, Smart Home & Smart Workplace,'}, {'gitex_company_name': 'Telecom Review Group', 'gitex_website': 'https://www.telecomreviewgroup.com/', 'gitex_location': 'United Arab Emirates', 'gitex_sector': 'Media, Marketing & Advertising Tech,'}, {'gitex_company_name': 'Telecommunications and Digital Government Regulatory Authority (', 'gitex_website': 'https://tdra.gov.ae/', 'gitex_location': 'United Arab Emirates', 'gitex_sector': 'Space Tech,5G & Telecommunications,'}, {'gitex_company_name': 'Teleflex General Trading & Telecom FZCO', 'gitex_website': 'http://Teleflex.ae', 'gitex_location': 'United Arab Emirates', 'gitex_sector': 'Mobile Accessories & Peripherals,5G & Telecommunications,Future Mobility & Transportation,Gaming,'}, {'gitex_company_name': 'Teltronix U.k.LIMITED', 'gitex_website': 'https://briticom.net/', 'gitex_location': 'United Kingdom', 'gitex_sector': 'Networking & Infrastructure,5G & Telecommunications,Data Centres,'}, {'gitex_company_name': 'Telture Solutions Pvt Ltd', 'gitex_website': 'https://www.telture.com/', 'gitex_location': 'India', 'gitex_sector': '3D Printing & Printing Services,5G & Telecommunications,Big Data & Analytics,Consumer Tech, Smart Home & Smart Workplace,'}, {'gitex_company_name': 'Tempo Communications', 'gitex_website': 'https://www.tempocom.com', 'gitex_location': 'United Kingdom', 'gitex_sector': '5G & Telecommunications,Internet of Things (IOT),'}, {'gitex_company_name': 'Tencent Cloud', 'gitex_website': 'https://www.tencentcloud.com/', 'gitex_location': 'Hong Kong Special Administrative Region', 'gitex_sector': ''}, {'gitex_company_name': 'Tesenso IoT Solutions', 'gitex_website': 'https://www.tesenso.com/', 'gitex_location': 'Switzerland', 'gitex_sector': 'Smart Cities,AgriTech & FoodTech,Big Data & Analytics,Blockchain,Internet of Things (IOT),'}, {'gitex_company_name': '', 'gitex_website': '', 'gitex_location': '', 'gitex_sector': ''}, {'gitex_company_name': '', 'gitex_website': '', 'gitex_location': '', 'gitex_sector': ''}, {'gitex_company_name': 'TEXUB FZCO', 'gitex_website': 'https://www.texub.com/dubai', 'gitex_location': 'United Arab Emirates', 'gitex_sector': ''}, {'gitex_company_name': 'THALES', 'gitex_website': 'https://www.thalesgroup.com/en', 'gitex_location': 'France', 'gitex_sector': ''}, {'gitex_company_name': 'The Business Development Agency of the Ryazan region', 'gitex_website': 'https://agency62.ru', 'gitex_location': 'Russian Federation', 'gitex_sector': ''}, {'gitex_company_name': 'The Saudi Company for Exchanging Digital Information  (Tabadul)', 'gitex_website': 'http://www.tabadul.sa', 'gitex_location': 'Saudi Arabia', 'gitex_sector': ''}, {'gitex_company_name': 'Theion', 'gitex_website': 'https://www.theion.de/', 'gitex_location': 'Germany', 'gitex_sector': 'Smart Cities,Sustainability & Green Tech,Energy Tech,Future Mobility & Transportation,'}, {'gitex_company_name': 'THIQAH', 'gitex_website': 'https://thiqah.sa', 'gitex_location': 'Saudi Arabia', 'gitex_sector': ''}, {'gitex_company_name': 'Thomsun Trading Est', 'gitex_website': 'https://www.thomsunmusic.com/proav', 'gitex_location': 'United Arab Emirates', 'gitex_sector': ''}, {'gitex_company_name': 'Tiger Technology', 'gitex_website': 'https://www.tiger-technology.com/', 'gitex_location': 'Bulgaria', 'gitex_sector': 'Cloud Services,Coding and Development,Data Centres,HealthTech,Media, Marketing & Advertising Tech,'}, {'gitex_company_name': 'TIM AKILLI KIYAFET TEKNOLOJI', 'gitex_website': 'https://www.threadinmotion.com/', 'gitex_location': 'Türkiye', 'gitex_sector': 'Retail Tech,Software Services,Big Data & Analytics,Consumer Tech, Smart Home & Smart Workplace,Internet of Things (IOT),'}, {'gitex_company_name': 'TLM International FZE', 'gitex_website': 'https://www.tlmintl.com/', 'gitex_location': 'United Arab Emirates', 'gitex_sector': 'Networking & Infrastructure,5G & Telecommunications,Cloud Services,Consumer Tech, Smart Home & Smart Workplace,Ecommerce,'}, {'gitex_company_name': 'TMAP S.R.L.', 'gitex_website': 'http://www.tmaptrading.com', 'gitex_location': 'Italy', 'gitex_sector': ''}, {'gitex_company_name': 'TMC (TallyMarks Consulting)', 'gitex_website': 'https://tmcltd.com', 'gitex_location': 'Pakistan', 'gitex_sector': 'Software Services,Big Data & Analytics,Cloud Services,Education Tech,HealthTech,'}, {'gitex_company_name': 'TO21comms Co., Ltd.', 'gitex_website': 'http://www.to21comms.com', 'gitex_location': 'Korea, Republic Of', 'gitex_sector': 'Smart Cities,Future Mobility & Transportation,Media, Marketing & Advertising Tech,'}, {'gitex_company_name': 'TOLOKA AI', 'gitex_website': 'https://toloka.ai', 'gitex_location': 'Netherlands', 'gitex_sector': 'Artificial Intelligence,Big Data & Analytics,Cloud Services,Coding and Development,Ecommerce,'}, {'gitex_company_name': 'Tong Yang BMS Co., Ltd.', 'gitex_website': 'https://tybms.co.kr/', 'gitex_location': 'Korea, Republic Of', 'gitex_sector': 'Smart Cities,'}, {'gitex_company_name': 'TONOMUS.NEOM', 'gitex_website': 'https://tonomus.neom.com', 'gitex_location': 'Saudi Arabia', 'gitex_sector': 'Smart Cities,5G & Telecommunications,Artificial Intelligence,Data Centres,Future Mobility & Transportation,'}, {'gitex_company_name': 'Touch Tel LLC', 'gitex_website': 'https://touchtelglobal.com/', 'gitex_location': 'United Arab Emirates', 'gitex_sector': 'Mobile Accessories & Peripherals,Unmanned Aerial Vehicles (Drones),Consumer Tech, Smart Home & Smart Workplace,Ecommerce,Internet of Things (IOT),'}, {'gitex_company_name': 'Tozed Kangwei Intelligent Technology', 'gitex_website': 'http://www.gztozed.com/en/', 'gitex_location': 'China', 'gitex_sector': 'Networking & Infrastructure,Smart Cities,5G & Telecommunications,Consumer Tech, Smart Home & Smart Workplace,'}, {'gitex_company_name': 'TP-Link MEA FZE', 'gitex_website': 'https://www.tp-link.com/ae/', 'gitex_location': 'United Arab Emirates', 'gitex_sector': 'Networking & Infrastructure,5G & Telecommunications,Cloud Services,Consumer Tech, Smart Home & Smart Workplace,HealthTech,'}, {'gitex_company_name': 'Transight Systems Private Limited', 'gitex_website': 'https://www.transight.in/', 'gitex_location': 'India', 'gitex_sector': 'Networking & Infrastructure,Smart Cities,Sustainability & Green Tech,Future Mobility & Transportation,Internet of Things (IOT),'}, {'gitex_company_name': 'Transport Authority - Ajman government', 'gitex_website': 'https://www.ta.gov.ae/ar/home', 'gitex_location': 'United Arab Emirates', 'gitex_sector': ''}, {'gitex_company_name': 'TRASSIR', 'gitex_website': 'https://trassir.com/', 'gitex_location': 'United Arab Emirates', 'gitex_sector': 'Quantum & High Performance Computing,Retail Tech,Smart Cities,Software Services,Coding and Development,'}, {'gitex_company_name': 'Trend Micro DMCC', 'gitex_website': 'https://www.trendmicro.com/en_th/business.html', 'gitex_location': 'United Arab Emirates', 'gitex_sector': 'Cyber security,'}, {'gitex_company_name': 'TRIOTRONIK GmbH', 'gitex_website': 'https://www.triotronik.com/en/?__langswitch=1', 'gitex_location': 'Austria', 'gitex_sector': 'Mobile Accessories & Peripherals,Networking & Infrastructure,Data Centres,Fintech,Internet of Things (IOT),'}, {'gitex_company_name': \"Triple J's Hong Kong Limited\", 'gitex_website': 'https://www.hexawon.com/about-us', 'gitex_location': 'Hong Kong Special Administrative Region', 'gitex_sector': 'Mobile Accessories & Peripherals,'}, {'gitex_company_name': 'TSC Printronix Auto ID Technology', 'gitex_website': 'https://emea.tscprinters.com/en', 'gitex_location': 'Germany', 'gitex_sector': 'Retail Tech,3D Printing & Printing Services,AgriTech & FoodTech,HealthTech,'}, {'gitex_company_name': 'TUBELIGHT COMMUNICATIONS LLC', 'gitex_website': 'https://tubelightcommunications.com', 'gitex_location': 'India', 'gitex_sector': 'Networking & Infrastructure,5G & Telecommunications,Cloud Services,Ecommerce,Media, Marketing & Advertising Tech,'}, {'gitex_company_name': 'Turna Teknoloji Anonim Sirketi', 'gitex_website': 'https://medar.cloud/en/', 'gitex_location': 'Türkiye', 'gitex_sector': 'Media, Marketing & Advertising Tech,'}, {'gitex_company_name': 'TWISTED MINDS', 'gitex_website': 'https://twistedminds.co/', 'gitex_location': 'United Arab Emirates', 'gitex_sector': 'Consumer Tech, Smart Home & Smart Workplace,Gaming,Media, Marketing & Advertising Tech,Metaverse, Immersive Tech,'}, {'gitex_company_name': 'TXOne Networks Inc.', 'gitex_website': 'https://www.txone.com/', 'gitex_location': 'Taiwan Province of China', 'gitex_sector': ''}, {'gitex_company_name': 'UAB Gurtam', 'gitex_website': 'https://gurtam.com/', 'gitex_location': 'Lithuania', 'gitex_sector': 'Software Services,Internet of Things (IOT),'}, {'gitex_company_name': 'UGREEN GROUP LIMITED', 'gitex_website': 'https://www.ugreen.com', 'gitex_location': 'China', 'gitex_sector': 'Mobile Accessories & Peripherals,'}, {'gitex_company_name': 'UHOPE COMPANY', 'gitex_website': 'https://www.uhope.eu/', 'gitex_location': 'Belgium', 'gitex_sector': 'Sustainability & Green Tech,Education Tech,'}, {'gitex_company_name': 'Umeox Innovations Co.,Ltd', 'gitex_website': 'https://iqibla.com/', 'gitex_location': 'United Arab Emirates', 'gitex_sector': 'Mobile Accessories & Peripherals,'}, {'gitex_company_name': 'Umm Al Quwain Free Trade Zone Authority', 'gitex_website': 'https://uaqftz.com/', 'gitex_location': 'United Arab Emirates', 'gitex_sector': 'Ecommerce,'}, {'gitex_company_name': 'UnaBiz', 'gitex_website': 'https://www.unabiz.com/', 'gitex_location': 'United Arab Emirates', 'gitex_sector': 'Networking & Infrastructure,Smart Cities,Cloud Services,Future Mobility & Transportation,Internet of Things (IOT),'}, {'gitex_company_name': 'UNICCON Group of Companies', 'gitex_website': 'https://uniccongroup.com/', 'gitex_location': 'Nigeria', 'gitex_sector': '3D Printing & Printing Services,5G & Telecommunications,'}, {'gitex_company_name': 'Union Camera Hong Kong Limited', 'gitex_website': 'http://www.unioncameraltd.com', 'gitex_location': 'Hong Kong Special Administrative Region', 'gitex_sector': ''}, {'gitex_company_name': 'Union Computer Supplies Limited', 'gitex_website': 'http://www.unioncomputersupplies.com/', 'gitex_location': 'Hong Kong Special Administrative Region', 'gitex_sector': 'Consumer Tech, Smart Home & Smart Workplace,'}, {'gitex_company_name': 'Upper Silesian Fund SA', 'gitex_website': 'https://www.fgsa.pl/', 'gitex_location': 'Poland', 'gitex_sector': ''}, {'gitex_company_name': 'URBI', 'gitex_website': 'https://urbi.ae', 'gitex_location': 'United Arab Emirates', 'gitex_sector': ''}, {'gitex_company_name': 'UROVO TECHNOLOGY CO.,LTD', 'gitex_website': 'http://en.urovo.com', 'gitex_location': 'China', 'gitex_sector': 'Retail Tech,Fintech,Future Mobility & Transportation,HealthTech,Internet of Things (IOT),'}, {'gitex_company_name': 'UTunnel Secure Access', 'gitex_website': 'https://www.utunnel.io', 'gitex_location': 'United States of America', 'gitex_sector': 'Cloud Services,Cyber security,'}, {'gitex_company_name': 'VAKE Consulting', 'gitex_website': 'https://vakeconsulting.com/', 'gitex_location': 'United Arab Emirates', 'gitex_sector': 'Software Services,Cloud Services,Coding and Development,'}, {'gitex_company_name': 'Value Smart Trading Limited', 'gitex_website': 'https://vstl.info', 'gitex_location': 'Hong Kong Special Administrative Region', 'gitex_sector': 'Mobile Accessories & Peripherals,Networking & Infrastructure,Consumer Tech, Smart Home & Smart Workplace,Data Centres,Gaming,'}, {'gitex_company_name': 'Vectra AI', 'gitex_website': 'https://www.vectra.ai/', 'gitex_location': 'France', 'gitex_sector': 'Artificial Intelligence,Blockchain,Cloud Services,Cyber security,Fintech,'}, {'gitex_company_name': 'Veeam Software', 'gitex_website': 'https://www.veeam.com/', 'gitex_location': 'United States of America', 'gitex_sector': '3D Printing & Printing Services,Blockchain,Cloud Services,Cyber security,Fintech,'}, {'gitex_company_name': 'Velos IoT', 'gitex_website': 'https://velosiot.com', 'gitex_location': 'Estonia', 'gitex_sector': ''}, {'gitex_company_name': 'Venuetech LLC', 'gitex_website': 'http://www.venuetech.ae', 'gitex_location': 'United Arab Emirates', 'gitex_sector': 'Retail Tech,Consumer Tech, Smart Home & Smart Workplace,Education Tech,Internet of Things (IOT),Media, Marketing & Advertising Tech,'}, {'gitex_company_name': 'Veritas Storage (Ireland) Limited', 'gitex_website': 'https://www.veritas.com/', 'gitex_location': 'United Arab Emirates', 'gitex_sector': 'Software Services,Big Data & Analytics,Cloud Services,Cyber security,Fintech,'}, {'gitex_company_name': 'Vestel Ticaret A.?.', 'gitex_website': 'https://vestelinternational.com/', 'gitex_location': 'Türkiye', 'gitex_sector': 'Retail Tech,Education Tech,Energy Tech,Internet of Things (IOT),'}, {'gitex_company_name': 'VIAVI Solutions', 'gitex_website': 'https://comtinu.com/', 'gitex_location': 'United Arab Emirates', 'gitex_sector': ''}, {'gitex_company_name': 'VIISAN Technology', 'gitex_website': 'https://www.viisan.com/en/', 'gitex_location': 'China', 'gitex_sector': 'Retail Tech,Smart Cities,Software Services,Consumer Tech, Smart Home & Smart Workplace,Education Tech,'}, {'gitex_company_name': 'VIMAI TECHNOLOGY CO.,LTD', 'gitex_website': 'http://www.vimai.hk', 'gitex_location': 'China', 'gitex_sector': 'Mobile Accessories & Peripherals,Consumer Tech, Smart Home & Smart Workplace,'}, {'gitex_company_name': 'VINSYS INFORATION TECHNOLOGY CONSULTANCY', 'gitex_website': 'https://www.vinsys.com/', 'gitex_location': 'United Arab Emirates', 'gitex_sector': 'Artificial Intelligence,Cloud Services,Cyber security,Data Centres,Education Tech,'}, {'gitex_company_name': 'VISSEM Electronics Co., Ltd', 'gitex_website': 'http://www.vissem.com/eng/', 'gitex_location': 'Korea, Republic Of', 'gitex_sector': 'Networking & Infrastructure,'}, {'gitex_company_name': 'Vizzio Technologies Pte Ltd', 'gitex_website': 'https://www.vizzio.ai/', 'gitex_location': 'Singapore', 'gitex_sector': 'Agnostic,'}, {'gitex_company_name': 'Vlatacom Institute Ltd.', 'gitex_website': 'https://www.vlatacominstitute.com', 'gitex_location': 'Serbia', 'gitex_sector': 'Artificial Intelligence,Cloud Services,Cyber security,Data Centres,'}, {'gitex_company_name': 'VMAX TECHNOLOGY LIMITED', 'gitex_website': 'https://www.vmaxpos.com/', 'gitex_location': 'China', 'gitex_sector': ''}, {'gitex_company_name': 'VMware International Unlimited Company', 'gitex_website': 'https://www.vmware.com/mena.html', 'gitex_location': 'United Arab Emirates', 'gitex_sector': ''}, {'gitex_company_name': 'VOLTME', 'gitex_website': 'https://www.voltme.com', 'gitex_location': 'Hong Kong Special Administrative Region', 'gitex_sector': 'Mobile Accessories & Peripherals,'}, {'gitex_company_name': 'VUEROID Dashcam', 'gitex_website': 'https://vueroid.com', 'gitex_location': 'Korea, Republic Of', 'gitex_sector': ''}, {'gitex_company_name': 'VX', 'gitex_website': 'https://sinocet.com', 'gitex_location': 'China', 'gitex_sector': 'Mobile Accessories & Peripherals,'}, {'gitex_company_name': 'Wadhwa Paltech Trading LLC', 'gitex_website': 'http://companywebsite.com', 'gitex_location': 'United Arab Emirates', 'gitex_sector': 'Consumer Tech, Smart Home & Smart Workplace,'}, {'gitex_company_name': 'Wall Universe Group', 'gitex_website': 'http://wall-universe-group.com', 'gitex_location': 'United Kingdom', 'gitex_sector': 'Mobile Accessories & Peripherals,Networking & Infrastructure,Consumer Tech, Smart Home & Smart Workplace,Data Centres,HealthTech,'}, {'gitex_company_name': 'WAPPNET SYSTEMS PVT LTD', 'gitex_website': 'https://wappnet.com', 'gitex_location': 'India', 'gitex_sector': 'Retail Tech,Artificial Intelligence,Big Data & Analytics,Blockchain,Coding and Development,'}, {'gitex_company_name': 'WATA Inc.', 'gitex_website': 'https://www.watanow.com', 'gitex_location': 'Korea, Republic Of', 'gitex_sector': ''}, {'gitex_company_name': 'Wateen', 'gitex_website': 'https://www.wateen.com', 'gitex_location': 'Pakistan', 'gitex_sector': 'Networking & Infrastructure,Software Services,Coding and Development,Cyber security,Fintech,'}, {'gitex_company_name': 'Wazen', 'gitex_website': 'https://wazen.sa', 'gitex_location': 'Saudi Arabia', 'gitex_sector': 'Retail Tech,3D Printing & Printing Services,Ecommerce,Education Tech,Fintech,'}, {'gitex_company_name': 'WebHR', 'gitex_website': 'https://web.hr/', 'gitex_location': 'United Arab Emirates', 'gitex_sector': 'Software Services,'}, {'gitex_company_name': 'WebMakers Software House', 'gitex_website': 'https://webmakers.expert/', 'gitex_location': 'Poland', 'gitex_sector': 'Software Services,AgriTech & FoodTech,Ecommerce,Education Tech,HealthTech,'}, {'gitex_company_name': 'WebMobril Gaming Studioz Pvt. Ltd.', 'gitex_website': 'https://wmgamingstudioz.com', 'gitex_location': 'India', 'gitex_sector': 'Blockchain,Gaming,'}, {'gitex_company_name': 'WEIKING ELECTRONIC(HK)CO.LIMITED', 'gitex_website': 'http://www.w-king.com', 'gitex_location': 'China', 'gitex_sector': 'Mobile Accessories & Peripherals,Consumer Tech, Smart Home & Smart Workplace,'}, {'gitex_company_name': 'WEKA', 'gitex_website': 'https://www.weka.io/', 'gitex_location': 'United States of America', 'gitex_sector': 'Software Services,Big Data & Analytics,Blockchain,Cloud Services,Coding and Development,'}, {'gitex_company_name': 'Western Imports', 'gitex_website': 'https://bstock.com/westernimports/', 'gitex_location': 'United Arab Emirates', 'gitex_sector': 'Consumer Tech, Smart Home & Smart Workplace,'}, {'gitex_company_name': 'White Label Loyalty', 'gitex_website': 'https://whitelabel-loyalty.com', 'gitex_location': 'United Kingdom', 'gitex_sector': 'Retail Tech,Blockchain,Cloud Services,Ecommerce,Fintech,'}, {'gitex_company_name': 'Wildix', 'gitex_website': 'https://www.wildix.com/', 'gitex_location': 'Germany', 'gitex_sector': ''}, {'gitex_company_name': 'Winmate Inc.', 'gitex_website': 'https://www.winmate.com', 'gitex_location': 'Taiwan (R.O.C.)', 'gitex_sector': '3D Printing & Printing Services,5G & Telecommunications,AgriTech & FoodTech,Artificial Intelligence,'}, {'gitex_company_name': 'Winstars Technology Ltd', 'gitex_website': 'https://www.wavlink.com', 'gitex_location': 'China', 'gitex_sector': 'Mobile Accessories & Peripherals,Networking & Infrastructure,Consumer Tech, Smart Home & Smart Workplace,'}, {'gitex_company_name': 'Wiz', 'gitex_website': 'https://www.wiz.io/', 'gitex_location': 'United Kingdom', 'gitex_sector': ''}, {'gitex_company_name': 'WOORIRO CO.,LTD', 'gitex_website': 'http://wooriro.com', 'gitex_location': 'Korea, Republic Of', 'gitex_sector': '5G & Telecommunications,Cyber security,Internet of Things (IOT),'}, {'gitex_company_name': 'Woosim Systems Inc.', 'gitex_website': 'http://woosim.com', 'gitex_location': 'Korea, Republic Of', 'gitex_sector': 'Fintech,Consumer Tech, Smart Home & Smart Workplace,'}, {'gitex_company_name': 'World Wide Technology', 'gitex_website': 'https://www.wwt.com', 'gitex_location': 'United Kingdom', 'gitex_sector': ''}, {'gitex_company_name': 'Writewiz - AI Content Generator, Writing Assistant & Chatbot', 'gitex_website': 'https://writewiz.ai', 'gitex_location': 'India', 'gitex_sector': 'Artificial Intelligence,Cloud Services,Coding and Development,Media, Marketing & Advertising Tech,Agnostic,'}, {'gitex_company_name': 'WSO2 LLC', 'gitex_website': 'https://wso2.com/', 'gitex_location': 'United Kingdom', 'gitex_sector': 'Cloud Services,'}, {'gitex_company_name': 'Wuhan Jingchen Intelligent Identification Techonology Co., Ltd.', 'gitex_website': 'https://www.niimbot.com', 'gitex_location': 'China', 'gitex_sector': '3D Printing & Printing Services,Consumer Tech, Smart Home & Smart Workplace,'}, {'gitex_company_name': 'Wuhan Tianyu Information Industry Co., Ltd', 'gitex_website': 'https://www.whty.com/', 'gitex_location': 'Palestine', 'gitex_sector': '5G & Telecommunications,Blockchain,Consumer Tech, Smart Home & Smart Workplace,Fintech,Future Mobility & Transportation,'}, {'gitex_company_name': 'Xaltius Pte. Ltd.', 'gitex_website': 'https://www.xaltius.tech', 'gitex_location': 'Singapore', 'gitex_sector': 'Software Services,Big Data & Analytics,Cloud Services,Coding and Development,Education Tech,'}, {'gitex_company_name': 'xFusion', 'gitex_website': 'https://www.xfusion.com/en', 'gitex_location': 'United Arab Emirates', 'gitex_sector': 'Software Services,5G & Telecommunications,Big Data & Analytics,Cloud Services,Education Tech,'}, {'gitex_company_name': 'Xiamen Hanin Electronic Technology Co., Ltd.', 'gitex_website': 'https://www.hprt.com', 'gitex_location': 'China', 'gitex_sector': 'Consumer Tech, Smart Home & Smart Workplace,'}, {'gitex_company_name': 'Xiamen Maken Tech Co., Ltd.', 'gitex_website': 'https://www.maken.com/', 'gitex_location': 'China', 'gitex_sector': 'Consumer Tech, Smart Home & Smart Workplace,'}, {'gitex_company_name': 'Xiamen Merc Electronic Technology Co., Ltd.', 'gitex_website': 'https://www.merc.tw/', 'gitex_location': 'China', 'gitex_sector': 'Retail Tech,Coding and Development,Consumer Tech, Smart Home & Smart Workplace,Ecommerce,'}, {'gitex_company_name': 'Xiamen Pinnacle Electrical Co., Ltd', 'gitex_website': 'https://www.aclas.tw/', 'gitex_location': 'China', 'gitex_sector': 'Ecommerce,'}, {'gitex_company_name': 'XIN  SHENG CO.,LTD', 'gitex_website': 'https://www.kingbank.com/en/', 'gitex_location': 'China', 'gitex_sector': 'Blockchain,Fintech,'}, {'gitex_company_name': 'Xperdat LLC', 'gitex_website': 'https://www.xperdat.net', 'gitex_location': 'United Arab Emirates', 'gitex_sector': 'Regulatory Technology,Big Data & Analytics,Cyber security,Fintech,'}, {'gitex_company_name': 'Xtream Vision Electronics Trading LLC', 'gitex_website': 'https://xtream-me.com/', 'gitex_location': 'United Arab Emirates', 'gitex_sector': 'Space Tech,5G & Telecommunications,'}, {'gitex_company_name': 'Yaber technologies Co., Limited', 'gitex_website': 'https://www.yaber.com/', 'gitex_location': 'China', 'gitex_sector': 'Consumer Tech, Smart Home & Smart Workplace,'}, {'gitex_company_name': 'Yangtze Optical Fibre and Cable Joint Stock Limited Company', 'gitex_website': 'http://www.yofc.com', 'gitex_location': 'China', 'gitex_sector': ''}, {'gitex_company_name': 'YASH Technologies Middle East FZ LLC.', 'gitex_website': 'https://www.yash.com/', 'gitex_location': 'United Arab Emirates', 'gitex_sector': 'Software Services,Big Data & Analytics,Cloud Services,Cyber security,Metaverse, Immersive Tech,'}, {'gitex_company_name': 'Yeaher Inc.', 'gitex_website': 'https://www.yeaher.com', 'gitex_location': 'United Arab Emirates', 'gitex_sector': 'Consumer Tech, Smart Home & Smart Workplace,'}, {'gitex_company_name': 'YENTEK(SHENZHEN) TECHNOLOGY CO., LTD.', 'gitex_website': 'https://www.hanzsung.com/', 'gitex_location': 'China', 'gitex_sector': 'Consumer Tech, Smart Home & Smart Workplace,Cyber security,'}, {'gitex_company_name': 'YFC-Boneagle Electric Co., Ltd.', 'gitex_website': 'http://www.cables.com.tw', 'gitex_location': 'Taiwan (R.O.C.)', 'gitex_sector': 'Mobile Accessories & Peripherals,5G & Telecommunications,Data Centres,Internet of Things (IOT),'}, {'gitex_company_name': 'YTU YILDIZ TECHNOPARK', 'gitex_website': 'https://www.yildizteknopark.com.tr/tr', 'gitex_location': 'Türkiye', 'gitex_sector': 'Retail Tech,Software Services,Coding and Development,Fintech,Gaming,'}, {'gitex_company_name': 'Yudiz Solutions Limited', 'gitex_website': 'https://www.yudiz.com/', 'gitex_location': 'India', 'gitex_sector': 'Software Services,Blockchain,Ecommerce,Education Tech,Gaming,'}, {'gitex_company_name': 'ZABBIX SIA', 'gitex_website': 'http://www.zabbix.com', 'gitex_location': 'Latvia', 'gitex_sector': ''}, {'gitex_company_name': 'ZainTech Solutions FZ LLC', 'gitex_website': 'https://zaintech.com/en/', 'gitex_location': 'United Arab Emirates', 'gitex_sector': ''}, {'gitex_company_name': 'ZATCA KSA', 'gitex_website': 'https://zatca.gov.sa/en/pages/default.aspx', 'gitex_location': 'Saudi Arabia', 'gitex_sector': ''}, {'gitex_company_name': 'ZConverter Cloud', 'gitex_website': 'https://zconverter.com', 'gitex_location': 'Korea, Republic Of', 'gitex_sector': 'Big Data & Analytics,Cloud Services,Agnostic,'}, {'gitex_company_name': 'Zebra Technologies Europe Ltd.', 'gitex_website': 'https://www.zebra.com/gb/en.html', 'gitex_location': 'United Arab Emirates', 'gitex_sector': 'Mobile Accessories & Peripherals,Artificial Intelligence,Consumer Tech, Smart Home & Smart Workplace,HealthTech,Internet of Things (IOT),'}, {'gitex_company_name': 'Zen Interactive Technologies', 'gitex_website': 'https://www.zen.ae', 'gitex_location': 'United Arab Emirates', 'gitex_sector': ''}, {'gitex_company_name': 'Zhejiang Chuanwei Electronic Technology Co. Ltd', 'gitex_website': 'https://www.chuanwei-tech.com', 'gitex_location': 'China', 'gitex_sector': 'Fintech,'}, {'gitex_company_name': 'Zhejiang Grandway Telecommunication Technology Co., Ltd.', 'gitex_website': 'https://www.grandwaytelecom.com/', 'gitex_location': 'China', 'gitex_sector': 'Internet of Things (IOT),'}, {'gitex_company_name': 'ZHEJIANG HEADWAY COMMUNICATION EQUIPMENT CO., LTD.', 'gitex_website': 'http://iheadway.com', 'gitex_location': 'United States of America', 'gitex_sector': '5G & Telecommunications,Cloud Services,Consumer Tech, Smart Home & Smart Workplace,Data Centres,Internet of Things (IOT),'}, {'gitex_company_name': 'Zhejiang Nanxing Technology Co., Ltd', 'gitex_website': 'https://www.nx168.com/', 'gitex_location': 'China', 'gitex_sector': '3D Printing & Printing Services,Consumer Tech, Smart Home & Smart Workplace,Fintech,'}, {'gitex_company_name': 'Zhejiang Zhaolong Interconnect Technology Co.,LTD.', 'gitex_website': 'http://zhaolongcable.com', 'gitex_location': 'China', 'gitex_sector': '5G & Telecommunications,'}, {'gitex_company_name': 'Zhuhai Poskey Technology Co., Ltd.', 'gitex_website': 'https://www.xprintertech.com/', 'gitex_location': 'China', 'gitex_sector': 'Retail Tech,Cloud Services,Education Tech,Fintech,HealthTech,'}, {'gitex_company_name': 'Zhuhai Zywell Technology Co., Ltd', 'gitex_website': 'https://www.zywell.net/', 'gitex_location': 'China', 'gitex_sector': ''}, {'gitex_company_name': 'Zilla', 'gitex_website': 'http://www.zilla-sourcing.com/', 'gitex_location': 'Singapore', 'gitex_sector': 'Consumer Tech, Smart Home & Smart Workplace,'}, {'gitex_company_name': 'Zilla Technology Pte. Ltd.', 'gitex_website': 'http://www.zilla-sourcing.com/', 'gitex_location': 'Singapore', 'gitex_sector': 'Consumer Tech, Smart Home & Smart Workplace,'}, {'gitex_company_name': 'Zinrelo', 'gitex_website': 'https://www.zinrelo.com', 'gitex_location': 'India', 'gitex_sector': 'Retail Tech,Software Services,Big Data & Analytics,Ecommerce,Media, Marketing & Advertising Tech,'}, {'gitex_company_name': 'ZKRYPTO', 'gitex_website': 'https://www.zkrypto.com', 'gitex_location': 'Korea, Republic Of', 'gitex_sector': 'Blockchain,'}, {'gitex_company_name': 'ZKTeco Security LLC', 'gitex_website': 'https://www.zkteco.me/', 'gitex_location': 'United Arab Emirates', 'gitex_sector': '5G & Telecommunications,AgriTech & FoodTech,Artificial Intelligence,Cloud Services,Consumer Tech, Smart Home & Smart Workplace,'}, {'gitex_company_name': 'Zoho', 'gitex_website': 'https://www.zoho.com/', 'gitex_location': 'India', 'gitex_sector': 'Cloud Services,'}, {'gitex_company_name': 'Zoi', 'gitex_website': 'https://www.zoi.tech/', 'gitex_location': 'Germany', 'gitex_sector': 'Artificial Intelligence,Big Data & Analytics,Cloud Services,Coding and Development,Internet of Things (IOT),'}, {'gitex_company_name': 'Zoom', 'gitex_website': 'http://www.zoom.us', 'gitex_location': 'Sweden', 'gitex_sector': 'Retail Tech,Cloud Services,'}, {'gitex_company_name': 'ZTT International Limited', 'gitex_website': 'http://www.zttcable.com', 'gitex_location': 'China', 'gitex_sector': 'Networking & Infrastructure,Retail Tech,5G & Telecommunications,Data Centres,Energy Tech,'}, {'gitex_company_name': 'Zycoo Co., Ltd.', 'gitex_website': 'https://www.zycoo.com/', 'gitex_location': 'China', 'gitex_sector': '5G & Telecommunications,'}, {'gitex_company_name': '5.0 ROBOTICS', 'gitex_website': 'https://www.50robotics.com', 'gitex_location': 'Estonia', 'gitex_sector': 'Smart Cities,3D Printing & Printing Services,Education Tech,'}, {'gitex_company_name': '7-Network Pte Ltd', 'gitex_website': 'https://7-network.com/international/', 'gitex_location': 'Singapore', 'gitex_sector': ''}, {'gitex_company_name': 'AB HandShake Corporation', 'gitex_website': 'https://abhandshake.com/', 'gitex_location': 'United States of America', 'gitex_sector': ''}, {'gitex_company_name': 'Abu Dhabi Agriculture & Food Safety Authority', 'gitex_website': 'http://www.adafsa.gov.ae/english/Pages/default.aspx', 'gitex_location': 'United Arab Emirates', 'gitex_sector': ''}]\n"
     ]
    }
   ],
   "source": [
    "print(data_list)"
   ]
  },
  {
   "cell_type": "code",
   "execution_count": 181,
   "id": "65ab7e5b",
   "metadata": {},
   "outputs": [
    {
     "name": "stdout",
     "output_type": "stream",
     "text": [
      "CSV file \"output.csv\" has been created successfully.\n"
     ]
    }
   ],
   "source": [
    "with open(csv_file_path, mode='w', newline='', encoding='utf-8-sig') as csv_file:\n",
    "    fieldnames = ['gitex_company_name', 'gitex_website', 'gitex_location', 'gitex_sector']  # Column names\n",
    "    writer = csv.DictWriter(csv_file, fieldnames=fieldnames)\n",
    "\n",
    "    # Write the header row\n",
    "    writer.writeheader()\n",
    "\n",
    "    # Write data rows\n",
    "    for row in data_list:\n",
    "        writer.writerow(row)\n",
    "\n",
    "print(f'CSV file \"{csv_file_path}\" has been created successfully.')\n",
    "\n",
    "\n"
   ]
  },
  {
   "cell_type": "code",
   "execution_count": 182,
   "id": "ac26661d",
   "metadata": {},
   "outputs": [
    {
     "data": {
      "text/html": [
       "<div>\n",
       "<style scoped>\n",
       "    .dataframe tbody tr th:only-of-type {\n",
       "        vertical-align: middle;\n",
       "    }\n",
       "\n",
       "    .dataframe tbody tr th {\n",
       "        vertical-align: top;\n",
       "    }\n",
       "\n",
       "    .dataframe thead th {\n",
       "        text-align: right;\n",
       "    }\n",
       "</style>\n",
       "<table border=\"1\" class=\"dataframe\">\n",
       "  <thead>\n",
       "    <tr style=\"text-align: right;\">\n",
       "      <th></th>\n",
       "      <th>gitex_company_name</th>\n",
       "      <th>gitex_website</th>\n",
       "      <th>gitex_location</th>\n",
       "      <th>gitex_sector</th>\n",
       "    </tr>\n",
       "  </thead>\n",
       "  <tbody>\n",
       "    <tr>\n",
       "      <th>0</th>\n",
       "      <td>057156716562</td>\n",
       "      <td>https://www.unitree.com/en/</td>\n",
       "      <td>China</td>\n",
       "      <td>Artificial Intelligence,</td>\n",
       "    </tr>\n",
       "    <tr>\n",
       "      <th>1</th>\n",
       "      <td>13059866584</td>\n",
       "      <td>http://www.orbic.us</td>\n",
       "      <td>United States of America</td>\n",
       "      <td>Mobile Accessories &amp; Peripherals,5G &amp; Telecomm...</td>\n",
       "    </tr>\n",
       "    <tr>\n",
       "      <th>2</th>\n",
       "      <td>1oT</td>\n",
       "      <td>https://1ot.com/</td>\n",
       "      <td>Estonia</td>\n",
       "      <td>Internet of Things (IOT),</td>\n",
       "    </tr>\n",
       "    <tr>\n",
       "      <th>3</th>\n",
       "      <td>3IXAM</td>\n",
       "      <td>https://3ixam.com</td>\n",
       "      <td>United Arab Emirates</td>\n",
       "      <td>3D Printing &amp; Printing Services,Coding and Dev...</td>\n",
       "    </tr>\n",
       "    <tr>\n",
       "      <th>4</th>\n",
       "      <td>3onedata Co., Ltd.</td>\n",
       "      <td>https://www.3onedata.com/</td>\n",
       "      <td>China</td>\n",
       "      <td>Networking &amp; Infrastructure,Smart Cities,5G &amp; ...</td>\n",
       "    </tr>\n",
       "    <tr>\n",
       "      <th>...</th>\n",
       "      <td>...</td>\n",
       "      <td>...</td>\n",
       "      <td>...</td>\n",
       "      <td>...</td>\n",
       "    </tr>\n",
       "    <tr>\n",
       "      <th>999</th>\n",
       "      <td>Zycoo Co., Ltd.</td>\n",
       "      <td>https://www.zycoo.com/</td>\n",
       "      <td>China</td>\n",
       "      <td>5G &amp; Telecommunications,</td>\n",
       "    </tr>\n",
       "    <tr>\n",
       "      <th>1000</th>\n",
       "      <td>5.0 ROBOTICS</td>\n",
       "      <td>https://www.50robotics.com</td>\n",
       "      <td>Estonia</td>\n",
       "      <td>Smart Cities,3D Printing &amp; Printing Services,E...</td>\n",
       "    </tr>\n",
       "    <tr>\n",
       "      <th>1001</th>\n",
       "      <td>7-Network Pte Ltd</td>\n",
       "      <td>https://7-network.com/international/</td>\n",
       "      <td>Singapore</td>\n",
       "      <td>NaN</td>\n",
       "    </tr>\n",
       "    <tr>\n",
       "      <th>1002</th>\n",
       "      <td>AB HandShake Corporation</td>\n",
       "      <td>https://abhandshake.com/</td>\n",
       "      <td>United States of America</td>\n",
       "      <td>NaN</td>\n",
       "    </tr>\n",
       "    <tr>\n",
       "      <th>1003</th>\n",
       "      <td>Abu Dhabi Agriculture &amp; Food Safety Authority</td>\n",
       "      <td>http://www.adafsa.gov.ae/english/Pages/default...</td>\n",
       "      <td>United Arab Emirates</td>\n",
       "      <td>NaN</td>\n",
       "    </tr>\n",
       "  </tbody>\n",
       "</table>\n",
       "<p>1004 rows × 4 columns</p>\n",
       "</div>"
      ],
      "text/plain": [
       "                                 gitex_company_name  \\\n",
       "0                                      057156716562   \n",
       "1                                       13059866584   \n",
       "2                                               1oT   \n",
       "3                                             3IXAM   \n",
       "4                                3onedata Co., Ltd.   \n",
       "...                                             ...   \n",
       "999                                 Zycoo Co., Ltd.   \n",
       "1000                                   5.0 ROBOTICS   \n",
       "1001                              7-Network Pte Ltd   \n",
       "1002                       AB HandShake Corporation   \n",
       "1003  Abu Dhabi Agriculture & Food Safety Authority   \n",
       "\n",
       "                                          gitex_website  \\\n",
       "0                           https://www.unitree.com/en/   \n",
       "1                                   http://www.orbic.us   \n",
       "2                                      https://1ot.com/   \n",
       "3                                     https://3ixam.com   \n",
       "4                             https://www.3onedata.com/   \n",
       "...                                                 ...   \n",
       "999                              https://www.zycoo.com/   \n",
       "1000                         https://www.50robotics.com   \n",
       "1001               https://7-network.com/international/   \n",
       "1002                           https://abhandshake.com/   \n",
       "1003  http://www.adafsa.gov.ae/english/Pages/default...   \n",
       "\n",
       "                gitex_location  \\\n",
       "0                        China   \n",
       "1     United States of America   \n",
       "2                      Estonia   \n",
       "3         United Arab Emirates   \n",
       "4                        China   \n",
       "...                        ...   \n",
       "999                      China   \n",
       "1000                   Estonia   \n",
       "1001                 Singapore   \n",
       "1002  United States of America   \n",
       "1003      United Arab Emirates   \n",
       "\n",
       "                                           gitex_sector  \n",
       "0                              Artificial Intelligence,  \n",
       "1     Mobile Accessories & Peripherals,5G & Telecomm...  \n",
       "2                             Internet of Things (IOT),  \n",
       "3     3D Printing & Printing Services,Coding and Dev...  \n",
       "4     Networking & Infrastructure,Smart Cities,5G & ...  \n",
       "...                                                 ...  \n",
       "999                            5G & Telecommunications,  \n",
       "1000  Smart Cities,3D Printing & Printing Services,E...  \n",
       "1001                                                NaN  \n",
       "1002                                                NaN  \n",
       "1003                                                NaN  \n",
       "\n",
       "[1004 rows x 4 columns]"
      ]
     },
     "execution_count": 182,
     "metadata": {},
     "output_type": "execute_result"
    }
   ],
   "source": [
    "import pandas as pd\n",
    "\n",
    "# Specify the path to your CSV file\n",
    "csv_file_path = 'output.csv'\n",
    "\n",
    "# Read the CSV file into a pandas DataFrame\n",
    "df = pd.read_csv(csv_file_path)\n",
    "\n",
    "# Display the DataFrame\n",
    "df\n"
   ]
  },
  {
   "cell_type": "code",
   "execution_count": 162,
   "id": "1b8b09fe",
   "metadata": {},
   "outputs": [
    {
     "name": "stdout",
     "output_type": "stream",
     "text": [
      "<div class=\"company_description\">\n",
      "<h4 class=\"group card-title inner list-group-item-heading\">\n",
      "\t\t\t\t\t\t\t\t\t3IXAM\t\t\t\t\t\t\t\t</h4>\n",
      "<div class=\"head_discription\">\n",
      "<p style=\"margin-bottom:0;\"></p> <p>\n",
      "<span style=\"float:left;\">United Arab Emirates</span>\n",
      "</p>\n",
      "</div>\n",
      "<h5 class=\"discription_title\">Company Profile</h5>\n",
      "<p class=\"group inner float-left\" style=\"width:100%\"><!--list-group-item-text-->\n",
      "\t\t\t\t\t\t\t\t\t\t3IXAM is an innovative 3D design software created by designers for designers using the Apple ecosystem.\t\t\t\t\t\t\t\t\t</p>\n",
      "<ul class=\"sector_block\"><li>3D Printing &amp; Printing Services</li><li>Coding and Development</li><li>Education Tech</li><li>Gaming</li><li>Media, Marketing &amp; Advertising Tech</li></ul> <!--<ul class=\"sector_block\">\n",
      "\t\t\t\t<li>Outdoor, resorts, pool &amp; spa</li>\n",
      "\t\t\t\t<li>Leisure, entertainment, sports &amp; fitness</li>\n",
      "\t\t\t</ul>-->\n",
      "<div class=\"social_media_block\">\n",
      "<ul>\n",
      "<li class=\"social_website\"><a href=\"https://3ixam.com\" target=\"_blank\"><img src=\"https://exhibitors.gitex.com/themes/frontend/assets/images/w.png\"/> VISIT WEBSITE</a></li>\n",
      "<li><span>Find us on:</span></li>\n",
      "<li><a class=\"twitter_link\" href=\"https://twitter.com/3_IXAM\" target=\"_blank\"><img src=\"https://exhibitors.gitex.com/themes/frontend/assets/images/t.png\"/></a></li>\n",
      "<li><a class=\"linkdin_link\" href=\"https://www.linkedin.com/company/3ixam/\" target=\"_blank\"><img src=\"https://exhibitors.gitex.com/themes/frontend/assets/images/i.png\"/></a></li>\n",
      "<li><a class=\"insta_link\" data-type=\"a\" href=\"https://www.instagram.com/3i.xam/\" rel=\"noopener noreferrer\" target=\"_blank\"><img src=\"https://exhibitors.gitex.com/themes/frontend/assets/images/instagram.png\"/></a></li>\n",
      "<li><a class=\"youtube_link\" data-type=\"a\" href=\"https://www.youtube.com/channel/UCEOPQYZbMESOylgsSi34EJA\" rel=\"noopener noreferrer\" target=\"_blank\"><img src=\"https://exhibitors.gitex.com/themes/frontend/assets/images/youtube.png\"/></a></li>\n",
      "</ul>\n",
      "</div>\n",
      "</div>\n"
     ]
    },
    {
     "name": "stderr",
     "output_type": "stream",
     "text": [
      "C:\\Users\\saira\\anaconda3\\Lib\\site-packages\\urllib3\\connectionpool.py:1056: InsecureRequestWarning: Unverified HTTPS request is being made to host 'exhibitors.gitex.com'. Adding certificate verification is strongly advised. See: https://urllib3.readthedocs.io/en/1.26.x/advanced-usage.html#ssl-warnings\n",
      "  warnings.warn(\n"
     ]
    }
   ],
   "source": [
    "url = \"https://exhibitors.gitex.com/gitex-global-2023/Exhibitor/ExbDetails/MTAxOA==\"\n",
    "\n",
    "r = requests.get(url,verify=False)\n",
    "soup = BeautifulSoup(r.content, 'html.parser')\n",
    "res1 = soup.find('div', {\"class\": \"company_description\"})\n",
    "\n",
    "print(res1)"
   ]
  },
  {
   "cell_type": "code",
   "execution_count": 115,
   "id": "1c20dfc9",
   "metadata": {},
   "outputs": [
    {
     "name": "stdout",
     "output_type": "stream",
     "text": [
      "Found!\n"
     ]
    }
   ],
   "source": [
    "if r.status_code == 200:\n",
    "    print('Found!')\n",
    "elif r.status_code == 404:\n",
    "    print('Not Found.')"
   ]
  },
  {
   "cell_type": "code",
   "execution_count": 116,
   "id": "aa66d451",
   "metadata": {},
   "outputs": [
    {
     "name": "stdout",
     "output_type": "stream",
     "text": [
      "3IXAM\n"
     ]
    }
   ],
   "source": [
    "heading= res1.find('h4', {\"class\": \"list-group-item-heading\"})\n",
    "print(heading.text.strip())"
   ]
  },
  {
   "cell_type": "code",
   "execution_count": 117,
   "id": "83f27202",
   "metadata": {},
   "outputs": [
    {
     "name": "stdout",
     "output_type": "stream",
     "text": [
      "https://3ixam.com\n"
     ]
    }
   ],
   "source": [
    "links= res1.find('a')\n",
    "print(links.get('href'))"
   ]
  },
  {
   "cell_type": "code",
   "execution_count": 118,
   "id": "3a61e4a0",
   "metadata": {},
   "outputs": [
    {
     "name": "stdout",
     "output_type": "stream",
     "text": [
      "United Arab Emirates\n"
     ]
    }
   ],
   "source": [
    "span_element = res1.find('span')\n",
    "\n",
    "if span_element:\n",
    "    span_text = span_element.text\n",
    "    print(span_text)\n",
    "else:\n",
    "    print(\"No <span> element found\")"
   ]
  },
  {
   "cell_type": "code",
   "execution_count": 119,
   "id": "5cfcdc79",
   "metadata": {},
   "outputs": [
    {
     "name": "stdout",
     "output_type": "stream",
     "text": [
      "3D Printing & Printing Services\n",
      "Coding and Development\n",
      "Education Tech\n",
      "Gaming\n",
      "Media, Marketing & Advertising Tech\n"
     ]
    }
   ],
   "source": [
    "ul_element = res1.find('ul', class_='sector_block')\n",
    "\n",
    "li_elements = ul_element.find_all('li')\n",
    "\n",
    "for li_element in li_elements:\n",
    "    li_text = li_element.text\n",
    "    print(li_text)"
   ]
  },
  {
   "cell_type": "code",
   "execution_count": null,
   "id": "06c760fe",
   "metadata": {},
   "outputs": [],
   "source": []
  },
  {
   "cell_type": "code",
   "execution_count": null,
   "id": "9435ec45",
   "metadata": {},
   "outputs": [],
   "source": []
  }
 ],
 "metadata": {
  "kernelspec": {
   "display_name": "Python 3 (ipykernel)",
   "language": "python",
   "name": "python3"
  },
  "language_info": {
   "codemirror_mode": {
    "name": "ipython",
    "version": 3
   },
   "file_extension": ".py",
   "mimetype": "text/x-python",
   "name": "python",
   "nbconvert_exporter": "python",
   "pygments_lexer": "ipython3",
   "version": "3.11.4"
  }
 },
 "nbformat": 4,
 "nbformat_minor": 5
}
