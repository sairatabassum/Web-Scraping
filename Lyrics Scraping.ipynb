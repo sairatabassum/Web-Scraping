


{
 "cells": [
  {
   "cell_type": "markdown",
   "metadata": {},
   "source": [
    "# Web Scraping Using BeautifulSoup\n",
    "I am trying to scrape data from a web site using beautifulsoup. For this i have chosen **genius lyrics** song lyrics data to scrape from their website.\n",
    "\n",
    "Import the necessary libraries. "
   ]
  },
  {
   "cell_type": "code",
   "execution_count": 1,
   "metadata": {},
   "outputs": [],
   "source": [
    "import requests\n",
    "from bs4 import BeautifulSoup"
   ]
  },
  {
   "cell_type": "markdown",
   "metadata": {},
   "source": [
    "# Request to the URL\n",
    "\n",
    "The get() method sends a GET request to the specified url.\n",
    "\n",
    "Now, to make HTTP requests in python, we can use several HTTP libraries like:\n",
    "\n",
    "    1.httplib.\n",
    "    2.urllib.\n",
    "    3.requests.\n",
    "    \n",
    "All this code is doing is sending a GET request to Genius.com. This is the same type of request our  browser sent to view this page, but the only difference is that Requests can’t actually render the HTML.\n",
    "\n",
    "200 is a standard response for successful HTTP requests and 404 tells that the requested resource could not be found."
   ]
  },
  {
   "cell_type": "code",
   "execution_count": 2,
   "metadata": {},
   "outputs": [
    {
     "name": "stdout",
     "output_type": "stream",
     "text": [
      "<Response [200]>\n"
     ]
    }
   ],
   "source": [
    "url = \"https://genius.com/The-weeknd-save-your-tears-lyrics\"\n",
    "\n",
    "r = requests.get(url)\n",
    "soup = BeautifulSoup(r.content,'html.parser')\n",
    "\n",
    "print(r)"
   ]
  },
  {
   "cell_type": "markdown",
   "metadata": {},
   "source": [
    "# The Response\n",
    "If the server returns a 200 status code, our  program will print found!. If the result is a 404, Our program will print Not Found"
   ]
  },
  {
   "cell_type": "code",
   "execution_count": 3,
   "metadata": {},
   "outputs": [
    {
     "name": "stdout",
     "output_type": "stream",
     "text": [
      "Found!\n"
     ]
    }
   ],
   "source": [
    "if r.status_code == 200:\n",
    "    print('Found!')\n",
    "elif r.status_code == 404:\n",
    "    print('Not Found.')"
   ]
  },
  {
   "cell_type": "markdown",
   "metadata": {},
   "source": [
    "# HTML parser\n",
    "\n",
    "r.content to get the raw HTML content of the webpage. It is of ‘string’ type.\n",
    "\n",
    "BeautifulSoup library is that it is built on the top of the HTML parsing libraries like html5lib, lxml, html.parser, etc. So BeautifulSoup object and specify the parser library can be created at the same time.\n",
    "\n",
    "In the example,\n",
    "\n",
    "soup = BeautifulSoup(r.content, 'html5lib')\n",
    "\n",
    "I create a BeautifulSoup object by passing two arguments:\n",
    "\n",
    "   **r.content : It is the raw HTML content.**\n",
    "   \n",
    "   **html.parser : Specifying the HTML parser we want to use.**\n",
    "   \n",
    "Now if soup is printed, it gives the visual representation of the parse tree created from the raw HTML content.The soup object contains all the data in the nested structure which could be programmatically extracted.With this soup object, we can navigate and search through the HTML for data that we want"
   ]
  },
  {
   "cell_type": "markdown",
   "metadata": {},
   "source": [
    "# find()\n",
    "\n",
    "1.find() method returns the first matching element.\n",
    "\n",
    "2.find_all() method returns the list of all matching elements.\n",
    "\n"
   ]
  },
  {
   "cell_type": "code",
   "execution_count": 4,
   "metadata": {},
   "outputs": [],
   "source": [
    "soup = BeautifulSoup(r.content,'lxml')\n",
    "cen=soup.find(\"div\",{\"class\":\"lyrics\"})\n"
   ]
  },
  {
   "cell_type": "markdown",
   "metadata": {},
   "source": [
    "# Print text\n",
    "\n",
    "soup.title,we'll get the title of the web page.\n",
    "\n",
    "text.strip() / get_text() return all strings located within HTML tags."
   ]
  },
  {
   "cell_type": "code",
   "execution_count": 5,
   "metadata": {},
   "outputs": [
    {
     "name": "stdout",
     "output_type": "stream",
     "text": [
      "<title>The Weeknd – Save Your Tears Lyrics | Genius Lyrics</title>\n",
      "The Weeknd – Save Your Tears Lyrics | Genius Lyrics\n",
      "\n",
      "\n",
      "[Intro]\n",
      "Ooh\n",
      "Na-na, yeah\n",
      "\n",
      "[Verse 1]\n",
      "I saw you dancing in a crowded room (Uh)\n",
      "You look so happy when I'm not with you\n",
      "But then you saw me, caught you by surprise\n",
      "A single teardrop falling from your eye\n",
      "\n",
      "[Refrain]\n",
      "I don't know why I run away\n",
      "I make you cry when I run away\n",
      "\n",
      "[Verse 2]\n",
      "You could've asked me why I broke your heart\n",
      "You could've told me that you fell apart\n",
      "But you walked past me like I wasn't there\n",
      "And just pretended like you didn't care\n",
      "\n",
      "[Refrain]\n",
      "I don't know why I run away\n",
      "I make you cry when I run away\n",
      "\n",
      "[Pre-Chorus]\n",
      "Take me back 'cause I wanna stay\n",
      "Save your tears for another\n",
      "\n",
      "[Chorus]\n",
      "Save your tears for another day\n",
      "Save your tears for another day (So)\n",
      "\n",
      "[Verse 3]\n",
      "I made you think that I would always stay\n",
      "I said some things that I should never say\n",
      "Yeah, I broke your heart like someone did to mine\n",
      "And now you won't love me for a second time\n",
      "\n",
      "[Refrain]\n",
      "I don't know why I run away, oh, girl\n",
      "Said, I make you cry when I run away\n",
      "\n",
      "[Pre-Chorus]\n",
      "Girl, take me back 'cause I wanna stay\n",
      "Save your tears for another\n",
      "I realize that I'm much too late\n",
      "And you deserve someone better\n",
      "\n",
      "[Chorus]\n",
      "Save your tears for another day (Oh yeah)\n",
      "Save your tears for another day (Yeah)\n",
      "\n",
      "[Refrain]\n",
      "I don't know why I run away\n",
      "I'll make you cry when I run away\n",
      "\n",
      "[Chorus]\n",
      "Save your tears for another day\n",
      "Ooh, girl, I said (Ah)\n",
      "Save your tears for another day (Ah)\n",
      "\n",
      "[Outro]\n",
      "Save your tears for another day (Ah)\n",
      "Save your tears for another day (Ah)\n",
      "\n",
      "\n"
     ]
    }
   ],
   "source": [
    "print(soup.title)\n",
    "print(soup.title.get_text())\n",
    "print(cen.get_text())"
   ]
  }
 ],
 "metadata": {
  "celltoolbar": "Slideshow",
  "kernelspec": {
   "display_name": "Python 3",
   "language": "python",
   "name": "python3"
  },
  "language_info": {
   "codemirror_mode": {
    "name": "ipython",
    "version": 3
   },
   "file_extension": ".py",
   "mimetype": "text/x-python",
   "name": "python",
   "nbconvert_exporter": "python",
   "pygments_lexer": "ipython3",
   "version": "3.8.3"
  }
 },
 "nbformat": 4,
 "nbformat_minor": 4
}
