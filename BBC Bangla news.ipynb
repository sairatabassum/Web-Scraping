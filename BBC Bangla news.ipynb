{
  "nbformat": 4,
  "nbformat_minor": 0,
  "metadata": {
    "kernelspec": {
      "display_name": "Python 3",
      "language": "python",
      "name": "python3"
    },
    "language_info": {
      "codemirror_mode": {
        "name": "ipython",
        "version": 3
      },
      "file_extension": ".py",
      "mimetype": "text/x-python",
      "name": "python",
      "nbconvert_exporter": "python",
      "pygments_lexer": "ipython3",
      "version": "3.8.3"
    },
    "colab": {
      "name": "BBC Bangla news.ipynb",
      "provenance": [],
      "include_colab_link": true
    }
  },
  "cells": [
    {
      "cell_type": "markdown",
      "metadata": {
        "id": "view-in-github",
        "colab_type": "text"
      },
      "source": [
        "<a href=\"https://colab.research.google.com/github/sairatabassum/Web-Scraping/blob/main/BBC%20Bangla%20news.ipynb\" target=\"_parent\"><img src=\"https://colab.research.google.com/assets/colab-badge.svg\" alt=\"Open In Colab\"/></a>"
      ]
    },
    {
      "cell_type": "markdown",
      "metadata": {
        "id": "ZBDGLgumPC3a"
      },
      "source": [
        "# BBC Bangla Headlines with time"
      ]
    },
    {
      "cell_type": "code",
      "metadata": {
        "id": "PhPWbP5YPC3p"
      },
      "source": [
        "import requests\n",
        "from bs4 import BeautifulSoup"
      ],
      "execution_count": 1,
      "outputs": []
    },
    {
      "cell_type": "code",
      "metadata": {
        "colab": {
          "base_uri": "https://localhost:8080/"
        },
        "id": "aN01eCd0PC3r",
        "outputId": "00d377e4-1ec2-4f3f-ed1f-8a4ed9466fa5"
      },
      "source": [
        "url=\"https://www.bbc.com/bengali\"\n",
        "r = requests.get(url)\n",
        "soup = BeautifulSoup(r.content,'html.parser')\n",
        "\n",
        "print(r)"
      ],
      "execution_count": 2,
      "outputs": [
        {
          "output_type": "stream",
          "text": [
            "<Response [200]>\n"
          ],
          "name": "stdout"
        }
      ]
    },
    {
      "cell_type": "code",
      "metadata": {
        "id": "YH4FuUgQPC3w"
      },
      "source": [
        "soup = BeautifulSoup(r.content,'html.parser')\n",
        "\n",
        "res=soup.find_all('div',{\"class\":\"bbc-1sk5sm2 e19k1v2h0\"})\n",
        "res1=soup.find('div',{\"class\":\"bbc-14gzkm2 e19k1v2h0\"})\n",
        "\n",
        "\n",
        "heading=[]\n",
        "time=[]\n",
        "\n",
        "\n",
        "Heading=res1.find('h3')\n",
        "Time=res1.find('time')\n",
        "\n",
        "heading.append(Heading.text.strip())\n",
        "\n",
        "if Time ==None:\n",
        "    time.append(None)\n",
        "else:\n",
        "    time.append(Time.text.strip())\n",
        "\n",
        "\n",
        "for i in res:\n",
        "    \n",
        "    if i.find('h3'):\n",
        "        for y in i.find('h3'):\n",
        "            heading.append(y.text.strip())\n",
        "            \n",
        "    if i.find('time'):\n",
        "        for z in i.find('time'):\n",
        "            time.append(z)\n",
        "            \n",
        "    else:\n",
        "        time.append(None)\n",
        "    \n",
        "\n",
        "\n",
        "\n"
      ],
      "execution_count": 3,
      "outputs": []
    },
    {
      "cell_type": "code",
      "metadata": {
        "colab": {
          "base_uri": "https://localhost:8080/"
        },
        "id": "Z3fvZv8OPC3y",
        "outputId": "1411aef8-7a52-4cab-88cd-2a2c96bee394"
      },
      "source": [
        "heading_length= len(heading)\n",
        "time_length= len(time)\n",
        "\n",
        "total= heading_length + time_length\n",
        "\n",
        "print(heading_length)    \n",
        "print(time_length)"
      ],
      "execution_count": 4,
      "outputs": [
        {
          "output_type": "stream",
          "text": [
            "31\n",
            "31\n"
          ],
          "name": "stdout"
        }
      ]
    },
    {
      "cell_type": "code",
      "metadata": {
        "colab": {
          "base_uri": "https://localhost:8080/"
        },
        "id": "sRvrdpzUPC3z",
        "outputId": "e119eea7-108d-4948-9586-a7e3f81141ca"
      },
      "source": [
        "ind=0;key=0\n",
        "\n",
        "for i in range(total):\n",
        "    \n",
        "    if i%2 ==0:\n",
        "        print(\"Headline: \",heading[ind])\n",
        "        ind+=1\n",
        "    else:\n",
        "        print(\"Time: \",time[key])\n",
        "        key+=1\n",
        "        print('\\n')"
      ],
      "execution_count": 5,
      "outputs": [
        {
          "output_type": "stream",
          "text": [
            "Headline:  বাংলাদেশে বন্ধ করে দেয়া হলো করোনাভাইরাসের টিকার নিবন্ধন\n",
            "Time:  ২৩ মিনিট আগে\n",
            "\n",
            "\n",
            "Headline:  বাংলাদেশে করোনায় মৃত্যুর সংখ্যা আরো কমেছে\n",
            "Time:  ৪৪ মিনিট আগে\n",
            "\n",
            "\n",
            "Headline:  'ভাঙ্গা পার্টি' যেভাবে তটস্থ রেখেছে ডিজিটাল লেনদেন জগৎকে\n",
            "Time:  ৯ ঘন্টা আগে\n",
            "\n",
            "\n",
            "Headline:  শাপলা চত্বর সমাবেশের আট বছর পরে টিকে থাকার চেষ্টায় হেফাজত\n",
            "Time:  এক ঘন্টা আগে\n",
            "\n",
            "\n",
            "Headline:  ডোনাল্ড ট্রাম্পের নতুন 'কমিউনিকেশন' ওয়েবসাইট চালু\n",
            "Time:  ৮ ঘন্টা আগে\n",
            "\n",
            "\n",
            "Headline:  মোদীর আসন বারাণসী করোনায় বিপর্যস্ত, ক্ষোভে ফুঁসছে মানুষ\n",
            "Time:  ৪ মে ২০২১\n",
            "\n",
            "\n",
            "Headline:  যে আইনি প্রক্রিয়ায় খালেদা জিয়াকে চিকিৎসার জন্য বিদেশে নেয়া সম্ভব\n",
            "Time:  ৪ মে ২০২১\n",
            "\n",
            "\n",
            "Headline:  ব্রিটেনের কিছু মসজিদ কেন রমজানে নারীদের জন্য বন্ধ\n",
            "Time:  ৪ মে ২০২১\n",
            "\n",
            "\n",
            "Headline:  'উস্কানিমূলক' টুইটের কারণে কঙ্গনা রানাওয়াতের অ্যাকাউন্ট স্থগিত\n",
            "Time:  ৪ মে ২০২১\n",
            "\n",
            "\n",
            "Headline:  ভিডিও, ইরাক, আফগানিস্তানে যুদ্ধের জন্য দুঃখিত যে মার্কিন ফটোগ্রাফার, স্থিতিকাল 2,56\n",
            "Time:  ৩০ এপ্রিল ২০২১\n",
            "\n",
            "\n",
            "Headline:  ভিডিও, 'সবাই পরিবারের সাথে ইফতার করে, আমাদের সেটা কখনো হয় না', স্থিতিকাল 3,01\n",
            "Time:  ২৯ এপ্রিল ২০২১\n",
            "\n",
            "\n",
            "Headline:  ভিডিও, অক্সিজেনের জন্য হন্যে হয়ে ঘুরছেন দিল্লির বাসিন্দারা, স্থিতিকাল 3,50\n",
            "Time:  ২৮ এপ্রিল ২০২১\n",
            "\n",
            "\n",
            "Headline:  ভিডিও, ইন্দোনেশিয়ার ডুবে যাওয়া সাবমেরিন সম্পর্কে যা জানা যাচ্ছে, স্থিতিকাল 1,38\n",
            "Time:  ২৫ এপ্রিল ২০২১\n",
            "\n",
            "\n",
            "Headline:  ভিডিও, ছেলে, মেয়ে সবার ট্রেইনার নারী বডিবিল্ডিং চ্যাম্পিয়ন মাকসুদা মৌ, স্থিতিকাল 2,51\n",
            "Time:  ২২ এপ্রিল ২০২১\n",
            "\n",
            "\n",
            "Headline:  ভিডিও, চার দশকে কীভাবে বদলে গেছে পৃথিবী, স্থিতিকাল 1,00\n",
            "Time:  ২০ এপ্রিল ২০২১\n",
            "\n",
            "\n",
            "Headline:  সুন্দরবনের আগুনের সর্বশেষ কী অবস্থা, আগুন কীভাবে লাগলো?\n",
            "Time:  ৪ মে ২০২১\n",
            "\n",
            "\n",
            "Headline:  পশ্চিমবঙ্গে নির্বাচন পরবর্তী সহিংসতায় অন্তত ১০ জনের মৃত্যু\n",
            "Time:  ৪ মে ২০২১\n",
            "\n",
            "\n",
            "Headline:  পশু চিকিৎসায় কাজ করে স্বীকৃতি পেলেন যে বাংলাদেশি বিজ্ঞানী\n",
            "Time:  ৩ মে ২০২১\n",
            "\n",
            "\n",
            "Headline:  বিয়ের ২৭ বছর পর বিল ও মেলিন্ডা গেটসের বিচ্ছেদের ঘোষণা\n",
            "Time:  ৪ মে ২০২১\n",
            "\n",
            "\n",
            "Headline:  পশ্চিমবঙ্গের নির্বাচনে কীভাবে 'খেলা' জিতলেন মমতা ব্যানার্জী\n",
            "Time:  ৪ মে ২০২১\n",
            "\n",
            "\n",
            "Headline:  পশ্চিমবঙ্গে বিরোধী হিসেবে বিজেপি এখন কোন চেহারায় ধরা দেবে?\n",
            "Time:  ৪ মে ২০২১\n",
            "\n",
            "\n",
            "Headline:  আপনার শিশু যৌন নির্যাতনের শিকার হচ্ছে কি না কীভাবে বুঝবেন\n",
            "Time:  ৪ মে ২০২১\n",
            "\n",
            "\n",
            "Headline:  আহত সৈন্যদের ভাড়াটে যৌনসঙ্গী হিসেবে কাজ করেন যে নারীরা\n",
            "Time:  ৪ মে ২০২১\n",
            "\n",
            "\n",
            "Headline:  মার্কিন নির্বাচন ২০২০\n",
            "Time:  ২৭ জানুয়ারি ২০২১\n",
            "\n",
            "\n",
            "Headline:  তিরিশে ফিনিশ?\n",
            "Time:  ৩ ডিসেম্বর ২০১৯\n",
            "\n",
            "\n",
            "Headline:  ভিডিও, শেখ হাসিনার সাক্ষাৎকার, স্থিতিকাল 22,52\n",
            "Time:  ৬ অগাস্ট ২০১৯\n",
            "\n",
            "\n",
            "Headline:  বিবিসি লাইভ!\n",
            "Time:  ৫ জানুয়ারি ২০১৭\n",
            "\n",
            "\n",
            "Headline:  জঙ্গল থেকে জীবনে\n",
            "Time:  ২৪ সেপ্টেম্বর ২০১৭\n",
            "\n",
            "\n",
            "Headline:  ক্রিকেট বিশ্বকাপ\n",
            "Time:  ১৯ মে ২০১৯\n",
            "\n",
            "\n",
            "Headline:  রাশিয়ায় ফুটবল উৎসব\n",
            "Time:  ২৫ জুন ২০১৮\n",
            "\n",
            "\n",
            "Headline:  সংসদ নির্বাচন ২০১৮\n",
            "Time:  ২০ ডিসেম্বর ২০১৮\n",
            "\n",
            "\n"
          ],
          "name": "stdout"
        }
      ]
    }
  ]
}