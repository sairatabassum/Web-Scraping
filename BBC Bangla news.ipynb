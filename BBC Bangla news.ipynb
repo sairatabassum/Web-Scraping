{
  "nbformat": 4,
  "nbformat_minor": 0,
  "metadata": {
    "kernelspec": {
      "display_name": "Python 3",
      "language": "python",
      "name": "python3"
    },
    "language_info": {
      "codemirror_mode": {
        "name": "ipython",
        "version": 3
      },
      "file_extension": ".py",
      "mimetype": "text/x-python",
      "name": "python",
      "nbconvert_exporter": "python",
      "pygments_lexer": "ipython3",
      "version": "3.8.3"
    },
    "colab": {
      "name": "BBC Bangla news.ipynb",
      "provenance": [],
      "include_colab_link": true
    }
  },
  "cells": [
    {
      "cell_type": "markdown",
      "metadata": {
        "id": "view-in-github",
        "colab_type": "text"
      },
      "source": [
        "<a href=\"https://colab.research.google.com/github/sairatabassum/Web-Scraping/blob/main/BBC%20Bangla%20news.ipynb\" target=\"_parent\"><img src=\"https://colab.research.google.com/assets/colab-badge.svg\" alt=\"Open In Colab\"/></a>"
      ]
    },
    {
      "cell_type": "markdown",
      "metadata": {
        "id": "ZBDGLgumPC3a"
      },
      "source": [
        "# BBC Bangla Headlines with time"
      ]
    },
    {
      "cell_type": "code",
      "metadata": {
        "id": "PhPWbP5YPC3p"
      },
      "source": [
        "import requests\n",
        "from bs4 import BeautifulSoup"
      ],
      "execution_count": 1,
      "outputs": []
    },
    {
      "cell_type": "code",
      "metadata": {
        "colab": {
          "base_uri": "https://localhost:8080/"
        },
        "id": "aN01eCd0PC3r",
        "outputId": "cd240ba5-d7a3-4fa5-b133-874622fcf019"
      },
      "source": [
        "url=\"https://www.bbc.com/bengali\"\n",
        "r = requests.get(url)\n",
        "soup = BeautifulSoup(r.content,'html.parser')\n",
        "\n",
        "print(r)"
      ],
      "execution_count": 2,
      "outputs": [
        {
          "output_type": "stream",
          "text": [
            "<Response [200]>\n"
          ],
          "name": "stdout"
        }
      ]
    },
    {
      "cell_type": "code",
      "metadata": {
        "id": "YH4FuUgQPC3w"
      },
      "source": [
        "soup = BeautifulSoup(r.content,'html.parser')\n",
        "\n",
        "res=soup.find_all('div',{\"class\":\"bbc-1sk5sm2 e19k1v2h0\"})\n",
        "res1=soup.find('div',{\"class\":\"bbc-14gzkm2 e19k1v2h0\"})\n",
        "\n",
        "\n",
        "heading=[]\n",
        "time=[]\n",
        "\n",
        "\n",
        "Heading=res1.find('h3')\n",
        "Time=res1.find('time')\n",
        "\n",
        "heading.append(Heading.text.strip())\n",
        "\n",
        "if Time ==None:\n",
        "    time.append(None)\n",
        "else:\n",
        "    time.append(Time.text.strip())\n",
        "\n",
        "\n",
        "for i in res:\n",
        "    \n",
        "    if i.find('h3'):\n",
        "        for y in i.find('h3'):\n",
        "            heading.append(y.text.strip())\n",
        "            \n",
        "    if i.find('time'):\n",
        "        for z in i.find('time'):\n",
        "            time.append(z)\n",
        "            \n",
        "    else:\n",
        "        time.append(None)\n",
        "    \n",
        "\n",
        "\n",
        "\n"
      ],
      "execution_count": 3,
      "outputs": []
    },
    {
      "cell_type": "code",
      "metadata": {
        "colab": {
          "base_uri": "https://localhost:8080/"
        },
        "id": "Z3fvZv8OPC3y",
        "outputId": "b1fb23df-4bbb-4b8e-85a2-49a5a6bcc3bd"
      },
      "source": [
        "heading_length= len(heading)\n",
        "time_length= len(time)\n",
        "\n",
        "total= heading_length + time_length\n",
        "\n",
        "print(heading_length)    \n",
        "print(time_length)"
      ],
      "execution_count": 4,
      "outputs": [
        {
          "output_type": "stream",
          "text": [
            "31\n",
            "31\n"
          ],
          "name": "stdout"
        }
      ]
    },
    {
      "cell_type": "code",
      "metadata": {
        "colab": {
          "base_uri": "https://localhost:8080/"
        },
        "id": "sRvrdpzUPC3z",
        "outputId": "c4f22919-dacf-45a5-a435-2e8e79022f01"
      },
      "source": [
        "ind=0;key=0\n",
        "\n",
        "for i in range(total):\n",
        "    \n",
        "    if i%2 ==0:\n",
        "        print(\"Headline: \",heading[ind])\n",
        "        ind+=1\n",
        "    else:\n",
        "        print(\"Time: \",time[key])\n",
        "        key+=1\n",
        "        print('\\n')"
      ],
      "execution_count": 5,
      "outputs": [
        {
          "output_type": "stream",
          "text": [
            "Headline:  ভারতবর্ষে এ বড় কঠিন সময়, এ বড় দুঃখের সময়\n",
            "Time:  এক ঘন্টা আগে\n",
            "\n",
            "\n",
            "Headline:  খালেদা জিয়ার সবশেষ অবস্থা সম্পর্কে যা বললেন চিকিৎসক\n",
            "Time:  ২ ঘন্টা আগে\n",
            "\n",
            "\n",
            "Headline:  যে রহস্যময় রোগটি ধাঁধাঁয় ফেলে দিয়েছে কানাডার ডাক্তারদের\n",
            "Time:  এক ঘন্টা আগে\n",
            "\n",
            "\n",
            "Headline:  কোভিড থেকে সেরে ওঠার পরও যেসব জটিলতা থেকে যায়\n",
            "Time:  ৩ ঘন্টা আগে\n",
            "\n",
            "\n",
            "Headline:  করোনা-পরবর্তী 'ব্ল্যাক ফাঙ্গাস ইনফেকশন' সম্পর্কে যা জানা প্রয়োজন\n",
            "Time:  ৫ ঘন্টা আগে\n",
            "\n",
            "\n",
            "Headline:  খালেদা জিয়ার বিদেশে যাওয়ার ক্ষেত্রে আরও যেসব জটিলতা রয়েছে\n",
            "Time:  ৬ ঘন্টা আগে\n",
            "\n",
            "\n",
            "Headline:  মালিতে এক নারীর একসাথে নয়টি সন্তান প্রসবের বিরল ঘটনা\n",
            "Time:  ৬ মে ২০২১\n",
            "\n",
            "\n",
            "Headline:  চীনা রকেটের ধ্বংসাবশেষ ধেয়ে আসছে পৃথিবীর দিকে\n",
            "Time:  ৭ মে ২০২১\n",
            "\n",
            "\n",
            "Headline:  'মহামারি পূর্ব দিকে এগোচ্ছে', ভারতের স্বাস্থ্য মন্ত্রণালয়ের সতর্কবার্তা\n",
            "Time:  ৬ মে ২০২১\n",
            "\n",
            "\n",
            "Headline:  ভিডিও, নয়া দামান গানটি নিয়ে হঠাৎ বিতর্ক কেন?, স্থিতিকাল 4,19\n",
            "Time:  ৬ মে ২০২১\n",
            "\n",
            "\n",
            "Headline:  ভিডিও, দিল্লিতে সংক্রমণ বেড়ে যাবার জন্য নতুন ভ্যারিয়েন্ট কতটা দায়ী?, স্থিতিকাল 2,16\n",
            "Time:  ৬ মে ২০২১\n",
            "\n",
            "\n",
            "Headline:  ভিডিও, ঢাকা মেডিকেলের ডাক্তারদের ভাইরাল নাচের পেছনের গল্প, স্থিতিকাল 3,51\n",
            "Time:  ৬ মে ২০২১\n",
            "\n",
            "\n",
            "Headline:  ভিডিও, সোহরাওয়ার্দী উদ্যানে গাছ কেটে 'সৌন্দর্য বৃদ্ধি' নিয়ে যা জানা যাচ্ছে, স্থিতিকাল 3,31\n",
            "Time:  ৬ মে ২০২১\n",
            "\n",
            "\n",
            "Headline:  ভিডিও, বুয়েটে তৈরি 'অক্সিজেট' যেভাবে সস্তায় হাই-ফ্লো অক্সিজেন জোগাবে, স্থিতিকাল 4,20\n",
            "Time:  ৪ মে ২০২১\n",
            "\n",
            "\n",
            "Headline:  ভিডিও, ইরাক, আফগানিস্তানে যুদ্ধের জন্য দুঃখিত যে মার্কিন ফটোগ্রাফার, স্থিতিকাল 2,56\n",
            "Time:  ৩০ এপ্রিল ২০২১\n",
            "\n",
            "\n",
            "Headline:  করোনাভাইরাসে মৃত্যুর সংখ্যা আরও কমে ২৪ ঘণ্টায় ৩৭, নতুন শনাক্ত ১৬৮২\n",
            "Time:  ৬ ঘন্টা আগে\n",
            "\n",
            "\n",
            "Headline:  লণ্ডনের মেয়ে মায়রা জুলফিকার কীভাবে লাহোরে খুন হলেন\n",
            "Time:  ৬ মে ২০২১\n",
            "\n",
            "\n",
            "Headline:  খালেদা জিয়াকে বিদেশে নেয়ার বিষয়ে সরকারের সিদ্ধান্ত আজ হচ্ছে না\n",
            "Time:  ৬ মে ২০২১\n",
            "\n",
            "\n",
            "Headline:  খালেদা জিয়ার অবস্থা সম্পর্কে সর্বশেষ যা জানা যাচ্ছে\n",
            "Time:  ৬ মে ২০২১\n",
            "\n",
            "\n",
            "Headline:  এক মাসেরও বেশি সময় পর করোনাভাইরাসে মৃত্যুর সংখ্যা ৫০ এর নিচে\n",
            "Time:  ৬ মে ২০২১\n",
            "\n",
            "\n",
            "Headline:  বিধি-নিষেধ উপেক্ষা করে বাংলাদেশের হোটেল-রিসোর্টে ঈদ প্যাকেজ\n",
            "Time:  ৬ মে ২০২১\n",
            "\n",
            "\n",
            "Headline:  যুক্তরাষ্ট্রের কাছে অ্যাস্ট্রাজেনেকার টিকা চেয়েছে বাংলাদেশ\n",
            "Time:  ৬ মে ২০২১\n",
            "\n",
            "\n",
            "Headline:  'ডাবল মিউট্যান্ট' ধরনের কারণে করোনার ভয়ঙ্কর দ্বিতীয় ঢেউ ভারতে\n",
            "Time:  ৬ মে ২০২১\n",
            "\n",
            "\n",
            "Headline:  মার্কিন নির্বাচন ২০২০\n",
            "Time:  ২৭ জানুয়ারি ২০২১\n",
            "\n",
            "\n",
            "Headline:  তিরিশে ফিনিশ?\n",
            "Time:  ৩ ডিসেম্বর ২০১৯\n",
            "\n",
            "\n",
            "Headline:  ভিডিও, শেখ হাসিনার সাক্ষাৎকার, স্থিতিকাল 22,52\n",
            "Time:  ৬ অগাস্ট ২০১৯\n",
            "\n",
            "\n",
            "Headline:  বিবিসি লাইভ!\n",
            "Time:  ৫ জানুয়ারি ২০১৭\n",
            "\n",
            "\n",
            "Headline:  জঙ্গল থেকে জীবনে\n",
            "Time:  ২৪ সেপ্টেম্বর ২০১৭\n",
            "\n",
            "\n",
            "Headline:  ক্রিকেট বিশ্বকাপ\n",
            "Time:  ১৯ মে ২০১৯\n",
            "\n",
            "\n",
            "Headline:  রাশিয়ায় ফুটবল উৎসব\n",
            "Time:  ২৫ জুন ২০১৮\n",
            "\n",
            "\n",
            "Headline:  সংসদ নির্বাচন ২০১৮\n",
            "Time:  ২০ ডিসেম্বর ২০১৮\n",
            "\n",
            "\n"
          ],
          "name": "stdout"
        }
      ]
    }
  ]
}