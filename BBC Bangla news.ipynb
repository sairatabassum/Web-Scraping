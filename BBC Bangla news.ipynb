{
  "nbformat": 4,
  "nbformat_minor": 0,
  "metadata": {
    "kernelspec": {
      "display_name": "Python 3",
      "language": "python",
      "name": "python3"
    },
    "language_info": {
      "codemirror_mode": {
        "name": "ipython",
        "version": 3
      },
      "file_extension": ".py",
      "mimetype": "text/x-python",
      "name": "python",
      "nbconvert_exporter": "python",
      "pygments_lexer": "ipython3",
      "version": "3.8.3"
    },
    "colab": {
      "name": "BBC Bangla news.ipynb",
      "provenance": [],
      "include_colab_link": true
    }
  },
  "cells": [
    {
      "cell_type": "markdown",
      "metadata": {
        "id": "view-in-github",
        "colab_type": "text"
      },
      "source": [
        "<a href=\"https://colab.research.google.com/github/sairatabassum/Web-Scraping/blob/main/BBC%20Bangla%20news.ipynb\" target=\"_parent\"><img src=\"https://colab.research.google.com/assets/colab-badge.svg\" alt=\"Open In Colab\"/></a>"
      ]
    },
    {
      "cell_type": "markdown",
      "metadata": {
        "id": "ZBDGLgumPC3a"
      },
      "source": [
        "# BBC Bangla Headlines with time"
      ]
    },
    {
      "cell_type": "code",
      "metadata": {
        "id": "PhPWbP5YPC3p"
      },
      "source": [
        "import requests\n",
        "from bs4 import BeautifulSoup"
      ],
      "execution_count": 1,
      "outputs": []
    },
    {
      "cell_type": "code",
      "metadata": {
        "colab": {
          "base_uri": "https://localhost:8080/"
        },
        "id": "aN01eCd0PC3r",
        "outputId": "883df0ae-1ac1-49c2-e33a-4b189190f367"
      },
      "source": [
        "url=\"https://www.bbc.com/bengali\"\n",
        "r = requests.get(url)\n",
        "soup = BeautifulSoup(r.content,'html.parser')\n",
        "\n",
        "print(r)"
      ],
      "execution_count": 2,
      "outputs": [
        {
          "output_type": "stream",
          "text": [
            "<Response [200]>\n"
          ],
          "name": "stdout"
        }
      ]
    },
    {
      "cell_type": "code",
      "metadata": {
        "id": "YH4FuUgQPC3w"
      },
      "source": [
        "soup = BeautifulSoup(r.content,'html.parser')\n",
        "\n",
        "res=soup.find_all('div',{\"class\":\"bbc-1sk5sm2 e19k1v2h0\"})\n",
        "res1=soup.find('div',{\"class\":\"bbc-14gzkm2 e19k1v2h0\"})\n",
        "\n",
        "\n",
        "heading=[]\n",
        "time=[]\n",
        "\n",
        "\n",
        "Heading=res1.find('h3')\n",
        "Time=res1.find('time')\n",
        "\n",
        "heading.append(Heading.text.strip())\n",
        "\n",
        "if Time ==None:\n",
        "    time.append(None)\n",
        "else:\n",
        "    time.append(Time.text.strip())\n",
        "\n",
        "\n",
        "for i in res:\n",
        "    \n",
        "    if i.find('h3'):\n",
        "        for y in i.find('h3'):\n",
        "            heading.append(y.text.strip())\n",
        "            \n",
        "    if i.find('time'):\n",
        "        for z in i.find('time'):\n",
        "            time.append(z)\n",
        "            \n",
        "    else:\n",
        "        time.append(None)\n",
        "    \n",
        "\n",
        "\n",
        "\n"
      ],
      "execution_count": 3,
      "outputs": []
    },
    {
      "cell_type": "code",
      "metadata": {
        "colab": {
          "base_uri": "https://localhost:8080/"
        },
        "id": "Z3fvZv8OPC3y",
        "outputId": "62d0b09d-9724-4c64-ada7-711c72b80ac2"
      },
      "source": [
        "heading_length= len(heading)\n",
        "time_length= len(time)\n",
        "\n",
        "total= heading_length + time_length\n",
        "\n",
        "print(heading_length)    \n",
        "print(time_length)"
      ],
      "execution_count": 4,
      "outputs": [
        {
          "output_type": "stream",
          "text": [
            "31\n",
            "31\n"
          ],
          "name": "stdout"
        }
      ]
    },
    {
      "cell_type": "code",
      "metadata": {
        "colab": {
          "base_uri": "https://localhost:8080/"
        },
        "id": "sRvrdpzUPC3z",
        "outputId": "58bc86b4-8a4e-48eb-99f8-017bd9f50162"
      },
      "source": [
        "ind=0;key=0\n",
        "\n",
        "for i in range(total):\n",
        "    \n",
        "    if i%2 ==0:\n",
        "        print(\"Headline: \",heading[ind])\n",
        "        ind+=1\n",
        "    else:\n",
        "        print(\"Time: \",time[key])\n",
        "        key+=1\n",
        "        print('\\n')"
      ],
      "execution_count": 5,
      "outputs": [
        {
          "output_type": "stream",
          "text": [
            "Headline:  লাইভ আগাম উদযাপন তৃণমূল শিবিরে, নিজের আসনে হারছেন মমতা\n",
            "Time:  None\n",
            "\n",
            "\n",
            "Headline:  পশ্চিমবঙ্গ রাজ্য নির্বাচনে তৃণমূলের জয়ের আভাস\n",
            "Time:  ৭ ঘন্টা আগে\n",
            "\n",
            "\n",
            "Headline:  চব্বিশ ঘণ্টায় করোনায় মৃত্যু বেড়েছে, কমেছে নমুনা পরীক্ষা\n",
            "Time:  ৫ ঘন্টা আগে\n",
            "\n",
            "\n",
            "Headline:  ভিক্ষার জন্য অপহরণ: যেভাবে উদ্ধার হল দুই বছরের শিশু\n",
            "Time:  এক ঘন্টা আগে\n",
            "\n",
            "\n",
            "Headline:  পশ্চিমবঙ্গ রাজ্য নির্বাচনের ফল প্রকাশের পর যা যা বদলাতে পারে\n",
            "Time:  ২ মে ২০২১\n",
            "\n",
            "\n",
            "Headline:  আফগানিস্তান থেকে সৈন্য সরিয়ে নিতে শুরু করেছে আমেরিকা\n",
            "Time:  ২ মে ২০২১\n",
            "\n",
            "\n",
            "Headline:  জনপ্রিয় খাবার না হলেও কেন বাংলাদেশে হাঙ্গর ধরা হয়?\n",
            "Time:  ১ মে ২০২১\n",
            "\n",
            "\n",
            "Headline:  ভারতীয় চলচ্চিত্রে যৌন দৃশ্যের নির্দেশনা দেন যিনি\n",
            "Time:  ১ মে ২০২১\n",
            "\n",
            "\n",
            "Headline:  একদিনে মৃত্যু ৬০ জনের, নতুন শনাক্ত হলো আরও ১৪৫২ জন\n",
            "Time:  ১ মে ২০২১\n",
            "\n",
            "\n",
            "Headline:  ভিডিও, 'সবাই পরিবারের সাথে ইফতার করে, আমাদের সেটা কখনো হয় না', স্থিতিকাল 3,01\n",
            "Time:  ২৯ এপ্রিল ২০২১\n",
            "\n",
            "\n",
            "Headline:  ভিডিও, অক্সিজেনের জন্য হন্যে হয়ে ঘুরছেন দিল্লির বাসিন্দারা, স্থিতিকাল 3,50\n",
            "Time:  ২৮ এপ্রিল ২০২১\n",
            "\n",
            "\n",
            "Headline:  ভিডিও, ইন্দোনেশিয়ার ডুবে যাওয়া সাবমেরিন সম্পর্কে যা জানা যাচ্ছে, স্থিতিকাল 1,38\n",
            "Time:  ২৫ এপ্রিল ২০২১\n",
            "\n",
            "\n",
            "Headline:  ভিডিও, ছেলে, মেয়ে সবার ট্রেইনার নারী বডিবিল্ডিং চ্যাম্পিয়ন মাকসুদা মৌ, স্থিতিকাল 2,51\n",
            "Time:  ২২ এপ্রিল ২০২১\n",
            "\n",
            "\n",
            "Headline:  ভিডিও, চার দশকে কীভাবে বদলে গেছে পৃথিবী, স্থিতিকাল 1,00\n",
            "Time:  ২০ এপ্রিল ২০২১\n",
            "\n",
            "\n",
            "Headline:  ভিডিও, 'রাজ্জাকের সাথে অভিনয়ের সময় রোমাঞ্চ অনুভব করতাম'- কবরী, স্থিতিকাল 2,16\n",
            "Time:  ১৭ এপ্রিল ২০২১\n",
            "\n",
            "\n",
            "Headline:  ভারতে দুটি হাসপাতালে অগ্নিকাণ্ড ও অক্সিজেন সংকটে ২৬ জন নিহত\n",
            "Time:  ১ মে ২০২১\n",
            "\n",
            "\n",
            "Headline:  আন্তর্জাতিক রুটে বিমান চলাচল শুরু, যেসব দেশে চলাচল করা যাবে\n",
            "Time:  ১ মে ২০২১\n",
            "\n",
            "\n",
            "Headline:  যে কারণে বিক্ষোভের ঘোষণা দিল পরিবহন শ্রমিকেরা\n",
            "Time:  ১ মে ২০২১\n",
            "\n",
            "\n",
            "Headline:  হেফাজতে ইসলাম আসলে কারা? এর উৎস কোথায়?\n",
            "Time:  ১ মে ২০২১\n",
            "\n",
            "\n",
            "Headline:  ভারত থেকে অস্ট্রেলিয়ায় ফিরলে ভোগ করতে হতে পারে কারাদণ্ড\n",
            "Time:  ১ মে ২০২১\n",
            "\n",
            "\n",
            "Headline:  অক্সিজেনের অভাব মেটাতে যেসব ঝুঁকিপূর্ণ পরামর্শ ছড়ানো হচ্ছে\n",
            "Time:  ৩০ এপ্রিল ২০২১\n",
            "\n",
            "\n",
            "Headline:  লকডাউন থেকে বেরিয়ে আসতে বিশেষজ্ঞদের ১০টি সুপারিশ\n",
            "Time:  ৩০ এপ্রিল ২০২১\n",
            "\n",
            "\n",
            "Headline:  বাংলাদেশ এবার ইউরোপ আমেরিকা থেকে টিকা আনতে চাইছে\n",
            "Time:  ৩০ এপ্রিল ২০২১\n",
            "\n",
            "\n",
            "Headline:  মার্কিন নির্বাচন ২০২০\n",
            "Time:  ২৭ জানুয়ারি ২০২১\n",
            "\n",
            "\n",
            "Headline:  তিরিশে ফিনিশ?\n",
            "Time:  ৩ ডিসেম্বর ২০১৯\n",
            "\n",
            "\n",
            "Headline:  ভিডিও, শেখ হাসিনার সাক্ষাৎকার, স্থিতিকাল 22,52\n",
            "Time:  ৬ অগাস্ট ২০১৯\n",
            "\n",
            "\n",
            "Headline:  বিবিসি লাইভ!\n",
            "Time:  ৫ জানুয়ারি ২০১৭\n",
            "\n",
            "\n",
            "Headline:  জঙ্গল থেকে জীবনে\n",
            "Time:  ২৪ সেপ্টেম্বর ২০১৭\n",
            "\n",
            "\n",
            "Headline:  ক্রিকেট বিশ্বকাপ\n",
            "Time:  ১৯ মে ২০১৯\n",
            "\n",
            "\n",
            "Headline:  রাশিয়ায় ফুটবল উৎসব\n",
            "Time:  ২৫ জুন ২০১৮\n",
            "\n",
            "\n",
            "Headline:  সংসদ নির্বাচন ২০১৮\n",
            "Time:  ২০ ডিসেম্বর ২০১৮\n",
            "\n",
            "\n"
          ],
          "name": "stdout"
        }
      ]
    }
  ]
}